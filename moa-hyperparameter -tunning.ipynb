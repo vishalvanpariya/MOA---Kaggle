{
 "cells": [
  {
   "cell_type": "code",
   "execution_count": 1,
   "metadata": {
    "execution": {
     "iopub.execute_input": "2020-11-25T17:00:02.399857Z",
     "iopub.status.busy": "2020-11-25T17:00:02.399015Z",
     "iopub.status.idle": "2020-11-25T17:00:10.198981Z",
     "shell.execute_reply": "2020-11-25T17:00:10.198143Z"
    },
    "papermill": {
     "duration": 7.838541,
     "end_time": "2020-11-25T17:00:10.199155",
     "exception": false,
     "start_time": "2020-11-25T17:00:02.360614",
     "status": "completed"
    },
    "tags": []
   },
   "outputs": [],
   "source": [
    "import os\n",
    "import copy\n",
    "import tqdm\n",
    "import pickle\n",
    "import random\n",
    "import warnings\n",
    "warnings.filterwarnings(\"ignore\")\n",
    "os.environ[\"CUDA_LAUNCH_BLOCKING\"] = '1'\n",
    "\n",
    "### Data Wrangling ###\n",
    "import numpy as np\n",
    "import pandas as pd\n",
    "from scipy import stats\n",
    "\n",
    "### Machine Learning ###\n",
    "from sklearn import preprocessing\n",
    "from sklearn.metrics import roc_auc_score, log_loss\n",
    "from sklearn.preprocessing import StandardScaler\n",
    "from sklearn.feature_selection import VarianceThreshold, SelectKBest\n",
    "from sklearn.decomposition import PCA\n",
    "from sklearn.preprocessing import QuantileTransformer\n",
    "\n",
    "\n",
    "\n",
    "from pickle import load,dump\n",
    "\n",
    "### Make prettier the prints ###\n",
    "from colorama import Fore\n",
    "c_ = Fore.CYAN\n",
    "m_ = Fore.MAGENTA\n",
    "r_ = Fore.RED\n",
    "b_ = Fore.BLUE\n",
    "y_ = Fore.YELLOW\n",
    "g_ = Fore.GREEN\n",
    "\n",
    "import tensorflow as tf\n",
    "import tensorflow_addons as tfa"
   ]
  },
  {
   "cell_type": "code",
   "execution_count": 2,
   "metadata": {
    "_cell_guid": "79c7e3d0-c299-4dcb-8224-4455121ee9b0",
    "_uuid": "d629ff2d2480ee46fbb7e2d37f6b5fab8052498a",
    "execution": {
     "iopub.execute_input": "2020-11-25T17:00:10.254060Z",
     "iopub.status.busy": "2020-11-25T17:00:10.251796Z",
     "iopub.status.idle": "2020-11-25T17:00:10.264444Z",
     "shell.execute_reply": "2020-11-25T17:00:10.263835Z"
    },
    "papermill": {
     "duration": 0.041389,
     "end_time": "2020-11-25T17:00:10.264621",
     "exception": false,
     "start_time": "2020-11-25T17:00:10.223232",
     "status": "completed"
    },
    "tags": []
   },
   "outputs": [],
   "source": [
    "import pandas as pd\n",
    "import numpy as np\n",
    "import time\n",
    "import sys\n",
    "sys.path.append('../input/iterative-stratification/iterative-stratification-master')\n",
    "from iterstrat.ml_stratifiers import MultilabelStratifiedKFold"
   ]
  },
  {
   "cell_type": "code",
   "execution_count": 3,
   "metadata": {
    "execution": {
     "iopub.execute_input": "2020-11-25T17:00:10.319660Z",
     "iopub.status.busy": "2020-11-25T17:00:10.318273Z",
     "iopub.status.idle": "2020-11-25T17:00:17.640332Z",
     "shell.execute_reply": "2020-11-25T17:00:17.639520Z"
    },
    "papermill": {
     "duration": 7.352553,
     "end_time": "2020-11-25T17:00:17.640470",
     "exception": false,
     "start_time": "2020-11-25T17:00:10.287917",
     "status": "completed"
    },
    "tags": []
   },
   "outputs": [],
   "source": [
    "train_features = pd.read_csv('../input/lish-moa/train_features.csv')\n",
    "train_targets_scored = pd.read_csv('../input/lish-moa/train_targets_scored.csv')\n",
    "train_targets_nonscored = pd.read_csv('../input/lish-moa/train_targets_nonscored.csv')\n",
    "y_train_non = train_targets_nonscored.copy()\n",
    "\n",
    "test_features = pd.read_csv('../input/lish-moa/test_features.csv')\n",
    "sample_submission = pd.read_csv('../input/lish-moa/sample_submission.csv')"
   ]
  },
  {
   "cell_type": "code",
   "execution_count": 4,
   "metadata": {
    "execution": {
     "iopub.execute_input": "2020-11-25T17:00:17.693968Z",
     "iopub.status.busy": "2020-11-25T17:00:17.693085Z",
     "iopub.status.idle": "2020-11-25T17:00:17.697864Z",
     "shell.execute_reply": "2020-11-25T17:00:17.696969Z"
    },
    "papermill": {
     "duration": 0.034165,
     "end_time": "2020-11-25T17:00:17.697995",
     "exception": false,
     "start_time": "2020-11-25T17:00:17.663830",
     "status": "completed"
    },
    "tags": []
   },
   "outputs": [
    {
     "name": "stdout",
     "output_type": "stream",
     "text": [
      "n_comp_GENES 463 n_comp_CELLS 60 total 523\n"
     ]
    }
   ],
   "source": [
    "n_comp_GENES = 463\n",
    "n_comp_CELLS = 60\n",
    "VarianceThreshold_for_FS = 0.9\n",
    "Dropout_Model = 0.25\n",
    "print('n_comp_GENES', n_comp_GENES, 'n_comp_CELLS', n_comp_CELLS, 'total', n_comp_GENES + n_comp_CELLS)"
   ]
  },
  {
   "cell_type": "code",
   "execution_count": 5,
   "metadata": {
    "execution": {
     "iopub.execute_input": "2020-11-25T17:00:17.753556Z",
     "iopub.status.busy": "2020-11-25T17:00:17.752462Z",
     "iopub.status.idle": "2020-11-25T17:00:17.756074Z",
     "shell.execute_reply": "2020-11-25T17:00:17.755366Z"
    },
    "papermill": {
     "duration": 0.034066,
     "end_time": "2020-11-25T17:00:17.756202",
     "exception": false,
     "start_time": "2020-11-25T17:00:17.722136",
     "status": "completed"
    },
    "tags": []
   },
   "outputs": [],
   "source": [
    "GENES = [col for col in train_features.columns if col.startswith('g-')]\n",
    "CELLS = [col for col in train_features.columns if col.startswith('c-')]"
   ]
  },
  {
   "cell_type": "code",
   "execution_count": 6,
   "metadata": {
    "execution": {
     "iopub.execute_input": "2020-11-25T17:00:17.819083Z",
     "iopub.status.busy": "2020-11-25T17:00:17.818228Z",
     "iopub.status.idle": "2020-11-25T17:00:28.173055Z",
     "shell.execute_reply": "2020-11-25T17:00:28.172242Z"
    },
    "papermill": {
     "duration": 10.392811,
     "end_time": "2020-11-25T17:00:28.173183",
     "exception": false,
     "start_time": "2020-11-25T17:00:17.780372",
     "status": "completed"
    },
    "tags": []
   },
   "outputs": [],
   "source": [
    "for col in (GENES + CELLS):    \n",
    "    transformer = QuantileTransformer(n_quantiles=100,random_state=0, output_distribution=\"normal\")   # from optimal commit 9\n",
    "    vec_len = len(train_features[col].values)\n",
    "    vec_len_test = len(test_features[col].values)\n",
    "    raw_vec = train_features[col].values.reshape(vec_len, 1)\n",
    "    transformer.fit(raw_vec)\n",
    "\n",
    "    train_features[col] = transformer.transform(raw_vec).reshape(1, vec_len)[0]\n",
    "    test_features[col] = transformer.transform(test_features[col].values.reshape(vec_len_test, 1)).reshape(1, vec_len_test)[0]"
   ]
  },
  {
   "cell_type": "code",
   "execution_count": 7,
   "metadata": {
    "execution": {
     "iopub.execute_input": "2020-11-25T17:00:28.229478Z",
     "iopub.status.busy": "2020-11-25T17:00:28.228693Z",
     "iopub.status.idle": "2020-11-25T17:00:28.231655Z",
     "shell.execute_reply": "2020-11-25T17:00:28.230876Z"
    },
    "papermill": {
     "duration": 0.033957,
     "end_time": "2020-11-25T17:00:28.231789",
     "exception": false,
     "start_time": "2020-11-25T17:00:28.197832",
     "status": "completed"
    },
    "tags": []
   },
   "outputs": [],
   "source": [
    "def seed_everything(seed=42):\n",
    "    random.seed(seed)\n",
    "    os.environ['PYTHONHASHSEED'] = str(seed)\n",
    "    np.random.seed(seed)\n",
    "    \n",
    "seed_everything(seed=42)"
   ]
  },
  {
   "cell_type": "code",
   "execution_count": 8,
   "metadata": {
    "execution": {
     "iopub.execute_input": "2020-11-25T17:00:28.297358Z",
     "iopub.status.busy": "2020-11-25T17:00:28.296018Z",
     "iopub.status.idle": "2020-11-25T17:00:35.236382Z",
     "shell.execute_reply": "2020-11-25T17:00:35.235727Z"
    },
    "papermill": {
     "duration": 6.980189,
     "end_time": "2020-11-25T17:00:35.236575",
     "exception": false,
     "start_time": "2020-11-25T17:00:28.256386",
     "status": "completed"
    },
    "tags": []
   },
   "outputs": [],
   "source": [
    "data = pd.concat([pd.DataFrame(train_features[GENES]), pd.DataFrame(test_features[GENES])])\n",
    "pca_g=PCA(n_components=n_comp_GENES, random_state=42)\n",
    "data2 = (pca_g.fit_transform(data[GENES]))\n",
    "train2 = data2[:train_features.shape[0]]; test2 = data2[-test_features.shape[0]:]\n",
    "\n",
    "train2 = pd.DataFrame(train2, columns=[f'pca_G-{i}' for i in range(n_comp_GENES)])\n",
    "test2 = pd.DataFrame(test2, columns=[f'pca_G-{i}' for i in range(n_comp_GENES)])\n",
    "\n",
    "train_features = pd.concat((train_features, train2), axis=1)\n",
    "test_features = pd.concat((test_features, test2), axis=1)"
   ]
  },
  {
   "cell_type": "code",
   "execution_count": 9,
   "metadata": {
    "execution": {
     "iopub.execute_input": "2020-11-25T17:00:35.298663Z",
     "iopub.status.busy": "2020-11-25T17:00:35.297850Z",
     "iopub.status.idle": "2020-11-25T17:00:36.036613Z",
     "shell.execute_reply": "2020-11-25T17:00:36.035773Z"
    },
    "papermill": {
     "duration": 0.775412,
     "end_time": "2020-11-25T17:00:36.036793",
     "exception": false,
     "start_time": "2020-11-25T17:00:35.261381",
     "status": "completed"
    },
    "tags": []
   },
   "outputs": [],
   "source": [
    "data = pd.concat([pd.DataFrame(train_features[CELLS]), pd.DataFrame(test_features[CELLS])])\n",
    "pca_c=PCA(n_components=n_comp_CELLS, random_state=42)\n",
    "data2 = (pca_c.fit_transform(data[CELLS]))\n",
    "train2 = data2[:train_features.shape[0]]; test2 = data2[-test_features.shape[0]:]\n",
    "\n",
    "train2 = pd.DataFrame(train2, columns=[f'pca_C-{i}' for i in range(n_comp_CELLS)])\n",
    "test2 = pd.DataFrame(test2, columns=[f'pca_C-{i}' for i in range(n_comp_CELLS)])\n",
    "\n",
    "train_features = pd.concat((train_features, train2), axis=1)\n",
    "test_features = pd.concat((test_features, test2), axis=1)"
   ]
  },
  {
   "cell_type": "code",
   "execution_count": 10,
   "metadata": {
    "execution": {
     "iopub.execute_input": "2020-11-25T17:00:36.095323Z",
     "iopub.status.busy": "2020-11-25T17:00:36.094439Z",
     "iopub.status.idle": "2020-11-25T17:00:36.412462Z",
     "shell.execute_reply": "2020-11-25T17:00:36.411693Z"
    },
    "papermill": {
     "duration": 0.347943,
     "end_time": "2020-11-25T17:00:36.412609",
     "exception": false,
     "start_time": "2020-11-25T17:00:36.064666",
     "status": "completed"
    },
    "tags": []
   },
   "outputs": [],
   "source": [
    "data = train_features.append(test_features)"
   ]
  },
  {
   "cell_type": "code",
   "execution_count": 11,
   "metadata": {
    "execution": {
     "iopub.execute_input": "2020-11-25T17:00:36.476737Z",
     "iopub.status.busy": "2020-11-25T17:00:36.475950Z",
     "iopub.status.idle": "2020-11-25T17:00:37.274605Z",
     "shell.execute_reply": "2020-11-25T17:00:37.273859Z"
    },
    "papermill": {
     "duration": 0.837235,
     "end_time": "2020-11-25T17:00:37.274730",
     "exception": false,
     "start_time": "2020-11-25T17:00:36.437495",
     "status": "completed"
    },
    "tags": []
   },
   "outputs": [
    {
     "data": {
      "text/plain": [
       "(23814, 1014)"
      ]
     },
     "execution_count": 11,
     "metadata": {},
     "output_type": "execute_result"
    }
   ],
   "source": [
    "var_thresh = VarianceThreshold(VarianceThreshold_for_FS)\n",
    "data = train_features.append(test_features)\n",
    "data_transformed = var_thresh.fit_transform(data.iloc[:, 4:])\n",
    "\n",
    "train_features_transformed = data_transformed[ : train_features.shape[0]]\n",
    "test_features_transformed = data_transformed[-test_features.shape[0] : ]\n",
    "\n",
    "\n",
    "train_features = pd.DataFrame(train_features[['sig_id','cp_type','cp_time','cp_dose']].values.reshape(-1, 4),\\\n",
    "                              columns=['sig_id','cp_type','cp_time','cp_dose'])\n",
    "\n",
    "train_features = pd.concat([train_features, pd.DataFrame(train_features_transformed)], axis=1)\n",
    "\n",
    "\n",
    "test_features = pd.DataFrame(test_features[['sig_id','cp_type','cp_time','cp_dose']].values.reshape(-1, 4),\\\n",
    "                             columns=['sig_id','cp_type','cp_time','cp_dose'])\n",
    "\n",
    "test_features = pd.concat([test_features, pd.DataFrame(test_features_transformed)], axis=1)\n",
    "\n",
    "train_features.shape"
   ]
  },
  {
   "cell_type": "code",
   "execution_count": 12,
   "metadata": {
    "execution": {
     "iopub.execute_input": "2020-11-25T17:00:37.334193Z",
     "iopub.status.busy": "2020-11-25T17:00:37.333350Z",
     "iopub.status.idle": "2020-11-25T17:00:37.675101Z",
     "shell.execute_reply": "2020-11-25T17:00:37.674399Z"
    },
    "papermill": {
     "duration": 0.374713,
     "end_time": "2020-11-25T17:00:37.675233",
     "exception": false,
     "start_time": "2020-11-25T17:00:37.300520",
     "status": "completed"
    },
    "tags": []
   },
   "outputs": [],
   "source": [
    "train = train_features.merge(train_targets_scored, on='sig_id')\n",
    "train = train[train['cp_type']!='ctl_vehicle'].reset_index(drop=True)\n",
    "test = test_features[test_features['cp_type']!='ctl_vehicle'].reset_index(drop=True)\n",
    "\n",
    "target = train[train_targets_scored.columns]"
   ]
  },
  {
   "cell_type": "code",
   "execution_count": 13,
   "metadata": {
    "execution": {
     "iopub.execute_input": "2020-11-25T17:00:37.802156Z",
     "iopub.status.busy": "2020-11-25T17:00:37.799435Z",
     "iopub.status.idle": "2020-11-25T17:00:37.816576Z",
     "shell.execute_reply": "2020-11-25T17:00:37.815757Z"
    },
    "papermill": {
     "duration": 0.11568,
     "end_time": "2020-11-25T17:00:37.816717",
     "exception": false,
     "start_time": "2020-11-25T17:00:37.701037",
     "status": "completed"
    },
    "tags": []
   },
   "outputs": [],
   "source": [
    "train = train.drop('cp_type', axis=1)\n",
    "test = test.drop('cp_type', axis=1)"
   ]
  },
  {
   "cell_type": "code",
   "execution_count": 14,
   "metadata": {
    "execution": {
     "iopub.execute_input": "2020-11-25T17:00:37.887351Z",
     "iopub.status.busy": "2020-11-25T17:00:37.886511Z",
     "iopub.status.idle": "2020-11-25T17:00:37.890865Z",
     "shell.execute_reply": "2020-11-25T17:00:37.890075Z"
    },
    "papermill": {
     "duration": 0.048344,
     "end_time": "2020-11-25T17:00:37.890997",
     "exception": false,
     "start_time": "2020-11-25T17:00:37.842653",
     "status": "completed"
    },
    "tags": []
   },
   "outputs": [],
   "source": [
    "target_cols = target.drop('sig_id', axis=1).columns.values.tolist()"
   ]
  },
  {
   "cell_type": "code",
   "execution_count": 15,
   "metadata": {
    "execution": {
     "iopub.execute_input": "2020-11-25T17:00:37.952052Z",
     "iopub.status.busy": "2020-11-25T17:00:37.951210Z",
     "iopub.status.idle": "2020-11-25T17:00:41.859202Z",
     "shell.execute_reply": "2020-11-25T17:00:41.858421Z"
    },
    "papermill": {
     "duration": 3.94228,
     "end_time": "2020-11-25T17:00:41.859347",
     "exception": false,
     "start_time": "2020-11-25T17:00:37.917067",
     "status": "completed"
    },
    "tags": []
   },
   "outputs": [
    {
     "data": {
      "text/html": [
       "<div>\n",
       "<style scoped>\n",
       "    .dataframe tbody tr th:only-of-type {\n",
       "        vertical-align: middle;\n",
       "    }\n",
       "\n",
       "    .dataframe tbody tr th {\n",
       "        vertical-align: top;\n",
       "    }\n",
       "\n",
       "    .dataframe thead th {\n",
       "        text-align: right;\n",
       "    }\n",
       "</style>\n",
       "<table border=\"1\" class=\"dataframe\">\n",
       "  <thead>\n",
       "    <tr style=\"text-align: right;\">\n",
       "      <th></th>\n",
       "      <th>sig_id</th>\n",
       "      <th>cp_time</th>\n",
       "      <th>cp_dose</th>\n",
       "      <th>0</th>\n",
       "      <th>1</th>\n",
       "      <th>2</th>\n",
       "      <th>3</th>\n",
       "      <th>4</th>\n",
       "      <th>5</th>\n",
       "      <th>6</th>\n",
       "      <th>...</th>\n",
       "      <th>trpv_agonist</th>\n",
       "      <th>trpv_antagonist</th>\n",
       "      <th>tubulin_inhibitor</th>\n",
       "      <th>tyrosine_kinase_inhibitor</th>\n",
       "      <th>ubiquitin_specific_protease_inhibitor</th>\n",
       "      <th>vegfr_inhibitor</th>\n",
       "      <th>vitamin_b</th>\n",
       "      <th>vitamin_d_receptor_agonist</th>\n",
       "      <th>wnt_inhibitor</th>\n",
       "      <th>kfold</th>\n",
       "    </tr>\n",
       "  </thead>\n",
       "  <tbody>\n",
       "    <tr>\n",
       "      <th>0</th>\n",
       "      <td>id_000644bb2</td>\n",
       "      <td>24</td>\n",
       "      <td>D1</td>\n",
       "      <td>1.134849</td>\n",
       "      <td>0.907687</td>\n",
       "      <td>-0.416385</td>\n",
       "      <td>-0.966814</td>\n",
       "      <td>-0.254723</td>\n",
       "      <td>-1.017473</td>\n",
       "      <td>-1.364787</td>\n",
       "      <td>...</td>\n",
       "      <td>0</td>\n",
       "      <td>0</td>\n",
       "      <td>0</td>\n",
       "      <td>0</td>\n",
       "      <td>0</td>\n",
       "      <td>0</td>\n",
       "      <td>0</td>\n",
       "      <td>0</td>\n",
       "      <td>0</td>\n",
       "      <td>5</td>\n",
       "    </tr>\n",
       "    <tr>\n",
       "      <th>1</th>\n",
       "      <td>id_000779bfc</td>\n",
       "      <td>72</td>\n",
       "      <td>D1</td>\n",
       "      <td>0.119282</td>\n",
       "      <td>0.681738</td>\n",
       "      <td>0.272399</td>\n",
       "      <td>0.080113</td>\n",
       "      <td>1.205169</td>\n",
       "      <td>0.686517</td>\n",
       "      <td>0.313396</td>\n",
       "      <td>...</td>\n",
       "      <td>0</td>\n",
       "      <td>0</td>\n",
       "      <td>0</td>\n",
       "      <td>0</td>\n",
       "      <td>0</td>\n",
       "      <td>0</td>\n",
       "      <td>0</td>\n",
       "      <td>0</td>\n",
       "      <td>0</td>\n",
       "      <td>0</td>\n",
       "    </tr>\n",
       "    <tr>\n",
       "      <th>2</th>\n",
       "      <td>id_000a6266a</td>\n",
       "      <td>48</td>\n",
       "      <td>D1</td>\n",
       "      <td>0.779973</td>\n",
       "      <td>0.946463</td>\n",
       "      <td>1.425350</td>\n",
       "      <td>-0.132928</td>\n",
       "      <td>-0.006122</td>\n",
       "      <td>1.492493</td>\n",
       "      <td>0.235577</td>\n",
       "      <td>...</td>\n",
       "      <td>0</td>\n",
       "      <td>0</td>\n",
       "      <td>0</td>\n",
       "      <td>0</td>\n",
       "      <td>0</td>\n",
       "      <td>0</td>\n",
       "      <td>0</td>\n",
       "      <td>0</td>\n",
       "      <td>0</td>\n",
       "      <td>6</td>\n",
       "    </tr>\n",
       "    <tr>\n",
       "      <th>3</th>\n",
       "      <td>id_0015fd391</td>\n",
       "      <td>48</td>\n",
       "      <td>D1</td>\n",
       "      <td>-0.734910</td>\n",
       "      <td>-0.274641</td>\n",
       "      <td>-0.438509</td>\n",
       "      <td>0.759097</td>\n",
       "      <td>2.346330</td>\n",
       "      <td>-0.858153</td>\n",
       "      <td>-2.288417</td>\n",
       "      <td>...</td>\n",
       "      <td>0</td>\n",
       "      <td>0</td>\n",
       "      <td>0</td>\n",
       "      <td>0</td>\n",
       "      <td>0</td>\n",
       "      <td>0</td>\n",
       "      <td>0</td>\n",
       "      <td>0</td>\n",
       "      <td>0</td>\n",
       "      <td>0</td>\n",
       "    </tr>\n",
       "    <tr>\n",
       "      <th>4</th>\n",
       "      <td>id_001626bd3</td>\n",
       "      <td>72</td>\n",
       "      <td>D2</td>\n",
       "      <td>-0.452718</td>\n",
       "      <td>-0.477513</td>\n",
       "      <td>0.972316</td>\n",
       "      <td>0.970731</td>\n",
       "      <td>1.463427</td>\n",
       "      <td>-0.869555</td>\n",
       "      <td>-0.375501</td>\n",
       "      <td>...</td>\n",
       "      <td>0</td>\n",
       "      <td>0</td>\n",
       "      <td>0</td>\n",
       "      <td>0</td>\n",
       "      <td>0</td>\n",
       "      <td>0</td>\n",
       "      <td>0</td>\n",
       "      <td>0</td>\n",
       "      <td>0</td>\n",
       "      <td>4</td>\n",
       "    </tr>\n",
       "    <tr>\n",
       "      <th>...</th>\n",
       "      <td>...</td>\n",
       "      <td>...</td>\n",
       "      <td>...</td>\n",
       "      <td>...</td>\n",
       "      <td>...</td>\n",
       "      <td>...</td>\n",
       "      <td>...</td>\n",
       "      <td>...</td>\n",
       "      <td>...</td>\n",
       "      <td>...</td>\n",
       "      <td>...</td>\n",
       "      <td>...</td>\n",
       "      <td>...</td>\n",
       "      <td>...</td>\n",
       "      <td>...</td>\n",
       "      <td>...</td>\n",
       "      <td>...</td>\n",
       "      <td>...</td>\n",
       "      <td>...</td>\n",
       "      <td>...</td>\n",
       "      <td>...</td>\n",
       "    </tr>\n",
       "    <tr>\n",
       "      <th>21943</th>\n",
       "      <td>id_fff8c2444</td>\n",
       "      <td>72</td>\n",
       "      <td>D1</td>\n",
       "      <td>0.237856</td>\n",
       "      <td>-1.228203</td>\n",
       "      <td>0.218376</td>\n",
       "      <td>-0.365976</td>\n",
       "      <td>-0.330177</td>\n",
       "      <td>0.569243</td>\n",
       "      <td>-0.150978</td>\n",
       "      <td>...</td>\n",
       "      <td>0</td>\n",
       "      <td>0</td>\n",
       "      <td>0</td>\n",
       "      <td>0</td>\n",
       "      <td>0</td>\n",
       "      <td>0</td>\n",
       "      <td>0</td>\n",
       "      <td>0</td>\n",
       "      <td>0</td>\n",
       "      <td>5</td>\n",
       "    </tr>\n",
       "    <tr>\n",
       "      <th>21944</th>\n",
       "      <td>id_fffb1ceed</td>\n",
       "      <td>24</td>\n",
       "      <td>D2</td>\n",
       "      <td>0.209361</td>\n",
       "      <td>-0.022389</td>\n",
       "      <td>-0.235888</td>\n",
       "      <td>-0.796989</td>\n",
       "      <td>-0.674009</td>\n",
       "      <td>0.919312</td>\n",
       "      <td>0.735603</td>\n",
       "      <td>...</td>\n",
       "      <td>0</td>\n",
       "      <td>0</td>\n",
       "      <td>0</td>\n",
       "      <td>0</td>\n",
       "      <td>0</td>\n",
       "      <td>0</td>\n",
       "      <td>0</td>\n",
       "      <td>0</td>\n",
       "      <td>0</td>\n",
       "      <td>1</td>\n",
       "    </tr>\n",
       "    <tr>\n",
       "      <th>21945</th>\n",
       "      <td>id_fffb70c0c</td>\n",
       "      <td>24</td>\n",
       "      <td>D2</td>\n",
       "      <td>-1.911021</td>\n",
       "      <td>0.587228</td>\n",
       "      <td>-0.588417</td>\n",
       "      <td>1.296405</td>\n",
       "      <td>-1.002640</td>\n",
       "      <td>0.850589</td>\n",
       "      <td>-0.304313</td>\n",
       "      <td>...</td>\n",
       "      <td>0</td>\n",
       "      <td>0</td>\n",
       "      <td>0</td>\n",
       "      <td>0</td>\n",
       "      <td>0</td>\n",
       "      <td>0</td>\n",
       "      <td>0</td>\n",
       "      <td>0</td>\n",
       "      <td>0</td>\n",
       "      <td>5</td>\n",
       "    </tr>\n",
       "    <tr>\n",
       "      <th>21946</th>\n",
       "      <td>id_fffcb9e7c</td>\n",
       "      <td>24</td>\n",
       "      <td>D1</td>\n",
       "      <td>0.816407</td>\n",
       "      <td>0.417618</td>\n",
       "      <td>0.431631</td>\n",
       "      <td>0.300617</td>\n",
       "      <td>1.070346</td>\n",
       "      <td>-0.024189</td>\n",
       "      <td>0.048942</td>\n",
       "      <td>...</td>\n",
       "      <td>0</td>\n",
       "      <td>0</td>\n",
       "      <td>0</td>\n",
       "      <td>0</td>\n",
       "      <td>0</td>\n",
       "      <td>0</td>\n",
       "      <td>0</td>\n",
       "      <td>0</td>\n",
       "      <td>0</td>\n",
       "      <td>1</td>\n",
       "    </tr>\n",
       "    <tr>\n",
       "      <th>21947</th>\n",
       "      <td>id_ffffdd77b</td>\n",
       "      <td>72</td>\n",
       "      <td>D1</td>\n",
       "      <td>-1.243096</td>\n",
       "      <td>1.567730</td>\n",
       "      <td>-0.269573</td>\n",
       "      <td>1.083636</td>\n",
       "      <td>-0.511235</td>\n",
       "      <td>-2.099634</td>\n",
       "      <td>-1.622462</td>\n",
       "      <td>...</td>\n",
       "      <td>0</td>\n",
       "      <td>0</td>\n",
       "      <td>0</td>\n",
       "      <td>0</td>\n",
       "      <td>0</td>\n",
       "      <td>0</td>\n",
       "      <td>0</td>\n",
       "      <td>0</td>\n",
       "      <td>0</td>\n",
       "      <td>6</td>\n",
       "    </tr>\n",
       "  </tbody>\n",
       "</table>\n",
       "<p>21948 rows × 1220 columns</p>\n",
       "</div>"
      ],
      "text/plain": [
       "             sig_id cp_time cp_dose         0         1         2         3  \\\n",
       "0      id_000644bb2      24      D1  1.134849  0.907687 -0.416385 -0.966814   \n",
       "1      id_000779bfc      72      D1  0.119282  0.681738  0.272399  0.080113   \n",
       "2      id_000a6266a      48      D1  0.779973  0.946463  1.425350 -0.132928   \n",
       "3      id_0015fd391      48      D1 -0.734910 -0.274641 -0.438509  0.759097   \n",
       "4      id_001626bd3      72      D2 -0.452718 -0.477513  0.972316  0.970731   \n",
       "...             ...     ...     ...       ...       ...       ...       ...   \n",
       "21943  id_fff8c2444      72      D1  0.237856 -1.228203  0.218376 -0.365976   \n",
       "21944  id_fffb1ceed      24      D2  0.209361 -0.022389 -0.235888 -0.796989   \n",
       "21945  id_fffb70c0c      24      D2 -1.911021  0.587228 -0.588417  1.296405   \n",
       "21946  id_fffcb9e7c      24      D1  0.816407  0.417618  0.431631  0.300617   \n",
       "21947  id_ffffdd77b      72      D1 -1.243096  1.567730 -0.269573  1.083636   \n",
       "\n",
       "              4         5         6  ...  trpv_agonist  trpv_antagonist  \\\n",
       "0     -0.254723 -1.017473 -1.364787  ...             0                0   \n",
       "1      1.205169  0.686517  0.313396  ...             0                0   \n",
       "2     -0.006122  1.492493  0.235577  ...             0                0   \n",
       "3      2.346330 -0.858153 -2.288417  ...             0                0   \n",
       "4      1.463427 -0.869555 -0.375501  ...             0                0   \n",
       "...         ...       ...       ...  ...           ...              ...   \n",
       "21943 -0.330177  0.569243 -0.150978  ...             0                0   \n",
       "21944 -0.674009  0.919312  0.735603  ...             0                0   \n",
       "21945 -1.002640  0.850589 -0.304313  ...             0                0   \n",
       "21946  1.070346 -0.024189  0.048942  ...             0                0   \n",
       "21947 -0.511235 -2.099634 -1.622462  ...             0                0   \n",
       "\n",
       "       tubulin_inhibitor  tyrosine_kinase_inhibitor  \\\n",
       "0                      0                          0   \n",
       "1                      0                          0   \n",
       "2                      0                          0   \n",
       "3                      0                          0   \n",
       "4                      0                          0   \n",
       "...                  ...                        ...   \n",
       "21943                  0                          0   \n",
       "21944                  0                          0   \n",
       "21945                  0                          0   \n",
       "21946                  0                          0   \n",
       "21947                  0                          0   \n",
       "\n",
       "       ubiquitin_specific_protease_inhibitor  vegfr_inhibitor  vitamin_b  \\\n",
       "0                                          0                0          0   \n",
       "1                                          0                0          0   \n",
       "2                                          0                0          0   \n",
       "3                                          0                0          0   \n",
       "4                                          0                0          0   \n",
       "...                                      ...              ...        ...   \n",
       "21943                                      0                0          0   \n",
       "21944                                      0                0          0   \n",
       "21945                                      0                0          0   \n",
       "21946                                      0                0          0   \n",
       "21947                                      0                0          0   \n",
       "\n",
       "       vitamin_d_receptor_agonist  wnt_inhibitor  kfold  \n",
       "0                               0              0      5  \n",
       "1                               0              0      0  \n",
       "2                               0              0      6  \n",
       "3                               0              0      0  \n",
       "4                               0              0      4  \n",
       "...                           ...            ...    ...  \n",
       "21943                           0              0      5  \n",
       "21944                           0              0      1  \n",
       "21945                           0              0      5  \n",
       "21946                           0              0      1  \n",
       "21947                           0              0      6  \n",
       "\n",
       "[21948 rows x 1220 columns]"
      ]
     },
     "execution_count": 15,
     "metadata": {},
     "output_type": "execute_result"
    }
   ],
   "source": [
    "folds = train.copy()\n",
    "\n",
    "mskf = MultilabelStratifiedKFold(n_splits=7)\n",
    "\n",
    "for f, (t_idx, v_idx) in enumerate(mskf.split(X=train, y=target)):\n",
    "    folds.loc[v_idx, 'kfold'] = int(f)\n",
    "\n",
    "folds['kfold'] = folds['kfold'].astype(int)\n",
    "folds"
   ]
  },
  {
   "cell_type": "code",
   "execution_count": 16,
   "metadata": {
    "execution": {
     "iopub.execute_input": "2020-11-25T17:00:41.920205Z",
     "iopub.status.busy": "2020-11-25T17:00:41.919435Z",
     "iopub.status.idle": "2020-11-25T17:00:41.924299Z",
     "shell.execute_reply": "2020-11-25T17:00:41.923599Z"
    },
    "papermill": {
     "duration": 0.03777,
     "end_time": "2020-11-25T17:00:41.924420",
     "exception": false,
     "start_time": "2020-11-25T17:00:41.886650",
     "status": "completed"
    },
    "tags": []
   },
   "outputs": [
    {
     "name": "stdout",
     "output_type": "stream",
     "text": [
      "(21948, 1219)\n",
      "(21948, 1220)\n",
      "(3624, 1013)\n",
      "(21948, 207)\n",
      "(3982, 207)\n"
     ]
    }
   ],
   "source": [
    "print(train.shape)\n",
    "print(folds.shape)\n",
    "print(test.shape)\n",
    "print(target.shape)\n",
    "print(sample_submission.shape)"
   ]
  },
  {
   "cell_type": "code",
   "execution_count": 17,
   "metadata": {
    "execution": {
     "iopub.execute_input": "2020-11-25T17:00:41.989868Z",
     "iopub.status.busy": "2020-11-25T17:00:41.988960Z",
     "iopub.status.idle": "2020-11-25T17:00:42.190346Z",
     "shell.execute_reply": "2020-11-25T17:00:42.189698Z"
    },
    "papermill": {
     "duration": 0.238269,
     "end_time": "2020-11-25T17:00:42.190483",
     "exception": false,
     "start_time": "2020-11-25T17:00:41.952214",
     "status": "completed"
    },
    "tags": []
   },
   "outputs": [
    {
     "data": {
      "text/plain": [
       "1015"
      ]
     },
     "execution_count": 17,
     "metadata": {},
     "output_type": "execute_result"
    }
   ],
   "source": [
    "def process_data(data):\n",
    "    data = pd.get_dummies(data, columns=['cp_time','cp_dose'])\n",
    "    return data\n",
    "feature_cols = [c for c in process_data(folds).columns if c not in target_cols]\n",
    "feature_cols = [c for c in feature_cols if c not in ['kfold','sig_id']]\n",
    "len(feature_cols)"
   ]
  },
  {
   "cell_type": "code",
   "execution_count": 18,
   "metadata": {
    "execution": {
     "iopub.execute_input": "2020-11-25T17:00:42.261823Z",
     "iopub.status.busy": "2020-11-25T17:00:42.257195Z",
     "iopub.status.idle": "2020-11-25T17:00:42.265460Z",
     "shell.execute_reply": "2020-11-25T17:00:42.264720Z"
    },
    "papermill": {
     "duration": 0.045615,
     "end_time": "2020-11-25T17:00:42.265616",
     "exception": false,
     "start_time": "2020-11-25T17:00:42.220001",
     "status": "completed"
    },
    "tags": []
   },
   "outputs": [],
   "source": [
    "def get_model(hp):\n",
    "    \n",
    "    model=tf.keras.Sequential()\n",
    "    model.add(tf.keras.Input(shape=(1015,)))\n",
    "    model.add(tf.keras.layers.BatchNormalization())\n",
    "\n",
    "    for i in range(hp.Int(\"N_Layers\",2,6)):\n",
    "    #         model.add(tfa.layers.WeightNormalization(tf.keras.layers.Dense(hp.Int(f\"number_of_neurons1_{i}\",512,2048), activation=hp.Choice(f\"activation1_{i}\",values=['elu', 'swish', 'selu']))))\n",
    "        model.add(tf.keras.layers.Dense(hp.Int(f\"number_of_neurons2_{i}\",512,2048), activation=hp.Choice(f\"activation2_{i}\",values=['elu', 'swish', 'selu'])))\n",
    "        model.add(tf.keras.layers.Dropout(hp.Float(f\"Dropout_{i}\",0.0,0.7,step=0.01)))\n",
    "        model.add(tf.keras.layers.BatchNormalization())\n",
    "\n",
    "    model.add(tf.keras.layers.Dense(206,activation='sigmoid'))\n",
    "\n",
    "\n",
    "    model.compile(optimizer = tf.keras.optimizers.Adam(1e-3),loss=tf.keras.losses.BinaryCrossentropy(), metrics=['accuracy'])\n",
    "#     model.compile(optimizer=tfa.optimizers.AdamW(lr = 1e-3, weight_decay = 1e-5, clipvalue = 756),loss=tf.keras.losses.BinaryCrossentropy(),metrics=['accuracy'])\n",
    "    \n",
    "    return model"
   ]
  },
  {
   "cell_type": "code",
   "execution_count": 19,
   "metadata": {
    "execution": {
     "iopub.execute_input": "2020-11-25T17:00:42.328744Z",
     "iopub.status.busy": "2020-11-25T17:00:42.327735Z",
     "iopub.status.idle": "2020-11-25T17:00:42.415354Z",
     "shell.execute_reply": "2020-11-25T17:00:42.414455Z"
    },
    "papermill": {
     "duration": 0.121261,
     "end_time": "2020-11-25T17:00:42.415489",
     "exception": false,
     "start_time": "2020-11-25T17:00:42.294228",
     "status": "completed"
    },
    "tags": []
   },
   "outputs": [],
   "source": [
    "from kerastuner.tuners import BayesianOptimization\n",
    "from kerastuner.engine.hyperparameters import HyperParameters\n",
    "import kerastuner as kt"
   ]
  },
  {
   "cell_type": "code",
   "execution_count": 20,
   "metadata": {
    "execution": {
     "iopub.execute_input": "2020-11-25T17:00:42.538079Z",
     "iopub.status.busy": "2020-11-25T17:00:42.484034Z",
     "iopub.status.idle": "2020-11-25T17:00:42.906566Z",
     "shell.execute_reply": "2020-11-25T17:00:42.905832Z"
    },
    "papermill": {
     "duration": 0.462097,
     "end_time": "2020-11-25T17:00:42.906705",
     "exception": false,
     "start_time": "2020-11-25T17:00:42.444608",
     "status": "completed"
    },
    "tags": []
   },
   "outputs": [],
   "source": [
    "X_train=process_data(folds).loc[:,feature_cols]\n",
    "y_train=process_data(folds).loc[:,target_cols]"
   ]
  },
  {
   "cell_type": "code",
   "execution_count": 21,
   "metadata": {
    "execution": {
     "iopub.execute_input": "2020-11-25T17:00:42.996506Z",
     "iopub.status.busy": "2020-11-25T17:00:42.995531Z",
     "iopub.status.idle": "2020-11-25T17:00:42.998299Z",
     "shell.execute_reply": "2020-11-25T17:00:42.998874Z"
    },
    "papermill": {
     "duration": 0.063334,
     "end_time": "2020-11-25T17:00:42.999038",
     "exception": false,
     "start_time": "2020-11-25T17:00:42.935704",
     "status": "completed"
    },
    "tags": []
   },
   "outputs": [],
   "source": [
    "y_train_non = y_train_non.drop(['sig_id'],1)"
   ]
  },
  {
   "cell_type": "code",
   "execution_count": 22,
   "metadata": {
    "execution": {
     "iopub.execute_input": "2020-11-25T17:00:43.065162Z",
     "iopub.status.busy": "2020-11-25T17:00:43.064054Z",
     "iopub.status.idle": "2020-11-25T17:00:43.092207Z",
     "shell.execute_reply": "2020-11-25T17:00:43.092821Z"
    },
    "papermill": {
     "duration": 0.064727,
     "end_time": "2020-11-25T17:00:43.092980",
     "exception": false,
     "start_time": "2020-11-25T17:00:43.028253",
     "status": "completed"
    },
    "tags": []
   },
   "outputs": [
    {
     "data": {
      "text/html": [
       "<div>\n",
       "<style scoped>\n",
       "    .dataframe tbody tr th:only-of-type {\n",
       "        vertical-align: middle;\n",
       "    }\n",
       "\n",
       "    .dataframe tbody tr th {\n",
       "        vertical-align: top;\n",
       "    }\n",
       "\n",
       "    .dataframe thead th {\n",
       "        text-align: right;\n",
       "    }\n",
       "</style>\n",
       "<table border=\"1\" class=\"dataframe\">\n",
       "  <thead>\n",
       "    <tr style=\"text-align: right;\">\n",
       "      <th></th>\n",
       "      <th>5-alpha_reductase_inhibitor</th>\n",
       "      <th>11-beta-hsd1_inhibitor</th>\n",
       "      <th>acat_inhibitor</th>\n",
       "      <th>acetylcholine_receptor_agonist</th>\n",
       "      <th>acetylcholine_receptor_antagonist</th>\n",
       "      <th>acetylcholinesterase_inhibitor</th>\n",
       "      <th>adenosine_receptor_agonist</th>\n",
       "      <th>adenosine_receptor_antagonist</th>\n",
       "      <th>adenylyl_cyclase_activator</th>\n",
       "      <th>adrenergic_receptor_agonist</th>\n",
       "      <th>...</th>\n",
       "      <th>tropomyosin_receptor_kinase_inhibitor</th>\n",
       "      <th>trpv_agonist</th>\n",
       "      <th>trpv_antagonist</th>\n",
       "      <th>tubulin_inhibitor</th>\n",
       "      <th>tyrosine_kinase_inhibitor</th>\n",
       "      <th>ubiquitin_specific_protease_inhibitor</th>\n",
       "      <th>vegfr_inhibitor</th>\n",
       "      <th>vitamin_b</th>\n",
       "      <th>vitamin_d_receptor_agonist</th>\n",
       "      <th>wnt_inhibitor</th>\n",
       "    </tr>\n",
       "  </thead>\n",
       "  <tbody>\n",
       "    <tr>\n",
       "      <th>0</th>\n",
       "      <td>0</td>\n",
       "      <td>0</td>\n",
       "      <td>0</td>\n",
       "      <td>0</td>\n",
       "      <td>0</td>\n",
       "      <td>0</td>\n",
       "      <td>0</td>\n",
       "      <td>0</td>\n",
       "      <td>0</td>\n",
       "      <td>0</td>\n",
       "      <td>...</td>\n",
       "      <td>0</td>\n",
       "      <td>0</td>\n",
       "      <td>0</td>\n",
       "      <td>0</td>\n",
       "      <td>0</td>\n",
       "      <td>0</td>\n",
       "      <td>0</td>\n",
       "      <td>0</td>\n",
       "      <td>0</td>\n",
       "      <td>0</td>\n",
       "    </tr>\n",
       "    <tr>\n",
       "      <th>1</th>\n",
       "      <td>0</td>\n",
       "      <td>0</td>\n",
       "      <td>0</td>\n",
       "      <td>0</td>\n",
       "      <td>0</td>\n",
       "      <td>0</td>\n",
       "      <td>0</td>\n",
       "      <td>0</td>\n",
       "      <td>0</td>\n",
       "      <td>0</td>\n",
       "      <td>...</td>\n",
       "      <td>0</td>\n",
       "      <td>0</td>\n",
       "      <td>0</td>\n",
       "      <td>0</td>\n",
       "      <td>0</td>\n",
       "      <td>0</td>\n",
       "      <td>0</td>\n",
       "      <td>0</td>\n",
       "      <td>0</td>\n",
       "      <td>0</td>\n",
       "    </tr>\n",
       "    <tr>\n",
       "      <th>2</th>\n",
       "      <td>0</td>\n",
       "      <td>0</td>\n",
       "      <td>0</td>\n",
       "      <td>0</td>\n",
       "      <td>0</td>\n",
       "      <td>0</td>\n",
       "      <td>0</td>\n",
       "      <td>0</td>\n",
       "      <td>0</td>\n",
       "      <td>0</td>\n",
       "      <td>...</td>\n",
       "      <td>0</td>\n",
       "      <td>0</td>\n",
       "      <td>0</td>\n",
       "      <td>0</td>\n",
       "      <td>0</td>\n",
       "      <td>0</td>\n",
       "      <td>0</td>\n",
       "      <td>0</td>\n",
       "      <td>0</td>\n",
       "      <td>0</td>\n",
       "    </tr>\n",
       "    <tr>\n",
       "      <th>3</th>\n",
       "      <td>0</td>\n",
       "      <td>0</td>\n",
       "      <td>0</td>\n",
       "      <td>0</td>\n",
       "      <td>0</td>\n",
       "      <td>0</td>\n",
       "      <td>0</td>\n",
       "      <td>0</td>\n",
       "      <td>0</td>\n",
       "      <td>0</td>\n",
       "      <td>...</td>\n",
       "      <td>0</td>\n",
       "      <td>0</td>\n",
       "      <td>0</td>\n",
       "      <td>0</td>\n",
       "      <td>0</td>\n",
       "      <td>0</td>\n",
       "      <td>0</td>\n",
       "      <td>0</td>\n",
       "      <td>0</td>\n",
       "      <td>0</td>\n",
       "    </tr>\n",
       "    <tr>\n",
       "      <th>4</th>\n",
       "      <td>0</td>\n",
       "      <td>0</td>\n",
       "      <td>0</td>\n",
       "      <td>0</td>\n",
       "      <td>0</td>\n",
       "      <td>0</td>\n",
       "      <td>0</td>\n",
       "      <td>0</td>\n",
       "      <td>0</td>\n",
       "      <td>0</td>\n",
       "      <td>...</td>\n",
       "      <td>0</td>\n",
       "      <td>0</td>\n",
       "      <td>0</td>\n",
       "      <td>0</td>\n",
       "      <td>0</td>\n",
       "      <td>0</td>\n",
       "      <td>0</td>\n",
       "      <td>0</td>\n",
       "      <td>0</td>\n",
       "      <td>0</td>\n",
       "    </tr>\n",
       "    <tr>\n",
       "      <th>...</th>\n",
       "      <td>...</td>\n",
       "      <td>...</td>\n",
       "      <td>...</td>\n",
       "      <td>...</td>\n",
       "      <td>...</td>\n",
       "      <td>...</td>\n",
       "      <td>...</td>\n",
       "      <td>...</td>\n",
       "      <td>...</td>\n",
       "      <td>...</td>\n",
       "      <td>...</td>\n",
       "      <td>...</td>\n",
       "      <td>...</td>\n",
       "      <td>...</td>\n",
       "      <td>...</td>\n",
       "      <td>...</td>\n",
       "      <td>...</td>\n",
       "      <td>...</td>\n",
       "      <td>...</td>\n",
       "      <td>...</td>\n",
       "      <td>...</td>\n",
       "    </tr>\n",
       "    <tr>\n",
       "      <th>21943</th>\n",
       "      <td>0</td>\n",
       "      <td>0</td>\n",
       "      <td>0</td>\n",
       "      <td>0</td>\n",
       "      <td>0</td>\n",
       "      <td>0</td>\n",
       "      <td>0</td>\n",
       "      <td>0</td>\n",
       "      <td>0</td>\n",
       "      <td>0</td>\n",
       "      <td>...</td>\n",
       "      <td>0</td>\n",
       "      <td>0</td>\n",
       "      <td>0</td>\n",
       "      <td>0</td>\n",
       "      <td>0</td>\n",
       "      <td>0</td>\n",
       "      <td>0</td>\n",
       "      <td>0</td>\n",
       "      <td>0</td>\n",
       "      <td>0</td>\n",
       "    </tr>\n",
       "    <tr>\n",
       "      <th>21944</th>\n",
       "      <td>0</td>\n",
       "      <td>0</td>\n",
       "      <td>0</td>\n",
       "      <td>0</td>\n",
       "      <td>0</td>\n",
       "      <td>0</td>\n",
       "      <td>0</td>\n",
       "      <td>0</td>\n",
       "      <td>0</td>\n",
       "      <td>0</td>\n",
       "      <td>...</td>\n",
       "      <td>0</td>\n",
       "      <td>0</td>\n",
       "      <td>0</td>\n",
       "      <td>0</td>\n",
       "      <td>0</td>\n",
       "      <td>0</td>\n",
       "      <td>0</td>\n",
       "      <td>0</td>\n",
       "      <td>0</td>\n",
       "      <td>0</td>\n",
       "    </tr>\n",
       "    <tr>\n",
       "      <th>21945</th>\n",
       "      <td>0</td>\n",
       "      <td>0</td>\n",
       "      <td>0</td>\n",
       "      <td>0</td>\n",
       "      <td>0</td>\n",
       "      <td>0</td>\n",
       "      <td>0</td>\n",
       "      <td>0</td>\n",
       "      <td>0</td>\n",
       "      <td>0</td>\n",
       "      <td>...</td>\n",
       "      <td>0</td>\n",
       "      <td>0</td>\n",
       "      <td>0</td>\n",
       "      <td>0</td>\n",
       "      <td>0</td>\n",
       "      <td>0</td>\n",
       "      <td>0</td>\n",
       "      <td>0</td>\n",
       "      <td>0</td>\n",
       "      <td>0</td>\n",
       "    </tr>\n",
       "    <tr>\n",
       "      <th>21946</th>\n",
       "      <td>0</td>\n",
       "      <td>0</td>\n",
       "      <td>0</td>\n",
       "      <td>0</td>\n",
       "      <td>0</td>\n",
       "      <td>0</td>\n",
       "      <td>0</td>\n",
       "      <td>0</td>\n",
       "      <td>0</td>\n",
       "      <td>0</td>\n",
       "      <td>...</td>\n",
       "      <td>0</td>\n",
       "      <td>0</td>\n",
       "      <td>0</td>\n",
       "      <td>0</td>\n",
       "      <td>0</td>\n",
       "      <td>0</td>\n",
       "      <td>0</td>\n",
       "      <td>0</td>\n",
       "      <td>0</td>\n",
       "      <td>0</td>\n",
       "    </tr>\n",
       "    <tr>\n",
       "      <th>21947</th>\n",
       "      <td>0</td>\n",
       "      <td>0</td>\n",
       "      <td>0</td>\n",
       "      <td>0</td>\n",
       "      <td>0</td>\n",
       "      <td>0</td>\n",
       "      <td>0</td>\n",
       "      <td>0</td>\n",
       "      <td>0</td>\n",
       "      <td>0</td>\n",
       "      <td>...</td>\n",
       "      <td>0</td>\n",
       "      <td>0</td>\n",
       "      <td>0</td>\n",
       "      <td>0</td>\n",
       "      <td>0</td>\n",
       "      <td>0</td>\n",
       "      <td>0</td>\n",
       "      <td>0</td>\n",
       "      <td>0</td>\n",
       "      <td>0</td>\n",
       "    </tr>\n",
       "  </tbody>\n",
       "</table>\n",
       "<p>21948 rows × 206 columns</p>\n",
       "</div>"
      ],
      "text/plain": [
       "       5-alpha_reductase_inhibitor  11-beta-hsd1_inhibitor  acat_inhibitor  \\\n",
       "0                                0                       0               0   \n",
       "1                                0                       0               0   \n",
       "2                                0                       0               0   \n",
       "3                                0                       0               0   \n",
       "4                                0                       0               0   \n",
       "...                            ...                     ...             ...   \n",
       "21943                            0                       0               0   \n",
       "21944                            0                       0               0   \n",
       "21945                            0                       0               0   \n",
       "21946                            0                       0               0   \n",
       "21947                            0                       0               0   \n",
       "\n",
       "       acetylcholine_receptor_agonist  acetylcholine_receptor_antagonist  \\\n",
       "0                                   0                                  0   \n",
       "1                                   0                                  0   \n",
       "2                                   0                                  0   \n",
       "3                                   0                                  0   \n",
       "4                                   0                                  0   \n",
       "...                               ...                                ...   \n",
       "21943                               0                                  0   \n",
       "21944                               0                                  0   \n",
       "21945                               0                                  0   \n",
       "21946                               0                                  0   \n",
       "21947                               0                                  0   \n",
       "\n",
       "       acetylcholinesterase_inhibitor  adenosine_receptor_agonist  \\\n",
       "0                                   0                           0   \n",
       "1                                   0                           0   \n",
       "2                                   0                           0   \n",
       "3                                   0                           0   \n",
       "4                                   0                           0   \n",
       "...                               ...                         ...   \n",
       "21943                               0                           0   \n",
       "21944                               0                           0   \n",
       "21945                               0                           0   \n",
       "21946                               0                           0   \n",
       "21947                               0                           0   \n",
       "\n",
       "       adenosine_receptor_antagonist  adenylyl_cyclase_activator  \\\n",
       "0                                  0                           0   \n",
       "1                                  0                           0   \n",
       "2                                  0                           0   \n",
       "3                                  0                           0   \n",
       "4                                  0                           0   \n",
       "...                              ...                         ...   \n",
       "21943                              0                           0   \n",
       "21944                              0                           0   \n",
       "21945                              0                           0   \n",
       "21946                              0                           0   \n",
       "21947                              0                           0   \n",
       "\n",
       "       adrenergic_receptor_agonist  ...  \\\n",
       "0                                0  ...   \n",
       "1                                0  ...   \n",
       "2                                0  ...   \n",
       "3                                0  ...   \n",
       "4                                0  ...   \n",
       "...                            ...  ...   \n",
       "21943                            0  ...   \n",
       "21944                            0  ...   \n",
       "21945                            0  ...   \n",
       "21946                            0  ...   \n",
       "21947                            0  ...   \n",
       "\n",
       "       tropomyosin_receptor_kinase_inhibitor  trpv_agonist  trpv_antagonist  \\\n",
       "0                                          0             0                0   \n",
       "1                                          0             0                0   \n",
       "2                                          0             0                0   \n",
       "3                                          0             0                0   \n",
       "4                                          0             0                0   \n",
       "...                                      ...           ...              ...   \n",
       "21943                                      0             0                0   \n",
       "21944                                      0             0                0   \n",
       "21945                                      0             0                0   \n",
       "21946                                      0             0                0   \n",
       "21947                                      0             0                0   \n",
       "\n",
       "       tubulin_inhibitor  tyrosine_kinase_inhibitor  \\\n",
       "0                      0                          0   \n",
       "1                      0                          0   \n",
       "2                      0                          0   \n",
       "3                      0                          0   \n",
       "4                      0                          0   \n",
       "...                  ...                        ...   \n",
       "21943                  0                          0   \n",
       "21944                  0                          0   \n",
       "21945                  0                          0   \n",
       "21946                  0                          0   \n",
       "21947                  0                          0   \n",
       "\n",
       "       ubiquitin_specific_protease_inhibitor  vegfr_inhibitor  vitamin_b  \\\n",
       "0                                          0                0          0   \n",
       "1                                          0                0          0   \n",
       "2                                          0                0          0   \n",
       "3                                          0                0          0   \n",
       "4                                          0                0          0   \n",
       "...                                      ...              ...        ...   \n",
       "21943                                      0                0          0   \n",
       "21944                                      0                0          0   \n",
       "21945                                      0                0          0   \n",
       "21946                                      0                0          0   \n",
       "21947                                      0                0          0   \n",
       "\n",
       "       vitamin_d_receptor_agonist  wnt_inhibitor  \n",
       "0                               0              0  \n",
       "1                               0              0  \n",
       "2                               0              0  \n",
       "3                               0              0  \n",
       "4                               0              0  \n",
       "...                           ...            ...  \n",
       "21943                           0              0  \n",
       "21944                           0              0  \n",
       "21945                           0              0  \n",
       "21946                           0              0  \n",
       "21947                           0              0  \n",
       "\n",
       "[21948 rows x 206 columns]"
      ]
     },
     "execution_count": 22,
     "metadata": {},
     "output_type": "execute_result"
    }
   ],
   "source": [
    "y_train"
   ]
  },
  {
   "cell_type": "code",
   "execution_count": 23,
   "metadata": {
    "execution": {
     "iopub.execute_input": "2020-11-25T17:00:43.160836Z",
     "iopub.status.busy": "2020-11-25T17:00:43.159979Z",
     "iopub.status.idle": "2020-11-25T17:00:43.175194Z",
     "shell.execute_reply": "2020-11-25T17:00:43.174498Z"
    },
    "papermill": {
     "duration": 0.051125,
     "end_time": "2020-11-25T17:00:43.175330",
     "exception": false,
     "start_time": "2020-11-25T17:00:43.124205",
     "status": "completed"
    },
    "tags": []
   },
   "outputs": [],
   "source": [
    "# y_train_non=y_train_non.iloc[:,y_train_non.columns!='sig_id']\n",
    "final_y=pd.concat([y_train],1)"
   ]
  },
  {
   "cell_type": "code",
   "execution_count": 24,
   "metadata": {
    "execution": {
     "iopub.execute_input": "2020-11-25T17:00:43.260754Z",
     "iopub.status.busy": "2020-11-25T17:00:43.259924Z",
     "iopub.status.idle": "2020-11-25T22:10:15.652070Z",
     "shell.execute_reply": "2020-11-25T22:10:11.657980Z"
    },
    "papermill": {
     "duration": 18572.445415,
     "end_time": "2020-11-25T22:10:15.652209",
     "exception": false,
     "start_time": "2020-11-25T17:00:43.206794",
     "status": "completed"
    },
    "tags": []
   },
   "outputs": [
    {
     "name": "stdout",
     "output_type": "stream",
     "text": [
      "SEED:30 Fold:0\n",
      "Epoch 1/150\n",
      "138/138 [==============================] - 10s 76ms/step - loss: 0.2941 - accuracy: 0.0412 - val_loss: 0.0328 - val_accuracy: 0.0745\n",
      "Epoch 2/150\n",
      "138/138 [==============================] - 10s 74ms/step - loss: 0.0230 - accuracy: 0.0758 - val_loss: 0.0204 - val_accuracy: 0.0841\n",
      "Epoch 3/150\n",
      "138/138 [==============================] - 10s 74ms/step - loss: 0.0191 - accuracy: 0.1036 - val_loss: 0.0181 - val_accuracy: 0.1319\n",
      "Epoch 4/150\n",
      "138/138 [==============================] - 10s 72ms/step - loss: 0.0177 - accuracy: 0.1252 - val_loss: 0.0175 - val_accuracy: 0.1146\n",
      "Epoch 5/150\n",
      "138/138 [==============================] - 10s 74ms/step - loss: 0.0168 - accuracy: 0.1463 - val_loss: 0.0173 - val_accuracy: 0.1269\n",
      "Epoch 6/150\n",
      "138/138 [==============================] - 11s 79ms/step - loss: 0.0161 - accuracy: 0.1588 - val_loss: 0.0170 - val_accuracy: 0.1335\n",
      "Epoch 7/150\n",
      "138/138 [==============================] - 10s 71ms/step - loss: 0.0152 - accuracy: 0.1821 - val_loss: 0.0171 - val_accuracy: 0.1706\n",
      "Epoch 8/150\n",
      "138/138 [==============================] - 10s 72ms/step - loss: 0.0143 - accuracy: 0.2081 - val_loss: 0.0177 - val_accuracy: 0.1497\n",
      "Epoch 9/150\n",
      "137/138 [============================>.] - ETA: 0s - loss: 0.0133 - accuracy: 0.2275\n",
      "Epoch 00009: ReduceLROnPlateau reducing learning rate to 0.00010000000474974513.\n",
      "138/138 [==============================] - 10s 74ms/step - loss: 0.0133 - accuracy: 0.2275 - val_loss: 0.0176 - val_accuracy: 0.1376\n",
      "Epoch 10/150\n",
      "138/138 [==============================] - 10s 71ms/step - loss: 0.0109 - accuracy: 0.3045 - val_loss: 0.0169 - val_accuracy: 0.1506\n",
      "Epoch 11/150\n",
      "138/138 [==============================] - 10s 73ms/step - loss: 0.0100 - accuracy: 0.3278 - val_loss: 0.0170 - val_accuracy: 0.1560\n",
      "Epoch 12/150\n",
      "138/138 [==============================] - 10s 76ms/step - loss: 0.0094 - accuracy: 0.3507 - val_loss: 0.0172 - val_accuracy: 0.1508\n",
      "Epoch 13/150\n",
      "137/138 [============================>.] - ETA: 0s - loss: 0.0089 - accuracy: 0.3679\n",
      "Epoch 00013: ReduceLROnPlateau reducing learning rate to 1.0000000474974514e-05.\n",
      "138/138 [==============================] - 10s 74ms/step - loss: 0.0089 - accuracy: 0.3679 - val_loss: 0.0174 - val_accuracy: 0.1574\n",
      "Epoch 14/150\n",
      "138/138 [==============================] - 10s 72ms/step - loss: 0.0084 - accuracy: 0.3912 - val_loss: 0.0174 - val_accuracy: 0.1554\n",
      "Epoch 15/150\n",
      "138/138 [==============================] - 10s 71ms/step - loss: 0.0083 - accuracy: 0.3900 - val_loss: 0.0175 - val_accuracy: 0.1544\n",
      "Epoch 16/150\n",
      "137/138 [============================>.] - ETA: 0s - loss: 0.0082 - accuracy: 0.3950\n",
      "Epoch 00016: ReduceLROnPlateau reducing learning rate to 1.0000000656873453e-06.\n",
      "138/138 [==============================] - 11s 80ms/step - loss: 0.0082 - accuracy: 0.3950 - val_loss: 0.0175 - val_accuracy: 0.1544\n",
      "Epoch 17/150\n",
      "138/138 [==============================] - 10s 75ms/step - loss: 0.0082 - accuracy: 0.3954 - val_loss: 0.0175 - val_accuracy: 0.1547\n",
      "Epoch 18/150\n",
      "138/138 [==============================] - 10s 72ms/step - loss: 0.0082 - accuracy: 0.3959 - val_loss: 0.0176 - val_accuracy: 0.1538\n",
      "Epoch 19/150\n",
      "137/138 [============================>.] - ETA: 0s - loss: 0.0082 - accuracy: 0.3972\n",
      "Epoch 00019: ReduceLROnPlateau reducing learning rate to 1.0000001111620805e-07.\n",
      "138/138 [==============================] - 10s 76ms/step - loss: 0.0082 - accuracy: 0.3972 - val_loss: 0.0176 - val_accuracy: 0.1542\n",
      "Epoch 20/150\n",
      "137/138 [============================>.] - ETA: 0s - loss: 0.0082 - accuracy: 0.3959Restoring model weights from the end of the best epoch.\n",
      "138/138 [==============================] - 10s 76ms/step - loss: 0.0082 - accuracy: 0.3959 - val_loss: 0.0176 - val_accuracy: 0.1540\n",
      "Epoch 00020: early stopping\n"
     ]
    },
    {
     "data": {
      "text/html": [
       "<span style=\"color:#4527A0\"><h1 style=\"font-size:18px\">Trial complete</h1></span>"
      ],
      "text/plain": [
       "<IPython.core.display.HTML object>"
      ]
     },
     "metadata": {},
     "output_type": "display_data"
    },
    {
     "data": {
      "text/html": [
       "<span style=\"color:#4527A0\"><h1 style=\"font-size:18px\">Trial summary</h1></span>"
      ],
      "text/plain": [
       "<IPython.core.display.HTML object>"
      ]
     },
     "metadata": {},
     "output_type": "display_data"
    },
    {
     "data": {
      "text/html": [
       "<span style=\"color:cyan\"> |-Trial ID: 2e9f031424e208e26ee89db0194c9664</span>"
      ],
      "text/plain": [
       "<IPython.core.display.HTML object>"
      ]
     },
     "metadata": {},
     "output_type": "display_data"
    },
    {
     "data": {
      "text/html": [
       "<span style=\"color:cyan\"> |-Score: 0.016871793195605278</span>"
      ],
      "text/plain": [
       "<IPython.core.display.HTML object>"
      ]
     },
     "metadata": {},
     "output_type": "display_data"
    },
    {
     "data": {
      "text/html": [
       "<span style=\"color:cyan\"> |-Best step: 0</span>"
      ],
      "text/plain": [
       "<IPython.core.display.HTML object>"
      ]
     },
     "metadata": {},
     "output_type": "display_data"
    },
    {
     "data": {
      "text/html": [
       "<span style=\"color:#7E57C2\"><h2 style=\"font-size:16px\">Hyperparameters:</h2></span>"
      ],
      "text/plain": [
       "<IPython.core.display.HTML object>"
      ]
     },
     "metadata": {},
     "output_type": "display_data"
    },
    {
     "data": {
      "text/html": [
       "<span style=\"color:cyan\"> |-Dropout_0: 0.46</span>"
      ],
      "text/plain": [
       "<IPython.core.display.HTML object>"
      ]
     },
     "metadata": {},
     "output_type": "display_data"
    },
    {
     "data": {
      "text/html": [
       "<span style=\"color:blue\"> |-Dropout_1: 0.35000000000000003</span>"
      ],
      "text/plain": [
       "<IPython.core.display.HTML object>"
      ]
     },
     "metadata": {},
     "output_type": "display_data"
    },
    {
     "data": {
      "text/html": [
       "<span style=\"color:cyan\"> |-Dropout_2: 0.0</span>"
      ],
      "text/plain": [
       "<IPython.core.display.HTML object>"
      ]
     },
     "metadata": {},
     "output_type": "display_data"
    },
    {
     "data": {
      "text/html": [
       "<span style=\"color:blue\"> |-Dropout_3: 0.0</span>"
      ],
      "text/plain": [
       "<IPython.core.display.HTML object>"
      ]
     },
     "metadata": {},
     "output_type": "display_data"
    },
    {
     "data": {
      "text/html": [
       "<span style=\"color:cyan\"> |-Dropout_4: 0.0</span>"
      ],
      "text/plain": [
       "<IPython.core.display.HTML object>"
      ]
     },
     "metadata": {},
     "output_type": "display_data"
    },
    {
     "data": {
      "text/html": [
       "<span style=\"color:blue\"> |-N_Layers: 5</span>"
      ],
      "text/plain": [
       "<IPython.core.display.HTML object>"
      ]
     },
     "metadata": {},
     "output_type": "display_data"
    },
    {
     "data": {
      "text/html": [
       "<span style=\"color:cyan\"> |-activation2_0: swish</span>"
      ],
      "text/plain": [
       "<IPython.core.display.HTML object>"
      ]
     },
     "metadata": {},
     "output_type": "display_data"
    },
    {
     "data": {
      "text/html": [
       "<span style=\"color:blue\"> |-activation2_1: selu</span>"
      ],
      "text/plain": [
       "<IPython.core.display.HTML object>"
      ]
     },
     "metadata": {},
     "output_type": "display_data"
    },
    {
     "data": {
      "text/html": [
       "<span style=\"color:cyan\"> |-activation2_2: elu</span>"
      ],
      "text/plain": [
       "<IPython.core.display.HTML object>"
      ]
     },
     "metadata": {},
     "output_type": "display_data"
    },
    {
     "data": {
      "text/html": [
       "<span style=\"color:blue\"> |-activation2_3: elu</span>"
      ],
      "text/plain": [
       "<IPython.core.display.HTML object>"
      ]
     },
     "metadata": {},
     "output_type": "display_data"
    },
    {
     "data": {
      "text/html": [
       "<span style=\"color:cyan\"> |-activation2_4: elu</span>"
      ],
      "text/plain": [
       "<IPython.core.display.HTML object>"
      ]
     },
     "metadata": {},
     "output_type": "display_data"
    },
    {
     "data": {
      "text/html": [
       "<span style=\"color:blue\"> |-number_of_neurons2_0: 1681</span>"
      ],
      "text/plain": [
       "<IPython.core.display.HTML object>"
      ]
     },
     "metadata": {},
     "output_type": "display_data"
    },
    {
     "data": {
      "text/html": [
       "<span style=\"color:cyan\"> |-number_of_neurons2_1: 1055</span>"
      ],
      "text/plain": [
       "<IPython.core.display.HTML object>"
      ]
     },
     "metadata": {},
     "output_type": "display_data"
    },
    {
     "data": {
      "text/html": [
       "<span style=\"color:blue\"> |-number_of_neurons2_2: 512</span>"
      ],
      "text/plain": [
       "<IPython.core.display.HTML object>"
      ]
     },
     "metadata": {},
     "output_type": "display_data"
    },
    {
     "data": {
      "text/html": [
       "<span style=\"color:cyan\"> |-number_of_neurons2_3: 512</span>"
      ],
      "text/plain": [
       "<IPython.core.display.HTML object>"
      ]
     },
     "metadata": {},
     "output_type": "display_data"
    },
    {
     "data": {
      "text/html": [
       "<span style=\"color:blue\"> |-number_of_neurons2_4: 512</span>"
      ],
      "text/plain": [
       "<IPython.core.display.HTML object>"
      ]
     },
     "metadata": {},
     "output_type": "display_data"
    },
    {
     "name": "stdout",
     "output_type": "stream",
     "text": [
      "Epoch 1/150\n",
      "138/138 [==============================] - 10s 71ms/step - loss: 0.3172 - accuracy: 0.0238 - val_loss: 0.0301 - val_accuracy: 0.0203\n",
      "Epoch 2/150\n",
      "138/138 [==============================] - 11s 78ms/step - loss: 0.0259 - accuracy: 0.0510 - val_loss: 0.0212 - val_accuracy: 0.0802\n",
      "Epoch 3/150\n",
      "138/138 [==============================] - 12s 85ms/step - loss: 0.0215 - accuracy: 0.0579 - val_loss: 0.0198 - val_accuracy: 0.0549\n",
      "Epoch 4/150\n",
      "138/138 [==============================] - 10s 71ms/step - loss: 0.0204 - accuracy: 0.0710 - val_loss: 0.0190 - val_accuracy: 0.0759\n",
      "Epoch 5/150\n",
      "138/138 [==============================] - 10s 70ms/step - loss: 0.0198 - accuracy: 0.0881 - val_loss: 0.0184 - val_accuracy: 0.0882\n",
      "Epoch 6/150\n",
      "138/138 [==============================] - 10s 73ms/step - loss: 0.0191 - accuracy: 0.0993 - val_loss: 0.0179 - val_accuracy: 0.0966\n",
      "Epoch 7/150\n",
      "138/138 [==============================] - 10s 71ms/step - loss: 0.0187 - accuracy: 0.1048 - val_loss: 0.0178 - val_accuracy: 0.1036\n",
      "Epoch 8/150\n",
      "138/138 [==============================] - 10s 70ms/step - loss: 0.0183 - accuracy: 0.1141 - val_loss: 0.0175 - val_accuracy: 0.1082\n",
      "Epoch 9/150\n",
      "138/138 [==============================] - 11s 81ms/step - loss: 0.0177 - accuracy: 0.1183 - val_loss: 0.0172 - val_accuracy: 0.1157\n",
      "Epoch 10/150\n",
      "138/138 [==============================] - 11s 79ms/step - loss: 0.0175 - accuracy: 0.1280 - val_loss: 0.0172 - val_accuracy: 0.1123\n",
      "Epoch 11/150\n",
      "138/138 [==============================] - 10s 70ms/step - loss: 0.0171 - accuracy: 0.1322 - val_loss: 0.0170 - val_accuracy: 0.1175\n",
      "Epoch 12/150\n",
      "138/138 [==============================] - 10s 69ms/step - loss: 0.0168 - accuracy: 0.1363 - val_loss: 0.0170 - val_accuracy: 0.1228\n",
      "Epoch 13/150\n",
      "138/138 [==============================] - 10s 73ms/step - loss: 0.0167 - accuracy: 0.1394 - val_loss: 0.0169 - val_accuracy: 0.1244\n",
      "Epoch 14/150\n",
      "138/138 [==============================] - 10s 70ms/step - loss: 0.0166 - accuracy: 0.1455 - val_loss: 0.0168 - val_accuracy: 0.1417\n",
      "Epoch 15/150\n",
      "138/138 [==============================] - 10s 74ms/step - loss: 0.0162 - accuracy: 0.1520 - val_loss: 0.0169 - val_accuracy: 0.1292\n",
      "Epoch 16/150\n",
      "138/138 [==============================] - 11s 81ms/step - loss: 0.0159 - accuracy: 0.1597 - val_loss: 0.0167 - val_accuracy: 0.1323\n",
      "Epoch 17/150\n",
      "137/138 [============================>.] - ETA: 0s - loss: 0.0155 - accuracy: 0.1645\n",
      "Epoch 00017: ReduceLROnPlateau reducing learning rate to 0.00010000000474974513.\n",
      "138/138 [==============================] - 11s 77ms/step - loss: 0.0155 - accuracy: 0.1645 - val_loss: 0.0167 - val_accuracy: 0.1335\n",
      "Epoch 18/150\n",
      "138/138 [==============================] - 10s 70ms/step - loss: 0.0147 - accuracy: 0.1823 - val_loss: 0.0166 - val_accuracy: 0.1351\n",
      "Epoch 19/150\n",
      "138/138 [==============================] - 10s 71ms/step - loss: 0.0145 - accuracy: 0.1861 - val_loss: 0.0166 - val_accuracy: 0.1369\n",
      "Epoch 20/150\n",
      "138/138 [==============================] - 10s 71ms/step - loss: 0.0144 - accuracy: 0.1865 - val_loss: 0.0166 - val_accuracy: 0.1369\n",
      "Epoch 21/150\n",
      "137/138 [============================>.] - ETA: 0s - loss: 0.0142 - accuracy: 0.1908\n",
      "Epoch 00021: ReduceLROnPlateau reducing learning rate to 1.0000000474974514e-05.\n",
      "138/138 [==============================] - 10s 72ms/step - loss: 0.0142 - accuracy: 0.1909 - val_loss: 0.0166 - val_accuracy: 0.1364\n",
      "Epoch 22/150\n",
      "138/138 [==============================] - 10s 71ms/step - loss: 0.0140 - accuracy: 0.1974 - val_loss: 0.0166 - val_accuracy: 0.1364\n",
      "Epoch 23/150\n",
      "138/138 [==============================] - 10s 75ms/step - loss: 0.0140 - accuracy: 0.1980 - val_loss: 0.0166 - val_accuracy: 0.1371\n",
      "Epoch 24/150\n",
      "137/138 [============================>.] - ETA: 0s - loss: 0.0139 - accuracy: 0.1974\n",
      "Epoch 00024: ReduceLROnPlateau reducing learning rate to 1.0000000656873453e-06.\n",
      "138/138 [==============================] - 11s 83ms/step - loss: 0.0139 - accuracy: 0.1975 - val_loss: 0.0166 - val_accuracy: 0.1374\n",
      "Epoch 25/150\n",
      "138/138 [==============================] - 10s 72ms/step - loss: 0.0141 - accuracy: 0.1993 - val_loss: 0.0166 - val_accuracy: 0.1380\n",
      "Epoch 26/150\n",
      "138/138 [==============================] - 10s 76ms/step - loss: 0.0140 - accuracy: 0.1977 - val_loss: 0.0166 - val_accuracy: 0.1371\n",
      "Epoch 27/150\n",
      "137/138 [============================>.] - ETA: 0s - loss: 0.0139 - accuracy: 0.2005\n",
      "Epoch 00027: ReduceLROnPlateau reducing learning rate to 1.0000001111620805e-07.\n",
      "138/138 [==============================] - 10s 71ms/step - loss: 0.0139 - accuracy: 0.2004 - val_loss: 0.0166 - val_accuracy: 0.1374\n",
      "Epoch 28/150\n",
      "137/138 [============================>.] - ETA: 0s - loss: 0.0140 - accuracy: 0.1961Restoring model weights from the end of the best epoch.\n",
      "138/138 [==============================] - 10s 70ms/step - loss: 0.0140 - accuracy: 0.1960 - val_loss: 0.0166 - val_accuracy: 0.1376\n",
      "Epoch 00028: early stopping\n"
     ]
    },
    {
     "data": {
      "text/html": [
       "<span style=\"color:#4527A0\"><h1 style=\"font-size:18px\">Trial complete</h1></span>"
      ],
      "text/plain": [
       "<IPython.core.display.HTML object>"
      ]
     },
     "metadata": {},
     "output_type": "display_data"
    },
    {
     "data": {
      "text/html": [
       "<span style=\"color:#4527A0\"><h1 style=\"font-size:18px\">Trial summary</h1></span>"
      ],
      "text/plain": [
       "<IPython.core.display.HTML object>"
      ]
     },
     "metadata": {},
     "output_type": "display_data"
    },
    {
     "data": {
      "text/html": [
       "<span style=\"color:cyan\"> |-Trial ID: 243e64bd2af064e0e15a7b480be72aae</span>"
      ],
      "text/plain": [
       "<IPython.core.display.HTML object>"
      ]
     },
     "metadata": {},
     "output_type": "display_data"
    },
    {
     "data": {
      "text/html": [
       "<span style=\"color:cyan\"> |-Score: 0.01660306379199028</span>"
      ],
      "text/plain": [
       "<IPython.core.display.HTML object>"
      ]
     },
     "metadata": {},
     "output_type": "display_data"
    },
    {
     "data": {
      "text/html": [
       "<span style=\"color:cyan\"> |-Best step: 0</span>"
      ],
      "text/plain": [
       "<IPython.core.display.HTML object>"
      ]
     },
     "metadata": {},
     "output_type": "display_data"
    },
    {
     "data": {
      "text/html": [
       "<span style=\"color:#7E57C2\"><h2 style=\"font-size:16px\">Hyperparameters:</h2></span>"
      ],
      "text/plain": [
       "<IPython.core.display.HTML object>"
      ]
     },
     "metadata": {},
     "output_type": "display_data"
    },
    {
     "data": {
      "text/html": [
       "<span style=\"color:cyan\"> |-Dropout_0: 0.55</span>"
      ],
      "text/plain": [
       "<IPython.core.display.HTML object>"
      ]
     },
     "metadata": {},
     "output_type": "display_data"
    },
    {
     "data": {
      "text/html": [
       "<span style=\"color:blue\"> |-Dropout_1: 0.12</span>"
      ],
      "text/plain": [
       "<IPython.core.display.HTML object>"
      ]
     },
     "metadata": {},
     "output_type": "display_data"
    },
    {
     "data": {
      "text/html": [
       "<span style=\"color:cyan\"> |-Dropout_2: 0.45</span>"
      ],
      "text/plain": [
       "<IPython.core.display.HTML object>"
      ]
     },
     "metadata": {},
     "output_type": "display_data"
    },
    {
     "data": {
      "text/html": [
       "<span style=\"color:blue\"> |-Dropout_3: 0.36</span>"
      ],
      "text/plain": [
       "<IPython.core.display.HTML object>"
      ]
     },
     "metadata": {},
     "output_type": "display_data"
    },
    {
     "data": {
      "text/html": [
       "<span style=\"color:cyan\"> |-Dropout_4: 0.03</span>"
      ],
      "text/plain": [
       "<IPython.core.display.HTML object>"
      ]
     },
     "metadata": {},
     "output_type": "display_data"
    },
    {
     "data": {
      "text/html": [
       "<span style=\"color:blue\"> |-N_Layers: 4</span>"
      ],
      "text/plain": [
       "<IPython.core.display.HTML object>"
      ]
     },
     "metadata": {},
     "output_type": "display_data"
    },
    {
     "data": {
      "text/html": [
       "<span style=\"color:cyan\"> |-activation2_0: swish</span>"
      ],
      "text/plain": [
       "<IPython.core.display.HTML object>"
      ]
     },
     "metadata": {},
     "output_type": "display_data"
    },
    {
     "data": {
      "text/html": [
       "<span style=\"color:blue\"> |-activation2_1: selu</span>"
      ],
      "text/plain": [
       "<IPython.core.display.HTML object>"
      ]
     },
     "metadata": {},
     "output_type": "display_data"
    },
    {
     "data": {
      "text/html": [
       "<span style=\"color:cyan\"> |-activation2_2: swish</span>"
      ],
      "text/plain": [
       "<IPython.core.display.HTML object>"
      ]
     },
     "metadata": {},
     "output_type": "display_data"
    },
    {
     "data": {
      "text/html": [
       "<span style=\"color:blue\"> |-activation2_3: swish</span>"
      ],
      "text/plain": [
       "<IPython.core.display.HTML object>"
      ]
     },
     "metadata": {},
     "output_type": "display_data"
    },
    {
     "data": {
      "text/html": [
       "<span style=\"color:cyan\"> |-activation2_4: swish</span>"
      ],
      "text/plain": [
       "<IPython.core.display.HTML object>"
      ]
     },
     "metadata": {},
     "output_type": "display_data"
    },
    {
     "data": {
      "text/html": [
       "<span style=\"color:blue\"> |-number_of_neurons2_0: 1830</span>"
      ],
      "text/plain": [
       "<IPython.core.display.HTML object>"
      ]
     },
     "metadata": {},
     "output_type": "display_data"
    },
    {
     "data": {
      "text/html": [
       "<span style=\"color:cyan\"> |-number_of_neurons2_1: 835</span>"
      ],
      "text/plain": [
       "<IPython.core.display.HTML object>"
      ]
     },
     "metadata": {},
     "output_type": "display_data"
    },
    {
     "data": {
      "text/html": [
       "<span style=\"color:blue\"> |-number_of_neurons2_2: 589</span>"
      ],
      "text/plain": [
       "<IPython.core.display.HTML object>"
      ]
     },
     "metadata": {},
     "output_type": "display_data"
    },
    {
     "data": {
      "text/html": [
       "<span style=\"color:cyan\"> |-number_of_neurons2_3: 769</span>"
      ],
      "text/plain": [
       "<IPython.core.display.HTML object>"
      ]
     },
     "metadata": {},
     "output_type": "display_data"
    },
    {
     "data": {
      "text/html": [
       "<span style=\"color:blue\"> |-number_of_neurons2_4: 653</span>"
      ],
      "text/plain": [
       "<IPython.core.display.HTML object>"
      ]
     },
     "metadata": {},
     "output_type": "display_data"
    },
    {
     "name": "stdout",
     "output_type": "stream",
     "text": [
      "Epoch 1/150\n",
      "138/138 [==============================] - 8s 57ms/step - loss: 0.2670 - accuracy: 0.0282 - val_loss: 0.0273 - val_accuracy: 0.0743\n",
      "Epoch 2/150\n",
      "138/138 [==============================] - 8s 57ms/step - loss: 0.0240 - accuracy: 0.0521 - val_loss: 0.0208 - val_accuracy: 0.0535\n",
      "Epoch 3/150\n",
      "138/138 [==============================] - 8s 58ms/step - loss: 0.0220 - accuracy: 0.0733 - val_loss: 0.0197 - val_accuracy: 0.0768\n",
      "Epoch 4/150\n",
      "138/138 [==============================] - 8s 59ms/step - loss: 0.0205 - accuracy: 0.0878 - val_loss: 0.0187 - val_accuracy: 0.1255\n",
      "Epoch 5/150\n",
      "138/138 [==============================] - 9s 68ms/step - loss: 0.0195 - accuracy: 0.1020 - val_loss: 0.0182 - val_accuracy: 0.0927\n",
      "Epoch 6/150\n",
      "138/138 [==============================] - 8s 61ms/step - loss: 0.0189 - accuracy: 0.1129 - val_loss: 0.0176 - val_accuracy: 0.1062\n",
      "Epoch 7/150\n",
      "138/138 [==============================] - 8s 57ms/step - loss: 0.0184 - accuracy: 0.1187 - val_loss: 0.0174 - val_accuracy: 0.1351\n",
      "Epoch 8/150\n",
      "138/138 [==============================] - 8s 59ms/step - loss: 0.0178 - accuracy: 0.1240 - val_loss: 0.0172 - val_accuracy: 0.1487\n",
      "Epoch 9/150\n",
      "138/138 [==============================] - 8s 57ms/step - loss: 0.0175 - accuracy: 0.1305 - val_loss: 0.0169 - val_accuracy: 0.1503\n",
      "Epoch 10/150\n",
      "138/138 [==============================] - 9s 64ms/step - loss: 0.0171 - accuracy: 0.1382 - val_loss: 0.0168 - val_accuracy: 0.1298\n",
      "Epoch 11/150\n",
      "138/138 [==============================] - 9s 66ms/step - loss: 0.0170 - accuracy: 0.1410 - val_loss: 0.0167 - val_accuracy: 0.1276\n",
      "Epoch 12/150\n",
      "138/138 [==============================] - 10s 69ms/step - loss: 0.0167 - accuracy: 0.1448 - val_loss: 0.0166 - val_accuracy: 0.1319\n",
      "Epoch 13/150\n",
      "138/138 [==============================] - 8s 57ms/step - loss: 0.0163 - accuracy: 0.1503 - val_loss: 0.0165 - val_accuracy: 0.1547\n",
      "Epoch 14/150\n",
      "138/138 [==============================] - 8s 56ms/step - loss: 0.0160 - accuracy: 0.1566 - val_loss: 0.0163 - val_accuracy: 0.1412\n",
      "Epoch 15/150\n",
      "138/138 [==============================] - 8s 56ms/step - loss: 0.0158 - accuracy: 0.1638 - val_loss: 0.0164 - val_accuracy: 0.1405\n",
      "Epoch 16/150\n",
      "138/138 [==============================] - 8s 58ms/step - loss: 0.0155 - accuracy: 0.1647 - val_loss: 0.0164 - val_accuracy: 0.1405\n",
      "Epoch 17/150\n",
      "137/138 [============================>.] - ETA: 0s - loss: 0.0154 - accuracy: 0.1719\n",
      "Epoch 00017: ReduceLROnPlateau reducing learning rate to 0.00010000000474974513.\n",
      "138/138 [==============================] - 8s 56ms/step - loss: 0.0154 - accuracy: 0.1718 - val_loss: 0.0164 - val_accuracy: 0.1462\n",
      "Epoch 18/150\n",
      "138/138 [==============================] - 8s 56ms/step - loss: 0.0146 - accuracy: 0.1788 - val_loss: 0.0161 - val_accuracy: 0.1462\n",
      "Epoch 19/150\n",
      "138/138 [==============================] - 8s 58ms/step - loss: 0.0144 - accuracy: 0.1852 - val_loss: 0.0160 - val_accuracy: 0.1467\n",
      "Epoch 20/150\n",
      "138/138 [==============================] - 8s 61ms/step - loss: 0.0144 - accuracy: 0.1850 - val_loss: 0.0160 - val_accuracy: 0.1449\n",
      "Epoch 21/150\n",
      "137/138 [============================>.] - ETA: 0s - loss: 0.0142 - accuracy: 0.1886\n",
      "Epoch 00021: ReduceLROnPlateau reducing learning rate to 1.0000000474974514e-05.\n",
      "138/138 [==============================] - 8s 56ms/step - loss: 0.0142 - accuracy: 0.1886 - val_loss: 0.0160 - val_accuracy: 0.1472\n",
      "Epoch 22/150\n",
      "138/138 [==============================] - 8s 55ms/step - loss: 0.0141 - accuracy: 0.1922 - val_loss: 0.0160 - val_accuracy: 0.1467\n",
      "Epoch 23/150\n",
      "138/138 [==============================] - 8s 55ms/step - loss: 0.0141 - accuracy: 0.1913 - val_loss: 0.0160 - val_accuracy: 0.1474\n",
      "Epoch 24/150\n",
      "137/138 [============================>.] - ETA: 0s - loss: 0.0141 - accuracy: 0.1907\n",
      "Epoch 00024: ReduceLROnPlateau reducing learning rate to 1.0000000656873453e-06.\n",
      "138/138 [==============================] - 8s 57ms/step - loss: 0.0141 - accuracy: 0.1906 - val_loss: 0.0160 - val_accuracy: 0.1478\n",
      "Epoch 25/150\n",
      "138/138 [==============================] - 8s 56ms/step - loss: 0.0141 - accuracy: 0.1913 - val_loss: 0.0160 - val_accuracy: 0.1478\n",
      "Epoch 26/150\n",
      "138/138 [==============================] - 8s 56ms/step - loss: 0.0141 - accuracy: 0.1878 - val_loss: 0.0160 - val_accuracy: 0.1478\n",
      "Epoch 27/150\n",
      "137/138 [============================>.] - ETA: 0s - loss: 0.0141 - accuracy: 0.1919\n",
      "Epoch 00027: ReduceLROnPlateau reducing learning rate to 1.0000001111620805e-07.\n",
      "138/138 [==============================] - 9s 64ms/step - loss: 0.0141 - accuracy: 0.1919 - val_loss: 0.0160 - val_accuracy: 0.1481\n",
      "Epoch 28/150\n",
      "138/138 [==============================] - 9s 69ms/step - loss: 0.0141 - accuracy: 0.1922 - val_loss: 0.0160 - val_accuracy: 0.1481\n",
      "Epoch 29/150\n",
      "138/138 [==============================] - 9s 66ms/step - loss: 0.0141 - accuracy: 0.1890 - val_loss: 0.0160 - val_accuracy: 0.1481\n",
      "Epoch 30/150\n",
      "137/138 [============================>.] - ETA: 0s - loss: 0.0140 - accuracy: 0.1928\n",
      "Epoch 00030: ReduceLROnPlateau reducing learning rate to 1.000000082740371e-08.\n",
      "138/138 [==============================] - 9s 64ms/step - loss: 0.0140 - accuracy: 0.1928 - val_loss: 0.0160 - val_accuracy: 0.1478\n",
      "Epoch 31/150\n",
      "138/138 [==============================] - 8s 57ms/step - loss: 0.0140 - accuracy: 0.1926 - val_loss: 0.0160 - val_accuracy: 0.1476\n",
      "Epoch 32/150\n",
      "138/138 [==============================] - 8s 56ms/step - loss: 0.0141 - accuracy: 0.1891 - val_loss: 0.0160 - val_accuracy: 0.1481\n",
      "Epoch 33/150\n",
      "137/138 [============================>.] - ETA: 0s - loss: 0.0141 - accuracy: 0.1936\n",
      "Epoch 00033: ReduceLROnPlateau reducing learning rate to 1.000000082740371e-09.\n",
      "138/138 [==============================] - 8s 55ms/step - loss: 0.0141 - accuracy: 0.1936 - val_loss: 0.0160 - val_accuracy: 0.1476\n",
      "Epoch 34/150\n",
      "138/138 [==============================] - 8s 60ms/step - loss: 0.0141 - accuracy: 0.1907 - val_loss: 0.0160 - val_accuracy: 0.1478\n",
      "Epoch 35/150\n",
      "138/138 [==============================] - 8s 61ms/step - loss: 0.0141 - accuracy: 0.1895 - val_loss: 0.0160 - val_accuracy: 0.1474\n",
      "Epoch 36/150\n",
      "137/138 [============================>.] - ETA: 0s - loss: 0.0141 - accuracy: 0.1933\n",
      "Epoch 00036: ReduceLROnPlateau reducing learning rate to 1.000000082740371e-10.\n",
      "138/138 [==============================] - 8s 55ms/step - loss: 0.0141 - accuracy: 0.1932 - val_loss: 0.0160 - val_accuracy: 0.1478\n",
      "Epoch 37/150\n",
      "138/138 [==============================] - 8s 56ms/step - loss: 0.0141 - accuracy: 0.1891 - val_loss: 0.0160 - val_accuracy: 0.1474\n",
      "Epoch 38/150\n",
      "138/138 [==============================] - 8s 55ms/step - loss: 0.0140 - accuracy: 0.1913 - val_loss: 0.0160 - val_accuracy: 0.1474\n",
      "Epoch 39/150\n",
      "137/138 [============================>.] - ETA: 0s - loss: 0.0141 - accuracy: 0.1916\n",
      "Epoch 00039: ReduceLROnPlateau reducing learning rate to 1.000000082740371e-11.\n",
      "Restoring model weights from the end of the best epoch.\n",
      "138/138 [==============================] - 8s 56ms/step - loss: 0.0141 - accuracy: 0.1915 - val_loss: 0.0160 - val_accuracy: 0.1476\n",
      "Epoch 00039: early stopping\n"
     ]
    },
    {
     "data": {
      "text/html": [
       "<span style=\"color:#4527A0\"><h1 style=\"font-size:18px\">Trial complete</h1></span>"
      ],
      "text/plain": [
       "<IPython.core.display.HTML object>"
      ]
     },
     "metadata": {},
     "output_type": "display_data"
    },
    {
     "data": {
      "text/html": [
       "<span style=\"color:#4527A0\"><h1 style=\"font-size:18px\">Trial summary</h1></span>"
      ],
      "text/plain": [
       "<IPython.core.display.HTML object>"
      ]
     },
     "metadata": {},
     "output_type": "display_data"
    },
    {
     "data": {
      "text/html": [
       "<span style=\"color:cyan\"> |-Trial ID: 05510037a839f167a0097a03a8bc69b5</span>"
      ],
      "text/plain": [
       "<IPython.core.display.HTML object>"
      ]
     },
     "metadata": {},
     "output_type": "display_data"
    },
    {
     "data": {
      "text/html": [
       "<span style=\"color:cyan\"> |-Score: 0.016018874943256378</span>"
      ],
      "text/plain": [
       "<IPython.core.display.HTML object>"
      ]
     },
     "metadata": {},
     "output_type": "display_data"
    },
    {
     "data": {
      "text/html": [
       "<span style=\"color:cyan\"> |-Best step: 0</span>"
      ],
      "text/plain": [
       "<IPython.core.display.HTML object>"
      ]
     },
     "metadata": {},
     "output_type": "display_data"
    },
    {
     "data": {
      "text/html": [
       "<span style=\"color:#7E57C2\"><h2 style=\"font-size:16px\">Hyperparameters:</h2></span>"
      ],
      "text/plain": [
       "<IPython.core.display.HTML object>"
      ]
     },
     "metadata": {},
     "output_type": "display_data"
    },
    {
     "data": {
      "text/html": [
       "<span style=\"color:cyan\"> |-Dropout_0: 0.58</span>"
      ],
      "text/plain": [
       "<IPython.core.display.HTML object>"
      ]
     },
     "metadata": {},
     "output_type": "display_data"
    },
    {
     "data": {
      "text/html": [
       "<span style=\"color:blue\"> |-Dropout_1: 0.6</span>"
      ],
      "text/plain": [
       "<IPython.core.display.HTML object>"
      ]
     },
     "metadata": {},
     "output_type": "display_data"
    },
    {
     "data": {
      "text/html": [
       "<span style=\"color:cyan\"> |-Dropout_2: 0.23</span>"
      ],
      "text/plain": [
       "<IPython.core.display.HTML object>"
      ]
     },
     "metadata": {},
     "output_type": "display_data"
    },
    {
     "data": {
      "text/html": [
       "<span style=\"color:blue\"> |-Dropout_3: 0.2</span>"
      ],
      "text/plain": [
       "<IPython.core.display.HTML object>"
      ]
     },
     "metadata": {},
     "output_type": "display_data"
    },
    {
     "data": {
      "text/html": [
       "<span style=\"color:cyan\"> |-Dropout_4: 0.61</span>"
      ],
      "text/plain": [
       "<IPython.core.display.HTML object>"
      ]
     },
     "metadata": {},
     "output_type": "display_data"
    },
    {
     "data": {
      "text/html": [
       "<span style=\"color:blue\"> |-N_Layers: 3</span>"
      ],
      "text/plain": [
       "<IPython.core.display.HTML object>"
      ]
     },
     "metadata": {},
     "output_type": "display_data"
    },
    {
     "data": {
      "text/html": [
       "<span style=\"color:cyan\"> |-activation2_0: elu</span>"
      ],
      "text/plain": [
       "<IPython.core.display.HTML object>"
      ]
     },
     "metadata": {},
     "output_type": "display_data"
    },
    {
     "data": {
      "text/html": [
       "<span style=\"color:blue\"> |-activation2_1: selu</span>"
      ],
      "text/plain": [
       "<IPython.core.display.HTML object>"
      ]
     },
     "metadata": {},
     "output_type": "display_data"
    },
    {
     "data": {
      "text/html": [
       "<span style=\"color:cyan\"> |-activation2_2: swish</span>"
      ],
      "text/plain": [
       "<IPython.core.display.HTML object>"
      ]
     },
     "metadata": {},
     "output_type": "display_data"
    },
    {
     "data": {
      "text/html": [
       "<span style=\"color:blue\"> |-activation2_3: elu</span>"
      ],
      "text/plain": [
       "<IPython.core.display.HTML object>"
      ]
     },
     "metadata": {},
     "output_type": "display_data"
    },
    {
     "data": {
      "text/html": [
       "<span style=\"color:cyan\"> |-activation2_4: elu</span>"
      ],
      "text/plain": [
       "<IPython.core.display.HTML object>"
      ]
     },
     "metadata": {},
     "output_type": "display_data"
    },
    {
     "data": {
      "text/html": [
       "<span style=\"color:blue\"> |-number_of_neurons2_0: 1174</span>"
      ],
      "text/plain": [
       "<IPython.core.display.HTML object>"
      ]
     },
     "metadata": {},
     "output_type": "display_data"
    },
    {
     "data": {
      "text/html": [
       "<span style=\"color:cyan\"> |-number_of_neurons2_1: 700</span>"
      ],
      "text/plain": [
       "<IPython.core.display.HTML object>"
      ]
     },
     "metadata": {},
     "output_type": "display_data"
    },
    {
     "data": {
      "text/html": [
       "<span style=\"color:blue\"> |-number_of_neurons2_2: 1579</span>"
      ],
      "text/plain": [
       "<IPython.core.display.HTML object>"
      ]
     },
     "metadata": {},
     "output_type": "display_data"
    },
    {
     "data": {
      "text/html": [
       "<span style=\"color:cyan\"> |-number_of_neurons2_3: 1065</span>"
      ],
      "text/plain": [
       "<IPython.core.display.HTML object>"
      ]
     },
     "metadata": {},
     "output_type": "display_data"
    },
    {
     "data": {
      "text/html": [
       "<span style=\"color:blue\"> |-number_of_neurons2_4: 1804</span>"
      ],
      "text/plain": [
       "<IPython.core.display.HTML object>"
      ]
     },
     "metadata": {},
     "output_type": "display_data"
    },
    {
     "name": "stdout",
     "output_type": "stream",
     "text": [
      "Epoch 1/150\n",
      "138/138 [==============================] - 9s 63ms/step - loss: 0.2553 - accuracy: 0.0290 - val_loss: 0.0234 - val_accuracy: 0.0629\n",
      "Epoch 2/150\n",
      "138/138 [==============================] - 9s 63ms/step - loss: 0.0237 - accuracy: 0.0555 - val_loss: 0.0213 - val_accuracy: 0.0601\n",
      "Epoch 3/150\n",
      "138/138 [==============================] - 8s 59ms/step - loss: 0.0216 - accuracy: 0.0716 - val_loss: 0.0196 - val_accuracy: 0.1171\n",
      "Epoch 4/150\n",
      "138/138 [==============================] - 9s 62ms/step - loss: 0.0205 - accuracy: 0.0918 - val_loss: 0.0189 - val_accuracy: 0.0856\n",
      "Epoch 5/150\n",
      "138/138 [==============================] - 8s 57ms/step - loss: 0.0197 - accuracy: 0.1011 - val_loss: 0.0181 - val_accuracy: 0.1021\n",
      "Epoch 6/150\n",
      "138/138 [==============================] - 9s 65ms/step - loss: 0.0189 - accuracy: 0.1099 - val_loss: 0.0177 - val_accuracy: 0.1059\n",
      "Epoch 7/150\n",
      "138/138 [==============================] - 9s 66ms/step - loss: 0.0188 - accuracy: 0.1207 - val_loss: 0.0175 - val_accuracy: 0.1075\n",
      "Epoch 8/150\n",
      "138/138 [==============================] - 10s 69ms/step - loss: 0.0181 - accuracy: 0.1205 - val_loss: 0.0172 - val_accuracy: 0.1164\n",
      "Epoch 9/150\n",
      "138/138 [==============================] - 9s 68ms/step - loss: 0.0178 - accuracy: 0.1283 - val_loss: 0.0169 - val_accuracy: 0.1169\n",
      "Epoch 10/150\n",
      "138/138 [==============================] - 8s 57ms/step - loss: 0.0175 - accuracy: 0.1322 - val_loss: 0.0169 - val_accuracy: 0.1260\n",
      "Epoch 11/150\n",
      "138/138 [==============================] - 8s 57ms/step - loss: 0.0172 - accuracy: 0.1363 - val_loss: 0.0168 - val_accuracy: 0.1248\n",
      "Epoch 12/150\n",
      "138/138 [==============================] - 8s 56ms/step - loss: 0.0170 - accuracy: 0.1381 - val_loss: 0.0167 - val_accuracy: 0.1328\n",
      "Epoch 13/150\n",
      "138/138 [==============================] - 8s 56ms/step - loss: 0.0168 - accuracy: 0.1418 - val_loss: 0.0167 - val_accuracy: 0.1392\n",
      "Epoch 14/150\n",
      "138/138 [==============================] - 8s 56ms/step - loss: 0.0163 - accuracy: 0.1503 - val_loss: 0.0164 - val_accuracy: 0.1428\n",
      "Epoch 15/150\n",
      "138/138 [==============================] - 8s 57ms/step - loss: 0.0161 - accuracy: 0.1553 - val_loss: 0.0163 - val_accuracy: 0.1494\n",
      "Epoch 16/150\n",
      "138/138 [==============================] - 8s 57ms/step - loss: 0.0159 - accuracy: 0.1615 - val_loss: 0.0164 - val_accuracy: 0.1449\n",
      "Epoch 17/150\n",
      "138/138 [==============================] - 8s 58ms/step - loss: 0.0158 - accuracy: 0.1612 - val_loss: 0.0164 - val_accuracy: 0.1508\n",
      "Epoch 18/150\n",
      "137/138 [============================>.] - ETA: 0s - loss: 0.0157 - accuracy: 0.1653\n",
      "Epoch 00018: ReduceLROnPlateau reducing learning rate to 0.00010000000474974513.\n",
      "138/138 [==============================] - 8s 56ms/step - loss: 0.0157 - accuracy: 0.1651 - val_loss: 0.0163 - val_accuracy: 0.1474\n",
      "Epoch 19/150\n",
      "138/138 [==============================] - 8s 58ms/step - loss: 0.0149 - accuracy: 0.1752 - val_loss: 0.0161 - val_accuracy: 0.1503\n",
      "Epoch 20/150\n",
      "138/138 [==============================] - 8s 57ms/step - loss: 0.0147 - accuracy: 0.1788 - val_loss: 0.0160 - val_accuracy: 0.1531\n",
      "Epoch 21/150\n",
      "138/138 [==============================] - 8s 56ms/step - loss: 0.0146 - accuracy: 0.1813 - val_loss: 0.0160 - val_accuracy: 0.1547\n",
      "Epoch 22/150\n",
      "137/138 [============================>.] - ETA: 0s - loss: 0.0144 - accuracy: 0.1843\n",
      "Epoch 00022: ReduceLROnPlateau reducing learning rate to 1.0000000474974514e-05.\n",
      "138/138 [==============================] - 8s 56ms/step - loss: 0.0144 - accuracy: 0.1844 - val_loss: 0.0160 - val_accuracy: 0.1547\n",
      "Epoch 23/150\n",
      "138/138 [==============================] - 8s 57ms/step - loss: 0.0143 - accuracy: 0.1813 - val_loss: 0.0160 - val_accuracy: 0.1542\n",
      "Epoch 24/150\n",
      "138/138 [==============================] - 8s 60ms/step - loss: 0.0143 - accuracy: 0.1829 - val_loss: 0.0160 - val_accuracy: 0.1549\n",
      "Epoch 25/150\n",
      "137/138 [============================>.] - ETA: 0s - loss: 0.0143 - accuracy: 0.1863\n",
      "Epoch 00025: ReduceLROnPlateau reducing learning rate to 1.0000000656873453e-06.\n",
      "138/138 [==============================] - 8s 57ms/step - loss: 0.0143 - accuracy: 0.1864 - val_loss: 0.0160 - val_accuracy: 0.1554\n",
      "Epoch 26/150\n",
      "138/138 [==============================] - 8s 56ms/step - loss: 0.0142 - accuracy: 0.1866 - val_loss: 0.0160 - val_accuracy: 0.1549\n",
      "Epoch 27/150\n",
      "138/138 [==============================] - 8s 56ms/step - loss: 0.0143 - accuracy: 0.1856 - val_loss: 0.0160 - val_accuracy: 0.1544\n",
      "Epoch 28/150\n",
      "137/138 [============================>.] - ETA: 0s - loss: 0.0142 - accuracy: 0.1856\n",
      "Epoch 00028: ReduceLROnPlateau reducing learning rate to 1.0000001111620805e-07.\n",
      "138/138 [==============================] - 8s 57ms/step - loss: 0.0143 - accuracy: 0.1855 - val_loss: 0.0160 - val_accuracy: 0.1554\n",
      "Epoch 29/150\n",
      "138/138 [==============================] - 8s 56ms/step - loss: 0.0142 - accuracy: 0.1858 - val_loss: 0.0160 - val_accuracy: 0.1544\n",
      "Epoch 30/150\n",
      "138/138 [==============================] - 8s 56ms/step - loss: 0.0143 - accuracy: 0.1844 - val_loss: 0.0160 - val_accuracy: 0.1547\n",
      "Epoch 31/150\n",
      "137/138 [============================>.] - ETA: 0s - loss: 0.0143 - accuracy: 0.1874\n",
      "Epoch 00031: ReduceLROnPlateau reducing learning rate to 1.000000082740371e-08.\n",
      "138/138 [==============================] - 8s 56ms/step - loss: 0.0143 - accuracy: 0.1874 - val_loss: 0.0160 - val_accuracy: 0.1551\n",
      "Epoch 32/150\n",
      "138/138 [==============================] - 8s 60ms/step - loss: 0.0142 - accuracy: 0.1860 - val_loss: 0.0160 - val_accuracy: 0.1549\n",
      "Epoch 33/150\n",
      "138/138 [==============================] - 8s 60ms/step - loss: 0.0143 - accuracy: 0.1819 - val_loss: 0.0160 - val_accuracy: 0.1554\n",
      "Epoch 34/150\n",
      "137/138 [============================>.] - ETA: 0s - loss: 0.0143 - accuracy: 0.1867\n",
      "Epoch 00034: ReduceLROnPlateau reducing learning rate to 1.000000082740371e-09.\n",
      "138/138 [==============================] - 8s 56ms/step - loss: 0.0143 - accuracy: 0.1865 - val_loss: 0.0160 - val_accuracy: 0.1549\n",
      "Epoch 35/150\n",
      "138/138 [==============================] - 8s 55ms/step - loss: 0.0143 - accuracy: 0.1883 - val_loss: 0.0160 - val_accuracy: 0.1556\n",
      "Epoch 36/150\n",
      "138/138 [==============================] - 8s 58ms/step - loss: 0.0142 - accuracy: 0.1877 - val_loss: 0.0160 - val_accuracy: 0.1551\n",
      "Epoch 37/150\n",
      "137/138 [============================>.] - ETA: 0s - loss: 0.0142 - accuracy: 0.1874\n",
      "Epoch 00037: ReduceLROnPlateau reducing learning rate to 1.000000082740371e-10.\n",
      "138/138 [==============================] - 8s 55ms/step - loss: 0.0142 - accuracy: 0.1873 - val_loss: 0.0160 - val_accuracy: 0.1547\n",
      "Epoch 38/150\n",
      "138/138 [==============================] - 8s 56ms/step - loss: 0.0143 - accuracy: 0.1860 - val_loss: 0.0160 - val_accuracy: 0.1547\n",
      "Epoch 39/150\n",
      "137/138 [============================>.] - ETA: 0s - loss: 0.0143 - accuracy: 0.1835Restoring model weights from the end of the best epoch.\n",
      "138/138 [==============================] - 8s 61ms/step - loss: 0.0143 - accuracy: 0.1834 - val_loss: 0.0160 - val_accuracy: 0.1554\n",
      "Epoch 00039: early stopping\n"
     ]
    },
    {
     "data": {
      "text/html": [
       "<span style=\"color:#4527A0\"><h1 style=\"font-size:18px\">Trial complete</h1></span>"
      ],
      "text/plain": [
       "<IPython.core.display.HTML object>"
      ]
     },
     "metadata": {},
     "output_type": "display_data"
    },
    {
     "data": {
      "text/html": [
       "<span style=\"color:#4527A0\"><h1 style=\"font-size:18px\">Trial summary</h1></span>"
      ],
      "text/plain": [
       "<IPython.core.display.HTML object>"
      ]
     },
     "metadata": {},
     "output_type": "display_data"
    },
    {
     "data": {
      "text/html": [
       "<span style=\"color:cyan\"> |-Trial ID: 2f8e314f8661b5a99329b5011986632c</span>"
      ],
      "text/plain": [
       "<IPython.core.display.HTML object>"
      ]
     },
     "metadata": {},
     "output_type": "display_data"
    },
    {
     "data": {
      "text/html": [
       "<span style=\"color:cyan\"> |-Score: 0.01596646197140217</span>"
      ],
      "text/plain": [
       "<IPython.core.display.HTML object>"
      ]
     },
     "metadata": {},
     "output_type": "display_data"
    },
    {
     "data": {
      "text/html": [
       "<span style=\"color:cyan\"> |-Best step: 0</span>"
      ],
      "text/plain": [
       "<IPython.core.display.HTML object>"
      ]
     },
     "metadata": {},
     "output_type": "display_data"
    },
    {
     "data": {
      "text/html": [
       "<span style=\"color:#7E57C2\"><h2 style=\"font-size:16px\">Hyperparameters:</h2></span>"
      ],
      "text/plain": [
       "<IPython.core.display.HTML object>"
      ]
     },
     "metadata": {},
     "output_type": "display_data"
    },
    {
     "data": {
      "text/html": [
       "<span style=\"color:cyan\"> |-Dropout_0: 0.63</span>"
      ],
      "text/plain": [
       "<IPython.core.display.HTML object>"
      ]
     },
     "metadata": {},
     "output_type": "display_data"
    },
    {
     "data": {
      "text/html": [
       "<span style=\"color:blue\"> |-Dropout_1: 0.6</span>"
      ],
      "text/plain": [
       "<IPython.core.display.HTML object>"
      ]
     },
     "metadata": {},
     "output_type": "display_data"
    },
    {
     "data": {
      "text/html": [
       "<span style=\"color:cyan\"> |-Dropout_2: 0.28</span>"
      ],
      "text/plain": [
       "<IPython.core.display.HTML object>"
      ]
     },
     "metadata": {},
     "output_type": "display_data"
    },
    {
     "data": {
      "text/html": [
       "<span style=\"color:blue\"> |-Dropout_3: 0.27</span>"
      ],
      "text/plain": [
       "<IPython.core.display.HTML object>"
      ]
     },
     "metadata": {},
     "output_type": "display_data"
    },
    {
     "data": {
      "text/html": [
       "<span style=\"color:cyan\"> |-Dropout_4: 0.7000000000000001</span>"
      ],
      "text/plain": [
       "<IPython.core.display.HTML object>"
      ]
     },
     "metadata": {},
     "output_type": "display_data"
    },
    {
     "data": {
      "text/html": [
       "<span style=\"color:blue\"> |-N_Layers: 3</span>"
      ],
      "text/plain": [
       "<IPython.core.display.HTML object>"
      ]
     },
     "metadata": {},
     "output_type": "display_data"
    },
    {
     "data": {
      "text/html": [
       "<span style=\"color:cyan\"> |-activation2_0: elu</span>"
      ],
      "text/plain": [
       "<IPython.core.display.HTML object>"
      ]
     },
     "metadata": {},
     "output_type": "display_data"
    },
    {
     "data": {
      "text/html": [
       "<span style=\"color:blue\"> |-activation2_1: selu</span>"
      ],
      "text/plain": [
       "<IPython.core.display.HTML object>"
      ]
     },
     "metadata": {},
     "output_type": "display_data"
    },
    {
     "data": {
      "text/html": [
       "<span style=\"color:cyan\"> |-activation2_2: swish</span>"
      ],
      "text/plain": [
       "<IPython.core.display.HTML object>"
      ]
     },
     "metadata": {},
     "output_type": "display_data"
    },
    {
     "data": {
      "text/html": [
       "<span style=\"color:blue\"> |-activation2_3: elu</span>"
      ],
      "text/plain": [
       "<IPython.core.display.HTML object>"
      ]
     },
     "metadata": {},
     "output_type": "display_data"
    },
    {
     "data": {
      "text/html": [
       "<span style=\"color:cyan\"> |-activation2_4: elu</span>"
      ],
      "text/plain": [
       "<IPython.core.display.HTML object>"
      ]
     },
     "metadata": {},
     "output_type": "display_data"
    },
    {
     "data": {
      "text/html": [
       "<span style=\"color:blue\"> |-number_of_neurons2_0: 881</span>"
      ],
      "text/plain": [
       "<IPython.core.display.HTML object>"
      ]
     },
     "metadata": {},
     "output_type": "display_data"
    },
    {
     "data": {
      "text/html": [
       "<span style=\"color:cyan\"> |-number_of_neurons2_1: 677</span>"
      ],
      "text/plain": [
       "<IPython.core.display.HTML object>"
      ]
     },
     "metadata": {},
     "output_type": "display_data"
    },
    {
     "data": {
      "text/html": [
       "<span style=\"color:blue\"> |-number_of_neurons2_2: 2048</span>"
      ],
      "text/plain": [
       "<IPython.core.display.HTML object>"
      ]
     },
     "metadata": {},
     "output_type": "display_data"
    },
    {
     "data": {
      "text/html": [
       "<span style=\"color:cyan\"> |-number_of_neurons2_3: 1384</span>"
      ],
      "text/plain": [
       "<IPython.core.display.HTML object>"
      ]
     },
     "metadata": {},
     "output_type": "display_data"
    },
    {
     "data": {
      "text/html": [
       "<span style=\"color:blue\"> |-number_of_neurons2_4: 2033</span>"
      ],
      "text/plain": [
       "<IPython.core.display.HTML object>"
      ]
     },
     "metadata": {},
     "output_type": "display_data"
    },
    {
     "name": "stdout",
     "output_type": "stream",
     "text": [
      "SEED:30 Fold:1\n",
      "Epoch 1/150\n",
      "138/138 [==============================] - 8s 61ms/step - loss: 0.2997 - accuracy: 0.0296 - val_loss: 0.0291 - val_accuracy: 0.0410\n",
      "Epoch 2/150\n",
      "138/138 [==============================] - 8s 58ms/step - loss: 0.0231 - accuracy: 0.0773 - val_loss: 0.0204 - val_accuracy: 0.0847\n",
      "Epoch 3/150\n",
      "138/138 [==============================] - 8s 59ms/step - loss: 0.0194 - accuracy: 0.1077 - val_loss: 0.0186 - val_accuracy: 0.1364\n",
      "Epoch 4/150\n",
      "138/138 [==============================] - 8s 57ms/step - loss: 0.0181 - accuracy: 0.1259 - val_loss: 0.0179 - val_accuracy: 0.1173\n",
      "Epoch 5/150\n",
      "138/138 [==============================] - 8s 60ms/step - loss: 0.0172 - accuracy: 0.1365 - val_loss: 0.0175 - val_accuracy: 0.1271\n",
      "Epoch 6/150\n",
      "138/138 [==============================] - 6s 46ms/step - loss: 0.0167 - accuracy: 0.1460 - val_loss: 0.0171 - val_accuracy: 0.1342\n",
      "Epoch 7/150\n",
      "138/138 [==============================] - 7s 48ms/step - loss: 0.0160 - accuracy: 0.1601 - val_loss: 0.0169 - val_accuracy: 0.1417\n",
      "Epoch 8/150\n",
      "138/138 [==============================] - 7s 48ms/step - loss: 0.0154 - accuracy: 0.1745 - val_loss: 0.0168 - val_accuracy: 0.1467\n",
      "Epoch 9/150\n",
      "138/138 [==============================] - 7s 48ms/step - loss: 0.0147 - accuracy: 0.1925 - val_loss: 0.0169 - val_accuracy: 0.1437\n",
      "Epoch 10/150\n",
      "137/138 [============================>.] - ETA: 0s - loss: 0.0143 - accuracy: 0.2088\n",
      "Epoch 00010: ReduceLROnPlateau reducing learning rate to 0.00010000000474974513.\n",
      "138/138 [==============================] - 6s 45ms/step - loss: 0.0143 - accuracy: 0.2089 - val_loss: 0.0169 - val_accuracy: 0.1478\n",
      "Epoch 11/150\n",
      "138/138 [==============================] - 6s 45ms/step - loss: 0.0128 - accuracy: 0.2446 - val_loss: 0.0164 - val_accuracy: 0.1522\n",
      "Epoch 12/150\n",
      "138/138 [==============================] - 6s 45ms/step - loss: 0.0123 - accuracy: 0.2514 - val_loss: 0.0164 - val_accuracy: 0.1517\n",
      "Epoch 13/150\n",
      "138/138 [==============================] - 6s 45ms/step - loss: 0.0120 - accuracy: 0.2599 - val_loss: 0.0164 - val_accuracy: 0.1526\n",
      "Epoch 14/150\n",
      "137/138 [============================>.] - ETA: 0s - loss: 0.0118 - accuracy: 0.2648\n",
      "Epoch 00014: ReduceLROnPlateau reducing learning rate to 1.0000000474974514e-05.\n",
      "138/138 [==============================] - 7s 48ms/step - loss: 0.0118 - accuracy: 0.2650 - val_loss: 0.0164 - val_accuracy: 0.1513\n",
      "Epoch 15/150\n",
      "138/138 [==============================] - 6s 45ms/step - loss: 0.0115 - accuracy: 0.2737 - val_loss: 0.0164 - val_accuracy: 0.1506\n",
      "Epoch 16/150\n",
      "138/138 [==============================] - 6s 44ms/step - loss: 0.0115 - accuracy: 0.2765 - val_loss: 0.0164 - val_accuracy: 0.1501\n",
      "Epoch 17/150\n",
      "137/138 [============================>.] - ETA: 0s - loss: 0.0114 - accuracy: 0.2782\n",
      "Epoch 00017: ReduceLROnPlateau reducing learning rate to 1.0000000656873453e-06.\n",
      "138/138 [==============================] - 7s 49ms/step - loss: 0.0114 - accuracy: 0.2783 - val_loss: 0.0164 - val_accuracy: 0.1499\n",
      "Epoch 18/150\n",
      "138/138 [==============================] - 6s 45ms/step - loss: 0.0114 - accuracy: 0.2784 - val_loss: 0.0164 - val_accuracy: 0.1503\n",
      "Epoch 19/150\n",
      "138/138 [==============================] - 7s 47ms/step - loss: 0.0114 - accuracy: 0.2803 - val_loss: 0.0164 - val_accuracy: 0.1506\n",
      "Epoch 20/150\n",
      "137/138 [============================>.] - ETA: 0s - loss: 0.0114 - accuracy: 0.2771\n",
      "Epoch 00020: ReduceLROnPlateau reducing learning rate to 1.0000001111620805e-07.\n",
      "138/138 [==============================] - 6s 44ms/step - loss: 0.0114 - accuracy: 0.2770 - val_loss: 0.0164 - val_accuracy: 0.1499\n",
      "Epoch 21/150\n",
      "138/138 [==============================] - ETA: 0s - loss: 0.0114 - accuracy: 0.2802Restoring model weights from the end of the best epoch.\n",
      "138/138 [==============================] - 6s 45ms/step - loss: 0.0114 - accuracy: 0.2802 - val_loss: 0.0164 - val_accuracy: 0.1501\n",
      "Epoch 00021: early stopping\n"
     ]
    },
    {
     "data": {
      "text/html": [
       "<span style=\"color:#4527A0\"><h1 style=\"font-size:18px\">Trial complete</h1></span>"
      ],
      "text/plain": [
       "<IPython.core.display.HTML object>"
      ]
     },
     "metadata": {},
     "output_type": "display_data"
    },
    {
     "data": {
      "text/html": [
       "<span style=\"color:#4527A0\"><h1 style=\"font-size:18px\">Trial summary</h1></span>"
      ],
      "text/plain": [
       "<IPython.core.display.HTML object>"
      ]
     },
     "metadata": {},
     "output_type": "display_data"
    },
    {
     "data": {
      "text/html": [
       "<span style=\"color:cyan\"> |-Trial ID: 0e77bf79e17cf4d20c38489fba6d5376</span>"
      ],
      "text/plain": [
       "<IPython.core.display.HTML object>"
      ]
     },
     "metadata": {},
     "output_type": "display_data"
    },
    {
     "data": {
      "text/html": [
       "<span style=\"color:cyan\"> |-Score: 0.016359196975827217</span>"
      ],
      "text/plain": [
       "<IPython.core.display.HTML object>"
      ]
     },
     "metadata": {},
     "output_type": "display_data"
    },
    {
     "data": {
      "text/html": [
       "<span style=\"color:cyan\"> |-Best step: 0</span>"
      ],
      "text/plain": [
       "<IPython.core.display.HTML object>"
      ]
     },
     "metadata": {},
     "output_type": "display_data"
    },
    {
     "data": {
      "text/html": [
       "<span style=\"color:#7E57C2\"><h2 style=\"font-size:16px\">Hyperparameters:</h2></span>"
      ],
      "text/plain": [
       "<IPython.core.display.HTML object>"
      ]
     },
     "metadata": {},
     "output_type": "display_data"
    },
    {
     "data": {
      "text/html": [
       "<span style=\"color:cyan\"> |-Dropout_0: 0.65</span>"
      ],
      "text/plain": [
       "<IPython.core.display.HTML object>"
      ]
     },
     "metadata": {},
     "output_type": "display_data"
    },
    {
     "data": {
      "text/html": [
       "<span style=\"color:blue\"> |-Dropout_1: 0.15</span>"
      ],
      "text/plain": [
       "<IPython.core.display.HTML object>"
      ]
     },
     "metadata": {},
     "output_type": "display_data"
    },
    {
     "data": {
      "text/html": [
       "<span style=\"color:cyan\"> |-Dropout_2: 0.0</span>"
      ],
      "text/plain": [
       "<IPython.core.display.HTML object>"
      ]
     },
     "metadata": {},
     "output_type": "display_data"
    },
    {
     "data": {
      "text/html": [
       "<span style=\"color:blue\"> |-N_Layers: 3</span>"
      ],
      "text/plain": [
       "<IPython.core.display.HTML object>"
      ]
     },
     "metadata": {},
     "output_type": "display_data"
    },
    {
     "data": {
      "text/html": [
       "<span style=\"color:cyan\"> |-activation2_0: swish</span>"
      ],
      "text/plain": [
       "<IPython.core.display.HTML object>"
      ]
     },
     "metadata": {},
     "output_type": "display_data"
    },
    {
     "data": {
      "text/html": [
       "<span style=\"color:blue\"> |-activation2_1: selu</span>"
      ],
      "text/plain": [
       "<IPython.core.display.HTML object>"
      ]
     },
     "metadata": {},
     "output_type": "display_data"
    },
    {
     "data": {
      "text/html": [
       "<span style=\"color:cyan\"> |-activation2_2: elu</span>"
      ],
      "text/plain": [
       "<IPython.core.display.HTML object>"
      ]
     },
     "metadata": {},
     "output_type": "display_data"
    },
    {
     "data": {
      "text/html": [
       "<span style=\"color:blue\"> |-number_of_neurons2_0: 927</span>"
      ],
      "text/plain": [
       "<IPython.core.display.HTML object>"
      ]
     },
     "metadata": {},
     "output_type": "display_data"
    },
    {
     "data": {
      "text/html": [
       "<span style=\"color:cyan\"> |-number_of_neurons2_1: 1252</span>"
      ],
      "text/plain": [
       "<IPython.core.display.HTML object>"
      ]
     },
     "metadata": {},
     "output_type": "display_data"
    },
    {
     "data": {
      "text/html": [
       "<span style=\"color:blue\"> |-number_of_neurons2_2: 512</span>"
      ],
      "text/plain": [
       "<IPython.core.display.HTML object>"
      ]
     },
     "metadata": {},
     "output_type": "display_data"
    },
    {
     "name": "stdout",
     "output_type": "stream",
     "text": [
      "Epoch 1/150\n",
      "138/138 [==============================] - 12s 84ms/step - loss: 0.2918 - accuracy: 0.0391 - val_loss: 0.0309 - val_accuracy: 0.0298\n",
      "Epoch 2/150\n",
      "138/138 [==============================] - 12s 85ms/step - loss: 0.0231 - accuracy: 0.0713 - val_loss: 0.0207 - val_accuracy: 0.1132\n",
      "Epoch 3/150\n",
      "138/138 [==============================] - 12s 89ms/step - loss: 0.0193 - accuracy: 0.1023 - val_loss: 0.0186 - val_accuracy: 0.1071\n",
      "Epoch 4/150\n",
      "138/138 [==============================] - 13s 91ms/step - loss: 0.0179 - accuracy: 0.1218 - val_loss: 0.0176 - val_accuracy: 0.1191\n",
      "Epoch 5/150\n",
      "138/138 [==============================] - 12s 84ms/step - loss: 0.0172 - accuracy: 0.1367 - val_loss: 0.0175 - val_accuracy: 0.1497\n",
      "Epoch 6/150\n",
      "138/138 [==============================] - 11s 83ms/step - loss: 0.0164 - accuracy: 0.1509 - val_loss: 0.0174 - val_accuracy: 0.1323\n",
      "Epoch 7/150\n",
      "138/138 [==============================] - 12s 85ms/step - loss: 0.0157 - accuracy: 0.1588 - val_loss: 0.0173 - val_accuracy: 0.1367\n",
      "Epoch 8/150\n",
      "138/138 [==============================] - 12s 87ms/step - loss: 0.0153 - accuracy: 0.1726 - val_loss: 0.0171 - val_accuracy: 0.1383\n",
      "Epoch 9/150\n",
      "138/138 [==============================] - 12s 84ms/step - loss: 0.0146 - accuracy: 0.1875 - val_loss: 0.0173 - val_accuracy: 0.1490\n",
      "Epoch 10/150\n",
      "138/138 [==============================] - 11s 83ms/step - loss: 0.0140 - accuracy: 0.1981 - val_loss: 0.0173 - val_accuracy: 0.1483\n",
      "Epoch 11/150\n",
      "137/138 [============================>.] - ETA: 0s - loss: 0.0135 - accuracy: 0.2124\n",
      "Epoch 00011: ReduceLROnPlateau reducing learning rate to 0.00010000000474974513.\n",
      "138/138 [==============================] - 11s 82ms/step - loss: 0.0135 - accuracy: 0.2123 - val_loss: 0.0173 - val_accuracy: 0.1467\n",
      "Epoch 12/150\n",
      "138/138 [==============================] - 14s 99ms/step - loss: 0.0117 - accuracy: 0.2599 - val_loss: 0.0166 - val_accuracy: 0.1554\n",
      "Epoch 13/150\n",
      "138/138 [==============================] - 15s 106ms/step - loss: 0.0111 - accuracy: 0.2769 - val_loss: 0.0166 - val_accuracy: 0.1565\n",
      "Epoch 14/150\n",
      "138/138 [==============================] - 14s 98ms/step - loss: 0.0107 - accuracy: 0.2894 - val_loss: 0.0168 - val_accuracy: 0.1576\n",
      "Epoch 15/150\n",
      "137/138 [============================>.] - ETA: 0s - loss: 0.0105 - accuracy: 0.3008\n",
      "Epoch 00015: ReduceLROnPlateau reducing learning rate to 1.0000000474974514e-05.\n",
      "138/138 [==============================] - 14s 103ms/step - loss: 0.0105 - accuracy: 0.3008 - val_loss: 0.0169 - val_accuracy: 0.1569\n",
      "Epoch 16/150\n",
      "138/138 [==============================] - 12s 87ms/step - loss: 0.0101 - accuracy: 0.3127 - val_loss: 0.0169 - val_accuracy: 0.1567\n",
      "Epoch 17/150\n",
      "138/138 [==============================] - 11s 83ms/step - loss: 0.0101 - accuracy: 0.3119 - val_loss: 0.0170 - val_accuracy: 0.1574\n",
      "Epoch 18/150\n",
      "137/138 [============================>.] - ETA: 0s - loss: 0.0100 - accuracy: 0.3160\n",
      "Epoch 00018: ReduceLROnPlateau reducing learning rate to 1.0000000656873453e-06.\n",
      "138/138 [==============================] - 12s 86ms/step - loss: 0.0100 - accuracy: 0.3158 - val_loss: 0.0170 - val_accuracy: 0.1588\n",
      "Epoch 19/150\n",
      "138/138 [==============================] - 11s 81ms/step - loss: 0.0100 - accuracy: 0.3137 - val_loss: 0.0170 - val_accuracy: 0.1588\n",
      "Epoch 20/150\n",
      "138/138 [==============================] - 11s 81ms/step - loss: 0.0100 - accuracy: 0.3165 - val_loss: 0.0170 - val_accuracy: 0.1581\n",
      "Epoch 21/150\n",
      "137/138 [============================>.] - ETA: 0s - loss: 0.0100 - accuracy: 0.3173\n",
      "Epoch 00021: ReduceLROnPlateau reducing learning rate to 1.0000001111620805e-07.\n",
      "138/138 [==============================] - 12s 84ms/step - loss: 0.0100 - accuracy: 0.3173 - val_loss: 0.0170 - val_accuracy: 0.1581\n",
      "Epoch 22/150\n",
      "138/138 [==============================] - ETA: 0s - loss: 0.0100 - accuracy: 0.3156Restoring model weights from the end of the best epoch.\n",
      "138/138 [==============================] - 12s 84ms/step - loss: 0.0100 - accuracy: 0.3156 - val_loss: 0.0170 - val_accuracy: 0.1583\n",
      "Epoch 00022: early stopping\n"
     ]
    },
    {
     "data": {
      "text/html": [
       "<span style=\"color:#4527A0\"><h1 style=\"font-size:18px\">Trial complete</h1></span>"
      ],
      "text/plain": [
       "<IPython.core.display.HTML object>"
      ]
     },
     "metadata": {},
     "output_type": "display_data"
    },
    {
     "data": {
      "text/html": [
       "<span style=\"color:#4527A0\"><h1 style=\"font-size:18px\">Trial summary</h1></span>"
      ],
      "text/plain": [
       "<IPython.core.display.HTML object>"
      ]
     },
     "metadata": {},
     "output_type": "display_data"
    },
    {
     "data": {
      "text/html": [
       "<span style=\"color:cyan\"> |-Trial ID: fd6cab9b873600cabbf427fdd2c77d6b</span>"
      ],
      "text/plain": [
       "<IPython.core.display.HTML object>"
      ]
     },
     "metadata": {},
     "output_type": "display_data"
    },
    {
     "data": {
      "text/html": [
       "<span style=\"color:cyan\"> |-Score: 0.016608867794275284</span>"
      ],
      "text/plain": [
       "<IPython.core.display.HTML object>"
      ]
     },
     "metadata": {},
     "output_type": "display_data"
    },
    {
     "data": {
      "text/html": [
       "<span style=\"color:cyan\"> |-Best step: 0</span>"
      ],
      "text/plain": [
       "<IPython.core.display.HTML object>"
      ]
     },
     "metadata": {},
     "output_type": "display_data"
    },
    {
     "data": {
      "text/html": [
       "<span style=\"color:#7E57C2\"><h2 style=\"font-size:16px\">Hyperparameters:</h2></span>"
      ],
      "text/plain": [
       "<IPython.core.display.HTML object>"
      ]
     },
     "metadata": {},
     "output_type": "display_data"
    },
    {
     "data": {
      "text/html": [
       "<span style=\"color:cyan\"> |-Dropout_0: 0.05</span>"
      ],
      "text/plain": [
       "<IPython.core.display.HTML object>"
      ]
     },
     "metadata": {},
     "output_type": "display_data"
    },
    {
     "data": {
      "text/html": [
       "<span style=\"color:blue\"> |-Dropout_1: 0.64</span>"
      ],
      "text/plain": [
       "<IPython.core.display.HTML object>"
      ]
     },
     "metadata": {},
     "output_type": "display_data"
    },
    {
     "data": {
      "text/html": [
       "<span style=\"color:cyan\"> |-Dropout_2: 0.02</span>"
      ],
      "text/plain": [
       "<IPython.core.display.HTML object>"
      ]
     },
     "metadata": {},
     "output_type": "display_data"
    },
    {
     "data": {
      "text/html": [
       "<span style=\"color:blue\"> |-Dropout_3: 0.0</span>"
      ],
      "text/plain": [
       "<IPython.core.display.HTML object>"
      ]
     },
     "metadata": {},
     "output_type": "display_data"
    },
    {
     "data": {
      "text/html": [
       "<span style=\"color:cyan\"> |-Dropout_4: 0.0</span>"
      ],
      "text/plain": [
       "<IPython.core.display.HTML object>"
      ]
     },
     "metadata": {},
     "output_type": "display_data"
    },
    {
     "data": {
      "text/html": [
       "<span style=\"color:blue\"> |-N_Layers: 5</span>"
      ],
      "text/plain": [
       "<IPython.core.display.HTML object>"
      ]
     },
     "metadata": {},
     "output_type": "display_data"
    },
    {
     "data": {
      "text/html": [
       "<span style=\"color:cyan\"> |-activation2_0: selu</span>"
      ],
      "text/plain": [
       "<IPython.core.display.HTML object>"
      ]
     },
     "metadata": {},
     "output_type": "display_data"
    },
    {
     "data": {
      "text/html": [
       "<span style=\"color:blue\"> |-activation2_1: elu</span>"
      ],
      "text/plain": [
       "<IPython.core.display.HTML object>"
      ]
     },
     "metadata": {},
     "output_type": "display_data"
    },
    {
     "data": {
      "text/html": [
       "<span style=\"color:cyan\"> |-activation2_2: elu</span>"
      ],
      "text/plain": [
       "<IPython.core.display.HTML object>"
      ]
     },
     "metadata": {},
     "output_type": "display_data"
    },
    {
     "data": {
      "text/html": [
       "<span style=\"color:blue\"> |-activation2_3: elu</span>"
      ],
      "text/plain": [
       "<IPython.core.display.HTML object>"
      ]
     },
     "metadata": {},
     "output_type": "display_data"
    },
    {
     "data": {
      "text/html": [
       "<span style=\"color:cyan\"> |-activation2_4: elu</span>"
      ],
      "text/plain": [
       "<IPython.core.display.HTML object>"
      ]
     },
     "metadata": {},
     "output_type": "display_data"
    },
    {
     "data": {
      "text/html": [
       "<span style=\"color:blue\"> |-number_of_neurons2_0: 1631</span>"
      ],
      "text/plain": [
       "<IPython.core.display.HTML object>"
      ]
     },
     "metadata": {},
     "output_type": "display_data"
    },
    {
     "data": {
      "text/html": [
       "<span style=\"color:cyan\"> |-number_of_neurons2_1: 900</span>"
      ],
      "text/plain": [
       "<IPython.core.display.HTML object>"
      ]
     },
     "metadata": {},
     "output_type": "display_data"
    },
    {
     "data": {
      "text/html": [
       "<span style=\"color:blue\"> |-number_of_neurons2_2: 1477</span>"
      ],
      "text/plain": [
       "<IPython.core.display.HTML object>"
      ]
     },
     "metadata": {},
     "output_type": "display_data"
    },
    {
     "data": {
      "text/html": [
       "<span style=\"color:cyan\"> |-number_of_neurons2_3: 512</span>"
      ],
      "text/plain": [
       "<IPython.core.display.HTML object>"
      ]
     },
     "metadata": {},
     "output_type": "display_data"
    },
    {
     "data": {
      "text/html": [
       "<span style=\"color:blue\"> |-number_of_neurons2_4: 512</span>"
      ],
      "text/plain": [
       "<IPython.core.display.HTML object>"
      ]
     },
     "metadata": {},
     "output_type": "display_data"
    },
    {
     "name": "stdout",
     "output_type": "stream",
     "text": [
      "Epoch 1/150\n",
      "138/138 [==============================] - 4s 29ms/step - loss: 0.3283 - accuracy: 0.0344 - val_loss: 0.0291 - val_accuracy: 0.0831\n",
      "Epoch 2/150\n",
      "138/138 [==============================] - 4s 29ms/step - loss: 0.0259 - accuracy: 0.0648 - val_loss: 0.0212 - val_accuracy: 0.0998\n",
      "Epoch 3/150\n",
      "138/138 [==============================] - 4s 29ms/step - loss: 0.0214 - accuracy: 0.0930 - val_loss: 0.0196 - val_accuracy: 0.1223\n",
      "Epoch 4/150\n",
      "138/138 [==============================] - 4s 27ms/step - loss: 0.0199 - accuracy: 0.1080 - val_loss: 0.0189 - val_accuracy: 0.0991\n",
      "Epoch 5/150\n",
      "138/138 [==============================] - 4s 28ms/step - loss: 0.0189 - accuracy: 0.1199 - val_loss: 0.0181 - val_accuracy: 0.1153\n",
      "Epoch 6/150\n",
      "138/138 [==============================] - 4s 27ms/step - loss: 0.0182 - accuracy: 0.1255 - val_loss: 0.0178 - val_accuracy: 0.1219\n",
      "Epoch 7/150\n",
      "138/138 [==============================] - 4s 27ms/step - loss: 0.0177 - accuracy: 0.1335 - val_loss: 0.0174 - val_accuracy: 0.1228\n",
      "Epoch 8/150\n",
      "138/138 [==============================] - 4s 27ms/step - loss: 0.0174 - accuracy: 0.1396 - val_loss: 0.0178 - val_accuracy: 0.1273\n",
      "Epoch 9/150\n",
      "138/138 [==============================] - 4s 27ms/step - loss: 0.0171 - accuracy: 0.1421 - val_loss: 0.0173 - val_accuracy: 0.1296\n",
      "Epoch 10/150\n",
      "138/138 [==============================] - 4s 27ms/step - loss: 0.0165 - accuracy: 0.1544 - val_loss: 0.0172 - val_accuracy: 0.1273\n",
      "Epoch 11/150\n",
      "138/138 [==============================] - 4s 29ms/step - loss: 0.0160 - accuracy: 0.1611 - val_loss: 0.0168 - val_accuracy: 0.1410\n",
      "Epoch 12/150\n",
      "138/138 [==============================] - 4s 27ms/step - loss: 0.0155 - accuracy: 0.1731 - val_loss: 0.0167 - val_accuracy: 0.1392\n",
      "Epoch 13/150\n",
      "138/138 [==============================] - 4s 27ms/step - loss: 0.0150 - accuracy: 0.1832 - val_loss: 0.0167 - val_accuracy: 0.1426\n",
      "Epoch 14/150\n",
      "138/138 [==============================] - 4s 27ms/step - loss: 0.0145 - accuracy: 0.1960 - val_loss: 0.0166 - val_accuracy: 0.1440\n",
      "Epoch 15/150\n",
      "138/138 [==============================] - 4s 29ms/step - loss: 0.0140 - accuracy: 0.2095 - val_loss: 0.0166 - val_accuracy: 0.1497\n",
      "Epoch 16/150\n",
      "138/138 [==============================] - 4s 27ms/step - loss: 0.0135 - accuracy: 0.2252 - val_loss: 0.0169 - val_accuracy: 0.1458\n",
      "Epoch 17/150\n",
      "138/138 [==============================] - 4s 28ms/step - loss: 0.0129 - accuracy: 0.2349 - val_loss: 0.0168 - val_accuracy: 0.1478\n",
      "Epoch 18/150\n",
      "137/138 [============================>.] - ETA: 0s - loss: 0.0122 - accuracy: 0.2608\n",
      "Epoch 00018: ReduceLROnPlateau reducing learning rate to 0.00010000000474974513.\n",
      "138/138 [==============================] - 4s 27ms/step - loss: 0.0122 - accuracy: 0.2608 - val_loss: 0.0169 - val_accuracy: 0.1531\n",
      "Epoch 19/150\n",
      "138/138 [==============================] - 4s 27ms/step - loss: 0.0109 - accuracy: 0.2966 - val_loss: 0.0167 - val_accuracy: 0.1528\n",
      "Epoch 20/150\n",
      "138/138 [==============================] - 4s 29ms/step - loss: 0.0106 - accuracy: 0.3068 - val_loss: 0.0167 - val_accuracy: 0.1533\n",
      "Epoch 21/150\n",
      "136/138 [============================>.] - ETA: 0s - loss: 0.0104 - accuracy: 0.3134\n",
      "Epoch 00021: ReduceLROnPlateau reducing learning rate to 1.0000000474974514e-05.\n",
      "138/138 [==============================] - 4s 26ms/step - loss: 0.0104 - accuracy: 0.3137 - val_loss: 0.0168 - val_accuracy: 0.1538\n",
      "Epoch 22/150\n",
      "138/138 [==============================] - 4s 27ms/step - loss: 0.0101 - accuracy: 0.3261 - val_loss: 0.0168 - val_accuracy: 0.1540\n",
      "Epoch 23/150\n",
      "138/138 [==============================] - 4s 27ms/step - loss: 0.0101 - accuracy: 0.3276 - val_loss: 0.0168 - val_accuracy: 0.1542\n",
      "Epoch 24/150\n",
      "136/138 [============================>.] - ETA: 0s - loss: 0.0101 - accuracy: 0.3251\n",
      "Epoch 00024: ReduceLROnPlateau reducing learning rate to 1.0000000656873453e-06.\n",
      "138/138 [==============================] - 4s 27ms/step - loss: 0.0101 - accuracy: 0.3249 - val_loss: 0.0168 - val_accuracy: 0.1544\n",
      "Epoch 25/150\n",
      "137/138 [============================>.] - ETA: 0s - loss: 0.0101 - accuracy: 0.3252Restoring model weights from the end of the best epoch.\n",
      "138/138 [==============================] - 4s 27ms/step - loss: 0.0101 - accuracy: 0.3252 - val_loss: 0.0168 - val_accuracy: 0.1544\n",
      "Epoch 00025: early stopping\n"
     ]
    },
    {
     "data": {
      "text/html": [
       "<span style=\"color:#4527A0\"><h1 style=\"font-size:18px\">Trial complete</h1></span>"
      ],
      "text/plain": [
       "<IPython.core.display.HTML object>"
      ]
     },
     "metadata": {},
     "output_type": "display_data"
    },
    {
     "data": {
      "text/html": [
       "<span style=\"color:#4527A0\"><h1 style=\"font-size:18px\">Trial summary</h1></span>"
      ],
      "text/plain": [
       "<IPython.core.display.HTML object>"
      ]
     },
     "metadata": {},
     "output_type": "display_data"
    },
    {
     "data": {
      "text/html": [
       "<span style=\"color:cyan\"> |-Trial ID: 5565eac71ae23cf454174c5da5155b11</span>"
      ],
      "text/plain": [
       "<IPython.core.display.HTML object>"
      ]
     },
     "metadata": {},
     "output_type": "display_data"
    },
    {
     "data": {
      "text/html": [
       "<span style=\"color:cyan\"> |-Score: 0.016570117324590683</span>"
      ],
      "text/plain": [
       "<IPython.core.display.HTML object>"
      ]
     },
     "metadata": {},
     "output_type": "display_data"
    },
    {
     "data": {
      "text/html": [
       "<span style=\"color:cyan\"> |-Best step: 0</span>"
      ],
      "text/plain": [
       "<IPython.core.display.HTML object>"
      ]
     },
     "metadata": {},
     "output_type": "display_data"
    },
    {
     "data": {
      "text/html": [
       "<span style=\"color:#7E57C2\"><h2 style=\"font-size:16px\">Hyperparameters:</h2></span>"
      ],
      "text/plain": [
       "<IPython.core.display.HTML object>"
      ]
     },
     "metadata": {},
     "output_type": "display_data"
    },
    {
     "data": {
      "text/html": [
       "<span style=\"color:cyan\"> |-Dropout_0: 0.36</span>"
      ],
      "text/plain": [
       "<IPython.core.display.HTML object>"
      ]
     },
     "metadata": {},
     "output_type": "display_data"
    },
    {
     "data": {
      "text/html": [
       "<span style=\"color:blue\"> |-Dropout_1: 0.4</span>"
      ],
      "text/plain": [
       "<IPython.core.display.HTML object>"
      ]
     },
     "metadata": {},
     "output_type": "display_data"
    },
    {
     "data": {
      "text/html": [
       "<span style=\"color:cyan\"> |-Dropout_2: 0.67</span>"
      ],
      "text/plain": [
       "<IPython.core.display.HTML object>"
      ]
     },
     "metadata": {},
     "output_type": "display_data"
    },
    {
     "data": {
      "text/html": [
       "<span style=\"color:blue\"> |-Dropout_3: 0.25</span>"
      ],
      "text/plain": [
       "<IPython.core.display.HTML object>"
      ]
     },
     "metadata": {},
     "output_type": "display_data"
    },
    {
     "data": {
      "text/html": [
       "<span style=\"color:cyan\"> |-Dropout_4: 0.09</span>"
      ],
      "text/plain": [
       "<IPython.core.display.HTML object>"
      ]
     },
     "metadata": {},
     "output_type": "display_data"
    },
    {
     "data": {
      "text/html": [
       "<span style=\"color:blue\"> |-N_Layers: 2</span>"
      ],
      "text/plain": [
       "<IPython.core.display.HTML object>"
      ]
     },
     "metadata": {},
     "output_type": "display_data"
    },
    {
     "data": {
      "text/html": [
       "<span style=\"color:cyan\"> |-activation2_0: elu</span>"
      ],
      "text/plain": [
       "<IPython.core.display.HTML object>"
      ]
     },
     "metadata": {},
     "output_type": "display_data"
    },
    {
     "data": {
      "text/html": [
       "<span style=\"color:blue\"> |-activation2_1: swish</span>"
      ],
      "text/plain": [
       "<IPython.core.display.HTML object>"
      ]
     },
     "metadata": {},
     "output_type": "display_data"
    },
    {
     "data": {
      "text/html": [
       "<span style=\"color:cyan\"> |-activation2_2: swish</span>"
      ],
      "text/plain": [
       "<IPython.core.display.HTML object>"
      ]
     },
     "metadata": {},
     "output_type": "display_data"
    },
    {
     "data": {
      "text/html": [
       "<span style=\"color:blue\"> |-activation2_3: selu</span>"
      ],
      "text/plain": [
       "<IPython.core.display.HTML object>"
      ]
     },
     "metadata": {},
     "output_type": "display_data"
    },
    {
     "data": {
      "text/html": [
       "<span style=\"color:cyan\"> |-activation2_4: swish</span>"
      ],
      "text/plain": [
       "<IPython.core.display.HTML object>"
      ]
     },
     "metadata": {},
     "output_type": "display_data"
    },
    {
     "data": {
      "text/html": [
       "<span style=\"color:blue\"> |-number_of_neurons2_0: 828</span>"
      ],
      "text/plain": [
       "<IPython.core.display.HTML object>"
      ]
     },
     "metadata": {},
     "output_type": "display_data"
    },
    {
     "data": {
      "text/html": [
       "<span style=\"color:cyan\"> |-number_of_neurons2_1: 660</span>"
      ],
      "text/plain": [
       "<IPython.core.display.HTML object>"
      ]
     },
     "metadata": {},
     "output_type": "display_data"
    },
    {
     "data": {
      "text/html": [
       "<span style=\"color:blue\"> |-number_of_neurons2_2: 1207</span>"
      ],
      "text/plain": [
       "<IPython.core.display.HTML object>"
      ]
     },
     "metadata": {},
     "output_type": "display_data"
    },
    {
     "data": {
      "text/html": [
       "<span style=\"color:cyan\"> |-number_of_neurons2_3: 729</span>"
      ],
      "text/plain": [
       "<IPython.core.display.HTML object>"
      ]
     },
     "metadata": {},
     "output_type": "display_data"
    },
    {
     "data": {
      "text/html": [
       "<span style=\"color:blue\"> |-number_of_neurons2_4: 519</span>"
      ],
      "text/plain": [
       "<IPython.core.display.HTML object>"
      ]
     },
     "metadata": {},
     "output_type": "display_data"
    },
    {
     "name": "stdout",
     "output_type": "stream",
     "text": [
      "Epoch 1/150\n",
      "138/138 [==============================] - 12s 89ms/step - loss: 0.2789 - accuracy: 0.0350 - val_loss: 0.0241 - val_accuracy: 0.0615\n",
      "Epoch 2/150\n",
      "138/138 [==============================] - 12s 89ms/step - loss: 0.0232 - accuracy: 0.0797 - val_loss: 0.0194 - val_accuracy: 0.1175\n",
      "Epoch 3/150\n",
      "138/138 [==============================] - 12s 86ms/step - loss: 0.0202 - accuracy: 0.1086 - val_loss: 0.0183 - val_accuracy: 0.1100\n",
      "Epoch 4/150\n",
      "138/138 [==============================] - 12s 89ms/step - loss: 0.0188 - accuracy: 0.1255 - val_loss: 0.0177 - val_accuracy: 0.1230\n",
      "Epoch 5/150\n",
      "138/138 [==============================] - 12s 89ms/step - loss: 0.0178 - accuracy: 0.1435 - val_loss: 0.0174 - val_accuracy: 0.1292\n",
      "Epoch 6/150\n",
      "138/138 [==============================] - 15s 106ms/step - loss: 0.0167 - accuracy: 0.1591 - val_loss: 0.0173 - val_accuracy: 0.1362\n",
      "Epoch 7/150\n",
      "138/138 [==============================] - 15s 111ms/step - loss: 0.0159 - accuracy: 0.1735 - val_loss: 0.0169 - val_accuracy: 0.1401\n",
      "Epoch 8/150\n",
      "138/138 [==============================] - 17s 120ms/step - loss: 0.0152 - accuracy: 0.1970 - val_loss: 0.0170 - val_accuracy: 0.1458\n",
      "Epoch 9/150\n",
      "138/138 [==============================] - 14s 104ms/step - loss: 0.0143 - accuracy: 0.2153 - val_loss: 0.0171 - val_accuracy: 0.1458\n",
      "Epoch 10/150\n",
      "137/138 [============================>.] - ETA: 0s - loss: 0.0132 - accuracy: 0.2411\n",
      "Epoch 00010: ReduceLROnPlateau reducing learning rate to 0.00010000000474974513.\n",
      "138/138 [==============================] - 13s 94ms/step - loss: 0.0132 - accuracy: 0.2411 - val_loss: 0.0172 - val_accuracy: 0.1469\n",
      "Epoch 11/150\n",
      "138/138 [==============================] - 13s 92ms/step - loss: 0.0109 - accuracy: 0.3130 - val_loss: 0.0169 - val_accuracy: 0.1517\n",
      "Epoch 12/150\n",
      "138/138 [==============================] - 12s 84ms/step - loss: 0.0101 - accuracy: 0.3417 - val_loss: 0.0170 - val_accuracy: 0.1540\n",
      "Epoch 13/150\n",
      "137/138 [============================>.] - ETA: 0s - loss: 0.0096 - accuracy: 0.3589\n",
      "Epoch 00013: ReduceLROnPlateau reducing learning rate to 1.0000000474974514e-05.\n",
      "138/138 [==============================] - 12s 84ms/step - loss: 0.0096 - accuracy: 0.3587 - val_loss: 0.0172 - val_accuracy: 0.1563\n",
      "Epoch 14/150\n",
      "138/138 [==============================] - 12s 86ms/step - loss: 0.0091 - accuracy: 0.3807 - val_loss: 0.0172 - val_accuracy: 0.1556\n",
      "Epoch 15/150\n",
      "138/138 [==============================] - 12s 86ms/step - loss: 0.0090 - accuracy: 0.3824 - val_loss: 0.0172 - val_accuracy: 0.1544\n",
      "Epoch 16/150\n",
      "138/138 [==============================] - ETA: 0s - loss: 0.0090 - accuracy: 0.3825\n",
      "Epoch 00016: ReduceLROnPlateau reducing learning rate to 1.0000000656873453e-06.\n",
      "138/138 [==============================] - 13s 91ms/step - loss: 0.0090 - accuracy: 0.3825 - val_loss: 0.0173 - val_accuracy: 0.1540\n",
      "Epoch 17/150\n",
      "138/138 [==============================] - 12s 84ms/step - loss: 0.0089 - accuracy: 0.3886 - val_loss: 0.0173 - val_accuracy: 0.1544\n",
      "Epoch 18/150\n",
      "138/138 [==============================] - 12s 84ms/step - loss: 0.0089 - accuracy: 0.3837 - val_loss: 0.0173 - val_accuracy: 0.1542\n",
      "Epoch 19/150\n",
      "137/138 [============================>.] - ETA: 0s - loss: 0.0089 - accuracy: 0.3870\n",
      "Epoch 00019: ReduceLROnPlateau reducing learning rate to 1.0000001111620805e-07.\n",
      "138/138 [==============================] - 12s 87ms/step - loss: 0.0089 - accuracy: 0.3869 - val_loss: 0.0173 - val_accuracy: 0.1542\n",
      "Epoch 20/150\n",
      "138/138 [==============================] - 12s 85ms/step - loss: 0.0089 - accuracy: 0.3906 - val_loss: 0.0173 - val_accuracy: 0.1542\n",
      "Epoch 21/150\n",
      "137/138 [============================>.] - ETA: 0s - loss: 0.0090 - accuracy: 0.3898Restoring model weights from the end of the best epoch.\n",
      "138/138 [==============================] - 12s 89ms/step - loss: 0.0090 - accuracy: 0.3896 - val_loss: 0.0173 - val_accuracy: 0.1544\n",
      "Epoch 00021: early stopping\n"
     ]
    },
    {
     "data": {
      "text/html": [
       "<span style=\"color:#4527A0\"><h1 style=\"font-size:18px\">Trial complete</h1></span>"
      ],
      "text/plain": [
       "<IPython.core.display.HTML object>"
      ]
     },
     "metadata": {},
     "output_type": "display_data"
    },
    {
     "data": {
      "text/html": [
       "<span style=\"color:#4527A0\"><h1 style=\"font-size:18px\">Trial summary</h1></span>"
      ],
      "text/plain": [
       "<IPython.core.display.HTML object>"
      ]
     },
     "metadata": {},
     "output_type": "display_data"
    },
    {
     "data": {
      "text/html": [
       "<span style=\"color:cyan\"> |-Trial ID: d1bf3d6272389e601754a78fead11c82</span>"
      ],
      "text/plain": [
       "<IPython.core.display.HTML object>"
      ]
     },
     "metadata": {},
     "output_type": "display_data"
    },
    {
     "data": {
      "text/html": [
       "<span style=\"color:cyan\"> |-Score: 0.016882020980119705</span>"
      ],
      "text/plain": [
       "<IPython.core.display.HTML object>"
      ]
     },
     "metadata": {},
     "output_type": "display_data"
    },
    {
     "data": {
      "text/html": [
       "<span style=\"color:cyan\"> |-Best step: 0</span>"
      ],
      "text/plain": [
       "<IPython.core.display.HTML object>"
      ]
     },
     "metadata": {},
     "output_type": "display_data"
    },
    {
     "data": {
      "text/html": [
       "<span style=\"color:#7E57C2\"><h2 style=\"font-size:16px\">Hyperparameters:</h2></span>"
      ],
      "text/plain": [
       "<IPython.core.display.HTML object>"
      ]
     },
     "metadata": {},
     "output_type": "display_data"
    },
    {
     "data": {
      "text/html": [
       "<span style=\"color:cyan\"> |-Dropout_0: 0.07</span>"
      ],
      "text/plain": [
       "<IPython.core.display.HTML object>"
      ]
     },
     "metadata": {},
     "output_type": "display_data"
    },
    {
     "data": {
      "text/html": [
       "<span style=\"color:blue\"> |-Dropout_1: 0.09</span>"
      ],
      "text/plain": [
       "<IPython.core.display.HTML object>"
      ]
     },
     "metadata": {},
     "output_type": "display_data"
    },
    {
     "data": {
      "text/html": [
       "<span style=\"color:cyan\"> |-Dropout_2: 0.5700000000000001</span>"
      ],
      "text/plain": [
       "<IPython.core.display.HTML object>"
      ]
     },
     "metadata": {},
     "output_type": "display_data"
    },
    {
     "data": {
      "text/html": [
       "<span style=\"color:blue\"> |-Dropout_3: 0.37</span>"
      ],
      "text/plain": [
       "<IPython.core.display.HTML object>"
      ]
     },
     "metadata": {},
     "output_type": "display_data"
    },
    {
     "data": {
      "text/html": [
       "<span style=\"color:cyan\"> |-Dropout_4: 0.07</span>"
      ],
      "text/plain": [
       "<IPython.core.display.HTML object>"
      ]
     },
     "metadata": {},
     "output_type": "display_data"
    },
    {
     "data": {
      "text/html": [
       "<span style=\"color:blue\"> |-N_Layers: 3</span>"
      ],
      "text/plain": [
       "<IPython.core.display.HTML object>"
      ]
     },
     "metadata": {},
     "output_type": "display_data"
    },
    {
     "data": {
      "text/html": [
       "<span style=\"color:cyan\"> |-activation2_0: elu</span>"
      ],
      "text/plain": [
       "<IPython.core.display.HTML object>"
      ]
     },
     "metadata": {},
     "output_type": "display_data"
    },
    {
     "data": {
      "text/html": [
       "<span style=\"color:blue\"> |-activation2_1: elu</span>"
      ],
      "text/plain": [
       "<IPython.core.display.HTML object>"
      ]
     },
     "metadata": {},
     "output_type": "display_data"
    },
    {
     "data": {
      "text/html": [
       "<span style=\"color:cyan\"> |-activation2_2: selu</span>"
      ],
      "text/plain": [
       "<IPython.core.display.HTML object>"
      ]
     },
     "metadata": {},
     "output_type": "display_data"
    },
    {
     "data": {
      "text/html": [
       "<span style=\"color:blue\"> |-activation2_3: selu</span>"
      ],
      "text/plain": [
       "<IPython.core.display.HTML object>"
      ]
     },
     "metadata": {},
     "output_type": "display_data"
    },
    {
     "data": {
      "text/html": [
       "<span style=\"color:cyan\"> |-activation2_4: swish</span>"
      ],
      "text/plain": [
       "<IPython.core.display.HTML object>"
      ]
     },
     "metadata": {},
     "output_type": "display_data"
    },
    {
     "data": {
      "text/html": [
       "<span style=\"color:blue\"> |-number_of_neurons2_0: 1694</span>"
      ],
      "text/plain": [
       "<IPython.core.display.HTML object>"
      ]
     },
     "metadata": {},
     "output_type": "display_data"
    },
    {
     "data": {
      "text/html": [
       "<span style=\"color:cyan\"> |-number_of_neurons2_1: 1347</span>"
      ],
      "text/plain": [
       "<IPython.core.display.HTML object>"
      ]
     },
     "metadata": {},
     "output_type": "display_data"
    },
    {
     "data": {
      "text/html": [
       "<span style=\"color:blue\"> |-number_of_neurons2_2: 1382</span>"
      ],
      "text/plain": [
       "<IPython.core.display.HTML object>"
      ]
     },
     "metadata": {},
     "output_type": "display_data"
    },
    {
     "data": {
      "text/html": [
       "<span style=\"color:cyan\"> |-number_of_neurons2_3: 567</span>"
      ],
      "text/plain": [
       "<IPython.core.display.HTML object>"
      ]
     },
     "metadata": {},
     "output_type": "display_data"
    },
    {
     "data": {
      "text/html": [
       "<span style=\"color:blue\"> |-number_of_neurons2_4: 1635</span>"
      ],
      "text/plain": [
       "<IPython.core.display.HTML object>"
      ]
     },
     "metadata": {},
     "output_type": "display_data"
    },
    {
     "name": "stdout",
     "output_type": "stream",
     "text": [
      "SEED:30 Fold:2\n",
      "Epoch 1/150\n",
      "138/138 [==============================] - 14s 105ms/step - loss: 0.2945 - accuracy: 0.0383 - val_loss: 0.0332 - val_accuracy: 0.0278\n",
      "Epoch 2/150\n",
      "138/138 [==============================] - 14s 102ms/step - loss: 0.0231 - accuracy: 0.0588 - val_loss: 0.0205 - val_accuracy: 0.0747\n",
      "Epoch 3/150\n",
      "138/138 [==============================] - 14s 104ms/step - loss: 0.0193 - accuracy: 0.0951 - val_loss: 0.0185 - val_accuracy: 0.1064\n",
      "Epoch 4/150\n",
      "138/138 [==============================] - 15s 107ms/step - loss: 0.0180 - accuracy: 0.1176 - val_loss: 0.0181 - val_accuracy: 0.1112\n",
      "Epoch 5/150\n",
      "138/138 [==============================] - 15s 106ms/step - loss: 0.0172 - accuracy: 0.1308 - val_loss: 0.0175 - val_accuracy: 0.1269\n",
      "Epoch 6/150\n",
      "138/138 [==============================] - 14s 105ms/step - loss: 0.0165 - accuracy: 0.1473 - val_loss: 0.0173 - val_accuracy: 0.1253\n",
      "Epoch 7/150\n",
      "138/138 [==============================] - 15s 105ms/step - loss: 0.0159 - accuracy: 0.1604 - val_loss: 0.0172 - val_accuracy: 0.1369\n",
      "Epoch 8/150\n",
      "138/138 [==============================] - 15s 108ms/step - loss: 0.0154 - accuracy: 0.1711 - val_loss: 0.0171 - val_accuracy: 0.1342\n",
      "Epoch 9/150\n",
      "138/138 [==============================] - 14s 103ms/step - loss: 0.0147 - accuracy: 0.1897 - val_loss: 0.0173 - val_accuracy: 0.1449\n",
      "Epoch 10/150\n",
      "138/138 [==============================] - 14s 102ms/step - loss: 0.0141 - accuracy: 0.2032 - val_loss: 0.0174 - val_accuracy: 0.1711\n",
      "Epoch 11/150\n",
      "138/138 [==============================] - ETA: 0s - loss: 0.0132 - accuracy: 0.2225\n",
      "Epoch 00011: ReduceLROnPlateau reducing learning rate to 0.00010000000474974513.\n",
      "138/138 [==============================] - 14s 104ms/step - loss: 0.0132 - accuracy: 0.2225 - val_loss: 0.0179 - val_accuracy: 0.1410\n",
      "Epoch 12/150\n",
      "138/138 [==============================] - 15s 109ms/step - loss: 0.0113 - accuracy: 0.2791 - val_loss: 0.0171 - val_accuracy: 0.1533\n",
      "Epoch 13/150\n",
      "138/138 [==============================] - 14s 102ms/step - loss: 0.0106 - accuracy: 0.3039 - val_loss: 0.0172 - val_accuracy: 0.1490\n",
      "Epoch 14/150\n",
      "137/138 [============================>.] - ETA: 0s - loss: 0.0102 - accuracy: 0.3161\n",
      "Epoch 00014: ReduceLROnPlateau reducing learning rate to 1.0000000474974514e-05.\n",
      "138/138 [==============================] - 14s 104ms/step - loss: 0.0102 - accuracy: 0.3160 - val_loss: 0.0174 - val_accuracy: 0.1506\n",
      "Epoch 15/150\n",
      "138/138 [==============================] - 14s 101ms/step - loss: 0.0098 - accuracy: 0.3324 - val_loss: 0.0174 - val_accuracy: 0.1499\n",
      "Epoch 16/150\n",
      "138/138 [==============================] - 15s 107ms/step - loss: 0.0097 - accuracy: 0.3287 - val_loss: 0.0175 - val_accuracy: 0.1490\n",
      "Epoch 17/150\n",
      "137/138 [============================>.] - ETA: 0s - loss: 0.0097 - accuracy: 0.3303\n",
      "Epoch 00017: ReduceLROnPlateau reducing learning rate to 1.0000000656873453e-06.\n",
      "138/138 [==============================] - 14s 102ms/step - loss: 0.0097 - accuracy: 0.3302 - val_loss: 0.0175 - val_accuracy: 0.1501\n",
      "Epoch 18/150\n",
      "137/138 [============================>.] - ETA: 0s - loss: 0.0096 - accuracy: 0.3321Restoring model weights from the end of the best epoch.\n",
      "138/138 [==============================] - 14s 104ms/step - loss: 0.0096 - accuracy: 0.3318 - val_loss: 0.0175 - val_accuracy: 0.1497\n",
      "Epoch 00018: early stopping\n"
     ]
    },
    {
     "data": {
      "text/html": [
       "<span style=\"color:#4527A0\"><h1 style=\"font-size:18px\">Trial complete</h1></span>"
      ],
      "text/plain": [
       "<IPython.core.display.HTML object>"
      ]
     },
     "metadata": {},
     "output_type": "display_data"
    },
    {
     "data": {
      "text/html": [
       "<span style=\"color:#4527A0\"><h1 style=\"font-size:18px\">Trial summary</h1></span>"
      ],
      "text/plain": [
       "<IPython.core.display.HTML object>"
      ]
     },
     "metadata": {},
     "output_type": "display_data"
    },
    {
     "data": {
      "text/html": [
       "<span style=\"color:cyan\"> |-Trial ID: 95b37b5f52e848ff9bc93ff635481ad2</span>"
      ],
      "text/plain": [
       "<IPython.core.display.HTML object>"
      ]
     },
     "metadata": {},
     "output_type": "display_data"
    },
    {
     "data": {
      "text/html": [
       "<span style=\"color:cyan\"> |-Score: 0.01709616929292679</span>"
      ],
      "text/plain": [
       "<IPython.core.display.HTML object>"
      ]
     },
     "metadata": {},
     "output_type": "display_data"
    },
    {
     "data": {
      "text/html": [
       "<span style=\"color:cyan\"> |-Best step: 0</span>"
      ],
      "text/plain": [
       "<IPython.core.display.HTML object>"
      ]
     },
     "metadata": {},
     "output_type": "display_data"
    },
    {
     "data": {
      "text/html": [
       "<span style=\"color:#7E57C2\"><h2 style=\"font-size:16px\">Hyperparameters:</h2></span>"
      ],
      "text/plain": [
       "<IPython.core.display.HTML object>"
      ]
     },
     "metadata": {},
     "output_type": "display_data"
    },
    {
     "data": {
      "text/html": [
       "<span style=\"color:cyan\"> |-Dropout_0: 0.56</span>"
      ],
      "text/plain": [
       "<IPython.core.display.HTML object>"
      ]
     },
     "metadata": {},
     "output_type": "display_data"
    },
    {
     "data": {
      "text/html": [
       "<span style=\"color:blue\"> |-Dropout_1: 0.48</span>"
      ],
      "text/plain": [
       "<IPython.core.display.HTML object>"
      ]
     },
     "metadata": {},
     "output_type": "display_data"
    },
    {
     "data": {
      "text/html": [
       "<span style=\"color:cyan\"> |-Dropout_2: 0.0</span>"
      ],
      "text/plain": [
       "<IPython.core.display.HTML object>"
      ]
     },
     "metadata": {},
     "output_type": "display_data"
    },
    {
     "data": {
      "text/html": [
       "<span style=\"color:blue\"> |-Dropout_3: 0.0</span>"
      ],
      "text/plain": [
       "<IPython.core.display.HTML object>"
      ]
     },
     "metadata": {},
     "output_type": "display_data"
    },
    {
     "data": {
      "text/html": [
       "<span style=\"color:cyan\"> |-Dropout_4: 0.0</span>"
      ],
      "text/plain": [
       "<IPython.core.display.HTML object>"
      ]
     },
     "metadata": {},
     "output_type": "display_data"
    },
    {
     "data": {
      "text/html": [
       "<span style=\"color:blue\"> |-Dropout_5: 0.0</span>"
      ],
      "text/plain": [
       "<IPython.core.display.HTML object>"
      ]
     },
     "metadata": {},
     "output_type": "display_data"
    },
    {
     "data": {
      "text/html": [
       "<span style=\"color:cyan\"> |-N_Layers: 6</span>"
      ],
      "text/plain": [
       "<IPython.core.display.HTML object>"
      ]
     },
     "metadata": {},
     "output_type": "display_data"
    },
    {
     "data": {
      "text/html": [
       "<span style=\"color:blue\"> |-activation2_0: swish</span>"
      ],
      "text/plain": [
       "<IPython.core.display.HTML object>"
      ]
     },
     "metadata": {},
     "output_type": "display_data"
    },
    {
     "data": {
      "text/html": [
       "<span style=\"color:cyan\"> |-activation2_1: selu</span>"
      ],
      "text/plain": [
       "<IPython.core.display.HTML object>"
      ]
     },
     "metadata": {},
     "output_type": "display_data"
    },
    {
     "data": {
      "text/html": [
       "<span style=\"color:blue\"> |-activation2_2: elu</span>"
      ],
      "text/plain": [
       "<IPython.core.display.HTML object>"
      ]
     },
     "metadata": {},
     "output_type": "display_data"
    },
    {
     "data": {
      "text/html": [
       "<span style=\"color:cyan\"> |-activation2_3: elu</span>"
      ],
      "text/plain": [
       "<IPython.core.display.HTML object>"
      ]
     },
     "metadata": {},
     "output_type": "display_data"
    },
    {
     "data": {
      "text/html": [
       "<span style=\"color:blue\"> |-activation2_4: elu</span>"
      ],
      "text/plain": [
       "<IPython.core.display.HTML object>"
      ]
     },
     "metadata": {},
     "output_type": "display_data"
    },
    {
     "data": {
      "text/html": [
       "<span style=\"color:cyan\"> |-activation2_5: elu</span>"
      ],
      "text/plain": [
       "<IPython.core.display.HTML object>"
      ]
     },
     "metadata": {},
     "output_type": "display_data"
    },
    {
     "data": {
      "text/html": [
       "<span style=\"color:blue\"> |-number_of_neurons2_0: 1896</span>"
      ],
      "text/plain": [
       "<IPython.core.display.HTML object>"
      ]
     },
     "metadata": {},
     "output_type": "display_data"
    },
    {
     "data": {
      "text/html": [
       "<span style=\"color:cyan\"> |-number_of_neurons2_1: 1889</span>"
      ],
      "text/plain": [
       "<IPython.core.display.HTML object>"
      ]
     },
     "metadata": {},
     "output_type": "display_data"
    },
    {
     "data": {
      "text/html": [
       "<span style=\"color:blue\"> |-number_of_neurons2_2: 512</span>"
      ],
      "text/plain": [
       "<IPython.core.display.HTML object>"
      ]
     },
     "metadata": {},
     "output_type": "display_data"
    },
    {
     "data": {
      "text/html": [
       "<span style=\"color:cyan\"> |-number_of_neurons2_3: 512</span>"
      ],
      "text/plain": [
       "<IPython.core.display.HTML object>"
      ]
     },
     "metadata": {},
     "output_type": "display_data"
    },
    {
     "data": {
      "text/html": [
       "<span style=\"color:blue\"> |-number_of_neurons2_4: 512</span>"
      ],
      "text/plain": [
       "<IPython.core.display.HTML object>"
      ]
     },
     "metadata": {},
     "output_type": "display_data"
    },
    {
     "data": {
      "text/html": [
       "<span style=\"color:cyan\"> |-number_of_neurons2_5: 512</span>"
      ],
      "text/plain": [
       "<IPython.core.display.HTML object>"
      ]
     },
     "metadata": {},
     "output_type": "display_data"
    },
    {
     "name": "stdout",
     "output_type": "stream",
     "text": [
      "Epoch 1/150\n",
      "138/138 [==============================] - 16s 117ms/step - loss: 0.2450 - accuracy: 0.0383 - val_loss: 0.0227 - val_accuracy: 0.0492\n",
      "Epoch 2/150\n",
      "138/138 [==============================] - 17s 122ms/step - loss: 0.0213 - accuracy: 0.0878 - val_loss: 0.0192 - val_accuracy: 0.1210\n",
      "Epoch 3/150\n",
      "138/138 [==============================] - 16s 116ms/step - loss: 0.0189 - accuracy: 0.1136 - val_loss: 0.0183 - val_accuracy: 0.1091\n",
      "Epoch 4/150\n",
      "138/138 [==============================] - 16s 119ms/step - loss: 0.0178 - accuracy: 0.1292 - val_loss: 0.0175 - val_accuracy: 0.1244\n",
      "Epoch 5/150\n",
      "138/138 [==============================] - 20s 142ms/step - loss: 0.0171 - accuracy: 0.1520 - val_loss: 0.0173 - val_accuracy: 0.1319\n",
      "Epoch 6/150\n",
      "138/138 [==============================] - 20s 147ms/step - loss: 0.0162 - accuracy: 0.1640 - val_loss: 0.0171 - val_accuracy: 0.1330\n",
      "Epoch 7/150\n",
      "138/138 [==============================] - 20s 142ms/step - loss: 0.0153 - accuracy: 0.1831 - val_loss: 0.0172 - val_accuracy: 0.1342\n",
      "Epoch 8/150\n",
      "138/138 [==============================] - 20s 143ms/step - loss: 0.0141 - accuracy: 0.2180 - val_loss: 0.0179 - val_accuracy: 0.1310\n",
      "Epoch 9/150\n",
      "138/138 [==============================] - ETA: 0s - loss: 0.0130 - accuracy: 0.2452\n",
      "Epoch 00009: ReduceLROnPlateau reducing learning rate to 0.00010000000474974513.\n",
      "138/138 [==============================] - 17s 125ms/step - loss: 0.0130 - accuracy: 0.2452 - val_loss: 0.0186 - val_accuracy: 0.1335\n",
      "Epoch 10/150\n",
      "138/138 [==============================] - 17s 124ms/step - loss: 0.0099 - accuracy: 0.3419 - val_loss: 0.0178 - val_accuracy: 0.1401\n",
      "Epoch 11/150\n",
      "138/138 [==============================] - 16s 118ms/step - loss: 0.0086 - accuracy: 0.3798 - val_loss: 0.0182 - val_accuracy: 0.1360\n",
      "Epoch 12/150\n",
      "138/138 [==============================] - ETA: 0s - loss: 0.0078 - accuracy: 0.4031\n",
      "Epoch 00012: ReduceLROnPlateau reducing learning rate to 1.0000000474974514e-05.\n",
      "138/138 [==============================] - 17s 122ms/step - loss: 0.0078 - accuracy: 0.4031 - val_loss: 0.0185 - val_accuracy: 0.1369\n",
      "Epoch 13/150\n",
      "138/138 [==============================] - 16s 120ms/step - loss: 0.0071 - accuracy: 0.4348 - val_loss: 0.0186 - val_accuracy: 0.1369\n",
      "Epoch 14/150\n",
      "138/138 [==============================] - 16s 114ms/step - loss: 0.0070 - accuracy: 0.4372 - val_loss: 0.0187 - val_accuracy: 0.1364\n",
      "Epoch 15/150\n",
      "137/138 [============================>.] - ETA: 0s - loss: 0.0070 - accuracy: 0.4393\n",
      "Epoch 00015: ReduceLROnPlateau reducing learning rate to 1.0000000656873453e-06.\n",
      "138/138 [==============================] - 16s 117ms/step - loss: 0.0070 - accuracy: 0.4391 - val_loss: 0.0187 - val_accuracy: 0.1362\n",
      "Epoch 16/150\n",
      "137/138 [============================>.] - ETA: 0s - loss: 0.0069 - accuracy: 0.4421Restoring model weights from the end of the best epoch.\n",
      "138/138 [==============================] - 16s 119ms/step - loss: 0.0069 - accuracy: 0.4420 - val_loss: 0.0187 - val_accuracy: 0.1369\n",
      "Epoch 00016: early stopping\n"
     ]
    },
    {
     "data": {
      "text/html": [
       "<span style=\"color:#4527A0\"><h1 style=\"font-size:18px\">Trial complete</h1></span>"
      ],
      "text/plain": [
       "<IPython.core.display.HTML object>"
      ]
     },
     "metadata": {},
     "output_type": "display_data"
    },
    {
     "data": {
      "text/html": [
       "<span style=\"color:#4527A0\"><h1 style=\"font-size:18px\">Trial summary</h1></span>"
      ],
      "text/plain": [
       "<IPython.core.display.HTML object>"
      ]
     },
     "metadata": {},
     "output_type": "display_data"
    },
    {
     "data": {
      "text/html": [
       "<span style=\"color:cyan\"> |-Trial ID: 41ef00128977aa8c2c88539a050afede</span>"
      ],
      "text/plain": [
       "<IPython.core.display.HTML object>"
      ]
     },
     "metadata": {},
     "output_type": "display_data"
    },
    {
     "data": {
      "text/html": [
       "<span style=\"color:cyan\"> |-Score: 0.017149528488516808</span>"
      ],
      "text/plain": [
       "<IPython.core.display.HTML object>"
      ]
     },
     "metadata": {},
     "output_type": "display_data"
    },
    {
     "data": {
      "text/html": [
       "<span style=\"color:cyan\"> |-Best step: 0</span>"
      ],
      "text/plain": [
       "<IPython.core.display.HTML object>"
      ]
     },
     "metadata": {},
     "output_type": "display_data"
    },
    {
     "data": {
      "text/html": [
       "<span style=\"color:#7E57C2\"><h2 style=\"font-size:16px\">Hyperparameters:</h2></span>"
      ],
      "text/plain": [
       "<IPython.core.display.HTML object>"
      ]
     },
     "metadata": {},
     "output_type": "display_data"
    },
    {
     "data": {
      "text/html": [
       "<span style=\"color:cyan\"> |-Dropout_0: 0.08</span>"
      ],
      "text/plain": [
       "<IPython.core.display.HTML object>"
      ]
     },
     "metadata": {},
     "output_type": "display_data"
    },
    {
     "data": {
      "text/html": [
       "<span style=\"color:blue\"> |-Dropout_1: 0.35000000000000003</span>"
      ],
      "text/plain": [
       "<IPython.core.display.HTML object>"
      ]
     },
     "metadata": {},
     "output_type": "display_data"
    },
    {
     "data": {
      "text/html": [
       "<span style=\"color:cyan\"> |-Dropout_2: 0.1</span>"
      ],
      "text/plain": [
       "<IPython.core.display.HTML object>"
      ]
     },
     "metadata": {},
     "output_type": "display_data"
    },
    {
     "data": {
      "text/html": [
       "<span style=\"color:blue\"> |-Dropout_3: 0.38</span>"
      ],
      "text/plain": [
       "<IPython.core.display.HTML object>"
      ]
     },
     "metadata": {},
     "output_type": "display_data"
    },
    {
     "data": {
      "text/html": [
       "<span style=\"color:cyan\"> |-Dropout_4: 0.08</span>"
      ],
      "text/plain": [
       "<IPython.core.display.HTML object>"
      ]
     },
     "metadata": {},
     "output_type": "display_data"
    },
    {
     "data": {
      "text/html": [
       "<span style=\"color:blue\"> |-Dropout_5: 0.25</span>"
      ],
      "text/plain": [
       "<IPython.core.display.HTML object>"
      ]
     },
     "metadata": {},
     "output_type": "display_data"
    },
    {
     "data": {
      "text/html": [
       "<span style=\"color:cyan\"> |-N_Layers: 5</span>"
      ],
      "text/plain": [
       "<IPython.core.display.HTML object>"
      ]
     },
     "metadata": {},
     "output_type": "display_data"
    },
    {
     "data": {
      "text/html": [
       "<span style=\"color:blue\"> |-activation2_0: swish</span>"
      ],
      "text/plain": [
       "<IPython.core.display.HTML object>"
      ]
     },
     "metadata": {},
     "output_type": "display_data"
    },
    {
     "data": {
      "text/html": [
       "<span style=\"color:cyan\"> |-activation2_1: selu</span>"
      ],
      "text/plain": [
       "<IPython.core.display.HTML object>"
      ]
     },
     "metadata": {},
     "output_type": "display_data"
    },
    {
     "data": {
      "text/html": [
       "<span style=\"color:blue\"> |-activation2_2: swish</span>"
      ],
      "text/plain": [
       "<IPython.core.display.HTML object>"
      ]
     },
     "metadata": {},
     "output_type": "display_data"
    },
    {
     "data": {
      "text/html": [
       "<span style=\"color:cyan\"> |-activation2_3: swish</span>"
      ],
      "text/plain": [
       "<IPython.core.display.HTML object>"
      ]
     },
     "metadata": {},
     "output_type": "display_data"
    },
    {
     "data": {
      "text/html": [
       "<span style=\"color:blue\"> |-activation2_4: selu</span>"
      ],
      "text/plain": [
       "<IPython.core.display.HTML object>"
      ]
     },
     "metadata": {},
     "output_type": "display_data"
    },
    {
     "data": {
      "text/html": [
       "<span style=\"color:cyan\"> |-activation2_5: elu</span>"
      ],
      "text/plain": [
       "<IPython.core.display.HTML object>"
      ]
     },
     "metadata": {},
     "output_type": "display_data"
    },
    {
     "data": {
      "text/html": [
       "<span style=\"color:blue\"> |-number_of_neurons2_0: 915</span>"
      ],
      "text/plain": [
       "<IPython.core.display.HTML object>"
      ]
     },
     "metadata": {},
     "output_type": "display_data"
    },
    {
     "data": {
      "text/html": [
       "<span style=\"color:cyan\"> |-number_of_neurons2_1: 1737</span>"
      ],
      "text/plain": [
       "<IPython.core.display.HTML object>"
      ]
     },
     "metadata": {},
     "output_type": "display_data"
    },
    {
     "data": {
      "text/html": [
       "<span style=\"color:blue\"> |-number_of_neurons2_2: 775</span>"
      ],
      "text/plain": [
       "<IPython.core.display.HTML object>"
      ]
     },
     "metadata": {},
     "output_type": "display_data"
    },
    {
     "data": {
      "text/html": [
       "<span style=\"color:cyan\"> |-number_of_neurons2_3: 1675</span>"
      ],
      "text/plain": [
       "<IPython.core.display.HTML object>"
      ]
     },
     "metadata": {},
     "output_type": "display_data"
    },
    {
     "data": {
      "text/html": [
       "<span style=\"color:blue\"> |-number_of_neurons2_4: 1594</span>"
      ],
      "text/plain": [
       "<IPython.core.display.HTML object>"
      ]
     },
     "metadata": {},
     "output_type": "display_data"
    },
    {
     "data": {
      "text/html": [
       "<span style=\"color:cyan\"> |-number_of_neurons2_5: 541</span>"
      ],
      "text/plain": [
       "<IPython.core.display.HTML object>"
      ]
     },
     "metadata": {},
     "output_type": "display_data"
    },
    {
     "name": "stdout",
     "output_type": "stream",
     "text": [
      "Epoch 1/150\n",
      "138/138 [==============================] - 24s 176ms/step - loss: 0.2696 - accuracy: 0.0193 - val_loss: 0.0362 - val_accuracy: 0.0538\n",
      "Epoch 2/150\n",
      "138/138 [==============================] - 25s 181ms/step - loss: 0.0244 - accuracy: 0.0440 - val_loss: 0.0219 - val_accuracy: 0.0440\n",
      "Epoch 3/150\n",
      "138/138 [==============================] - 24s 176ms/step - loss: 0.0224 - accuracy: 0.0532 - val_loss: 0.0203 - val_accuracy: 0.0740\n",
      "Epoch 4/150\n",
      "138/138 [==============================] - 24s 173ms/step - loss: 0.0214 - accuracy: 0.0595 - val_loss: 0.0199 - val_accuracy: 0.0649\n",
      "Epoch 5/150\n",
      "138/138 [==============================] - 25s 178ms/step - loss: 0.0209 - accuracy: 0.0676 - val_loss: 0.0194 - val_accuracy: 0.0663\n",
      "Epoch 6/150\n",
      "138/138 [==============================] - 25s 179ms/step - loss: 0.0201 - accuracy: 0.0772 - val_loss: 0.0188 - val_accuracy: 0.0788\n",
      "Epoch 7/150\n",
      "138/138 [==============================] - 25s 181ms/step - loss: 0.0197 - accuracy: 0.0833 - val_loss: 0.0185 - val_accuracy: 0.0852\n",
      "Epoch 8/150\n",
      "138/138 [==============================] - 24s 175ms/step - loss: 0.0193 - accuracy: 0.0957 - val_loss: 0.0183 - val_accuracy: 0.0973\n",
      "Epoch 9/150\n",
      "138/138 [==============================] - 24s 171ms/step - loss: 0.0190 - accuracy: 0.0999 - val_loss: 0.0181 - val_accuracy: 0.1023\n",
      "Epoch 10/150\n",
      "138/138 [==============================] - 25s 178ms/step - loss: 0.0187 - accuracy: 0.1049 - val_loss: 0.0180 - val_accuracy: 0.0920\n",
      "Epoch 11/150\n",
      "138/138 [==============================] - 24s 174ms/step - loss: 0.0183 - accuracy: 0.1104 - val_loss: 0.0178 - val_accuracy: 0.1064\n",
      "Epoch 12/150\n",
      "138/138 [==============================] - 24s 173ms/step - loss: 0.0181 - accuracy: 0.1135 - val_loss: 0.0179 - val_accuracy: 0.1050\n",
      "Epoch 13/150\n",
      "138/138 [==============================] - 24s 172ms/step - loss: 0.0180 - accuracy: 0.1190 - val_loss: 0.0176 - val_accuracy: 0.1039\n",
      "Epoch 14/150\n",
      "138/138 [==============================] - 24s 173ms/step - loss: 0.0176 - accuracy: 0.1185 - val_loss: 0.0175 - val_accuracy: 0.1112\n",
      "Epoch 15/150\n",
      "138/138 [==============================] - 29s 213ms/step - loss: 0.0175 - accuracy: 0.1221 - val_loss: 0.0174 - val_accuracy: 0.1139\n",
      "Epoch 16/150\n",
      "138/138 [==============================] - 30s 215ms/step - loss: 0.0173 - accuracy: 0.1258 - val_loss: 0.0174 - val_accuracy: 0.1164\n",
      "Epoch 17/150\n",
      "138/138 [==============================] - 30s 218ms/step - loss: 0.0171 - accuracy: 0.1262 - val_loss: 0.0173 - val_accuracy: 0.1162\n",
      "Epoch 18/150\n",
      "138/138 [==============================] - 25s 182ms/step - loss: 0.0168 - accuracy: 0.1369 - val_loss: 0.0173 - val_accuracy: 0.1132\n",
      "Epoch 19/150\n",
      "138/138 [==============================] - 24s 172ms/step - loss: 0.0165 - accuracy: 0.1371 - val_loss: 0.0174 - val_accuracy: 0.1153\n",
      "Epoch 20/150\n",
      "138/138 [==============================] - ETA: 0s - loss: 0.0165 - accuracy: 0.1430\n",
      "Epoch 00020: ReduceLROnPlateau reducing learning rate to 0.00010000000474974513.\n",
      "138/138 [==============================] - 24s 174ms/step - loss: 0.0165 - accuracy: 0.1430 - val_loss: 0.0175 - val_accuracy: 0.1205\n",
      "Epoch 21/150\n",
      "138/138 [==============================] - 24s 177ms/step - loss: 0.0158 - accuracy: 0.1537 - val_loss: 0.0171 - val_accuracy: 0.1226\n",
      "Epoch 22/150\n",
      "138/138 [==============================] - 24s 173ms/step - loss: 0.0155 - accuracy: 0.1557 - val_loss: 0.0171 - val_accuracy: 0.1223\n",
      "Epoch 23/150\n",
      "138/138 [==============================] - 23s 169ms/step - loss: 0.0154 - accuracy: 0.1591 - val_loss: 0.0171 - val_accuracy: 0.1203\n",
      "Epoch 24/150\n",
      "138/138 [==============================] - ETA: 0s - loss: 0.0153 - accuracy: 0.1615\n",
      "Epoch 00024: ReduceLROnPlateau reducing learning rate to 1.0000000474974514e-05.\n",
      "138/138 [==============================] - 24s 175ms/step - loss: 0.0153 - accuracy: 0.1615 - val_loss: 0.0171 - val_accuracy: 0.1223\n",
      "Epoch 25/150\n",
      "138/138 [==============================] - 23s 168ms/step - loss: 0.0152 - accuracy: 0.1606 - val_loss: 0.0171 - val_accuracy: 0.1210\n",
      "Epoch 26/150\n",
      "138/138 [==============================] - 24s 172ms/step - loss: 0.0152 - accuracy: 0.1666 - val_loss: 0.0171 - val_accuracy: 0.1226\n",
      "Epoch 27/150\n",
      "138/138 [==============================] - ETA: 0s - loss: 0.0152 - accuracy: 0.1627\n",
      "Epoch 00027: ReduceLROnPlateau reducing learning rate to 1.0000000656873453e-06.\n",
      "138/138 [==============================] - 23s 167ms/step - loss: 0.0152 - accuracy: 0.1627 - val_loss: 0.0171 - val_accuracy: 0.1226\n",
      "Epoch 28/150\n",
      "138/138 [==============================] - 23s 170ms/step - loss: 0.0151 - accuracy: 0.1633 - val_loss: 0.0171 - val_accuracy: 0.1228\n",
      "Epoch 29/150\n",
      "138/138 [==============================] - 25s 184ms/step - loss: 0.0152 - accuracy: 0.1671 - val_loss: 0.0171 - val_accuracy: 0.1235\n",
      "Epoch 30/150\n",
      "138/138 [==============================] - ETA: 0s - loss: 0.0152 - accuracy: 0.1655\n",
      "Epoch 00030: ReduceLROnPlateau reducing learning rate to 1.0000001111620805e-07.\n",
      "138/138 [==============================] - 23s 167ms/step - loss: 0.0152 - accuracy: 0.1655 - val_loss: 0.0171 - val_accuracy: 0.1230\n",
      "Epoch 31/150\n",
      "138/138 [==============================] - 24s 172ms/step - loss: 0.0152 - accuracy: 0.1647 - val_loss: 0.0171 - val_accuracy: 0.1232\n",
      "Epoch 32/150\n",
      "138/138 [==============================] - ETA: 0s - loss: 0.0152 - accuracy: 0.1645Restoring model weights from the end of the best epoch.\n",
      "138/138 [==============================] - 23s 169ms/step - loss: 0.0152 - accuracy: 0.1645 - val_loss: 0.0171 - val_accuracy: 0.1235\n",
      "Epoch 00032: early stopping\n"
     ]
    },
    {
     "data": {
      "text/html": [
       "<span style=\"color:#4527A0\"><h1 style=\"font-size:18px\">Trial complete</h1></span>"
      ],
      "text/plain": [
       "<IPython.core.display.HTML object>"
      ]
     },
     "metadata": {},
     "output_type": "display_data"
    },
    {
     "data": {
      "text/html": [
       "<span style=\"color:#4527A0\"><h1 style=\"font-size:18px\">Trial summary</h1></span>"
      ],
      "text/plain": [
       "<IPython.core.display.HTML object>"
      ]
     },
     "metadata": {},
     "output_type": "display_data"
    },
    {
     "data": {
      "text/html": [
       "<span style=\"color:cyan\"> |-Trial ID: 2dcf2f058f80bdf6194dcaac9ff1a7e4</span>"
      ],
      "text/plain": [
       "<IPython.core.display.HTML object>"
      ]
     },
     "metadata": {},
     "output_type": "display_data"
    },
    {
     "data": {
      "text/html": [
       "<span style=\"color:cyan\"> |-Score: 0.017095623537898064</span>"
      ],
      "text/plain": [
       "<IPython.core.display.HTML object>"
      ]
     },
     "metadata": {},
     "output_type": "display_data"
    },
    {
     "data": {
      "text/html": [
       "<span style=\"color:cyan\"> |-Best step: 0</span>"
      ],
      "text/plain": [
       "<IPython.core.display.HTML object>"
      ]
     },
     "metadata": {},
     "output_type": "display_data"
    },
    {
     "data": {
      "text/html": [
       "<span style=\"color:#7E57C2\"><h2 style=\"font-size:16px\">Hyperparameters:</h2></span>"
      ],
      "text/plain": [
       "<IPython.core.display.HTML object>"
      ]
     },
     "metadata": {},
     "output_type": "display_data"
    },
    {
     "data": {
      "text/html": [
       "<span style=\"color:cyan\"> |-Dropout_0: 0.06</span>"
      ],
      "text/plain": [
       "<IPython.core.display.HTML object>"
      ]
     },
     "metadata": {},
     "output_type": "display_data"
    },
    {
     "data": {
      "text/html": [
       "<span style=\"color:blue\"> |-Dropout_1: 0.5</span>"
      ],
      "text/plain": [
       "<IPython.core.display.HTML object>"
      ]
     },
     "metadata": {},
     "output_type": "display_data"
    },
    {
     "data": {
      "text/html": [
       "<span style=\"color:cyan\"> |-Dropout_2: 0.6900000000000001</span>"
      ],
      "text/plain": [
       "<IPython.core.display.HTML object>"
      ]
     },
     "metadata": {},
     "output_type": "display_data"
    },
    {
     "data": {
      "text/html": [
       "<span style=\"color:blue\"> |-Dropout_3: 0.34</span>"
      ],
      "text/plain": [
       "<IPython.core.display.HTML object>"
      ]
     },
     "metadata": {},
     "output_type": "display_data"
    },
    {
     "data": {
      "text/html": [
       "<span style=\"color:cyan\"> |-Dropout_4: 0.61</span>"
      ],
      "text/plain": [
       "<IPython.core.display.HTML object>"
      ]
     },
     "metadata": {},
     "output_type": "display_data"
    },
    {
     "data": {
      "text/html": [
       "<span style=\"color:blue\"> |-Dropout_5: 0.61</span>"
      ],
      "text/plain": [
       "<IPython.core.display.HTML object>"
      ]
     },
     "metadata": {},
     "output_type": "display_data"
    },
    {
     "data": {
      "text/html": [
       "<span style=\"color:cyan\"> |-N_Layers: 6</span>"
      ],
      "text/plain": [
       "<IPython.core.display.HTML object>"
      ]
     },
     "metadata": {},
     "output_type": "display_data"
    },
    {
     "data": {
      "text/html": [
       "<span style=\"color:blue\"> |-activation2_0: elu</span>"
      ],
      "text/plain": [
       "<IPython.core.display.HTML object>"
      ]
     },
     "metadata": {},
     "output_type": "display_data"
    },
    {
     "data": {
      "text/html": [
       "<span style=\"color:cyan\"> |-activation2_1: selu</span>"
      ],
      "text/plain": [
       "<IPython.core.display.HTML object>"
      ]
     },
     "metadata": {},
     "output_type": "display_data"
    },
    {
     "data": {
      "text/html": [
       "<span style=\"color:blue\"> |-activation2_2: selu</span>"
      ],
      "text/plain": [
       "<IPython.core.display.HTML object>"
      ]
     },
     "metadata": {},
     "output_type": "display_data"
    },
    {
     "data": {
      "text/html": [
       "<span style=\"color:cyan\"> |-activation2_3: elu</span>"
      ],
      "text/plain": [
       "<IPython.core.display.HTML object>"
      ]
     },
     "metadata": {},
     "output_type": "display_data"
    },
    {
     "data": {
      "text/html": [
       "<span style=\"color:blue\"> |-activation2_4: swish</span>"
      ],
      "text/plain": [
       "<IPython.core.display.HTML object>"
      ]
     },
     "metadata": {},
     "output_type": "display_data"
    },
    {
     "data": {
      "text/html": [
       "<span style=\"color:cyan\"> |-activation2_5: swish</span>"
      ],
      "text/plain": [
       "<IPython.core.display.HTML object>"
      ]
     },
     "metadata": {},
     "output_type": "display_data"
    },
    {
     "data": {
      "text/html": [
       "<span style=\"color:blue\"> |-number_of_neurons2_0: 1830</span>"
      ],
      "text/plain": [
       "<IPython.core.display.HTML object>"
      ]
     },
     "metadata": {},
     "output_type": "display_data"
    },
    {
     "data": {
      "text/html": [
       "<span style=\"color:cyan\"> |-number_of_neurons2_1: 1245</span>"
      ],
      "text/plain": [
       "<IPython.core.display.HTML object>"
      ]
     },
     "metadata": {},
     "output_type": "display_data"
    },
    {
     "data": {
      "text/html": [
       "<span style=\"color:blue\"> |-number_of_neurons2_2: 1329</span>"
      ],
      "text/plain": [
       "<IPython.core.display.HTML object>"
      ]
     },
     "metadata": {},
     "output_type": "display_data"
    },
    {
     "data": {
      "text/html": [
       "<span style=\"color:cyan\"> |-number_of_neurons2_3: 1759</span>"
      ],
      "text/plain": [
       "<IPython.core.display.HTML object>"
      ]
     },
     "metadata": {},
     "output_type": "display_data"
    },
    {
     "data": {
      "text/html": [
       "<span style=\"color:blue\"> |-number_of_neurons2_4: 1275</span>"
      ],
      "text/plain": [
       "<IPython.core.display.HTML object>"
      ]
     },
     "metadata": {},
     "output_type": "display_data"
    },
    {
     "data": {
      "text/html": [
       "<span style=\"color:cyan\"> |-number_of_neurons2_5: 1824</span>"
      ],
      "text/plain": [
       "<IPython.core.display.HTML object>"
      ]
     },
     "metadata": {},
     "output_type": "display_data"
    },
    {
     "name": "stdout",
     "output_type": "stream",
     "text": [
      "Epoch 1/150\n",
      "138/138 [==============================] - 12s 89ms/step - loss: 0.3077 - accuracy: 0.0190 - val_loss: 0.0318 - val_accuracy: 0.0171\n",
      "Epoch 2/150\n",
      "138/138 [==============================] - 12s 89ms/step - loss: 0.0253 - accuracy: 0.0495 - val_loss: 0.0212 - val_accuracy: 0.0528\n",
      "Epoch 3/150\n",
      "138/138 [==============================] - 13s 92ms/step - loss: 0.0222 - accuracy: 0.0608 - val_loss: 0.0198 - val_accuracy: 0.0683\n",
      "Epoch 4/150\n",
      "138/138 [==============================] - 12s 90ms/step - loss: 0.0212 - accuracy: 0.0718 - val_loss: 0.0195 - val_accuracy: 0.0781\n",
      "Epoch 5/150\n",
      "138/138 [==============================] - 12s 88ms/step - loss: 0.0204 - accuracy: 0.0844 - val_loss: 0.0187 - val_accuracy: 0.0884\n",
      "Epoch 6/150\n",
      "138/138 [==============================] - 13s 94ms/step - loss: 0.0196 - accuracy: 0.0976 - val_loss: 0.0184 - val_accuracy: 0.0907\n",
      "Epoch 7/150\n",
      "138/138 [==============================] - 13s 92ms/step - loss: 0.0192 - accuracy: 0.1002 - val_loss: 0.0183 - val_accuracy: 0.0984\n",
      "Epoch 8/150\n",
      "138/138 [==============================] - 12s 90ms/step - loss: 0.0186 - accuracy: 0.1072 - val_loss: 0.0181 - val_accuracy: 0.1034\n",
      "Epoch 9/150\n",
      "138/138 [==============================] - 13s 92ms/step - loss: 0.0184 - accuracy: 0.1115 - val_loss: 0.0178 - val_accuracy: 0.1068\n",
      "Epoch 10/150\n",
      "138/138 [==============================] - 13s 98ms/step - loss: 0.0180 - accuracy: 0.1164 - val_loss: 0.0176 - val_accuracy: 0.1100\n",
      "Epoch 11/150\n",
      "138/138 [==============================] - 15s 109ms/step - loss: 0.0179 - accuracy: 0.1198 - val_loss: 0.0174 - val_accuracy: 0.1084\n",
      "Epoch 12/150\n",
      "138/138 [==============================] - 16s 113ms/step - loss: 0.0175 - accuracy: 0.1281 - val_loss: 0.0174 - val_accuracy: 0.1155\n",
      "Epoch 13/150\n",
      "138/138 [==============================] - 14s 104ms/step - loss: 0.0172 - accuracy: 0.1254 - val_loss: 0.0174 - val_accuracy: 0.1141\n",
      "Epoch 14/150\n",
      "137/138 [============================>.] - ETA: 0s - loss: 0.0168 - accuracy: 0.1328\n",
      "Epoch 00014: ReduceLROnPlateau reducing learning rate to 0.00010000000474974513.\n",
      "138/138 [==============================] - 15s 106ms/step - loss: 0.0169 - accuracy: 0.1326 - val_loss: 0.0174 - val_accuracy: 0.1164\n",
      "Epoch 15/150\n",
      "138/138 [==============================] - 15s 105ms/step - loss: 0.0163 - accuracy: 0.1437 - val_loss: 0.0171 - val_accuracy: 0.1198\n",
      "Epoch 16/150\n",
      "138/138 [==============================] - 16s 113ms/step - loss: 0.0161 - accuracy: 0.1449 - val_loss: 0.0171 - val_accuracy: 0.1200\n",
      "Epoch 17/150\n",
      "138/138 [==============================] - 13s 96ms/step - loss: 0.0161 - accuracy: 0.1454 - val_loss: 0.0170 - val_accuracy: 0.1228\n",
      "Epoch 18/150\n",
      "138/138 [==============================] - 12s 90ms/step - loss: 0.0159 - accuracy: 0.1492 - val_loss: 0.0170 - val_accuracy: 0.1226\n",
      "Epoch 19/150\n",
      "138/138 [==============================] - 12s 86ms/step - loss: 0.0158 - accuracy: 0.1526 - val_loss: 0.0170 - val_accuracy: 0.1203\n",
      "Epoch 20/150\n",
      "138/138 [==============================] - 12s 89ms/step - loss: 0.0157 - accuracy: 0.1541 - val_loss: 0.0170 - val_accuracy: 0.1239\n",
      "Epoch 21/150\n",
      "137/138 [============================>.] - ETA: 0s - loss: 0.0156 - accuracy: 0.1545\n",
      "Epoch 00021: ReduceLROnPlateau reducing learning rate to 1.0000000474974514e-05.\n",
      "138/138 [==============================] - 13s 94ms/step - loss: 0.0156 - accuracy: 0.1545 - val_loss: 0.0171 - val_accuracy: 0.1219\n",
      "Epoch 22/150\n",
      "138/138 [==============================] - 12s 86ms/step - loss: 0.0155 - accuracy: 0.1602 - val_loss: 0.0171 - val_accuracy: 0.1216\n",
      "Epoch 23/150\n",
      "138/138 [==============================] - 12s 87ms/step - loss: 0.0154 - accuracy: 0.1594 - val_loss: 0.0170 - val_accuracy: 0.1223\n",
      "Epoch 24/150\n",
      "137/138 [============================>.] - ETA: 0s - loss: 0.0154 - accuracy: 0.1604\n",
      "Epoch 00024: ReduceLROnPlateau reducing learning rate to 1.0000000656873453e-06.\n",
      "138/138 [==============================] - 12s 86ms/step - loss: 0.0154 - accuracy: 0.1603 - val_loss: 0.0170 - val_accuracy: 0.1219\n",
      "Epoch 25/150\n",
      "138/138 [==============================] - 13s 91ms/step - loss: 0.0153 - accuracy: 0.1602 - val_loss: 0.0170 - val_accuracy: 0.1221\n",
      "Epoch 26/150\n",
      "138/138 [==============================] - 12s 90ms/step - loss: 0.0154 - accuracy: 0.1601 - val_loss: 0.0170 - val_accuracy: 0.1223\n",
      "Epoch 27/150\n",
      "137/138 [============================>.] - ETA: 0s - loss: 0.0153 - accuracy: 0.1592\n",
      "Epoch 00027: ReduceLROnPlateau reducing learning rate to 1.0000001111620805e-07.\n",
      "138/138 [==============================] - 12s 86ms/step - loss: 0.0153 - accuracy: 0.1592 - val_loss: 0.0170 - val_accuracy: 0.1219\n",
      "Epoch 28/150\n",
      "137/138 [============================>.] - ETA: 0s - loss: 0.0154 - accuracy: 0.1586Restoring model weights from the end of the best epoch.\n",
      "138/138 [==============================] - 12s 86ms/step - loss: 0.0154 - accuracy: 0.1584 - val_loss: 0.0170 - val_accuracy: 0.1219\n",
      "Epoch 00028: early stopping\n"
     ]
    },
    {
     "data": {
      "text/html": [
       "<span style=\"color:#4527A0\"><h1 style=\"font-size:18px\">Trial complete</h1></span>"
      ],
      "text/plain": [
       "<IPython.core.display.HTML object>"
      ]
     },
     "metadata": {},
     "output_type": "display_data"
    },
    {
     "data": {
      "text/html": [
       "<span style=\"color:#4527A0\"><h1 style=\"font-size:18px\">Trial summary</h1></span>"
      ],
      "text/plain": [
       "<IPython.core.display.HTML object>"
      ]
     },
     "metadata": {},
     "output_type": "display_data"
    },
    {
     "data": {
      "text/html": [
       "<span style=\"color:cyan\"> |-Trial ID: 210a3a0bc4fae50e1dc6c46d596f7ecb</span>"
      ],
      "text/plain": [
       "<IPython.core.display.HTML object>"
      ]
     },
     "metadata": {},
     "output_type": "display_data"
    },
    {
     "data": {
      "text/html": [
       "<span style=\"color:cyan\"> |-Score: 0.01700230874121189</span>"
      ],
      "text/plain": [
       "<IPython.core.display.HTML object>"
      ]
     },
     "metadata": {},
     "output_type": "display_data"
    },
    {
     "data": {
      "text/html": [
       "<span style=\"color:cyan\"> |-Best step: 0</span>"
      ],
      "text/plain": [
       "<IPython.core.display.HTML object>"
      ]
     },
     "metadata": {},
     "output_type": "display_data"
    },
    {
     "data": {
      "text/html": [
       "<span style=\"color:#7E57C2\"><h2 style=\"font-size:16px\">Hyperparameters:</h2></span>"
      ],
      "text/plain": [
       "<IPython.core.display.HTML object>"
      ]
     },
     "metadata": {},
     "output_type": "display_data"
    },
    {
     "data": {
      "text/html": [
       "<span style=\"color:cyan\"> |-Dropout_0: 0.43</span>"
      ],
      "text/plain": [
       "<IPython.core.display.HTML object>"
      ]
     },
     "metadata": {},
     "output_type": "display_data"
    },
    {
     "data": {
      "text/html": [
       "<span style=\"color:blue\"> |-Dropout_1: 0.61</span>"
      ],
      "text/plain": [
       "<IPython.core.display.HTML object>"
      ]
     },
     "metadata": {},
     "output_type": "display_data"
    },
    {
     "data": {
      "text/html": [
       "<span style=\"color:cyan\"> |-Dropout_2: 0.12</span>"
      ],
      "text/plain": [
       "<IPython.core.display.HTML object>"
      ]
     },
     "metadata": {},
     "output_type": "display_data"
    },
    {
     "data": {
      "text/html": [
       "<span style=\"color:blue\"> |-Dropout_3: 0.48</span>"
      ],
      "text/plain": [
       "<IPython.core.display.HTML object>"
      ]
     },
     "metadata": {},
     "output_type": "display_data"
    },
    {
     "data": {
      "text/html": [
       "<span style=\"color:cyan\"> |-Dropout_4: 0.26</span>"
      ],
      "text/plain": [
       "<IPython.core.display.HTML object>"
      ]
     },
     "metadata": {},
     "output_type": "display_data"
    },
    {
     "data": {
      "text/html": [
       "<span style=\"color:blue\"> |-Dropout_5: 0.59</span>"
      ],
      "text/plain": [
       "<IPython.core.display.HTML object>"
      ]
     },
     "metadata": {},
     "output_type": "display_data"
    },
    {
     "data": {
      "text/html": [
       "<span style=\"color:cyan\"> |-N_Layers: 6</span>"
      ],
      "text/plain": [
       "<IPython.core.display.HTML object>"
      ]
     },
     "metadata": {},
     "output_type": "display_data"
    },
    {
     "data": {
      "text/html": [
       "<span style=\"color:blue\"> |-activation2_0: swish</span>"
      ],
      "text/plain": [
       "<IPython.core.display.HTML object>"
      ]
     },
     "metadata": {},
     "output_type": "display_data"
    },
    {
     "data": {
      "text/html": [
       "<span style=\"color:cyan\"> |-activation2_1: elu</span>"
      ],
      "text/plain": [
       "<IPython.core.display.HTML object>"
      ]
     },
     "metadata": {},
     "output_type": "display_data"
    },
    {
     "data": {
      "text/html": [
       "<span style=\"color:blue\"> |-activation2_2: elu</span>"
      ],
      "text/plain": [
       "<IPython.core.display.HTML object>"
      ]
     },
     "metadata": {},
     "output_type": "display_data"
    },
    {
     "data": {
      "text/html": [
       "<span style=\"color:cyan\"> |-activation2_3: selu</span>"
      ],
      "text/plain": [
       "<IPython.core.display.HTML object>"
      ]
     },
     "metadata": {},
     "output_type": "display_data"
    },
    {
     "data": {
      "text/html": [
       "<span style=\"color:blue\"> |-activation2_4: elu</span>"
      ],
      "text/plain": [
       "<IPython.core.display.HTML object>"
      ]
     },
     "metadata": {},
     "output_type": "display_data"
    },
    {
     "data": {
      "text/html": [
       "<span style=\"color:cyan\"> |-activation2_5: elu</span>"
      ],
      "text/plain": [
       "<IPython.core.display.HTML object>"
      ]
     },
     "metadata": {},
     "output_type": "display_data"
    },
    {
     "data": {
      "text/html": [
       "<span style=\"color:blue\"> |-number_of_neurons2_0: 1089</span>"
      ],
      "text/plain": [
       "<IPython.core.display.HTML object>"
      ]
     },
     "metadata": {},
     "output_type": "display_data"
    },
    {
     "data": {
      "text/html": [
       "<span style=\"color:cyan\"> |-number_of_neurons2_1: 975</span>"
      ],
      "text/plain": [
       "<IPython.core.display.HTML object>"
      ]
     },
     "metadata": {},
     "output_type": "display_data"
    },
    {
     "data": {
      "text/html": [
       "<span style=\"color:blue\"> |-number_of_neurons2_2: 770</span>"
      ],
      "text/plain": [
       "<IPython.core.display.HTML object>"
      ]
     },
     "metadata": {},
     "output_type": "display_data"
    },
    {
     "data": {
      "text/html": [
       "<span style=\"color:cyan\"> |-number_of_neurons2_3: 904</span>"
      ],
      "text/plain": [
       "<IPython.core.display.HTML object>"
      ]
     },
     "metadata": {},
     "output_type": "display_data"
    },
    {
     "data": {
      "text/html": [
       "<span style=\"color:blue\"> |-number_of_neurons2_4: 1012</span>"
      ],
      "text/plain": [
       "<IPython.core.display.HTML object>"
      ]
     },
     "metadata": {},
     "output_type": "display_data"
    },
    {
     "data": {
      "text/html": [
       "<span style=\"color:cyan\"> |-number_of_neurons2_5: 985</span>"
      ],
      "text/plain": [
       "<IPython.core.display.HTML object>"
      ]
     },
     "metadata": {},
     "output_type": "display_data"
    },
    {
     "name": "stdout",
     "output_type": "stream",
     "text": [
      "SEED:30 Fold:3\n",
      "Epoch 1/150\n",
      "138/138 [==============================] - 11s 80ms/step - loss: 0.2936 - accuracy: 0.0472 - val_loss: 0.0325 - val_accuracy: 0.0303\n",
      "Epoch 2/150\n",
      "138/138 [==============================] - 12s 85ms/step - loss: 0.0229 - accuracy: 0.0825 - val_loss: 0.0203 - val_accuracy: 0.1053\n",
      "Epoch 3/150\n",
      "138/138 [==============================] - 11s 81ms/step - loss: 0.0188 - accuracy: 0.1150 - val_loss: 0.0181 - val_accuracy: 0.1422\n",
      "Epoch 4/150\n",
      "138/138 [==============================] - 11s 78ms/step - loss: 0.0174 - accuracy: 0.1398 - val_loss: 0.0174 - val_accuracy: 0.1319\n",
      "Epoch 5/150\n",
      "138/138 [==============================] - 11s 80ms/step - loss: 0.0163 - accuracy: 0.1547 - val_loss: 0.0172 - val_accuracy: 0.1522\n",
      "Epoch 6/150\n",
      "138/138 [==============================] - 11s 79ms/step - loss: 0.0153 - accuracy: 0.1746 - val_loss: 0.0173 - val_accuracy: 0.1356\n",
      "Epoch 7/150\n",
      "138/138 [==============================] - 11s 79ms/step - loss: 0.0144 - accuracy: 0.2009 - val_loss: 0.0171 - val_accuracy: 0.1520\n",
      "Epoch 8/150\n",
      "137/138 [============================>.] - ETA: 0s - loss: 0.0133 - accuracy: 0.2398\n",
      "Epoch 00008: ReduceLROnPlateau reducing learning rate to 0.00010000000474974513.\n",
      "138/138 [==============================] - 11s 80ms/step - loss: 0.0133 - accuracy: 0.2399 - val_loss: 0.0179 - val_accuracy: 0.1697\n",
      "Epoch 9/150\n",
      "138/138 [==============================] - 11s 81ms/step - loss: 0.0106 - accuracy: 0.3190 - val_loss: 0.0168 - val_accuracy: 0.1513\n",
      "Epoch 10/150\n",
      "138/138 [==============================] - 11s 76ms/step - loss: 0.0096 - accuracy: 0.3462 - val_loss: 0.0169 - val_accuracy: 0.1561\n",
      "Epoch 11/150\n",
      "138/138 [==============================] - 11s 77ms/step - loss: 0.0089 - accuracy: 0.3756 - val_loss: 0.0171 - val_accuracy: 0.1602\n",
      "Epoch 12/150\n",
      "137/138 [============================>.] - ETA: 0s - loss: 0.0083 - accuracy: 0.4052\n",
      "Epoch 00012: ReduceLROnPlateau reducing learning rate to 1.0000000474974514e-05.\n",
      "138/138 [==============================] - 11s 78ms/step - loss: 0.0083 - accuracy: 0.4051 - val_loss: 0.0173 - val_accuracy: 0.1552\n",
      "Epoch 13/150\n",
      "138/138 [==============================] - 11s 80ms/step - loss: 0.0076 - accuracy: 0.4300 - val_loss: 0.0174 - val_accuracy: 0.1556\n",
      "Epoch 14/150\n",
      "138/138 [==============================] - 11s 77ms/step - loss: 0.0075 - accuracy: 0.4335 - val_loss: 0.0175 - val_accuracy: 0.1570\n",
      "Epoch 15/150\n",
      "137/138 [============================>.] - ETA: 0s - loss: 0.0074 - accuracy: 0.4376\n",
      "Epoch 00015: ReduceLROnPlateau reducing learning rate to 1.0000000656873453e-06.\n",
      "138/138 [==============================] - 11s 78ms/step - loss: 0.0074 - accuracy: 0.4377 - val_loss: 0.0175 - val_accuracy: 0.1570\n",
      "Epoch 16/150\n",
      "138/138 [==============================] - 11s 76ms/step - loss: 0.0074 - accuracy: 0.4417 - val_loss: 0.0175 - val_accuracy: 0.1570\n",
      "Epoch 17/150\n",
      "138/138 [==============================] - 11s 77ms/step - loss: 0.0073 - accuracy: 0.4436 - val_loss: 0.0176 - val_accuracy: 0.1570\n",
      "Epoch 18/150\n",
      "137/138 [============================>.] - ETA: 0s - loss: 0.0073 - accuracy: 0.4435\n",
      "Epoch 00018: ReduceLROnPlateau reducing learning rate to 1.0000001111620805e-07.\n",
      "138/138 [==============================] - 11s 80ms/step - loss: 0.0073 - accuracy: 0.4431 - val_loss: 0.0176 - val_accuracy: 0.1561\n",
      "Epoch 19/150\n",
      "137/138 [============================>.] - ETA: 0s - loss: 0.0074 - accuracy: 0.4401Restoring model weights from the end of the best epoch.\n",
      "138/138 [==============================] - 11s 82ms/step - loss: 0.0074 - accuracy: 0.4402 - val_loss: 0.0176 - val_accuracy: 0.1570\n",
      "Epoch 00019: early stopping\n"
     ]
    },
    {
     "data": {
      "text/html": [
       "<span style=\"color:#4527A0\"><h1 style=\"font-size:18px\">Trial complete</h1></span>"
      ],
      "text/plain": [
       "<IPython.core.display.HTML object>"
      ]
     },
     "metadata": {},
     "output_type": "display_data"
    },
    {
     "data": {
      "text/html": [
       "<span style=\"color:#4527A0\"><h1 style=\"font-size:18px\">Trial summary</h1></span>"
      ],
      "text/plain": [
       "<IPython.core.display.HTML object>"
      ]
     },
     "metadata": {},
     "output_type": "display_data"
    },
    {
     "data": {
      "text/html": [
       "<span style=\"color:cyan\"> |-Trial ID: 8982a6557c3740cdc4aed95e56d194ae</span>"
      ],
      "text/plain": [
       "<IPython.core.display.HTML object>"
      ]
     },
     "metadata": {},
     "output_type": "display_data"
    },
    {
     "data": {
      "text/html": [
       "<span style=\"color:cyan\"> |-Score: 0.016760636121034622</span>"
      ],
      "text/plain": [
       "<IPython.core.display.HTML object>"
      ]
     },
     "metadata": {},
     "output_type": "display_data"
    },
    {
     "data": {
      "text/html": [
       "<span style=\"color:cyan\"> |-Best step: 0</span>"
      ],
      "text/plain": [
       "<IPython.core.display.HTML object>"
      ]
     },
     "metadata": {},
     "output_type": "display_data"
    },
    {
     "data": {
      "text/html": [
       "<span style=\"color:#7E57C2\"><h2 style=\"font-size:16px\">Hyperparameters:</h2></span>"
      ],
      "text/plain": [
       "<IPython.core.display.HTML object>"
      ]
     },
     "metadata": {},
     "output_type": "display_data"
    },
    {
     "data": {
      "text/html": [
       "<span style=\"color:cyan\"> |-Dropout_0: 0.41000000000000003</span>"
      ],
      "text/plain": [
       "<IPython.core.display.HTML object>"
      ]
     },
     "metadata": {},
     "output_type": "display_data"
    },
    {
     "data": {
      "text/html": [
       "<span style=\"color:blue\"> |-Dropout_1: 0.14</span>"
      ],
      "text/plain": [
       "<IPython.core.display.HTML object>"
      ]
     },
     "metadata": {},
     "output_type": "display_data"
    },
    {
     "data": {
      "text/html": [
       "<span style=\"color:cyan\"> |-Dropout_2: 0.0</span>"
      ],
      "text/plain": [
       "<IPython.core.display.HTML object>"
      ]
     },
     "metadata": {},
     "output_type": "display_data"
    },
    {
     "data": {
      "text/html": [
       "<span style=\"color:blue\"> |-Dropout_3: 0.0</span>"
      ],
      "text/plain": [
       "<IPython.core.display.HTML object>"
      ]
     },
     "metadata": {},
     "output_type": "display_data"
    },
    {
     "data": {
      "text/html": [
       "<span style=\"color:cyan\"> |-Dropout_4: 0.0</span>"
      ],
      "text/plain": [
       "<IPython.core.display.HTML object>"
      ]
     },
     "metadata": {},
     "output_type": "display_data"
    },
    {
     "data": {
      "text/html": [
       "<span style=\"color:blue\"> |-N_Layers: 5</span>"
      ],
      "text/plain": [
       "<IPython.core.display.HTML object>"
      ]
     },
     "metadata": {},
     "output_type": "display_data"
    },
    {
     "data": {
      "text/html": [
       "<span style=\"color:cyan\"> |-activation2_0: selu</span>"
      ],
      "text/plain": [
       "<IPython.core.display.HTML object>"
      ]
     },
     "metadata": {},
     "output_type": "display_data"
    },
    {
     "data": {
      "text/html": [
       "<span style=\"color:blue\"> |-activation2_1: swish</span>"
      ],
      "text/plain": [
       "<IPython.core.display.HTML object>"
      ]
     },
     "metadata": {},
     "output_type": "display_data"
    },
    {
     "data": {
      "text/html": [
       "<span style=\"color:cyan\"> |-activation2_2: elu</span>"
      ],
      "text/plain": [
       "<IPython.core.display.HTML object>"
      ]
     },
     "metadata": {},
     "output_type": "display_data"
    },
    {
     "data": {
      "text/html": [
       "<span style=\"color:blue\"> |-activation2_3: elu</span>"
      ],
      "text/plain": [
       "<IPython.core.display.HTML object>"
      ]
     },
     "metadata": {},
     "output_type": "display_data"
    },
    {
     "data": {
      "text/html": [
       "<span style=\"color:cyan\"> |-activation2_4: elu</span>"
      ],
      "text/plain": [
       "<IPython.core.display.HTML object>"
      ]
     },
     "metadata": {},
     "output_type": "display_data"
    },
    {
     "data": {
      "text/html": [
       "<span style=\"color:blue\"> |-number_of_neurons2_0: 1818</span>"
      ],
      "text/plain": [
       "<IPython.core.display.HTML object>"
      ]
     },
     "metadata": {},
     "output_type": "display_data"
    },
    {
     "data": {
      "text/html": [
       "<span style=\"color:cyan\"> |-number_of_neurons2_1: 1224</span>"
      ],
      "text/plain": [
       "<IPython.core.display.HTML object>"
      ]
     },
     "metadata": {},
     "output_type": "display_data"
    },
    {
     "data": {
      "text/html": [
       "<span style=\"color:blue\"> |-number_of_neurons2_2: 512</span>"
      ],
      "text/plain": [
       "<IPython.core.display.HTML object>"
      ]
     },
     "metadata": {},
     "output_type": "display_data"
    },
    {
     "data": {
      "text/html": [
       "<span style=\"color:cyan\"> |-number_of_neurons2_3: 512</span>"
      ],
      "text/plain": [
       "<IPython.core.display.HTML object>"
      ]
     },
     "metadata": {},
     "output_type": "display_data"
    },
    {
     "data": {
      "text/html": [
       "<span style=\"color:blue\"> |-number_of_neurons2_4: 512</span>"
      ],
      "text/plain": [
       "<IPython.core.display.HTML object>"
      ]
     },
     "metadata": {},
     "output_type": "display_data"
    },
    {
     "name": "stdout",
     "output_type": "stream",
     "text": [
      "Epoch 1/150\n",
      "138/138 [==============================] - 8s 59ms/step - loss: 0.2585 - accuracy: 0.0356 - val_loss: 0.0247 - val_accuracy: 0.0490\n",
      "Epoch 2/150\n",
      "138/138 [==============================] - 8s 61ms/step - loss: 0.0231 - accuracy: 0.0724 - val_loss: 0.0198 - val_accuracy: 0.1137\n",
      "Epoch 3/150\n",
      "138/138 [==============================] - 8s 58ms/step - loss: 0.0208 - accuracy: 0.0947 - val_loss: 0.0187 - val_accuracy: 0.1385\n",
      "Epoch 4/150\n",
      "138/138 [==============================] - 8s 59ms/step - loss: 0.0195 - accuracy: 0.1129 - val_loss: 0.0183 - val_accuracy: 0.1372\n",
      "Epoch 5/150\n",
      "138/138 [==============================] - 8s 60ms/step - loss: 0.0188 - accuracy: 0.1222 - val_loss: 0.0178 - val_accuracy: 0.1105\n",
      "Epoch 6/150\n",
      "138/138 [==============================] - 9s 63ms/step - loss: 0.0181 - accuracy: 0.1290 - val_loss: 0.0174 - val_accuracy: 0.1221\n",
      "Epoch 7/150\n",
      "138/138 [==============================] - 8s 61ms/step - loss: 0.0177 - accuracy: 0.1350 - val_loss: 0.0173 - val_accuracy: 0.1533\n",
      "Epoch 8/150\n",
      "138/138 [==============================] - 8s 59ms/step - loss: 0.0171 - accuracy: 0.1469 - val_loss: 0.0170 - val_accuracy: 0.1385\n",
      "Epoch 9/150\n",
      "138/138 [==============================] - 8s 59ms/step - loss: 0.0166 - accuracy: 0.1613 - val_loss: 0.0169 - val_accuracy: 0.1431\n",
      "Epoch 10/150\n",
      "138/138 [==============================] - 8s 61ms/step - loss: 0.0161 - accuracy: 0.1678 - val_loss: 0.0171 - val_accuracy: 0.1331\n",
      "Epoch 11/150\n",
      "138/138 [==============================] - 8s 59ms/step - loss: 0.0154 - accuracy: 0.1838 - val_loss: 0.0169 - val_accuracy: 0.1362\n",
      "Epoch 12/150\n",
      "138/138 [==============================] - 8s 59ms/step - loss: 0.0152 - accuracy: 0.1858 - val_loss: 0.0167 - val_accuracy: 0.1397\n",
      "Epoch 13/150\n",
      "138/138 [==============================] - 9s 62ms/step - loss: 0.0144 - accuracy: 0.2059 - val_loss: 0.0167 - val_accuracy: 0.1488\n",
      "Epoch 14/150\n",
      "138/138 [==============================] - 10s 75ms/step - loss: 0.0138 - accuracy: 0.2185 - val_loss: 0.0170 - val_accuracy: 0.1435\n",
      "Epoch 15/150\n",
      "137/138 [============================>.] - ETA: 0s - loss: 0.0134 - accuracy: 0.2353\n",
      "Epoch 00015: ReduceLROnPlateau reducing learning rate to 0.00010000000474974513.\n",
      "138/138 [==============================] - 10s 70ms/step - loss: 0.0134 - accuracy: 0.2353 - val_loss: 0.0171 - val_accuracy: 0.1408\n",
      "Epoch 16/150\n",
      "138/138 [==============================] - 10s 70ms/step - loss: 0.0116 - accuracy: 0.2744 - val_loss: 0.0169 - val_accuracy: 0.1438\n",
      "Epoch 17/150\n",
      "138/138 [==============================] - 10s 73ms/step - loss: 0.0112 - accuracy: 0.2893 - val_loss: 0.0169 - val_accuracy: 0.1467\n",
      "Epoch 18/150\n",
      "137/138 [============================>.] - ETA: 0s - loss: 0.0108 - accuracy: 0.3040\n",
      "Epoch 00018: ReduceLROnPlateau reducing learning rate to 1.0000000474974514e-05.\n",
      "138/138 [==============================] - 9s 68ms/step - loss: 0.0109 - accuracy: 0.3039 - val_loss: 0.0170 - val_accuracy: 0.1467\n",
      "Epoch 19/150\n",
      "138/138 [==============================] - 10s 71ms/step - loss: 0.0106 - accuracy: 0.3106 - val_loss: 0.0170 - val_accuracy: 0.1467\n",
      "Epoch 20/150\n",
      "138/138 [==============================] - 10s 75ms/step - loss: 0.0105 - accuracy: 0.3100 - val_loss: 0.0170 - val_accuracy: 0.1472\n",
      "Epoch 21/150\n",
      "137/138 [============================>.] - ETA: 0s - loss: 0.0105 - accuracy: 0.3092\n",
      "Epoch 00021: ReduceLROnPlateau reducing learning rate to 1.0000000656873453e-06.\n",
      "138/138 [==============================] - 10s 70ms/step - loss: 0.0105 - accuracy: 0.3091 - val_loss: 0.0170 - val_accuracy: 0.1472\n",
      "Epoch 22/150\n",
      "137/138 [============================>.] - ETA: 0s - loss: 0.0105 - accuracy: 0.3167Restoring model weights from the end of the best epoch.\n",
      "138/138 [==============================] - 10s 71ms/step - loss: 0.0105 - accuracy: 0.3166 - val_loss: 0.0170 - val_accuracy: 0.1474\n",
      "Epoch 00022: early stopping\n"
     ]
    },
    {
     "data": {
      "text/html": [
       "<span style=\"color:#4527A0\"><h1 style=\"font-size:18px\">Trial complete</h1></span>"
      ],
      "text/plain": [
       "<IPython.core.display.HTML object>"
      ]
     },
     "metadata": {},
     "output_type": "display_data"
    },
    {
     "data": {
      "text/html": [
       "<span style=\"color:#4527A0\"><h1 style=\"font-size:18px\">Trial summary</h1></span>"
      ],
      "text/plain": [
       "<IPython.core.display.HTML object>"
      ]
     },
     "metadata": {},
     "output_type": "display_data"
    },
    {
     "data": {
      "text/html": [
       "<span style=\"color:cyan\"> |-Trial ID: f6f516c67cae18bcc7c53dfa7e43678e</span>"
      ],
      "text/plain": [
       "<IPython.core.display.HTML object>"
      ]
     },
     "metadata": {},
     "output_type": "display_data"
    },
    {
     "data": {
      "text/html": [
       "<span style=\"color:cyan\"> |-Score: 0.016650322824716568</span>"
      ],
      "text/plain": [
       "<IPython.core.display.HTML object>"
      ]
     },
     "metadata": {},
     "output_type": "display_data"
    },
    {
     "data": {
      "text/html": [
       "<span style=\"color:cyan\"> |-Best step: 0</span>"
      ],
      "text/plain": [
       "<IPython.core.display.HTML object>"
      ]
     },
     "metadata": {},
     "output_type": "display_data"
    },
    {
     "data": {
      "text/html": [
       "<span style=\"color:#7E57C2\"><h2 style=\"font-size:16px\">Hyperparameters:</h2></span>"
      ],
      "text/plain": [
       "<IPython.core.display.HTML object>"
      ]
     },
     "metadata": {},
     "output_type": "display_data"
    },
    {
     "data": {
      "text/html": [
       "<span style=\"color:cyan\"> |-Dropout_0: 0.38</span>"
      ],
      "text/plain": [
       "<IPython.core.display.HTML object>"
      ]
     },
     "metadata": {},
     "output_type": "display_data"
    },
    {
     "data": {
      "text/html": [
       "<span style=\"color:blue\"> |-Dropout_1: 0.51</span>"
      ],
      "text/plain": [
       "<IPython.core.display.HTML object>"
      ]
     },
     "metadata": {},
     "output_type": "display_data"
    },
    {
     "data": {
      "text/html": [
       "<span style=\"color:cyan\"> |-Dropout_2: 0.49</span>"
      ],
      "text/plain": [
       "<IPython.core.display.HTML object>"
      ]
     },
     "metadata": {},
     "output_type": "display_data"
    },
    {
     "data": {
      "text/html": [
       "<span style=\"color:blue\"> |-Dropout_3: 0.38</span>"
      ],
      "text/plain": [
       "<IPython.core.display.HTML object>"
      ]
     },
     "metadata": {},
     "output_type": "display_data"
    },
    {
     "data": {
      "text/html": [
       "<span style=\"color:cyan\"> |-Dropout_4: 0.48</span>"
      ],
      "text/plain": [
       "<IPython.core.display.HTML object>"
      ]
     },
     "metadata": {},
     "output_type": "display_data"
    },
    {
     "data": {
      "text/html": [
       "<span style=\"color:blue\"> |-N_Layers: 3</span>"
      ],
      "text/plain": [
       "<IPython.core.display.HTML object>"
      ]
     },
     "metadata": {},
     "output_type": "display_data"
    },
    {
     "data": {
      "text/html": [
       "<span style=\"color:cyan\"> |-activation2_0: swish</span>"
      ],
      "text/plain": [
       "<IPython.core.display.HTML object>"
      ]
     },
     "metadata": {},
     "output_type": "display_data"
    },
    {
     "data": {
      "text/html": [
       "<span style=\"color:blue\"> |-activation2_1: swish</span>"
      ],
      "text/plain": [
       "<IPython.core.display.HTML object>"
      ]
     },
     "metadata": {},
     "output_type": "display_data"
    },
    {
     "data": {
      "text/html": [
       "<span style=\"color:cyan\"> |-activation2_2: selu</span>"
      ],
      "text/plain": [
       "<IPython.core.display.HTML object>"
      ]
     },
     "metadata": {},
     "output_type": "display_data"
    },
    {
     "data": {
      "text/html": [
       "<span style=\"color:blue\"> |-activation2_3: swish</span>"
      ],
      "text/plain": [
       "<IPython.core.display.HTML object>"
      ]
     },
     "metadata": {},
     "output_type": "display_data"
    },
    {
     "data": {
      "text/html": [
       "<span style=\"color:cyan\"> |-activation2_4: elu</span>"
      ],
      "text/plain": [
       "<IPython.core.display.HTML object>"
      ]
     },
     "metadata": {},
     "output_type": "display_data"
    },
    {
     "data": {
      "text/html": [
       "<span style=\"color:blue\"> |-number_of_neurons2_0: 583</span>"
      ],
      "text/plain": [
       "<IPython.core.display.HTML object>"
      ]
     },
     "metadata": {},
     "output_type": "display_data"
    },
    {
     "data": {
      "text/html": [
       "<span style=\"color:cyan\"> |-number_of_neurons2_1: 1082</span>"
      ],
      "text/plain": [
       "<IPython.core.display.HTML object>"
      ]
     },
     "metadata": {},
     "output_type": "display_data"
    },
    {
     "data": {
      "text/html": [
       "<span style=\"color:blue\"> |-number_of_neurons2_2: 1968</span>"
      ],
      "text/plain": [
       "<IPython.core.display.HTML object>"
      ]
     },
     "metadata": {},
     "output_type": "display_data"
    },
    {
     "data": {
      "text/html": [
       "<span style=\"color:cyan\"> |-number_of_neurons2_3: 580</span>"
      ],
      "text/plain": [
       "<IPython.core.display.HTML object>"
      ]
     },
     "metadata": {},
     "output_type": "display_data"
    },
    {
     "data": {
      "text/html": [
       "<span style=\"color:blue\"> |-number_of_neurons2_4: 695</span>"
      ],
      "text/plain": [
       "<IPython.core.display.HTML object>"
      ]
     },
     "metadata": {},
     "output_type": "display_data"
    },
    {
     "name": "stdout",
     "output_type": "stream",
     "text": [
      "Epoch 1/150\n",
      "138/138 [==============================] - 11s 83ms/step - loss: 0.2426 - accuracy: 0.0408 - val_loss: 0.0230 - val_accuracy: 0.0535\n",
      "Epoch 2/150\n",
      "138/138 [==============================] - 11s 78ms/step - loss: 0.0210 - accuracy: 0.0905 - val_loss: 0.0193 - val_accuracy: 0.1242\n",
      "Epoch 3/150\n",
      "138/138 [==============================] - 12s 84ms/step - loss: 0.0185 - accuracy: 0.1236 - val_loss: 0.0182 - val_accuracy: 0.1130\n",
      "Epoch 4/150\n",
      "138/138 [==============================] - 12s 85ms/step - loss: 0.0173 - accuracy: 0.1506 - val_loss: 0.0176 - val_accuracy: 0.1337\n",
      "Epoch 5/150\n",
      "138/138 [==============================] - 9s 64ms/step - loss: 0.0162 - accuracy: 0.1727 - val_loss: 0.0177 - val_accuracy: 0.1470\n",
      "Epoch 6/150\n",
      "138/138 [==============================] - 9s 64ms/step - loss: 0.0153 - accuracy: 0.1947 - val_loss: 0.0178 - val_accuracy: 0.1374\n",
      "Epoch 7/150\n",
      "137/138 [============================>.] - ETA: 0s - loss: 0.0144 - accuracy: 0.2153\n",
      "Epoch 00007: ReduceLROnPlateau reducing learning rate to 0.00010000000474974513.\n",
      "138/138 [==============================] - 9s 66ms/step - loss: 0.0144 - accuracy: 0.2152 - val_loss: 0.0179 - val_accuracy: 0.1449\n",
      "Epoch 8/150\n",
      "138/138 [==============================] - 9s 65ms/step - loss: 0.0119 - accuracy: 0.2792 - val_loss: 0.0169 - val_accuracy: 0.1533\n",
      "Epoch 9/150\n",
      "138/138 [==============================] - 9s 67ms/step - loss: 0.0110 - accuracy: 0.2940 - val_loss: 0.0170 - val_accuracy: 0.1613\n",
      "Epoch 10/150\n",
      "138/138 [==============================] - 9s 66ms/step - loss: 0.0105 - accuracy: 0.3202 - val_loss: 0.0172 - val_accuracy: 0.1554\n",
      "Epoch 11/150\n",
      "137/138 [============================>.] - ETA: 0s - loss: 0.0101 - accuracy: 0.3257\n",
      "Epoch 00011: ReduceLROnPlateau reducing learning rate to 1.0000000474974514e-05.\n",
      "138/138 [==============================] - 10s 70ms/step - loss: 0.0101 - accuracy: 0.3258 - val_loss: 0.0173 - val_accuracy: 0.1527\n",
      "Epoch 12/150\n",
      "138/138 [==============================] - 9s 64ms/step - loss: 0.0096 - accuracy: 0.3423 - val_loss: 0.0174 - val_accuracy: 0.1527\n",
      "Epoch 13/150\n",
      "138/138 [==============================] - 9s 65ms/step - loss: 0.0095 - accuracy: 0.3430 - val_loss: 0.0174 - val_accuracy: 0.1533\n",
      "Epoch 14/150\n",
      "137/138 [============================>.] - ETA: 0s - loss: 0.0095 - accuracy: 0.3488\n",
      "Epoch 00014: ReduceLROnPlateau reducing learning rate to 1.0000000656873453e-06.\n",
      "138/138 [==============================] - 9s 66ms/step - loss: 0.0095 - accuracy: 0.3491 - val_loss: 0.0175 - val_accuracy: 0.1547\n",
      "Epoch 15/150\n",
      "138/138 [==============================] - 9s 64ms/step - loss: 0.0095 - accuracy: 0.3520 - val_loss: 0.0175 - val_accuracy: 0.1547\n",
      "Epoch 16/150\n",
      "138/138 [==============================] - 9s 68ms/step - loss: 0.0094 - accuracy: 0.3522 - val_loss: 0.0175 - val_accuracy: 0.1545\n",
      "Epoch 17/150\n",
      "137/138 [============================>.] - ETA: 0s - loss: 0.0094 - accuracy: 0.3526\n",
      "Epoch 00017: ReduceLROnPlateau reducing learning rate to 1.0000001111620805e-07.\n",
      "138/138 [==============================] - 9s 63ms/step - loss: 0.0094 - accuracy: 0.3525 - val_loss: 0.0175 - val_accuracy: 0.1542\n",
      "Epoch 18/150\n",
      "137/138 [============================>.] - ETA: 0s - loss: 0.0094 - accuracy: 0.3552Restoring model weights from the end of the best epoch.\n",
      "138/138 [==============================] - 9s 65ms/step - loss: 0.0094 - accuracy: 0.3550 - val_loss: 0.0175 - val_accuracy: 0.1542\n",
      "Epoch 00018: early stopping\n"
     ]
    },
    {
     "data": {
      "text/html": [
       "<span style=\"color:#4527A0\"><h1 style=\"font-size:18px\">Trial complete</h1></span>"
      ],
      "text/plain": [
       "<IPython.core.display.HTML object>"
      ]
     },
     "metadata": {},
     "output_type": "display_data"
    },
    {
     "data": {
      "text/html": [
       "<span style=\"color:#4527A0\"><h1 style=\"font-size:18px\">Trial summary</h1></span>"
      ],
      "text/plain": [
       "<IPython.core.display.HTML object>"
      ]
     },
     "metadata": {},
     "output_type": "display_data"
    },
    {
     "data": {
      "text/html": [
       "<span style=\"color:cyan\"> |-Trial ID: ca717bfb98957af79d524bfe50c05386</span>"
      ],
      "text/plain": [
       "<IPython.core.display.HTML object>"
      ]
     },
     "metadata": {},
     "output_type": "display_data"
    },
    {
     "data": {
      "text/html": [
       "<span style=\"color:cyan\"> |-Score: 0.016903318464756012</span>"
      ],
      "text/plain": [
       "<IPython.core.display.HTML object>"
      ]
     },
     "metadata": {},
     "output_type": "display_data"
    },
    {
     "data": {
      "text/html": [
       "<span style=\"color:cyan\"> |-Best step: 0</span>"
      ],
      "text/plain": [
       "<IPython.core.display.HTML object>"
      ]
     },
     "metadata": {},
     "output_type": "display_data"
    },
    {
     "data": {
      "text/html": [
       "<span style=\"color:#7E57C2\"><h2 style=\"font-size:16px\">Hyperparameters:</h2></span>"
      ],
      "text/plain": [
       "<IPython.core.display.HTML object>"
      ]
     },
     "metadata": {},
     "output_type": "display_data"
    },
    {
     "data": {
      "text/html": [
       "<span style=\"color:cyan\"> |-Dropout_0: 0.13</span>"
      ],
      "text/plain": [
       "<IPython.core.display.HTML object>"
      ]
     },
     "metadata": {},
     "output_type": "display_data"
    },
    {
     "data": {
      "text/html": [
       "<span style=\"color:blue\"> |-Dropout_1: 0.5</span>"
      ],
      "text/plain": [
       "<IPython.core.display.HTML object>"
      ]
     },
     "metadata": {},
     "output_type": "display_data"
    },
    {
     "data": {
      "text/html": [
       "<span style=\"color:cyan\"> |-Dropout_2: 0.02</span>"
      ],
      "text/plain": [
       "<IPython.core.display.HTML object>"
      ]
     },
     "metadata": {},
     "output_type": "display_data"
    },
    {
     "data": {
      "text/html": [
       "<span style=\"color:blue\"> |-Dropout_3: 0.19</span>"
      ],
      "text/plain": [
       "<IPython.core.display.HTML object>"
      ]
     },
     "metadata": {},
     "output_type": "display_data"
    },
    {
     "data": {
      "text/html": [
       "<span style=\"color:cyan\"> |-Dropout_4: 0.45</span>"
      ],
      "text/plain": [
       "<IPython.core.display.HTML object>"
      ]
     },
     "metadata": {},
     "output_type": "display_data"
    },
    {
     "data": {
      "text/html": [
       "<span style=\"color:blue\"> |-N_Layers: 3</span>"
      ],
      "text/plain": [
       "<IPython.core.display.HTML object>"
      ]
     },
     "metadata": {},
     "output_type": "display_data"
    },
    {
     "data": {
      "text/html": [
       "<span style=\"color:cyan\"> |-activation2_0: selu</span>"
      ],
      "text/plain": [
       "<IPython.core.display.HTML object>"
      ]
     },
     "metadata": {},
     "output_type": "display_data"
    },
    {
     "data": {
      "text/html": [
       "<span style=\"color:blue\"> |-activation2_1: selu</span>"
      ],
      "text/plain": [
       "<IPython.core.display.HTML object>"
      ]
     },
     "metadata": {},
     "output_type": "display_data"
    },
    {
     "data": {
      "text/html": [
       "<span style=\"color:cyan\"> |-activation2_2: selu</span>"
      ],
      "text/plain": [
       "<IPython.core.display.HTML object>"
      ]
     },
     "metadata": {},
     "output_type": "display_data"
    },
    {
     "data": {
      "text/html": [
       "<span style=\"color:blue\"> |-activation2_3: swish</span>"
      ],
      "text/plain": [
       "<IPython.core.display.HTML object>"
      ]
     },
     "metadata": {},
     "output_type": "display_data"
    },
    {
     "data": {
      "text/html": [
       "<span style=\"color:cyan\"> |-activation2_4: elu</span>"
      ],
      "text/plain": [
       "<IPython.core.display.HTML object>"
      ]
     },
     "metadata": {},
     "output_type": "display_data"
    },
    {
     "data": {
      "text/html": [
       "<span style=\"color:blue\"> |-number_of_neurons2_0: 1078</span>"
      ],
      "text/plain": [
       "<IPython.core.display.HTML object>"
      ]
     },
     "metadata": {},
     "output_type": "display_data"
    },
    {
     "data": {
      "text/html": [
       "<span style=\"color:cyan\"> |-number_of_neurons2_1: 1083</span>"
      ],
      "text/plain": [
       "<IPython.core.display.HTML object>"
      ]
     },
     "metadata": {},
     "output_type": "display_data"
    },
    {
     "data": {
      "text/html": [
       "<span style=\"color:blue\"> |-number_of_neurons2_2: 1532</span>"
      ],
      "text/plain": [
       "<IPython.core.display.HTML object>"
      ]
     },
     "metadata": {},
     "output_type": "display_data"
    },
    {
     "data": {
      "text/html": [
       "<span style=\"color:cyan\"> |-number_of_neurons2_3: 1554</span>"
      ],
      "text/plain": [
       "<IPython.core.display.HTML object>"
      ]
     },
     "metadata": {},
     "output_type": "display_data"
    },
    {
     "data": {
      "text/html": [
       "<span style=\"color:blue\"> |-number_of_neurons2_4: 662</span>"
      ],
      "text/plain": [
       "<IPython.core.display.HTML object>"
      ]
     },
     "metadata": {},
     "output_type": "display_data"
    },
    {
     "name": "stdout",
     "output_type": "stream",
     "text": [
      "Epoch 1/150\n",
      "138/138 [==============================] - 17s 125ms/step - loss: 0.3016 - accuracy: 0.0228 - val_loss: 0.0384 - val_accuracy: 0.0394\n",
      "Epoch 2/150\n",
      "138/138 [==============================] - 18s 131ms/step - loss: 0.0236 - accuracy: 0.0463 - val_loss: 0.0213 - val_accuracy: 0.0494\n",
      "Epoch 3/150\n",
      "138/138 [==============================] - 18s 130ms/step - loss: 0.0201 - accuracy: 0.0747 - val_loss: 0.0192 - val_accuracy: 0.0905\n",
      "Epoch 4/150\n",
      "138/138 [==============================] - 17s 127ms/step - loss: 0.0188 - accuracy: 0.1045 - val_loss: 0.0184 - val_accuracy: 0.1178\n",
      "Epoch 5/150\n",
      "138/138 [==============================] - 17s 126ms/step - loss: 0.0182 - accuracy: 0.1183 - val_loss: 0.0183 - val_accuracy: 0.1121\n",
      "Epoch 6/150\n",
      "138/138 [==============================] - 18s 130ms/step - loss: 0.0175 - accuracy: 0.1271 - val_loss: 0.0179 - val_accuracy: 0.1128\n",
      "Epoch 7/150\n",
      "138/138 [==============================] - 17s 127ms/step - loss: 0.0171 - accuracy: 0.1369 - val_loss: 0.0178 - val_accuracy: 0.1265\n",
      "Epoch 8/150\n",
      "138/138 [==============================] - 17s 123ms/step - loss: 0.0166 - accuracy: 0.1457 - val_loss: 0.0178 - val_accuracy: 0.1344\n",
      "Epoch 9/150\n",
      "138/138 [==============================] - 18s 130ms/step - loss: 0.0163 - accuracy: 0.1549 - val_loss: 0.0176 - val_accuracy: 0.1255\n",
      "Epoch 10/150\n",
      "138/138 [==============================] - 17s 123ms/step - loss: 0.0158 - accuracy: 0.1621 - val_loss: 0.0175 - val_accuracy: 0.1303\n",
      "Epoch 11/150\n",
      "138/138 [==============================] - 17s 124ms/step - loss: 0.0153 - accuracy: 0.1692 - val_loss: 0.0175 - val_accuracy: 0.1290\n",
      "Epoch 12/150\n",
      "138/138 [==============================] - 17s 125ms/step - loss: 0.0149 - accuracy: 0.1792 - val_loss: 0.0174 - val_accuracy: 0.1335\n",
      "Epoch 13/150\n",
      "138/138 [==============================] - ETA: 0s - loss: 0.0145 - accuracy: 0.1963\n",
      "Epoch 00013: ReduceLROnPlateau reducing learning rate to 0.00010000000474974513.\n",
      "138/138 [==============================] - 17s 126ms/step - loss: 0.0145 - accuracy: 0.1963 - val_loss: 0.0177 - val_accuracy: 0.1326\n",
      "Epoch 14/150\n",
      "138/138 [==============================] - 17s 125ms/step - loss: 0.0132 - accuracy: 0.2156 - val_loss: 0.0169 - val_accuracy: 0.1401\n",
      "Epoch 15/150\n",
      "138/138 [==============================] - 17s 122ms/step - loss: 0.0127 - accuracy: 0.2305 - val_loss: 0.0170 - val_accuracy: 0.1404\n",
      "Epoch 16/150\n",
      "138/138 [==============================] - 18s 127ms/step - loss: 0.0124 - accuracy: 0.2389 - val_loss: 0.0171 - val_accuracy: 0.1399\n",
      "Epoch 17/150\n",
      "138/138 [==============================] - ETA: 0s - loss: 0.0121 - accuracy: 0.2442\n",
      "Epoch 00017: ReduceLROnPlateau reducing learning rate to 1.0000000474974514e-05.\n",
      "138/138 [==============================] - 17s 121ms/step - loss: 0.0121 - accuracy: 0.2442 - val_loss: 0.0171 - val_accuracy: 0.1374\n",
      "Epoch 18/150\n",
      "138/138 [==============================] - 17s 124ms/step - loss: 0.0119 - accuracy: 0.2510 - val_loss: 0.0172 - val_accuracy: 0.1378\n",
      "Epoch 19/150\n",
      "138/138 [==============================] - 17s 123ms/step - loss: 0.0118 - accuracy: 0.2572 - val_loss: 0.0172 - val_accuracy: 0.1385\n",
      "Epoch 20/150\n",
      "138/138 [==============================] - ETA: 0s - loss: 0.0118 - accuracy: 0.2558\n",
      "Epoch 00020: ReduceLROnPlateau reducing learning rate to 1.0000000656873453e-06.\n",
      "138/138 [==============================] - 21s 149ms/step - loss: 0.0118 - accuracy: 0.2558 - val_loss: 0.0172 - val_accuracy: 0.1399\n",
      "Epoch 21/150\n",
      "138/138 [==============================] - 21s 153ms/step - loss: 0.0118 - accuracy: 0.2558 - val_loss: 0.0172 - val_accuracy: 0.1383\n",
      "Epoch 22/150\n",
      "138/138 [==============================] - 22s 156ms/step - loss: 0.0117 - accuracy: 0.2591 - val_loss: 0.0172 - val_accuracy: 0.1385\n",
      "Epoch 23/150\n",
      "138/138 [==============================] - ETA: 0s - loss: 0.0118 - accuracy: 0.2575\n",
      "Epoch 00023: ReduceLROnPlateau reducing learning rate to 1.0000001111620805e-07.\n",
      "138/138 [==============================] - 21s 153ms/step - loss: 0.0118 - accuracy: 0.2575 - val_loss: 0.0172 - val_accuracy: 0.1392\n",
      "Epoch 24/150\n",
      "138/138 [==============================] - ETA: 0s - loss: 0.0118 - accuracy: 0.2551Restoring model weights from the end of the best epoch.\n",
      "138/138 [==============================] - 21s 150ms/step - loss: 0.0118 - accuracy: 0.2551 - val_loss: 0.0172 - val_accuracy: 0.1388\n",
      "Epoch 00024: early stopping\n"
     ]
    },
    {
     "data": {
      "text/html": [
       "<span style=\"color:#4527A0\"><h1 style=\"font-size:18px\">Trial complete</h1></span>"
      ],
      "text/plain": [
       "<IPython.core.display.HTML object>"
      ]
     },
     "metadata": {},
     "output_type": "display_data"
    },
    {
     "data": {
      "text/html": [
       "<span style=\"color:#4527A0\"><h1 style=\"font-size:18px\">Trial summary</h1></span>"
      ],
      "text/plain": [
       "<IPython.core.display.HTML object>"
      ]
     },
     "metadata": {},
     "output_type": "display_data"
    },
    {
     "data": {
      "text/html": [
       "<span style=\"color:cyan\"> |-Trial ID: 9ac43f010151a3c3c73082710d9c1e9a</span>"
      ],
      "text/plain": [
       "<IPython.core.display.HTML object>"
      ]
     },
     "metadata": {},
     "output_type": "display_data"
    },
    {
     "data": {
      "text/html": [
       "<span style=\"color:cyan\"> |-Score: 0.016924556344747543</span>"
      ],
      "text/plain": [
       "<IPython.core.display.HTML object>"
      ]
     },
     "metadata": {},
     "output_type": "display_data"
    },
    {
     "data": {
      "text/html": [
       "<span style=\"color:cyan\"> |-Best step: 0</span>"
      ],
      "text/plain": [
       "<IPython.core.display.HTML object>"
      ]
     },
     "metadata": {},
     "output_type": "display_data"
    },
    {
     "data": {
      "text/html": [
       "<span style=\"color:#7E57C2\"><h2 style=\"font-size:16px\">Hyperparameters:</h2></span>"
      ],
      "text/plain": [
       "<IPython.core.display.HTML object>"
      ]
     },
     "metadata": {},
     "output_type": "display_data"
    },
    {
     "data": {
      "text/html": [
       "<span style=\"color:cyan\"> |-Dropout_0: 0.61</span>"
      ],
      "text/plain": [
       "<IPython.core.display.HTML object>"
      ]
     },
     "metadata": {},
     "output_type": "display_data"
    },
    {
     "data": {
      "text/html": [
       "<span style=\"color:blue\"> |-Dropout_1: 0.01</span>"
      ],
      "text/plain": [
       "<IPython.core.display.HTML object>"
      ]
     },
     "metadata": {},
     "output_type": "display_data"
    },
    {
     "data": {
      "text/html": [
       "<span style=\"color:cyan\"> |-Dropout_2: 0.19</span>"
      ],
      "text/plain": [
       "<IPython.core.display.HTML object>"
      ]
     },
     "metadata": {},
     "output_type": "display_data"
    },
    {
     "data": {
      "text/html": [
       "<span style=\"color:blue\"> |-Dropout_3: 0.5700000000000001</span>"
      ],
      "text/plain": [
       "<IPython.core.display.HTML object>"
      ]
     },
     "metadata": {},
     "output_type": "display_data"
    },
    {
     "data": {
      "text/html": [
       "<span style=\"color:cyan\"> |-Dropout_4: 0.22</span>"
      ],
      "text/plain": [
       "<IPython.core.display.HTML object>"
      ]
     },
     "metadata": {},
     "output_type": "display_data"
    },
    {
     "data": {
      "text/html": [
       "<span style=\"color:blue\"> |-Dropout_5: 0.0</span>"
      ],
      "text/plain": [
       "<IPython.core.display.HTML object>"
      ]
     },
     "metadata": {},
     "output_type": "display_data"
    },
    {
     "data": {
      "text/html": [
       "<span style=\"color:cyan\"> |-N_Layers: 6</span>"
      ],
      "text/plain": [
       "<IPython.core.display.HTML object>"
      ]
     },
     "metadata": {},
     "output_type": "display_data"
    },
    {
     "data": {
      "text/html": [
       "<span style=\"color:blue\"> |-activation2_0: swish</span>"
      ],
      "text/plain": [
       "<IPython.core.display.HTML object>"
      ]
     },
     "metadata": {},
     "output_type": "display_data"
    },
    {
     "data": {
      "text/html": [
       "<span style=\"color:cyan\"> |-activation2_1: selu</span>"
      ],
      "text/plain": [
       "<IPython.core.display.HTML object>"
      ]
     },
     "metadata": {},
     "output_type": "display_data"
    },
    {
     "data": {
      "text/html": [
       "<span style=\"color:blue\"> |-activation2_2: elu</span>"
      ],
      "text/plain": [
       "<IPython.core.display.HTML object>"
      ]
     },
     "metadata": {},
     "output_type": "display_data"
    },
    {
     "data": {
      "text/html": [
       "<span style=\"color:cyan\"> |-activation2_3: elu</span>"
      ],
      "text/plain": [
       "<IPython.core.display.HTML object>"
      ]
     },
     "metadata": {},
     "output_type": "display_data"
    },
    {
     "data": {
      "text/html": [
       "<span style=\"color:blue\"> |-activation2_4: selu</span>"
      ],
      "text/plain": [
       "<IPython.core.display.HTML object>"
      ]
     },
     "metadata": {},
     "output_type": "display_data"
    },
    {
     "data": {
      "text/html": [
       "<span style=\"color:cyan\"> |-activation2_5: elu</span>"
      ],
      "text/plain": [
       "<IPython.core.display.HTML object>"
      ]
     },
     "metadata": {},
     "output_type": "display_data"
    },
    {
     "data": {
      "text/html": [
       "<span style=\"color:blue\"> |-number_of_neurons2_0: 2043</span>"
      ],
      "text/plain": [
       "<IPython.core.display.HTML object>"
      ]
     },
     "metadata": {},
     "output_type": "display_data"
    },
    {
     "data": {
      "text/html": [
       "<span style=\"color:cyan\"> |-number_of_neurons2_1: 1494</span>"
      ],
      "text/plain": [
       "<IPython.core.display.HTML object>"
      ]
     },
     "metadata": {},
     "output_type": "display_data"
    },
    {
     "data": {
      "text/html": [
       "<span style=\"color:blue\"> |-number_of_neurons2_2: 968</span>"
      ],
      "text/plain": [
       "<IPython.core.display.HTML object>"
      ]
     },
     "metadata": {},
     "output_type": "display_data"
    },
    {
     "data": {
      "text/html": [
       "<span style=\"color:cyan\"> |-number_of_neurons2_3: 1024</span>"
      ],
      "text/plain": [
       "<IPython.core.display.HTML object>"
      ]
     },
     "metadata": {},
     "output_type": "display_data"
    },
    {
     "data": {
      "text/html": [
       "<span style=\"color:blue\"> |-number_of_neurons2_4: 825</span>"
      ],
      "text/plain": [
       "<IPython.core.display.HTML object>"
      ]
     },
     "metadata": {},
     "output_type": "display_data"
    },
    {
     "data": {
      "text/html": [
       "<span style=\"color:cyan\"> |-number_of_neurons2_5: 512</span>"
      ],
      "text/plain": [
       "<IPython.core.display.HTML object>"
      ]
     },
     "metadata": {},
     "output_type": "display_data"
    },
    {
     "name": "stdout",
     "output_type": "stream",
     "text": [
      "SEED:30 Fold:4\n",
      "Epoch 1/150\n",
      "138/138 [==============================] - 7s 52ms/step - loss: 0.3005 - accuracy: 0.0274 - val_loss: 0.0339 - val_accuracy: 0.0314\n",
      "Epoch 2/150\n",
      "138/138 [==============================] - 8s 56ms/step - loss: 0.0236 - accuracy: 0.0562 - val_loss: 0.0208 - val_accuracy: 0.0818\n",
      "Epoch 3/150\n",
      "138/138 [==============================] - 7s 50ms/step - loss: 0.0198 - accuracy: 0.0919 - val_loss: 0.0190 - val_accuracy: 0.0923\n",
      "Epoch 4/150\n",
      "138/138 [==============================] - 7s 50ms/step - loss: 0.0184 - accuracy: 0.1200 - val_loss: 0.0179 - val_accuracy: 0.1465\n",
      "Epoch 5/150\n",
      "138/138 [==============================] - 8s 54ms/step - loss: 0.0175 - accuracy: 0.1339 - val_loss: 0.0173 - val_accuracy: 0.1269\n",
      "Epoch 6/150\n",
      "138/138 [==============================] - 6s 42ms/step - loss: 0.0168 - accuracy: 0.1434 - val_loss: 0.0172 - val_accuracy: 0.1417\n",
      "Epoch 7/150\n",
      "138/138 [==============================] - 6s 42ms/step - loss: 0.0163 - accuracy: 0.1521 - val_loss: 0.0170 - val_accuracy: 0.1415\n",
      "Epoch 8/150\n",
      "138/138 [==============================] - 6s 42ms/step - loss: 0.0158 - accuracy: 0.1665 - val_loss: 0.0169 - val_accuracy: 0.1365\n",
      "Epoch 9/150\n",
      "138/138 [==============================] - 6s 41ms/step - loss: 0.0154 - accuracy: 0.1720 - val_loss: 0.0169 - val_accuracy: 0.1547\n",
      "Epoch 10/150\n",
      "138/138 [==============================] - 6s 43ms/step - loss: 0.0149 - accuracy: 0.1839 - val_loss: 0.0168 - val_accuracy: 0.1433\n",
      "Epoch 11/150\n",
      "138/138 [==============================] - ETA: 0s - loss: 0.0145 - accuracy: 0.1891\n",
      "Epoch 00011: ReduceLROnPlateau reducing learning rate to 0.00010000000474974513.\n",
      "138/138 [==============================] - 6s 45ms/step - loss: 0.0145 - accuracy: 0.1891 - val_loss: 0.0169 - val_accuracy: 0.1520\n",
      "Epoch 12/150\n",
      "138/138 [==============================] - 6s 43ms/step - loss: 0.0133 - accuracy: 0.2186 - val_loss: 0.0163 - val_accuracy: 0.1524\n",
      "Epoch 13/150\n",
      "138/138 [==============================] - 6s 42ms/step - loss: 0.0129 - accuracy: 0.2266 - val_loss: 0.0163 - val_accuracy: 0.1513\n",
      "Epoch 14/150\n",
      "138/138 [==============================] - 6s 41ms/step - loss: 0.0127 - accuracy: 0.2362 - val_loss: 0.0164 - val_accuracy: 0.1479\n",
      "Epoch 15/150\n",
      "138/138 [==============================] - ETA: 0s - loss: 0.0126 - accuracy: 0.2359\n",
      "Epoch 00015: ReduceLROnPlateau reducing learning rate to 1.0000000474974514e-05.\n",
      "138/138 [==============================] - 6s 41ms/step - loss: 0.0126 - accuracy: 0.2359 - val_loss: 0.0164 - val_accuracy: 0.1506\n",
      "Epoch 16/150\n",
      "138/138 [==============================] - 6s 45ms/step - loss: 0.0123 - accuracy: 0.2434 - val_loss: 0.0164 - val_accuracy: 0.1522\n",
      "Epoch 17/150\n",
      "138/138 [==============================] - 6s 41ms/step - loss: 0.0124 - accuracy: 0.2454 - val_loss: 0.0164 - val_accuracy: 0.1508\n",
      "Epoch 18/150\n",
      "138/138 [==============================] - ETA: 0s - loss: 0.0123 - accuracy: 0.2445\n",
      "Epoch 00018: ReduceLROnPlateau reducing learning rate to 1.0000000656873453e-06.\n",
      "138/138 [==============================] - 6s 41ms/step - loss: 0.0123 - accuracy: 0.2445 - val_loss: 0.0164 - val_accuracy: 0.1506\n",
      "Epoch 19/150\n",
      "138/138 [==============================] - 6s 41ms/step - loss: 0.0123 - accuracy: 0.2442 - val_loss: 0.0164 - val_accuracy: 0.1504\n",
      "Epoch 20/150\n",
      "138/138 [==============================] - 6s 41ms/step - loss: 0.0123 - accuracy: 0.2466 - val_loss: 0.0165 - val_accuracy: 0.1511\n",
      "Epoch 21/150\n",
      "137/138 [============================>.] - ETA: 0s - loss: 0.0123 - accuracy: 0.2459\n",
      "Epoch 00021: ReduceLROnPlateau reducing learning rate to 1.0000001111620805e-07.\n",
      "138/138 [==============================] - 6s 45ms/step - loss: 0.0123 - accuracy: 0.2457 - val_loss: 0.0165 - val_accuracy: 0.1513\n",
      "Epoch 22/150\n",
      "138/138 [==============================] - 6s 44ms/step - loss: 0.0123 - accuracy: 0.2454 - val_loss: 0.0165 - val_accuracy: 0.1513\n",
      "Epoch 23/150\n",
      "138/138 [==============================] - ETA: 0s - loss: 0.0123 - accuracy: 0.2451Restoring model weights from the end of the best epoch.\n",
      "138/138 [==============================] - 6s 44ms/step - loss: 0.0123 - accuracy: 0.2451 - val_loss: 0.0165 - val_accuracy: 0.1511\n",
      "Epoch 00023: early stopping\n"
     ]
    },
    {
     "data": {
      "text/html": [
       "<span style=\"color:#4527A0\"><h1 style=\"font-size:18px\">Trial complete</h1></span>"
      ],
      "text/plain": [
       "<IPython.core.display.HTML object>"
      ]
     },
     "metadata": {},
     "output_type": "display_data"
    },
    {
     "data": {
      "text/html": [
       "<span style=\"color:#4527A0\"><h1 style=\"font-size:18px\">Trial summary</h1></span>"
      ],
      "text/plain": [
       "<IPython.core.display.HTML object>"
      ]
     },
     "metadata": {},
     "output_type": "display_data"
    },
    {
     "data": {
      "text/html": [
       "<span style=\"color:cyan\"> |-Trial ID: 05359efeb86430a9ed917b125db2cfa7</span>"
      ],
      "text/plain": [
       "<IPython.core.display.HTML object>"
      ]
     },
     "metadata": {},
     "output_type": "display_data"
    },
    {
     "data": {
      "text/html": [
       "<span style=\"color:cyan\"> |-Score: 0.016326820477843285</span>"
      ],
      "text/plain": [
       "<IPython.core.display.HTML object>"
      ]
     },
     "metadata": {},
     "output_type": "display_data"
    },
    {
     "data": {
      "text/html": [
       "<span style=\"color:cyan\"> |-Best step: 0</span>"
      ],
      "text/plain": [
       "<IPython.core.display.HTML object>"
      ]
     },
     "metadata": {},
     "output_type": "display_data"
    },
    {
     "data": {
      "text/html": [
       "<span style=\"color:#7E57C2\"><h2 style=\"font-size:16px\">Hyperparameters:</h2></span>"
      ],
      "text/plain": [
       "<IPython.core.display.HTML object>"
      ]
     },
     "metadata": {},
     "output_type": "display_data"
    },
    {
     "data": {
      "text/html": [
       "<span style=\"color:cyan\"> |-Dropout_0: 0.53</span>"
      ],
      "text/plain": [
       "<IPython.core.display.HTML object>"
      ]
     },
     "metadata": {},
     "output_type": "display_data"
    },
    {
     "data": {
      "text/html": [
       "<span style=\"color:blue\"> |-Dropout_1: 0.53</span>"
      ],
      "text/plain": [
       "<IPython.core.display.HTML object>"
      ]
     },
     "metadata": {},
     "output_type": "display_data"
    },
    {
     "data": {
      "text/html": [
       "<span style=\"color:cyan\"> |-Dropout_2: 0.0</span>"
      ],
      "text/plain": [
       "<IPython.core.display.HTML object>"
      ]
     },
     "metadata": {},
     "output_type": "display_data"
    },
    {
     "data": {
      "text/html": [
       "<span style=\"color:blue\"> |-Dropout_3: 0.0</span>"
      ],
      "text/plain": [
       "<IPython.core.display.HTML object>"
      ]
     },
     "metadata": {},
     "output_type": "display_data"
    },
    {
     "data": {
      "text/html": [
       "<span style=\"color:cyan\"> |-N_Layers: 4</span>"
      ],
      "text/plain": [
       "<IPython.core.display.HTML object>"
      ]
     },
     "metadata": {},
     "output_type": "display_data"
    },
    {
     "data": {
      "text/html": [
       "<span style=\"color:blue\"> |-activation2_0: selu</span>"
      ],
      "text/plain": [
       "<IPython.core.display.HTML object>"
      ]
     },
     "metadata": {},
     "output_type": "display_data"
    },
    {
     "data": {
      "text/html": [
       "<span style=\"color:cyan\"> |-activation2_1: elu</span>"
      ],
      "text/plain": [
       "<IPython.core.display.HTML object>"
      ]
     },
     "metadata": {},
     "output_type": "display_data"
    },
    {
     "data": {
      "text/html": [
       "<span style=\"color:blue\"> |-activation2_2: elu</span>"
      ],
      "text/plain": [
       "<IPython.core.display.HTML object>"
      ]
     },
     "metadata": {},
     "output_type": "display_data"
    },
    {
     "data": {
      "text/html": [
       "<span style=\"color:cyan\"> |-activation2_3: elu</span>"
      ],
      "text/plain": [
       "<IPython.core.display.HTML object>"
      ]
     },
     "metadata": {},
     "output_type": "display_data"
    },
    {
     "data": {
      "text/html": [
       "<span style=\"color:blue\"> |-number_of_neurons2_0: 1116</span>"
      ],
      "text/plain": [
       "<IPython.core.display.HTML object>"
      ]
     },
     "metadata": {},
     "output_type": "display_data"
    },
    {
     "data": {
      "text/html": [
       "<span style=\"color:cyan\"> |-number_of_neurons2_1: 623</span>"
      ],
      "text/plain": [
       "<IPython.core.display.HTML object>"
      ]
     },
     "metadata": {},
     "output_type": "display_data"
    },
    {
     "data": {
      "text/html": [
       "<span style=\"color:blue\"> |-number_of_neurons2_2: 512</span>"
      ],
      "text/plain": [
       "<IPython.core.display.HTML object>"
      ]
     },
     "metadata": {},
     "output_type": "display_data"
    },
    {
     "data": {
      "text/html": [
       "<span style=\"color:cyan\"> |-number_of_neurons2_3: 512</span>"
      ],
      "text/plain": [
       "<IPython.core.display.HTML object>"
      ]
     },
     "metadata": {},
     "output_type": "display_data"
    },
    {
     "name": "stdout",
     "output_type": "stream",
     "text": [
      "Epoch 1/150\n",
      "138/138 [==============================] - 19s 137ms/step - loss: 0.2719 - accuracy: 0.0253 - val_loss: 0.0275 - val_accuracy: 0.0235\n",
      "Epoch 2/150\n",
      "138/138 [==============================] - 18s 134ms/step - loss: 0.0240 - accuracy: 0.0534 - val_loss: 0.0204 - val_accuracy: 0.0647\n",
      "Epoch 3/150\n",
      "138/138 [==============================] - 19s 141ms/step - loss: 0.0215 - accuracy: 0.0678 - val_loss: 0.0194 - val_accuracy: 0.1107\n",
      "Epoch 4/150\n",
      "138/138 [==============================] - 18s 134ms/step - loss: 0.0203 - accuracy: 0.0903 - val_loss: 0.0188 - val_accuracy: 0.0925\n",
      "Epoch 5/150\n",
      "138/138 [==============================] - 19s 140ms/step - loss: 0.0196 - accuracy: 0.1012 - val_loss: 0.0182 - val_accuracy: 0.0993\n",
      "Epoch 6/150\n",
      "138/138 [==============================] - 19s 141ms/step - loss: 0.0191 - accuracy: 0.1099 - val_loss: 0.0176 - val_accuracy: 0.1119\n",
      "Epoch 7/150\n",
      "138/138 [==============================] - 18s 132ms/step - loss: 0.0184 - accuracy: 0.1177 - val_loss: 0.0178 - val_accuracy: 0.1315\n",
      "Epoch 8/150\n",
      "138/138 [==============================] - 19s 136ms/step - loss: 0.0181 - accuracy: 0.1202 - val_loss: 0.0173 - val_accuracy: 0.1212\n",
      "Epoch 9/150\n",
      "138/138 [==============================] - 19s 138ms/step - loss: 0.0179 - accuracy: 0.1252 - val_loss: 0.0171 - val_accuracy: 0.1194\n",
      "Epoch 10/150\n",
      "138/138 [==============================] - 19s 137ms/step - loss: 0.0174 - accuracy: 0.1311 - val_loss: 0.0170 - val_accuracy: 0.1219\n",
      "Epoch 11/150\n",
      "138/138 [==============================] - 19s 134ms/step - loss: 0.0172 - accuracy: 0.1311 - val_loss: 0.0169 - val_accuracy: 0.1276\n",
      "Epoch 12/150\n",
      "138/138 [==============================] - 21s 149ms/step - loss: 0.0168 - accuracy: 0.1393 - val_loss: 0.0168 - val_accuracy: 0.1294\n",
      "Epoch 13/150\n",
      "138/138 [==============================] - 19s 136ms/step - loss: 0.0165 - accuracy: 0.1437 - val_loss: 0.0168 - val_accuracy: 0.1333\n",
      "Epoch 14/150\n",
      "138/138 [==============================] - 19s 139ms/step - loss: 0.0163 - accuracy: 0.1476 - val_loss: 0.0168 - val_accuracy: 0.1349\n",
      "Epoch 15/150\n",
      "138/138 [==============================] - 19s 136ms/step - loss: 0.0159 - accuracy: 0.1542 - val_loss: 0.0168 - val_accuracy: 0.1285\n",
      "Epoch 16/150\n",
      "138/138 [==============================] - 18s 134ms/step - loss: 0.0158 - accuracy: 0.1593 - val_loss: 0.0168 - val_accuracy: 0.1358\n",
      "Epoch 17/150\n",
      "138/138 [==============================] - 19s 137ms/step - loss: 0.0154 - accuracy: 0.1609 - val_loss: 0.0166 - val_accuracy: 0.1385\n",
      "Epoch 18/150\n",
      "138/138 [==============================] - 19s 135ms/step - loss: 0.0152 - accuracy: 0.1684 - val_loss: 0.0166 - val_accuracy: 0.1383\n",
      "Epoch 19/150\n",
      "138/138 [==============================] - 19s 136ms/step - loss: 0.0148 - accuracy: 0.1759 - val_loss: 0.0166 - val_accuracy: 0.1378\n",
      "Epoch 20/150\n",
      "138/138 [==============================] - ETA: 0s - loss: 0.0147 - accuracy: 0.1802\n",
      "Epoch 00020: ReduceLROnPlateau reducing learning rate to 0.00010000000474974513.\n",
      "138/138 [==============================] - 19s 135ms/step - loss: 0.0147 - accuracy: 0.1802 - val_loss: 0.0167 - val_accuracy: 0.1413\n",
      "Epoch 21/150\n",
      "138/138 [==============================] - 19s 140ms/step - loss: 0.0137 - accuracy: 0.1992 - val_loss: 0.0164 - val_accuracy: 0.1401\n",
      "Epoch 22/150\n",
      "138/138 [==============================] - 20s 143ms/step - loss: 0.0134 - accuracy: 0.2082 - val_loss: 0.0164 - val_accuracy: 0.1390\n",
      "Epoch 23/150\n",
      "138/138 [==============================] - 18s 134ms/step - loss: 0.0133 - accuracy: 0.2062 - val_loss: 0.0164 - val_accuracy: 0.1408\n",
      "Epoch 24/150\n",
      "138/138 [==============================] - ETA: 0s - loss: 0.0132 - accuracy: 0.2126\n",
      "Epoch 00024: ReduceLROnPlateau reducing learning rate to 1.0000000474974514e-05.\n",
      "138/138 [==============================] - 18s 134ms/step - loss: 0.0132 - accuracy: 0.2126 - val_loss: 0.0165 - val_accuracy: 0.1404\n",
      "Epoch 25/150\n",
      "138/138 [==============================] - 19s 139ms/step - loss: 0.0130 - accuracy: 0.2185 - val_loss: 0.0165 - val_accuracy: 0.1410\n",
      "Epoch 26/150\n",
      "138/138 [==============================] - 18s 132ms/step - loss: 0.0130 - accuracy: 0.2187 - val_loss: 0.0165 - val_accuracy: 0.1410\n",
      "Epoch 27/150\n",
      "138/138 [==============================] - ETA: 0s - loss: 0.0130 - accuracy: 0.2160\n",
      "Epoch 00027: ReduceLROnPlateau reducing learning rate to 1.0000000656873453e-06.\n",
      "138/138 [==============================] - 18s 134ms/step - loss: 0.0130 - accuracy: 0.2160 - val_loss: 0.0165 - val_accuracy: 0.1406\n",
      "Epoch 28/150\n",
      "138/138 [==============================] - 19s 138ms/step - loss: 0.0129 - accuracy: 0.2189 - val_loss: 0.0165 - val_accuracy: 0.1415\n",
      "Epoch 29/150\n",
      "138/138 [==============================] - 18s 133ms/step - loss: 0.0130 - accuracy: 0.2185 - val_loss: 0.0165 - val_accuracy: 0.1408\n",
      "Epoch 30/150\n",
      "138/138 [==============================] - ETA: 0s - loss: 0.0129 - accuracy: 0.2160\n",
      "Epoch 00030: ReduceLROnPlateau reducing learning rate to 1.0000001111620805e-07.\n",
      "138/138 [==============================] - 19s 135ms/step - loss: 0.0129 - accuracy: 0.2160 - val_loss: 0.0165 - val_accuracy: 0.1404\n",
      "Epoch 31/150\n",
      "138/138 [==============================] - 18s 134ms/step - loss: 0.0129 - accuracy: 0.2170 - val_loss: 0.0165 - val_accuracy: 0.1413\n",
      "Epoch 32/150\n",
      "138/138 [==============================] - ETA: 0s - loss: 0.0130 - accuracy: 0.2187Restoring model weights from the end of the best epoch.\n",
      "138/138 [==============================] - 19s 137ms/step - loss: 0.0130 - accuracy: 0.2187 - val_loss: 0.0165 - val_accuracy: 0.1413\n",
      "Epoch 00032: early stopping\n"
     ]
    },
    {
     "data": {
      "text/html": [
       "<span style=\"color:#4527A0\"><h1 style=\"font-size:18px\">Trial complete</h1></span>"
      ],
      "text/plain": [
       "<IPython.core.display.HTML object>"
      ]
     },
     "metadata": {},
     "output_type": "display_data"
    },
    {
     "data": {
      "text/html": [
       "<span style=\"color:#4527A0\"><h1 style=\"font-size:18px\">Trial summary</h1></span>"
      ],
      "text/plain": [
       "<IPython.core.display.HTML object>"
      ]
     },
     "metadata": {},
     "output_type": "display_data"
    },
    {
     "data": {
      "text/html": [
       "<span style=\"color:cyan\"> |-Trial ID: 272b8cb3b40ffbb0e3013f135de6e525</span>"
      ],
      "text/plain": [
       "<IPython.core.display.HTML object>"
      ]
     },
     "metadata": {},
     "output_type": "display_data"
    },
    {
     "data": {
      "text/html": [
       "<span style=\"color:cyan\"> |-Score: 0.016417212784290314</span>"
      ],
      "text/plain": [
       "<IPython.core.display.HTML object>"
      ]
     },
     "metadata": {},
     "output_type": "display_data"
    },
    {
     "data": {
      "text/html": [
       "<span style=\"color:cyan\"> |-Best step: 0</span>"
      ],
      "text/plain": [
       "<IPython.core.display.HTML object>"
      ]
     },
     "metadata": {},
     "output_type": "display_data"
    },
    {
     "data": {
      "text/html": [
       "<span style=\"color:#7E57C2\"><h2 style=\"font-size:16px\">Hyperparameters:</h2></span>"
      ],
      "text/plain": [
       "<IPython.core.display.HTML object>"
      ]
     },
     "metadata": {},
     "output_type": "display_data"
    },
    {
     "data": {
      "text/html": [
       "<span style=\"color:cyan\"> |-Dropout_0: 0.44</span>"
      ],
      "text/plain": [
       "<IPython.core.display.HTML object>"
      ]
     },
     "metadata": {},
     "output_type": "display_data"
    },
    {
     "data": {
      "text/html": [
       "<span style=\"color:blue\"> |-Dropout_1: 0.16</span>"
      ],
      "text/plain": [
       "<IPython.core.display.HTML object>"
      ]
     },
     "metadata": {},
     "output_type": "display_data"
    },
    {
     "data": {
      "text/html": [
       "<span style=\"color:cyan\"> |-Dropout_2: 0.48</span>"
      ],
      "text/plain": [
       "<IPython.core.display.HTML object>"
      ]
     },
     "metadata": {},
     "output_type": "display_data"
    },
    {
     "data": {
      "text/html": [
       "<span style=\"color:blue\"> |-Dropout_3: 0.68</span>"
      ],
      "text/plain": [
       "<IPython.core.display.HTML object>"
      ]
     },
     "metadata": {},
     "output_type": "display_data"
    },
    {
     "data": {
      "text/html": [
       "<span style=\"color:cyan\"> |-N_Layers: 4</span>"
      ],
      "text/plain": [
       "<IPython.core.display.HTML object>"
      ]
     },
     "metadata": {},
     "output_type": "display_data"
    },
    {
     "data": {
      "text/html": [
       "<span style=\"color:blue\"> |-activation2_0: elu</span>"
      ],
      "text/plain": [
       "<IPython.core.display.HTML object>"
      ]
     },
     "metadata": {},
     "output_type": "display_data"
    },
    {
     "data": {
      "text/html": [
       "<span style=\"color:cyan\"> |-activation2_1: selu</span>"
      ],
      "text/plain": [
       "<IPython.core.display.HTML object>"
      ]
     },
     "metadata": {},
     "output_type": "display_data"
    },
    {
     "data": {
      "text/html": [
       "<span style=\"color:blue\"> |-activation2_2: swish</span>"
      ],
      "text/plain": [
       "<IPython.core.display.HTML object>"
      ]
     },
     "metadata": {},
     "output_type": "display_data"
    },
    {
     "data": {
      "text/html": [
       "<span style=\"color:cyan\"> |-activation2_3: swish</span>"
      ],
      "text/plain": [
       "<IPython.core.display.HTML object>"
      ]
     },
     "metadata": {},
     "output_type": "display_data"
    },
    {
     "data": {
      "text/html": [
       "<span style=\"color:blue\"> |-number_of_neurons2_0: 1510</span>"
      ],
      "text/plain": [
       "<IPython.core.display.HTML object>"
      ]
     },
     "metadata": {},
     "output_type": "display_data"
    },
    {
     "data": {
      "text/html": [
       "<span style=\"color:cyan\"> |-number_of_neurons2_1: 1365</span>"
      ],
      "text/plain": [
       "<IPython.core.display.HTML object>"
      ]
     },
     "metadata": {},
     "output_type": "display_data"
    },
    {
     "data": {
      "text/html": [
       "<span style=\"color:blue\"> |-number_of_neurons2_2: 1999</span>"
      ],
      "text/plain": [
       "<IPython.core.display.HTML object>"
      ]
     },
     "metadata": {},
     "output_type": "display_data"
    },
    {
     "data": {
      "text/html": [
       "<span style=\"color:cyan\"> |-number_of_neurons2_3: 1750</span>"
      ],
      "text/plain": [
       "<IPython.core.display.HTML object>"
      ]
     },
     "metadata": {},
     "output_type": "display_data"
    },
    {
     "name": "stdout",
     "output_type": "stream",
     "text": [
      "Epoch 1/150\n",
      "138/138 [==============================] - 6s 46ms/step - loss: 0.2510 - accuracy: 0.0408 - val_loss: 0.0245 - val_accuracy: 0.0861\n",
      "Epoch 2/150\n",
      "138/138 [==============================] - 6s 45ms/step - loss: 0.0211 - accuracy: 0.0894 - val_loss: 0.0194 - val_accuracy: 0.1239\n",
      "Epoch 3/150\n",
      "138/138 [==============================] - 6s 45ms/step - loss: 0.0186 - accuracy: 0.1226 - val_loss: 0.0178 - val_accuracy: 0.1187\n",
      "Epoch 4/150\n",
      "138/138 [==============================] - 6s 47ms/step - loss: 0.0173 - accuracy: 0.1474 - val_loss: 0.0175 - val_accuracy: 0.1410\n",
      "Epoch 5/150\n",
      "138/138 [==============================] - 6s 45ms/step - loss: 0.0162 - accuracy: 0.1673 - val_loss: 0.0172 - val_accuracy: 0.1465\n",
      "Epoch 6/150\n",
      "138/138 [==============================] - 7s 49ms/step - loss: 0.0152 - accuracy: 0.1926 - val_loss: 0.0172 - val_accuracy: 0.1504\n",
      "Epoch 7/150\n",
      "138/138 [==============================] - 6s 46ms/step - loss: 0.0142 - accuracy: 0.2214 - val_loss: 0.0175 - val_accuracy: 0.1458\n",
      "Epoch 8/150\n",
      "137/138 [============================>.] - ETA: 0s - loss: 0.0131 - accuracy: 0.2448\n",
      "Epoch 00008: ReduceLROnPlateau reducing learning rate to 0.00010000000474974513.\n",
      "138/138 [==============================] - 6s 45ms/step - loss: 0.0131 - accuracy: 0.2448 - val_loss: 0.0178 - val_accuracy: 0.1408\n",
      "Epoch 9/150\n",
      "138/138 [==============================] - 6s 47ms/step - loss: 0.0105 - accuracy: 0.3133 - val_loss: 0.0170 - val_accuracy: 0.1517\n",
      "Epoch 10/150\n",
      "138/138 [==============================] - 6s 45ms/step - loss: 0.0097 - accuracy: 0.3391 - val_loss: 0.0172 - val_accuracy: 0.1520\n",
      "Epoch 11/150\n",
      "138/138 [==============================] - 6s 44ms/step - loss: 0.0093 - accuracy: 0.3587 - val_loss: 0.0173 - val_accuracy: 0.1460\n",
      "Epoch 12/150\n",
      "138/138 [==============================] - ETA: 0s - loss: 0.0089 - accuracy: 0.3698\n",
      "Epoch 00012: ReduceLROnPlateau reducing learning rate to 1.0000000474974514e-05.\n",
      "138/138 [==============================] - 6s 45ms/step - loss: 0.0089 - accuracy: 0.3698 - val_loss: 0.0175 - val_accuracy: 0.1513\n",
      "Epoch 13/150\n",
      "138/138 [==============================] - 6s 44ms/step - loss: 0.0085 - accuracy: 0.3928 - val_loss: 0.0176 - val_accuracy: 0.1524\n",
      "Epoch 14/150\n",
      "138/138 [==============================] - 6s 47ms/step - loss: 0.0084 - accuracy: 0.3908 - val_loss: 0.0176 - val_accuracy: 0.1522\n",
      "Epoch 15/150\n",
      "137/138 [============================>.] - ETA: 0s - loss: 0.0084 - accuracy: 0.3942\n",
      "Epoch 00015: ReduceLROnPlateau reducing learning rate to 1.0000000656873453e-06.\n",
      "138/138 [==============================] - 6s 47ms/step - loss: 0.0084 - accuracy: 0.3940 - val_loss: 0.0176 - val_accuracy: 0.1517\n",
      "Epoch 16/150\n",
      "138/138 [==============================] - 7s 51ms/step - loss: 0.0083 - accuracy: 0.3956 - val_loss: 0.0177 - val_accuracy: 0.1517\n",
      "Epoch 17/150\n",
      "138/138 [==============================] - 6s 46ms/step - loss: 0.0083 - accuracy: 0.3965 - val_loss: 0.0177 - val_accuracy: 0.1513\n",
      "Epoch 18/150\n",
      "137/138 [============================>.] - ETA: 0s - loss: 0.0083 - accuracy: 0.3947\n",
      "Epoch 00018: ReduceLROnPlateau reducing learning rate to 1.0000001111620805e-07.\n",
      "138/138 [==============================] - 6s 44ms/step - loss: 0.0083 - accuracy: 0.3945 - val_loss: 0.0177 - val_accuracy: 0.1524\n",
      "Epoch 19/150\n",
      "137/138 [============================>.] - ETA: 0s - loss: 0.0083 - accuracy: 0.3978Restoring model weights from the end of the best epoch.\n",
      "138/138 [==============================] - 6s 47ms/step - loss: 0.0083 - accuracy: 0.3977 - val_loss: 0.0177 - val_accuracy: 0.1529\n",
      "Epoch 00019: early stopping\n"
     ]
    },
    {
     "data": {
      "text/html": [
       "<span style=\"color:#4527A0\"><h1 style=\"font-size:18px\">Trial complete</h1></span>"
      ],
      "text/plain": [
       "<IPython.core.display.HTML object>"
      ]
     },
     "metadata": {},
     "output_type": "display_data"
    },
    {
     "data": {
      "text/html": [
       "<span style=\"color:#4527A0\"><h1 style=\"font-size:18px\">Trial summary</h1></span>"
      ],
      "text/plain": [
       "<IPython.core.display.HTML object>"
      ]
     },
     "metadata": {},
     "output_type": "display_data"
    },
    {
     "data": {
      "text/html": [
       "<span style=\"color:cyan\"> |-Trial ID: 708c1cb5dc5b0b754d3c4f7579809b58</span>"
      ],
      "text/plain": [
       "<IPython.core.display.HTML object>"
      ]
     },
     "metadata": {},
     "output_type": "display_data"
    },
    {
     "data": {
      "text/html": [
       "<span style=\"color:cyan\"> |-Score: 0.016977649182081223</span>"
      ],
      "text/plain": [
       "<IPython.core.display.HTML object>"
      ]
     },
     "metadata": {},
     "output_type": "display_data"
    },
    {
     "data": {
      "text/html": [
       "<span style=\"color:cyan\"> |-Best step: 0</span>"
      ],
      "text/plain": [
       "<IPython.core.display.HTML object>"
      ]
     },
     "metadata": {},
     "output_type": "display_data"
    },
    {
     "data": {
      "text/html": [
       "<span style=\"color:#7E57C2\"><h2 style=\"font-size:16px\">Hyperparameters:</h2></span>"
      ],
      "text/plain": [
       "<IPython.core.display.HTML object>"
      ]
     },
     "metadata": {},
     "output_type": "display_data"
    },
    {
     "data": {
      "text/html": [
       "<span style=\"color:cyan\"> |-Dropout_0: 0.26</span>"
      ],
      "text/plain": [
       "<IPython.core.display.HTML object>"
      ]
     },
     "metadata": {},
     "output_type": "display_data"
    },
    {
     "data": {
      "text/html": [
       "<span style=\"color:blue\"> |-Dropout_1: 0.35000000000000003</span>"
      ],
      "text/plain": [
       "<IPython.core.display.HTML object>"
      ]
     },
     "metadata": {},
     "output_type": "display_data"
    },
    {
     "data": {
      "text/html": [
       "<span style=\"color:cyan\"> |-Dropout_2: 0.02</span>"
      ],
      "text/plain": [
       "<IPython.core.display.HTML object>"
      ]
     },
     "metadata": {},
     "output_type": "display_data"
    },
    {
     "data": {
      "text/html": [
       "<span style=\"color:blue\"> |-Dropout_3: 0.28</span>"
      ],
      "text/plain": [
       "<IPython.core.display.HTML object>"
      ]
     },
     "metadata": {},
     "output_type": "display_data"
    },
    {
     "data": {
      "text/html": [
       "<span style=\"color:cyan\"> |-N_Layers: 3</span>"
      ],
      "text/plain": [
       "<IPython.core.display.HTML object>"
      ]
     },
     "metadata": {},
     "output_type": "display_data"
    },
    {
     "data": {
      "text/html": [
       "<span style=\"color:blue\"> |-activation2_0: elu</span>"
      ],
      "text/plain": [
       "<IPython.core.display.HTML object>"
      ]
     },
     "metadata": {},
     "output_type": "display_data"
    },
    {
     "data": {
      "text/html": [
       "<span style=\"color:cyan\"> |-activation2_1: selu</span>"
      ],
      "text/plain": [
       "<IPython.core.display.HTML object>"
      ]
     },
     "metadata": {},
     "output_type": "display_data"
    },
    {
     "data": {
      "text/html": [
       "<span style=\"color:blue\"> |-activation2_2: selu</span>"
      ],
      "text/plain": [
       "<IPython.core.display.HTML object>"
      ]
     },
     "metadata": {},
     "output_type": "display_data"
    },
    {
     "data": {
      "text/html": [
       "<span style=\"color:cyan\"> |-activation2_3: selu</span>"
      ],
      "text/plain": [
       "<IPython.core.display.HTML object>"
      ]
     },
     "metadata": {},
     "output_type": "display_data"
    },
    {
     "data": {
      "text/html": [
       "<span style=\"color:blue\"> |-number_of_neurons2_0: 628</span>"
      ],
      "text/plain": [
       "<IPython.core.display.HTML object>"
      ]
     },
     "metadata": {},
     "output_type": "display_data"
    },
    {
     "data": {
      "text/html": [
       "<span style=\"color:cyan\"> |-number_of_neurons2_1: 981</span>"
      ],
      "text/plain": [
       "<IPython.core.display.HTML object>"
      ]
     },
     "metadata": {},
     "output_type": "display_data"
    },
    {
     "data": {
      "text/html": [
       "<span style=\"color:blue\"> |-number_of_neurons2_2: 1221</span>"
      ],
      "text/plain": [
       "<IPython.core.display.HTML object>"
      ]
     },
     "metadata": {},
     "output_type": "display_data"
    },
    {
     "data": {
      "text/html": [
       "<span style=\"color:cyan\"> |-number_of_neurons2_3: 1661</span>"
      ],
      "text/plain": [
       "<IPython.core.display.HTML object>"
      ]
     },
     "metadata": {},
     "output_type": "display_data"
    },
    {
     "name": "stdout",
     "output_type": "stream",
     "text": [
      "Epoch 1/150\n",
      "138/138 [==============================] - 18s 132ms/step - loss: 0.3313 - accuracy: 0.0247 - val_loss: 0.0346 - val_accuracy: 0.0437\n",
      "Epoch 2/150\n",
      "138/138 [==============================] - 19s 140ms/step - loss: 0.0269 - accuracy: 0.0443 - val_loss: 0.0220 - val_accuracy: 0.0296\n",
      "Epoch 3/150\n",
      "138/138 [==============================] - 18s 132ms/step - loss: 0.0222 - accuracy: 0.0540 - val_loss: 0.0204 - val_accuracy: 0.0529\n",
      "Epoch 4/150\n",
      "138/138 [==============================] - 18s 133ms/step - loss: 0.0203 - accuracy: 0.0776 - val_loss: 0.0191 - val_accuracy: 0.1214\n",
      "Epoch 5/150\n",
      "138/138 [==============================] - 19s 134ms/step - loss: 0.0193 - accuracy: 0.0974 - val_loss: 0.0184 - val_accuracy: 0.1283\n",
      "Epoch 6/150\n",
      "138/138 [==============================] - 19s 137ms/step - loss: 0.0187 - accuracy: 0.1093 - val_loss: 0.0179 - val_accuracy: 0.1009\n",
      "Epoch 7/150\n",
      "138/138 [==============================] - 23s 164ms/step - loss: 0.0181 - accuracy: 0.1201 - val_loss: 0.0176 - val_accuracy: 0.1178\n",
      "Epoch 8/150\n",
      "138/138 [==============================] - 24s 171ms/step - loss: 0.0176 - accuracy: 0.1267 - val_loss: 0.0174 - val_accuracy: 0.1144\n",
      "Epoch 9/150\n",
      "138/138 [==============================] - 22s 160ms/step - loss: 0.0171 - accuracy: 0.1327 - val_loss: 0.0173 - val_accuracy: 0.1203\n",
      "Epoch 10/150\n",
      "138/138 [==============================] - 23s 164ms/step - loss: 0.0167 - accuracy: 0.1449 - val_loss: 0.0173 - val_accuracy: 0.1198\n",
      "Epoch 11/150\n",
      "138/138 [==============================] - 23s 169ms/step - loss: 0.0163 - accuracy: 0.1533 - val_loss: 0.0172 - val_accuracy: 0.1235\n",
      "Epoch 12/150\n",
      "138/138 [==============================] - 22s 157ms/step - loss: 0.0156 - accuracy: 0.1672 - val_loss: 0.0172 - val_accuracy: 0.1267\n",
      "Epoch 13/150\n",
      "138/138 [==============================] - ETA: 0s - loss: 0.0150 - accuracy: 0.1793\n",
      "Epoch 00013: ReduceLROnPlateau reducing learning rate to 0.00010000000474974513.\n",
      "138/138 [==============================] - 22s 162ms/step - loss: 0.0150 - accuracy: 0.1793 - val_loss: 0.0174 - val_accuracy: 0.1324\n",
      "Epoch 14/150\n",
      "138/138 [==============================] - 20s 147ms/step - loss: 0.0136 - accuracy: 0.2152 - val_loss: 0.0172 - val_accuracy: 0.1321\n",
      "Epoch 15/150\n",
      "138/138 [==============================] - 18s 127ms/step - loss: 0.0131 - accuracy: 0.2237 - val_loss: 0.0173 - val_accuracy: 0.1337\n",
      "Epoch 16/150\n",
      "138/138 [==============================] - ETA: 0s - loss: 0.0126 - accuracy: 0.2366\n",
      "Epoch 00016: ReduceLROnPlateau reducing learning rate to 1.0000000474974514e-05.\n",
      "138/138 [==============================] - 18s 130ms/step - loss: 0.0126 - accuracy: 0.2366 - val_loss: 0.0174 - val_accuracy: 0.1319\n",
      "Epoch 17/150\n",
      "138/138 [==============================] - 18s 132ms/step - loss: 0.0124 - accuracy: 0.2455 - val_loss: 0.0175 - val_accuracy: 0.1340\n",
      "Epoch 18/150\n",
      "138/138 [==============================] - 18s 129ms/step - loss: 0.0122 - accuracy: 0.2475 - val_loss: 0.0175 - val_accuracy: 0.1331\n",
      "Epoch 19/150\n",
      "138/138 [==============================] - ETA: 0s - loss: 0.0122 - accuracy: 0.2468\n",
      "Epoch 00019: ReduceLROnPlateau reducing learning rate to 1.0000000656873453e-06.\n",
      "138/138 [==============================] - 18s 128ms/step - loss: 0.0122 - accuracy: 0.2468 - val_loss: 0.0175 - val_accuracy: 0.1331\n",
      "Epoch 20/150\n",
      "138/138 [==============================] - 18s 134ms/step - loss: 0.0122 - accuracy: 0.2492 - val_loss: 0.0175 - val_accuracy: 0.1324\n",
      "Epoch 21/150\n",
      "138/138 [==============================] - ETA: 0s - loss: 0.0122 - accuracy: 0.2477Restoring model weights from the end of the best epoch.\n",
      "138/138 [==============================] - 18s 129ms/step - loss: 0.0122 - accuracy: 0.2477 - val_loss: 0.0175 - val_accuracy: 0.1324\n",
      "Epoch 00021: early stopping\n"
     ]
    },
    {
     "data": {
      "text/html": [
       "<span style=\"color:#4527A0\"><h1 style=\"font-size:18px\">Trial complete</h1></span>"
      ],
      "text/plain": [
       "<IPython.core.display.HTML object>"
      ]
     },
     "metadata": {},
     "output_type": "display_data"
    },
    {
     "data": {
      "text/html": [
       "<span style=\"color:#4527A0\"><h1 style=\"font-size:18px\">Trial summary</h1></span>"
      ],
      "text/plain": [
       "<IPython.core.display.HTML object>"
      ]
     },
     "metadata": {},
     "output_type": "display_data"
    },
    {
     "data": {
      "text/html": [
       "<span style=\"color:cyan\"> |-Trial ID: 7f2425a89f2222365243277add45f553</span>"
      ],
      "text/plain": [
       "<IPython.core.display.HTML object>"
      ]
     },
     "metadata": {},
     "output_type": "display_data"
    },
    {
     "data": {
      "text/html": [
       "<span style=\"color:cyan\"> |-Score: 0.017191193997859955</span>"
      ],
      "text/plain": [
       "<IPython.core.display.HTML object>"
      ]
     },
     "metadata": {},
     "output_type": "display_data"
    },
    {
     "data": {
      "text/html": [
       "<span style=\"color:cyan\"> |-Best step: 0</span>"
      ],
      "text/plain": [
       "<IPython.core.display.HTML object>"
      ]
     },
     "metadata": {},
     "output_type": "display_data"
    },
    {
     "data": {
      "text/html": [
       "<span style=\"color:#7E57C2\"><h2 style=\"font-size:16px\">Hyperparameters:</h2></span>"
      ],
      "text/plain": [
       "<IPython.core.display.HTML object>"
      ]
     },
     "metadata": {},
     "output_type": "display_data"
    },
    {
     "data": {
      "text/html": [
       "<span style=\"color:cyan\"> |-Dropout_0: 0.13</span>"
      ],
      "text/plain": [
       "<IPython.core.display.HTML object>"
      ]
     },
     "metadata": {},
     "output_type": "display_data"
    },
    {
     "data": {
      "text/html": [
       "<span style=\"color:blue\"> |-Dropout_1: 0.41000000000000003</span>"
      ],
      "text/plain": [
       "<IPython.core.display.HTML object>"
      ]
     },
     "metadata": {},
     "output_type": "display_data"
    },
    {
     "data": {
      "text/html": [
       "<span style=\"color:cyan\"> |-Dropout_2: 0.31</span>"
      ],
      "text/plain": [
       "<IPython.core.display.HTML object>"
      ]
     },
     "metadata": {},
     "output_type": "display_data"
    },
    {
     "data": {
      "text/html": [
       "<span style=\"color:blue\"> |-Dropout_3: 0.34</span>"
      ],
      "text/plain": [
       "<IPython.core.display.HTML object>"
      ]
     },
     "metadata": {},
     "output_type": "display_data"
    },
    {
     "data": {
      "text/html": [
       "<span style=\"color:cyan\"> |-N_Layers: 4</span>"
      ],
      "text/plain": [
       "<IPython.core.display.HTML object>"
      ]
     },
     "metadata": {},
     "output_type": "display_data"
    },
    {
     "data": {
      "text/html": [
       "<span style=\"color:blue\"> |-activation2_0: swish</span>"
      ],
      "text/plain": [
       "<IPython.core.display.HTML object>"
      ]
     },
     "metadata": {},
     "output_type": "display_data"
    },
    {
     "data": {
      "text/html": [
       "<span style=\"color:cyan\"> |-activation2_1: elu</span>"
      ],
      "text/plain": [
       "<IPython.core.display.HTML object>"
      ]
     },
     "metadata": {},
     "output_type": "display_data"
    },
    {
     "data": {
      "text/html": [
       "<span style=\"color:blue\"> |-activation2_2: swish</span>"
      ],
      "text/plain": [
       "<IPython.core.display.HTML object>"
      ]
     },
     "metadata": {},
     "output_type": "display_data"
    },
    {
     "data": {
      "text/html": [
       "<span style=\"color:cyan\"> |-activation2_3: swish</span>"
      ],
      "text/plain": [
       "<IPython.core.display.HTML object>"
      ]
     },
     "metadata": {},
     "output_type": "display_data"
    },
    {
     "data": {
      "text/html": [
       "<span style=\"color:blue\"> |-number_of_neurons2_0: 1677</span>"
      ],
      "text/plain": [
       "<IPython.core.display.HTML object>"
      ]
     },
     "metadata": {},
     "output_type": "display_data"
    },
    {
     "data": {
      "text/html": [
       "<span style=\"color:cyan\"> |-number_of_neurons2_1: 2038</span>"
      ],
      "text/plain": [
       "<IPython.core.display.HTML object>"
      ]
     },
     "metadata": {},
     "output_type": "display_data"
    },
    {
     "data": {
      "text/html": [
       "<span style=\"color:blue\"> |-number_of_neurons2_2: 1832</span>"
      ],
      "text/plain": [
       "<IPython.core.display.HTML object>"
      ]
     },
     "metadata": {},
     "output_type": "display_data"
    },
    {
     "data": {
      "text/html": [
       "<span style=\"color:cyan\"> |-number_of_neurons2_3: 608</span>"
      ],
      "text/plain": [
       "<IPython.core.display.HTML object>"
      ]
     },
     "metadata": {},
     "output_type": "display_data"
    },
    {
     "name": "stdout",
     "output_type": "stream",
     "text": [
      "SEED:58 Fold:0\n",
      "Epoch 1/150\n",
      "138/138 [==============================] - 11s 77ms/step - loss: 0.2987 - accuracy: 0.0401 - val_loss: 0.0273 - val_accuracy: 0.0547\n",
      "Epoch 2/150\n",
      "138/138 [==============================] - 9s 67ms/step - loss: 0.0226 - accuracy: 0.0923 - val_loss: 0.0201 - val_accuracy: 0.1178\n",
      "Epoch 3/150\n",
      "138/138 [==============================] - 10s 74ms/step - loss: 0.0184 - accuracy: 0.1290 - val_loss: 0.0187 - val_accuracy: 0.1155\n",
      "Epoch 4/150\n",
      "138/138 [==============================] - 9s 69ms/step - loss: 0.0169 - accuracy: 0.1492 - val_loss: 0.0173 - val_accuracy: 0.1346\n",
      "Epoch 5/150\n",
      "138/138 [==============================] - 9s 66ms/step - loss: 0.0156 - accuracy: 0.1820 - val_loss: 0.0171 - val_accuracy: 0.1328\n",
      "Epoch 6/150\n",
      "138/138 [==============================] - 10s 72ms/step - loss: 0.0143 - accuracy: 0.2153 - val_loss: 0.0177 - val_accuracy: 0.1469\n",
      "Epoch 7/150\n",
      "138/138 [==============================] - 9s 66ms/step - loss: 0.0130 - accuracy: 0.2555 - val_loss: 0.0174 - val_accuracy: 0.1624\n",
      "Epoch 8/150\n",
      "137/138 [============================>.] - ETA: 0s - loss: 0.0115 - accuracy: 0.3000\n",
      "Epoch 00008: ReduceLROnPlateau reducing learning rate to 0.00010000000474974513.\n",
      "138/138 [==============================] - 9s 66ms/step - loss: 0.0115 - accuracy: 0.2999 - val_loss: 0.0178 - val_accuracy: 0.1442\n",
      "Epoch 9/150\n",
      "138/138 [==============================] - 9s 69ms/step - loss: 0.0082 - accuracy: 0.4189 - val_loss: 0.0171 - val_accuracy: 0.1501\n",
      "Epoch 10/150\n",
      "138/138 [==============================] - 10s 71ms/step - loss: 0.0070 - accuracy: 0.4582 - val_loss: 0.0172 - val_accuracy: 0.1549\n",
      "Epoch 11/150\n",
      "137/138 [============================>.] - ETA: 0s - loss: 0.0063 - accuracy: 0.4916\n",
      "Epoch 00011: ReduceLROnPlateau reducing learning rate to 1.0000000474974514e-05.\n",
      "138/138 [==============================] - 9s 66ms/step - loss: 0.0063 - accuracy: 0.4916 - val_loss: 0.0174 - val_accuracy: 0.1608\n",
      "Epoch 12/150\n",
      "138/138 [==============================] - 9s 66ms/step - loss: 0.0057 - accuracy: 0.5179 - val_loss: 0.0175 - val_accuracy: 0.1590\n",
      "Epoch 13/150\n",
      "138/138 [==============================] - 9s 69ms/step - loss: 0.0056 - accuracy: 0.5181 - val_loss: 0.0176 - val_accuracy: 0.1590\n",
      "Epoch 14/150\n",
      "137/138 [============================>.] - ETA: 0s - loss: 0.0055 - accuracy: 0.5194\n",
      "Epoch 00014: ReduceLROnPlateau reducing learning rate to 1.0000000656873453e-06.\n",
      "138/138 [==============================] - 9s 67ms/step - loss: 0.0055 - accuracy: 0.5194 - val_loss: 0.0176 - val_accuracy: 0.1590\n",
      "Epoch 15/150\n",
      "138/138 [==============================] - 9s 66ms/step - loss: 0.0055 - accuracy: 0.5224 - val_loss: 0.0176 - val_accuracy: 0.1592\n",
      "Epoch 16/150\n",
      "138/138 [==============================] - 10s 73ms/step - loss: 0.0055 - accuracy: 0.5221 - val_loss: 0.0176 - val_accuracy: 0.1588\n",
      "Epoch 17/150\n",
      "137/138 [============================>.] - ETA: 0s - loss: 0.0054 - accuracy: 0.5243\n",
      "Epoch 00017: ReduceLROnPlateau reducing learning rate to 1.0000001111620805e-07.\n",
      "138/138 [==============================] - 9s 67ms/step - loss: 0.0054 - accuracy: 0.5242 - val_loss: 0.0176 - val_accuracy: 0.1585\n",
      "Epoch 18/150\n",
      "138/138 [==============================] - 9s 68ms/step - loss: 0.0054 - accuracy: 0.5239 - val_loss: 0.0176 - val_accuracy: 0.1588\n",
      "Epoch 19/150\n",
      "137/138 [============================>.] - ETA: 0s - loss: 0.0054 - accuracy: 0.5217Restoring model weights from the end of the best epoch.\n",
      "138/138 [==============================] - 10s 70ms/step - loss: 0.0055 - accuracy: 0.5218 - val_loss: 0.0176 - val_accuracy: 0.1590\n",
      "Epoch 00019: early stopping\n"
     ]
    },
    {
     "data": {
      "text/html": [
       "<span style=\"color:#4527A0\"><h1 style=\"font-size:18px\">Trial complete</h1></span>"
      ],
      "text/plain": [
       "<IPython.core.display.HTML object>"
      ]
     },
     "metadata": {},
     "output_type": "display_data"
    },
    {
     "data": {
      "text/html": [
       "<span style=\"color:#4527A0\"><h1 style=\"font-size:18px\">Trial summary</h1></span>"
      ],
      "text/plain": [
       "<IPython.core.display.HTML object>"
      ]
     },
     "metadata": {},
     "output_type": "display_data"
    },
    {
     "data": {
      "text/html": [
       "<span style=\"color:cyan\"> |-Trial ID: a7381aa303f8a5740f7e543660e6cad7</span>"
      ],
      "text/plain": [
       "<IPython.core.display.HTML object>"
      ]
     },
     "metadata": {},
     "output_type": "display_data"
    },
    {
     "data": {
      "text/html": [
       "<span style=\"color:cyan\"> |-Score: 0.017053836956620216</span>"
      ],
      "text/plain": [
       "<IPython.core.display.HTML object>"
      ]
     },
     "metadata": {},
     "output_type": "display_data"
    },
    {
     "data": {
      "text/html": [
       "<span style=\"color:cyan\"> |-Best step: 0</span>"
      ],
      "text/plain": [
       "<IPython.core.display.HTML object>"
      ]
     },
     "metadata": {},
     "output_type": "display_data"
    },
    {
     "data": {
      "text/html": [
       "<span style=\"color:#7E57C2\"><h2 style=\"font-size:16px\">Hyperparameters:</h2></span>"
      ],
      "text/plain": [
       "<IPython.core.display.HTML object>"
      ]
     },
     "metadata": {},
     "output_type": "display_data"
    },
    {
     "data": {
      "text/html": [
       "<span style=\"color:cyan\"> |-Dropout_0: 0.12</span>"
      ],
      "text/plain": [
       "<IPython.core.display.HTML object>"
      ]
     },
     "metadata": {},
     "output_type": "display_data"
    },
    {
     "data": {
      "text/html": [
       "<span style=\"color:blue\"> |-Dropout_1: 0.22</span>"
      ],
      "text/plain": [
       "<IPython.core.display.HTML object>"
      ]
     },
     "metadata": {},
     "output_type": "display_data"
    },
    {
     "data": {
      "text/html": [
       "<span style=\"color:cyan\"> |-Dropout_2: 0.0</span>"
      ],
      "text/plain": [
       "<IPython.core.display.HTML object>"
      ]
     },
     "metadata": {},
     "output_type": "display_data"
    },
    {
     "data": {
      "text/html": [
       "<span style=\"color:blue\"> |-N_Layers: 3</span>"
      ],
      "text/plain": [
       "<IPython.core.display.HTML object>"
      ]
     },
     "metadata": {},
     "output_type": "display_data"
    },
    {
     "data": {
      "text/html": [
       "<span style=\"color:cyan\"> |-activation2_0: selu</span>"
      ],
      "text/plain": [
       "<IPython.core.display.HTML object>"
      ]
     },
     "metadata": {},
     "output_type": "display_data"
    },
    {
     "data": {
      "text/html": [
       "<span style=\"color:blue\"> |-activation2_1: swish</span>"
      ],
      "text/plain": [
       "<IPython.core.display.HTML object>"
      ]
     },
     "metadata": {},
     "output_type": "display_data"
    },
    {
     "data": {
      "text/html": [
       "<span style=\"color:cyan\"> |-activation2_2: elu</span>"
      ],
      "text/plain": [
       "<IPython.core.display.HTML object>"
      ]
     },
     "metadata": {},
     "output_type": "display_data"
    },
    {
     "data": {
      "text/html": [
       "<span style=\"color:blue\"> |-number_of_neurons2_0: 1861</span>"
      ],
      "text/plain": [
       "<IPython.core.display.HTML object>"
      ]
     },
     "metadata": {},
     "output_type": "display_data"
    },
    {
     "data": {
      "text/html": [
       "<span style=\"color:cyan\"> |-number_of_neurons2_1: 1063</span>"
      ],
      "text/plain": [
       "<IPython.core.display.HTML object>"
      ]
     },
     "metadata": {},
     "output_type": "display_data"
    },
    {
     "data": {
      "text/html": [
       "<span style=\"color:blue\"> |-number_of_neurons2_2: 512</span>"
      ],
      "text/plain": [
       "<IPython.core.display.HTML object>"
      ]
     },
     "metadata": {},
     "output_type": "display_data"
    },
    {
     "name": "stdout",
     "output_type": "stream",
     "text": [
      "Epoch 1/150\n",
      "138/138 [==============================] - 9s 67ms/step - loss: 0.2750 - accuracy: 0.0339 - val_loss: 0.0222 - val_accuracy: 0.0651\n",
      "Epoch 2/150\n",
      "138/138 [==============================] - 9s 64ms/step - loss: 0.0237 - accuracy: 0.0830 - val_loss: 0.0196 - val_accuracy: 0.1164\n",
      "Epoch 3/150\n",
      "138/138 [==============================] - 9s 66ms/step - loss: 0.0209 - accuracy: 0.1040 - val_loss: 0.0186 - val_accuracy: 0.1335\n",
      "Epoch 4/150\n",
      "138/138 [==============================] - 9s 67ms/step - loss: 0.0196 - accuracy: 0.1216 - val_loss: 0.0180 - val_accuracy: 0.1162\n",
      "Epoch 5/150\n",
      "138/138 [==============================] - 9s 63ms/step - loss: 0.0187 - accuracy: 0.1325 - val_loss: 0.0179 - val_accuracy: 0.1228\n",
      "Epoch 6/150\n",
      "138/138 [==============================] - 9s 63ms/step - loss: 0.0178 - accuracy: 0.1490 - val_loss: 0.0174 - val_accuracy: 0.1251\n",
      "Epoch 7/150\n",
      "138/138 [==============================] - 9s 64ms/step - loss: 0.0170 - accuracy: 0.1598 - val_loss: 0.0172 - val_accuracy: 0.1287\n",
      "Epoch 8/150\n",
      "138/138 [==============================] - 9s 65ms/step - loss: 0.0163 - accuracy: 0.1701 - val_loss: 0.0171 - val_accuracy: 0.1317\n",
      "Epoch 9/150\n",
      "138/138 [==============================] - 9s 63ms/step - loss: 0.0156 - accuracy: 0.1838 - val_loss: 0.0170 - val_accuracy: 0.1376\n",
      "Epoch 10/150\n",
      "138/138 [==============================] - 9s 66ms/step - loss: 0.0150 - accuracy: 0.1980 - val_loss: 0.0171 - val_accuracy: 0.1437\n",
      "Epoch 11/150\n",
      "137/138 [============================>.] - ETA: 0s - loss: 0.0143 - accuracy: 0.2150\n",
      "Epoch 00011: ReduceLROnPlateau reducing learning rate to 0.00010000000474974513.\n",
      "138/138 [==============================] - 9s 65ms/step - loss: 0.0143 - accuracy: 0.2148 - val_loss: 0.0170 - val_accuracy: 0.1444\n",
      "Epoch 12/150\n",
      "138/138 [==============================] - 9s 63ms/step - loss: 0.0127 - accuracy: 0.2459 - val_loss: 0.0168 - val_accuracy: 0.1465\n",
      "Epoch 13/150\n",
      "138/138 [==============================] - 9s 63ms/step - loss: 0.0124 - accuracy: 0.2597 - val_loss: 0.0168 - val_accuracy: 0.1474\n",
      "Epoch 14/150\n",
      "138/138 [==============================] - 9s 62ms/step - loss: 0.0122 - accuracy: 0.2675 - val_loss: 0.0168 - val_accuracy: 0.1460\n",
      "Epoch 15/150\n",
      "137/138 [============================>.] - ETA: 0s - loss: 0.0119 - accuracy: 0.2718\n",
      "Epoch 00015: ReduceLROnPlateau reducing learning rate to 1.0000000474974514e-05.\n",
      "138/138 [==============================] - 9s 64ms/step - loss: 0.0120 - accuracy: 0.2716 - val_loss: 0.0169 - val_accuracy: 0.1458\n",
      "Epoch 16/150\n",
      "138/138 [==============================] - 9s 62ms/step - loss: 0.0117 - accuracy: 0.2811 - val_loss: 0.0169 - val_accuracy: 0.1465\n",
      "Epoch 17/150\n",
      "138/138 [==============================] - 9s 67ms/step - loss: 0.0117 - accuracy: 0.2848 - val_loss: 0.0169 - val_accuracy: 0.1460\n",
      "Epoch 18/150\n",
      "137/138 [============================>.] - ETA: 0s - loss: 0.0116 - accuracy: 0.2848\n",
      "Epoch 00018: ReduceLROnPlateau reducing learning rate to 1.0000000656873453e-06.\n",
      "138/138 [==============================] - 9s 62ms/step - loss: 0.0116 - accuracy: 0.2847 - val_loss: 0.0169 - val_accuracy: 0.1462\n",
      "Epoch 19/150\n",
      "138/138 [==============================] - 9s 64ms/step - loss: 0.0117 - accuracy: 0.2835 - val_loss: 0.0169 - val_accuracy: 0.1465\n",
      "Epoch 20/150\n",
      "138/138 [==============================] - 9s 62ms/step - loss: 0.0116 - accuracy: 0.2844 - val_loss: 0.0169 - val_accuracy: 0.1460\n",
      "Epoch 21/150\n",
      "137/138 [============================>.] - ETA: 0s - loss: 0.0117 - accuracy: 0.2852\n",
      "Epoch 00021: ReduceLROnPlateau reducing learning rate to 1.0000001111620805e-07.\n",
      "138/138 [==============================] - 8s 61ms/step - loss: 0.0117 - accuracy: 0.2852 - val_loss: 0.0169 - val_accuracy: 0.1462\n",
      "Epoch 22/150\n",
      "138/138 [==============================] - 9s 62ms/step - loss: 0.0116 - accuracy: 0.2838 - val_loss: 0.0169 - val_accuracy: 0.1462\n",
      "Epoch 23/150\n",
      "137/138 [============================>.] - ETA: 0s - loss: 0.0116 - accuracy: 0.2843Restoring model weights from the end of the best epoch.\n",
      "138/138 [==============================] - 9s 65ms/step - loss: 0.0116 - accuracy: 0.2844 - val_loss: 0.0169 - val_accuracy: 0.1462\n",
      "Epoch 00023: early stopping\n"
     ]
    },
    {
     "data": {
      "text/html": [
       "<span style=\"color:#4527A0\"><h1 style=\"font-size:18px\">Trial complete</h1></span>"
      ],
      "text/plain": [
       "<IPython.core.display.HTML object>"
      ]
     },
     "metadata": {},
     "output_type": "display_data"
    },
    {
     "data": {
      "text/html": [
       "<span style=\"color:#4527A0\"><h1 style=\"font-size:18px\">Trial summary</h1></span>"
      ],
      "text/plain": [
       "<IPython.core.display.HTML object>"
      ]
     },
     "metadata": {},
     "output_type": "display_data"
    },
    {
     "data": {
      "text/html": [
       "<span style=\"color:cyan\"> |-Trial ID: 7bd2fb4529983b41fe6f0e0c52f9e6b1</span>"
      ],
      "text/plain": [
       "<IPython.core.display.HTML object>"
      ]
     },
     "metadata": {},
     "output_type": "display_data"
    },
    {
     "data": {
      "text/html": [
       "<span style=\"color:cyan\"> |-Score: 0.0168040469288826</span>"
      ],
      "text/plain": [
       "<IPython.core.display.HTML object>"
      ]
     },
     "metadata": {},
     "output_type": "display_data"
    },
    {
     "data": {
      "text/html": [
       "<span style=\"color:cyan\"> |-Best step: 0</span>"
      ],
      "text/plain": [
       "<IPython.core.display.HTML object>"
      ]
     },
     "metadata": {},
     "output_type": "display_data"
    },
    {
     "data": {
      "text/html": [
       "<span style=\"color:#7E57C2\"><h2 style=\"font-size:16px\">Hyperparameters:</h2></span>"
      ],
      "text/plain": [
       "<IPython.core.display.HTML object>"
      ]
     },
     "metadata": {},
     "output_type": "display_data"
    },
    {
     "data": {
      "text/html": [
       "<span style=\"color:cyan\"> |-Dropout_0: 0.17</span>"
      ],
      "text/plain": [
       "<IPython.core.display.HTML object>"
      ]
     },
     "metadata": {},
     "output_type": "display_data"
    },
    {
     "data": {
      "text/html": [
       "<span style=\"color:blue\"> |-Dropout_1: 0.7000000000000001</span>"
      ],
      "text/plain": [
       "<IPython.core.display.HTML object>"
      ]
     },
     "metadata": {},
     "output_type": "display_data"
    },
    {
     "data": {
      "text/html": [
       "<span style=\"color:cyan\"> |-Dropout_2: 0.58</span>"
      ],
      "text/plain": [
       "<IPython.core.display.HTML object>"
      ]
     },
     "metadata": {},
     "output_type": "display_data"
    },
    {
     "data": {
      "text/html": [
       "<span style=\"color:blue\"> |-N_Layers: 2</span>"
      ],
      "text/plain": [
       "<IPython.core.display.HTML object>"
      ]
     },
     "metadata": {},
     "output_type": "display_data"
    },
    {
     "data": {
      "text/html": [
       "<span style=\"color:cyan\"> |-activation2_0: selu</span>"
      ],
      "text/plain": [
       "<IPython.core.display.HTML object>"
      ]
     },
     "metadata": {},
     "output_type": "display_data"
    },
    {
     "data": {
      "text/html": [
       "<span style=\"color:blue\"> |-activation2_1: selu</span>"
      ],
      "text/plain": [
       "<IPython.core.display.HTML object>"
      ]
     },
     "metadata": {},
     "output_type": "display_data"
    },
    {
     "data": {
      "text/html": [
       "<span style=\"color:cyan\"> |-activation2_2: elu</span>"
      ],
      "text/plain": [
       "<IPython.core.display.HTML object>"
      ]
     },
     "metadata": {},
     "output_type": "display_data"
    },
    {
     "data": {
      "text/html": [
       "<span style=\"color:blue\"> |-number_of_neurons2_0: 1511</span>"
      ],
      "text/plain": [
       "<IPython.core.display.HTML object>"
      ]
     },
     "metadata": {},
     "output_type": "display_data"
    },
    {
     "data": {
      "text/html": [
       "<span style=\"color:cyan\"> |-number_of_neurons2_1: 1626</span>"
      ],
      "text/plain": [
       "<IPython.core.display.HTML object>"
      ]
     },
     "metadata": {},
     "output_type": "display_data"
    },
    {
     "data": {
      "text/html": [
       "<span style=\"color:blue\"> |-number_of_neurons2_2: 1838</span>"
      ],
      "text/plain": [
       "<IPython.core.display.HTML object>"
      ]
     },
     "metadata": {},
     "output_type": "display_data"
    },
    {
     "name": "stdout",
     "output_type": "stream",
     "text": [
      "Epoch 1/150\n",
      "138/138 [==============================] - 13s 94ms/step - loss: 0.2938 - accuracy: 0.0282 - val_loss: 0.0288 - val_accuracy: 0.0626\n",
      "Epoch 2/150\n",
      "138/138 [==============================] - 13s 92ms/step - loss: 0.0231 - accuracy: 0.0573 - val_loss: 0.0210 - val_accuracy: 0.0863\n",
      "Epoch 3/150\n",
      "138/138 [==============================] - 12s 89ms/step - loss: 0.0193 - accuracy: 0.1035 - val_loss: 0.0186 - val_accuracy: 0.1007\n",
      "Epoch 4/150\n",
      "138/138 [==============================] - 12s 89ms/step - loss: 0.0181 - accuracy: 0.1197 - val_loss: 0.0179 - val_accuracy: 0.1134\n",
      "Epoch 5/150\n",
      "138/138 [==============================] - 13s 96ms/step - loss: 0.0173 - accuracy: 0.1297 - val_loss: 0.0174 - val_accuracy: 0.1226\n",
      "Epoch 6/150\n",
      "138/138 [==============================] - 12s 88ms/step - loss: 0.0167 - accuracy: 0.1400 - val_loss: 0.0176 - val_accuracy: 0.1271\n",
      "Epoch 7/150\n",
      "138/138 [==============================] - 12s 90ms/step - loss: 0.0161 - accuracy: 0.1570 - val_loss: 0.0174 - val_accuracy: 0.1312\n",
      "Epoch 8/150\n",
      "138/138 [==============================] - 13s 94ms/step - loss: 0.0157 - accuracy: 0.1587 - val_loss: 0.0171 - val_accuracy: 0.1636\n",
      "Epoch 9/150\n",
      "138/138 [==============================] - 12s 88ms/step - loss: 0.0152 - accuracy: 0.1746 - val_loss: 0.0173 - val_accuracy: 0.1394\n",
      "Epoch 10/150\n",
      "138/138 [==============================] - 13s 94ms/step - loss: 0.0146 - accuracy: 0.1885 - val_loss: 0.0172 - val_accuracy: 0.1442\n",
      "Epoch 11/150\n",
      "137/138 [============================>.] - ETA: 0s - loss: 0.0141 - accuracy: 0.1941\n",
      "Epoch 00011: ReduceLROnPlateau reducing learning rate to 0.00010000000474974513.\n",
      "138/138 [==============================] - 12s 88ms/step - loss: 0.0141 - accuracy: 0.1941 - val_loss: 0.0174 - val_accuracy: 0.1476\n",
      "Epoch 12/150\n",
      "138/138 [==============================] - 12s 89ms/step - loss: 0.0125 - accuracy: 0.2357 - val_loss: 0.0166 - val_accuracy: 0.1485\n",
      "Epoch 13/150\n",
      "138/138 [==============================] - 12s 89ms/step - loss: 0.0121 - accuracy: 0.2431 - val_loss: 0.0166 - val_accuracy: 0.1460\n",
      "Epoch 14/150\n",
      "138/138 [==============================] - 12s 89ms/step - loss: 0.0118 - accuracy: 0.2504 - val_loss: 0.0167 - val_accuracy: 0.1451\n",
      "Epoch 15/150\n",
      "137/138 [============================>.] - ETA: 0s - loss: 0.0115 - accuracy: 0.2595\n",
      "Epoch 00015: ReduceLROnPlateau reducing learning rate to 1.0000000474974514e-05.\n",
      "138/138 [==============================] - 13s 93ms/step - loss: 0.0115 - accuracy: 0.2594 - val_loss: 0.0167 - val_accuracy: 0.1451\n",
      "Epoch 16/150\n",
      "138/138 [==============================] - 12s 88ms/step - loss: 0.0112 - accuracy: 0.2724 - val_loss: 0.0168 - val_accuracy: 0.1453\n",
      "Epoch 17/150\n",
      "138/138 [==============================] - 12s 87ms/step - loss: 0.0112 - accuracy: 0.2718 - val_loss: 0.0168 - val_accuracy: 0.1465\n",
      "Epoch 18/150\n",
      "137/138 [============================>.] - ETA: 0s - loss: 0.0111 - accuracy: 0.2728\n",
      "Epoch 00018: ReduceLROnPlateau reducing learning rate to 1.0000000656873453e-06.\n",
      "138/138 [==============================] - 12s 90ms/step - loss: 0.0111 - accuracy: 0.2728 - val_loss: 0.0168 - val_accuracy: 0.1465\n",
      "Epoch 19/150\n",
      "138/138 [==============================] - 12s 90ms/step - loss: 0.0111 - accuracy: 0.2751 - val_loss: 0.0168 - val_accuracy: 0.1453\n",
      "Epoch 20/150\n",
      "138/138 [==============================] - 13s 94ms/step - loss: 0.0111 - accuracy: 0.2709 - val_loss: 0.0168 - val_accuracy: 0.1458\n",
      "Epoch 21/150\n",
      "137/138 [============================>.] - ETA: 0s - loss: 0.0111 - accuracy: 0.2743\n",
      "Epoch 00021: ReduceLROnPlateau reducing learning rate to 1.0000001111620805e-07.\n",
      "138/138 [==============================] - 12s 90ms/step - loss: 0.0111 - accuracy: 0.2742 - val_loss: 0.0168 - val_accuracy: 0.1456\n",
      "Epoch 22/150\n",
      "137/138 [============================>.] - ETA: 0s - loss: 0.0111 - accuracy: 0.2740Restoring model weights from the end of the best epoch.\n",
      "138/138 [==============================] - 12s 89ms/step - loss: 0.0111 - accuracy: 0.2741 - val_loss: 0.0168 - val_accuracy: 0.1453\n",
      "Epoch 00022: early stopping\n"
     ]
    },
    {
     "data": {
      "text/html": [
       "<span style=\"color:#4527A0\"><h1 style=\"font-size:18px\">Trial complete</h1></span>"
      ],
      "text/plain": [
       "<IPython.core.display.HTML object>"
      ]
     },
     "metadata": {},
     "output_type": "display_data"
    },
    {
     "data": {
      "text/html": [
       "<span style=\"color:#4527A0\"><h1 style=\"font-size:18px\">Trial summary</h1></span>"
      ],
      "text/plain": [
       "<IPython.core.display.HTML object>"
      ]
     },
     "metadata": {},
     "output_type": "display_data"
    },
    {
     "data": {
      "text/html": [
       "<span style=\"color:cyan\"> |-Trial ID: 15201d861ef6b6c9c54c5c38c9c6e73e</span>"
      ],
      "text/plain": [
       "<IPython.core.display.HTML object>"
      ]
     },
     "metadata": {},
     "output_type": "display_data"
    },
    {
     "data": {
      "text/html": [
       "<span style=\"color:cyan\"> |-Score: 0.01658019796013832</span>"
      ],
      "text/plain": [
       "<IPython.core.display.HTML object>"
      ]
     },
     "metadata": {},
     "output_type": "display_data"
    },
    {
     "data": {
      "text/html": [
       "<span style=\"color:cyan\"> |-Best step: 0</span>"
      ],
      "text/plain": [
       "<IPython.core.display.HTML object>"
      ]
     },
     "metadata": {},
     "output_type": "display_data"
    },
    {
     "data": {
      "text/html": [
       "<span style=\"color:#7E57C2\"><h2 style=\"font-size:16px\">Hyperparameters:</h2></span>"
      ],
      "text/plain": [
       "<IPython.core.display.HTML object>"
      ]
     },
     "metadata": {},
     "output_type": "display_data"
    },
    {
     "data": {
      "text/html": [
       "<span style=\"color:cyan\"> |-Dropout_0: 0.5700000000000001</span>"
      ],
      "text/plain": [
       "<IPython.core.display.HTML object>"
      ]
     },
     "metadata": {},
     "output_type": "display_data"
    },
    {
     "data": {
      "text/html": [
       "<span style=\"color:blue\"> |-Dropout_1: 0.13</span>"
      ],
      "text/plain": [
       "<IPython.core.display.HTML object>"
      ]
     },
     "metadata": {},
     "output_type": "display_data"
    },
    {
     "data": {
      "text/html": [
       "<span style=\"color:cyan\"> |-Dropout_2: 0.37</span>"
      ],
      "text/plain": [
       "<IPython.core.display.HTML object>"
      ]
     },
     "metadata": {},
     "output_type": "display_data"
    },
    {
     "data": {
      "text/html": [
       "<span style=\"color:blue\"> |-Dropout_3: 0.0</span>"
      ],
      "text/plain": [
       "<IPython.core.display.HTML object>"
      ]
     },
     "metadata": {},
     "output_type": "display_data"
    },
    {
     "data": {
      "text/html": [
       "<span style=\"color:cyan\"> |-Dropout_4: 0.0</span>"
      ],
      "text/plain": [
       "<IPython.core.display.HTML object>"
      ]
     },
     "metadata": {},
     "output_type": "display_data"
    },
    {
     "data": {
      "text/html": [
       "<span style=\"color:blue\"> |-Dropout_5: 0.0</span>"
      ],
      "text/plain": [
       "<IPython.core.display.HTML object>"
      ]
     },
     "metadata": {},
     "output_type": "display_data"
    },
    {
     "data": {
      "text/html": [
       "<span style=\"color:cyan\"> |-N_Layers: 6</span>"
      ],
      "text/plain": [
       "<IPython.core.display.HTML object>"
      ]
     },
     "metadata": {},
     "output_type": "display_data"
    },
    {
     "data": {
      "text/html": [
       "<span style=\"color:blue\"> |-activation2_0: elu</span>"
      ],
      "text/plain": [
       "<IPython.core.display.HTML object>"
      ]
     },
     "metadata": {},
     "output_type": "display_data"
    },
    {
     "data": {
      "text/html": [
       "<span style=\"color:cyan\"> |-activation2_1: swish</span>"
      ],
      "text/plain": [
       "<IPython.core.display.HTML object>"
      ]
     },
     "metadata": {},
     "output_type": "display_data"
    },
    {
     "data": {
      "text/html": [
       "<span style=\"color:blue\"> |-activation2_2: selu</span>"
      ],
      "text/plain": [
       "<IPython.core.display.HTML object>"
      ]
     },
     "metadata": {},
     "output_type": "display_data"
    },
    {
     "data": {
      "text/html": [
       "<span style=\"color:cyan\"> |-activation2_3: elu</span>"
      ],
      "text/plain": [
       "<IPython.core.display.HTML object>"
      ]
     },
     "metadata": {},
     "output_type": "display_data"
    },
    {
     "data": {
      "text/html": [
       "<span style=\"color:blue\"> |-activation2_4: elu</span>"
      ],
      "text/plain": [
       "<IPython.core.display.HTML object>"
      ]
     },
     "metadata": {},
     "output_type": "display_data"
    },
    {
     "data": {
      "text/html": [
       "<span style=\"color:cyan\"> |-activation2_5: elu</span>"
      ],
      "text/plain": [
       "<IPython.core.display.HTML object>"
      ]
     },
     "metadata": {},
     "output_type": "display_data"
    },
    {
     "data": {
      "text/html": [
       "<span style=\"color:blue\"> |-number_of_neurons2_0: 1911</span>"
      ],
      "text/plain": [
       "<IPython.core.display.HTML object>"
      ]
     },
     "metadata": {},
     "output_type": "display_data"
    },
    {
     "data": {
      "text/html": [
       "<span style=\"color:cyan\"> |-number_of_neurons2_1: 1251</span>"
      ],
      "text/plain": [
       "<IPython.core.display.HTML object>"
      ]
     },
     "metadata": {},
     "output_type": "display_data"
    },
    {
     "data": {
      "text/html": [
       "<span style=\"color:blue\"> |-number_of_neurons2_2: 625</span>"
      ],
      "text/plain": [
       "<IPython.core.display.HTML object>"
      ]
     },
     "metadata": {},
     "output_type": "display_data"
    },
    {
     "data": {
      "text/html": [
       "<span style=\"color:cyan\"> |-number_of_neurons2_3: 512</span>"
      ],
      "text/plain": [
       "<IPython.core.display.HTML object>"
      ]
     },
     "metadata": {},
     "output_type": "display_data"
    },
    {
     "data": {
      "text/html": [
       "<span style=\"color:blue\"> |-number_of_neurons2_4: 512</span>"
      ],
      "text/plain": [
       "<IPython.core.display.HTML object>"
      ]
     },
     "metadata": {},
     "output_type": "display_data"
    },
    {
     "data": {
      "text/html": [
       "<span style=\"color:cyan\"> |-number_of_neurons2_5: 512</span>"
      ],
      "text/plain": [
       "<IPython.core.display.HTML object>"
      ]
     },
     "metadata": {},
     "output_type": "display_data"
    },
    {
     "name": "stdout",
     "output_type": "stream",
     "text": [
      "Epoch 1/150\n",
      "138/138 [==============================] - 11s 83ms/step - loss: 0.2789 - accuracy: 0.0380 - val_loss: 0.0248 - val_accuracy: 0.0836\n",
      "Epoch 2/150\n",
      "138/138 [==============================] - 12s 85ms/step - loss: 0.0232 - accuracy: 0.0745 - val_loss: 0.0199 - val_accuracy: 0.1128\n",
      "Epoch 3/150\n",
      "138/138 [==============================] - 11s 80ms/step - loss: 0.0202 - accuracy: 0.1037 - val_loss: 0.0192 - val_accuracy: 0.1032\n",
      "Epoch 4/150\n",
      "138/138 [==============================] - 11s 82ms/step - loss: 0.0190 - accuracy: 0.1170 - val_loss: 0.0180 - val_accuracy: 0.1408\n",
      "Epoch 5/150\n",
      "138/138 [==============================] - 11s 80ms/step - loss: 0.0179 - accuracy: 0.1321 - val_loss: 0.0175 - val_accuracy: 0.1237\n",
      "Epoch 6/150\n",
      "138/138 [==============================] - 11s 80ms/step - loss: 0.0171 - accuracy: 0.1438 - val_loss: 0.0172 - val_accuracy: 0.1212\n",
      "Epoch 7/150\n",
      "138/138 [==============================] - 12s 85ms/step - loss: 0.0161 - accuracy: 0.1676 - val_loss: 0.0171 - val_accuracy: 0.1308\n",
      "Epoch 8/150\n",
      "138/138 [==============================] - 11s 81ms/step - loss: 0.0155 - accuracy: 0.1828 - val_loss: 0.0169 - val_accuracy: 0.1360\n",
      "Epoch 9/150\n",
      "138/138 [==============================] - 11s 79ms/step - loss: 0.0144 - accuracy: 0.2081 - val_loss: 0.0171 - val_accuracy: 0.1415\n",
      "Epoch 10/150\n",
      "138/138 [==============================] - 11s 81ms/step - loss: 0.0138 - accuracy: 0.2348 - val_loss: 0.0175 - val_accuracy: 0.1364\n",
      "Epoch 11/150\n",
      "137/138 [============================>.] - ETA: 0s - loss: 0.0119 - accuracy: 0.2867\n",
      "Epoch 00011: ReduceLROnPlateau reducing learning rate to 0.00010000000474974513.\n",
      "138/138 [==============================] - 11s 80ms/step - loss: 0.0119 - accuracy: 0.2866 - val_loss: 0.0177 - val_accuracy: 0.1417\n",
      "Epoch 12/150\n",
      "138/138 [==============================] - 11s 82ms/step - loss: 0.0090 - accuracy: 0.3843 - val_loss: 0.0175 - val_accuracy: 0.1396\n",
      "Epoch 13/150\n",
      "138/138 [==============================] - 14s 102ms/step - loss: 0.0080 - accuracy: 0.4186 - val_loss: 0.0177 - val_accuracy: 0.1394\n",
      "Epoch 14/150\n",
      "137/138 [============================>.] - ETA: 0s - loss: 0.0074 - accuracy: 0.4441\n",
      "Epoch 00014: ReduceLROnPlateau reducing learning rate to 1.0000000474974514e-05.\n",
      "138/138 [==============================] - 13s 95ms/step - loss: 0.0074 - accuracy: 0.4441 - val_loss: 0.0180 - val_accuracy: 0.1394\n",
      "Epoch 15/150\n",
      "138/138 [==============================] - 14s 98ms/step - loss: 0.0069 - accuracy: 0.4632 - val_loss: 0.0180 - val_accuracy: 0.1394\n",
      "Epoch 16/150\n",
      "138/138 [==============================] - 13s 95ms/step - loss: 0.0069 - accuracy: 0.4665 - val_loss: 0.0181 - val_accuracy: 0.1394\n",
      "Epoch 17/150\n",
      "137/138 [============================>.] - ETA: 0s - loss: 0.0068 - accuracy: 0.4689\n",
      "Epoch 00017: ReduceLROnPlateau reducing learning rate to 1.0000000656873453e-06.\n",
      "138/138 [==============================] - 14s 101ms/step - loss: 0.0068 - accuracy: 0.4689 - val_loss: 0.0181 - val_accuracy: 0.1392\n",
      "Epoch 18/150\n",
      "137/138 [============================>.] - ETA: 0s - loss: 0.0067 - accuracy: 0.4741Restoring model weights from the end of the best epoch.\n",
      "138/138 [==============================] - 14s 99ms/step - loss: 0.0067 - accuracy: 0.4741 - val_loss: 0.0181 - val_accuracy: 0.1394\n",
      "Epoch 00018: early stopping\n"
     ]
    },
    {
     "data": {
      "text/html": [
       "<span style=\"color:#4527A0\"><h1 style=\"font-size:18px\">Trial complete</h1></span>"
      ],
      "text/plain": [
       "<IPython.core.display.HTML object>"
      ]
     },
     "metadata": {},
     "output_type": "display_data"
    },
    {
     "data": {
      "text/html": [
       "<span style=\"color:#4527A0\"><h1 style=\"font-size:18px\">Trial summary</h1></span>"
      ],
      "text/plain": [
       "<IPython.core.display.HTML object>"
      ]
     },
     "metadata": {},
     "output_type": "display_data"
    },
    {
     "data": {
      "text/html": [
       "<span style=\"color:cyan\"> |-Trial ID: 2efec402dbd1e8efd1594ea39a5a93b5</span>"
      ],
      "text/plain": [
       "<IPython.core.display.HTML object>"
      ]
     },
     "metadata": {},
     "output_type": "display_data"
    },
    {
     "data": {
      "text/html": [
       "<span style=\"color:cyan\"> |-Score: 0.016854222863912582</span>"
      ],
      "text/plain": [
       "<IPython.core.display.HTML object>"
      ]
     },
     "metadata": {},
     "output_type": "display_data"
    },
    {
     "data": {
      "text/html": [
       "<span style=\"color:cyan\"> |-Best step: 0</span>"
      ],
      "text/plain": [
       "<IPython.core.display.HTML object>"
      ]
     },
     "metadata": {},
     "output_type": "display_data"
    },
    {
     "data": {
      "text/html": [
       "<span style=\"color:#7E57C2\"><h2 style=\"font-size:16px\">Hyperparameters:</h2></span>"
      ],
      "text/plain": [
       "<IPython.core.display.HTML object>"
      ]
     },
     "metadata": {},
     "output_type": "display_data"
    },
    {
     "data": {
      "text/html": [
       "<span style=\"color:cyan\"> |-Dropout_0: 0.16</span>"
      ],
      "text/plain": [
       "<IPython.core.display.HTML object>"
      ]
     },
     "metadata": {},
     "output_type": "display_data"
    },
    {
     "data": {
      "text/html": [
       "<span style=\"color:blue\"> |-Dropout_1: 0.42</span>"
      ],
      "text/plain": [
       "<IPython.core.display.HTML object>"
      ]
     },
     "metadata": {},
     "output_type": "display_data"
    },
    {
     "data": {
      "text/html": [
       "<span style=\"color:cyan\"> |-Dropout_2: 0.32</span>"
      ],
      "text/plain": [
       "<IPython.core.display.HTML object>"
      ]
     },
     "metadata": {},
     "output_type": "display_data"
    },
    {
     "data": {
      "text/html": [
       "<span style=\"color:blue\"> |-Dropout_3: 0.48</span>"
      ],
      "text/plain": [
       "<IPython.core.display.HTML object>"
      ]
     },
     "metadata": {},
     "output_type": "display_data"
    },
    {
     "data": {
      "text/html": [
       "<span style=\"color:cyan\"> |-Dropout_4: 0.18</span>"
      ],
      "text/plain": [
       "<IPython.core.display.HTML object>"
      ]
     },
     "metadata": {},
     "output_type": "display_data"
    },
    {
     "data": {
      "text/html": [
       "<span style=\"color:blue\"> |-Dropout_5: 0.33</span>"
      ],
      "text/plain": [
       "<IPython.core.display.HTML object>"
      ]
     },
     "metadata": {},
     "output_type": "display_data"
    },
    {
     "data": {
      "text/html": [
       "<span style=\"color:cyan\"> |-N_Layers: 3</span>"
      ],
      "text/plain": [
       "<IPython.core.display.HTML object>"
      ]
     },
     "metadata": {},
     "output_type": "display_data"
    },
    {
     "data": {
      "text/html": [
       "<span style=\"color:blue\"> |-activation2_0: swish</span>"
      ],
      "text/plain": [
       "<IPython.core.display.HTML object>"
      ]
     },
     "metadata": {},
     "output_type": "display_data"
    },
    {
     "data": {
      "text/html": [
       "<span style=\"color:cyan\"> |-activation2_1: selu</span>"
      ],
      "text/plain": [
       "<IPython.core.display.HTML object>"
      ]
     },
     "metadata": {},
     "output_type": "display_data"
    },
    {
     "data": {
      "text/html": [
       "<span style=\"color:blue\"> |-activation2_2: elu</span>"
      ],
      "text/plain": [
       "<IPython.core.display.HTML object>"
      ]
     },
     "metadata": {},
     "output_type": "display_data"
    },
    {
     "data": {
      "text/html": [
       "<span style=\"color:cyan\"> |-activation2_3: elu</span>"
      ],
      "text/plain": [
       "<IPython.core.display.HTML object>"
      ]
     },
     "metadata": {},
     "output_type": "display_data"
    },
    {
     "data": {
      "text/html": [
       "<span style=\"color:blue\"> |-activation2_4: elu</span>"
      ],
      "text/plain": [
       "<IPython.core.display.HTML object>"
      ]
     },
     "metadata": {},
     "output_type": "display_data"
    },
    {
     "data": {
      "text/html": [
       "<span style=\"color:cyan\"> |-activation2_5: swish</span>"
      ],
      "text/plain": [
       "<IPython.core.display.HTML object>"
      ]
     },
     "metadata": {},
     "output_type": "display_data"
    },
    {
     "data": {
      "text/html": [
       "<span style=\"color:blue\"> |-number_of_neurons2_0: 1420</span>"
      ],
      "text/plain": [
       "<IPython.core.display.HTML object>"
      ]
     },
     "metadata": {},
     "output_type": "display_data"
    },
    {
     "data": {
      "text/html": [
       "<span style=\"color:cyan\"> |-number_of_neurons2_1: 1537</span>"
      ],
      "text/plain": [
       "<IPython.core.display.HTML object>"
      ]
     },
     "metadata": {},
     "output_type": "display_data"
    },
    {
     "data": {
      "text/html": [
       "<span style=\"color:blue\"> |-number_of_neurons2_2: 1162</span>"
      ],
      "text/plain": [
       "<IPython.core.display.HTML object>"
      ]
     },
     "metadata": {},
     "output_type": "display_data"
    },
    {
     "data": {
      "text/html": [
       "<span style=\"color:cyan\"> |-number_of_neurons2_3: 755</span>"
      ],
      "text/plain": [
       "<IPython.core.display.HTML object>"
      ]
     },
     "metadata": {},
     "output_type": "display_data"
    },
    {
     "data": {
      "text/html": [
       "<span style=\"color:blue\"> |-number_of_neurons2_4: 1595</span>"
      ],
      "text/plain": [
       "<IPython.core.display.HTML object>"
      ]
     },
     "metadata": {},
     "output_type": "display_data"
    },
    {
     "data": {
      "text/html": [
       "<span style=\"color:cyan\"> |-number_of_neurons2_5: 823</span>"
      ],
      "text/plain": [
       "<IPython.core.display.HTML object>"
      ]
     },
     "metadata": {},
     "output_type": "display_data"
    },
    {
     "name": "stdout",
     "output_type": "stream",
     "text": [
      "SEED:58 Fold:1\n",
      "Epoch 1/150\n",
      "138/138 [==============================] - 12s 88ms/step - loss: 0.2916 - accuracy: 0.0416 - val_loss: 0.0295 - val_accuracy: 0.0415\n",
      "Epoch 2/150\n",
      "138/138 [==============================] - 12s 89ms/step - loss: 0.0226 - accuracy: 0.0788 - val_loss: 0.0199 - val_accuracy: 0.0968\n",
      "Epoch 3/150\n",
      "138/138 [==============================] - 12s 89ms/step - loss: 0.0186 - accuracy: 0.1199 - val_loss: 0.0182 - val_accuracy: 0.1472\n",
      "Epoch 4/150\n",
      "138/138 [==============================] - 13s 97ms/step - loss: 0.0171 - accuracy: 0.1395 - val_loss: 0.0177 - val_accuracy: 0.1517\n",
      "Epoch 5/150\n",
      "138/138 [==============================] - 13s 92ms/step - loss: 0.0160 - accuracy: 0.1678 - val_loss: 0.0172 - val_accuracy: 0.1287\n",
      "Epoch 6/150\n",
      "138/138 [==============================] - 12s 85ms/step - loss: 0.0149 - accuracy: 0.1912 - val_loss: 0.0178 - val_accuracy: 0.1369\n",
      "Epoch 7/150\n",
      "138/138 [==============================] - 12s 87ms/step - loss: 0.0135 - accuracy: 0.2286 - val_loss: 0.0180 - val_accuracy: 0.1308\n",
      "Epoch 8/150\n",
      "137/138 [============================>.] - ETA: 0s - loss: 0.0119 - accuracy: 0.2838\n",
      "Epoch 00008: ReduceLROnPlateau reducing learning rate to 0.00010000000474974513.\n",
      "138/138 [==============================] - 12s 89ms/step - loss: 0.0119 - accuracy: 0.2837 - val_loss: 0.0187 - val_accuracy: 0.1321\n",
      "Epoch 9/150\n",
      "138/138 [==============================] - 12s 87ms/step - loss: 0.0083 - accuracy: 0.3956 - val_loss: 0.0180 - val_accuracy: 0.1404\n",
      "Epoch 10/150\n",
      "138/138 [==============================] - 11s 83ms/step - loss: 0.0069 - accuracy: 0.4526 - val_loss: 0.0183 - val_accuracy: 0.1449\n",
      "Epoch 11/150\n",
      "137/138 [============================>.] - ETA: 0s - loss: 0.0060 - accuracy: 0.4902\n",
      "Epoch 00011: ReduceLROnPlateau reducing learning rate to 1.0000000474974514e-05.\n",
      "138/138 [==============================] - 10s 72ms/step - loss: 0.0060 - accuracy: 0.4901 - val_loss: 0.0186 - val_accuracy: 0.1533\n",
      "Epoch 12/150\n",
      "138/138 [==============================] - 10s 72ms/step - loss: 0.0054 - accuracy: 0.5207 - val_loss: 0.0186 - val_accuracy: 0.1499\n",
      "Epoch 13/150\n",
      "138/138 [==============================] - 10s 74ms/step - loss: 0.0053 - accuracy: 0.5221 - val_loss: 0.0187 - val_accuracy: 0.1488\n",
      "Epoch 14/150\n",
      "137/138 [============================>.] - ETA: 0s - loss: 0.0052 - accuracy: 0.5238\n",
      "Epoch 00014: ReduceLROnPlateau reducing learning rate to 1.0000000656873453e-06.\n",
      "138/138 [==============================] - 10s 75ms/step - loss: 0.0052 - accuracy: 0.5238 - val_loss: 0.0187 - val_accuracy: 0.1501\n",
      "Epoch 15/150\n",
      "137/138 [============================>.] - ETA: 0s - loss: 0.0051 - accuracy: 0.5279Restoring model weights from the end of the best epoch.\n",
      "138/138 [==============================] - 10s 72ms/step - loss: 0.0051 - accuracy: 0.5277 - val_loss: 0.0187 - val_accuracy: 0.1495\n",
      "Epoch 00015: early stopping\n"
     ]
    },
    {
     "data": {
      "text/html": [
       "<span style=\"color:#4527A0\"><h1 style=\"font-size:18px\">Trial complete</h1></span>"
      ],
      "text/plain": [
       "<IPython.core.display.HTML object>"
      ]
     },
     "metadata": {},
     "output_type": "display_data"
    },
    {
     "data": {
      "text/html": [
       "<span style=\"color:#4527A0\"><h1 style=\"font-size:18px\">Trial summary</h1></span>"
      ],
      "text/plain": [
       "<IPython.core.display.HTML object>"
      ]
     },
     "metadata": {},
     "output_type": "display_data"
    },
    {
     "data": {
      "text/html": [
       "<span style=\"color:cyan\"> |-Trial ID: 7e08dd39b93c3bd987b1ac5cf6115ea3</span>"
      ],
      "text/plain": [
       "<IPython.core.display.HTML object>"
      ]
     },
     "metadata": {},
     "output_type": "display_data"
    },
    {
     "data": {
      "text/html": [
       "<span style=\"color:cyan\"> |-Score: 0.01716873049736023</span>"
      ],
      "text/plain": [
       "<IPython.core.display.HTML object>"
      ]
     },
     "metadata": {},
     "output_type": "display_data"
    },
    {
     "data": {
      "text/html": [
       "<span style=\"color:cyan\"> |-Best step: 0</span>"
      ],
      "text/plain": [
       "<IPython.core.display.HTML object>"
      ]
     },
     "metadata": {},
     "output_type": "display_data"
    },
    {
     "data": {
      "text/html": [
       "<span style=\"color:#7E57C2\"><h2 style=\"font-size:16px\">Hyperparameters:</h2></span>"
      ],
      "text/plain": [
       "<IPython.core.display.HTML object>"
      ]
     },
     "metadata": {},
     "output_type": "display_data"
    },
    {
     "data": {
      "text/html": [
       "<span style=\"color:cyan\"> |-Dropout_0: 0.13</span>"
      ],
      "text/plain": [
       "<IPython.core.display.HTML object>"
      ]
     },
     "metadata": {},
     "output_type": "display_data"
    },
    {
     "data": {
      "text/html": [
       "<span style=\"color:blue\"> |-Dropout_1: 0.3</span>"
      ],
      "text/plain": [
       "<IPython.core.display.HTML object>"
      ]
     },
     "metadata": {},
     "output_type": "display_data"
    },
    {
     "data": {
      "text/html": [
       "<span style=\"color:cyan\"> |-Dropout_2: 0.0</span>"
      ],
      "text/plain": [
       "<IPython.core.display.HTML object>"
      ]
     },
     "metadata": {},
     "output_type": "display_data"
    },
    {
     "data": {
      "text/html": [
       "<span style=\"color:blue\"> |-Dropout_3: 0.0</span>"
      ],
      "text/plain": [
       "<IPython.core.display.HTML object>"
      ]
     },
     "metadata": {},
     "output_type": "display_data"
    },
    {
     "data": {
      "text/html": [
       "<span style=\"color:cyan\"> |-Dropout_4: 0.0</span>"
      ],
      "text/plain": [
       "<IPython.core.display.HTML object>"
      ]
     },
     "metadata": {},
     "output_type": "display_data"
    },
    {
     "data": {
      "text/html": [
       "<span style=\"color:blue\"> |-Dropout_5: 0.0</span>"
      ],
      "text/plain": [
       "<IPython.core.display.HTML object>"
      ]
     },
     "metadata": {},
     "output_type": "display_data"
    },
    {
     "data": {
      "text/html": [
       "<span style=\"color:cyan\"> |-N_Layers: 6</span>"
      ],
      "text/plain": [
       "<IPython.core.display.HTML object>"
      ]
     },
     "metadata": {},
     "output_type": "display_data"
    },
    {
     "data": {
      "text/html": [
       "<span style=\"color:blue\"> |-activation2_0: swish</span>"
      ],
      "text/plain": [
       "<IPython.core.display.HTML object>"
      ]
     },
     "metadata": {},
     "output_type": "display_data"
    },
    {
     "data": {
      "text/html": [
       "<span style=\"color:cyan\"> |-activation2_1: swish</span>"
      ],
      "text/plain": [
       "<IPython.core.display.HTML object>"
      ]
     },
     "metadata": {},
     "output_type": "display_data"
    },
    {
     "data": {
      "text/html": [
       "<span style=\"color:blue\"> |-activation2_2: elu</span>"
      ],
      "text/plain": [
       "<IPython.core.display.HTML object>"
      ]
     },
     "metadata": {},
     "output_type": "display_data"
    },
    {
     "data": {
      "text/html": [
       "<span style=\"color:cyan\"> |-activation2_3: elu</span>"
      ],
      "text/plain": [
       "<IPython.core.display.HTML object>"
      ]
     },
     "metadata": {},
     "output_type": "display_data"
    },
    {
     "data": {
      "text/html": [
       "<span style=\"color:blue\"> |-activation2_4: elu</span>"
      ],
      "text/plain": [
       "<IPython.core.display.HTML object>"
      ]
     },
     "metadata": {},
     "output_type": "display_data"
    },
    {
     "data": {
      "text/html": [
       "<span style=\"color:cyan\"> |-activation2_5: elu</span>"
      ],
      "text/plain": [
       "<IPython.core.display.HTML object>"
      ]
     },
     "metadata": {},
     "output_type": "display_data"
    },
    {
     "data": {
      "text/html": [
       "<span style=\"color:blue\"> |-number_of_neurons2_0: 1262</span>"
      ],
      "text/plain": [
       "<IPython.core.display.HTML object>"
      ]
     },
     "metadata": {},
     "output_type": "display_data"
    },
    {
     "data": {
      "text/html": [
       "<span style=\"color:cyan\"> |-number_of_neurons2_1: 1360</span>"
      ],
      "text/plain": [
       "<IPython.core.display.HTML object>"
      ]
     },
     "metadata": {},
     "output_type": "display_data"
    },
    {
     "data": {
      "text/html": [
       "<span style=\"color:blue\"> |-number_of_neurons2_2: 512</span>"
      ],
      "text/plain": [
       "<IPython.core.display.HTML object>"
      ]
     },
     "metadata": {},
     "output_type": "display_data"
    },
    {
     "data": {
      "text/html": [
       "<span style=\"color:cyan\"> |-number_of_neurons2_3: 512</span>"
      ],
      "text/plain": [
       "<IPython.core.display.HTML object>"
      ]
     },
     "metadata": {},
     "output_type": "display_data"
    },
    {
     "data": {
      "text/html": [
       "<span style=\"color:blue\"> |-number_of_neurons2_4: 512</span>"
      ],
      "text/plain": [
       "<IPython.core.display.HTML object>"
      ]
     },
     "metadata": {},
     "output_type": "display_data"
    },
    {
     "data": {
      "text/html": [
       "<span style=\"color:cyan\"> |-number_of_neurons2_5: 512</span>"
      ],
      "text/plain": [
       "<IPython.core.display.HTML object>"
      ]
     },
     "metadata": {},
     "output_type": "display_data"
    },
    {
     "name": "stdout",
     "output_type": "stream",
     "text": [
      "Epoch 1/150\n",
      "138/138 [==============================] - 11s 80ms/step - loss: 0.2563 - accuracy: 0.0518 - val_loss: 0.0229 - val_accuracy: 0.0661\n",
      "Epoch 2/150\n",
      "138/138 [==============================] - 11s 78ms/step - loss: 0.0223 - accuracy: 0.0878 - val_loss: 0.0200 - val_accuracy: 0.0850\n",
      "Epoch 3/150\n",
      "138/138 [==============================] - 11s 78ms/step - loss: 0.0201 - accuracy: 0.1084 - val_loss: 0.0187 - val_accuracy: 0.0964\n",
      "Epoch 4/150\n",
      "138/138 [==============================] - 12s 87ms/step - loss: 0.0188 - accuracy: 0.1256 - val_loss: 0.0181 - val_accuracy: 0.1408\n",
      "Epoch 5/150\n",
      "138/138 [==============================] - 11s 78ms/step - loss: 0.0181 - accuracy: 0.1347 - val_loss: 0.0178 - val_accuracy: 0.1180\n",
      "Epoch 6/150\n",
      "138/138 [==============================] - 11s 78ms/step - loss: 0.0174 - accuracy: 0.1518 - val_loss: 0.0174 - val_accuracy: 0.1303\n",
      "Epoch 7/150\n",
      "138/138 [==============================] - 11s 79ms/step - loss: 0.0169 - accuracy: 0.1641 - val_loss: 0.0173 - val_accuracy: 0.1331\n",
      "Epoch 8/150\n",
      "138/138 [==============================] - 11s 77ms/step - loss: 0.0161 - accuracy: 0.1796 - val_loss: 0.0171 - val_accuracy: 0.1725\n",
      "Epoch 9/150\n",
      "138/138 [==============================] - 11s 78ms/step - loss: 0.0155 - accuracy: 0.1954 - val_loss: 0.0175 - val_accuracy: 0.1419\n",
      "Epoch 10/150\n",
      "138/138 [==============================] - 11s 81ms/step - loss: 0.0147 - accuracy: 0.2148 - val_loss: 0.0171 - val_accuracy: 0.1602\n",
      "Epoch 11/150\n",
      "138/138 [==============================] - 11s 77ms/step - loss: 0.0138 - accuracy: 0.2287 - val_loss: 0.0170 - val_accuracy: 0.1490\n",
      "Epoch 12/150\n",
      "138/138 [==============================] - 11s 77ms/step - loss: 0.0128 - accuracy: 0.2572 - val_loss: 0.0172 - val_accuracy: 0.1640\n",
      "Epoch 13/150\n",
      "138/138 [==============================] - 11s 78ms/step - loss: 0.0117 - accuracy: 0.2991 - val_loss: 0.0181 - val_accuracy: 0.1479\n",
      "Epoch 14/150\n",
      "137/138 [============================>.] - ETA: 0s - loss: 0.0112 - accuracy: 0.3148\n",
      "Epoch 00014: ReduceLROnPlateau reducing learning rate to 0.00010000000474974513.\n",
      "138/138 [==============================] - 11s 77ms/step - loss: 0.0112 - accuracy: 0.3148 - val_loss: 0.0177 - val_accuracy: 0.1481\n",
      "Epoch 15/150\n",
      "138/138 [==============================] - 11s 83ms/step - loss: 0.0086 - accuracy: 0.3961 - val_loss: 0.0174 - val_accuracy: 0.1479\n",
      "Epoch 16/150\n",
      "138/138 [==============================] - 11s 76ms/step - loss: 0.0080 - accuracy: 0.4208 - val_loss: 0.0175 - val_accuracy: 0.1490\n",
      "Epoch 17/150\n",
      "137/138 [============================>.] - ETA: 0s - loss: 0.0075 - accuracy: 0.4354\n",
      "Epoch 00017: ReduceLROnPlateau reducing learning rate to 1.0000000474974514e-05.\n",
      "138/138 [==============================] - 11s 79ms/step - loss: 0.0075 - accuracy: 0.4353 - val_loss: 0.0176 - val_accuracy: 0.1488\n",
      "Epoch 18/150\n",
      "138/138 [==============================] - 11s 79ms/step - loss: 0.0071 - accuracy: 0.4402 - val_loss: 0.0177 - val_accuracy: 0.1492\n",
      "Epoch 19/150\n",
      "138/138 [==============================] - 11s 76ms/step - loss: 0.0071 - accuracy: 0.4438 - val_loss: 0.0177 - val_accuracy: 0.1488\n",
      "Epoch 20/150\n",
      "137/138 [============================>.] - ETA: 0s - loss: 0.0070 - accuracy: 0.4472\n",
      "Epoch 00020: ReduceLROnPlateau reducing learning rate to 1.0000000656873453e-06.\n",
      "138/138 [==============================] - 11s 80ms/step - loss: 0.0070 - accuracy: 0.4471 - val_loss: 0.0177 - val_accuracy: 0.1488\n",
      "Epoch 21/150\n",
      "137/138 [============================>.] - ETA: 0s - loss: 0.0071 - accuracy: 0.4527Restoring model weights from the end of the best epoch.\n",
      "138/138 [==============================] - 11s 83ms/step - loss: 0.0071 - accuracy: 0.4525 - val_loss: 0.0177 - val_accuracy: 0.1483\n",
      "Epoch 00021: early stopping\n"
     ]
    },
    {
     "data": {
      "text/html": [
       "<span style=\"color:#4527A0\"><h1 style=\"font-size:18px\">Trial complete</h1></span>"
      ],
      "text/plain": [
       "<IPython.core.display.HTML object>"
      ]
     },
     "metadata": {},
     "output_type": "display_data"
    },
    {
     "data": {
      "text/html": [
       "<span style=\"color:#4527A0\"><h1 style=\"font-size:18px\">Trial summary</h1></span>"
      ],
      "text/plain": [
       "<IPython.core.display.HTML object>"
      ]
     },
     "metadata": {},
     "output_type": "display_data"
    },
    {
     "data": {
      "text/html": [
       "<span style=\"color:cyan\"> |-Trial ID: 736d5c17c8b4982faf03fdca88e32572</span>"
      ],
      "text/plain": [
       "<IPython.core.display.HTML object>"
      ]
     },
     "metadata": {},
     "output_type": "display_data"
    },
    {
     "data": {
      "text/html": [
       "<span style=\"color:cyan\"> |-Score: 0.01696758344769478</span>"
      ],
      "text/plain": [
       "<IPython.core.display.HTML object>"
      ]
     },
     "metadata": {},
     "output_type": "display_data"
    },
    {
     "data": {
      "text/html": [
       "<span style=\"color:cyan\"> |-Best step: 0</span>"
      ],
      "text/plain": [
       "<IPython.core.display.HTML object>"
      ]
     },
     "metadata": {},
     "output_type": "display_data"
    },
    {
     "data": {
      "text/html": [
       "<span style=\"color:#7E57C2\"><h2 style=\"font-size:16px\">Hyperparameters:</h2></span>"
      ],
      "text/plain": [
       "<IPython.core.display.HTML object>"
      ]
     },
     "metadata": {},
     "output_type": "display_data"
    },
    {
     "data": {
      "text/html": [
       "<span style=\"color:cyan\"> |-Dropout_0: 0.56</span>"
      ],
      "text/plain": [
       "<IPython.core.display.HTML object>"
      ]
     },
     "metadata": {},
     "output_type": "display_data"
    },
    {
     "data": {
      "text/html": [
       "<span style=\"color:blue\"> |-Dropout_1: 0.29</span>"
      ],
      "text/plain": [
       "<IPython.core.display.HTML object>"
      ]
     },
     "metadata": {},
     "output_type": "display_data"
    },
    {
     "data": {
      "text/html": [
       "<span style=\"color:cyan\"> |-Dropout_2: 0.39</span>"
      ],
      "text/plain": [
       "<IPython.core.display.HTML object>"
      ]
     },
     "metadata": {},
     "output_type": "display_data"
    },
    {
     "data": {
      "text/html": [
       "<span style=\"color:blue\"> |-Dropout_3: 0.5700000000000001</span>"
      ],
      "text/plain": [
       "<IPython.core.display.HTML object>"
      ]
     },
     "metadata": {},
     "output_type": "display_data"
    },
    {
     "data": {
      "text/html": [
       "<span style=\"color:cyan\"> |-Dropout_4: 0.42</span>"
      ],
      "text/plain": [
       "<IPython.core.display.HTML object>"
      ]
     },
     "metadata": {},
     "output_type": "display_data"
    },
    {
     "data": {
      "text/html": [
       "<span style=\"color:blue\"> |-Dropout_5: 0.3</span>"
      ],
      "text/plain": [
       "<IPython.core.display.HTML object>"
      ]
     },
     "metadata": {},
     "output_type": "display_data"
    },
    {
     "data": {
      "text/html": [
       "<span style=\"color:cyan\"> |-N_Layers: 2</span>"
      ],
      "text/plain": [
       "<IPython.core.display.HTML object>"
      ]
     },
     "metadata": {},
     "output_type": "display_data"
    },
    {
     "data": {
      "text/html": [
       "<span style=\"color:blue\"> |-activation2_0: swish</span>"
      ],
      "text/plain": [
       "<IPython.core.display.HTML object>"
      ]
     },
     "metadata": {},
     "output_type": "display_data"
    },
    {
     "data": {
      "text/html": [
       "<span style=\"color:cyan\"> |-activation2_1: elu</span>"
      ],
      "text/plain": [
       "<IPython.core.display.HTML object>"
      ]
     },
     "metadata": {},
     "output_type": "display_data"
    },
    {
     "data": {
      "text/html": [
       "<span style=\"color:blue\"> |-activation2_2: swish</span>"
      ],
      "text/plain": [
       "<IPython.core.display.HTML object>"
      ]
     },
     "metadata": {},
     "output_type": "display_data"
    },
    {
     "data": {
      "text/html": [
       "<span style=\"color:cyan\"> |-activation2_3: elu</span>"
      ],
      "text/plain": [
       "<IPython.core.display.HTML object>"
      ]
     },
     "metadata": {},
     "output_type": "display_data"
    },
    {
     "data": {
      "text/html": [
       "<span style=\"color:blue\"> |-activation2_4: selu</span>"
      ],
      "text/plain": [
       "<IPython.core.display.HTML object>"
      ]
     },
     "metadata": {},
     "output_type": "display_data"
    },
    {
     "data": {
      "text/html": [
       "<span style=\"color:cyan\"> |-activation2_5: swish</span>"
      ],
      "text/plain": [
       "<IPython.core.display.HTML object>"
      ]
     },
     "metadata": {},
     "output_type": "display_data"
    },
    {
     "data": {
      "text/html": [
       "<span style=\"color:blue\"> |-number_of_neurons2_0: 1844</span>"
      ],
      "text/plain": [
       "<IPython.core.display.HTML object>"
      ]
     },
     "metadata": {},
     "output_type": "display_data"
    },
    {
     "data": {
      "text/html": [
       "<span style=\"color:cyan\"> |-number_of_neurons2_1: 1831</span>"
      ],
      "text/plain": [
       "<IPython.core.display.HTML object>"
      ]
     },
     "metadata": {},
     "output_type": "display_data"
    },
    {
     "data": {
      "text/html": [
       "<span style=\"color:blue\"> |-number_of_neurons2_2: 1799</span>"
      ],
      "text/plain": [
       "<IPython.core.display.HTML object>"
      ]
     },
     "metadata": {},
     "output_type": "display_data"
    },
    {
     "data": {
      "text/html": [
       "<span style=\"color:cyan\"> |-number_of_neurons2_3: 555</span>"
      ],
      "text/plain": [
       "<IPython.core.display.HTML object>"
      ]
     },
     "metadata": {},
     "output_type": "display_data"
    },
    {
     "data": {
      "text/html": [
       "<span style=\"color:blue\"> |-number_of_neurons2_4: 896</span>"
      ],
      "text/plain": [
       "<IPython.core.display.HTML object>"
      ]
     },
     "metadata": {},
     "output_type": "display_data"
    },
    {
     "data": {
      "text/html": [
       "<span style=\"color:cyan\"> |-number_of_neurons2_5: 1339</span>"
      ],
      "text/plain": [
       "<IPython.core.display.HTML object>"
      ]
     },
     "metadata": {},
     "output_type": "display_data"
    },
    {
     "name": "stdout",
     "output_type": "stream",
     "text": [
      "Epoch 1/150\n",
      "138/138 [==============================] - 10s 71ms/step - loss: 0.2966 - accuracy: 0.0231 - val_loss: 0.0278 - val_accuracy: 0.0588\n",
      "Epoch 2/150\n",
      "138/138 [==============================] - 10s 70ms/step - loss: 0.0248 - accuracy: 0.0529 - val_loss: 0.0209 - val_accuracy: 0.0957\n",
      "Epoch 3/150\n",
      "138/138 [==============================] - 10s 71ms/step - loss: 0.0220 - accuracy: 0.0742 - val_loss: 0.0196 - val_accuracy: 0.1089\n",
      "Epoch 4/150\n",
      "138/138 [==============================] - 9s 69ms/step - loss: 0.0205 - accuracy: 0.0957 - val_loss: 0.0188 - val_accuracy: 0.1016\n",
      "Epoch 5/150\n",
      "138/138 [==============================] - 10s 70ms/step - loss: 0.0196 - accuracy: 0.1081 - val_loss: 0.0183 - val_accuracy: 0.1094\n",
      "Epoch 6/150\n",
      "138/138 [==============================] - 10s 73ms/step - loss: 0.0189 - accuracy: 0.1177 - val_loss: 0.0178 - val_accuracy: 0.1139\n",
      "Epoch 7/150\n",
      "138/138 [==============================] - 10s 71ms/step - loss: 0.0186 - accuracy: 0.1227 - val_loss: 0.0176 - val_accuracy: 0.1160\n",
      "Epoch 8/150\n",
      "138/138 [==============================] - 10s 69ms/step - loss: 0.0180 - accuracy: 0.1287 - val_loss: 0.0173 - val_accuracy: 0.1260\n",
      "Epoch 9/150\n",
      "138/138 [==============================] - 10s 69ms/step - loss: 0.0175 - accuracy: 0.1337 - val_loss: 0.0172 - val_accuracy: 0.1194\n",
      "Epoch 10/150\n",
      "138/138 [==============================] - 10s 71ms/step - loss: 0.0172 - accuracy: 0.1383 - val_loss: 0.0170 - val_accuracy: 0.1255\n",
      "Epoch 11/150\n",
      "138/138 [==============================] - 10s 71ms/step - loss: 0.0169 - accuracy: 0.1468 - val_loss: 0.0170 - val_accuracy: 0.1306\n",
      "Epoch 12/150\n",
      "138/138 [==============================] - 10s 75ms/step - loss: 0.0165 - accuracy: 0.1537 - val_loss: 0.0168 - val_accuracy: 0.1317\n",
      "Epoch 13/150\n",
      "138/138 [==============================] - 11s 77ms/step - loss: 0.0161 - accuracy: 0.1589 - val_loss: 0.0168 - val_accuracy: 0.1372\n",
      "Epoch 14/150\n",
      "138/138 [==============================] - 10s 73ms/step - loss: 0.0158 - accuracy: 0.1672 - val_loss: 0.0168 - val_accuracy: 0.1378\n",
      "Epoch 15/150\n",
      "137/138 [============================>.] - ETA: 0s - loss: 0.0155 - accuracy: 0.1747\n",
      "Epoch 00015: ReduceLROnPlateau reducing learning rate to 0.00010000000474974513.\n",
      "138/138 [==============================] - 9s 68ms/step - loss: 0.0155 - accuracy: 0.1746 - val_loss: 0.0169 - val_accuracy: 0.1397\n",
      "Epoch 16/150\n",
      "138/138 [==============================] - 10s 71ms/step - loss: 0.0146 - accuracy: 0.1874 - val_loss: 0.0166 - val_accuracy: 0.1401\n",
      "Epoch 17/150\n",
      "138/138 [==============================] - 10s 72ms/step - loss: 0.0144 - accuracy: 0.1996 - val_loss: 0.0166 - val_accuracy: 0.1415\n",
      "Epoch 18/150\n",
      "138/138 [==============================] - 10s 72ms/step - loss: 0.0142 - accuracy: 0.1996 - val_loss: 0.0166 - val_accuracy: 0.1422\n",
      "Epoch 19/150\n",
      "137/138 [============================>.] - ETA: 0s - loss: 0.0140 - accuracy: 0.2082\n",
      "Epoch 00019: ReduceLROnPlateau reducing learning rate to 1.0000000474974514e-05.\n",
      "138/138 [==============================] - 10s 71ms/step - loss: 0.0140 - accuracy: 0.2080 - val_loss: 0.0166 - val_accuracy: 0.1419\n",
      "Epoch 20/150\n",
      "138/138 [==============================] - 10s 70ms/step - loss: 0.0139 - accuracy: 0.2090 - val_loss: 0.0166 - val_accuracy: 0.1415\n",
      "Epoch 21/150\n",
      "138/138 [==============================] - 9s 69ms/step - loss: 0.0138 - accuracy: 0.2104 - val_loss: 0.0166 - val_accuracy: 0.1419\n",
      "Epoch 22/150\n",
      "137/138 [============================>.] - ETA: 0s - loss: 0.0139 - accuracy: 0.2113\n",
      "Epoch 00022: ReduceLROnPlateau reducing learning rate to 1.0000000656873453e-06.\n",
      "138/138 [==============================] - 9s 69ms/step - loss: 0.0139 - accuracy: 0.2113 - val_loss: 0.0166 - val_accuracy: 0.1419\n",
      "Epoch 23/150\n",
      "138/138 [==============================] - 10s 72ms/step - loss: 0.0138 - accuracy: 0.2132 - val_loss: 0.0166 - val_accuracy: 0.1422\n",
      "Epoch 24/150\n",
      "138/138 [==============================] - 10s 70ms/step - loss: 0.0138 - accuracy: 0.2099 - val_loss: 0.0166 - val_accuracy: 0.1424\n",
      "Epoch 25/150\n",
      "137/138 [============================>.] - ETA: 0s - loss: 0.0137 - accuracy: 0.2113\n",
      "Epoch 00025: ReduceLROnPlateau reducing learning rate to 1.0000001111620805e-07.\n",
      "138/138 [==============================] - 10s 69ms/step - loss: 0.0137 - accuracy: 0.2114 - val_loss: 0.0166 - val_accuracy: 0.1426\n",
      "Epoch 26/150\n",
      "138/138 [==============================] - 10s 71ms/step - loss: 0.0138 - accuracy: 0.2113 - val_loss: 0.0166 - val_accuracy: 0.1431\n",
      "Epoch 27/150\n",
      "138/138 [==============================] - 10s 72ms/step - loss: 0.0138 - accuracy: 0.2104 - val_loss: 0.0166 - val_accuracy: 0.1429\n",
      "Epoch 28/150\n",
      "137/138 [============================>.] - ETA: 0s - loss: 0.0138 - accuracy: 0.2124\n",
      "Epoch 00028: ReduceLROnPlateau reducing learning rate to 1.000000082740371e-08.\n",
      "Restoring model weights from the end of the best epoch.\n",
      "138/138 [==============================] - 10s 69ms/step - loss: 0.0138 - accuracy: 0.2123 - val_loss: 0.0166 - val_accuracy: 0.1426\n",
      "Epoch 00028: early stopping\n"
     ]
    },
    {
     "data": {
      "text/html": [
       "<span style=\"color:#4527A0\"><h1 style=\"font-size:18px\">Trial complete</h1></span>"
      ],
      "text/plain": [
       "<IPython.core.display.HTML object>"
      ]
     },
     "metadata": {},
     "output_type": "display_data"
    },
    {
     "data": {
      "text/html": [
       "<span style=\"color:#4527A0\"><h1 style=\"font-size:18px\">Trial summary</h1></span>"
      ],
      "text/plain": [
       "<IPython.core.display.HTML object>"
      ]
     },
     "metadata": {},
     "output_type": "display_data"
    },
    {
     "data": {
      "text/html": [
       "<span style=\"color:cyan\"> |-Trial ID: 866ae44bddbb2bc4360f3d4ffe19c0d1</span>"
      ],
      "text/plain": [
       "<IPython.core.display.HTML object>"
      ]
     },
     "metadata": {},
     "output_type": "display_data"
    },
    {
     "data": {
      "text/html": [
       "<span style=\"color:cyan\"> |-Score: 0.016562268137931824</span>"
      ],
      "text/plain": [
       "<IPython.core.display.HTML object>"
      ]
     },
     "metadata": {},
     "output_type": "display_data"
    },
    {
     "data": {
      "text/html": [
       "<span style=\"color:cyan\"> |-Best step: 0</span>"
      ],
      "text/plain": [
       "<IPython.core.display.HTML object>"
      ]
     },
     "metadata": {},
     "output_type": "display_data"
    },
    {
     "data": {
      "text/html": [
       "<span style=\"color:#7E57C2\"><h2 style=\"font-size:16px\">Hyperparameters:</h2></span>"
      ],
      "text/plain": [
       "<IPython.core.display.HTML object>"
      ]
     },
     "metadata": {},
     "output_type": "display_data"
    },
    {
     "data": {
      "text/html": [
       "<span style=\"color:cyan\"> |-Dropout_0: 0.5700000000000001</span>"
      ],
      "text/plain": [
       "<IPython.core.display.HTML object>"
      ]
     },
     "metadata": {},
     "output_type": "display_data"
    },
    {
     "data": {
      "text/html": [
       "<span style=\"color:blue\"> |-Dropout_1: 0.51</span>"
      ],
      "text/plain": [
       "<IPython.core.display.HTML object>"
      ]
     },
     "metadata": {},
     "output_type": "display_data"
    },
    {
     "data": {
      "text/html": [
       "<span style=\"color:cyan\"> |-Dropout_2: 0.61</span>"
      ],
      "text/plain": [
       "<IPython.core.display.HTML object>"
      ]
     },
     "metadata": {},
     "output_type": "display_data"
    },
    {
     "data": {
      "text/html": [
       "<span style=\"color:blue\"> |-Dropout_3: 0.0</span>"
      ],
      "text/plain": [
       "<IPython.core.display.HTML object>"
      ]
     },
     "metadata": {},
     "output_type": "display_data"
    },
    {
     "data": {
      "text/html": [
       "<span style=\"color:cyan\"> |-Dropout_4: 0.33</span>"
      ],
      "text/plain": [
       "<IPython.core.display.HTML object>"
      ]
     },
     "metadata": {},
     "output_type": "display_data"
    },
    {
     "data": {
      "text/html": [
       "<span style=\"color:blue\"> |-Dropout_5: 0.05</span>"
      ],
      "text/plain": [
       "<IPython.core.display.HTML object>"
      ]
     },
     "metadata": {},
     "output_type": "display_data"
    },
    {
     "data": {
      "text/html": [
       "<span style=\"color:cyan\"> |-N_Layers: 3</span>"
      ],
      "text/plain": [
       "<IPython.core.display.HTML object>"
      ]
     },
     "metadata": {},
     "output_type": "display_data"
    },
    {
     "data": {
      "text/html": [
       "<span style=\"color:blue\"> |-activation2_0: swish</span>"
      ],
      "text/plain": [
       "<IPython.core.display.HTML object>"
      ]
     },
     "metadata": {},
     "output_type": "display_data"
    },
    {
     "data": {
      "text/html": [
       "<span style=\"color:cyan\"> |-activation2_1: selu</span>"
      ],
      "text/plain": [
       "<IPython.core.display.HTML object>"
      ]
     },
     "metadata": {},
     "output_type": "display_data"
    },
    {
     "data": {
      "text/html": [
       "<span style=\"color:blue\"> |-activation2_2: elu</span>"
      ],
      "text/plain": [
       "<IPython.core.display.HTML object>"
      ]
     },
     "metadata": {},
     "output_type": "display_data"
    },
    {
     "data": {
      "text/html": [
       "<span style=\"color:cyan\"> |-activation2_3: swish</span>"
      ],
      "text/plain": [
       "<IPython.core.display.HTML object>"
      ]
     },
     "metadata": {},
     "output_type": "display_data"
    },
    {
     "data": {
      "text/html": [
       "<span style=\"color:blue\"> |-activation2_4: selu</span>"
      ],
      "text/plain": [
       "<IPython.core.display.HTML object>"
      ]
     },
     "metadata": {},
     "output_type": "display_data"
    },
    {
     "data": {
      "text/html": [
       "<span style=\"color:cyan\"> |-activation2_5: swish</span>"
      ],
      "text/plain": [
       "<IPython.core.display.HTML object>"
      ]
     },
     "metadata": {},
     "output_type": "display_data"
    },
    {
     "data": {
      "text/html": [
       "<span style=\"color:blue\"> |-number_of_neurons2_0: 1605</span>"
      ],
      "text/plain": [
       "<IPython.core.display.HTML object>"
      ]
     },
     "metadata": {},
     "output_type": "display_data"
    },
    {
     "data": {
      "text/html": [
       "<span style=\"color:cyan\"> |-number_of_neurons2_1: 998</span>"
      ],
      "text/plain": [
       "<IPython.core.display.HTML object>"
      ]
     },
     "metadata": {},
     "output_type": "display_data"
    },
    {
     "data": {
      "text/html": [
       "<span style=\"color:blue\"> |-number_of_neurons2_2: 1176</span>"
      ],
      "text/plain": [
       "<IPython.core.display.HTML object>"
      ]
     },
     "metadata": {},
     "output_type": "display_data"
    },
    {
     "data": {
      "text/html": [
       "<span style=\"color:cyan\"> |-number_of_neurons2_3: 1590</span>"
      ],
      "text/plain": [
       "<IPython.core.display.HTML object>"
      ]
     },
     "metadata": {},
     "output_type": "display_data"
    },
    {
     "data": {
      "text/html": [
       "<span style=\"color:blue\"> |-number_of_neurons2_4: 1126</span>"
      ],
      "text/plain": [
       "<IPython.core.display.HTML object>"
      ]
     },
     "metadata": {},
     "output_type": "display_data"
    },
    {
     "data": {
      "text/html": [
       "<span style=\"color:cyan\"> |-number_of_neurons2_5: 697</span>"
      ],
      "text/plain": [
       "<IPython.core.display.HTML object>"
      ]
     },
     "metadata": {},
     "output_type": "display_data"
    },
    {
     "name": "stdout",
     "output_type": "stream",
     "text": [
      "Epoch 1/150\n",
      "138/138 [==============================] - 23s 165ms/step - loss: 0.2326 - accuracy: 0.0289 - val_loss: 0.0259 - val_accuracy: 0.0237\n",
      "Epoch 2/150\n",
      "138/138 [==============================] - 22s 159ms/step - loss: 0.0216 - accuracy: 0.0595 - val_loss: 0.0204 - val_accuracy: 0.0638\n",
      "Epoch 3/150\n",
      "138/138 [==============================] - 22s 156ms/step - loss: 0.0197 - accuracy: 0.0949 - val_loss: 0.0190 - val_accuracy: 0.0900\n",
      "Epoch 4/150\n",
      "138/138 [==============================] - 22s 161ms/step - loss: 0.0189 - accuracy: 0.1135 - val_loss: 0.0188 - val_accuracy: 0.1055\n",
      "Epoch 5/150\n",
      "138/138 [==============================] - 22s 157ms/step - loss: 0.0182 - accuracy: 0.1260 - val_loss: 0.0183 - val_accuracy: 0.1069\n",
      "Epoch 6/150\n",
      "138/138 [==============================] - 22s 159ms/step - loss: 0.0177 - accuracy: 0.1303 - val_loss: 0.0183 - val_accuracy: 0.1463\n",
      "Epoch 7/150\n",
      "138/138 [==============================] - 22s 159ms/step - loss: 0.0173 - accuracy: 0.1443 - val_loss: 0.0180 - val_accuracy: 0.1574\n",
      "Epoch 8/150\n",
      "138/138 [==============================] - 23s 163ms/step - loss: 0.0169 - accuracy: 0.1464 - val_loss: 0.0177 - val_accuracy: 0.1274\n",
      "Epoch 9/150\n",
      "138/138 [==============================] - 22s 157ms/step - loss: 0.0164 - accuracy: 0.1585 - val_loss: 0.0177 - val_accuracy: 0.1356\n",
      "Epoch 10/150\n",
      "138/138 [==============================] - 22s 156ms/step - loss: 0.0164 - accuracy: 0.1602 - val_loss: 0.0176 - val_accuracy: 0.1392\n",
      "Epoch 11/150\n",
      "138/138 [==============================] - 22s 157ms/step - loss: 0.0158 - accuracy: 0.1716 - val_loss: 0.0174 - val_accuracy: 0.1360\n",
      "Epoch 12/150\n",
      "138/138 [==============================] - 22s 157ms/step - loss: 0.0155 - accuracy: 0.1761 - val_loss: 0.0177 - val_accuracy: 0.1679\n",
      "Epoch 13/150\n",
      "138/138 [==============================] - 22s 159ms/step - loss: 0.0151 - accuracy: 0.1794 - val_loss: 0.0173 - val_accuracy: 0.1358\n",
      "Epoch 14/150\n",
      "138/138 [==============================] - 22s 162ms/step - loss: 0.0148 - accuracy: 0.1922 - val_loss: 0.0171 - val_accuracy: 0.1397\n",
      "Epoch 15/150\n",
      "138/138 [==============================] - 22s 157ms/step - loss: 0.0144 - accuracy: 0.2004 - val_loss: 0.0173 - val_accuracy: 0.1506\n",
      "Epoch 16/150\n",
      "138/138 [==============================] - 21s 152ms/step - loss: 0.0141 - accuracy: 0.2048 - val_loss: 0.0175 - val_accuracy: 0.1367\n",
      "Epoch 17/150\n",
      "138/138 [==============================] - ETA: 0s - loss: 0.0137 - accuracy: 0.2056\n",
      "Epoch 00017: ReduceLROnPlateau reducing learning rate to 0.00010000000474974513.\n",
      "138/138 [==============================] - 22s 159ms/step - loss: 0.0137 - accuracy: 0.2056 - val_loss: 0.0174 - val_accuracy: 0.1773\n",
      "Epoch 18/150\n",
      "138/138 [==============================] - 26s 191ms/step - loss: 0.0123 - accuracy: 0.2424 - val_loss: 0.0167 - val_accuracy: 0.1508\n",
      "Epoch 19/150\n",
      "138/138 [==============================] - 27s 195ms/step - loss: 0.0119 - accuracy: 0.2474 - val_loss: 0.0167 - val_accuracy: 0.1517\n",
      "Epoch 20/150\n",
      "138/138 [==============================] - 27s 193ms/step - loss: 0.0117 - accuracy: 0.2497 - val_loss: 0.0167 - val_accuracy: 0.1533\n",
      "Epoch 21/150\n",
      "138/138 [==============================] - ETA: 0s - loss: 0.0115 - accuracy: 0.2478\n",
      "Epoch 00021: ReduceLROnPlateau reducing learning rate to 1.0000000474974514e-05.\n",
      "138/138 [==============================] - 27s 195ms/step - loss: 0.0115 - accuracy: 0.2478 - val_loss: 0.0168 - val_accuracy: 0.1547\n",
      "Epoch 22/150\n",
      "138/138 [==============================] - 27s 197ms/step - loss: 0.0113 - accuracy: 0.2625 - val_loss: 0.0168 - val_accuracy: 0.1552\n",
      "Epoch 23/150\n",
      "138/138 [==============================] - 26s 190ms/step - loss: 0.0113 - accuracy: 0.2575 - val_loss: 0.0168 - val_accuracy: 0.1556\n",
      "Epoch 24/150\n",
      "138/138 [==============================] - ETA: 0s - loss: 0.0112 - accuracy: 0.2602\n",
      "Epoch 00024: ReduceLROnPlateau reducing learning rate to 1.0000000656873453e-06.\n",
      "138/138 [==============================] - 27s 195ms/step - loss: 0.0112 - accuracy: 0.2602 - val_loss: 0.0168 - val_accuracy: 0.1540\n",
      "Epoch 25/150\n",
      "138/138 [==============================] - 26s 189ms/step - loss: 0.0111 - accuracy: 0.2624 - val_loss: 0.0168 - val_accuracy: 0.1540\n",
      "Epoch 26/150\n",
      "138/138 [==============================] - 27s 197ms/step - loss: 0.0112 - accuracy: 0.2628 - val_loss: 0.0168 - val_accuracy: 0.1542\n",
      "Epoch 27/150\n",
      "138/138 [==============================] - ETA: 0s - loss: 0.0112 - accuracy: 0.2636\n",
      "Epoch 00027: ReduceLROnPlateau reducing learning rate to 1.0000001111620805e-07.\n",
      "138/138 [==============================] - 21s 154ms/step - loss: 0.0112 - accuracy: 0.2636 - val_loss: 0.0168 - val_accuracy: 0.1540\n",
      "Epoch 28/150\n",
      "138/138 [==============================] - 21s 153ms/step - loss: 0.0112 - accuracy: 0.2647 - val_loss: 0.0168 - val_accuracy: 0.1538\n",
      "Epoch 29/150\n",
      "138/138 [==============================] - ETA: 0s - loss: 0.0112 - accuracy: 0.2590Restoring model weights from the end of the best epoch.\n",
      "138/138 [==============================] - 21s 156ms/step - loss: 0.0112 - accuracy: 0.2590 - val_loss: 0.0168 - val_accuracy: 0.1542\n",
      "Epoch 00029: early stopping\n"
     ]
    },
    {
     "data": {
      "text/html": [
       "<span style=\"color:#4527A0\"><h1 style=\"font-size:18px\">Trial complete</h1></span>"
      ],
      "text/plain": [
       "<IPython.core.display.HTML object>"
      ]
     },
     "metadata": {},
     "output_type": "display_data"
    },
    {
     "data": {
      "text/html": [
       "<span style=\"color:#4527A0\"><h1 style=\"font-size:18px\">Trial summary</h1></span>"
      ],
      "text/plain": [
       "<IPython.core.display.HTML object>"
      ]
     },
     "metadata": {},
     "output_type": "display_data"
    },
    {
     "data": {
      "text/html": [
       "<span style=\"color:cyan\"> |-Trial ID: c9131d83e30d44a6444818a1bd359521</span>"
      ],
      "text/plain": [
       "<IPython.core.display.HTML object>"
      ]
     },
     "metadata": {},
     "output_type": "display_data"
    },
    {
     "data": {
      "text/html": [
       "<span style=\"color:cyan\"> |-Score: 0.016666119918227196</span>"
      ],
      "text/plain": [
       "<IPython.core.display.HTML object>"
      ]
     },
     "metadata": {},
     "output_type": "display_data"
    },
    {
     "data": {
      "text/html": [
       "<span style=\"color:cyan\"> |-Best step: 0</span>"
      ],
      "text/plain": [
       "<IPython.core.display.HTML object>"
      ]
     },
     "metadata": {},
     "output_type": "display_data"
    },
    {
     "data": {
      "text/html": [
       "<span style=\"color:#7E57C2\"><h2 style=\"font-size:16px\">Hyperparameters:</h2></span>"
      ],
      "text/plain": [
       "<IPython.core.display.HTML object>"
      ]
     },
     "metadata": {},
     "output_type": "display_data"
    },
    {
     "data": {
      "text/html": [
       "<span style=\"color:cyan\"> |-Dropout_0: 0.68</span>"
      ],
      "text/plain": [
       "<IPython.core.display.HTML object>"
      ]
     },
     "metadata": {},
     "output_type": "display_data"
    },
    {
     "data": {
      "text/html": [
       "<span style=\"color:blue\"> |-Dropout_1: 0.3</span>"
      ],
      "text/plain": [
       "<IPython.core.display.HTML object>"
      ]
     },
     "metadata": {},
     "output_type": "display_data"
    },
    {
     "data": {
      "text/html": [
       "<span style=\"color:cyan\"> |-Dropout_2: 0.2</span>"
      ],
      "text/plain": [
       "<IPython.core.display.HTML object>"
      ]
     },
     "metadata": {},
     "output_type": "display_data"
    },
    {
     "data": {
      "text/html": [
       "<span style=\"color:blue\"> |-Dropout_3: 0.52</span>"
      ],
      "text/plain": [
       "<IPython.core.display.HTML object>"
      ]
     },
     "metadata": {},
     "output_type": "display_data"
    },
    {
     "data": {
      "text/html": [
       "<span style=\"color:cyan\"> |-Dropout_4: 0.0</span>"
      ],
      "text/plain": [
       "<IPython.core.display.HTML object>"
      ]
     },
     "metadata": {},
     "output_type": "display_data"
    },
    {
     "data": {
      "text/html": [
       "<span style=\"color:blue\"> |-Dropout_5: 0.54</span>"
      ],
      "text/plain": [
       "<IPython.core.display.HTML object>"
      ]
     },
     "metadata": {},
     "output_type": "display_data"
    },
    {
     "data": {
      "text/html": [
       "<span style=\"color:cyan\"> |-N_Layers: 5</span>"
      ],
      "text/plain": [
       "<IPython.core.display.HTML object>"
      ]
     },
     "metadata": {},
     "output_type": "display_data"
    },
    {
     "data": {
      "text/html": [
       "<span style=\"color:blue\"> |-activation2_0: elu</span>"
      ],
      "text/plain": [
       "<IPython.core.display.HTML object>"
      ]
     },
     "metadata": {},
     "output_type": "display_data"
    },
    {
     "data": {
      "text/html": [
       "<span style=\"color:cyan\"> |-activation2_1: elu</span>"
      ],
      "text/plain": [
       "<IPython.core.display.HTML object>"
      ]
     },
     "metadata": {},
     "output_type": "display_data"
    },
    {
     "data": {
      "text/html": [
       "<span style=\"color:blue\"> |-activation2_2: selu</span>"
      ],
      "text/plain": [
       "<IPython.core.display.HTML object>"
      ]
     },
     "metadata": {},
     "output_type": "display_data"
    },
    {
     "data": {
      "text/html": [
       "<span style=\"color:cyan\"> |-activation2_3: selu</span>"
      ],
      "text/plain": [
       "<IPython.core.display.HTML object>"
      ]
     },
     "metadata": {},
     "output_type": "display_data"
    },
    {
     "data": {
      "text/html": [
       "<span style=\"color:blue\"> |-activation2_4: elu</span>"
      ],
      "text/plain": [
       "<IPython.core.display.HTML object>"
      ]
     },
     "metadata": {},
     "output_type": "display_data"
    },
    {
     "data": {
      "text/html": [
       "<span style=\"color:cyan\"> |-activation2_5: swish</span>"
      ],
      "text/plain": [
       "<IPython.core.display.HTML object>"
      ]
     },
     "metadata": {},
     "output_type": "display_data"
    },
    {
     "data": {
      "text/html": [
       "<span style=\"color:blue\"> |-number_of_neurons2_0: 1860</span>"
      ],
      "text/plain": [
       "<IPython.core.display.HTML object>"
      ]
     },
     "metadata": {},
     "output_type": "display_data"
    },
    {
     "data": {
      "text/html": [
       "<span style=\"color:cyan\"> |-number_of_neurons2_1: 1693</span>"
      ],
      "text/plain": [
       "<IPython.core.display.HTML object>"
      ]
     },
     "metadata": {},
     "output_type": "display_data"
    },
    {
     "data": {
      "text/html": [
       "<span style=\"color:blue\"> |-number_of_neurons2_2: 858</span>"
      ],
      "text/plain": [
       "<IPython.core.display.HTML object>"
      ]
     },
     "metadata": {},
     "output_type": "display_data"
    },
    {
     "data": {
      "text/html": [
       "<span style=\"color:cyan\"> |-number_of_neurons2_3: 1851</span>"
      ],
      "text/plain": [
       "<IPython.core.display.HTML object>"
      ]
     },
     "metadata": {},
     "output_type": "display_data"
    },
    {
     "data": {
      "text/html": [
       "<span style=\"color:blue\"> |-number_of_neurons2_4: 1819</span>"
      ],
      "text/plain": [
       "<IPython.core.display.HTML object>"
      ]
     },
     "metadata": {},
     "output_type": "display_data"
    },
    {
     "data": {
      "text/html": [
       "<span style=\"color:cyan\"> |-number_of_neurons2_5: 1634</span>"
      ],
      "text/plain": [
       "<IPython.core.display.HTML object>"
      ]
     },
     "metadata": {},
     "output_type": "display_data"
    },
    {
     "name": "stdout",
     "output_type": "stream",
     "text": [
      "SEED:58 Fold:2\n",
      "Epoch 1/150\n",
      "138/138 [==============================] - 9s 67ms/step - loss: 0.2936 - accuracy: 0.0237 - val_loss: 0.0299 - val_accuracy: 0.0342\n",
      "Epoch 2/150\n",
      "138/138 [==============================] - 9s 64ms/step - loss: 0.0230 - accuracy: 0.0659 - val_loss: 0.0204 - val_accuracy: 0.1000\n",
      "Epoch 3/150\n",
      "138/138 [==============================] - 9s 64ms/step - loss: 0.0189 - accuracy: 0.1092 - val_loss: 0.0182 - val_accuracy: 0.1151\n",
      "Epoch 4/150\n",
      "138/138 [==============================] - 9s 66ms/step - loss: 0.0175 - accuracy: 0.1320 - val_loss: 0.0174 - val_accuracy: 0.1237\n",
      "Epoch 5/150\n",
      "138/138 [==============================] - 9s 66ms/step - loss: 0.0164 - accuracy: 0.1548 - val_loss: 0.0170 - val_accuracy: 0.1328\n",
      "Epoch 6/150\n",
      "138/138 [==============================] - 9s 66ms/step - loss: 0.0154 - accuracy: 0.1771 - val_loss: 0.0176 - val_accuracy: 0.1342\n",
      "Epoch 7/150\n",
      "138/138 [==============================] - 9s 64ms/step - loss: 0.0144 - accuracy: 0.2014 - val_loss: 0.0171 - val_accuracy: 0.1479\n",
      "Epoch 8/150\n",
      "137/138 [============================>.] - ETA: 0s - loss: 0.0135 - accuracy: 0.2211\n",
      "Epoch 00008: ReduceLROnPlateau reducing learning rate to 0.00010000000474974513.\n",
      "138/138 [==============================] - 9s 66ms/step - loss: 0.0135 - accuracy: 0.2211 - val_loss: 0.0174 - val_accuracy: 0.1460\n",
      "Epoch 9/150\n",
      "138/138 [==============================] - 9s 64ms/step - loss: 0.0108 - accuracy: 0.3057 - val_loss: 0.0168 - val_accuracy: 0.1572\n",
      "Epoch 10/150\n",
      "138/138 [==============================] - 9s 63ms/step - loss: 0.0099 - accuracy: 0.3334 - val_loss: 0.0169 - val_accuracy: 0.1654\n",
      "Epoch 11/150\n",
      "138/138 [==============================] - 9s 67ms/step - loss: 0.0093 - accuracy: 0.3542 - val_loss: 0.0171 - val_accuracy: 0.1652\n",
      "Epoch 12/150\n",
      "137/138 [============================>.] - ETA: 0s - loss: 0.0088 - accuracy: 0.3765\n",
      "Epoch 00012: ReduceLROnPlateau reducing learning rate to 1.0000000474974514e-05.\n",
      "138/138 [==============================] - 10s 72ms/step - loss: 0.0088 - accuracy: 0.3765 - val_loss: 0.0173 - val_accuracy: 0.1609\n",
      "Epoch 13/150\n",
      "138/138 [==============================] - 9s 64ms/step - loss: 0.0081 - accuracy: 0.4049 - val_loss: 0.0174 - val_accuracy: 0.1604\n",
      "Epoch 14/150\n",
      "138/138 [==============================] - 9s 64ms/step - loss: 0.0081 - accuracy: 0.4063 - val_loss: 0.0174 - val_accuracy: 0.1590\n",
      "Epoch 15/150\n",
      "137/138 [============================>.] - ETA: 0s - loss: 0.0080 - accuracy: 0.4108\n",
      "Epoch 00015: ReduceLROnPlateau reducing learning rate to 1.0000000656873453e-06.\n",
      "138/138 [==============================] - 9s 65ms/step - loss: 0.0080 - accuracy: 0.4106 - val_loss: 0.0175 - val_accuracy: 0.1593\n",
      "Epoch 16/150\n",
      "138/138 [==============================] - 9s 64ms/step - loss: 0.0079 - accuracy: 0.4153 - val_loss: 0.0175 - val_accuracy: 0.1595\n",
      "Epoch 17/150\n",
      "138/138 [==============================] - 9s 63ms/step - loss: 0.0079 - accuracy: 0.4116 - val_loss: 0.0175 - val_accuracy: 0.1599\n",
      "Epoch 18/150\n",
      "137/138 [============================>.] - ETA: 0s - loss: 0.0079 - accuracy: 0.4139\n",
      "Epoch 00018: ReduceLROnPlateau reducing learning rate to 1.0000001111620805e-07.\n",
      "138/138 [==============================] - 9s 65ms/step - loss: 0.0079 - accuracy: 0.4140 - val_loss: 0.0175 - val_accuracy: 0.1595\n",
      "Epoch 19/150\n",
      "137/138 [============================>.] - ETA: 0s - loss: 0.0079 - accuracy: 0.4149Restoring model weights from the end of the best epoch.\n",
      "138/138 [==============================] - 9s 68ms/step - loss: 0.0079 - accuracy: 0.4147 - val_loss: 0.0175 - val_accuracy: 0.1595\n",
      "Epoch 00019: early stopping\n"
     ]
    },
    {
     "data": {
      "text/html": [
       "<span style=\"color:#4527A0\"><h1 style=\"font-size:18px\">Trial complete</h1></span>"
      ],
      "text/plain": [
       "<IPython.core.display.HTML object>"
      ]
     },
     "metadata": {},
     "output_type": "display_data"
    },
    {
     "data": {
      "text/html": [
       "<span style=\"color:#4527A0\"><h1 style=\"font-size:18px\">Trial summary</h1></span>"
      ],
      "text/plain": [
       "<IPython.core.display.HTML object>"
      ]
     },
     "metadata": {},
     "output_type": "display_data"
    },
    {
     "data": {
      "text/html": [
       "<span style=\"color:cyan\"> |-Trial ID: 6de32b4e09960c7b821d9c1ce91fecd7</span>"
      ],
      "text/plain": [
       "<IPython.core.display.HTML object>"
      ]
     },
     "metadata": {},
     "output_type": "display_data"
    },
    {
     "data": {
      "text/html": [
       "<span style=\"color:cyan\"> |-Score: 0.01675926335155964</span>"
      ],
      "text/plain": [
       "<IPython.core.display.HTML object>"
      ]
     },
     "metadata": {},
     "output_type": "display_data"
    },
    {
     "data": {
      "text/html": [
       "<span style=\"color:cyan\"> |-Best step: 0</span>"
      ],
      "text/plain": [
       "<IPython.core.display.HTML object>"
      ]
     },
     "metadata": {},
     "output_type": "display_data"
    },
    {
     "data": {
      "text/html": [
       "<span style=\"color:#7E57C2\"><h2 style=\"font-size:16px\">Hyperparameters:</h2></span>"
      ],
      "text/plain": [
       "<IPython.core.display.HTML object>"
      ]
     },
     "metadata": {},
     "output_type": "display_data"
    },
    {
     "data": {
      "text/html": [
       "<span style=\"color:cyan\"> |-Dropout_0: 0.02</span>"
      ],
      "text/plain": [
       "<IPython.core.display.HTML object>"
      ]
     },
     "metadata": {},
     "output_type": "display_data"
    },
    {
     "data": {
      "text/html": [
       "<span style=\"color:blue\"> |-Dropout_1: 0.34</span>"
      ],
      "text/plain": [
       "<IPython.core.display.HTML object>"
      ]
     },
     "metadata": {},
     "output_type": "display_data"
    },
    {
     "data": {
      "text/html": [
       "<span style=\"color:cyan\"> |-Dropout_2: 0.0</span>"
      ],
      "text/plain": [
       "<IPython.core.display.HTML object>"
      ]
     },
     "metadata": {},
     "output_type": "display_data"
    },
    {
     "data": {
      "text/html": [
       "<span style=\"color:blue\"> |-Dropout_3: 0.0</span>"
      ],
      "text/plain": [
       "<IPython.core.display.HTML object>"
      ]
     },
     "metadata": {},
     "output_type": "display_data"
    },
    {
     "data": {
      "text/html": [
       "<span style=\"color:cyan\"> |-Dropout_4: 0.0</span>"
      ],
      "text/plain": [
       "<IPython.core.display.HTML object>"
      ]
     },
     "metadata": {},
     "output_type": "display_data"
    },
    {
     "data": {
      "text/html": [
       "<span style=\"color:blue\"> |-N_Layers: 5</span>"
      ],
      "text/plain": [
       "<IPython.core.display.HTML object>"
      ]
     },
     "metadata": {},
     "output_type": "display_data"
    },
    {
     "data": {
      "text/html": [
       "<span style=\"color:cyan\"> |-activation2_0: elu</span>"
      ],
      "text/plain": [
       "<IPython.core.display.HTML object>"
      ]
     },
     "metadata": {},
     "output_type": "display_data"
    },
    {
     "data": {
      "text/html": [
       "<span style=\"color:blue\"> |-activation2_1: selu</span>"
      ],
      "text/plain": [
       "<IPython.core.display.HTML object>"
      ]
     },
     "metadata": {},
     "output_type": "display_data"
    },
    {
     "data": {
      "text/html": [
       "<span style=\"color:cyan\"> |-activation2_2: elu</span>"
      ],
      "text/plain": [
       "<IPython.core.display.HTML object>"
      ]
     },
     "metadata": {},
     "output_type": "display_data"
    },
    {
     "data": {
      "text/html": [
       "<span style=\"color:blue\"> |-activation2_3: elu</span>"
      ],
      "text/plain": [
       "<IPython.core.display.HTML object>"
      ]
     },
     "metadata": {},
     "output_type": "display_data"
    },
    {
     "data": {
      "text/html": [
       "<span style=\"color:cyan\"> |-activation2_4: elu</span>"
      ],
      "text/plain": [
       "<IPython.core.display.HTML object>"
      ]
     },
     "metadata": {},
     "output_type": "display_data"
    },
    {
     "data": {
      "text/html": [
       "<span style=\"color:blue\"> |-number_of_neurons2_0: 2011</span>"
      ],
      "text/plain": [
       "<IPython.core.display.HTML object>"
      ]
     },
     "metadata": {},
     "output_type": "display_data"
    },
    {
     "data": {
      "text/html": [
       "<span style=\"color:cyan\"> |-number_of_neurons2_1: 531</span>"
      ],
      "text/plain": [
       "<IPython.core.display.HTML object>"
      ]
     },
     "metadata": {},
     "output_type": "display_data"
    },
    {
     "data": {
      "text/html": [
       "<span style=\"color:blue\"> |-number_of_neurons2_2: 512</span>"
      ],
      "text/plain": [
       "<IPython.core.display.HTML object>"
      ]
     },
     "metadata": {},
     "output_type": "display_data"
    },
    {
     "data": {
      "text/html": [
       "<span style=\"color:cyan\"> |-number_of_neurons2_3: 512</span>"
      ],
      "text/plain": [
       "<IPython.core.display.HTML object>"
      ]
     },
     "metadata": {},
     "output_type": "display_data"
    },
    {
     "data": {
      "text/html": [
       "<span style=\"color:blue\"> |-number_of_neurons2_4: 512</span>"
      ],
      "text/plain": [
       "<IPython.core.display.HTML object>"
      ]
     },
     "metadata": {},
     "output_type": "display_data"
    },
    {
     "name": "stdout",
     "output_type": "stream",
     "text": [
      "Epoch 1/150\n",
      "138/138 [==============================] - 22s 163ms/step - loss: 0.2960 - accuracy: 0.0268 - val_loss: 0.0338 - val_accuracy: 0.0205\n",
      "Epoch 2/150\n",
      "138/138 [==============================] - 23s 163ms/step - loss: 0.0236 - accuracy: 0.0461 - val_loss: 0.0213 - val_accuracy: 0.0608\n",
      "Epoch 3/150\n",
      "138/138 [==============================] - 23s 170ms/step - loss: 0.0199 - accuracy: 0.0841 - val_loss: 0.0190 - val_accuracy: 0.1230\n",
      "Epoch 4/150\n",
      "138/138 [==============================] - 22s 162ms/step - loss: 0.0186 - accuracy: 0.1117 - val_loss: 0.0179 - val_accuracy: 0.1123\n",
      "Epoch 5/150\n",
      "138/138 [==============================] - 23s 163ms/step - loss: 0.0178 - accuracy: 0.1219 - val_loss: 0.0177 - val_accuracy: 0.1176\n",
      "Epoch 6/150\n",
      "138/138 [==============================] - 22s 162ms/step - loss: 0.0172 - accuracy: 0.1329 - val_loss: 0.0177 - val_accuracy: 0.1226\n",
      "Epoch 7/150\n",
      "138/138 [==============================] - 22s 161ms/step - loss: 0.0167 - accuracy: 0.1405 - val_loss: 0.0177 - val_accuracy: 0.1431\n",
      "Epoch 8/150\n",
      "138/138 [==============================] - 23s 167ms/step - loss: 0.0162 - accuracy: 0.1531 - val_loss: 0.0174 - val_accuracy: 0.1344\n",
      "Epoch 9/150\n",
      "138/138 [==============================] - 22s 157ms/step - loss: 0.0158 - accuracy: 0.1635 - val_loss: 0.0174 - val_accuracy: 0.1299\n",
      "Epoch 10/150\n",
      "138/138 [==============================] - 22s 163ms/step - loss: 0.0154 - accuracy: 0.1672 - val_loss: 0.0172 - val_accuracy: 0.1460\n",
      "Epoch 11/150\n",
      "138/138 [==============================] - 24s 172ms/step - loss: 0.0150 - accuracy: 0.1760 - val_loss: 0.0172 - val_accuracy: 0.1374\n",
      "Epoch 12/150\n",
      "138/138 [==============================] - 22s 158ms/step - loss: 0.0146 - accuracy: 0.1844 - val_loss: 0.0173 - val_accuracy: 0.1410\n",
      "Epoch 13/150\n",
      "138/138 [==============================] - ETA: 0s - loss: 0.0142 - accuracy: 0.1901\n",
      "Epoch 00013: ReduceLROnPlateau reducing learning rate to 0.00010000000474974513.\n",
      "138/138 [==============================] - 23s 164ms/step - loss: 0.0142 - accuracy: 0.1901 - val_loss: 0.0172 - val_accuracy: 0.1442\n",
      "Epoch 14/150\n",
      "138/138 [==============================] - 22s 163ms/step - loss: 0.0130 - accuracy: 0.2164 - val_loss: 0.0165 - val_accuracy: 0.1470\n",
      "Epoch 15/150\n",
      "138/138 [==============================] - 22s 161ms/step - loss: 0.0126 - accuracy: 0.2284 - val_loss: 0.0165 - val_accuracy: 0.1520\n",
      "Epoch 16/150\n",
      "138/138 [==============================] - 23s 168ms/step - loss: 0.0124 - accuracy: 0.2310 - val_loss: 0.0165 - val_accuracy: 0.1540\n",
      "Epoch 17/150\n",
      "138/138 [==============================] - ETA: 0s - loss: 0.0122 - accuracy: 0.2333\n",
      "Epoch 00017: ReduceLROnPlateau reducing learning rate to 1.0000000474974514e-05.\n",
      "138/138 [==============================] - 22s 159ms/step - loss: 0.0122 - accuracy: 0.2333 - val_loss: 0.0166 - val_accuracy: 0.1540\n",
      "Epoch 18/150\n",
      "138/138 [==============================] - 22s 158ms/step - loss: 0.0120 - accuracy: 0.2426 - val_loss: 0.0166 - val_accuracy: 0.1529\n",
      "Epoch 19/150\n",
      "138/138 [==============================] - 22s 163ms/step - loss: 0.0120 - accuracy: 0.2410 - val_loss: 0.0166 - val_accuracy: 0.1531\n",
      "Epoch 20/150\n",
      "138/138 [==============================] - ETA: 0s - loss: 0.0120 - accuracy: 0.2426\n",
      "Epoch 00020: ReduceLROnPlateau reducing learning rate to 1.0000000656873453e-06.\n",
      "138/138 [==============================] - 22s 160ms/step - loss: 0.0120 - accuracy: 0.2426 - val_loss: 0.0166 - val_accuracy: 0.1533\n",
      "Epoch 21/150\n",
      "138/138 [==============================] - 22s 161ms/step - loss: 0.0119 - accuracy: 0.2448 - val_loss: 0.0166 - val_accuracy: 0.1531\n",
      "Epoch 22/150\n",
      "138/138 [==============================] - 22s 159ms/step - loss: 0.0119 - accuracy: 0.2437 - val_loss: 0.0166 - val_accuracy: 0.1527\n",
      "Epoch 23/150\n",
      "138/138 [==============================] - ETA: 0s - loss: 0.0119 - accuracy: 0.2463\n",
      "Epoch 00023: ReduceLROnPlateau reducing learning rate to 1.0000001111620805e-07.\n",
      "138/138 [==============================] - 22s 159ms/step - loss: 0.0119 - accuracy: 0.2463 - val_loss: 0.0167 - val_accuracy: 0.1531\n",
      "Epoch 24/150\n",
      "138/138 [==============================] - ETA: 0s - loss: 0.0119 - accuracy: 0.2445Restoring model weights from the end of the best epoch.\n",
      "138/138 [==============================] - 22s 163ms/step - loss: 0.0119 - accuracy: 0.2445 - val_loss: 0.0167 - val_accuracy: 0.1531\n",
      "Epoch 00024: early stopping\n"
     ]
    },
    {
     "data": {
      "text/html": [
       "<span style=\"color:#4527A0\"><h1 style=\"font-size:18px\">Trial complete</h1></span>"
      ],
      "text/plain": [
       "<IPython.core.display.HTML object>"
      ]
     },
     "metadata": {},
     "output_type": "display_data"
    },
    {
     "data": {
      "text/html": [
       "<span style=\"color:#4527A0\"><h1 style=\"font-size:18px\">Trial summary</h1></span>"
      ],
      "text/plain": [
       "<IPython.core.display.HTML object>"
      ]
     },
     "metadata": {},
     "output_type": "display_data"
    },
    {
     "data": {
      "text/html": [
       "<span style=\"color:cyan\"> |-Trial ID: 885441da39e2a03eb10fcb9279071088</span>"
      ],
      "text/plain": [
       "<IPython.core.display.HTML object>"
      ]
     },
     "metadata": {},
     "output_type": "display_data"
    },
    {
     "data": {
      "text/html": [
       "<span style=\"color:cyan\"> |-Score: 0.016452645882964134</span>"
      ],
      "text/plain": [
       "<IPython.core.display.HTML object>"
      ]
     },
     "metadata": {},
     "output_type": "display_data"
    },
    {
     "data": {
      "text/html": [
       "<span style=\"color:cyan\"> |-Best step: 0</span>"
      ],
      "text/plain": [
       "<IPython.core.display.HTML object>"
      ]
     },
     "metadata": {},
     "output_type": "display_data"
    },
    {
     "data": {
      "text/html": [
       "<span style=\"color:#7E57C2\"><h2 style=\"font-size:16px\">Hyperparameters:</h2></span>"
      ],
      "text/plain": [
       "<IPython.core.display.HTML object>"
      ]
     },
     "metadata": {},
     "output_type": "display_data"
    },
    {
     "data": {
      "text/html": [
       "<span style=\"color:cyan\"> |-Dropout_0: 0.47000000000000003</span>"
      ],
      "text/plain": [
       "<IPython.core.display.HTML object>"
      ]
     },
     "metadata": {},
     "output_type": "display_data"
    },
    {
     "data": {
      "text/html": [
       "<span style=\"color:blue\"> |-Dropout_1: 0.56</span>"
      ],
      "text/plain": [
       "<IPython.core.display.HTML object>"
      ]
     },
     "metadata": {},
     "output_type": "display_data"
    },
    {
     "data": {
      "text/html": [
       "<span style=\"color:cyan\"> |-Dropout_2: 0.01</span>"
      ],
      "text/plain": [
       "<IPython.core.display.HTML object>"
      ]
     },
     "metadata": {},
     "output_type": "display_data"
    },
    {
     "data": {
      "text/html": [
       "<span style=\"color:blue\"> |-Dropout_3: 0.25</span>"
      ],
      "text/plain": [
       "<IPython.core.display.HTML object>"
      ]
     },
     "metadata": {},
     "output_type": "display_data"
    },
    {
     "data": {
      "text/html": [
       "<span style=\"color:cyan\"> |-Dropout_4: 0.04</span>"
      ],
      "text/plain": [
       "<IPython.core.display.HTML object>"
      ]
     },
     "metadata": {},
     "output_type": "display_data"
    },
    {
     "data": {
      "text/html": [
       "<span style=\"color:blue\"> |-Dropout_5: 0.0</span>"
      ],
      "text/plain": [
       "<IPython.core.display.HTML object>"
      ]
     },
     "metadata": {},
     "output_type": "display_data"
    },
    {
     "data": {
      "text/html": [
       "<span style=\"color:cyan\"> |-N_Layers: 6</span>"
      ],
      "text/plain": [
       "<IPython.core.display.HTML object>"
      ]
     },
     "metadata": {},
     "output_type": "display_data"
    },
    {
     "data": {
      "text/html": [
       "<span style=\"color:blue\"> |-activation2_0: selu</span>"
      ],
      "text/plain": [
       "<IPython.core.display.HTML object>"
      ]
     },
     "metadata": {},
     "output_type": "display_data"
    },
    {
     "data": {
      "text/html": [
       "<span style=\"color:cyan\"> |-activation2_1: selu</span>"
      ],
      "text/plain": [
       "<IPython.core.display.HTML object>"
      ]
     },
     "metadata": {},
     "output_type": "display_data"
    },
    {
     "data": {
      "text/html": [
       "<span style=\"color:blue\"> |-activation2_2: selu</span>"
      ],
      "text/plain": [
       "<IPython.core.display.HTML object>"
      ]
     },
     "metadata": {},
     "output_type": "display_data"
    },
    {
     "data": {
      "text/html": [
       "<span style=\"color:cyan\"> |-activation2_3: selu</span>"
      ],
      "text/plain": [
       "<IPython.core.display.HTML object>"
      ]
     },
     "metadata": {},
     "output_type": "display_data"
    },
    {
     "data": {
      "text/html": [
       "<span style=\"color:blue\"> |-activation2_4: elu</span>"
      ],
      "text/plain": [
       "<IPython.core.display.HTML object>"
      ]
     },
     "metadata": {},
     "output_type": "display_data"
    },
    {
     "data": {
      "text/html": [
       "<span style=\"color:cyan\"> |-activation2_5: elu</span>"
      ],
      "text/plain": [
       "<IPython.core.display.HTML object>"
      ]
     },
     "metadata": {},
     "output_type": "display_data"
    },
    {
     "data": {
      "text/html": [
       "<span style=\"color:blue\"> |-number_of_neurons2_0: 1858</span>"
      ],
      "text/plain": [
       "<IPython.core.display.HTML object>"
      ]
     },
     "metadata": {},
     "output_type": "display_data"
    },
    {
     "data": {
      "text/html": [
       "<span style=\"color:cyan\"> |-number_of_neurons2_1: 1412</span>"
      ],
      "text/plain": [
       "<IPython.core.display.HTML object>"
      ]
     },
     "metadata": {},
     "output_type": "display_data"
    },
    {
     "data": {
      "text/html": [
       "<span style=\"color:blue\"> |-number_of_neurons2_2: 1996</span>"
      ],
      "text/plain": [
       "<IPython.core.display.HTML object>"
      ]
     },
     "metadata": {},
     "output_type": "display_data"
    },
    {
     "data": {
      "text/html": [
       "<span style=\"color:cyan\"> |-number_of_neurons2_3: 1633</span>"
      ],
      "text/plain": [
       "<IPython.core.display.HTML object>"
      ]
     },
     "metadata": {},
     "output_type": "display_data"
    },
    {
     "data": {
      "text/html": [
       "<span style=\"color:blue\"> |-number_of_neurons2_4: 755</span>"
      ],
      "text/plain": [
       "<IPython.core.display.HTML object>"
      ]
     },
     "metadata": {},
     "output_type": "display_data"
    },
    {
     "data": {
      "text/html": [
       "<span style=\"color:cyan\"> |-number_of_neurons2_5: 512</span>"
      ],
      "text/plain": [
       "<IPython.core.display.HTML object>"
      ]
     },
     "metadata": {},
     "output_type": "display_data"
    },
    {
     "name": "stdout",
     "output_type": "stream",
     "text": [
      "Epoch 1/150\n",
      "138/138 [==============================] - 15s 111ms/step - loss: 0.3621 - accuracy: 0.0167 - val_loss: 0.0397 - val_accuracy: 0.0494\n",
      "Epoch 2/150\n",
      "138/138 [==============================] - 15s 111ms/step - loss: 0.0297 - accuracy: 0.0390 - val_loss: 0.0230 - val_accuracy: 0.0399\n",
      "Epoch 3/150\n",
      "138/138 [==============================] - 15s 111ms/step - loss: 0.0235 - accuracy: 0.0506 - val_loss: 0.0205 - val_accuracy: 0.0766\n",
      "Epoch 4/150\n",
      "138/138 [==============================] - 15s 111ms/step - loss: 0.0218 - accuracy: 0.0570 - val_loss: 0.0197 - val_accuracy: 0.0704\n",
      "Epoch 5/150\n",
      "138/138 [==============================] - 15s 110ms/step - loss: 0.0209 - accuracy: 0.0721 - val_loss: 0.0192 - val_accuracy: 0.0804\n",
      "Epoch 6/150\n",
      "138/138 [==============================] - 15s 108ms/step - loss: 0.0202 - accuracy: 0.0818 - val_loss: 0.0188 - val_accuracy: 0.0905\n",
      "Epoch 7/150\n",
      "138/138 [==============================] - 16s 114ms/step - loss: 0.0198 - accuracy: 0.0921 - val_loss: 0.0184 - val_accuracy: 0.0911\n",
      "Epoch 8/150\n",
      "138/138 [==============================] - 16s 114ms/step - loss: 0.0194 - accuracy: 0.0977 - val_loss: 0.0182 - val_accuracy: 0.0975\n",
      "Epoch 9/150\n",
      "138/138 [==============================] - 15s 111ms/step - loss: 0.0190 - accuracy: 0.1027 - val_loss: 0.0181 - val_accuracy: 0.1107\n",
      "Epoch 10/150\n",
      "138/138 [==============================] - 15s 108ms/step - loss: 0.0185 - accuracy: 0.1115 - val_loss: 0.0179 - val_accuracy: 0.1003\n",
      "Epoch 11/150\n",
      "138/138 [==============================] - 18s 130ms/step - loss: 0.0181 - accuracy: 0.1179 - val_loss: 0.0176 - val_accuracy: 0.1053\n",
      "Epoch 12/150\n",
      "138/138 [==============================] - 18s 131ms/step - loss: 0.0178 - accuracy: 0.1216 - val_loss: 0.0175 - val_accuracy: 0.1078\n",
      "Epoch 13/150\n",
      "138/138 [==============================] - 19s 135ms/step - loss: 0.0174 - accuracy: 0.1257 - val_loss: 0.0174 - val_accuracy: 0.1121\n",
      "Epoch 14/150\n",
      "138/138 [==============================] - 19s 137ms/step - loss: 0.0170 - accuracy: 0.1329 - val_loss: 0.0173 - val_accuracy: 0.1126\n",
      "Epoch 15/150\n",
      "138/138 [==============================] - 19s 135ms/step - loss: 0.0168 - accuracy: 0.1404 - val_loss: 0.0173 - val_accuracy: 0.1151\n",
      "Epoch 16/150\n",
      "138/138 [==============================] - 19s 135ms/step - loss: 0.0163 - accuracy: 0.1470 - val_loss: 0.0172 - val_accuracy: 0.1192\n",
      "Epoch 17/150\n",
      "138/138 [==============================] - 18s 134ms/step - loss: 0.0160 - accuracy: 0.1537 - val_loss: 0.0172 - val_accuracy: 0.1212\n",
      "Epoch 18/150\n",
      "138/138 [==============================] - 19s 136ms/step - loss: 0.0154 - accuracy: 0.1686 - val_loss: 0.0173 - val_accuracy: 0.1224\n",
      "Epoch 19/150\n",
      "138/138 [==============================] - 18s 131ms/step - loss: 0.0152 - accuracy: 0.1783 - val_loss: 0.0175 - val_accuracy: 0.1221\n",
      "Epoch 20/150\n",
      "138/138 [==============================] - ETA: 0s - loss: 0.0144 - accuracy: 0.1916\n",
      "Epoch 00020: ReduceLROnPlateau reducing learning rate to 0.00010000000474974513.\n",
      "138/138 [==============================] - 19s 135ms/step - loss: 0.0144 - accuracy: 0.1916 - val_loss: 0.0176 - val_accuracy: 0.1219\n",
      "Epoch 21/150\n",
      "138/138 [==============================] - 19s 136ms/step - loss: 0.0134 - accuracy: 0.2172 - val_loss: 0.0175 - val_accuracy: 0.1265\n",
      "Epoch 22/150\n",
      "138/138 [==============================] - 18s 133ms/step - loss: 0.0130 - accuracy: 0.2264 - val_loss: 0.0176 - val_accuracy: 0.1260\n",
      "Epoch 23/150\n",
      "138/138 [==============================] - ETA: 0s - loss: 0.0128 - accuracy: 0.2351\n",
      "Epoch 00023: ReduceLROnPlateau reducing learning rate to 1.0000000474974514e-05.\n",
      "138/138 [==============================] - 18s 130ms/step - loss: 0.0128 - accuracy: 0.2351 - val_loss: 0.0177 - val_accuracy: 0.1230\n",
      "Epoch 24/150\n",
      "138/138 [==============================] - 19s 139ms/step - loss: 0.0126 - accuracy: 0.2356 - val_loss: 0.0177 - val_accuracy: 0.1235\n",
      "Epoch 25/150\n",
      "138/138 [==============================] - 17s 124ms/step - loss: 0.0126 - accuracy: 0.2416 - val_loss: 0.0177 - val_accuracy: 0.1235\n",
      "Epoch 26/150\n",
      "137/138 [============================>.] - ETA: 0s - loss: 0.0125 - accuracy: 0.2385\n",
      "Epoch 00026: ReduceLROnPlateau reducing learning rate to 1.0000000656873453e-06.\n",
      "138/138 [==============================] - 15s 107ms/step - loss: 0.0125 - accuracy: 0.2385 - val_loss: 0.0177 - val_accuracy: 0.1242\n",
      "Epoch 27/150\n",
      "137/138 [============================>.] - ETA: 0s - loss: 0.0125 - accuracy: 0.2429Restoring model weights from the end of the best epoch.\n",
      "138/138 [==============================] - 15s 106ms/step - loss: 0.0125 - accuracy: 0.2427 - val_loss: 0.0177 - val_accuracy: 0.1237\n",
      "Epoch 00027: early stopping\n"
     ]
    },
    {
     "data": {
      "text/html": [
       "<span style=\"color:#4527A0\"><h1 style=\"font-size:18px\">Trial complete</h1></span>"
      ],
      "text/plain": [
       "<IPython.core.display.HTML object>"
      ]
     },
     "metadata": {},
     "output_type": "display_data"
    },
    {
     "data": {
      "text/html": [
       "<span style=\"color:#4527A0\"><h1 style=\"font-size:18px\">Trial summary</h1></span>"
      ],
      "text/plain": [
       "<IPython.core.display.HTML object>"
      ]
     },
     "metadata": {},
     "output_type": "display_data"
    },
    {
     "data": {
      "text/html": [
       "<span style=\"color:cyan\"> |-Trial ID: 1b7e3d3bb171436b09a2623c69db8999</span>"
      ],
      "text/plain": [
       "<IPython.core.display.HTML object>"
      ]
     },
     "metadata": {},
     "output_type": "display_data"
    },
    {
     "data": {
      "text/html": [
       "<span style=\"color:cyan\"> |-Score: 0.0171777606010437</span>"
      ],
      "text/plain": [
       "<IPython.core.display.HTML object>"
      ]
     },
     "metadata": {},
     "output_type": "display_data"
    },
    {
     "data": {
      "text/html": [
       "<span style=\"color:cyan\"> |-Best step: 0</span>"
      ],
      "text/plain": [
       "<IPython.core.display.HTML object>"
      ]
     },
     "metadata": {},
     "output_type": "display_data"
    },
    {
     "data": {
      "text/html": [
       "<span style=\"color:#7E57C2\"><h2 style=\"font-size:16px\">Hyperparameters:</h2></span>"
      ],
      "text/plain": [
       "<IPython.core.display.HTML object>"
      ]
     },
     "metadata": {},
     "output_type": "display_data"
    },
    {
     "data": {
      "text/html": [
       "<span style=\"color:cyan\"> |-Dropout_0: 0.17</span>"
      ],
      "text/plain": [
       "<IPython.core.display.HTML object>"
      ]
     },
     "metadata": {},
     "output_type": "display_data"
    },
    {
     "data": {
      "text/html": [
       "<span style=\"color:blue\"> |-Dropout_1: 0.51</span>"
      ],
      "text/plain": [
       "<IPython.core.display.HTML object>"
      ]
     },
     "metadata": {},
     "output_type": "display_data"
    },
    {
     "data": {
      "text/html": [
       "<span style=\"color:cyan\"> |-Dropout_2: 0.63</span>"
      ],
      "text/plain": [
       "<IPython.core.display.HTML object>"
      ]
     },
     "metadata": {},
     "output_type": "display_data"
    },
    {
     "data": {
      "text/html": [
       "<span style=\"color:blue\"> |-Dropout_3: 0.6</span>"
      ],
      "text/plain": [
       "<IPython.core.display.HTML object>"
      ]
     },
     "metadata": {},
     "output_type": "display_data"
    },
    {
     "data": {
      "text/html": [
       "<span style=\"color:cyan\"> |-Dropout_4: 0.43</span>"
      ],
      "text/plain": [
       "<IPython.core.display.HTML object>"
      ]
     },
     "metadata": {},
     "output_type": "display_data"
    },
    {
     "data": {
      "text/html": [
       "<span style=\"color:blue\"> |-Dropout_5: 0.55</span>"
      ],
      "text/plain": [
       "<IPython.core.display.HTML object>"
      ]
     },
     "metadata": {},
     "output_type": "display_data"
    },
    {
     "data": {
      "text/html": [
       "<span style=\"color:cyan\"> |-N_Layers: 4</span>"
      ],
      "text/plain": [
       "<IPython.core.display.HTML object>"
      ]
     },
     "metadata": {},
     "output_type": "display_data"
    },
    {
     "data": {
      "text/html": [
       "<span style=\"color:blue\"> |-activation2_0: swish</span>"
      ],
      "text/plain": [
       "<IPython.core.display.HTML object>"
      ]
     },
     "metadata": {},
     "output_type": "display_data"
    },
    {
     "data": {
      "text/html": [
       "<span style=\"color:cyan\"> |-activation2_1: swish</span>"
      ],
      "text/plain": [
       "<IPython.core.display.HTML object>"
      ]
     },
     "metadata": {},
     "output_type": "display_data"
    },
    {
     "data": {
      "text/html": [
       "<span style=\"color:blue\"> |-activation2_2: swish</span>"
      ],
      "text/plain": [
       "<IPython.core.display.HTML object>"
      ]
     },
     "metadata": {},
     "output_type": "display_data"
    },
    {
     "data": {
      "text/html": [
       "<span style=\"color:cyan\"> |-activation2_3: elu</span>"
      ],
      "text/plain": [
       "<IPython.core.display.HTML object>"
      ]
     },
     "metadata": {},
     "output_type": "display_data"
    },
    {
     "data": {
      "text/html": [
       "<span style=\"color:blue\"> |-activation2_4: elu</span>"
      ],
      "text/plain": [
       "<IPython.core.display.HTML object>"
      ]
     },
     "metadata": {},
     "output_type": "display_data"
    },
    {
     "data": {
      "text/html": [
       "<span style=\"color:cyan\"> |-activation2_5: selu</span>"
      ],
      "text/plain": [
       "<IPython.core.display.HTML object>"
      ]
     },
     "metadata": {},
     "output_type": "display_data"
    },
    {
     "data": {
      "text/html": [
       "<span style=\"color:blue\"> |-number_of_neurons2_0: 1515</span>"
      ],
      "text/plain": [
       "<IPython.core.display.HTML object>"
      ]
     },
     "metadata": {},
     "output_type": "display_data"
    },
    {
     "data": {
      "text/html": [
       "<span style=\"color:cyan\"> |-number_of_neurons2_1: 1750</span>"
      ],
      "text/plain": [
       "<IPython.core.display.HTML object>"
      ]
     },
     "metadata": {},
     "output_type": "display_data"
    },
    {
     "data": {
      "text/html": [
       "<span style=\"color:blue\"> |-number_of_neurons2_2: 1549</span>"
      ],
      "text/plain": [
       "<IPython.core.display.HTML object>"
      ]
     },
     "metadata": {},
     "output_type": "display_data"
    },
    {
     "data": {
      "text/html": [
       "<span style=\"color:cyan\"> |-number_of_neurons2_3: 527</span>"
      ],
      "text/plain": [
       "<IPython.core.display.HTML object>"
      ]
     },
     "metadata": {},
     "output_type": "display_data"
    },
    {
     "data": {
      "text/html": [
       "<span style=\"color:blue\"> |-number_of_neurons2_4: 880</span>"
      ],
      "text/plain": [
       "<IPython.core.display.HTML object>"
      ]
     },
     "metadata": {},
     "output_type": "display_data"
    },
    {
     "data": {
      "text/html": [
       "<span style=\"color:cyan\"> |-number_of_neurons2_5: 529</span>"
      ],
      "text/plain": [
       "<IPython.core.display.HTML object>"
      ]
     },
     "metadata": {},
     "output_type": "display_data"
    },
    {
     "name": "stdout",
     "output_type": "stream",
     "text": [
      "Epoch 1/150\n",
      "138/138 [==============================] - 9s 66ms/step - loss: 0.2548 - accuracy: 0.0389 - val_loss: 0.0228 - val_accuracy: 0.0658\n",
      "Epoch 2/150\n",
      "138/138 [==============================] - 9s 63ms/step - loss: 0.0223 - accuracy: 0.0831 - val_loss: 0.0190 - val_accuracy: 0.1046\n",
      "Epoch 3/150\n",
      "138/138 [==============================] - 9s 63ms/step - loss: 0.0198 - accuracy: 0.1082 - val_loss: 0.0178 - val_accuracy: 0.1087\n",
      "Epoch 4/150\n",
      "138/138 [==============================] - 9s 64ms/step - loss: 0.0189 - accuracy: 0.1215 - val_loss: 0.0173 - val_accuracy: 0.1151\n",
      "Epoch 5/150\n",
      "138/138 [==============================] - 9s 63ms/step - loss: 0.0180 - accuracy: 0.1358 - val_loss: 0.0171 - val_accuracy: 0.1267\n",
      "Epoch 6/150\n",
      "138/138 [==============================] - 9s 62ms/step - loss: 0.0173 - accuracy: 0.1448 - val_loss: 0.0168 - val_accuracy: 0.1531\n",
      "Epoch 7/150\n",
      "138/138 [==============================] - 9s 65ms/step - loss: 0.0166 - accuracy: 0.1573 - val_loss: 0.0166 - val_accuracy: 0.1342\n",
      "Epoch 8/150\n",
      "138/138 [==============================] - 9s 66ms/step - loss: 0.0160 - accuracy: 0.1724 - val_loss: 0.0165 - val_accuracy: 0.1417\n",
      "Epoch 9/150\n",
      "138/138 [==============================] - 8s 61ms/step - loss: 0.0156 - accuracy: 0.1797 - val_loss: 0.0166 - val_accuracy: 0.1536\n",
      "Epoch 10/150\n",
      "138/138 [==============================] - 9s 62ms/step - loss: 0.0148 - accuracy: 0.1969 - val_loss: 0.0164 - val_accuracy: 0.1429\n",
      "Epoch 11/150\n",
      "137/138 [============================>.] - ETA: 0s - loss: 0.0142 - accuracy: 0.2122\n",
      "Epoch 00011: ReduceLROnPlateau reducing learning rate to 0.00010000000474974513.\n",
      "138/138 [==============================] - 9s 63ms/step - loss: 0.0142 - accuracy: 0.2122 - val_loss: 0.0167 - val_accuracy: 0.1761\n",
      "Epoch 12/150\n",
      "138/138 [==============================] - 9s 64ms/step - loss: 0.0129 - accuracy: 0.2489 - val_loss: 0.0163 - val_accuracy: 0.1538\n",
      "Epoch 13/150\n",
      "138/138 [==============================] - 9s 62ms/step - loss: 0.0123 - accuracy: 0.2555 - val_loss: 0.0163 - val_accuracy: 0.1542\n",
      "Epoch 14/150\n",
      "138/138 [==============================] - 9s 64ms/step - loss: 0.0120 - accuracy: 0.2647 - val_loss: 0.0163 - val_accuracy: 0.1540\n",
      "Epoch 15/150\n",
      "137/138 [============================>.] - ETA: 0s - loss: 0.0117 - accuracy: 0.2736\n",
      "Epoch 00015: ReduceLROnPlateau reducing learning rate to 1.0000000474974514e-05.\n",
      "138/138 [==============================] - 9s 65ms/step - loss: 0.0117 - accuracy: 0.2734 - val_loss: 0.0163 - val_accuracy: 0.1554\n",
      "Epoch 16/150\n",
      "138/138 [==============================] - 9s 62ms/step - loss: 0.0114 - accuracy: 0.2830 - val_loss: 0.0164 - val_accuracy: 0.1556\n",
      "Epoch 17/150\n",
      "138/138 [==============================] - 9s 62ms/step - loss: 0.0114 - accuracy: 0.2828 - val_loss: 0.0164 - val_accuracy: 0.1556\n",
      "Epoch 18/150\n",
      "137/138 [============================>.] - ETA: 0s - loss: 0.0114 - accuracy: 0.2831\n",
      "Epoch 00018: ReduceLROnPlateau reducing learning rate to 1.0000000656873453e-06.\n",
      "138/138 [==============================] - 9s 62ms/step - loss: 0.0114 - accuracy: 0.2830 - val_loss: 0.0164 - val_accuracy: 0.1549\n",
      "Epoch 19/150\n",
      "138/138 [==============================] - 9s 64ms/step - loss: 0.0113 - accuracy: 0.2860 - val_loss: 0.0164 - val_accuracy: 0.1545\n",
      "Epoch 20/150\n",
      "138/138 [==============================] - 9s 67ms/step - loss: 0.0114 - accuracy: 0.2840 - val_loss: 0.0164 - val_accuracy: 0.1547\n",
      "Epoch 21/150\n",
      "137/138 [============================>.] - ETA: 0s - loss: 0.0113 - accuracy: 0.2870\n",
      "Epoch 00021: ReduceLROnPlateau reducing learning rate to 1.0000001111620805e-07.\n",
      "138/138 [==============================] - 9s 68ms/step - loss: 0.0113 - accuracy: 0.2868 - val_loss: 0.0164 - val_accuracy: 0.1549\n",
      "Epoch 22/150\n",
      "137/138 [============================>.] - ETA: 0s - loss: 0.0113 - accuracy: 0.2866Restoring model weights from the end of the best epoch.\n",
      "138/138 [==============================] - 9s 63ms/step - loss: 0.0113 - accuracy: 0.2865 - val_loss: 0.0164 - val_accuracy: 0.1545\n",
      "Epoch 00022: early stopping\n"
     ]
    },
    {
     "data": {
      "text/html": [
       "<span style=\"color:#4527A0\"><h1 style=\"font-size:18px\">Trial complete</h1></span>"
      ],
      "text/plain": [
       "<IPython.core.display.HTML object>"
      ]
     },
     "metadata": {},
     "output_type": "display_data"
    },
    {
     "data": {
      "text/html": [
       "<span style=\"color:#4527A0\"><h1 style=\"font-size:18px\">Trial summary</h1></span>"
      ],
      "text/plain": [
       "<IPython.core.display.HTML object>"
      ]
     },
     "metadata": {},
     "output_type": "display_data"
    },
    {
     "data": {
      "text/html": [
       "<span style=\"color:cyan\"> |-Trial ID: decb226bbb8dd6f7ee55aa0c2c048144</span>"
      ],
      "text/plain": [
       "<IPython.core.display.HTML object>"
      ]
     },
     "metadata": {},
     "output_type": "display_data"
    },
    {
     "data": {
      "text/html": [
       "<span style=\"color:cyan\"> |-Score: 0.016269473358988762</span>"
      ],
      "text/plain": [
       "<IPython.core.display.HTML object>"
      ]
     },
     "metadata": {},
     "output_type": "display_data"
    },
    {
     "data": {
      "text/html": [
       "<span style=\"color:cyan\"> |-Best step: 0</span>"
      ],
      "text/plain": [
       "<IPython.core.display.HTML object>"
      ]
     },
     "metadata": {},
     "output_type": "display_data"
    },
    {
     "data": {
      "text/html": [
       "<span style=\"color:#7E57C2\"><h2 style=\"font-size:16px\">Hyperparameters:</h2></span>"
      ],
      "text/plain": [
       "<IPython.core.display.HTML object>"
      ]
     },
     "metadata": {},
     "output_type": "display_data"
    },
    {
     "data": {
      "text/html": [
       "<span style=\"color:cyan\"> |-Dropout_0: 0.4</span>"
      ],
      "text/plain": [
       "<IPython.core.display.HTML object>"
      ]
     },
     "metadata": {},
     "output_type": "display_data"
    },
    {
     "data": {
      "text/html": [
       "<span style=\"color:blue\"> |-Dropout_1: 0.28</span>"
      ],
      "text/plain": [
       "<IPython.core.display.HTML object>"
      ]
     },
     "metadata": {},
     "output_type": "display_data"
    },
    {
     "data": {
      "text/html": [
       "<span style=\"color:cyan\"> |-Dropout_2: 0.53</span>"
      ],
      "text/plain": [
       "<IPython.core.display.HTML object>"
      ]
     },
     "metadata": {},
     "output_type": "display_data"
    },
    {
     "data": {
      "text/html": [
       "<span style=\"color:blue\"> |-Dropout_3: 0.65</span>"
      ],
      "text/plain": [
       "<IPython.core.display.HTML object>"
      ]
     },
     "metadata": {},
     "output_type": "display_data"
    },
    {
     "data": {
      "text/html": [
       "<span style=\"color:cyan\"> |-Dropout_4: 0.65</span>"
      ],
      "text/plain": [
       "<IPython.core.display.HTML object>"
      ]
     },
     "metadata": {},
     "output_type": "display_data"
    },
    {
     "data": {
      "text/html": [
       "<span style=\"color:blue\"> |-Dropout_5: 0.53</span>"
      ],
      "text/plain": [
       "<IPython.core.display.HTML object>"
      ]
     },
     "metadata": {},
     "output_type": "display_data"
    },
    {
     "data": {
      "text/html": [
       "<span style=\"color:cyan\"> |-N_Layers: 3</span>"
      ],
      "text/plain": [
       "<IPython.core.display.HTML object>"
      ]
     },
     "metadata": {},
     "output_type": "display_data"
    },
    {
     "data": {
      "text/html": [
       "<span style=\"color:blue\"> |-activation2_0: selu</span>"
      ],
      "text/plain": [
       "<IPython.core.display.HTML object>"
      ]
     },
     "metadata": {},
     "output_type": "display_data"
    },
    {
     "data": {
      "text/html": [
       "<span style=\"color:cyan\"> |-activation2_1: swish</span>"
      ],
      "text/plain": [
       "<IPython.core.display.HTML object>"
      ]
     },
     "metadata": {},
     "output_type": "display_data"
    },
    {
     "data": {
      "text/html": [
       "<span style=\"color:blue\"> |-activation2_2: elu</span>"
      ],
      "text/plain": [
       "<IPython.core.display.HTML object>"
      ]
     },
     "metadata": {},
     "output_type": "display_data"
    },
    {
     "data": {
      "text/html": [
       "<span style=\"color:cyan\"> |-activation2_3: selu</span>"
      ],
      "text/plain": [
       "<IPython.core.display.HTML object>"
      ]
     },
     "metadata": {},
     "output_type": "display_data"
    },
    {
     "data": {
      "text/html": [
       "<span style=\"color:blue\"> |-activation2_4: elu</span>"
      ],
      "text/plain": [
       "<IPython.core.display.HTML object>"
      ]
     },
     "metadata": {},
     "output_type": "display_data"
    },
    {
     "data": {
      "text/html": [
       "<span style=\"color:cyan\"> |-activation2_5: swish</span>"
      ],
      "text/plain": [
       "<IPython.core.display.HTML object>"
      ]
     },
     "metadata": {},
     "output_type": "display_data"
    },
    {
     "data": {
      "text/html": [
       "<span style=\"color:blue\"> |-number_of_neurons2_0: 1608</span>"
      ],
      "text/plain": [
       "<IPython.core.display.HTML object>"
      ]
     },
     "metadata": {},
     "output_type": "display_data"
    },
    {
     "data": {
      "text/html": [
       "<span style=\"color:cyan\"> |-number_of_neurons2_1: 512</span>"
      ],
      "text/plain": [
       "<IPython.core.display.HTML object>"
      ]
     },
     "metadata": {},
     "output_type": "display_data"
    },
    {
     "data": {
      "text/html": [
       "<span style=\"color:blue\"> |-number_of_neurons2_2: 2045</span>"
      ],
      "text/plain": [
       "<IPython.core.display.HTML object>"
      ]
     },
     "metadata": {},
     "output_type": "display_data"
    },
    {
     "data": {
      "text/html": [
       "<span style=\"color:cyan\"> |-number_of_neurons2_3: 691</span>"
      ],
      "text/plain": [
       "<IPython.core.display.HTML object>"
      ]
     },
     "metadata": {},
     "output_type": "display_data"
    },
    {
     "data": {
      "text/html": [
       "<span style=\"color:blue\"> |-number_of_neurons2_4: 1980</span>"
      ],
      "text/plain": [
       "<IPython.core.display.HTML object>"
      ]
     },
     "metadata": {},
     "output_type": "display_data"
    },
    {
     "data": {
      "text/html": [
       "<span style=\"color:cyan\"> |-number_of_neurons2_5: 1139</span>"
      ],
      "text/plain": [
       "<IPython.core.display.HTML object>"
      ]
     },
     "metadata": {},
     "output_type": "display_data"
    },
    {
     "name": "stdout",
     "output_type": "stream",
     "text": [
      "SEED:58 Fold:3\n",
      "Epoch 1/150\n",
      "138/138 [==============================] - 9s 66ms/step - loss: 0.2937 - accuracy: 0.0294 - val_loss: 0.0349 - val_accuracy: 0.0394\n",
      "Epoch 2/150\n",
      "138/138 [==============================] - 9s 64ms/step - loss: 0.0233 - accuracy: 0.0585 - val_loss: 0.0207 - val_accuracy: 0.0982\n",
      "Epoch 3/150\n",
      "138/138 [==============================] - 9s 64ms/step - loss: 0.0195 - accuracy: 0.0976 - val_loss: 0.0189 - val_accuracy: 0.0982\n",
      "Epoch 4/150\n",
      "138/138 [==============================] - 9s 67ms/step - loss: 0.0184 - accuracy: 0.1123 - val_loss: 0.0181 - val_accuracy: 0.1442\n",
      "Epoch 5/150\n",
      "138/138 [==============================] - 9s 68ms/step - loss: 0.0178 - accuracy: 0.1187 - val_loss: 0.0177 - val_accuracy: 0.1189\n",
      "Epoch 6/150\n",
      "138/138 [==============================] - 9s 67ms/step - loss: 0.0173 - accuracy: 0.1322 - val_loss: 0.0173 - val_accuracy: 0.1260\n",
      "Epoch 7/150\n",
      "138/138 [==============================] - 10s 69ms/step - loss: 0.0168 - accuracy: 0.1372 - val_loss: 0.0171 - val_accuracy: 0.1280\n",
      "Epoch 8/150\n",
      "138/138 [==============================] - 10s 71ms/step - loss: 0.0165 - accuracy: 0.1439 - val_loss: 0.0169 - val_accuracy: 0.1335\n",
      "Epoch 9/150\n",
      "138/138 [==============================] - 9s 63ms/step - loss: 0.0161 - accuracy: 0.1472 - val_loss: 0.0171 - val_accuracy: 0.1326\n",
      "Epoch 10/150\n",
      "138/138 [==============================] - 9s 63ms/step - loss: 0.0157 - accuracy: 0.1584 - val_loss: 0.0170 - val_accuracy: 0.1301\n",
      "Epoch 11/150\n",
      "137/138 [============================>.] - ETA: 0s - loss: 0.0155 - accuracy: 0.1584\n",
      "Epoch 00011: ReduceLROnPlateau reducing learning rate to 0.00010000000474974513.\n",
      "138/138 [==============================] - 9s 67ms/step - loss: 0.0155 - accuracy: 0.1584 - val_loss: 0.0169 - val_accuracy: 0.1401\n",
      "Epoch 12/150\n",
      "138/138 [==============================] - 9s 66ms/step - loss: 0.0145 - accuracy: 0.1767 - val_loss: 0.0162 - val_accuracy: 0.1433\n",
      "Epoch 13/150\n",
      "138/138 [==============================] - 9s 64ms/step - loss: 0.0142 - accuracy: 0.1862 - val_loss: 0.0162 - val_accuracy: 0.1428\n",
      "Epoch 14/150\n",
      "138/138 [==============================] - 9s 65ms/step - loss: 0.0140 - accuracy: 0.1890 - val_loss: 0.0162 - val_accuracy: 0.1451\n",
      "Epoch 15/150\n",
      "137/138 [============================>.] - ETA: 0s - loss: 0.0138 - accuracy: 0.1945\n",
      "Epoch 00015: ReduceLROnPlateau reducing learning rate to 1.0000000474974514e-05.\n",
      "138/138 [==============================] - 9s 65ms/step - loss: 0.0138 - accuracy: 0.1946 - val_loss: 0.0162 - val_accuracy: 0.1444\n",
      "Epoch 16/150\n",
      "138/138 [==============================] - 9s 64ms/step - loss: 0.0136 - accuracy: 0.1980 - val_loss: 0.0162 - val_accuracy: 0.1444\n",
      "Epoch 17/150\n",
      "138/138 [==============================] - 9s 63ms/step - loss: 0.0136 - accuracy: 0.1981 - val_loss: 0.0162 - val_accuracy: 0.1451\n",
      "Epoch 18/150\n",
      "137/138 [============================>.] - ETA: 0s - loss: 0.0136 - accuracy: 0.1955\n",
      "Epoch 00018: ReduceLROnPlateau reducing learning rate to 1.0000000656873453e-06.\n",
      "138/138 [==============================] - 9s 68ms/step - loss: 0.0136 - accuracy: 0.1955 - val_loss: 0.0162 - val_accuracy: 0.1449\n",
      "Epoch 19/150\n",
      "138/138 [==============================] - 9s 65ms/step - loss: 0.0136 - accuracy: 0.1977 - val_loss: 0.0162 - val_accuracy: 0.1444\n",
      "Epoch 20/150\n",
      "138/138 [==============================] - 9s 64ms/step - loss: 0.0136 - accuracy: 0.1999 - val_loss: 0.0162 - val_accuracy: 0.1444\n",
      "Epoch 21/150\n",
      "137/138 [============================>.] - ETA: 0s - loss: 0.0135 - accuracy: 0.1997\n",
      "Epoch 00021: ReduceLROnPlateau reducing learning rate to 1.0000001111620805e-07.\n",
      "138/138 [==============================] - 9s 64ms/step - loss: 0.0136 - accuracy: 0.1997 - val_loss: 0.0162 - val_accuracy: 0.1444\n",
      "Epoch 22/150\n",
      "138/138 [==============================] - 9s 66ms/step - loss: 0.0135 - accuracy: 0.2002 - val_loss: 0.0162 - val_accuracy: 0.1449\n",
      "Epoch 23/150\n",
      "138/138 [==============================] - 9s 63ms/step - loss: 0.0135 - accuracy: 0.2020 - val_loss: 0.0162 - val_accuracy: 0.1442\n",
      "Epoch 24/150\n",
      "137/138 [============================>.] - ETA: 0s - loss: 0.0135 - accuracy: 0.1996\n",
      "Epoch 00024: ReduceLROnPlateau reducing learning rate to 1.000000082740371e-08.\n",
      "138/138 [==============================] - 9s 64ms/step - loss: 0.0135 - accuracy: 0.1996 - val_loss: 0.0162 - val_accuracy: 0.1444\n",
      "Epoch 25/150\n",
      "137/138 [============================>.] - ETA: 0s - loss: 0.0135 - accuracy: 0.2004Restoring model weights from the end of the best epoch.\n",
      "138/138 [==============================] - 10s 69ms/step - loss: 0.0135 - accuracy: 0.2004 - val_loss: 0.0162 - val_accuracy: 0.1442\n",
      "Epoch 00025: early stopping\n"
     ]
    },
    {
     "data": {
      "text/html": [
       "<span style=\"color:#4527A0\"><h1 style=\"font-size:18px\">Trial complete</h1></span>"
      ],
      "text/plain": [
       "<IPython.core.display.HTML object>"
      ]
     },
     "metadata": {},
     "output_type": "display_data"
    },
    {
     "data": {
      "text/html": [
       "<span style=\"color:#4527A0\"><h1 style=\"font-size:18px\">Trial summary</h1></span>"
      ],
      "text/plain": [
       "<IPython.core.display.HTML object>"
      ]
     },
     "metadata": {},
     "output_type": "display_data"
    },
    {
     "data": {
      "text/html": [
       "<span style=\"color:cyan\"> |-Trial ID: e552005d601bc1401211be25f9bd9e1e</span>"
      ],
      "text/plain": [
       "<IPython.core.display.HTML object>"
      ]
     },
     "metadata": {},
     "output_type": "display_data"
    },
    {
     "data": {
      "text/html": [
       "<span style=\"color:cyan\"> |-Score: 0.016167407855391502</span>"
      ],
      "text/plain": [
       "<IPython.core.display.HTML object>"
      ]
     },
     "metadata": {},
     "output_type": "display_data"
    },
    {
     "data": {
      "text/html": [
       "<span style=\"color:cyan\"> |-Best step: 0</span>"
      ],
      "text/plain": [
       "<IPython.core.display.HTML object>"
      ]
     },
     "metadata": {},
     "output_type": "display_data"
    },
    {
     "data": {
      "text/html": [
       "<span style=\"color:#7E57C2\"><h2 style=\"font-size:16px\">Hyperparameters:</h2></span>"
      ],
      "text/plain": [
       "<IPython.core.display.HTML object>"
      ]
     },
     "metadata": {},
     "output_type": "display_data"
    },
    {
     "data": {
      "text/html": [
       "<span style=\"color:cyan\"> |-Dropout_0: 0.6900000000000001</span>"
      ],
      "text/plain": [
       "<IPython.core.display.HTML object>"
      ]
     },
     "metadata": {},
     "output_type": "display_data"
    },
    {
     "data": {
      "text/html": [
       "<span style=\"color:blue\"> |-Dropout_1: 0.18</span>"
      ],
      "text/plain": [
       "<IPython.core.display.HTML object>"
      ]
     },
     "metadata": {},
     "output_type": "display_data"
    },
    {
     "data": {
      "text/html": [
       "<span style=\"color:cyan\"> |-Dropout_2: 0.0</span>"
      ],
      "text/plain": [
       "<IPython.core.display.HTML object>"
      ]
     },
     "metadata": {},
     "output_type": "display_data"
    },
    {
     "data": {
      "text/html": [
       "<span style=\"color:blue\"> |-Dropout_3: 0.0</span>"
      ],
      "text/plain": [
       "<IPython.core.display.HTML object>"
      ]
     },
     "metadata": {},
     "output_type": "display_data"
    },
    {
     "data": {
      "text/html": [
       "<span style=\"color:cyan\"> |-Dropout_4: 0.0</span>"
      ],
      "text/plain": [
       "<IPython.core.display.HTML object>"
      ]
     },
     "metadata": {},
     "output_type": "display_data"
    },
    {
     "data": {
      "text/html": [
       "<span style=\"color:blue\"> |-Dropout_5: 0.0</span>"
      ],
      "text/plain": [
       "<IPython.core.display.HTML object>"
      ]
     },
     "metadata": {},
     "output_type": "display_data"
    },
    {
     "data": {
      "text/html": [
       "<span style=\"color:cyan\"> |-N_Layers: 6</span>"
      ],
      "text/plain": [
       "<IPython.core.display.HTML object>"
      ]
     },
     "metadata": {},
     "output_type": "display_data"
    },
    {
     "data": {
      "text/html": [
       "<span style=\"color:blue\"> |-activation2_0: swish</span>"
      ],
      "text/plain": [
       "<IPython.core.display.HTML object>"
      ]
     },
     "metadata": {},
     "output_type": "display_data"
    },
    {
     "data": {
      "text/html": [
       "<span style=\"color:cyan\"> |-activation2_1: swish</span>"
      ],
      "text/plain": [
       "<IPython.core.display.HTML object>"
      ]
     },
     "metadata": {},
     "output_type": "display_data"
    },
    {
     "data": {
      "text/html": [
       "<span style=\"color:blue\"> |-activation2_2: elu</span>"
      ],
      "text/plain": [
       "<IPython.core.display.HTML object>"
      ]
     },
     "metadata": {},
     "output_type": "display_data"
    },
    {
     "data": {
      "text/html": [
       "<span style=\"color:cyan\"> |-activation2_3: elu</span>"
      ],
      "text/plain": [
       "<IPython.core.display.HTML object>"
      ]
     },
     "metadata": {},
     "output_type": "display_data"
    },
    {
     "data": {
      "text/html": [
       "<span style=\"color:blue\"> |-activation2_4: elu</span>"
      ],
      "text/plain": [
       "<IPython.core.display.HTML object>"
      ]
     },
     "metadata": {},
     "output_type": "display_data"
    },
    {
     "data": {
      "text/html": [
       "<span style=\"color:cyan\"> |-activation2_5: elu</span>"
      ],
      "text/plain": [
       "<IPython.core.display.HTML object>"
      ]
     },
     "metadata": {},
     "output_type": "display_data"
    },
    {
     "data": {
      "text/html": [
       "<span style=\"color:blue\"> |-number_of_neurons2_0: 688</span>"
      ],
      "text/plain": [
       "<IPython.core.display.HTML object>"
      ]
     },
     "metadata": {},
     "output_type": "display_data"
    },
    {
     "data": {
      "text/html": [
       "<span style=\"color:cyan\"> |-number_of_neurons2_1: 1763</span>"
      ],
      "text/plain": [
       "<IPython.core.display.HTML object>"
      ]
     },
     "metadata": {},
     "output_type": "display_data"
    },
    {
     "data": {
      "text/html": [
       "<span style=\"color:blue\"> |-number_of_neurons2_2: 512</span>"
      ],
      "text/plain": [
       "<IPython.core.display.HTML object>"
      ]
     },
     "metadata": {},
     "output_type": "display_data"
    },
    {
     "data": {
      "text/html": [
       "<span style=\"color:cyan\"> |-number_of_neurons2_3: 512</span>"
      ],
      "text/plain": [
       "<IPython.core.display.HTML object>"
      ]
     },
     "metadata": {},
     "output_type": "display_data"
    },
    {
     "data": {
      "text/html": [
       "<span style=\"color:blue\"> |-number_of_neurons2_4: 512</span>"
      ],
      "text/plain": [
       "<IPython.core.display.HTML object>"
      ]
     },
     "metadata": {},
     "output_type": "display_data"
    },
    {
     "data": {
      "text/html": [
       "<span style=\"color:cyan\"> |-number_of_neurons2_5: 512</span>"
      ],
      "text/plain": [
       "<IPython.core.display.HTML object>"
      ]
     },
     "metadata": {},
     "output_type": "display_data"
    },
    {
     "name": "stdout",
     "output_type": "stream",
     "text": [
      "Epoch 1/150\n",
      "138/138 [==============================] - 9s 67ms/step - loss: 0.2915 - accuracy: 0.0251 - val_loss: 0.0295 - val_accuracy: 0.0298\n",
      "Epoch 2/150\n",
      "138/138 [==============================] - 9s 66ms/step - loss: 0.0245 - accuracy: 0.0490 - val_loss: 0.0209 - val_accuracy: 0.0731\n",
      "Epoch 3/150\n",
      "138/138 [==============================] - 9s 66ms/step - loss: 0.0215 - accuracy: 0.0659 - val_loss: 0.0196 - val_accuracy: 0.0779\n",
      "Epoch 4/150\n",
      "138/138 [==============================] - 9s 67ms/step - loss: 0.0205 - accuracy: 0.0891 - val_loss: 0.0188 - val_accuracy: 0.0918\n",
      "Epoch 5/150\n",
      "138/138 [==============================] - 9s 64ms/step - loss: 0.0195 - accuracy: 0.1029 - val_loss: 0.0184 - val_accuracy: 0.0984\n",
      "Epoch 6/150\n",
      "138/138 [==============================] - 10s 71ms/step - loss: 0.0190 - accuracy: 0.1079 - val_loss: 0.0180 - val_accuracy: 0.1005\n",
      "Epoch 7/150\n",
      "138/138 [==============================] - 10s 73ms/step - loss: 0.0184 - accuracy: 0.1138 - val_loss: 0.0177 - val_accuracy: 0.1098\n",
      "Epoch 8/150\n",
      "138/138 [==============================] - 10s 70ms/step - loss: 0.0181 - accuracy: 0.1180 - val_loss: 0.0174 - val_accuracy: 0.1169\n",
      "Epoch 9/150\n",
      "138/138 [==============================] - 9s 64ms/step - loss: 0.0178 - accuracy: 0.1210 - val_loss: 0.0173 - val_accuracy: 0.1139\n",
      "Epoch 10/150\n",
      "138/138 [==============================] - 9s 65ms/step - loss: 0.0176 - accuracy: 0.1267 - val_loss: 0.0171 - val_accuracy: 0.1264\n",
      "Epoch 11/150\n",
      "138/138 [==============================] - 9s 67ms/step - loss: 0.0175 - accuracy: 0.1289 - val_loss: 0.0170 - val_accuracy: 0.1355\n",
      "Epoch 12/150\n",
      "138/138 [==============================] - 9s 66ms/step - loss: 0.0173 - accuracy: 0.1383 - val_loss: 0.0171 - val_accuracy: 0.1301\n",
      "Epoch 13/150\n",
      "138/138 [==============================] - 9s 66ms/step - loss: 0.0170 - accuracy: 0.1349 - val_loss: 0.0168 - val_accuracy: 0.1264\n",
      "Epoch 14/150\n",
      "138/138 [==============================] - 9s 67ms/step - loss: 0.0168 - accuracy: 0.1422 - val_loss: 0.0167 - val_accuracy: 0.1633\n",
      "Epoch 15/150\n",
      "138/138 [==============================] - 9s 67ms/step - loss: 0.0166 - accuracy: 0.1408 - val_loss: 0.0166 - val_accuracy: 0.1376\n",
      "Epoch 16/150\n",
      "138/138 [==============================] - 9s 67ms/step - loss: 0.0165 - accuracy: 0.1458 - val_loss: 0.0166 - val_accuracy: 0.1387\n",
      "Epoch 17/150\n",
      "138/138 [==============================] - 9s 65ms/step - loss: 0.0164 - accuracy: 0.1518 - val_loss: 0.0165 - val_accuracy: 0.1390\n",
      "Epoch 18/150\n",
      "138/138 [==============================] - 9s 66ms/step - loss: 0.0161 - accuracy: 0.1551 - val_loss: 0.0163 - val_accuracy: 0.1396\n",
      "Epoch 19/150\n",
      "138/138 [==============================] - 9s 67ms/step - loss: 0.0158 - accuracy: 0.1539 - val_loss: 0.0164 - val_accuracy: 0.1424\n",
      "Epoch 20/150\n",
      "138/138 [==============================] - 9s 64ms/step - loss: 0.0157 - accuracy: 0.1599 - val_loss: 0.0164 - val_accuracy: 0.1394\n",
      "Epoch 21/150\n",
      "137/138 [============================>.] - ETA: 0s - loss: 0.0155 - accuracy: 0.1653\n",
      "Epoch 00021: ReduceLROnPlateau reducing learning rate to 0.00010000000474974513.\n",
      "138/138 [==============================] - 9s 67ms/step - loss: 0.0155 - accuracy: 0.1656 - val_loss: 0.0163 - val_accuracy: 0.1469\n",
      "Epoch 22/150\n",
      "138/138 [==============================] - 9s 65ms/step - loss: 0.0150 - accuracy: 0.1750 - val_loss: 0.0161 - val_accuracy: 0.1467\n",
      "Epoch 23/150\n",
      "138/138 [==============================] - 9s 65ms/step - loss: 0.0148 - accuracy: 0.1737 - val_loss: 0.0161 - val_accuracy: 0.1478\n",
      "Epoch 24/150\n",
      "138/138 [==============================] - 9s 64ms/step - loss: 0.0147 - accuracy: 0.1763 - val_loss: 0.0160 - val_accuracy: 0.1497\n",
      "Epoch 25/150\n",
      "138/138 [==============================] - 9s 69ms/step - loss: 0.0146 - accuracy: 0.1777 - val_loss: 0.0160 - val_accuracy: 0.1487\n",
      "Epoch 26/150\n",
      "138/138 [==============================] - 9s 67ms/step - loss: 0.0144 - accuracy: 0.1775 - val_loss: 0.0160 - val_accuracy: 0.1503\n",
      "Epoch 27/150\n",
      "138/138 [==============================] - 9s 65ms/step - loss: 0.0144 - accuracy: 0.1823 - val_loss: 0.0160 - val_accuracy: 0.1515\n",
      "Epoch 28/150\n",
      "137/138 [============================>.] - ETA: 0s - loss: 0.0143 - accuracy: 0.1817\n",
      "Epoch 00028: ReduceLROnPlateau reducing learning rate to 1.0000000474974514e-05.\n",
      "138/138 [==============================] - 9s 66ms/step - loss: 0.0144 - accuracy: 0.1816 - val_loss: 0.0160 - val_accuracy: 0.1485\n",
      "Epoch 29/150\n",
      "138/138 [==============================] - 9s 64ms/step - loss: 0.0143 - accuracy: 0.1823 - val_loss: 0.0160 - val_accuracy: 0.1501\n",
      "Epoch 30/150\n",
      "138/138 [==============================] - 9s 64ms/step - loss: 0.0142 - accuracy: 0.1863 - val_loss: 0.0160 - val_accuracy: 0.1501\n",
      "Epoch 31/150\n",
      "137/138 [============================>.] - ETA: 0s - loss: 0.0143 - accuracy: 0.1832\n",
      "Epoch 00031: ReduceLROnPlateau reducing learning rate to 1.0000000656873453e-06.\n",
      "138/138 [==============================] - 9s 65ms/step - loss: 0.0143 - accuracy: 0.1831 - val_loss: 0.0160 - val_accuracy: 0.1510\n",
      "Epoch 32/150\n",
      "138/138 [==============================] - 10s 69ms/step - loss: 0.0143 - accuracy: 0.1832 - val_loss: 0.0160 - val_accuracy: 0.1510\n",
      "Epoch 33/150\n",
      "138/138 [==============================] - 9s 65ms/step - loss: 0.0142 - accuracy: 0.1874 - val_loss: 0.0160 - val_accuracy: 0.1501\n",
      "Epoch 34/150\n",
      "137/138 [============================>.] - ETA: 0s - loss: 0.0143 - accuracy: 0.1816\n",
      "Epoch 00034: ReduceLROnPlateau reducing learning rate to 1.0000001111620805e-07.\n",
      "138/138 [==============================] - 9s 65ms/step - loss: 0.0143 - accuracy: 0.1815 - val_loss: 0.0160 - val_accuracy: 0.1510\n",
      "Epoch 35/150\n",
      "138/138 [==============================] - 9s 65ms/step - loss: 0.0142 - accuracy: 0.1870 - val_loss: 0.0160 - val_accuracy: 0.1503\n",
      "Epoch 36/150\n",
      "138/138 [==============================] - 9s 64ms/step - loss: 0.0143 - accuracy: 0.1825 - val_loss: 0.0160 - val_accuracy: 0.1503\n",
      "Epoch 37/150\n",
      "137/138 [============================>.] - ETA: 0s - loss: 0.0142 - accuracy: 0.1853\n",
      "Epoch 00037: ReduceLROnPlateau reducing learning rate to 1.000000082740371e-08.\n",
      "138/138 [==============================] - 9s 64ms/step - loss: 0.0142 - accuracy: 0.1854 - val_loss: 0.0160 - val_accuracy: 0.1510\n",
      "Epoch 38/150\n",
      "138/138 [==============================] - 9s 65ms/step - loss: 0.0143 - accuracy: 0.1834 - val_loss: 0.0160 - val_accuracy: 0.1513\n",
      "Epoch 39/150\n",
      "138/138 [==============================] - 9s 68ms/step - loss: 0.0143 - accuracy: 0.1833 - val_loss: 0.0160 - val_accuracy: 0.1510\n",
      "Epoch 40/150\n",
      "137/138 [============================>.] - ETA: 0s - loss: 0.0142 - accuracy: 0.1854\n",
      "Epoch 00040: ReduceLROnPlateau reducing learning rate to 1.000000082740371e-09.\n",
      "138/138 [==============================] - 9s 63ms/step - loss: 0.0142 - accuracy: 0.1853 - val_loss: 0.0160 - val_accuracy: 0.1508\n",
      "Epoch 41/150\n",
      "137/138 [============================>.] - ETA: 0s - loss: 0.0143 - accuracy: 0.1840Restoring model weights from the end of the best epoch.\n",
      "138/138 [==============================] - 9s 65ms/step - loss: 0.0143 - accuracy: 0.1838 - val_loss: 0.0160 - val_accuracy: 0.1501\n",
      "Epoch 00041: early stopping\n"
     ]
    },
    {
     "data": {
      "text/html": [
       "<span style=\"color:#4527A0\"><h1 style=\"font-size:18px\">Trial complete</h1></span>"
      ],
      "text/plain": [
       "<IPython.core.display.HTML object>"
      ]
     },
     "metadata": {},
     "output_type": "display_data"
    },
    {
     "data": {
      "text/html": [
       "<span style=\"color:#4527A0\"><h1 style=\"font-size:18px\">Trial summary</h1></span>"
      ],
      "text/plain": [
       "<IPython.core.display.HTML object>"
      ]
     },
     "metadata": {},
     "output_type": "display_data"
    },
    {
     "data": {
      "text/html": [
       "<span style=\"color:cyan\"> |-Trial ID: cdad7fef9270c58063b355a409c44f5d</span>"
      ],
      "text/plain": [
       "<IPython.core.display.HTML object>"
      ]
     },
     "metadata": {},
     "output_type": "display_data"
    },
    {
     "data": {
      "text/html": [
       "<span style=\"color:cyan\"> |-Score: 0.01597578451037407</span>"
      ],
      "text/plain": [
       "<IPython.core.display.HTML object>"
      ]
     },
     "metadata": {},
     "output_type": "display_data"
    },
    {
     "data": {
      "text/html": [
       "<span style=\"color:cyan\"> |-Best step: 0</span>"
      ],
      "text/plain": [
       "<IPython.core.display.HTML object>"
      ]
     },
     "metadata": {},
     "output_type": "display_data"
    },
    {
     "data": {
      "text/html": [
       "<span style=\"color:#7E57C2\"><h2 style=\"font-size:16px\">Hyperparameters:</h2></span>"
      ],
      "text/plain": [
       "<IPython.core.display.HTML object>"
      ]
     },
     "metadata": {},
     "output_type": "display_data"
    },
    {
     "data": {
      "text/html": [
       "<span style=\"color:cyan\"> |-Dropout_0: 0.7000000000000001</span>"
      ],
      "text/plain": [
       "<IPython.core.display.HTML object>"
      ]
     },
     "metadata": {},
     "output_type": "display_data"
    },
    {
     "data": {
      "text/html": [
       "<span style=\"color:blue\"> |-Dropout_1: 0.01</span>"
      ],
      "text/plain": [
       "<IPython.core.display.HTML object>"
      ]
     },
     "metadata": {},
     "output_type": "display_data"
    },
    {
     "data": {
      "text/html": [
       "<span style=\"color:cyan\"> |-Dropout_2: 0.08</span>"
      ],
      "text/plain": [
       "<IPython.core.display.HTML object>"
      ]
     },
     "metadata": {},
     "output_type": "display_data"
    },
    {
     "data": {
      "text/html": [
       "<span style=\"color:blue\"> |-Dropout_3: 0.52</span>"
      ],
      "text/plain": [
       "<IPython.core.display.HTML object>"
      ]
     },
     "metadata": {},
     "output_type": "display_data"
    },
    {
     "data": {
      "text/html": [
       "<span style=\"color:cyan\"> |-Dropout_4: 0.42</span>"
      ],
      "text/plain": [
       "<IPython.core.display.HTML object>"
      ]
     },
     "metadata": {},
     "output_type": "display_data"
    },
    {
     "data": {
      "text/html": [
       "<span style=\"color:blue\"> |-Dropout_5: 0.68</span>"
      ],
      "text/plain": [
       "<IPython.core.display.HTML object>"
      ]
     },
     "metadata": {},
     "output_type": "display_data"
    },
    {
     "data": {
      "text/html": [
       "<span style=\"color:cyan\"> |-N_Layers: 4</span>"
      ],
      "text/plain": [
       "<IPython.core.display.HTML object>"
      ]
     },
     "metadata": {},
     "output_type": "display_data"
    },
    {
     "data": {
      "text/html": [
       "<span style=\"color:blue\"> |-activation2_0: selu</span>"
      ],
      "text/plain": [
       "<IPython.core.display.HTML object>"
      ]
     },
     "metadata": {},
     "output_type": "display_data"
    },
    {
     "data": {
      "text/html": [
       "<span style=\"color:cyan\"> |-activation2_1: swish</span>"
      ],
      "text/plain": [
       "<IPython.core.display.HTML object>"
      ]
     },
     "metadata": {},
     "output_type": "display_data"
    },
    {
     "data": {
      "text/html": [
       "<span style=\"color:blue\"> |-activation2_2: swish</span>"
      ],
      "text/plain": [
       "<IPython.core.display.HTML object>"
      ]
     },
     "metadata": {},
     "output_type": "display_data"
    },
    {
     "data": {
      "text/html": [
       "<span style=\"color:cyan\"> |-activation2_3: swish</span>"
      ],
      "text/plain": [
       "<IPython.core.display.HTML object>"
      ]
     },
     "metadata": {},
     "output_type": "display_data"
    },
    {
     "data": {
      "text/html": [
       "<span style=\"color:blue\"> |-activation2_4: selu</span>"
      ],
      "text/plain": [
       "<IPython.core.display.HTML object>"
      ]
     },
     "metadata": {},
     "output_type": "display_data"
    },
    {
     "data": {
      "text/html": [
       "<span style=\"color:cyan\"> |-activation2_5: swish</span>"
      ],
      "text/plain": [
       "<IPython.core.display.HTML object>"
      ]
     },
     "metadata": {},
     "output_type": "display_data"
    },
    {
     "data": {
      "text/html": [
       "<span style=\"color:blue\"> |-number_of_neurons2_0: 579</span>"
      ],
      "text/plain": [
       "<IPython.core.display.HTML object>"
      ]
     },
     "metadata": {},
     "output_type": "display_data"
    },
    {
     "data": {
      "text/html": [
       "<span style=\"color:cyan\"> |-number_of_neurons2_1: 1252</span>"
      ],
      "text/plain": [
       "<IPython.core.display.HTML object>"
      ]
     },
     "metadata": {},
     "output_type": "display_data"
    },
    {
     "data": {
      "text/html": [
       "<span style=\"color:blue\"> |-number_of_neurons2_2: 967</span>"
      ],
      "text/plain": [
       "<IPython.core.display.HTML object>"
      ]
     },
     "metadata": {},
     "output_type": "display_data"
    },
    {
     "data": {
      "text/html": [
       "<span style=\"color:cyan\"> |-number_of_neurons2_3: 1186</span>"
      ],
      "text/plain": [
       "<IPython.core.display.HTML object>"
      ]
     },
     "metadata": {},
     "output_type": "display_data"
    },
    {
     "data": {
      "text/html": [
       "<span style=\"color:blue\"> |-number_of_neurons2_4: 1164</span>"
      ],
      "text/plain": [
       "<IPython.core.display.HTML object>"
      ]
     },
     "metadata": {},
     "output_type": "display_data"
    },
    {
     "data": {
      "text/html": [
       "<span style=\"color:cyan\"> |-number_of_neurons2_5: 528</span>"
      ],
      "text/plain": [
       "<IPython.core.display.HTML object>"
      ]
     },
     "metadata": {},
     "output_type": "display_data"
    },
    {
     "name": "stdout",
     "output_type": "stream",
     "text": [
      "Epoch 1/150\n",
      "138/138 [==============================] - 12s 84ms/step - loss: 0.2870 - accuracy: 0.0178 - val_loss: 0.0386 - val_accuracy: 0.0392\n",
      "Epoch 2/150\n",
      "138/138 [==============================] - 11s 79ms/step - loss: 0.0251 - accuracy: 0.0362 - val_loss: 0.0219 - val_accuracy: 0.0303\n",
      "Epoch 3/150\n",
      "138/138 [==============================] - 11s 82ms/step - loss: 0.0226 - accuracy: 0.0445 - val_loss: 0.0213 - val_accuracy: 0.0369\n",
      "Epoch 4/150\n",
      "138/138 [==============================] - 11s 83ms/step - loss: 0.0220 - accuracy: 0.0492 - val_loss: 0.0207 - val_accuracy: 0.0729\n",
      "Epoch 5/150\n",
      "138/138 [==============================] - 11s 79ms/step - loss: 0.0215 - accuracy: 0.0520 - val_loss: 0.0203 - val_accuracy: 0.0784\n",
      "Epoch 6/150\n",
      "138/138 [==============================] - 11s 80ms/step - loss: 0.0211 - accuracy: 0.0570 - val_loss: 0.0201 - val_accuracy: 0.0483\n",
      "Epoch 7/150\n",
      "138/138 [==============================] - 12s 84ms/step - loss: 0.0206 - accuracy: 0.0647 - val_loss: 0.0197 - val_accuracy: 0.0535\n",
      "Epoch 8/150\n",
      "138/138 [==============================] - 11s 80ms/step - loss: 0.0202 - accuracy: 0.0650 - val_loss: 0.0195 - val_accuracy: 0.0572\n",
      "Epoch 9/150\n",
      "138/138 [==============================] - 11s 80ms/step - loss: 0.0199 - accuracy: 0.0760 - val_loss: 0.0192 - val_accuracy: 0.0702\n",
      "Epoch 10/150\n",
      "138/138 [==============================] - 11s 80ms/step - loss: 0.0196 - accuracy: 0.0843 - val_loss: 0.0187 - val_accuracy: 0.0768\n",
      "Epoch 11/150\n",
      "138/138 [==============================] - 11s 78ms/step - loss: 0.0191 - accuracy: 0.0946 - val_loss: 0.0185 - val_accuracy: 0.0861\n",
      "Epoch 12/150\n",
      "138/138 [==============================] - 11s 78ms/step - loss: 0.0189 - accuracy: 0.0968 - val_loss: 0.0184 - val_accuracy: 0.0904\n",
      "Epoch 13/150\n",
      "138/138 [==============================] - 11s 80ms/step - loss: 0.0187 - accuracy: 0.1031 - val_loss: 0.0181 - val_accuracy: 0.0961\n",
      "Epoch 14/150\n",
      "138/138 [==============================] - 11s 82ms/step - loss: 0.0184 - accuracy: 0.1026 - val_loss: 0.0181 - val_accuracy: 0.1005\n",
      "Epoch 15/150\n",
      "138/138 [==============================] - 11s 80ms/step - loss: 0.0186 - accuracy: 0.1066 - val_loss: 0.0179 - val_accuracy: 0.1064\n",
      "Epoch 16/150\n",
      "138/138 [==============================] - 11s 80ms/step - loss: 0.0182 - accuracy: 0.1103 - val_loss: 0.0179 - val_accuracy: 0.1055\n",
      "Epoch 17/150\n",
      "138/138 [==============================] - 11s 78ms/step - loss: 0.0180 - accuracy: 0.1113 - val_loss: 0.0177 - val_accuracy: 0.1116\n",
      "Epoch 18/150\n",
      "138/138 [==============================] - 11s 79ms/step - loss: 0.0177 - accuracy: 0.1161 - val_loss: 0.0176 - val_accuracy: 0.1371\n",
      "Epoch 19/150\n",
      "138/138 [==============================] - 11s 81ms/step - loss: 0.0175 - accuracy: 0.1190 - val_loss: 0.0176 - val_accuracy: 0.1137\n",
      "Epoch 20/150\n",
      "138/138 [==============================] - 11s 81ms/step - loss: 0.0173 - accuracy: 0.1254 - val_loss: 0.0174 - val_accuracy: 0.1173\n",
      "Epoch 21/150\n",
      "138/138 [==============================] - 11s 79ms/step - loss: 0.0171 - accuracy: 0.1232 - val_loss: 0.0173 - val_accuracy: 0.1185\n",
      "Epoch 22/150\n",
      "138/138 [==============================] - 11s 80ms/step - loss: 0.0171 - accuracy: 0.1285 - val_loss: 0.0173 - val_accuracy: 0.1226\n",
      "Epoch 23/150\n",
      "138/138 [==============================] - 11s 79ms/step - loss: 0.0171 - accuracy: 0.1298 - val_loss: 0.0172 - val_accuracy: 0.1187\n",
      "Epoch 24/150\n",
      "138/138 [==============================] - 11s 79ms/step - loss: 0.0169 - accuracy: 0.1320 - val_loss: 0.0171 - val_accuracy: 0.1253\n",
      "Epoch 25/150\n",
      "138/138 [==============================] - 12s 83ms/step - loss: 0.0169 - accuracy: 0.1309 - val_loss: 0.0171 - val_accuracy: 0.1191\n",
      "Epoch 26/150\n",
      "138/138 [==============================] - 11s 79ms/step - loss: 0.0165 - accuracy: 0.1343 - val_loss: 0.0171 - val_accuracy: 0.1255\n",
      "Epoch 27/150\n",
      "138/138 [==============================] - 11s 79ms/step - loss: 0.0165 - accuracy: 0.1383 - val_loss: 0.0170 - val_accuracy: 0.1251\n",
      "Epoch 28/150\n",
      "138/138 [==============================] - 11s 83ms/step - loss: 0.0164 - accuracy: 0.1373 - val_loss: 0.0170 - val_accuracy: 0.1253\n",
      "Epoch 29/150\n",
      "138/138 [==============================] - 11s 81ms/step - loss: 0.0162 - accuracy: 0.1415 - val_loss: 0.0170 - val_accuracy: 0.1223\n",
      "Epoch 30/150\n",
      "137/138 [============================>.] - ETA: 0s - loss: 0.0161 - accuracy: 0.1426\n",
      "Epoch 00030: ReduceLROnPlateau reducing learning rate to 0.00010000000474974513.\n",
      "138/138 [==============================] - 11s 80ms/step - loss: 0.0161 - accuracy: 0.1427 - val_loss: 0.0170 - val_accuracy: 0.1308\n",
      "Epoch 31/150\n",
      "138/138 [==============================] - 12s 83ms/step - loss: 0.0157 - accuracy: 0.1471 - val_loss: 0.0168 - val_accuracy: 0.1292\n",
      "Epoch 32/150\n",
      "138/138 [==============================] - 12s 84ms/step - loss: 0.0155 - accuracy: 0.1510 - val_loss: 0.0168 - val_accuracy: 0.1296\n",
      "Epoch 33/150\n",
      "138/138 [==============================] - 12s 89ms/step - loss: 0.0154 - accuracy: 0.1518 - val_loss: 0.0168 - val_accuracy: 0.1296\n",
      "Epoch 34/150\n",
      "137/138 [============================>.] - ETA: 0s - loss: 0.0154 - accuracy: 0.1541\n",
      "Epoch 00034: ReduceLROnPlateau reducing learning rate to 1.0000000474974514e-05.\n",
      "138/138 [==============================] - 11s 83ms/step - loss: 0.0154 - accuracy: 0.1542 - val_loss: 0.0168 - val_accuracy: 0.1305\n",
      "Epoch 35/150\n",
      "138/138 [==============================] - 11s 80ms/step - loss: 0.0153 - accuracy: 0.1530 - val_loss: 0.0168 - val_accuracy: 0.1312\n",
      "Epoch 36/150\n",
      "138/138 [==============================] - 12s 84ms/step - loss: 0.0153 - accuracy: 0.1557 - val_loss: 0.0168 - val_accuracy: 0.1305\n",
      "Epoch 37/150\n",
      "137/138 [============================>.] - ETA: 0s - loss: 0.0153 - accuracy: 0.1565\n",
      "Epoch 00037: ReduceLROnPlateau reducing learning rate to 1.0000000656873453e-06.\n",
      "138/138 [==============================] - 11s 78ms/step - loss: 0.0153 - accuracy: 0.1565 - val_loss: 0.0168 - val_accuracy: 0.1310\n",
      "Epoch 38/150\n",
      "138/138 [==============================] - 11s 77ms/step - loss: 0.0153 - accuracy: 0.1547 - val_loss: 0.0168 - val_accuracy: 0.1308\n",
      "Epoch 39/150\n",
      "138/138 [==============================] - 11s 81ms/step - loss: 0.0153 - accuracy: 0.1537 - val_loss: 0.0168 - val_accuracy: 0.1312\n",
      "Epoch 40/150\n",
      "137/138 [============================>.] - ETA: 0s - loss: 0.0153 - accuracy: 0.1547\n",
      "Epoch 00040: ReduceLROnPlateau reducing learning rate to 1.0000001111620805e-07.\n",
      "138/138 [==============================] - 11s 78ms/step - loss: 0.0153 - accuracy: 0.1546 - val_loss: 0.0168 - val_accuracy: 0.1312\n",
      "Epoch 41/150\n",
      "138/138 [==============================] - 11s 81ms/step - loss: 0.0153 - accuracy: 0.1533 - val_loss: 0.0168 - val_accuracy: 0.1319\n",
      "Epoch 42/150\n",
      "138/138 [==============================] - 11s 80ms/step - loss: 0.0153 - accuracy: 0.1522 - val_loss: 0.0168 - val_accuracy: 0.1314\n",
      "Epoch 43/150\n",
      "137/138 [============================>.] - ETA: 0s - loss: 0.0153 - accuracy: 0.1514\n",
      "Epoch 00043: ReduceLROnPlateau reducing learning rate to 1.000000082740371e-08.\n",
      "138/138 [==============================] - 11s 77ms/step - loss: 0.0153 - accuracy: 0.1514 - val_loss: 0.0168 - val_accuracy: 0.1314\n",
      "Epoch 44/150\n",
      "138/138 [==============================] - 11s 77ms/step - loss: 0.0153 - accuracy: 0.1562 - val_loss: 0.0168 - val_accuracy: 0.1312\n",
      "Epoch 45/150\n",
      "138/138 [==============================] - 11s 79ms/step - loss: 0.0152 - accuracy: 0.1548 - val_loss: 0.0168 - val_accuracy: 0.1305\n",
      "Epoch 46/150\n",
      "137/138 [============================>.] - ETA: 0s - loss: 0.0152 - accuracy: 0.1539\n",
      "Epoch 00046: ReduceLROnPlateau reducing learning rate to 1.000000082740371e-09.\n",
      "138/138 [==============================] - 11s 80ms/step - loss: 0.0152 - accuracy: 0.1540 - val_loss: 0.0168 - val_accuracy: 0.1310\n",
      "Epoch 47/150\n",
      "138/138 [==============================] - 11s 79ms/step - loss: 0.0153 - accuracy: 0.1532 - val_loss: 0.0168 - val_accuracy: 0.1319\n",
      "Epoch 48/150\n",
      "138/138 [==============================] - 11s 80ms/step - loss: 0.0153 - accuracy: 0.1549 - val_loss: 0.0168 - val_accuracy: 0.1310\n",
      "Epoch 49/150\n",
      "137/138 [============================>.] - ETA: 0s - loss: 0.0153 - accuracy: 0.1559\n",
      "Epoch 00049: ReduceLROnPlateau reducing learning rate to 1.000000082740371e-10.\n",
      "Restoring model weights from the end of the best epoch.\n",
      "138/138 [==============================] - 11s 77ms/step - loss: 0.0153 - accuracy: 0.1559 - val_loss: 0.0168 - val_accuracy: 0.1314\n",
      "Epoch 00049: early stopping\n"
     ]
    },
    {
     "data": {
      "text/html": [
       "<span style=\"color:#4527A0\"><h1 style=\"font-size:18px\">Trial complete</h1></span>"
      ],
      "text/plain": [
       "<IPython.core.display.HTML object>"
      ]
     },
     "metadata": {},
     "output_type": "display_data"
    },
    {
     "data": {
      "text/html": [
       "<span style=\"color:#4527A0\"><h1 style=\"font-size:18px\">Trial summary</h1></span>"
      ],
      "text/plain": [
       "<IPython.core.display.HTML object>"
      ]
     },
     "metadata": {},
     "output_type": "display_data"
    },
    {
     "data": {
      "text/html": [
       "<span style=\"color:cyan\"> |-Trial ID: ddee47da3f4aed0290d7aed40c5b308b</span>"
      ],
      "text/plain": [
       "<IPython.core.display.HTML object>"
      ]
     },
     "metadata": {},
     "output_type": "display_data"
    },
    {
     "data": {
      "text/html": [
       "<span style=\"color:cyan\"> |-Score: 0.016778500750660896</span>"
      ],
      "text/plain": [
       "<IPython.core.display.HTML object>"
      ]
     },
     "metadata": {},
     "output_type": "display_data"
    },
    {
     "data": {
      "text/html": [
       "<span style=\"color:cyan\"> |-Best step: 0</span>"
      ],
      "text/plain": [
       "<IPython.core.display.HTML object>"
      ]
     },
     "metadata": {},
     "output_type": "display_data"
    },
    {
     "data": {
      "text/html": [
       "<span style=\"color:#7E57C2\"><h2 style=\"font-size:16px\">Hyperparameters:</h2></span>"
      ],
      "text/plain": [
       "<IPython.core.display.HTML object>"
      ]
     },
     "metadata": {},
     "output_type": "display_data"
    },
    {
     "data": {
      "text/html": [
       "<span style=\"color:cyan\"> |-Dropout_0: 0.61</span>"
      ],
      "text/plain": [
       "<IPython.core.display.HTML object>"
      ]
     },
     "metadata": {},
     "output_type": "display_data"
    },
    {
     "data": {
      "text/html": [
       "<span style=\"color:blue\"> |-Dropout_1: 0.6900000000000001</span>"
      ],
      "text/plain": [
       "<IPython.core.display.HTML object>"
      ]
     },
     "metadata": {},
     "output_type": "display_data"
    },
    {
     "data": {
      "text/html": [
       "<span style=\"color:cyan\"> |-Dropout_2: 0.59</span>"
      ],
      "text/plain": [
       "<IPython.core.display.HTML object>"
      ]
     },
     "metadata": {},
     "output_type": "display_data"
    },
    {
     "data": {
      "text/html": [
       "<span style=\"color:blue\"> |-Dropout_3: 0.25</span>"
      ],
      "text/plain": [
       "<IPython.core.display.HTML object>"
      ]
     },
     "metadata": {},
     "output_type": "display_data"
    },
    {
     "data": {
      "text/html": [
       "<span style=\"color:cyan\"> |-Dropout_4: 0.28</span>"
      ],
      "text/plain": [
       "<IPython.core.display.HTML object>"
      ]
     },
     "metadata": {},
     "output_type": "display_data"
    },
    {
     "data": {
      "text/html": [
       "<span style=\"color:blue\"> |-Dropout_5: 0.43</span>"
      ],
      "text/plain": [
       "<IPython.core.display.HTML object>"
      ]
     },
     "metadata": {},
     "output_type": "display_data"
    },
    {
     "data": {
      "text/html": [
       "<span style=\"color:cyan\"> |-N_Layers: 4</span>"
      ],
      "text/plain": [
       "<IPython.core.display.HTML object>"
      ]
     },
     "metadata": {},
     "output_type": "display_data"
    },
    {
     "data": {
      "text/html": [
       "<span style=\"color:blue\"> |-activation2_0: swish</span>"
      ],
      "text/plain": [
       "<IPython.core.display.HTML object>"
      ]
     },
     "metadata": {},
     "output_type": "display_data"
    },
    {
     "data": {
      "text/html": [
       "<span style=\"color:cyan\"> |-activation2_1: swish</span>"
      ],
      "text/plain": [
       "<IPython.core.display.HTML object>"
      ]
     },
     "metadata": {},
     "output_type": "display_data"
    },
    {
     "data": {
      "text/html": [
       "<span style=\"color:blue\"> |-activation2_2: selu</span>"
      ],
      "text/plain": [
       "<IPython.core.display.HTML object>"
      ]
     },
     "metadata": {},
     "output_type": "display_data"
    },
    {
     "data": {
      "text/html": [
       "<span style=\"color:cyan\"> |-activation2_3: swish</span>"
      ],
      "text/plain": [
       "<IPython.core.display.HTML object>"
      ]
     },
     "metadata": {},
     "output_type": "display_data"
    },
    {
     "data": {
      "text/html": [
       "<span style=\"color:blue\"> |-activation2_4: selu</span>"
      ],
      "text/plain": [
       "<IPython.core.display.HTML object>"
      ]
     },
     "metadata": {},
     "output_type": "display_data"
    },
    {
     "data": {
      "text/html": [
       "<span style=\"color:cyan\"> |-activation2_5: elu</span>"
      ],
      "text/plain": [
       "<IPython.core.display.HTML object>"
      ]
     },
     "metadata": {},
     "output_type": "display_data"
    },
    {
     "data": {
      "text/html": [
       "<span style=\"color:blue\"> |-number_of_neurons2_0: 749</span>"
      ],
      "text/plain": [
       "<IPython.core.display.HTML object>"
      ]
     },
     "metadata": {},
     "output_type": "display_data"
    },
    {
     "data": {
      "text/html": [
       "<span style=\"color:cyan\"> |-number_of_neurons2_1: 874</span>"
      ],
      "text/plain": [
       "<IPython.core.display.HTML object>"
      ]
     },
     "metadata": {},
     "output_type": "display_data"
    },
    {
     "data": {
      "text/html": [
       "<span style=\"color:blue\"> |-number_of_neurons2_2: 1658</span>"
      ],
      "text/plain": [
       "<IPython.core.display.HTML object>"
      ]
     },
     "metadata": {},
     "output_type": "display_data"
    },
    {
     "data": {
      "text/html": [
       "<span style=\"color:cyan\"> |-number_of_neurons2_3: 1209</span>"
      ],
      "text/plain": [
       "<IPython.core.display.HTML object>"
      ]
     },
     "metadata": {},
     "output_type": "display_data"
    },
    {
     "data": {
      "text/html": [
       "<span style=\"color:blue\"> |-number_of_neurons2_4: 1291</span>"
      ],
      "text/plain": [
       "<IPython.core.display.HTML object>"
      ]
     },
     "metadata": {},
     "output_type": "display_data"
    },
    {
     "data": {
      "text/html": [
       "<span style=\"color:cyan\"> |-number_of_neurons2_5: 1513</span>"
      ],
      "text/plain": [
       "<IPython.core.display.HTML object>"
      ]
     },
     "metadata": {},
     "output_type": "display_data"
    },
    {
     "name": "stdout",
     "output_type": "stream",
     "text": [
      "Epoch 1/150\n",
      "138/138 [==============================] - 14s 102ms/step - loss: 0.2528 - accuracy: 0.0360 - val_loss: 0.0250 - val_accuracy: 0.0818\n",
      "Epoch 2/150\n",
      "138/138 [==============================] - 13s 95ms/step - loss: 0.0227 - accuracy: 0.0727 - val_loss: 0.0198 - val_accuracy: 0.0852\n",
      "Epoch 3/150\n",
      "138/138 [==============================] - 12s 90ms/step - loss: 0.0203 - accuracy: 0.0966 - val_loss: 0.0185 - val_accuracy: 0.1282\n",
      "Epoch 4/150\n",
      "138/138 [==============================] - 13s 91ms/step - loss: 0.0192 - accuracy: 0.1111 - val_loss: 0.0179 - val_accuracy: 0.1066\n",
      "Epoch 5/150\n",
      "138/138 [==============================] - 12s 90ms/step - loss: 0.0183 - accuracy: 0.1252 - val_loss: 0.0176 - val_accuracy: 0.1185\n",
      "Epoch 6/150\n",
      "138/138 [==============================] - 13s 94ms/step - loss: 0.0175 - accuracy: 0.1380 - val_loss: 0.0173 - val_accuracy: 0.1264\n",
      "Epoch 7/150\n",
      "138/138 [==============================] - 13s 96ms/step - loss: 0.0172 - accuracy: 0.1508 - val_loss: 0.0170 - val_accuracy: 0.1658\n",
      "Epoch 8/150\n",
      "138/138 [==============================] - 12s 89ms/step - loss: 0.0164 - accuracy: 0.1635 - val_loss: 0.0167 - val_accuracy: 0.1310\n",
      "Epoch 9/150\n",
      "138/138 [==============================] - 12s 87ms/step - loss: 0.0157 - accuracy: 0.1750 - val_loss: 0.0168 - val_accuracy: 0.1362\n",
      "Epoch 10/150\n",
      "138/138 [==============================] - 12s 90ms/step - loss: 0.0149 - accuracy: 0.1914 - val_loss: 0.0167 - val_accuracy: 0.1419\n",
      "Epoch 11/150\n",
      "137/138 [============================>.] - ETA: 0s - loss: 0.0143 - accuracy: 0.2102\n",
      "Epoch 00011: ReduceLROnPlateau reducing learning rate to 0.00010000000474974513.\n",
      "138/138 [==============================] - 13s 93ms/step - loss: 0.0143 - accuracy: 0.2102 - val_loss: 0.0169 - val_accuracy: 0.1424\n",
      "Epoch 12/150\n",
      "138/138 [==============================] - 13s 95ms/step - loss: 0.0124 - accuracy: 0.2576 - val_loss: 0.0164 - val_accuracy: 0.1510\n",
      "Epoch 13/150\n",
      "138/138 [==============================] - 12s 87ms/step - loss: 0.0118 - accuracy: 0.2742 - val_loss: 0.0165 - val_accuracy: 0.1485\n",
      "Epoch 14/150\n",
      "138/138 [==============================] - 12s 87ms/step - loss: 0.0114 - accuracy: 0.2851 - val_loss: 0.0165 - val_accuracy: 0.1487\n",
      "Epoch 15/150\n",
      "137/138 [============================>.] - ETA: 0s - loss: 0.0110 - accuracy: 0.2985\n",
      "Epoch 00015: ReduceLROnPlateau reducing learning rate to 1.0000000474974514e-05.\n",
      "138/138 [==============================] - 12s 89ms/step - loss: 0.0110 - accuracy: 0.2983 - val_loss: 0.0166 - val_accuracy: 0.1485\n",
      "Epoch 16/150\n",
      "138/138 [==============================] - 12s 90ms/step - loss: 0.0107 - accuracy: 0.3091 - val_loss: 0.0166 - val_accuracy: 0.1476\n",
      "Epoch 17/150\n",
      "138/138 [==============================] - 13s 91ms/step - loss: 0.0106 - accuracy: 0.3119 - val_loss: 0.0166 - val_accuracy: 0.1462\n",
      "Epoch 18/150\n",
      "137/138 [============================>.] - ETA: 0s - loss: 0.0106 - accuracy: 0.3094\n",
      "Epoch 00018: ReduceLROnPlateau reducing learning rate to 1.0000000656873453e-06.\n",
      "138/138 [==============================] - 12s 87ms/step - loss: 0.0106 - accuracy: 0.3093 - val_loss: 0.0167 - val_accuracy: 0.1462\n",
      "Epoch 19/150\n",
      "138/138 [==============================] - 12s 87ms/step - loss: 0.0105 - accuracy: 0.3153 - val_loss: 0.0167 - val_accuracy: 0.1467\n",
      "Epoch 20/150\n",
      "138/138 [==============================] - 12s 90ms/step - loss: 0.0104 - accuracy: 0.3140 - val_loss: 0.0167 - val_accuracy: 0.1467\n",
      "Epoch 21/150\n",
      "137/138 [============================>.] - ETA: 0s - loss: 0.0105 - accuracy: 0.3151\n",
      "Epoch 00021: ReduceLROnPlateau reducing learning rate to 1.0000001111620805e-07.\n",
      "138/138 [==============================] - 12s 90ms/step - loss: 0.0105 - accuracy: 0.3151 - val_loss: 0.0167 - val_accuracy: 0.1467\n",
      "Epoch 22/150\n",
      "137/138 [============================>.] - ETA: 0s - loss: 0.0105 - accuracy: 0.3137Restoring model weights from the end of the best epoch.\n",
      "138/138 [==============================] - 12s 89ms/step - loss: 0.0105 - accuracy: 0.3136 - val_loss: 0.0167 - val_accuracy: 0.1467\n",
      "Epoch 00022: early stopping\n"
     ]
    },
    {
     "data": {
      "text/html": [
       "<span style=\"color:#4527A0\"><h1 style=\"font-size:18px\">Trial complete</h1></span>"
      ],
      "text/plain": [
       "<IPython.core.display.HTML object>"
      ]
     },
     "metadata": {},
     "output_type": "display_data"
    },
    {
     "data": {
      "text/html": [
       "<span style=\"color:#4527A0\"><h1 style=\"font-size:18px\">Trial summary</h1></span>"
      ],
      "text/plain": [
       "<IPython.core.display.HTML object>"
      ]
     },
     "metadata": {},
     "output_type": "display_data"
    },
    {
     "data": {
      "text/html": [
       "<span style=\"color:cyan\"> |-Trial ID: a72dcc2b37729895a2c22ce2ea660f9f</span>"
      ],
      "text/plain": [
       "<IPython.core.display.HTML object>"
      ]
     },
     "metadata": {},
     "output_type": "display_data"
    },
    {
     "data": {
      "text/html": [
       "<span style=\"color:cyan\"> |-Score: 0.016412118449807167</span>"
      ],
      "text/plain": [
       "<IPython.core.display.HTML object>"
      ]
     },
     "metadata": {},
     "output_type": "display_data"
    },
    {
     "data": {
      "text/html": [
       "<span style=\"color:cyan\"> |-Best step: 0</span>"
      ],
      "text/plain": [
       "<IPython.core.display.HTML object>"
      ]
     },
     "metadata": {},
     "output_type": "display_data"
    },
    {
     "data": {
      "text/html": [
       "<span style=\"color:#7E57C2\"><h2 style=\"font-size:16px\">Hyperparameters:</h2></span>"
      ],
      "text/plain": [
       "<IPython.core.display.HTML object>"
      ]
     },
     "metadata": {},
     "output_type": "display_data"
    },
    {
     "data": {
      "text/html": [
       "<span style=\"color:cyan\"> |-Dropout_0: 0.35000000000000003</span>"
      ],
      "text/plain": [
       "<IPython.core.display.HTML object>"
      ]
     },
     "metadata": {},
     "output_type": "display_data"
    },
    {
     "data": {
      "text/html": [
       "<span style=\"color:blue\"> |-Dropout_1: 0.5700000000000001</span>"
      ],
      "text/plain": [
       "<IPython.core.display.HTML object>"
      ]
     },
     "metadata": {},
     "output_type": "display_data"
    },
    {
     "data": {
      "text/html": [
       "<span style=\"color:cyan\"> |-Dropout_2: 0.26</span>"
      ],
      "text/plain": [
       "<IPython.core.display.HTML object>"
      ]
     },
     "metadata": {},
     "output_type": "display_data"
    },
    {
     "data": {
      "text/html": [
       "<span style=\"color:blue\"> |-Dropout_3: 0.01</span>"
      ],
      "text/plain": [
       "<IPython.core.display.HTML object>"
      ]
     },
     "metadata": {},
     "output_type": "display_data"
    },
    {
     "data": {
      "text/html": [
       "<span style=\"color:cyan\"> |-Dropout_4: 0.04</span>"
      ],
      "text/plain": [
       "<IPython.core.display.HTML object>"
      ]
     },
     "metadata": {},
     "output_type": "display_data"
    },
    {
     "data": {
      "text/html": [
       "<span style=\"color:blue\"> |-Dropout_5: 0.54</span>"
      ],
      "text/plain": [
       "<IPython.core.display.HTML object>"
      ]
     },
     "metadata": {},
     "output_type": "display_data"
    },
    {
     "data": {
      "text/html": [
       "<span style=\"color:cyan\"> |-N_Layers: 3</span>"
      ],
      "text/plain": [
       "<IPython.core.display.HTML object>"
      ]
     },
     "metadata": {},
     "output_type": "display_data"
    },
    {
     "data": {
      "text/html": [
       "<span style=\"color:blue\"> |-activation2_0: swish</span>"
      ],
      "text/plain": [
       "<IPython.core.display.HTML object>"
      ]
     },
     "metadata": {},
     "output_type": "display_data"
    },
    {
     "data": {
      "text/html": [
       "<span style=\"color:cyan\"> |-activation2_1: swish</span>"
      ],
      "text/plain": [
       "<IPython.core.display.HTML object>"
      ]
     },
     "metadata": {},
     "output_type": "display_data"
    },
    {
     "data": {
      "text/html": [
       "<span style=\"color:blue\"> |-activation2_2: selu</span>"
      ],
      "text/plain": [
       "<IPython.core.display.HTML object>"
      ]
     },
     "metadata": {},
     "output_type": "display_data"
    },
    {
     "data": {
      "text/html": [
       "<span style=\"color:cyan\"> |-activation2_3: swish</span>"
      ],
      "text/plain": [
       "<IPython.core.display.HTML object>"
      ]
     },
     "metadata": {},
     "output_type": "display_data"
    },
    {
     "data": {
      "text/html": [
       "<span style=\"color:blue\"> |-activation2_4: swish</span>"
      ],
      "text/plain": [
       "<IPython.core.display.HTML object>"
      ]
     },
     "metadata": {},
     "output_type": "display_data"
    },
    {
     "data": {
      "text/html": [
       "<span style=\"color:cyan\"> |-activation2_5: elu</span>"
      ],
      "text/plain": [
       "<IPython.core.display.HTML object>"
      ]
     },
     "metadata": {},
     "output_type": "display_data"
    },
    {
     "data": {
      "text/html": [
       "<span style=\"color:blue\"> |-number_of_neurons2_0: 1155</span>"
      ],
      "text/plain": [
       "<IPython.core.display.HTML object>"
      ]
     },
     "metadata": {},
     "output_type": "display_data"
    },
    {
     "data": {
      "text/html": [
       "<span style=\"color:cyan\"> |-number_of_neurons2_1: 1584</span>"
      ],
      "text/plain": [
       "<IPython.core.display.HTML object>"
      ]
     },
     "metadata": {},
     "output_type": "display_data"
    },
    {
     "data": {
      "text/html": [
       "<span style=\"color:blue\"> |-number_of_neurons2_2: 1893</span>"
      ],
      "text/plain": [
       "<IPython.core.display.HTML object>"
      ]
     },
     "metadata": {},
     "output_type": "display_data"
    },
    {
     "data": {
      "text/html": [
       "<span style=\"color:cyan\"> |-number_of_neurons2_3: 1388</span>"
      ],
      "text/plain": [
       "<IPython.core.display.HTML object>"
      ]
     },
     "metadata": {},
     "output_type": "display_data"
    },
    {
     "data": {
      "text/html": [
       "<span style=\"color:blue\"> |-number_of_neurons2_4: 763</span>"
      ],
      "text/plain": [
       "<IPython.core.display.HTML object>"
      ]
     },
     "metadata": {},
     "output_type": "display_data"
    },
    {
     "data": {
      "text/html": [
       "<span style=\"color:cyan\"> |-number_of_neurons2_5: 1465</span>"
      ],
      "text/plain": [
       "<IPython.core.display.HTML object>"
      ]
     },
     "metadata": {},
     "output_type": "display_data"
    },
    {
     "name": "stdout",
     "output_type": "stream",
     "text": [
      "SEED:58 Fold:4\n",
      "Epoch 1/150\n",
      "138/138 [==============================] - 7s 54ms/step - loss: 0.2895 - accuracy: 0.0444 - val_loss: 0.0263 - val_accuracy: 0.0795\n",
      "Epoch 2/150\n",
      "138/138 [==============================] - 7s 51ms/step - loss: 0.0234 - accuracy: 0.0830 - val_loss: 0.0198 - val_accuracy: 0.0991\n",
      "Epoch 3/150\n",
      "138/138 [==============================] - 7s 50ms/step - loss: 0.0201 - accuracy: 0.1094 - val_loss: 0.0185 - val_accuracy: 0.1057\n",
      "Epoch 4/150\n",
      "138/138 [==============================] - 7s 51ms/step - loss: 0.0186 - accuracy: 0.1288 - val_loss: 0.0180 - val_accuracy: 0.1513\n",
      "Epoch 5/150\n",
      "138/138 [==============================] - 7s 52ms/step - loss: 0.0174 - accuracy: 0.1493 - val_loss: 0.0175 - val_accuracy: 0.1328\n",
      "Epoch 6/150\n",
      "138/138 [==============================] - 7s 54ms/step - loss: 0.0166 - accuracy: 0.1644 - val_loss: 0.0171 - val_accuracy: 0.1478\n",
      "Epoch 7/150\n",
      "138/138 [==============================] - 7s 51ms/step - loss: 0.0156 - accuracy: 0.1879 - val_loss: 0.0175 - val_accuracy: 0.1472\n",
      "Epoch 8/150\n",
      "138/138 [==============================] - 7s 50ms/step - loss: 0.0147 - accuracy: 0.2089 - val_loss: 0.0175 - val_accuracy: 0.1784\n",
      "Epoch 9/150\n",
      "137/138 [============================>.] - ETA: 0s - loss: 0.0139 - accuracy: 0.2298\n",
      "Epoch 00009: ReduceLROnPlateau reducing learning rate to 0.00010000000474974513.\n",
      "138/138 [==============================] - 7s 50ms/step - loss: 0.0139 - accuracy: 0.2298 - val_loss: 0.0175 - val_accuracy: 0.1522\n",
      "Epoch 10/150\n",
      "138/138 [==============================] - 7s 52ms/step - loss: 0.0119 - accuracy: 0.2825 - val_loss: 0.0169 - val_accuracy: 0.1547\n",
      "Epoch 11/150\n",
      "138/138 [==============================] - 7s 50ms/step - loss: 0.0113 - accuracy: 0.2960 - val_loss: 0.0168 - val_accuracy: 0.1585\n",
      "Epoch 12/150\n",
      "138/138 [==============================] - 7s 49ms/step - loss: 0.0109 - accuracy: 0.3070 - val_loss: 0.0169 - val_accuracy: 0.1544\n",
      "Epoch 13/150\n",
      "138/138 [==============================] - ETA: 0s - loss: 0.0107 - accuracy: 0.3139\n",
      "Epoch 00013: ReduceLROnPlateau reducing learning rate to 1.0000000474974514e-05.\n",
      "138/138 [==============================] - 7s 49ms/step - loss: 0.0107 - accuracy: 0.3139 - val_loss: 0.0170 - val_accuracy: 0.1563\n",
      "Epoch 14/150\n",
      "138/138 [==============================] - 7s 54ms/step - loss: 0.0103 - accuracy: 0.3306 - val_loss: 0.0170 - val_accuracy: 0.1560\n",
      "Epoch 15/150\n",
      "138/138 [==============================] - 8s 59ms/step - loss: 0.0102 - accuracy: 0.3351 - val_loss: 0.0170 - val_accuracy: 0.1556\n",
      "Epoch 16/150\n",
      "137/138 [============================>.] - ETA: 0s - loss: 0.0102 - accuracy: 0.3311\n",
      "Epoch 00016: ReduceLROnPlateau reducing learning rate to 1.0000000656873453e-06.\n",
      "138/138 [==============================] - 8s 56ms/step - loss: 0.0102 - accuracy: 0.3311 - val_loss: 0.0170 - val_accuracy: 0.1558\n",
      "Epoch 17/150\n",
      "138/138 [==============================] - 7s 54ms/step - loss: 0.0101 - accuracy: 0.3339 - val_loss: 0.0170 - val_accuracy: 0.1554\n",
      "Epoch 18/150\n",
      "138/138 [==============================] - 7s 50ms/step - loss: 0.0102 - accuracy: 0.3341 - val_loss: 0.0170 - val_accuracy: 0.1551\n",
      "Epoch 19/150\n",
      "137/138 [============================>.] - ETA: 0s - loss: 0.0101 - accuracy: 0.3331\n",
      "Epoch 00019: ReduceLROnPlateau reducing learning rate to 1.0000001111620805e-07.\n",
      "138/138 [==============================] - 7s 52ms/step - loss: 0.0101 - accuracy: 0.3330 - val_loss: 0.0170 - val_accuracy: 0.1556\n",
      "Epoch 20/150\n",
      "138/138 [==============================] - 7s 49ms/step - loss: 0.0102 - accuracy: 0.3329 - val_loss: 0.0170 - val_accuracy: 0.1556\n",
      "Epoch 21/150\n",
      "137/138 [============================>.] - ETA: 0s - loss: 0.0101 - accuracy: 0.3360Restoring model weights from the end of the best epoch.\n",
      "138/138 [==============================] - 7s 50ms/step - loss: 0.0101 - accuracy: 0.3361 - val_loss: 0.0170 - val_accuracy: 0.1560\n",
      "Epoch 00021: early stopping\n"
     ]
    },
    {
     "data": {
      "text/html": [
       "<span style=\"color:#4527A0\"><h1 style=\"font-size:18px\">Trial complete</h1></span>"
      ],
      "text/plain": [
       "<IPython.core.display.HTML object>"
      ]
     },
     "metadata": {},
     "output_type": "display_data"
    },
    {
     "data": {
      "text/html": [
       "<span style=\"color:#4527A0\"><h1 style=\"font-size:18px\">Trial summary</h1></span>"
      ],
      "text/plain": [
       "<IPython.core.display.HTML object>"
      ]
     },
     "metadata": {},
     "output_type": "display_data"
    },
    {
     "data": {
      "text/html": [
       "<span style=\"color:cyan\"> |-Trial ID: 06feececfc0ae4d9879b8ab9e9739189</span>"
      ],
      "text/plain": [
       "<IPython.core.display.HTML object>"
      ]
     },
     "metadata": {},
     "output_type": "display_data"
    },
    {
     "data": {
      "text/html": [
       "<span style=\"color:cyan\"> |-Score: 0.016809480264782906</span>"
      ],
      "text/plain": [
       "<IPython.core.display.HTML object>"
      ]
     },
     "metadata": {},
     "output_type": "display_data"
    },
    {
     "data": {
      "text/html": [
       "<span style=\"color:cyan\"> |-Best step: 0</span>"
      ],
      "text/plain": [
       "<IPython.core.display.HTML object>"
      ]
     },
     "metadata": {},
     "output_type": "display_data"
    },
    {
     "data": {
      "text/html": [
       "<span style=\"color:#7E57C2\"><h2 style=\"font-size:16px\">Hyperparameters:</h2></span>"
      ],
      "text/plain": [
       "<IPython.core.display.HTML object>"
      ]
     },
     "metadata": {},
     "output_type": "display_data"
    },
    {
     "data": {
      "text/html": [
       "<span style=\"color:cyan\"> |-Dropout_0: 0.29</span>"
      ],
      "text/plain": [
       "<IPython.core.display.HTML object>"
      ]
     },
     "metadata": {},
     "output_type": "display_data"
    },
    {
     "data": {
      "text/html": [
       "<span style=\"color:blue\"> |-Dropout_1: 0.29</span>"
      ],
      "text/plain": [
       "<IPython.core.display.HTML object>"
      ]
     },
     "metadata": {},
     "output_type": "display_data"
    },
    {
     "data": {
      "text/html": [
       "<span style=\"color:cyan\"> |-N_Layers: 2</span>"
      ],
      "text/plain": [
       "<IPython.core.display.HTML object>"
      ]
     },
     "metadata": {},
     "output_type": "display_data"
    },
    {
     "data": {
      "text/html": [
       "<span style=\"color:blue\"> |-activation2_0: selu</span>"
      ],
      "text/plain": [
       "<IPython.core.display.HTML object>"
      ]
     },
     "metadata": {},
     "output_type": "display_data"
    },
    {
     "data": {
      "text/html": [
       "<span style=\"color:cyan\"> |-activation2_1: selu</span>"
      ],
      "text/plain": [
       "<IPython.core.display.HTML object>"
      ]
     },
     "metadata": {},
     "output_type": "display_data"
    },
    {
     "data": {
      "text/html": [
       "<span style=\"color:blue\"> |-number_of_neurons2_0: 1621</span>"
      ],
      "text/plain": [
       "<IPython.core.display.HTML object>"
      ]
     },
     "metadata": {},
     "output_type": "display_data"
    },
    {
     "data": {
      "text/html": [
       "<span style=\"color:cyan\"> |-number_of_neurons2_1: 968</span>"
      ],
      "text/plain": [
       "<IPython.core.display.HTML object>"
      ]
     },
     "metadata": {},
     "output_type": "display_data"
    },
    {
     "name": "stdout",
     "output_type": "stream",
     "text": [
      "Epoch 1/150\n",
      "138/138 [==============================] - 8s 61ms/step - loss: 0.3001 - accuracy: 0.0298 - val_loss: 0.0408 - val_accuracy: 0.0191\n",
      "Epoch 2/150\n",
      "138/138 [==============================] - 8s 60ms/step - loss: 0.0234 - accuracy: 0.0526 - val_loss: 0.0209 - val_accuracy: 0.0665\n",
      "Epoch 3/150\n",
      "138/138 [==============================] - 8s 56ms/step - loss: 0.0197 - accuracy: 0.0832 - val_loss: 0.0192 - val_accuracy: 0.1185\n",
      "Epoch 4/150\n",
      "138/138 [==============================] - 8s 55ms/step - loss: 0.0184 - accuracy: 0.1102 - val_loss: 0.0180 - val_accuracy: 0.1362\n",
      "Epoch 5/150\n",
      "138/138 [==============================] - 8s 55ms/step - loss: 0.0175 - accuracy: 0.1263 - val_loss: 0.0176 - val_accuracy: 0.1212\n",
      "Epoch 6/150\n",
      "138/138 [==============================] - 8s 56ms/step - loss: 0.0170 - accuracy: 0.1390 - val_loss: 0.0175 - val_accuracy: 0.1624\n",
      "Epoch 7/150\n",
      "138/138 [==============================] - 8s 54ms/step - loss: 0.0165 - accuracy: 0.1502 - val_loss: 0.0172 - val_accuracy: 0.1401\n",
      "Epoch 8/150\n",
      "138/138 [==============================] - 7s 54ms/step - loss: 0.0160 - accuracy: 0.1580 - val_loss: 0.0178 - val_accuracy: 0.1460\n",
      "Epoch 9/150\n",
      "138/138 [==============================] - 8s 58ms/step - loss: 0.0156 - accuracy: 0.1658 - val_loss: 0.0168 - val_accuracy: 0.1501\n",
      "Epoch 10/150\n",
      "138/138 [==============================] - 9s 63ms/step - loss: 0.0151 - accuracy: 0.1756 - val_loss: 0.0169 - val_accuracy: 0.1547\n",
      "Epoch 11/150\n",
      "138/138 [==============================] - 9s 66ms/step - loss: 0.0148 - accuracy: 0.1829 - val_loss: 0.0169 - val_accuracy: 0.1467\n",
      "Epoch 12/150\n",
      "137/138 [============================>.] - ETA: 0s - loss: 0.0143 - accuracy: 0.1941\n",
      "Epoch 00012: ReduceLROnPlateau reducing learning rate to 0.00010000000474974513.\n",
      "138/138 [==============================] - 9s 64ms/step - loss: 0.0143 - accuracy: 0.1939 - val_loss: 0.0168 - val_accuracy: 0.1524\n",
      "Epoch 13/150\n",
      "138/138 [==============================] - 9s 66ms/step - loss: 0.0132 - accuracy: 0.2169 - val_loss: 0.0163 - val_accuracy: 0.1588\n",
      "Epoch 14/150\n",
      "138/138 [==============================] - 9s 66ms/step - loss: 0.0129 - accuracy: 0.2224 - val_loss: 0.0163 - val_accuracy: 0.1588\n",
      "Epoch 15/150\n",
      "138/138 [==============================] - 9s 64ms/step - loss: 0.0127 - accuracy: 0.2246 - val_loss: 0.0163 - val_accuracy: 0.1590\n",
      "Epoch 16/150\n",
      "137/138 [============================>.] - ETA: 0s - loss: 0.0125 - accuracy: 0.2317\n",
      "Epoch 00016: ReduceLROnPlateau reducing learning rate to 1.0000000474974514e-05.\n",
      "138/138 [==============================] - 10s 69ms/step - loss: 0.0125 - accuracy: 0.2316 - val_loss: 0.0163 - val_accuracy: 0.1583\n",
      "Epoch 17/150\n",
      "138/138 [==============================] - 9s 68ms/step - loss: 0.0123 - accuracy: 0.2363 - val_loss: 0.0164 - val_accuracy: 0.1585\n",
      "Epoch 18/150\n",
      "138/138 [==============================] - 9s 65ms/step - loss: 0.0123 - accuracy: 0.2348 - val_loss: 0.0164 - val_accuracy: 0.1579\n",
      "Epoch 19/150\n",
      "137/138 [============================>.] - ETA: 0s - loss: 0.0123 - accuracy: 0.2377\n",
      "Epoch 00019: ReduceLROnPlateau reducing learning rate to 1.0000000656873453e-06.\n",
      "138/138 [==============================] - 9s 64ms/step - loss: 0.0123 - accuracy: 0.2378 - val_loss: 0.0164 - val_accuracy: 0.1579\n",
      "Epoch 20/150\n",
      "138/138 [==============================] - 9s 66ms/step - loss: 0.0123 - accuracy: 0.2365 - val_loss: 0.0164 - val_accuracy: 0.1581\n",
      "Epoch 21/150\n",
      "138/138 [==============================] - 9s 65ms/step - loss: 0.0123 - accuracy: 0.2382 - val_loss: 0.0164 - val_accuracy: 0.1581\n",
      "Epoch 22/150\n",
      "137/138 [============================>.] - ETA: 0s - loss: 0.0123 - accuracy: 0.2359\n",
      "Epoch 00022: ReduceLROnPlateau reducing learning rate to 1.0000001111620805e-07.\n",
      "138/138 [==============================] - 9s 67ms/step - loss: 0.0123 - accuracy: 0.2358 - val_loss: 0.0164 - val_accuracy: 0.1581\n",
      "Epoch 23/150\n",
      "138/138 [==============================] - 9s 69ms/step - loss: 0.0123 - accuracy: 0.2389 - val_loss: 0.0164 - val_accuracy: 0.1579\n",
      "Epoch 24/150\n",
      "137/138 [============================>.] - ETA: 0s - loss: 0.0123 - accuracy: 0.2398Restoring model weights from the end of the best epoch.\n",
      "138/138 [==============================] - 9s 67ms/step - loss: 0.0123 - accuracy: 0.2397 - val_loss: 0.0164 - val_accuracy: 0.1579\n",
      "Epoch 00024: early stopping\n"
     ]
    },
    {
     "data": {
      "text/html": [
       "<span style=\"color:#4527A0\"><h1 style=\"font-size:18px\">Trial complete</h1></span>"
      ],
      "text/plain": [
       "<IPython.core.display.HTML object>"
      ]
     },
     "metadata": {},
     "output_type": "display_data"
    },
    {
     "data": {
      "text/html": [
       "<span style=\"color:#4527A0\"><h1 style=\"font-size:18px\">Trial summary</h1></span>"
      ],
      "text/plain": [
       "<IPython.core.display.HTML object>"
      ]
     },
     "metadata": {},
     "output_type": "display_data"
    },
    {
     "data": {
      "text/html": [
       "<span style=\"color:cyan\"> |-Trial ID: 85098f82e57707fe9150f6f16c183e93</span>"
      ],
      "text/plain": [
       "<IPython.core.display.HTML object>"
      ]
     },
     "metadata": {},
     "output_type": "display_data"
    },
    {
     "data": {
      "text/html": [
       "<span style=\"color:cyan\"> |-Score: 0.016319915652275085</span>"
      ],
      "text/plain": [
       "<IPython.core.display.HTML object>"
      ]
     },
     "metadata": {},
     "output_type": "display_data"
    },
    {
     "data": {
      "text/html": [
       "<span style=\"color:cyan\"> |-Best step: 0</span>"
      ],
      "text/plain": [
       "<IPython.core.display.HTML object>"
      ]
     },
     "metadata": {},
     "output_type": "display_data"
    },
    {
     "data": {
      "text/html": [
       "<span style=\"color:#7E57C2\"><h2 style=\"font-size:16px\">Hyperparameters:</h2></span>"
      ],
      "text/plain": [
       "<IPython.core.display.HTML object>"
      ]
     },
     "metadata": {},
     "output_type": "display_data"
    },
    {
     "data": {
      "text/html": [
       "<span style=\"color:cyan\"> |-Dropout_0: 0.6900000000000001</span>"
      ],
      "text/plain": [
       "<IPython.core.display.HTML object>"
      ]
     },
     "metadata": {},
     "output_type": "display_data"
    },
    {
     "data": {
      "text/html": [
       "<span style=\"color:blue\"> |-Dropout_1: 0.44</span>"
      ],
      "text/plain": [
       "<IPython.core.display.HTML object>"
      ]
     },
     "metadata": {},
     "output_type": "display_data"
    },
    {
     "data": {
      "text/html": [
       "<span style=\"color:cyan\"> |-Dropout_2: 0.0</span>"
      ],
      "text/plain": [
       "<IPython.core.display.HTML object>"
      ]
     },
     "metadata": {},
     "output_type": "display_data"
    },
    {
     "data": {
      "text/html": [
       "<span style=\"color:blue\"> |-Dropout_3: 0.0</span>"
      ],
      "text/plain": [
       "<IPython.core.display.HTML object>"
      ]
     },
     "metadata": {},
     "output_type": "display_data"
    },
    {
     "data": {
      "text/html": [
       "<span style=\"color:cyan\"> |-N_Layers: 4</span>"
      ],
      "text/plain": [
       "<IPython.core.display.HTML object>"
      ]
     },
     "metadata": {},
     "output_type": "display_data"
    },
    {
     "data": {
      "text/html": [
       "<span style=\"color:blue\"> |-activation2_0: selu</span>"
      ],
      "text/plain": [
       "<IPython.core.display.HTML object>"
      ]
     },
     "metadata": {},
     "output_type": "display_data"
    },
    {
     "data": {
      "text/html": [
       "<span style=\"color:cyan\"> |-activation2_1: selu</span>"
      ],
      "text/plain": [
       "<IPython.core.display.HTML object>"
      ]
     },
     "metadata": {},
     "output_type": "display_data"
    },
    {
     "data": {
      "text/html": [
       "<span style=\"color:blue\"> |-activation2_2: elu</span>"
      ],
      "text/plain": [
       "<IPython.core.display.HTML object>"
      ]
     },
     "metadata": {},
     "output_type": "display_data"
    },
    {
     "data": {
      "text/html": [
       "<span style=\"color:cyan\"> |-activation2_3: elu</span>"
      ],
      "text/plain": [
       "<IPython.core.display.HTML object>"
      ]
     },
     "metadata": {},
     "output_type": "display_data"
    },
    {
     "data": {
      "text/html": [
       "<span style=\"color:blue\"> |-number_of_neurons2_0: 1394</span>"
      ],
      "text/plain": [
       "<IPython.core.display.HTML object>"
      ]
     },
     "metadata": {},
     "output_type": "display_data"
    },
    {
     "data": {
      "text/html": [
       "<span style=\"color:cyan\"> |-number_of_neurons2_1: 813</span>"
      ],
      "text/plain": [
       "<IPython.core.display.HTML object>"
      ]
     },
     "metadata": {},
     "output_type": "display_data"
    },
    {
     "data": {
      "text/html": [
       "<span style=\"color:blue\"> |-number_of_neurons2_2: 512</span>"
      ],
      "text/plain": [
       "<IPython.core.display.HTML object>"
      ]
     },
     "metadata": {},
     "output_type": "display_data"
    },
    {
     "data": {
      "text/html": [
       "<span style=\"color:cyan\"> |-number_of_neurons2_3: 512</span>"
      ],
      "text/plain": [
       "<IPython.core.display.HTML object>"
      ]
     },
     "metadata": {},
     "output_type": "display_data"
    },
    {
     "name": "stdout",
     "output_type": "stream",
     "text": [
      "Epoch 1/150\n",
      "138/138 [==============================] - 14s 101ms/step - loss: 0.2586 - accuracy: 0.0522 - val_loss: 0.0233 - val_accuracy: 0.0706\n",
      "Epoch 2/150\n",
      "138/138 [==============================] - 14s 103ms/step - loss: 0.0210 - accuracy: 0.1005 - val_loss: 0.0193 - val_accuracy: 0.1050\n",
      "Epoch 3/150\n",
      "138/138 [==============================] - 15s 106ms/step - loss: 0.0182 - accuracy: 0.1312 - val_loss: 0.0177 - val_accuracy: 0.1228\n",
      "Epoch 4/150\n",
      "138/138 [==============================] - 14s 104ms/step - loss: 0.0165 - accuracy: 0.1668 - val_loss: 0.0173 - val_accuracy: 0.1364\n",
      "Epoch 5/150\n",
      "138/138 [==============================] - 14s 103ms/step - loss: 0.0147 - accuracy: 0.2124 - val_loss: 0.0172 - val_accuracy: 0.1478\n",
      "Epoch 6/150\n",
      "138/138 [==============================] - 14s 101ms/step - loss: 0.0124 - accuracy: 0.2791 - val_loss: 0.0181 - val_accuracy: 0.1476\n",
      "Epoch 7/150\n",
      "137/138 [============================>.] - ETA: 0s - loss: 0.0098 - accuracy: 0.3785\n",
      "Epoch 00007: ReduceLROnPlateau reducing learning rate to 0.00010000000474974513.\n",
      "138/138 [==============================] - 15s 107ms/step - loss: 0.0098 - accuracy: 0.3786 - val_loss: 0.0193 - val_accuracy: 0.1752\n",
      "Epoch 8/150\n",
      "138/138 [==============================] - 14s 104ms/step - loss: 0.0052 - accuracy: 0.5429 - val_loss: 0.0180 - val_accuracy: 0.1535\n",
      "Epoch 9/150\n",
      "138/138 [==============================] - 14s 101ms/step - loss: 0.0037 - accuracy: 0.5711 - val_loss: 0.0183 - val_accuracy: 0.1620\n",
      "Epoch 10/150\n",
      "137/138 [============================>.] - ETA: 0s - loss: 0.0029 - accuracy: 0.5882\n",
      "Epoch 00010: ReduceLROnPlateau reducing learning rate to 1.0000000474974514e-05.\n",
      "138/138 [==============================] - 13s 98ms/step - loss: 0.0029 - accuracy: 0.5881 - val_loss: 0.0186 - val_accuracy: 0.1558\n",
      "Epoch 11/150\n",
      "138/138 [==============================] - 15s 105ms/step - loss: 0.0023 - accuracy: 0.5956 - val_loss: 0.0188 - val_accuracy: 0.1551\n",
      "Epoch 15/150\n",
      "137/138 [============================>.] - ETA: 0s - loss: 0.0023 - accuracy: 0.5965Restoring model weights from the end of the best epoch.\n",
      "138/138 [==============================] - 13s 97ms/step - loss: 0.0023 - accuracy: 0.5964 - val_loss: 0.0188 - val_accuracy: 0.1563\n",
      "Epoch 00015: early stopping\n"
     ]
    },
    {
     "data": {
      "text/html": [
       "<span style=\"color:#4527A0\"><h1 style=\"font-size:18px\">Trial complete</h1></span>"
      ],
      "text/plain": [
       "<IPython.core.display.HTML object>"
      ]
     },
     "metadata": {},
     "output_type": "display_data"
    },
    {
     "data": {
      "text/html": [
       "<span style=\"color:#4527A0\"><h1 style=\"font-size:18px\">Trial summary</h1></span>"
      ],
      "text/plain": [
       "<IPython.core.display.HTML object>"
      ]
     },
     "metadata": {},
     "output_type": "display_data"
    },
    {
     "data": {
      "text/html": [
       "<span style=\"color:cyan\"> |-Trial ID: 96a71cbd376b2716844cdbd1f2ab93aa</span>"
      ],
      "text/plain": [
       "<IPython.core.display.HTML object>"
      ]
     },
     "metadata": {},
     "output_type": "display_data"
    },
    {
     "data": {
      "text/html": [
       "<span style=\"color:cyan\"> |-Score: 0.017200453206896782</span>"
      ],
      "text/plain": [
       "<IPython.core.display.HTML object>"
      ]
     },
     "metadata": {},
     "output_type": "display_data"
    },
    {
     "data": {
      "text/html": [
       "<span style=\"color:cyan\"> |-Best step: 0</span>"
      ],
      "text/plain": [
       "<IPython.core.display.HTML object>"
      ]
     },
     "metadata": {},
     "output_type": "display_data"
    },
    {
     "data": {
      "text/html": [
       "<span style=\"color:#7E57C2\"><h2 style=\"font-size:16px\">Hyperparameters:</h2></span>"
      ],
      "text/plain": [
       "<IPython.core.display.HTML object>"
      ]
     },
     "metadata": {},
     "output_type": "display_data"
    },
    {
     "data": {
      "text/html": [
       "<span style=\"color:cyan\"> |-Dropout_0: 0.11</span>"
      ],
      "text/plain": [
       "<IPython.core.display.HTML object>"
      ]
     },
     "metadata": {},
     "output_type": "display_data"
    },
    {
     "data": {
      "text/html": [
       "<span style=\"color:blue\"> |-Dropout_1: 0.03</span>"
      ],
      "text/plain": [
       "<IPython.core.display.HTML object>"
      ]
     },
     "metadata": {},
     "output_type": "display_data"
    },
    {
     "data": {
      "text/html": [
       "<span style=\"color:cyan\"> |-Dropout_2: 0.08</span>"
      ],
      "text/plain": [
       "<IPython.core.display.HTML object>"
      ]
     },
     "metadata": {},
     "output_type": "display_data"
    },
    {
     "data": {
      "text/html": [
       "<span style=\"color:blue\"> |-Dropout_3: 0.09</span>"
      ],
      "text/plain": [
       "<IPython.core.display.HTML object>"
      ]
     },
     "metadata": {},
     "output_type": "display_data"
    },
    {
     "data": {
      "text/html": [
       "<span style=\"color:cyan\"> |-N_Layers: 3</span>"
      ],
      "text/plain": [
       "<IPython.core.display.HTML object>"
      ]
     },
     "metadata": {},
     "output_type": "display_data"
    },
    {
     "data": {
      "text/html": [
       "<span style=\"color:blue\"> |-activation2_0: swish</span>"
      ],
      "text/plain": [
       "<IPython.core.display.HTML object>"
      ]
     },
     "metadata": {},
     "output_type": "display_data"
    },
    {
     "data": {
      "text/html": [
       "<span style=\"color:cyan\"> |-activation2_1: swish</span>"
      ],
      "text/plain": [
       "<IPython.core.display.HTML object>"
      ]
     },
     "metadata": {},
     "output_type": "display_data"
    },
    {
     "data": {
      "text/html": [
       "<span style=\"color:blue\"> |-activation2_2: elu</span>"
      ],
      "text/plain": [
       "<IPython.core.display.HTML object>"
      ]
     },
     "metadata": {},
     "output_type": "display_data"
    },
    {
     "data": {
      "text/html": [
       "<span style=\"color:cyan\"> |-activation2_3: selu</span>"
      ],
      "text/plain": [
       "<IPython.core.display.HTML object>"
      ]
     },
     "metadata": {},
     "output_type": "display_data"
    },
    {
     "data": {
      "text/html": [
       "<span style=\"color:blue\"> |-number_of_neurons2_0: 1623</span>"
      ],
      "text/plain": [
       "<IPython.core.display.HTML object>"
      ]
     },
     "metadata": {},
     "output_type": "display_data"
    },
    {
     "data": {
      "text/html": [
       "<span style=\"color:cyan\"> |-number_of_neurons2_1: 1404</span>"
      ],
      "text/plain": [
       "<IPython.core.display.HTML object>"
      ]
     },
     "metadata": {},
     "output_type": "display_data"
    },
    {
     "data": {
      "text/html": [
       "<span style=\"color:blue\"> |-number_of_neurons2_2: 1182</span>"
      ],
      "text/plain": [
       "<IPython.core.display.HTML object>"
      ]
     },
     "metadata": {},
     "output_type": "display_data"
    },
    {
     "data": {
      "text/html": [
       "<span style=\"color:cyan\"> |-number_of_neurons2_3: 1697</span>"
      ],
      "text/plain": [
       "<IPython.core.display.HTML object>"
      ]
     },
     "metadata": {},
     "output_type": "display_data"
    },
    {
     "name": "stdout",
     "output_type": "stream",
     "text": [
      "Epoch 1/150\n",
      "138/138 [==============================] - 12s 84ms/step - loss: 0.2939 - accuracy: 0.0208 - val_loss: 0.0270 - val_accuracy: 0.0456\n",
      "Epoch 2/150\n",
      "138/138 [==============================] - 11s 78ms/step - loss: 0.0248 - accuracy: 0.0428 - val_loss: 0.0211 - val_accuracy: 0.0453\n",
      "Epoch 3/150\n",
      "138/138 [==============================] - 11s 78ms/step - loss: 0.0223 - accuracy: 0.0550 - val_loss: 0.0199 - val_accuracy: 0.0688\n",
      "Epoch 4/150\n",
      "138/138 [==============================] - 11s 80ms/step - loss: 0.0211 - accuracy: 0.0801 - val_loss: 0.0190 - val_accuracy: 0.1169\n",
      "Epoch 5/150\n",
      "138/138 [==============================] - 11s 78ms/step - loss: 0.0201 - accuracy: 0.0954 - val_loss: 0.0182 - val_accuracy: 0.0952\n",
      "Epoch 6/150\n",
      "138/138 [==============================] - 11s 83ms/step - loss: 0.0195 - accuracy: 0.1039 - val_loss: 0.0179 - val_accuracy: 0.1139\n",
      "Epoch 7/150\n",
      "138/138 [==============================] - 11s 78ms/step - loss: 0.0189 - accuracy: 0.1131 - val_loss: 0.0177 - val_accuracy: 0.1123\n",
      "Epoch 8/150\n",
      "138/138 [==============================] - 11s 79ms/step - loss: 0.0184 - accuracy: 0.1189 - val_loss: 0.0176 - val_accuracy: 0.1191\n",
      "Epoch 9/150\n",
      "138/138 [==============================] - 11s 80ms/step - loss: 0.0180 - accuracy: 0.1208 - val_loss: 0.0174 - val_accuracy: 0.1264\n",
      "Epoch 10/150\n",
      "138/138 [==============================] - 11s 78ms/step - loss: 0.0177 - accuracy: 0.1277 - val_loss: 0.0173 - val_accuracy: 0.1262\n",
      "Epoch 11/150\n",
      "138/138 [==============================] - 11s 80ms/step - loss: 0.0174 - accuracy: 0.1334 - val_loss: 0.0171 - val_accuracy: 0.1282\n",
      "Epoch 12/150\n",
      "138/138 [==============================] - 11s 82ms/step - loss: 0.0171 - accuracy: 0.1354 - val_loss: 0.0171 - val_accuracy: 0.1314\n",
      "Epoch 13/150\n",
      "138/138 [==============================] - 11s 78ms/step - loss: 0.0169 - accuracy: 0.1414 - val_loss: 0.0170 - val_accuracy: 0.1355\n",
      "Epoch 14/150\n",
      "138/138 [==============================] - 11s 78ms/step - loss: 0.0165 - accuracy: 0.1440 - val_loss: 0.0169 - val_accuracy: 0.1349\n",
      "Epoch 15/150\n",
      "138/138 [==============================] - 11s 80ms/step - loss: 0.0163 - accuracy: 0.1503 - val_loss: 0.0168 - val_accuracy: 0.1415\n",
      "Epoch 16/150\n",
      "138/138 [==============================] - 11s 81ms/step - loss: 0.0160 - accuracy: 0.1534 - val_loss: 0.0170 - val_accuracy: 0.1369\n",
      "Epoch 17/150\n",
      "137/138 [============================>.] - ETA: 0s - loss: 0.0157 - accuracy: 0.1629\n",
      "Epoch 00017: ReduceLROnPlateau reducing learning rate to 0.00010000000474974513.\n",
      "138/138 [==============================] - 11s 81ms/step - loss: 0.0157 - accuracy: 0.1627 - val_loss: 0.0169 - val_accuracy: 0.1415\n",
      "Epoch 18/150\n",
      "138/138 [==============================] - 12s 84ms/step - loss: 0.0149 - accuracy: 0.1759 - val_loss: 0.0166 - val_accuracy: 0.1449\n",
      "Epoch 19/150\n",
      "138/138 [==============================] - 11s 78ms/step - loss: 0.0147 - accuracy: 0.1765 - val_loss: 0.0166 - val_accuracy: 0.1458\n",
      "Epoch 20/150\n",
      "138/138 [==============================] - 11s 77ms/step - loss: 0.0146 - accuracy: 0.1815 - val_loss: 0.0166 - val_accuracy: 0.1472\n",
      "Epoch 21/150\n",
      "137/138 [============================>.] - ETA: 0s - loss: 0.0144 - accuracy: 0.1831\n",
      "Epoch 00021: ReduceLROnPlateau reducing learning rate to 1.0000000474974514e-05.\n",
      "138/138 [==============================] - 11s 79ms/step - loss: 0.0144 - accuracy: 0.1831 - val_loss: 0.0166 - val_accuracy: 0.1469\n",
      "Epoch 22/150\n",
      "138/138 [==============================] - 11s 79ms/step - loss: 0.0144 - accuracy: 0.1872 - val_loss: 0.0166 - val_accuracy: 0.1472\n",
      "Epoch 23/150\n",
      "138/138 [==============================] - 11s 79ms/step - loss: 0.0143 - accuracy: 0.1862 - val_loss: 0.0166 - val_accuracy: 0.1469\n",
      "Epoch 24/150\n",
      "137/138 [============================>.] - ETA: 0s - loss: 0.0143 - accuracy: 0.1862\n",
      "Epoch 00024: ReduceLROnPlateau reducing learning rate to 1.0000000656873453e-06.\n",
      "138/138 [==============================] - 11s 79ms/step - loss: 0.0143 - accuracy: 0.1860 - val_loss: 0.0166 - val_accuracy: 0.1476\n",
      "Epoch 25/150\n",
      "138/138 [==============================] - 11s 78ms/step - loss: 0.0143 - accuracy: 0.1849 - val_loss: 0.0166 - val_accuracy: 0.1474\n",
      "Epoch 26/150\n",
      "138/138 [==============================] - 11s 77ms/step - loss: 0.0143 - accuracy: 0.1863 - val_loss: 0.0166 - val_accuracy: 0.1476\n",
      "Epoch 27/150\n",
      "137/138 [============================>.] - ETA: 0s - loss: 0.0143 - accuracy: 0.1853\n",
      "Epoch 00027: ReduceLROnPlateau reducing learning rate to 1.0000001111620805e-07.\n",
      "138/138 [==============================] - 11s 79ms/step - loss: 0.0143 - accuracy: 0.1852 - val_loss: 0.0166 - val_accuracy: 0.1478\n",
      "Epoch 28/150\n",
      "138/138 [==============================] - 11s 81ms/step - loss: 0.0142 - accuracy: 0.1869 - val_loss: 0.0166 - val_accuracy: 0.1472\n",
      "Epoch 29/150\n",
      "138/138 [==============================] - 11s 77ms/step - loss: 0.0143 - accuracy: 0.1848 - val_loss: 0.0166 - val_accuracy: 0.1478\n",
      "Epoch 30/150\n",
      "137/138 [============================>.] - ETA: 0s - loss: 0.0143 - accuracy: 0.1879\n",
      "Epoch 00030: ReduceLROnPlateau reducing learning rate to 1.000000082740371e-08.\n",
      "138/138 [==============================] - 11s 80ms/step - loss: 0.0143 - accuracy: 0.1878 - val_loss: 0.0166 - val_accuracy: 0.1472\n",
      "Epoch 31/150\n",
      "138/138 [==============================] - 11s 77ms/step - loss: 0.0142 - accuracy: 0.1897 - val_loss: 0.0166 - val_accuracy: 0.1474\n",
      "Epoch 32/150\n",
      "138/138 [==============================] - 11s 77ms/step - loss: 0.0142 - accuracy: 0.1888 - val_loss: 0.0166 - val_accuracy: 0.1472\n",
      "Epoch 33/150\n",
      "137/138 [============================>.] - ETA: 0s - loss: 0.0142 - accuracy: 0.1895\n",
      "Epoch 00033: ReduceLROnPlateau reducing learning rate to 1.000000082740371e-09.\n",
      "138/138 [==============================] - 11s 81ms/step - loss: 0.0142 - accuracy: 0.1894 - val_loss: 0.0166 - val_accuracy: 0.1474\n",
      "Epoch 34/150\n",
      "138/138 [==============================] - 11s 81ms/step - loss: 0.0143 - accuracy: 0.1872 - val_loss: 0.0166 - val_accuracy: 0.1476\n",
      "Epoch 35/150\n",
      "138/138 [==============================] - 11s 77ms/step - loss: 0.0143 - accuracy: 0.1863 - val_loss: 0.0166 - val_accuracy: 0.1474\n",
      "Epoch 36/150\n",
      "137/138 [============================>.] - ETA: 0s - loss: 0.0142 - accuracy: 0.1869\n",
      "Epoch 00036: ReduceLROnPlateau reducing learning rate to 1.000000082740371e-10.\n",
      "138/138 [==============================] - 11s 79ms/step - loss: 0.0142 - accuracy: 0.1869 - val_loss: 0.0166 - val_accuracy: 0.1476\n",
      "Epoch 37/150\n",
      "138/138 [==============================] - 11s 77ms/step - loss: 0.0143 - accuracy: 0.1915 - val_loss: 0.0166 - val_accuracy: 0.1476\n",
      "Epoch 38/150\n",
      "138/138 [==============================] - 11s 79ms/step - loss: 0.0143 - accuracy: 0.1876 - val_loss: 0.0166 - val_accuracy: 0.1472\n",
      "Epoch 39/150\n",
      "137/138 [============================>.] - ETA: 0s - loss: 0.0142 - accuracy: 0.1899\n",
      "Epoch 00039: ReduceLROnPlateau reducing learning rate to 1.000000082740371e-11.\n",
      "138/138 [==============================] - 12s 84ms/step - loss: 0.0142 - accuracy: 0.1898 - val_loss: 0.0166 - val_accuracy: 0.1472\n",
      "Epoch 40/150\n",
      "138/138 [==============================] - 11s 77ms/step - loss: 0.0143 - accuracy: 0.1899 - val_loss: 0.0166 - val_accuracy: 0.1472\n",
      "Epoch 41/150\n",
      "138/138 [==============================] - 11s 77ms/step - loss: 0.0142 - accuracy: 0.1882 - val_loss: 0.0166 - val_accuracy: 0.1474\n",
      "Epoch 42/150\n",
      "137/138 [============================>.] - ETA: 0s - loss: 0.0142 - accuracy: 0.1876\n",
      "Epoch 00042: ReduceLROnPlateau reducing learning rate to 1.000000082740371e-12.\n",
      "138/138 [==============================] - 11s 79ms/step - loss: 0.0142 - accuracy: 0.1874 - val_loss: 0.0166 - val_accuracy: 0.1467\n",
      "Epoch 43/150\n",
      "138/138 [==============================] - 11s 77ms/step - loss: 0.0143 - accuracy: 0.1869 - val_loss: 0.0166 - val_accuracy: 0.1474\n",
      "Epoch 44/150\n",
      "138/138 [==============================] - 12s 84ms/step - loss: 0.0142 - accuracy: 0.1897 - val_loss: 0.0166 - val_accuracy: 0.1474\n",
      "Epoch 45/150\n",
      "137/138 [============================>.] - ETA: 0s - loss: 0.0143 - accuracy: 0.1876\n",
      "Epoch 00045: ReduceLROnPlateau reducing learning rate to 1.0000001044244145e-13.\n",
      "138/138 [==============================] - 12s 88ms/step - loss: 0.0143 - accuracy: 0.1875 - val_loss: 0.0166 - val_accuracy: 0.1481\n",
      "Epoch 46/150\n",
      "138/138 [==============================] - 11s 83ms/step - loss: 0.0143 - accuracy: 0.1889 - val_loss: 0.0166 - val_accuracy: 0.1469\n",
      "Epoch 47/150\n",
      "138/138 [==============================] - 11s 79ms/step - loss: 0.0143 - accuracy: 0.1879 - val_loss: 0.0166 - val_accuracy: 0.1472\n",
      "Epoch 48/150\n",
      "137/138 [============================>.] - ETA: 0s - loss: 0.0143 - accuracy: 0.1894\n",
      "Epoch 00048: ReduceLROnPlateau reducing learning rate to 1.0000001179769417e-14.\n",
      "Restoring model weights from the end of the best epoch.\n",
      "138/138 [==============================] - 11s 77ms/step - loss: 0.0143 - accuracy: 0.1893 - val_loss: 0.0166 - val_accuracy: 0.1472\n",
      "Epoch 00048: early stopping\n"
     ]
    },
    {
     "data": {
      "text/html": [
       "<span style=\"color:#4527A0\"><h1 style=\"font-size:18px\">Trial complete</h1></span>"
      ],
      "text/plain": [
       "<IPython.core.display.HTML object>"
      ]
     },
     "metadata": {},
     "output_type": "display_data"
    },
    {
     "data": {
      "text/html": [
       "<span style=\"color:#4527A0\"><h1 style=\"font-size:18px\">Trial summary</h1></span>"
      ],
      "text/plain": [
       "<IPython.core.display.HTML object>"
      ]
     },
     "metadata": {},
     "output_type": "display_data"
    },
    {
     "data": {
      "text/html": [
       "<span style=\"color:cyan\"> |-Trial ID: d270571916e3b9a54331feaedc838152</span>"
      ],
      "text/plain": [
       "<IPython.core.display.HTML object>"
      ]
     },
     "metadata": {},
     "output_type": "display_data"
    },
    {
     "data": {
      "text/html": [
       "<span style=\"color:cyan\"> |-Score: 0.0166185200214386</span>"
      ],
      "text/plain": [
       "<IPython.core.display.HTML object>"
      ]
     },
     "metadata": {},
     "output_type": "display_data"
    },
    {
     "data": {
      "text/html": [
       "<span style=\"color:cyan\"> |-Best step: 0</span>"
      ],
      "text/plain": [
       "<IPython.core.display.HTML object>"
      ]
     },
     "metadata": {},
     "output_type": "display_data"
    },
    {
     "data": {
      "text/html": [
       "<span style=\"color:#7E57C2\"><h2 style=\"font-size:16px\">Hyperparameters:</h2></span>"
      ],
      "text/plain": [
       "<IPython.core.display.HTML object>"
      ]
     },
     "metadata": {},
     "output_type": "display_data"
    },
    {
     "data": {
      "text/html": [
       "<span style=\"color:cyan\"> |-Dropout_0: 0.6900000000000001</span>"
      ],
      "text/plain": [
       "<IPython.core.display.HTML object>"
      ]
     },
     "metadata": {},
     "output_type": "display_data"
    },
    {
     "data": {
      "text/html": [
       "<span style=\"color:blue\"> |-Dropout_1: 0.5</span>"
      ],
      "text/plain": [
       "<IPython.core.display.HTML object>"
      ]
     },
     "metadata": {},
     "output_type": "display_data"
    },
    {
     "data": {
      "text/html": [
       "<span style=\"color:cyan\"> |-Dropout_2: 0.42</span>"
      ],
      "text/plain": [
       "<IPython.core.display.HTML object>"
      ]
     },
     "metadata": {},
     "output_type": "display_data"
    },
    {
     "data": {
      "text/html": [
       "<span style=\"color:blue\"> |-Dropout_3: 0.5</span>"
      ],
      "text/plain": [
       "<IPython.core.display.HTML object>"
      ]
     },
     "metadata": {},
     "output_type": "display_data"
    },
    {
     "data": {
      "text/html": [
       "<span style=\"color:cyan\"> |-N_Layers: 4</span>"
      ],
      "text/plain": [
       "<IPython.core.display.HTML object>"
      ]
     },
     "metadata": {},
     "output_type": "display_data"
    },
    {
     "data": {
      "text/html": [
       "<span style=\"color:blue\"> |-activation2_0: swish</span>"
      ],
      "text/plain": [
       "<IPython.core.display.HTML object>"
      ]
     },
     "metadata": {},
     "output_type": "display_data"
    },
    {
     "data": {
      "text/html": [
       "<span style=\"color:cyan\"> |-activation2_1: elu</span>"
      ],
      "text/plain": [
       "<IPython.core.display.HTML object>"
      ]
     },
     "metadata": {},
     "output_type": "display_data"
    },
    {
     "data": {
      "text/html": [
       "<span style=\"color:blue\"> |-activation2_2: selu</span>"
      ],
      "text/plain": [
       "<IPython.core.display.HTML object>"
      ]
     },
     "metadata": {},
     "output_type": "display_data"
    },
    {
     "data": {
      "text/html": [
       "<span style=\"color:cyan\"> |-activation2_3: selu</span>"
      ],
      "text/plain": [
       "<IPython.core.display.HTML object>"
      ]
     },
     "metadata": {},
     "output_type": "display_data"
    },
    {
     "data": {
      "text/html": [
       "<span style=\"color:blue\"> |-number_of_neurons2_0: 1792</span>"
      ],
      "text/plain": [
       "<IPython.core.display.HTML object>"
      ]
     },
     "metadata": {},
     "output_type": "display_data"
    },
    {
     "data": {
      "text/html": [
       "<span style=\"color:cyan\"> |-number_of_neurons2_1: 931</span>"
      ],
      "text/plain": [
       "<IPython.core.display.HTML object>"
      ]
     },
     "metadata": {},
     "output_type": "display_data"
    },
    {
     "data": {
      "text/html": [
       "<span style=\"color:blue\"> |-number_of_neurons2_2: 739</span>"
      ],
      "text/plain": [
       "<IPython.core.display.HTML object>"
      ]
     },
     "metadata": {},
     "output_type": "display_data"
    },
    {
     "data": {
      "text/html": [
       "<span style=\"color:cyan\"> |-number_of_neurons2_3: 1119</span>"
      ],
      "text/plain": [
       "<IPython.core.display.HTML object>"
      ]
     },
     "metadata": {},
     "output_type": "display_data"
    },
    {
     "name": "stdout",
     "output_type": "stream",
     "text": [
      "SEED:564 Fold:0\n",
      "Epoch 1/150\n",
      "138/138 [==============================] - 7s 52ms/step - loss: 0.2932 - accuracy: 0.0398 - val_loss: 0.0281 - val_accuracy: 0.0715\n",
      "Epoch 2/150\n",
      "138/138 [==============================] - 7s 49ms/step - loss: 0.0228 - accuracy: 0.0748 - val_loss: 0.0201 - val_accuracy: 0.0907\n",
      "Epoch 3/150\n",
      "138/138 [==============================] - 7s 51ms/step - loss: 0.0189 - accuracy: 0.1157 - val_loss: 0.0183 - val_accuracy: 0.1109\n",
      "Epoch 4/150\n",
      "138/138 [==============================] - 7s 47ms/step - loss: 0.0176 - accuracy: 0.1313 - val_loss: 0.0176 - val_accuracy: 0.1533\n",
      "Epoch 5/150\n",
      "138/138 [==============================] - 7s 47ms/step - loss: 0.0166 - accuracy: 0.1492 - val_loss: 0.0171 - val_accuracy: 0.1317\n",
      "Epoch 6/150\n",
      "138/138 [==============================] - 6s 47ms/step - loss: 0.0158 - accuracy: 0.1679 - val_loss: 0.0170 - val_accuracy: 0.1661\n",
      "Epoch 7/150\n",
      "138/138 [==============================] - 7s 48ms/step - loss: 0.0148 - accuracy: 0.1921 - val_loss: 0.0170 - val_accuracy: 0.1474\n",
      "Epoch 8/150\n",
      "138/138 [==============================] - 7s 48ms/step - loss: 0.0137 - accuracy: 0.2213 - val_loss: 0.0176 - val_accuracy: 0.1415\n",
      "Epoch 9/150\n",
      "138/138 [==============================] - ETA: 0s - loss: 0.0125 - accuracy: 0.2569\n",
      "Epoch 00009: ReduceLROnPlateau reducing learning rate to 0.00010000000474974513.\n",
      "138/138 [==============================] - 6s 46ms/step - loss: 0.0125 - accuracy: 0.2569 - val_loss: 0.0179 - val_accuracy: 0.1335\n",
      "Epoch 10/150\n",
      "138/138 [==============================] - 7s 50ms/step - loss: 0.0098 - accuracy: 0.3427 - val_loss: 0.0174 - val_accuracy: 0.1424\n",
      "Epoch 11/150\n",
      "138/138 [==============================] - 7s 47ms/step - loss: 0.0088 - accuracy: 0.3729 - val_loss: 0.0176 - val_accuracy: 0.1503\n",
      "Epoch 12/150\n",
      "137/138 [============================>.] - ETA: 0s - loss: 0.0082 - accuracy: 0.4021\n",
      "Epoch 00012: ReduceLROnPlateau reducing learning rate to 1.0000000474974514e-05.\n",
      "138/138 [==============================] - 7s 49ms/step - loss: 0.0082 - accuracy: 0.4020 - val_loss: 0.0179 - val_accuracy: 0.1474\n",
      "Epoch 13/150\n",
      "138/138 [==============================] - 7s 47ms/step - loss: 0.0077 - accuracy: 0.4182 - val_loss: 0.0180 - val_accuracy: 0.1460\n",
      "Epoch 14/150\n",
      "138/138 [==============================] - 6s 46ms/step - loss: 0.0076 - accuracy: 0.4250 - val_loss: 0.0180 - val_accuracy: 0.1469\n",
      "Epoch 15/150\n",
      "137/138 [============================>.] - ETA: 0s - loss: 0.0076 - accuracy: 0.4226\n",
      "Epoch 00015: ReduceLROnPlateau reducing learning rate to 1.0000000656873453e-06.\n",
      "138/138 [==============================] - 6s 46ms/step - loss: 0.0076 - accuracy: 0.4224 - val_loss: 0.0180 - val_accuracy: 0.1469\n",
      "Epoch 16/150\n",
      "138/138 [==============================] - ETA: 0s - loss: 0.0075 - accuracy: 0.4303Restoring model weights from the end of the best epoch.\n",
      "138/138 [==============================] - 6s 46ms/step - loss: 0.0075 - accuracy: 0.4303 - val_loss: 0.0181 - val_accuracy: 0.1462\n",
      "Epoch 00016: early stopping\n"
     ]
    },
    {
     "data": {
      "text/html": [
       "<span style=\"color:#4527A0\"><h1 style=\"font-size:18px\">Trial complete</h1></span>"
      ],
      "text/plain": [
       "<IPython.core.display.HTML object>"
      ]
     },
     "metadata": {},
     "output_type": "display_data"
    },
    {
     "data": {
      "text/html": [
       "<span style=\"color:#4527A0\"><h1 style=\"font-size:18px\">Trial summary</h1></span>"
      ],
      "text/plain": [
       "<IPython.core.display.HTML object>"
      ]
     },
     "metadata": {},
     "output_type": "display_data"
    },
    {
     "data": {
      "text/html": [
       "<span style=\"color:cyan\"> |-Trial ID: d2835fc936b280901799177b6759fc7e</span>"
      ],
      "text/plain": [
       "<IPython.core.display.HTML object>"
      ]
     },
     "metadata": {},
     "output_type": "display_data"
    },
    {
     "data": {
      "text/html": [
       "<span style=\"color:cyan\"> |-Score: 0.01700097881257534</span>"
      ],
      "text/plain": [
       "<IPython.core.display.HTML object>"
      ]
     },
     "metadata": {},
     "output_type": "display_data"
    },
    {
     "data": {
      "text/html": [
       "<span style=\"color:cyan\"> |-Best step: 0</span>"
      ],
      "text/plain": [
       "<IPython.core.display.HTML object>"
      ]
     },
     "metadata": {},
     "output_type": "display_data"
    },
    {
     "data": {
      "text/html": [
       "<span style=\"color:#7E57C2\"><h2 style=\"font-size:16px\">Hyperparameters:</h2></span>"
      ],
      "text/plain": [
       "<IPython.core.display.HTML object>"
      ]
     },
     "metadata": {},
     "output_type": "display_data"
    },
    {
     "data": {
      "text/html": [
       "<span style=\"color:cyan\"> |-Dropout_0: 0.24</span>"
      ],
      "text/plain": [
       "<IPython.core.display.HTML object>"
      ]
     },
     "metadata": {},
     "output_type": "display_data"
    },
    {
     "data": {
      "text/html": [
       "<span style=\"color:blue\"> |-Dropout_1: 0.46</span>"
      ],
      "text/plain": [
       "<IPython.core.display.HTML object>"
      ]
     },
     "metadata": {},
     "output_type": "display_data"
    },
    {
     "data": {
      "text/html": [
       "<span style=\"color:cyan\"> |-Dropout_2: 0.0</span>"
      ],
      "text/plain": [
       "<IPython.core.display.HTML object>"
      ]
     },
     "metadata": {},
     "output_type": "display_data"
    },
    {
     "data": {
      "text/html": [
       "<span style=\"color:blue\"> |-Dropout_3: 0.0</span>"
      ],
      "text/plain": [
       "<IPython.core.display.HTML object>"
      ]
     },
     "metadata": {},
     "output_type": "display_data"
    },
    {
     "data": {
      "text/html": [
       "<span style=\"color:cyan\"> |-Dropout_4: 0.0</span>"
      ],
      "text/plain": [
       "<IPython.core.display.HTML object>"
      ]
     },
     "metadata": {},
     "output_type": "display_data"
    },
    {
     "data": {
      "text/html": [
       "<span style=\"color:blue\"> |-N_Layers: 5</span>"
      ],
      "text/plain": [
       "<IPython.core.display.HTML object>"
      ]
     },
     "metadata": {},
     "output_type": "display_data"
    },
    {
     "data": {
      "text/html": [
       "<span style=\"color:cyan\"> |-activation2_0: swish</span>"
      ],
      "text/plain": [
       "<IPython.core.display.HTML object>"
      ]
     },
     "metadata": {},
     "output_type": "display_data"
    },
    {
     "data": {
      "text/html": [
       "<span style=\"color:blue\"> |-activation2_1: elu</span>"
      ],
      "text/plain": [
       "<IPython.core.display.HTML object>"
      ]
     },
     "metadata": {},
     "output_type": "display_data"
    },
    {
     "data": {
      "text/html": [
       "<span style=\"color:cyan\"> |-activation2_2: elu</span>"
      ],
      "text/plain": [
       "<IPython.core.display.HTML object>"
      ]
     },
     "metadata": {},
     "output_type": "display_data"
    },
    {
     "data": {
      "text/html": [
       "<span style=\"color:blue\"> |-activation2_3: elu</span>"
      ],
      "text/plain": [
       "<IPython.core.display.HTML object>"
      ]
     },
     "metadata": {},
     "output_type": "display_data"
    },
    {
     "data": {
      "text/html": [
       "<span style=\"color:cyan\"> |-activation2_4: elu</span>"
      ],
      "text/plain": [
       "<IPython.core.display.HTML object>"
      ]
     },
     "metadata": {},
     "output_type": "display_data"
    },
    {
     "data": {
      "text/html": [
       "<span style=\"color:blue\"> |-number_of_neurons2_0: 784</span>"
      ],
      "text/plain": [
       "<IPython.core.display.HTML object>"
      ]
     },
     "metadata": {},
     "output_type": "display_data"
    },
    {
     "data": {
      "text/html": [
       "<span style=\"color:cyan\"> |-number_of_neurons2_1: 997</span>"
      ],
      "text/plain": [
       "<IPython.core.display.HTML object>"
      ]
     },
     "metadata": {},
     "output_type": "display_data"
    },
    {
     "data": {
      "text/html": [
       "<span style=\"color:blue\"> |-number_of_neurons2_2: 512</span>"
      ],
      "text/plain": [
       "<IPython.core.display.HTML object>"
      ]
     },
     "metadata": {},
     "output_type": "display_data"
    },
    {
     "data": {
      "text/html": [
       "<span style=\"color:cyan\"> |-number_of_neurons2_3: 512</span>"
      ],
      "text/plain": [
       "<IPython.core.display.HTML object>"
      ]
     },
     "metadata": {},
     "output_type": "display_data"
    },
    {
     "data": {
      "text/html": [
       "<span style=\"color:blue\"> |-number_of_neurons2_4: 512</span>"
      ],
      "text/plain": [
       "<IPython.core.display.HTML object>"
      ]
     },
     "metadata": {},
     "output_type": "display_data"
    },
    {
     "name": "stdout",
     "output_type": "stream",
     "text": [
      "Epoch 1/150\n",
      "138/138 [==============================] - 20s 146ms/step - loss: 0.2779 - accuracy: 0.0333 - val_loss: 0.0269 - val_accuracy: 0.0394\n",
      "Epoch 2/150\n",
      "138/138 [==============================] - 20s 143ms/step - loss: 0.0231 - accuracy: 0.0606 - val_loss: 0.0203 - val_accuracy: 0.1023\n",
      "Epoch 3/150\n",
      "138/138 [==============================] - 19s 139ms/step - loss: 0.0203 - accuracy: 0.0926 - val_loss: 0.0190 - val_accuracy: 0.0943\n",
      "Epoch 4/150\n",
      "138/138 [==============================] - 20s 145ms/step - loss: 0.0189 - accuracy: 0.1096 - val_loss: 0.0179 - val_accuracy: 0.1105\n",
      "Epoch 5/150\n",
      "138/138 [==============================] - 20s 142ms/step - loss: 0.0182 - accuracy: 0.1214 - val_loss: 0.0174 - val_accuracy: 0.1182\n",
      "Epoch 6/150\n",
      "138/138 [==============================] - 20s 142ms/step - loss: 0.0176 - accuracy: 0.1296 - val_loss: 0.0171 - val_accuracy: 0.1226\n",
      "Epoch 7/150\n",
      "138/138 [==============================] - 20s 147ms/step - loss: 0.0173 - accuracy: 0.1336 - val_loss: 0.0169 - val_accuracy: 0.1264\n",
      "Epoch 8/150\n",
      "138/138 [==============================] - 22s 156ms/step - loss: 0.0168 - accuracy: 0.1442 - val_loss: 0.0168 - val_accuracy: 0.1380\n",
      "Epoch 9/150\n",
      "138/138 [==============================] - 20s 146ms/step - loss: 0.0163 - accuracy: 0.1522 - val_loss: 0.0166 - val_accuracy: 0.1390\n",
      "Epoch 10/150\n",
      "138/138 [==============================] - 22s 159ms/step - loss: 0.0159 - accuracy: 0.1643 - val_loss: 0.0167 - val_accuracy: 0.1417\n",
      "Epoch 11/150\n",
      "138/138 [==============================] - 19s 140ms/step - loss: 0.0156 - accuracy: 0.1710 - val_loss: 0.0165 - val_accuracy: 0.1396\n",
      "Epoch 12/150\n",
      "138/138 [==============================] - ETA: 0s - loss: 0.0151 - accuracy: 0.1780\n",
      "Epoch 00012: ReduceLROnPlateau reducing learning rate to 0.00010000000474974513.\n",
      "138/138 [==============================] - 20s 142ms/step - loss: 0.0151 - accuracy: 0.1780 - val_loss: 0.0165 - val_accuracy: 0.1460\n",
      "Epoch 13/150\n",
      "138/138 [==============================] - 20s 145ms/step - loss: 0.0140 - accuracy: 0.1958 - val_loss: 0.0162 - val_accuracy: 0.1446\n",
      "Epoch 14/150\n",
      "138/138 [==============================] - 20s 142ms/step - loss: 0.0137 - accuracy: 0.2053 - val_loss: 0.0162 - val_accuracy: 0.1465\n",
      "Epoch 15/150\n",
      "138/138 [==============================] - 19s 140ms/step - loss: 0.0135 - accuracy: 0.2122 - val_loss: 0.0162 - val_accuracy: 0.1485\n",
      "Epoch 16/150\n",
      "138/138 [==============================] - ETA: 0s - loss: 0.0133 - accuracy: 0.2180\n",
      "Epoch 00016: ReduceLROnPlateau reducing learning rate to 1.0000000474974514e-05.\n",
      "138/138 [==============================] - 19s 141ms/step - loss: 0.0133 - accuracy: 0.2180 - val_loss: 0.0163 - val_accuracy: 0.1469\n",
      "Epoch 17/150\n",
      "138/138 [==============================] - 19s 141ms/step - loss: 0.0131 - accuracy: 0.2243 - val_loss: 0.0163 - val_accuracy: 0.1483\n",
      "Epoch 18/150\n",
      "138/138 [==============================] - 19s 137ms/step - loss: 0.0130 - accuracy: 0.2234 - val_loss: 0.0163 - val_accuracy: 0.1476\n",
      "Epoch 19/150\n",
      "138/138 [==============================] - ETA: 0s - loss: 0.0130 - accuracy: 0.2252\n",
      "Epoch 00019: ReduceLROnPlateau reducing learning rate to 1.0000000656873453e-06.\n",
      "138/138 [==============================] - 20s 145ms/step - loss: 0.0130 - accuracy: 0.2252 - val_loss: 0.0163 - val_accuracy: 0.1478\n",
      "Epoch 20/150\n",
      "138/138 [==============================] - 20s 142ms/step - loss: 0.0129 - accuracy: 0.2279 - val_loss: 0.0163 - val_accuracy: 0.1481\n",
      "Epoch 21/150\n",
      "138/138 [==============================] - 19s 139ms/step - loss: 0.0130 - accuracy: 0.2241 - val_loss: 0.0163 - val_accuracy: 0.1485\n",
      "Epoch 22/150\n",
      "138/138 [==============================] - ETA: 0s - loss: 0.0130 - accuracy: 0.2286\n",
      "Epoch 00022: ReduceLROnPlateau reducing learning rate to 1.0000001111620805e-07.\n",
      "138/138 [==============================] - 20s 144ms/step - loss: 0.0130 - accuracy: 0.2286 - val_loss: 0.0163 - val_accuracy: 0.1483\n",
      "Epoch 23/150\n",
      "138/138 [==============================] - 20s 143ms/step - loss: 0.0130 - accuracy: 0.2251 - val_loss: 0.0163 - val_accuracy: 0.1485\n",
      "Epoch 24/150\n",
      "138/138 [==============================] - ETA: 0s - loss: 0.0130 - accuracy: 0.2264Restoring model weights from the end of the best epoch.\n",
      "138/138 [==============================] - 21s 153ms/step - loss: 0.0130 - accuracy: 0.2264 - val_loss: 0.0163 - val_accuracy: 0.1485\n",
      "Epoch 00024: early stopping\n"
     ]
    },
    {
     "data": {
      "text/html": [
       "<span style=\"color:#4527A0\"><h1 style=\"font-size:18px\">Trial complete</h1></span>"
      ],
      "text/plain": [
       "<IPython.core.display.HTML object>"
      ]
     },
     "metadata": {},
     "output_type": "display_data"
    },
    {
     "data": {
      "text/html": [
       "<span style=\"color:#4527A0\"><h1 style=\"font-size:18px\">Trial summary</h1></span>"
      ],
      "text/plain": [
       "<IPython.core.display.HTML object>"
      ]
     },
     "metadata": {},
     "output_type": "display_data"
    },
    {
     "data": {
      "text/html": [
       "<span style=\"color:cyan\"> |-Trial ID: 34e68bb578edcd6b017088d4233f9496</span>"
      ],
      "text/plain": [
       "<IPython.core.display.HTML object>"
      ]
     },
     "metadata": {},
     "output_type": "display_data"
    },
    {
     "data": {
      "text/html": [
       "<span style=\"color:cyan\"> |-Score: 0.016206659376621246</span>"
      ],
      "text/plain": [
       "<IPython.core.display.HTML object>"
      ]
     },
     "metadata": {},
     "output_type": "display_data"
    },
    {
     "data": {
      "text/html": [
       "<span style=\"color:cyan\"> |-Best step: 0</span>"
      ],
      "text/plain": [
       "<IPython.core.display.HTML object>"
      ]
     },
     "metadata": {},
     "output_type": "display_data"
    },
    {
     "data": {
      "text/html": [
       "<span style=\"color:#7E57C2\"><h2 style=\"font-size:16px\">Hyperparameters:</h2></span>"
      ],
      "text/plain": [
       "<IPython.core.display.HTML object>"
      ]
     },
     "metadata": {},
     "output_type": "display_data"
    },
    {
     "data": {
      "text/html": [
       "<span style=\"color:cyan\"> |-Dropout_0: 0.46</span>"
      ],
      "text/plain": [
       "<IPython.core.display.HTML object>"
      ]
     },
     "metadata": {},
     "output_type": "display_data"
    },
    {
     "data": {
      "text/html": [
       "<span style=\"color:blue\"> |-Dropout_1: 0.03</span>"
      ],
      "text/plain": [
       "<IPython.core.display.HTML object>"
      ]
     },
     "metadata": {},
     "output_type": "display_data"
    },
    {
     "data": {
      "text/html": [
       "<span style=\"color:cyan\"> |-Dropout_2: 0.46</span>"
      ],
      "text/plain": [
       "<IPython.core.display.HTML object>"
      ]
     },
     "metadata": {},
     "output_type": "display_data"
    },
    {
     "data": {
      "text/html": [
       "<span style=\"color:blue\"> |-Dropout_3: 0.15</span>"
      ],
      "text/plain": [
       "<IPython.core.display.HTML object>"
      ]
     },
     "metadata": {},
     "output_type": "display_data"
    },
    {
     "data": {
      "text/html": [
       "<span style=\"color:cyan\"> |-Dropout_4: 0.21</span>"
      ],
      "text/plain": [
       "<IPython.core.display.HTML object>"
      ]
     },
     "metadata": {},
     "output_type": "display_data"
    },
    {
     "data": {
      "text/html": [
       "<span style=\"color:blue\"> |-N_Layers: 5</span>"
      ],
      "text/plain": [
       "<IPython.core.display.HTML object>"
      ]
     },
     "metadata": {},
     "output_type": "display_data"
    },
    {
     "data": {
      "text/html": [
       "<span style=\"color:cyan\"> |-activation2_0: selu</span>"
      ],
      "text/plain": [
       "<IPython.core.display.HTML object>"
      ]
     },
     "metadata": {},
     "output_type": "display_data"
    },
    {
     "data": {
      "text/html": [
       "<span style=\"color:blue\"> |-activation2_1: swish</span>"
      ],
      "text/plain": [
       "<IPython.core.display.HTML object>"
      ]
     },
     "metadata": {},
     "output_type": "display_data"
    },
    {
     "data": {
      "text/html": [
       "<span style=\"color:cyan\"> |-activation2_2: swish</span>"
      ],
      "text/plain": [
       "<IPython.core.display.HTML object>"
      ]
     },
     "metadata": {},
     "output_type": "display_data"
    },
    {
     "data": {
      "text/html": [
       "<span style=\"color:blue\"> |-activation2_3: swish</span>"
      ],
      "text/plain": [
       "<IPython.core.display.HTML object>"
      ]
     },
     "metadata": {},
     "output_type": "display_data"
    },
    {
     "data": {
      "text/html": [
       "<span style=\"color:cyan\"> |-activation2_4: selu</span>"
      ],
      "text/plain": [
       "<IPython.core.display.HTML object>"
      ]
     },
     "metadata": {},
     "output_type": "display_data"
    },
    {
     "data": {
      "text/html": [
       "<span style=\"color:blue\"> |-number_of_neurons2_0: 877</span>"
      ],
      "text/plain": [
       "<IPython.core.display.HTML object>"
      ]
     },
     "metadata": {},
     "output_type": "display_data"
    },
    {
     "data": {
      "text/html": [
       "<span style=\"color:cyan\"> |-number_of_neurons2_1: 2040</span>"
      ],
      "text/plain": [
       "<IPython.core.display.HTML object>"
      ]
     },
     "metadata": {},
     "output_type": "display_data"
    },
    {
     "data": {
      "text/html": [
       "<span style=\"color:blue\"> |-number_of_neurons2_2: 1786</span>"
      ],
      "text/plain": [
       "<IPython.core.display.HTML object>"
      ]
     },
     "metadata": {},
     "output_type": "display_data"
    },
    {
     "data": {
      "text/html": [
       "<span style=\"color:cyan\"> |-number_of_neurons2_3: 1407</span>"
      ],
      "text/plain": [
       "<IPython.core.display.HTML object>"
      ]
     },
     "metadata": {},
     "output_type": "display_data"
    },
    {
     "data": {
      "text/html": [
       "<span style=\"color:blue\"> |-number_of_neurons2_4: 1014</span>"
      ],
      "text/plain": [
       "<IPython.core.display.HTML object>"
      ]
     },
     "metadata": {},
     "output_type": "display_data"
    },
    {
     "name": "stdout",
     "output_type": "stream",
     "text": [
      "Epoch 1/150\n",
      "138/138 [==============================] - 14s 98ms/step - loss: 0.2877 - accuracy: 0.0257 - val_loss: 0.0266 - val_accuracy: 0.0253\n",
      "Epoch 2/150\n",
      "138/138 [==============================] - 13s 98ms/step - loss: 0.0237 - accuracy: 0.0504 - val_loss: 0.0204 - val_accuracy: 0.0954\n",
      "Epoch 3/150\n",
      "138/138 [==============================] - 13s 94ms/step - loss: 0.0207 - accuracy: 0.0870 - val_loss: 0.0190 - val_accuracy: 0.0877\n",
      "Epoch 4/150\n",
      "138/138 [==============================] - 13s 96ms/step - loss: 0.0192 - accuracy: 0.1074 - val_loss: 0.0180 - val_accuracy: 0.1096\n",
      "Epoch 5/150\n",
      "138/138 [==============================] - 13s 96ms/step - loss: 0.0183 - accuracy: 0.1209 - val_loss: 0.0175 - val_accuracy: 0.1212\n",
      "Epoch 6/150\n",
      "138/138 [==============================] - 14s 100ms/step - loss: 0.0176 - accuracy: 0.1304 - val_loss: 0.0174 - val_accuracy: 0.1198\n",
      "Epoch 7/150\n",
      "138/138 [==============================] - 13s 94ms/step - loss: 0.0172 - accuracy: 0.1431 - val_loss: 0.0169 - val_accuracy: 0.1282\n",
      "Epoch 8/150\n",
      "138/138 [==============================] - 13s 94ms/step - loss: 0.0167 - accuracy: 0.1485 - val_loss: 0.0169 - val_accuracy: 0.1330\n",
      "Epoch 9/150\n",
      "138/138 [==============================] - 13s 97ms/step - loss: 0.0163 - accuracy: 0.1572 - val_loss: 0.0168 - val_accuracy: 0.1390\n",
      "Epoch 10/150\n",
      "138/138 [==============================] - 13s 96ms/step - loss: 0.0158 - accuracy: 0.1684 - val_loss: 0.0168 - val_accuracy: 0.1380\n",
      "Epoch 11/150\n",
      "138/138 [==============================] - 14s 99ms/step - loss: 0.0154 - accuracy: 0.1701 - val_loss: 0.0167 - val_accuracy: 0.1401\n",
      "Epoch 12/150\n",
      "138/138 [==============================] - 13s 94ms/step - loss: 0.0150 - accuracy: 0.1830 - val_loss: 0.0165 - val_accuracy: 0.1442\n",
      "Epoch 13/150\n",
      "138/138 [==============================] - 13s 92ms/step - loss: 0.0147 - accuracy: 0.1870 - val_loss: 0.0166 - val_accuracy: 0.1476\n",
      "Epoch 14/150\n",
      "138/138 [==============================] - 13s 94ms/step - loss: 0.0143 - accuracy: 0.1999 - val_loss: 0.0165 - val_accuracy: 0.1501\n",
      "Epoch 15/150\n",
      "137/138 [============================>.] - ETA: 0s - loss: 0.0140 - accuracy: 0.2042\n",
      "Epoch 00015: ReduceLROnPlateau reducing learning rate to 0.00010000000474974513.\n",
      "138/138 [==============================] - 13s 97ms/step - loss: 0.0140 - accuracy: 0.2042 - val_loss: 0.0165 - val_accuracy: 0.1458\n",
      "Epoch 16/150\n",
      "138/138 [==============================] - 13s 97ms/step - loss: 0.0128 - accuracy: 0.2327 - val_loss: 0.0163 - val_accuracy: 0.1528\n",
      "Epoch 17/150\n",
      "138/138 [==============================] - 13s 92ms/step - loss: 0.0125 - accuracy: 0.2387 - val_loss: 0.0163 - val_accuracy: 0.1544\n",
      "Epoch 18/150\n",
      "138/138 [==============================] - 13s 94ms/step - loss: 0.0123 - accuracy: 0.2438 - val_loss: 0.0164 - val_accuracy: 0.1549\n",
      "Epoch 19/150\n",
      "137/138 [============================>.] - ETA: 0s - loss: 0.0121 - accuracy: 0.2472\n",
      "Epoch 00019: ReduceLROnPlateau reducing learning rate to 1.0000000474974514e-05.\n",
      "138/138 [==============================] - 13s 93ms/step - loss: 0.0121 - accuracy: 0.2471 - val_loss: 0.0164 - val_accuracy: 0.1535\n",
      "Epoch 20/150\n",
      "138/138 [==============================] - 13s 95ms/step - loss: 0.0119 - accuracy: 0.2549 - val_loss: 0.0164 - val_accuracy: 0.1531\n",
      "Epoch 21/150\n",
      "138/138 [==============================] - 13s 95ms/step - loss: 0.0119 - accuracy: 0.2566 - val_loss: 0.0164 - val_accuracy: 0.1526\n",
      "Epoch 22/150\n",
      "137/138 [============================>.] - ETA: 0s - loss: 0.0119 - accuracy: 0.2524\n",
      "Epoch 00022: ReduceLROnPlateau reducing learning rate to 1.0000000656873453e-06.\n",
      "138/138 [==============================] - 13s 91ms/step - loss: 0.0119 - accuracy: 0.2523 - val_loss: 0.0164 - val_accuracy: 0.1538\n",
      "Epoch 23/150\n",
      "138/138 [==============================] - 14s 103ms/step - loss: 0.0118 - accuracy: 0.2545 - val_loss: 0.0164 - val_accuracy: 0.1538\n",
      "Epoch 24/150\n",
      "138/138 [==============================] - 13s 96ms/step - loss: 0.0119 - accuracy: 0.2547 - val_loss: 0.0164 - val_accuracy: 0.1542\n",
      "Epoch 25/150\n",
      "137/138 [============================>.] - ETA: 0s - loss: 0.0118 - accuracy: 0.2547\n",
      "Epoch 00025: ReduceLROnPlateau reducing learning rate to 1.0000001111620805e-07.\n",
      "138/138 [==============================] - 13s 92ms/step - loss: 0.0118 - accuracy: 0.2547 - val_loss: 0.0164 - val_accuracy: 0.1542\n",
      "Epoch 26/150\n",
      "137/138 [============================>.] - ETA: 0s - loss: 0.0118 - accuracy: 0.2535Restoring model weights from the end of the best epoch.\n",
      "138/138 [==============================] - 13s 94ms/step - loss: 0.0118 - accuracy: 0.2534 - val_loss: 0.0164 - val_accuracy: 0.1542\n",
      "Epoch 00026: early stopping\n"
     ]
    },
    {
     "data": {
      "text/html": [
       "<span style=\"color:#4527A0\"><h1 style=\"font-size:18px\">Trial complete</h1></span>"
      ],
      "text/plain": [
       "<IPython.core.display.HTML object>"
      ]
     },
     "metadata": {},
     "output_type": "display_data"
    },
    {
     "data": {
      "text/html": [
       "<span style=\"color:#4527A0\"><h1 style=\"font-size:18px\">Trial summary</h1></span>"
      ],
      "text/plain": [
       "<IPython.core.display.HTML object>"
      ]
     },
     "metadata": {},
     "output_type": "display_data"
    },
    {
     "data": {
      "text/html": [
       "<span style=\"color:cyan\"> |-Trial ID: e3600aff4af4f2d3d20e83314f62fc78</span>"
      ],
      "text/plain": [
       "<IPython.core.display.HTML object>"
      ]
     },
     "metadata": {},
     "output_type": "display_data"
    },
    {
     "data": {
      "text/html": [
       "<span style=\"color:cyan\"> |-Score: 0.016285307705402374</span>"
      ],
      "text/plain": [
       "<IPython.core.display.HTML object>"
      ]
     },
     "metadata": {},
     "output_type": "display_data"
    },
    {
     "data": {
      "text/html": [
       "<span style=\"color:cyan\"> |-Best step: 0</span>"
      ],
      "text/plain": [
       "<IPython.core.display.HTML object>"
      ]
     },
     "metadata": {},
     "output_type": "display_data"
    },
    {
     "data": {
      "text/html": [
       "<span style=\"color:#7E57C2\"><h2 style=\"font-size:16px\">Hyperparameters:</h2></span>"
      ],
      "text/plain": [
       "<IPython.core.display.HTML object>"
      ]
     },
     "metadata": {},
     "output_type": "display_data"
    },
    {
     "data": {
      "text/html": [
       "<span style=\"color:cyan\"> |-Dropout_0: 0.65</span>"
      ],
      "text/plain": [
       "<IPython.core.display.HTML object>"
      ]
     },
     "metadata": {},
     "output_type": "display_data"
    },
    {
     "data": {
      "text/html": [
       "<span style=\"color:blue\"> |-Dropout_1: 0.2</span>"
      ],
      "text/plain": [
       "<IPython.core.display.HTML object>"
      ]
     },
     "metadata": {},
     "output_type": "display_data"
    },
    {
     "data": {
      "text/html": [
       "<span style=\"color:cyan\"> |-Dropout_2: 0.35000000000000003</span>"
      ],
      "text/plain": [
       "<IPython.core.display.HTML object>"
      ]
     },
     "metadata": {},
     "output_type": "display_data"
    },
    {
     "data": {
      "text/html": [
       "<span style=\"color:blue\"> |-Dropout_3: 0.18</span>"
      ],
      "text/plain": [
       "<IPython.core.display.HTML object>"
      ]
     },
     "metadata": {},
     "output_type": "display_data"
    },
    {
     "data": {
      "text/html": [
       "<span style=\"color:cyan\"> |-Dropout_4: 0.47000000000000003</span>"
      ],
      "text/plain": [
       "<IPython.core.display.HTML object>"
      ]
     },
     "metadata": {},
     "output_type": "display_data"
    },
    {
     "data": {
      "text/html": [
       "<span style=\"color:blue\"> |-N_Layers: 4</span>"
      ],
      "text/plain": [
       "<IPython.core.display.HTML object>"
      ]
     },
     "metadata": {},
     "output_type": "display_data"
    },
    {
     "data": {
      "text/html": [
       "<span style=\"color:cyan\"> |-activation2_0: selu</span>"
      ],
      "text/plain": [
       "<IPython.core.display.HTML object>"
      ]
     },
     "metadata": {},
     "output_type": "display_data"
    },
    {
     "data": {
      "text/html": [
       "<span style=\"color:blue\"> |-activation2_1: elu</span>"
      ],
      "text/plain": [
       "<IPython.core.display.HTML object>"
      ]
     },
     "metadata": {},
     "output_type": "display_data"
    },
    {
     "data": {
      "text/html": [
       "<span style=\"color:cyan\"> |-activation2_2: selu</span>"
      ],
      "text/plain": [
       "<IPython.core.display.HTML object>"
      ]
     },
     "metadata": {},
     "output_type": "display_data"
    },
    {
     "data": {
      "text/html": [
       "<span style=\"color:blue\"> |-activation2_3: elu</span>"
      ],
      "text/plain": [
       "<IPython.core.display.HTML object>"
      ]
     },
     "metadata": {},
     "output_type": "display_data"
    },
    {
     "data": {
      "text/html": [
       "<span style=\"color:cyan\"> |-activation2_4: selu</span>"
      ],
      "text/plain": [
       "<IPython.core.display.HTML object>"
      ]
     },
     "metadata": {},
     "output_type": "display_data"
    },
    {
     "data": {
      "text/html": [
       "<span style=\"color:blue\"> |-number_of_neurons2_0: 1960</span>"
      ],
      "text/plain": [
       "<IPython.core.display.HTML object>"
      ]
     },
     "metadata": {},
     "output_type": "display_data"
    },
    {
     "data": {
      "text/html": [
       "<span style=\"color:cyan\"> |-number_of_neurons2_1: 1596</span>"
      ],
      "text/plain": [
       "<IPython.core.display.HTML object>"
      ]
     },
     "metadata": {},
     "output_type": "display_data"
    },
    {
     "data": {
      "text/html": [
       "<span style=\"color:blue\"> |-number_of_neurons2_2: 656</span>"
      ],
      "text/plain": [
       "<IPython.core.display.HTML object>"
      ]
     },
     "metadata": {},
     "output_type": "display_data"
    },
    {
     "data": {
      "text/html": [
       "<span style=\"color:cyan\"> |-number_of_neurons2_3: 832</span>"
      ],
      "text/plain": [
       "<IPython.core.display.HTML object>"
      ]
     },
     "metadata": {},
     "output_type": "display_data"
    },
    {
     "data": {
      "text/html": [
       "<span style=\"color:blue\"> |-number_of_neurons2_4: 1986</span>"
      ],
      "text/plain": [
       "<IPython.core.display.HTML object>"
      ]
     },
     "metadata": {},
     "output_type": "display_data"
    },
    {
     "name": "stdout",
     "output_type": "stream",
     "text": [
      "Epoch 1/150\n",
      "138/138 [==============================] - 19s 135ms/step - loss: 0.2680 - accuracy: 0.0305 - val_loss: 0.0249 - val_accuracy: 0.0421\n",
      "Epoch 2/150\n",
      "138/138 [==============================] - 20s 142ms/step - loss: 0.0231 - accuracy: 0.0629 - val_loss: 0.0199 - val_accuracy: 0.0977\n",
      "Epoch 3/150\n",
      "138/138 [==============================] - 19s 136ms/step - loss: 0.0204 - accuracy: 0.0915 - val_loss: 0.0186 - val_accuracy: 0.1257\n",
      "Epoch 4/150\n",
      "138/138 [==============================] - 19s 135ms/step - loss: 0.0191 - accuracy: 0.1111 - val_loss: 0.0178 - val_accuracy: 0.1355\n",
      "Epoch 5/150\n",
      "138/138 [==============================] - 19s 140ms/step - loss: 0.0184 - accuracy: 0.1198 - val_loss: 0.0175 - val_accuracy: 0.1159\n",
      "Epoch 6/150\n",
      "138/138 [==============================] - 19s 135ms/step - loss: 0.0179 - accuracy: 0.1260 - val_loss: 0.0171 - val_accuracy: 0.1203\n",
      "Epoch 7/150\n",
      "138/138 [==============================] - 19s 136ms/step - loss: 0.0174 - accuracy: 0.1337 - val_loss: 0.0171 - val_accuracy: 0.1253\n",
      "Epoch 8/150\n",
      "138/138 [==============================] - 19s 140ms/step - loss: 0.0170 - accuracy: 0.1416 - val_loss: 0.0167 - val_accuracy: 0.1267\n",
      "Epoch 9/150\n",
      "138/138 [==============================] - 19s 135ms/step - loss: 0.0166 - accuracy: 0.1468 - val_loss: 0.0168 - val_accuracy: 0.1344\n",
      "Epoch 10/150\n",
      "138/138 [==============================] - 19s 135ms/step - loss: 0.0164 - accuracy: 0.1575 - val_loss: 0.0167 - val_accuracy: 0.1337\n",
      "Epoch 11/150\n",
      "138/138 [==============================] - 19s 139ms/step - loss: 0.0161 - accuracy: 0.1624 - val_loss: 0.0166 - val_accuracy: 0.1337\n",
      "Epoch 12/150\n",
      "138/138 [==============================] - 19s 136ms/step - loss: 0.0155 - accuracy: 0.1763 - val_loss: 0.0165 - val_accuracy: 0.1692\n",
      "Epoch 13/150\n",
      "138/138 [==============================] - 19s 137ms/step - loss: 0.0154 - accuracy: 0.1811 - val_loss: 0.0167 - val_accuracy: 0.1515\n",
      "Epoch 14/150\n",
      "138/138 [==============================] - ETA: 0s - loss: 0.0151 - accuracy: 0.1807\n",
      "Epoch 00014: ReduceLROnPlateau reducing learning rate to 0.00010000000474974513.\n",
      "138/138 [==============================] - 20s 143ms/step - loss: 0.0151 - accuracy: 0.1807 - val_loss: 0.0167 - val_accuracy: 0.1383\n",
      "Epoch 15/150\n",
      "138/138 [==============================] - 19s 137ms/step - loss: 0.0140 - accuracy: 0.2036 - val_loss: 0.0163 - val_accuracy: 0.1460\n",
      "Epoch 16/150\n",
      "138/138 [==============================] - 19s 136ms/step - loss: 0.0136 - accuracy: 0.2120 - val_loss: 0.0163 - val_accuracy: 0.1494\n",
      "Epoch 17/150\n",
      "138/138 [==============================] - 19s 135ms/step - loss: 0.0134 - accuracy: 0.2194 - val_loss: 0.0163 - val_accuracy: 0.1483\n",
      "Epoch 18/150\n",
      "138/138 [==============================] - ETA: 0s - loss: 0.0131 - accuracy: 0.2219\n",
      "Epoch 00018: ReduceLROnPlateau reducing learning rate to 1.0000000474974514e-05.\n",
      "138/138 [==============================] - 18s 133ms/step - loss: 0.0131 - accuracy: 0.2219 - val_loss: 0.0163 - val_accuracy: 0.1481\n",
      "Epoch 19/150\n",
      "138/138 [==============================] - 18s 134ms/step - loss: 0.0129 - accuracy: 0.2308 - val_loss: 0.0164 - val_accuracy: 0.1483\n",
      "Epoch 20/150\n",
      "138/138 [==============================] - 18s 132ms/step - loss: 0.0129 - accuracy: 0.2287 - val_loss: 0.0164 - val_accuracy: 0.1490\n",
      "Epoch 21/150\n",
      "138/138 [==============================] - ETA: 0s - loss: 0.0128 - accuracy: 0.2348\n",
      "Epoch 00021: ReduceLROnPlateau reducing learning rate to 1.0000000656873453e-06.\n",
      "138/138 [==============================] - 19s 140ms/step - loss: 0.0128 - accuracy: 0.2348 - val_loss: 0.0164 - val_accuracy: 0.1481\n",
      "Epoch 22/150\n",
      "138/138 [==============================] - 20s 146ms/step - loss: 0.0128 - accuracy: 0.2292 - val_loss: 0.0164 - val_accuracy: 0.1485\n",
      "Epoch 23/150\n",
      "138/138 [==============================] - 22s 163ms/step - loss: 0.0128 - accuracy: 0.2296 - val_loss: 0.0164 - val_accuracy: 0.1485\n",
      "Epoch 24/150\n",
      "138/138 [==============================] - ETA: 0s - loss: 0.0128 - accuracy: 0.2333\n",
      "Epoch 00024: ReduceLROnPlateau reducing learning rate to 1.0000001111620805e-07.\n",
      "138/138 [==============================] - 24s 172ms/step - loss: 0.0128 - accuracy: 0.2333 - val_loss: 0.0164 - val_accuracy: 0.1481\n",
      "Epoch 25/150\n",
      "138/138 [==============================] - 23s 165ms/step - loss: 0.0128 - accuracy: 0.2312 - val_loss: 0.0164 - val_accuracy: 0.1483\n",
      "Epoch 26/150\n",
      "138/138 [==============================] - ETA: 0s - loss: 0.0129 - accuracy: 0.2316Restoring model weights from the end of the best epoch.\n",
      "138/138 [==============================] - 23s 168ms/step - loss: 0.0129 - accuracy: 0.2316 - val_loss: 0.0164 - val_accuracy: 0.1483\n",
      "Epoch 00026: early stopping\n"
     ]
    },
    {
     "data": {
      "text/html": [
       "<span style=\"color:#4527A0\"><h1 style=\"font-size:18px\">Trial complete</h1></span>"
      ],
      "text/plain": [
       "<IPython.core.display.HTML object>"
      ]
     },
     "metadata": {},
     "output_type": "display_data"
    },
    {
     "data": {
      "text/html": [
       "<span style=\"color:#4527A0\"><h1 style=\"font-size:18px\">Trial summary</h1></span>"
      ],
      "text/plain": [
       "<IPython.core.display.HTML object>"
      ]
     },
     "metadata": {},
     "output_type": "display_data"
    },
    {
     "data": {
      "text/html": [
       "<span style=\"color:cyan\"> |-Trial ID: 07a6815cd791369dd5f070f4e9e673f5</span>"
      ],
      "text/plain": [
       "<IPython.core.display.HTML object>"
      ]
     },
     "metadata": {},
     "output_type": "display_data"
    },
    {
     "data": {
      "text/html": [
       "<span style=\"color:cyan\"> |-Score: 0.01626587100327015</span>"
      ],
      "text/plain": [
       "<IPython.core.display.HTML object>"
      ]
     },
     "metadata": {},
     "output_type": "display_data"
    },
    {
     "data": {
      "text/html": [
       "<span style=\"color:cyan\"> |-Best step: 0</span>"
      ],
      "text/plain": [
       "<IPython.core.display.HTML object>"
      ]
     },
     "metadata": {},
     "output_type": "display_data"
    },
    {
     "data": {
      "text/html": [
       "<span style=\"color:#7E57C2\"><h2 style=\"font-size:16px\">Hyperparameters:</h2></span>"
      ],
      "text/plain": [
       "<IPython.core.display.HTML object>"
      ]
     },
     "metadata": {},
     "output_type": "display_data"
    },
    {
     "data": {
      "text/html": [
       "<span style=\"color:cyan\"> |-Dropout_0: 0.55</span>"
      ],
      "text/plain": [
       "<IPython.core.display.HTML object>"
      ]
     },
     "metadata": {},
     "output_type": "display_data"
    },
    {
     "data": {
      "text/html": [
       "<span style=\"color:blue\"> |-Dropout_1: 0.1</span>"
      ],
      "text/plain": [
       "<IPython.core.display.HTML object>"
      ]
     },
     "metadata": {},
     "output_type": "display_data"
    },
    {
     "data": {
      "text/html": [
       "<span style=\"color:cyan\"> |-Dropout_2: 0.42</span>"
      ],
      "text/plain": [
       "<IPython.core.display.HTML object>"
      ]
     },
     "metadata": {},
     "output_type": "display_data"
    },
    {
     "data": {
      "text/html": [
       "<span style=\"color:blue\"> |-Dropout_3: 0.16</span>"
      ],
      "text/plain": [
       "<IPython.core.display.HTML object>"
      ]
     },
     "metadata": {},
     "output_type": "display_data"
    },
    {
     "data": {
      "text/html": [
       "<span style=\"color:cyan\"> |-Dropout_4: 0.33</span>"
      ],
      "text/plain": [
       "<IPython.core.display.HTML object>"
      ]
     },
     "metadata": {},
     "output_type": "display_data"
    },
    {
     "data": {
      "text/html": [
       "<span style=\"color:blue\"> |-N_Layers: 5</span>"
      ],
      "text/plain": [
       "<IPython.core.display.HTML object>"
      ]
     },
     "metadata": {},
     "output_type": "display_data"
    },
    {
     "data": {
      "text/html": [
       "<span style=\"color:cyan\"> |-activation2_0: selu</span>"
      ],
      "text/plain": [
       "<IPython.core.display.HTML object>"
      ]
     },
     "metadata": {},
     "output_type": "display_data"
    },
    {
     "data": {
      "text/html": [
       "<span style=\"color:blue\"> |-activation2_1: swish</span>"
      ],
      "text/plain": [
       "<IPython.core.display.HTML object>"
      ]
     },
     "metadata": {},
     "output_type": "display_data"
    },
    {
     "data": {
      "text/html": [
       "<span style=\"color:cyan\"> |-activation2_2: swish</span>"
      ],
      "text/plain": [
       "<IPython.core.display.HTML object>"
      ]
     },
     "metadata": {},
     "output_type": "display_data"
    },
    {
     "data": {
      "text/html": [
       "<span style=\"color:blue\"> |-activation2_3: swish</span>"
      ],
      "text/plain": [
       "<IPython.core.display.HTML object>"
      ]
     },
     "metadata": {},
     "output_type": "display_data"
    },
    {
     "data": {
      "text/html": [
       "<span style=\"color:cyan\"> |-activation2_4: selu</span>"
      ],
      "text/plain": [
       "<IPython.core.display.HTML object>"
      ]
     },
     "metadata": {},
     "output_type": "display_data"
    },
    {
     "data": {
      "text/html": [
       "<span style=\"color:blue\"> |-number_of_neurons2_0: 1363</span>"
      ],
      "text/plain": [
       "<IPython.core.display.HTML object>"
      ]
     },
     "metadata": {},
     "output_type": "display_data"
    },
    {
     "data": {
      "text/html": [
       "<span style=\"color:cyan\"> |-number_of_neurons2_1: 1853</span>"
      ],
      "text/plain": [
       "<IPython.core.display.HTML object>"
      ]
     },
     "metadata": {},
     "output_type": "display_data"
    },
    {
     "data": {
      "text/html": [
       "<span style=\"color:blue\"> |-number_of_neurons2_2: 1297</span>"
      ],
      "text/plain": [
       "<IPython.core.display.HTML object>"
      ]
     },
     "metadata": {},
     "output_type": "display_data"
    },
    {
     "data": {
      "text/html": [
       "<span style=\"color:cyan\"> |-number_of_neurons2_3: 1162</span>"
      ],
      "text/plain": [
       "<IPython.core.display.HTML object>"
      ]
     },
     "metadata": {},
     "output_type": "display_data"
    },
    {
     "data": {
      "text/html": [
       "<span style=\"color:blue\"> |-number_of_neurons2_4: 1460</span>"
      ],
      "text/plain": [
       "<IPython.core.display.HTML object>"
      ]
     },
     "metadata": {},
     "output_type": "display_data"
    },
    {
     "name": "stdout",
     "output_type": "stream",
     "text": [
      "SEED:564 Fold:1\n",
      "Epoch 1/150\n",
      "138/138 [==============================] - 8s 59ms/step - loss: 0.3054 - accuracy: 0.0232 - val_loss: 0.0300 - val_accuracy: 0.0542\n",
      "Epoch 2/150\n",
      "138/138 [==============================] - 7s 53ms/step - loss: 0.0237 - accuracy: 0.0559 - val_loss: 0.0210 - val_accuracy: 0.0964\n",
      "Epoch 3/150\n",
      "138/138 [==============================] - 8s 55ms/step - loss: 0.0199 - accuracy: 0.0958 - val_loss: 0.0190 - val_accuracy: 0.1340\n",
      "Epoch 4/150\n",
      "138/138 [==============================] - 7s 54ms/step - loss: 0.0184 - accuracy: 0.1194 - val_loss: 0.0178 - val_accuracy: 0.1426\n",
      "Epoch 5/150\n",
      "138/138 [==============================] - 8s 57ms/step - loss: 0.0176 - accuracy: 0.1297 - val_loss: 0.0174 - val_accuracy: 0.1410\n",
      "Epoch 6/150\n",
      "138/138 [==============================] - 8s 56ms/step - loss: 0.0169 - accuracy: 0.1424 - val_loss: 0.0172 - val_accuracy: 0.1299\n",
      "Epoch 7/150\n",
      "138/138 [==============================] - 8s 60ms/step - loss: 0.0164 - accuracy: 0.1572 - val_loss: 0.0171 - val_accuracy: 0.1435\n",
      "Epoch 8/150\n",
      "138/138 [==============================] - 8s 58ms/step - loss: 0.0159 - accuracy: 0.1668 - val_loss: 0.0169 - val_accuracy: 0.1399\n",
      "Epoch 9/150\n",
      "138/138 [==============================] - 8s 58ms/step - loss: 0.0154 - accuracy: 0.1765 - val_loss: 0.0166 - val_accuracy: 0.1606\n",
      "Epoch 10/150\n",
      "138/138 [==============================] - 7s 53ms/step - loss: 0.0149 - accuracy: 0.1911 - val_loss: 0.0168 - val_accuracy: 0.1467\n",
      "Epoch 11/150\n",
      "138/138 [==============================] - 7s 53ms/step - loss: 0.0144 - accuracy: 0.1987 - val_loss: 0.0167 - val_accuracy: 0.1472\n",
      "Epoch 12/150\n",
      "137/138 [============================>.] - ETA: 0s - loss: 0.0139 - accuracy: 0.2164\n",
      "Epoch 00012: ReduceLROnPlateau reducing learning rate to 0.00010000000474974513.\n",
      "138/138 [==============================] - 7s 53ms/step - loss: 0.0138 - accuracy: 0.2166 - val_loss: 0.0169 - val_accuracy: 0.1490\n",
      "Epoch 13/150\n",
      "138/138 [==============================] - 8s 56ms/step - loss: 0.0126 - accuracy: 0.2463 - val_loss: 0.0164 - val_accuracy: 0.1499\n",
      "Epoch 14/150\n",
      "138/138 [==============================] - 8s 55ms/step - loss: 0.0123 - accuracy: 0.2522 - val_loss: 0.0164 - val_accuracy: 0.1506\n",
      "Epoch 15/150\n",
      "138/138 [==============================] - 8s 57ms/step - loss: 0.0121 - accuracy: 0.2549 - val_loss: 0.0164 - val_accuracy: 0.1513\n",
      "Epoch 16/150\n",
      "137/138 [============================>.] - ETA: 0s - loss: 0.0119 - accuracy: 0.2611\n",
      "Epoch 00016: ReduceLROnPlateau reducing learning rate to 1.0000000474974514e-05.\n",
      "138/138 [==============================] - 7s 52ms/step - loss: 0.0119 - accuracy: 0.2612 - val_loss: 0.0165 - val_accuracy: 0.1522\n",
      "Epoch 17/150\n",
      "138/138 [==============================] - 7s 53ms/step - loss: 0.0117 - accuracy: 0.2643 - val_loss: 0.0165 - val_accuracy: 0.1524\n",
      "Epoch 18/150\n",
      "138/138 [==============================] - 8s 55ms/step - loss: 0.0117 - accuracy: 0.2656 - val_loss: 0.0165 - val_accuracy: 0.1527\n",
      "Epoch 19/150\n",
      "138/138 [==============================] - ETA: 0s - loss: 0.0116 - accuracy: 0.2662\n",
      "Epoch 00019: ReduceLROnPlateau reducing learning rate to 1.0000000656873453e-06.\n",
      "138/138 [==============================] - 7s 52ms/step - loss: 0.0116 - accuracy: 0.2662 - val_loss: 0.0165 - val_accuracy: 0.1527\n",
      "Epoch 20/150\n",
      "138/138 [==============================] - 7s 53ms/step - loss: 0.0116 - accuracy: 0.2706 - val_loss: 0.0165 - val_accuracy: 0.1522\n",
      "Epoch 21/150\n",
      "138/138 [==============================] - 7s 52ms/step - loss: 0.0116 - accuracy: 0.2715 - val_loss: 0.0165 - val_accuracy: 0.1522\n",
      "Epoch 22/150\n",
      "138/138 [==============================] - ETA: 0s - loss: 0.0116 - accuracy: 0.2654\n",
      "Epoch 00022: ReduceLROnPlateau reducing learning rate to 1.0000001111620805e-07.\n",
      "138/138 [==============================] - 8s 57ms/step - loss: 0.0116 - accuracy: 0.2654 - val_loss: 0.0165 - val_accuracy: 0.1520\n",
      "Epoch 23/150\n",
      "137/138 [============================>.] - ETA: 0s - loss: 0.0116 - accuracy: 0.2669Restoring model weights from the end of the best epoch.\n",
      "138/138 [==============================] - 8s 57ms/step - loss: 0.0116 - accuracy: 0.2669 - val_loss: 0.0165 - val_accuracy: 0.1520\n",
      "Epoch 00023: early stopping\n"
     ]
    },
    {
     "data": {
      "text/html": [
       "<span style=\"color:#4527A0\"><h1 style=\"font-size:18px\">Trial complete</h1></span>"
      ],
      "text/plain": [
       "<IPython.core.display.HTML object>"
      ]
     },
     "metadata": {},
     "output_type": "display_data"
    },
    {
     "data": {
      "text/html": [
       "<span style=\"color:#4527A0\"><h1 style=\"font-size:18px\">Trial summary</h1></span>"
      ],
      "text/plain": [
       "<IPython.core.display.HTML object>"
      ]
     },
     "metadata": {},
     "output_type": "display_data"
    },
    {
     "data": {
      "text/html": [
       "<span style=\"color:cyan\"> |-Trial ID: 74748cc869edfbbb51f0dff6d99cc845</span>"
      ],
      "text/plain": [
       "<IPython.core.display.HTML object>"
      ]
     },
     "metadata": {},
     "output_type": "display_data"
    },
    {
     "data": {
      "text/html": [
       "<span style=\"color:cyan\"> |-Score: 0.016357026994228363</span>"
      ],
      "text/plain": [
       "<IPython.core.display.HTML object>"
      ]
     },
     "metadata": {},
     "output_type": "display_data"
    },
    {
     "data": {
      "text/html": [
       "<span style=\"color:cyan\"> |-Best step: 0</span>"
      ],
      "text/plain": [
       "<IPython.core.display.HTML object>"
      ]
     },
     "metadata": {},
     "output_type": "display_data"
    },
    {
     "data": {
      "text/html": [
       "<span style=\"color:#7E57C2\"><h2 style=\"font-size:16px\">Hyperparameters:</h2></span>"
      ],
      "text/plain": [
       "<IPython.core.display.HTML object>"
      ]
     },
     "metadata": {},
     "output_type": "display_data"
    },
    {
     "data": {
      "text/html": [
       "<span style=\"color:cyan\"> |-Dropout_0: 0.58</span>"
      ],
      "text/plain": [
       "<IPython.core.display.HTML object>"
      ]
     },
     "metadata": {},
     "output_type": "display_data"
    },
    {
     "data": {
      "text/html": [
       "<span style=\"color:blue\"> |-Dropout_1: 0.5</span>"
      ],
      "text/plain": [
       "<IPython.core.display.HTML object>"
      ]
     },
     "metadata": {},
     "output_type": "display_data"
    },
    {
     "data": {
      "text/html": [
       "<span style=\"color:cyan\"> |-Dropout_2: 0.0</span>"
      ],
      "text/plain": [
       "<IPython.core.display.HTML object>"
      ]
     },
     "metadata": {},
     "output_type": "display_data"
    },
    {
     "data": {
      "text/html": [
       "<span style=\"color:blue\"> |-N_Layers: 3</span>"
      ],
      "text/plain": [
       "<IPython.core.display.HTML object>"
      ]
     },
     "metadata": {},
     "output_type": "display_data"
    },
    {
     "data": {
      "text/html": [
       "<span style=\"color:cyan\"> |-activation2_0: elu</span>"
      ],
      "text/plain": [
       "<IPython.core.display.HTML object>"
      ]
     },
     "metadata": {},
     "output_type": "display_data"
    },
    {
     "data": {
      "text/html": [
       "<span style=\"color:blue\"> |-activation2_1: elu</span>"
      ],
      "text/plain": [
       "<IPython.core.display.HTML object>"
      ]
     },
     "metadata": {},
     "output_type": "display_data"
    },
    {
     "data": {
      "text/html": [
       "<span style=\"color:cyan\"> |-activation2_2: elu</span>"
      ],
      "text/plain": [
       "<IPython.core.display.HTML object>"
      ]
     },
     "metadata": {},
     "output_type": "display_data"
    },
    {
     "data": {
      "text/html": [
       "<span style=\"color:blue\"> |-number_of_neurons2_0: 915</span>"
      ],
      "text/plain": [
       "<IPython.core.display.HTML object>"
      ]
     },
     "metadata": {},
     "output_type": "display_data"
    },
    {
     "data": {
      "text/html": [
       "<span style=\"color:cyan\"> |-number_of_neurons2_1: 1200</span>"
      ],
      "text/plain": [
       "<IPython.core.display.HTML object>"
      ]
     },
     "metadata": {},
     "output_type": "display_data"
    },
    {
     "data": {
      "text/html": [
       "<span style=\"color:blue\"> |-number_of_neurons2_2: 512</span>"
      ],
      "text/plain": [
       "<IPython.core.display.HTML object>"
      ]
     },
     "metadata": {},
     "output_type": "display_data"
    },
    {
     "name": "stdout",
     "output_type": "stream",
     "text": [
      "Epoch 1/150\n",
      "138/138 [==============================] - 19s 134ms/step - loss: 0.2961 - accuracy: 0.0260 - val_loss: 0.0263 - val_accuracy: 0.0360\n",
      "Epoch 2/150\n",
      "138/138 [==============================] - 18s 130ms/step - loss: 0.0231 - accuracy: 0.0616 - val_loss: 0.0204 - val_accuracy: 0.0775\n",
      "Epoch 3/150\n",
      "138/138 [==============================] - 19s 135ms/step - loss: 0.0166 - accuracy: 0.1477 - val_loss: 0.0173 - val_accuracy: 0.1333\n",
      "Epoch 6/150\n",
      "138/138 [==============================] - 19s 141ms/step - loss: 0.0159 - accuracy: 0.1632 - val_loss: 0.0172 - val_accuracy: 0.1440\n",
      "Epoch 7/150\n",
      "138/138 [==============================] - 15s 110ms/step - loss: 0.0151 - accuracy: 0.1826 - val_loss: 0.0172 - val_accuracy: 0.1431\n",
      "Epoch 8/150\n",
      "137/138 [============================>.] - ETA: 0s - loss: 0.0144 - accuracy: 0.1984\n",
      "Epoch 00008: ReduceLROnPlateau reducing learning rate to 0.00010000000474974513.\n",
      "138/138 [==============================] - 15s 105ms/step - loss: 0.0144 - accuracy: 0.1986 - val_loss: 0.0173 - val_accuracy: 0.1408\n",
      "Epoch 9/150\n",
      "138/138 [==============================] - 16s 120ms/step - loss: 0.0123 - accuracy: 0.2504 - val_loss: 0.0163 - val_accuracy: 0.1508\n",
      "Epoch 10/150\n",
      "138/138 [==============================] - 15s 110ms/step - loss: 0.0116 - accuracy: 0.2706 - val_loss: 0.0164 - val_accuracy: 0.1529\n",
      "Epoch 11/150\n",
      "138/138 [==============================] - 16s 115ms/step - loss: 0.0111 - accuracy: 0.2885 - val_loss: 0.0165 - val_accuracy: 0.1547\n",
      "Epoch 12/150\n",
      "137/138 [============================>.] - ETA: 0s - loss: 0.0107 - accuracy: 0.3027\n",
      "Epoch 00012: ReduceLROnPlateau reducing learning rate to 1.0000000474974514e-05.\n",
      "138/138 [==============================] - 16s 117ms/step - loss: 0.0107 - accuracy: 0.3028 - val_loss: 0.0167 - val_accuracy: 0.1547\n",
      "Epoch 13/150\n",
      "138/138 [==============================] - 15s 109ms/step - loss: 0.0102 - accuracy: 0.3161 - val_loss: 0.0168 - val_accuracy: 0.1545\n",
      "Epoch 14/150\n",
      "138/138 [==============================] - 15s 109ms/step - loss: 0.0101 - accuracy: 0.3241 - val_loss: 0.0168 - val_accuracy: 0.1549\n",
      "Epoch 15/150\n",
      "137/138 [============================>.] - ETA: 0s - loss: 0.0100 - accuracy: 0.3249\n",
      "Epoch 00015: ReduceLROnPlateau reducing learning rate to 1.0000000656873453e-06.\n",
      "138/138 [==============================] - 15s 107ms/step - loss: 0.0100 - accuracy: 0.3247 - val_loss: 0.0168 - val_accuracy: 0.1563\n",
      "Epoch 16/150\n",
      "138/138 [==============================] - 14s 105ms/step - loss: 0.0100 - accuracy: 0.3280 - val_loss: 0.0169 - val_accuracy: 0.1558\n",
      "Epoch 17/150\n",
      "138/138 [==============================] - 15s 105ms/step - loss: 0.0100 - accuracy: 0.3266 - val_loss: 0.0169 - val_accuracy: 0.1558\n",
      "Epoch 18/150\n",
      "137/138 [============================>.] - ETA: 0s - loss: 0.0100 - accuracy: 0.3274\n",
      "Epoch 00018: ReduceLROnPlateau reducing learning rate to 1.0000001111620805e-07.\n",
      "138/138 [==============================] - 15s 109ms/step - loss: 0.0100 - accuracy: 0.3272 - val_loss: 0.0169 - val_accuracy: 0.1558\n",
      "Epoch 19/150\n",
      "138/138 [==============================] - ETA: 0s - loss: 0.0100 - accuracy: 0.3283Restoring model weights from the end of the best epoch.\n",
      "138/138 [==============================] - 15s 106ms/step - loss: 0.0100 - accuracy: 0.3283 - val_loss: 0.0169 - val_accuracy: 0.1558\n",
      "Epoch 00019: early stopping\n"
     ]
    },
    {
     "data": {
      "text/html": [
       "<span style=\"color:#4527A0\"><h1 style=\"font-size:18px\">Trial complete</h1></span>"
      ],
      "text/plain": [
       "<IPython.core.display.HTML object>"
      ]
     },
     "metadata": {},
     "output_type": "display_data"
    },
    {
     "data": {
      "text/html": [
       "<span style=\"color:#4527A0\"><h1 style=\"font-size:18px\">Trial summary</h1></span>"
      ],
      "text/plain": [
       "<IPython.core.display.HTML object>"
      ]
     },
     "metadata": {},
     "output_type": "display_data"
    },
    {
     "data": {
      "text/html": [
       "<span style=\"color:cyan\"> |-Trial ID: 239e6e7626f8e7b3511b59601c7d3d83</span>"
      ],
      "text/plain": [
       "<IPython.core.display.HTML object>"
      ]
     },
     "metadata": {},
     "output_type": "display_data"
    },
    {
     "data": {
      "text/html": [
       "<span style=\"color:cyan\"> |-Score: 0.01631682552397251</span>"
      ],
      "text/plain": [
       "<IPython.core.display.HTML object>"
      ]
     },
     "metadata": {},
     "output_type": "display_data"
    },
    {
     "data": {
      "text/html": [
       "<span style=\"color:cyan\"> |-Best step: 0</span>"
      ],
      "text/plain": [
       "<IPython.core.display.HTML object>"
      ]
     },
     "metadata": {},
     "output_type": "display_data"
    },
    {
     "data": {
      "text/html": [
       "<span style=\"color:#7E57C2\"><h2 style=\"font-size:16px\">Hyperparameters:</h2></span>"
      ],
      "text/plain": [
       "<IPython.core.display.HTML object>"
      ]
     },
     "metadata": {},
     "output_type": "display_data"
    },
    {
     "data": {
      "text/html": [
       "<span style=\"color:cyan\"> |-Dropout_0: 0.41000000000000003</span>"
      ],
      "text/plain": [
       "<IPython.core.display.HTML object>"
      ]
     },
     "metadata": {},
     "output_type": "display_data"
    },
    {
     "data": {
      "text/html": [
       "<span style=\"color:blue\"> |-Dropout_1: 0.3</span>"
      ],
      "text/plain": [
       "<IPython.core.display.HTML object>"
      ]
     },
     "metadata": {},
     "output_type": "display_data"
    },
    {
     "data": {
      "text/html": [
       "<span style=\"color:cyan\"> |-Dropout_2: 0.14</span>"
      ],
      "text/plain": [
       "<IPython.core.display.HTML object>"
      ]
     },
     "metadata": {},
     "output_type": "display_data"
    },
    {
     "data": {
      "text/html": [
       "<span style=\"color:blue\"> |-Dropout_3: 0.0</span>"
      ],
      "text/plain": [
       "<IPython.core.display.HTML object>"
      ]
     },
     "metadata": {},
     "output_type": "display_data"
    },
    {
     "data": {
      "text/html": [
       "<span style=\"color:cyan\"> |-Dropout_4: 0.0</span>"
      ],
      "text/plain": [
       "<IPython.core.display.HTML object>"
      ]
     },
     "metadata": {},
     "output_type": "display_data"
    },
    {
     "data": {
      "text/html": [
       "<span style=\"color:blue\"> |-N_Layers: 5</span>"
      ],
      "text/plain": [
       "<IPython.core.display.HTML object>"
      ]
     },
     "metadata": {},
     "output_type": "display_data"
    },
    {
     "data": {
      "text/html": [
       "<span style=\"color:cyan\"> |-activation2_0: selu</span>"
      ],
      "text/plain": [
       "<IPython.core.display.HTML object>"
      ]
     },
     "metadata": {},
     "output_type": "display_data"
    },
    {
     "data": {
      "text/html": [
       "<span style=\"color:blue\"> |-activation2_1: elu</span>"
      ],
      "text/plain": [
       "<IPython.core.display.HTML object>"
      ]
     },
     "metadata": {},
     "output_type": "display_data"
    },
    {
     "data": {
      "text/html": [
       "<span style=\"color:cyan\"> |-activation2_2: swish</span>"
      ],
      "text/plain": [
       "<IPython.core.display.HTML object>"
      ]
     },
     "metadata": {},
     "output_type": "display_data"
    },
    {
     "data": {
      "text/html": [
       "<span style=\"color:blue\"> |-activation2_3: elu</span>"
      ],
      "text/plain": [
       "<IPython.core.display.HTML object>"
      ]
     },
     "metadata": {},
     "output_type": "display_data"
    },
    {
     "data": {
      "text/html": [
       "<span style=\"color:cyan\"> |-activation2_4: elu</span>"
      ],
      "text/plain": [
       "<IPython.core.display.HTML object>"
      ]
     },
     "metadata": {},
     "output_type": "display_data"
    },
    {
     "data": {
      "text/html": [
       "<span style=\"color:blue\"> |-number_of_neurons2_0: 1212</span>"
      ],
      "text/plain": [
       "<IPython.core.display.HTML object>"
      ]
     },
     "metadata": {},
     "output_type": "display_data"
    },
    {
     "data": {
      "text/html": [
       "<span style=\"color:cyan\"> |-number_of_neurons2_1: 2023</span>"
      ],
      "text/plain": [
       "<IPython.core.display.HTML object>"
      ]
     },
     "metadata": {},
     "output_type": "display_data"
    },
    {
     "data": {
      "text/html": [
       "<span style=\"color:blue\"> |-number_of_neurons2_2: 1383</span>"
      ],
      "text/plain": [
       "<IPython.core.display.HTML object>"
      ]
     },
     "metadata": {},
     "output_type": "display_data"
    },
    {
     "data": {
      "text/html": [
       "<span style=\"color:cyan\"> |-number_of_neurons2_3: 512</span>"
      ],
      "text/plain": [
       "<IPython.core.display.HTML object>"
      ]
     },
     "metadata": {},
     "output_type": "display_data"
    },
    {
     "data": {
      "text/html": [
       "<span style=\"color:blue\"> |-number_of_neurons2_4: 512</span>"
      ],
      "text/plain": [
       "<IPython.core.display.HTML object>"
      ]
     },
     "metadata": {},
     "output_type": "display_data"
    },
    {
     "name": "stdout",
     "output_type": "stream",
     "text": [
      "Epoch 1/150\n",
      "138/138 [==============================] - 10s 76ms/step - loss: 0.2952 - accuracy: 0.0245 - val_loss: 0.0343 - val_accuracy: 0.0260\n",
      "Epoch 2/150\n",
      "138/138 [==============================] - 10s 73ms/step - loss: 0.0249 - accuracy: 0.0435 - val_loss: 0.0221 - val_accuracy: 0.0289\n",
      "Epoch 3/150\n",
      "138/138 [==============================] - 10s 73ms/step - loss: 0.0221 - accuracy: 0.0552 - val_loss: 0.0203 - val_accuracy: 0.0654\n",
      "Epoch 4/150\n",
      "138/138 [==============================] - 11s 79ms/step - loss: 0.0209 - accuracy: 0.0810 - val_loss: 0.0193 - val_accuracy: 0.1155\n",
      "Epoch 5/150\n",
      "138/138 [==============================] - 10s 73ms/step - loss: 0.0199 - accuracy: 0.0974 - val_loss: 0.0185 - val_accuracy: 0.0911\n",
      "Epoch 6/150\n",
      "138/138 [==============================] - 10s 72ms/step - loss: 0.0192 - accuracy: 0.1048 - val_loss: 0.0180 - val_accuracy: 0.1353\n",
      "Epoch 7/150\n",
      "138/138 [==============================] - 10s 74ms/step - loss: 0.0186 - accuracy: 0.1167 - val_loss: 0.0177 - val_accuracy: 0.1132\n",
      "Epoch 8/150\n",
      "138/138 [==============================] - 10s 73ms/step - loss: 0.0182 - accuracy: 0.1246 - val_loss: 0.0174 - val_accuracy: 0.1153\n",
      "Epoch 9/150\n",
      "138/138 [==============================] - 10s 72ms/step - loss: 0.0178 - accuracy: 0.1271 - val_loss: 0.0173 - val_accuracy: 0.1173\n",
      "Epoch 10/150\n",
      "138/138 [==============================] - 11s 80ms/step - loss: 0.0173 - accuracy: 0.1302 - val_loss: 0.0170 - val_accuracy: 0.1244\n",
      "Epoch 11/150\n",
      "138/138 [==============================] - 10s 72ms/step - loss: 0.0170 - accuracy: 0.1375 - val_loss: 0.0171 - val_accuracy: 0.1260\n",
      "Epoch 12/150\n",
      "138/138 [==============================] - 10s 73ms/step - loss: 0.0168 - accuracy: 0.1457 - val_loss: 0.0168 - val_accuracy: 0.1356\n",
      "Epoch 13/150\n",
      "138/138 [==============================] - 10s 75ms/step - loss: 0.0165 - accuracy: 0.1478 - val_loss: 0.0167 - val_accuracy: 0.1326\n",
      "Epoch 14/150\n",
      "138/138 [==============================] - 11s 77ms/step - loss: 0.0163 - accuracy: 0.1551 - val_loss: 0.0167 - val_accuracy: 0.1337\n",
      "Epoch 15/150\n",
      "138/138 [==============================] - 11s 78ms/step - loss: 0.0160 - accuracy: 0.1598 - val_loss: 0.0165 - val_accuracy: 0.1381\n",
      "Epoch 16/150\n",
      "138/138 [==============================] - 10s 75ms/step - loss: 0.0157 - accuracy: 0.1652 - val_loss: 0.0166 - val_accuracy: 0.1390\n",
      "Epoch 17/150\n",
      "138/138 [==============================] - 11s 77ms/step - loss: 0.0153 - accuracy: 0.1704 - val_loss: 0.0165 - val_accuracy: 0.1397\n",
      "Epoch 18/150\n",
      "138/138 [==============================] - 10s 72ms/step - loss: 0.0150 - accuracy: 0.1734 - val_loss: 0.0163 - val_accuracy: 0.1445\n",
      "Epoch 19/150\n",
      "138/138 [==============================] - 10s 74ms/step - loss: 0.0147 - accuracy: 0.1841 - val_loss: 0.0164 - val_accuracy: 0.1424\n",
      "Epoch 20/150\n",
      "138/138 [==============================] - 11s 78ms/step - loss: 0.0145 - accuracy: 0.1863 - val_loss: 0.0164 - val_accuracy: 0.1497\n",
      "Epoch 21/150\n",
      "137/138 [============================>.] - ETA: 0s - loss: 0.0142 - accuracy: 0.1965\n",
      "Epoch 00021: ReduceLROnPlateau reducing learning rate to 0.00010000000474974513.\n",
      "138/138 [==============================] - 10s 73ms/step - loss: 0.0142 - accuracy: 0.1964 - val_loss: 0.0165 - val_accuracy: 0.1445\n",
      "Epoch 22/150\n",
      "138/138 [==============================] - 10s 76ms/step - loss: 0.0135 - accuracy: 0.2093 - val_loss: 0.0163 - val_accuracy: 0.1460\n",
      "Epoch 23/150\n",
      "138/138 [==============================] - 10s 74ms/step - loss: 0.0133 - accuracy: 0.2150 - val_loss: 0.0163 - val_accuracy: 0.1470\n",
      "Epoch 24/150\n",
      "137/138 [============================>.] - ETA: 0s - loss: 0.0132 - accuracy: 0.2186\n",
      "Epoch 00024: ReduceLROnPlateau reducing learning rate to 1.0000000474974514e-05.\n",
      "138/138 [==============================] - 10s 71ms/step - loss: 0.0132 - accuracy: 0.2186 - val_loss: 0.0163 - val_accuracy: 0.1492\n",
      "Epoch 25/150\n",
      "138/138 [==============================] - 10s 72ms/step - loss: 0.0130 - accuracy: 0.2225 - val_loss: 0.0163 - val_accuracy: 0.1508\n",
      "Epoch 26/150\n",
      "138/138 [==============================] - 10s 73ms/step - loss: 0.0130 - accuracy: 0.2199 - val_loss: 0.0163 - val_accuracy: 0.1497\n",
      "Epoch 27/150\n",
      "137/138 [============================>.] - ETA: 0s - loss: 0.0130 - accuracy: 0.2225\n",
      "Epoch 00027: ReduceLROnPlateau reducing learning rate to 1.0000000656873453e-06.\n",
      "138/138 [==============================] - 10s 74ms/step - loss: 0.0130 - accuracy: 0.2223 - val_loss: 0.0163 - val_accuracy: 0.1492\n",
      "Epoch 28/150\n",
      "138/138 [==============================] - 10s 73ms/step - loss: 0.0130 - accuracy: 0.2219 - val_loss: 0.0163 - val_accuracy: 0.1501\n",
      "Epoch 29/150\n",
      "138/138 [==============================] - 10s 74ms/step - loss: 0.0130 - accuracy: 0.2219 - val_loss: 0.0163 - val_accuracy: 0.1495\n",
      "Epoch 30/150\n",
      "137/138 [============================>.] - ETA: 0s - loss: 0.0130 - accuracy: 0.2205\n",
      "Epoch 00030: ReduceLROnPlateau reducing learning rate to 1.0000001111620805e-07.\n",
      "138/138 [==============================] - 10s 72ms/step - loss: 0.0130 - accuracy: 0.2205 - val_loss: 0.0163 - val_accuracy: 0.1501\n",
      "Epoch 31/150\n",
      "138/138 [==============================] - 10s 71ms/step - loss: 0.0129 - accuracy: 0.2223 - val_loss: 0.0163 - val_accuracy: 0.1497\n",
      "Epoch 32/150\n",
      "138/138 [==============================] - 10s 73ms/step - loss: 0.0130 - accuracy: 0.2218 - val_loss: 0.0163 - val_accuracy: 0.1504\n",
      "Epoch 33/150\n",
      "137/138 [============================>.] - ETA: 0s - loss: 0.0130 - accuracy: 0.2209\n",
      "Epoch 00033: ReduceLROnPlateau reducing learning rate to 1.000000082740371e-08.\n",
      "Restoring model weights from the end of the best epoch.\n",
      "138/138 [==============================] - 10s 75ms/step - loss: 0.0130 - accuracy: 0.2210 - val_loss: 0.0163 - val_accuracy: 0.1501\n",
      "Epoch 00033: early stopping\n"
     ]
    },
    {
     "data": {
      "text/html": [
       "<span style=\"color:#4527A0\"><h1 style=\"font-size:18px\">Trial complete</h1></span>"
      ],
      "text/plain": [
       "<IPython.core.display.HTML object>"
      ]
     },
     "metadata": {},
     "output_type": "display_data"
    },
    {
     "data": {
      "text/html": [
       "<span style=\"color:#4527A0\"><h1 style=\"font-size:18px\">Trial summary</h1></span>"
      ],
      "text/plain": [
       "<IPython.core.display.HTML object>"
      ]
     },
     "metadata": {},
     "output_type": "display_data"
    },
    {
     "data": {
      "text/html": [
       "<span style=\"color:cyan\"> |-Trial ID: 2161bebfbee79e8f02ee2a39b092e1a3</span>"
      ],
      "text/plain": [
       "<IPython.core.display.HTML object>"
      ]
     },
     "metadata": {},
     "output_type": "display_data"
    },
    {
     "data": {
      "text/html": [
       "<span style=\"color:cyan\"> |-Score: 0.016283677890896797</span>"
      ],
      "text/plain": [
       "<IPython.core.display.HTML object>"
      ]
     },
     "metadata": {},
     "output_type": "display_data"
    },
    {
     "data": {
      "text/html": [
       "<span style=\"color:cyan\"> |-Best step: 0</span>"
      ],
      "text/plain": [
       "<IPython.core.display.HTML object>"
      ]
     },
     "metadata": {},
     "output_type": "display_data"
    },
    {
     "data": {
      "text/html": [
       "<span style=\"color:#7E57C2\"><h2 style=\"font-size:16px\">Hyperparameters:</h2></span>"
      ],
      "text/plain": [
       "<IPython.core.display.HTML object>"
      ]
     },
     "metadata": {},
     "output_type": "display_data"
    },
    {
     "data": {
      "text/html": [
       "<span style=\"color:cyan\"> |-Dropout_0: 0.65</span>"
      ],
      "text/plain": [
       "<IPython.core.display.HTML object>"
      ]
     },
     "metadata": {},
     "output_type": "display_data"
    },
    {
     "data": {
      "text/html": [
       "<span style=\"color:blue\"> |-Dropout_1: 0.55</span>"
      ],
      "text/plain": [
       "<IPython.core.display.HTML object>"
      ]
     },
     "metadata": {},
     "output_type": "display_data"
    },
    {
     "data": {
      "text/html": [
       "<span style=\"color:cyan\"> |-Dropout_2: 0.36</span>"
      ],
      "text/plain": [
       "<IPython.core.display.HTML object>"
      ]
     },
     "metadata": {},
     "output_type": "display_data"
    },
    {
     "data": {
      "text/html": [
       "<span style=\"color:blue\"> |-Dropout_3: 0.43</span>"
      ],
      "text/plain": [
       "<IPython.core.display.HTML object>"
      ]
     },
     "metadata": {},
     "output_type": "display_data"
    },
    {
     "data": {
      "text/html": [
       "<span style=\"color:cyan\"> |-Dropout_4: 0.65</span>"
      ],
      "text/plain": [
       "<IPython.core.display.HTML object>"
      ]
     },
     "metadata": {},
     "output_type": "display_data"
    },
    {
     "data": {
      "text/html": [
       "<span style=\"color:blue\"> |-N_Layers: 3</span>"
      ],
      "text/plain": [
       "<IPython.core.display.HTML object>"
      ]
     },
     "metadata": {},
     "output_type": "display_data"
    },
    {
     "data": {
      "text/html": [
       "<span style=\"color:cyan\"> |-activation2_0: elu</span>"
      ],
      "text/plain": [
       "<IPython.core.display.HTML object>"
      ]
     },
     "metadata": {},
     "output_type": "display_data"
    },
    {
     "data": {
      "text/html": [
       "<span style=\"color:blue\"> |-activation2_1: swish</span>"
      ],
      "text/plain": [
       "<IPython.core.display.HTML object>"
      ]
     },
     "metadata": {},
     "output_type": "display_data"
    },
    {
     "data": {
      "text/html": [
       "<span style=\"color:cyan\"> |-activation2_2: selu</span>"
      ],
      "text/plain": [
       "<IPython.core.display.HTML object>"
      ]
     },
     "metadata": {},
     "output_type": "display_data"
    },
    {
     "data": {
      "text/html": [
       "<span style=\"color:blue\"> |-activation2_3: swish</span>"
      ],
      "text/plain": [
       "<IPython.core.display.HTML object>"
      ]
     },
     "metadata": {},
     "output_type": "display_data"
    },
    {
     "data": {
      "text/html": [
       "<span style=\"color:cyan\"> |-activation2_4: selu</span>"
      ],
      "text/plain": [
       "<IPython.core.display.HTML object>"
      ]
     },
     "metadata": {},
     "output_type": "display_data"
    },
    {
     "data": {
      "text/html": [
       "<span style=\"color:blue\"> |-number_of_neurons2_0: 993</span>"
      ],
      "text/plain": [
       "<IPython.core.display.HTML object>"
      ]
     },
     "metadata": {},
     "output_type": "display_data"
    },
    {
     "data": {
      "text/html": [
       "<span style=\"color:cyan\"> |-number_of_neurons2_1: 1794</span>"
      ],
      "text/plain": [
       "<IPython.core.display.HTML object>"
      ]
     },
     "metadata": {},
     "output_type": "display_data"
    },
    {
     "data": {
      "text/html": [
       "<span style=\"color:blue\"> |-number_of_neurons2_2: 1031</span>"
      ],
      "text/plain": [
       "<IPython.core.display.HTML object>"
      ]
     },
     "metadata": {},
     "output_type": "display_data"
    },
    {
     "data": {
      "text/html": [
       "<span style=\"color:cyan\"> |-number_of_neurons2_3: 1905</span>"
      ],
      "text/plain": [
       "<IPython.core.display.HTML object>"
      ]
     },
     "metadata": {},
     "output_type": "display_data"
    },
    {
     "data": {
      "text/html": [
       "<span style=\"color:blue\"> |-number_of_neurons2_4: 1074</span>"
      ],
      "text/plain": [
       "<IPython.core.display.HTML object>"
      ]
     },
     "metadata": {},
     "output_type": "display_data"
    },
    {
     "name": "stdout",
     "output_type": "stream",
     "text": [
      "Epoch 1/150\n",
      "138/138 [==============================] - 11s 82ms/step - loss: 0.3570 - accuracy: 0.0159 - val_loss: 0.0295 - val_accuracy: 0.0153\n",
      "Epoch 2/150\n",
      "138/138 [==============================] - 12s 84ms/step - loss: 0.0287 - accuracy: 0.0326 - val_loss: 0.0224 - val_accuracy: 0.0321\n",
      "Epoch 3/150\n",
      "138/138 [==============================] - 11s 80ms/step - loss: 0.0235 - accuracy: 0.0476 - val_loss: 0.0205 - val_accuracy: 0.0542\n",
      "Epoch 4/150\n",
      "138/138 [==============================] - 11s 80ms/step - loss: 0.0223 - accuracy: 0.0584 - val_loss: 0.0198 - val_accuracy: 0.0677\n",
      "Epoch 5/150\n",
      "138/138 [==============================] - 12s 84ms/step - loss: 0.0214 - accuracy: 0.0737 - val_loss: 0.0192 - val_accuracy: 0.0777\n",
      "Epoch 6/150\n",
      "138/138 [==============================] - 11s 81ms/step - loss: 0.0208 - accuracy: 0.0831 - val_loss: 0.0188 - val_accuracy: 0.0788\n",
      "Epoch 7/150\n",
      "138/138 [==============================] - 11s 80ms/step - loss: 0.0202 - accuracy: 0.0878 - val_loss: 0.0184 - val_accuracy: 0.0870\n",
      "Epoch 8/150\n",
      "138/138 [==============================] - 11s 81ms/step - loss: 0.0197 - accuracy: 0.0985 - val_loss: 0.0182 - val_accuracy: 0.0934\n",
      "Epoch 9/150\n",
      "138/138 [==============================] - 11s 80ms/step - loss: 0.0192 - accuracy: 0.1001 - val_loss: 0.0180 - val_accuracy: 0.0925\n",
      "Epoch 10/150\n",
      "138/138 [==============================] - 12s 83ms/step - loss: 0.0189 - accuracy: 0.1048 - val_loss: 0.0178 - val_accuracy: 0.1009\n",
      "Epoch 11/150\n",
      "138/138 [==============================] - 12s 85ms/step - loss: 0.0186 - accuracy: 0.1064 - val_loss: 0.0177 - val_accuracy: 0.1062\n",
      "Epoch 12/150\n",
      "138/138 [==============================] - 12s 84ms/step - loss: 0.0181 - accuracy: 0.1137 - val_loss: 0.0176 - val_accuracy: 0.1110\n",
      "Epoch 13/150\n",
      "138/138 [==============================] - 11s 82ms/step - loss: 0.0180 - accuracy: 0.1157 - val_loss: 0.0174 - val_accuracy: 0.1094\n",
      "Epoch 14/150\n",
      "138/138 [==============================] - 11s 79ms/step - loss: 0.0176 - accuracy: 0.1215 - val_loss: 0.0174 - val_accuracy: 0.1164\n",
      "Epoch 15/150\n",
      "138/138 [==============================] - 11s 82ms/step - loss: 0.0174 - accuracy: 0.1272 - val_loss: 0.0173 - val_accuracy: 0.1135\n",
      "Epoch 16/150\n",
      "138/138 [==============================] - 12s 89ms/step - loss: 0.0172 - accuracy: 0.1271 - val_loss: 0.0172 - val_accuracy: 0.1196\n",
      "Epoch 17/150\n",
      "138/138 [==============================] - 11s 79ms/step - loss: 0.0169 - accuracy: 0.1315 - val_loss: 0.0172 - val_accuracy: 0.1203\n",
      "Epoch 18/150\n",
      "138/138 [==============================] - 11s 80ms/step - loss: 0.0167 - accuracy: 0.1328 - val_loss: 0.0171 - val_accuracy: 0.1192\n",
      "Epoch 19/150\n",
      "138/138 [==============================] - 11s 81ms/step - loss: 0.0164 - accuracy: 0.1446 - val_loss: 0.0171 - val_accuracy: 0.1233\n",
      "Epoch 20/150\n",
      "138/138 [==============================] - 11s 79ms/step - loss: 0.0162 - accuracy: 0.1499 - val_loss: 0.0170 - val_accuracy: 0.1269\n",
      "Epoch 21/150\n",
      "138/138 [==============================] - ETA: 0s - loss: 0.0159 - accuracy: 0.1584\n",
      "Epoch 00021: ReduceLROnPlateau reducing learning rate to 0.00010000000474974513.\n",
      "138/138 [==============================] - 11s 82ms/step - loss: 0.0159 - accuracy: 0.1584 - val_loss: 0.0171 - val_accuracy: 0.1251\n",
      "Epoch 22/150\n",
      "138/138 [==============================] - 11s 81ms/step - loss: 0.0152 - accuracy: 0.1673 - val_loss: 0.0170 - val_accuracy: 0.1280\n",
      "Epoch 23/150\n",
      "138/138 [==============================] - 11s 79ms/step - loss: 0.0150 - accuracy: 0.1747 - val_loss: 0.0170 - val_accuracy: 0.1287\n",
      "Epoch 24/150\n",
      "137/138 [============================>.] - ETA: 0s - loss: 0.0149 - accuracy: 0.1776\n",
      "Epoch 00024: ReduceLROnPlateau reducing learning rate to 1.0000000474974514e-05.\n",
      "138/138 [==============================] - 11s 79ms/step - loss: 0.0149 - accuracy: 0.1776 - val_loss: 0.0170 - val_accuracy: 0.1303\n",
      "Epoch 25/150\n",
      "138/138 [==============================] - 11s 81ms/step - loss: 0.0148 - accuracy: 0.1818 - val_loss: 0.0170 - val_accuracy: 0.1292\n",
      "Epoch 26/150\n",
      "138/138 [==============================] - 11s 80ms/step - loss: 0.0148 - accuracy: 0.1821 - val_loss: 0.0170 - val_accuracy: 0.1301\n",
      "Epoch 27/150\n",
      "137/138 [============================>.] - ETA: 0s - loss: 0.0147 - accuracy: 0.1796\n",
      "Epoch 00027: ReduceLROnPlateau reducing learning rate to 1.0000000656873453e-06.\n",
      "138/138 [==============================] - 11s 83ms/step - loss: 0.0147 - accuracy: 0.1795 - val_loss: 0.0170 - val_accuracy: 0.1290\n",
      "Epoch 28/150\n",
      "138/138 [==============================] - 11s 81ms/step - loss: 0.0147 - accuracy: 0.1820 - val_loss: 0.0170 - val_accuracy: 0.1294\n",
      "Epoch 29/150\n",
      "138/138 [==============================] - 11s 79ms/step - loss: 0.0148 - accuracy: 0.1791 - val_loss: 0.0170 - val_accuracy: 0.1287\n",
      "Epoch 30/150\n",
      "138/138 [==============================] - 11s 78ms/step - loss: 0.0148 - accuracy: 0.1823 - val_loss: 0.0170 - val_accuracy: 0.1292\n",
      "Epoch 31/150\n",
      "138/138 [==============================] - 11s 81ms/step - loss: 0.0148 - accuracy: 0.1824 - val_loss: 0.0170 - val_accuracy: 0.1287\n",
      "Epoch 32/150\n",
      "137/138 [============================>.] - ETA: 0s - loss: 0.0147 - accuracy: 0.1819\n",
      "Epoch 00032: ReduceLROnPlateau reducing learning rate to 1.0000001111620805e-07.\n",
      "138/138 [==============================] - 11s 82ms/step - loss: 0.0147 - accuracy: 0.1820 - val_loss: 0.0170 - val_accuracy: 0.1292\n",
      "Epoch 33/150\n",
      "138/138 [==============================] - 11s 79ms/step - loss: 0.0148 - accuracy: 0.1809 - val_loss: 0.0170 - val_accuracy: 0.1287\n",
      "Epoch 34/150\n",
      "138/138 [==============================] - 11s 80ms/step - loss: 0.0148 - accuracy: 0.1824 - val_loss: 0.0170 - val_accuracy: 0.1292\n",
      "Epoch 35/150\n",
      "137/138 [============================>.] - ETA: 0s - loss: 0.0148 - accuracy: 0.1809\n",
      "Epoch 00035: ReduceLROnPlateau reducing learning rate to 1.000000082740371e-08.\n",
      "138/138 [==============================] - 11s 78ms/step - loss: 0.0148 - accuracy: 0.1810 - val_loss: 0.0170 - val_accuracy: 0.1290\n",
      "Epoch 36/150\n",
      "138/138 [==============================] - 11s 78ms/step - loss: 0.0147 - accuracy: 0.1809 - val_loss: 0.0170 - val_accuracy: 0.1287\n",
      "Epoch 37/150\n",
      "138/138 [==============================] - 14s 102ms/step - loss: 0.0148 - accuracy: 0.1817 - val_loss: 0.0170 - val_accuracy: 0.1294\n",
      "Epoch 38/150\n",
      "137/138 [============================>.] - ETA: 0s - loss: 0.0148 - accuracy: 0.1831\n",
      "Epoch 00038: ReduceLROnPlateau reducing learning rate to 1.000000082740371e-09.\n",
      "138/138 [==============================] - 11s 79ms/step - loss: 0.0148 - accuracy: 0.1833 - val_loss: 0.0170 - val_accuracy: 0.1299\n",
      "Epoch 39/150\n",
      "138/138 [==============================] - 11s 79ms/step - loss: 0.0148 - accuracy: 0.1833 - val_loss: 0.0170 - val_accuracy: 0.1299\n",
      "Epoch 40/150\n",
      "138/138 [==============================] - 11s 80ms/step - loss: 0.0147 - accuracy: 0.1828 - val_loss: 0.0170 - val_accuracy: 0.1292\n",
      "Epoch 41/150\n",
      "137/138 [============================>.] - ETA: 0s - loss: 0.0147 - accuracy: 0.1835\n",
      "Epoch 00041: ReduceLROnPlateau reducing learning rate to 1.000000082740371e-10.\n",
      "Restoring model weights from the end of the best epoch.\n",
      "138/138 [==============================] - 11s 79ms/step - loss: 0.0147 - accuracy: 0.1833 - val_loss: 0.0170 - val_accuracy: 0.1285\n",
      "Epoch 00041: early stopping\n"
     ]
    },
    {
     "data": {
      "text/html": [
       "<span style=\"color:#4527A0\"><h1 style=\"font-size:18px\">Trial complete</h1></span>"
      ],
      "text/plain": [
       "<IPython.core.display.HTML object>"
      ]
     },
     "metadata": {},
     "output_type": "display_data"
    },
    {
     "data": {
      "text/html": [
       "<span style=\"color:#4527A0\"><h1 style=\"font-size:18px\">Trial summary</h1></span>"
      ],
      "text/plain": [
       "<IPython.core.display.HTML object>"
      ]
     },
     "metadata": {},
     "output_type": "display_data"
    },
    {
     "data": {
      "text/html": [
       "<span style=\"color:cyan\"> |-Trial ID: fcb26f58edfacc606f920da8062e5c2e</span>"
      ],
      "text/plain": [
       "<IPython.core.display.HTML object>"
      ]
     },
     "metadata": {},
     "output_type": "display_data"
    },
    {
     "data": {
      "text/html": [
       "<span style=\"color:cyan\"> |-Score: 0.016972286626696587</span>"
      ],
      "text/plain": [
       "<IPython.core.display.HTML object>"
      ]
     },
     "metadata": {},
     "output_type": "display_data"
    },
    {
     "data": {
      "text/html": [
       "<span style=\"color:cyan\"> |-Best step: 0</span>"
      ],
      "text/plain": [
       "<IPython.core.display.HTML object>"
      ]
     },
     "metadata": {},
     "output_type": "display_data"
    },
    {
     "data": {
      "text/html": [
       "<span style=\"color:#7E57C2\"><h2 style=\"font-size:16px\">Hyperparameters:</h2></span>"
      ],
      "text/plain": [
       "<IPython.core.display.HTML object>"
      ]
     },
     "metadata": {},
     "output_type": "display_data"
    },
    {
     "data": {
      "text/html": [
       "<span style=\"color:cyan\"> |-Dropout_0: 0.62</span>"
      ],
      "text/plain": [
       "<IPython.core.display.HTML object>"
      ]
     },
     "metadata": {},
     "output_type": "display_data"
    },
    {
     "data": {
      "text/html": [
       "<span style=\"color:blue\"> |-Dropout_1: 0.21</span>"
      ],
      "text/plain": [
       "<IPython.core.display.HTML object>"
      ]
     },
     "metadata": {},
     "output_type": "display_data"
    },
    {
     "data": {
      "text/html": [
       "<span style=\"color:cyan\"> |-Dropout_2: 0.17</span>"
      ],
      "text/plain": [
       "<IPython.core.display.HTML object>"
      ]
     },
     "metadata": {},
     "output_type": "display_data"
    },
    {
     "data": {
      "text/html": [
       "<span style=\"color:blue\"> |-Dropout_3: 0.6</span>"
      ],
      "text/plain": [
       "<IPython.core.display.HTML object>"
      ]
     },
     "metadata": {},
     "output_type": "display_data"
    },
    {
     "data": {
      "text/html": [
       "<span style=\"color:cyan\"> |-Dropout_4: 0.65</span>"
      ],
      "text/plain": [
       "<IPython.core.display.HTML object>"
      ]
     },
     "metadata": {},
     "output_type": "display_data"
    },
    {
     "data": {
      "text/html": [
       "<span style=\"color:blue\"> |-N_Layers: 5</span>"
      ],
      "text/plain": [
       "<IPython.core.display.HTML object>"
      ]
     },
     "metadata": {},
     "output_type": "display_data"
    },
    {
     "data": {
      "text/html": [
       "<span style=\"color:cyan\"> |-activation2_0: swish</span>"
      ],
      "text/plain": [
       "<IPython.core.display.HTML object>"
      ]
     },
     "metadata": {},
     "output_type": "display_data"
    },
    {
     "data": {
      "text/html": [
       "<span style=\"color:blue\"> |-activation2_1: elu</span>"
      ],
      "text/plain": [
       "<IPython.core.display.HTML object>"
      ]
     },
     "metadata": {},
     "output_type": "display_data"
    },
    {
     "data": {
      "text/html": [
       "<span style=\"color:cyan\"> |-activation2_2: selu</span>"
      ],
      "text/plain": [
       "<IPython.core.display.HTML object>"
      ]
     },
     "metadata": {},
     "output_type": "display_data"
    },
    {
     "data": {
      "text/html": [
       "<span style=\"color:blue\"> |-activation2_3: selu</span>"
      ],
      "text/plain": [
       "<IPython.core.display.HTML object>"
      ]
     },
     "metadata": {},
     "output_type": "display_data"
    },
    {
     "data": {
      "text/html": [
       "<span style=\"color:cyan\"> |-activation2_4: selu</span>"
      ],
      "text/plain": [
       "<IPython.core.display.HTML object>"
      ]
     },
     "metadata": {},
     "output_type": "display_data"
    },
    {
     "data": {
      "text/html": [
       "<span style=\"color:blue\"> |-number_of_neurons2_0: 1311</span>"
      ],
      "text/plain": [
       "<IPython.core.display.HTML object>"
      ]
     },
     "metadata": {},
     "output_type": "display_data"
    },
    {
     "data": {
      "text/html": [
       "<span style=\"color:cyan\"> |-number_of_neurons2_1: 747</span>"
      ],
      "text/plain": [
       "<IPython.core.display.HTML object>"
      ]
     },
     "metadata": {},
     "output_type": "display_data"
    },
    {
     "data": {
      "text/html": [
       "<span style=\"color:blue\"> |-number_of_neurons2_2: 874</span>"
      ],
      "text/plain": [
       "<IPython.core.display.HTML object>"
      ]
     },
     "metadata": {},
     "output_type": "display_data"
    },
    {
     "data": {
      "text/html": [
       "<span style=\"color:cyan\"> |-number_of_neurons2_3: 1359</span>"
      ],
      "text/plain": [
       "<IPython.core.display.HTML object>"
      ]
     },
     "metadata": {},
     "output_type": "display_data"
    },
    {
     "data": {
      "text/html": [
       "<span style=\"color:blue\"> |-number_of_neurons2_4: 546</span>"
      ],
      "text/plain": [
       "<IPython.core.display.HTML object>"
      ]
     },
     "metadata": {},
     "output_type": "display_data"
    },
    {
     "name": "stdout",
     "output_type": "stream",
     "text": [
      "SEED:564 Fold:2\n",
      "Epoch 1/150\n",
      "138/138 [==============================] - 7s 49ms/step - loss: 0.3170 - accuracy: 0.0491 - val_loss: 0.0281 - val_accuracy: 0.0765\n",
      "Epoch 2/150\n",
      "138/138 [==============================] - 7s 53ms/step - loss: 0.0244 - accuracy: 0.0906 - val_loss: 0.0202 - val_accuracy: 0.1228\n",
      "Epoch 3/150\n",
      "138/138 [==============================] - 7s 49ms/step - loss: 0.0199 - accuracy: 0.1173 - val_loss: 0.0184 - val_accuracy: 0.1091\n",
      "Epoch 4/150\n",
      "138/138 [==============================] - 6s 45ms/step - loss: 0.0181 - accuracy: 0.1406 - val_loss: 0.0177 - val_accuracy: 0.1317\n",
      "Epoch 5/150\n",
      "138/138 [==============================] - 6s 45ms/step - loss: 0.0168 - accuracy: 0.1627 - val_loss: 0.0173 - val_accuracy: 0.1369\n",
      "Epoch 6/150\n",
      "138/138 [==============================] - 6s 45ms/step - loss: 0.0161 - accuracy: 0.1899 - val_loss: 0.0183 - val_accuracy: 0.1355\n",
      "Epoch 7/150\n",
      "138/138 [==============================] - 6s 47ms/step - loss: 0.0151 - accuracy: 0.2033 - val_loss: 0.0170 - val_accuracy: 0.1449\n",
      "Epoch 8/150\n",
      "138/138 [==============================] - 6s 45ms/step - loss: 0.0138 - accuracy: 0.2304 - val_loss: 0.0171 - val_accuracy: 0.1472\n",
      "Epoch 9/150\n",
      "138/138 [==============================] - 6s 45ms/step - loss: 0.0127 - accuracy: 0.2600 - val_loss: 0.0172 - val_accuracy: 0.1510\n",
      "Epoch 10/150\n",
      "137/138 [============================>.] - ETA: 0s - loss: 0.0120 - accuracy: 0.2888\n",
      "Epoch 00010: ReduceLROnPlateau reducing learning rate to 0.00010000000474974513.\n",
      "138/138 [==============================] - 6s 45ms/step - loss: 0.0120 - accuracy: 0.2886 - val_loss: 0.0175 - val_accuracy: 0.1478\n",
      "Epoch 11/150\n",
      "138/138 [==============================] - 6s 47ms/step - loss: 0.0097 - accuracy: 0.3573 - val_loss: 0.0171 - val_accuracy: 0.1533\n",
      "Epoch 12/150\n",
      "138/138 [==============================] - 6s 45ms/step - loss: 0.0091 - accuracy: 0.3810 - val_loss: 0.0173 - val_accuracy: 0.1540\n",
      "Epoch 13/150\n",
      "137/138 [============================>.] - ETA: 0s - loss: 0.0086 - accuracy: 0.3978\n",
      "Epoch 00013: ReduceLROnPlateau reducing learning rate to 1.0000000474974514e-05.\n",
      "138/138 [==============================] - 7s 48ms/step - loss: 0.0086 - accuracy: 0.3977 - val_loss: 0.0174 - val_accuracy: 0.1569\n",
      "Epoch 14/150\n",
      "138/138 [==============================] - 6s 45ms/step - loss: 0.0081 - accuracy: 0.4174 - val_loss: 0.0174 - val_accuracy: 0.1574\n",
      "Epoch 15/150\n",
      "138/138 [==============================] - 6s 45ms/step - loss: 0.0081 - accuracy: 0.4180 - val_loss: 0.0175 - val_accuracy: 0.1563\n",
      "Epoch 16/150\n",
      "138/138 [==============================] - ETA: 0s - loss: 0.0080 - accuracy: 0.4212\n",
      "Epoch 00016: ReduceLROnPlateau reducing learning rate to 1.0000000656873453e-06.\n",
      "138/138 [==============================] - 6s 45ms/step - loss: 0.0080 - accuracy: 0.4212 - val_loss: 0.0175 - val_accuracy: 0.1560\n",
      "Epoch 17/150\n",
      "137/138 [============================>.] - ETA: 0s - loss: 0.0080 - accuracy: 0.4224Restoring model weights from the end of the best epoch.\n",
      "138/138 [==============================] - 6s 44ms/step - loss: 0.0080 - accuracy: 0.4223 - val_loss: 0.0175 - val_accuracy: 0.1556\n",
      "Epoch 00017: early stopping\n"
     ]
    },
    {
     "data": {
      "text/html": [
       "<span style=\"color:#4527A0\"><h1 style=\"font-size:18px\">Trial complete</h1></span>"
      ],
      "text/plain": [
       "<IPython.core.display.HTML object>"
      ]
     },
     "metadata": {},
     "output_type": "display_data"
    },
    {
     "data": {
      "text/html": [
       "<span style=\"color:#4527A0\"><h1 style=\"font-size:18px\">Trial summary</h1></span>"
      ],
      "text/plain": [
       "<IPython.core.display.HTML object>"
      ]
     },
     "metadata": {},
     "output_type": "display_data"
    },
    {
     "data": {
      "text/html": [
       "<span style=\"color:cyan\"> |-Trial ID: 0d9c604eea3702797d2a57605c82a533</span>"
      ],
      "text/plain": [
       "<IPython.core.display.HTML object>"
      ]
     },
     "metadata": {},
     "output_type": "display_data"
    },
    {
     "data": {
      "text/html": [
       "<span style=\"color:cyan\"> |-Score: 0.016997486352920532</span>"
      ],
      "text/plain": [
       "<IPython.core.display.HTML object>"
      ]
     },
     "metadata": {},
     "output_type": "display_data"
    },
    {
     "data": {
      "text/html": [
       "<span style=\"color:cyan\"> |-Best step: 0</span>"
      ],
      "text/plain": [
       "<IPython.core.display.HTML object>"
      ]
     },
     "metadata": {},
     "output_type": "display_data"
    },
    {
     "data": {
      "text/html": [
       "<span style=\"color:#7E57C2\"><h2 style=\"font-size:16px\">Hyperparameters:</h2></span>"
      ],
      "text/plain": [
       "<IPython.core.display.HTML object>"
      ]
     },
     "metadata": {},
     "output_type": "display_data"
    },
    {
     "data": {
      "text/html": [
       "<span style=\"color:cyan\"> |-Dropout_0: 0.04</span>"
      ],
      "text/plain": [
       "<IPython.core.display.HTML object>"
      ]
     },
     "metadata": {},
     "output_type": "display_data"
    },
    {
     "data": {
      "text/html": [
       "<span style=\"color:blue\"> |-Dropout_1: 0.23</span>"
      ],
      "text/plain": [
       "<IPython.core.display.HTML object>"
      ]
     },
     "metadata": {},
     "output_type": "display_data"
    },
    {
     "data": {
      "text/html": [
       "<span style=\"color:cyan\"> |-N_Layers: 2</span>"
      ],
      "text/plain": [
       "<IPython.core.display.HTML object>"
      ]
     },
     "metadata": {},
     "output_type": "display_data"
    },
    {
     "data": {
      "text/html": [
       "<span style=\"color:blue\"> |-activation2_0: selu</span>"
      ],
      "text/plain": [
       "<IPython.core.display.HTML object>"
      ]
     },
     "metadata": {},
     "output_type": "display_data"
    },
    {
     "data": {
      "text/html": [
       "<span style=\"color:cyan\"> |-activation2_1: selu</span>"
      ],
      "text/plain": [
       "<IPython.core.display.HTML object>"
      ]
     },
     "metadata": {},
     "output_type": "display_data"
    },
    {
     "data": {
      "text/html": [
       "<span style=\"color:blue\"> |-number_of_neurons2_0: 1773</span>"
      ],
      "text/plain": [
       "<IPython.core.display.HTML object>"
      ]
     },
     "metadata": {},
     "output_type": "display_data"
    },
    {
     "data": {
      "text/html": [
       "<span style=\"color:cyan\"> |-number_of_neurons2_1: 595</span>"
      ],
      "text/plain": [
       "<IPython.core.display.HTML object>"
      ]
     },
     "metadata": {},
     "output_type": "display_data"
    },
    {
     "name": "stdout",
     "output_type": "stream",
     "text": [
      "Epoch 1/150\n",
      "138/138 [==============================] - 7s 48ms/step - loss: 0.2932 - accuracy: 0.0290 - val_loss: 0.0264 - val_accuracy: 0.0349\n",
      "Epoch 2/150\n",
      "138/138 [==============================] - 7s 49ms/step - loss: 0.0228 - accuracy: 0.0792 - val_loss: 0.0200 - val_accuracy: 0.0854\n",
      "Epoch 3/150\n",
      "138/138 [==============================] - 7s 49ms/step - loss: 0.0191 - accuracy: 0.1095 - val_loss: 0.0187 - val_accuracy: 0.0966\n",
      "Epoch 4/150\n",
      "138/138 [==============================] - 7s 48ms/step - loss: 0.0178 - accuracy: 0.1194 - val_loss: 0.0175 - val_accuracy: 0.1207\n",
      "Epoch 5/150\n",
      "138/138 [==============================] - 7s 49ms/step - loss: 0.0170 - accuracy: 0.1316 - val_loss: 0.0173 - val_accuracy: 0.1419\n",
      "Epoch 6/150\n",
      "138/138 [==============================] - 6s 47ms/step - loss: 0.0164 - accuracy: 0.1552 - val_loss: 0.0170 - val_accuracy: 0.1289\n",
      "Epoch 7/150\n",
      "138/138 [==============================] - 7s 48ms/step - loss: 0.0157 - accuracy: 0.1698 - val_loss: 0.0170 - val_accuracy: 0.1551\n",
      "Epoch 8/150\n",
      "138/138 [==============================] - 6s 46ms/step - loss: 0.0150 - accuracy: 0.1793 - val_loss: 0.0173 - val_accuracy: 0.1376\n",
      "Epoch 9/150\n",
      "137/138 [============================>.] - ETA: 0s - loss: 0.0143 - accuracy: 0.1965\n",
      "Epoch 00009: ReduceLROnPlateau reducing learning rate to 0.00010000000474974513.\n",
      "138/138 [==============================] - 6s 46ms/step - loss: 0.0143 - accuracy: 0.1967 - val_loss: 0.0171 - val_accuracy: 0.1718\n",
      "Epoch 10/150\n",
      "138/138 [==============================] - 7s 49ms/step - loss: 0.0125 - accuracy: 0.2492 - val_loss: 0.0167 - val_accuracy: 0.1428\n",
      "Epoch 11/150\n",
      "138/138 [==============================] - 6s 47ms/step - loss: 0.0119 - accuracy: 0.2578 - val_loss: 0.0167 - val_accuracy: 0.1421\n",
      "Epoch 12/150\n",
      "138/138 [==============================] - 7s 48ms/step - loss: 0.0115 - accuracy: 0.2673 - val_loss: 0.0168 - val_accuracy: 0.1444\n",
      "Epoch 13/150\n",
      "138/138 [==============================] - ETA: 0s - loss: 0.0112 - accuracy: 0.2769\n",
      "Epoch 00013: ReduceLROnPlateau reducing learning rate to 1.0000000474974514e-05.\n",
      "138/138 [==============================] - 6s 46ms/step - loss: 0.0112 - accuracy: 0.2769 - val_loss: 0.0170 - val_accuracy: 0.1451\n",
      "Epoch 14/150\n",
      "138/138 [==============================] - 6s 47ms/step - loss: 0.0108 - accuracy: 0.2936 - val_loss: 0.0170 - val_accuracy: 0.1453\n",
      "Epoch 15/150\n",
      "138/138 [==============================] - 7s 49ms/step - loss: 0.0107 - accuracy: 0.2937 - val_loss: 0.0170 - val_accuracy: 0.1467\n",
      "Epoch 16/150\n",
      "137/138 [============================>.] - ETA: 0s - loss: 0.0107 - accuracy: 0.2941\n",
      "Epoch 00016: ReduceLROnPlateau reducing learning rate to 1.0000000656873453e-06.\n",
      "138/138 [==============================] - 6s 46ms/step - loss: 0.0107 - accuracy: 0.2943 - val_loss: 0.0170 - val_accuracy: 0.1469\n",
      "Epoch 17/150\n",
      "138/138 [==============================] - 6s 46ms/step - loss: 0.0106 - accuracy: 0.2987 - val_loss: 0.0170 - val_accuracy: 0.1469\n",
      "Epoch 18/150\n",
      "138/138 [==============================] - 6s 45ms/step - loss: 0.0106 - accuracy: 0.2941 - val_loss: 0.0170 - val_accuracy: 0.1465\n",
      "Epoch 19/150\n",
      "138/138 [==============================] - ETA: 0s - loss: 0.0106 - accuracy: 0.3009\n",
      "Epoch 00019: ReduceLROnPlateau reducing learning rate to 1.0000001111620805e-07.\n",
      "138/138 [==============================] - 6s 46ms/step - loss: 0.0106 - accuracy: 0.3009 - val_loss: 0.0170 - val_accuracy: 0.1467\n",
      "Epoch 20/150\n",
      "137/138 [============================>.] - ETA: 0s - loss: 0.0106 - accuracy: 0.2999Restoring model weights from the end of the best epoch.\n",
      "138/138 [==============================] - 7s 48ms/step - loss: 0.0106 - accuracy: 0.2997 - val_loss: 0.0171 - val_accuracy: 0.1462\n",
      "Epoch 00020: early stopping\n"
     ]
    },
    {
     "data": {
      "text/html": [
       "<span style=\"color:#4527A0\"><h1 style=\"font-size:18px\">Trial complete</h1></span>"
      ],
      "text/plain": [
       "<IPython.core.display.HTML object>"
      ]
     },
     "metadata": {},
     "output_type": "display_data"
    },
    {
     "data": {
      "text/html": [
       "<span style=\"color:#4527A0\"><h1 style=\"font-size:18px\">Trial summary</h1></span>"
      ],
      "text/plain": [
       "<IPython.core.display.HTML object>"
      ]
     },
     "metadata": {},
     "output_type": "display_data"
    },
    {
     "data": {
      "text/html": [
       "<span style=\"color:cyan\"> |-Trial ID: fd3096c9742902ca682a9135597bb469</span>"
      ],
      "text/plain": [
       "<IPython.core.display.HTML object>"
      ]
     },
     "metadata": {},
     "output_type": "display_data"
    },
    {
     "data": {
      "text/html": [
       "<span style=\"color:cyan\"> |-Score: 0.016696959733963013</span>"
      ],
      "text/plain": [
       "<IPython.core.display.HTML object>"
      ]
     },
     "metadata": {},
     "output_type": "display_data"
    },
    {
     "data": {
      "text/html": [
       "<span style=\"color:cyan\"> |-Best step: 0</span>"
      ],
      "text/plain": [
       "<IPython.core.display.HTML object>"
      ]
     },
     "metadata": {},
     "output_type": "display_data"
    },
    {
     "data": {
      "text/html": [
       "<span style=\"color:#7E57C2\"><h2 style=\"font-size:16px\">Hyperparameters:</h2></span>"
      ],
      "text/plain": [
       "<IPython.core.display.HTML object>"
      ]
     },
     "metadata": {},
     "output_type": "display_data"
    },
    {
     "data": {
      "text/html": [
       "<span style=\"color:cyan\"> |-Dropout_0: 0.44</span>"
      ],
      "text/plain": [
       "<IPython.core.display.HTML object>"
      ]
     },
     "metadata": {},
     "output_type": "display_data"
    },
    {
     "data": {
      "text/html": [
       "<span style=\"color:blue\"> |-Dropout_1: 0.25</span>"
      ],
      "text/plain": [
       "<IPython.core.display.HTML object>"
      ]
     },
     "metadata": {},
     "output_type": "display_data"
    },
    {
     "data": {
      "text/html": [
       "<span style=\"color:cyan\"> |-Dropout_2: 0.0</span>"
      ],
      "text/plain": [
       "<IPython.core.display.HTML object>"
      ]
     },
     "metadata": {},
     "output_type": "display_data"
    },
    {
     "data": {
      "text/html": [
       "<span style=\"color:blue\"> |-Dropout_3: 0.0</span>"
      ],
      "text/plain": [
       "<IPython.core.display.HTML object>"
      ]
     },
     "metadata": {},
     "output_type": "display_data"
    },
    {
     "data": {
      "text/html": [
       "<span style=\"color:cyan\"> |-Dropout_4: 0.0</span>"
      ],
      "text/plain": [
       "<IPython.core.display.HTML object>"
      ]
     },
     "metadata": {},
     "output_type": "display_data"
    },
    {
     "data": {
      "text/html": [
       "<span style=\"color:blue\"> |-Dropout_5: 0.0</span>"
      ],
      "text/plain": [
       "<IPython.core.display.HTML object>"
      ]
     },
     "metadata": {},
     "output_type": "display_data"
    },
    {
     "data": {
      "text/html": [
       "<span style=\"color:cyan\"> |-N_Layers: 6</span>"
      ],
      "text/plain": [
       "<IPython.core.display.HTML object>"
      ]
     },
     "metadata": {},
     "output_type": "display_data"
    },
    {
     "data": {
      "text/html": [
       "<span style=\"color:blue\"> |-activation2_0: swish</span>"
      ],
      "text/plain": [
       "<IPython.core.display.HTML object>"
      ]
     },
     "metadata": {},
     "output_type": "display_data"
    },
    {
     "data": {
      "text/html": [
       "<span style=\"color:cyan\"> |-activation2_1: swish</span>"
      ],
      "text/plain": [
       "<IPython.core.display.HTML object>"
      ]
     },
     "metadata": {},
     "output_type": "display_data"
    },
    {
     "data": {
      "text/html": [
       "<span style=\"color:blue\"> |-activation2_2: elu</span>"
      ],
      "text/plain": [
       "<IPython.core.display.HTML object>"
      ]
     },
     "metadata": {},
     "output_type": "display_data"
    },
    {
     "data": {
      "text/html": [
       "<span style=\"color:cyan\"> |-activation2_3: elu</span>"
      ],
      "text/plain": [
       "<IPython.core.display.HTML object>"
      ]
     },
     "metadata": {},
     "output_type": "display_data"
    },
    {
     "data": {
      "text/html": [
       "<span style=\"color:blue\"> |-activation2_4: elu</span>"
      ],
      "text/plain": [
       "<IPython.core.display.HTML object>"
      ]
     },
     "metadata": {},
     "output_type": "display_data"
    },
    {
     "data": {
      "text/html": [
       "<span style=\"color:cyan\"> |-activation2_5: elu</span>"
      ],
      "text/plain": [
       "<IPython.core.display.HTML object>"
      ]
     },
     "metadata": {},
     "output_type": "display_data"
    },
    {
     "data": {
      "text/html": [
       "<span style=\"color:blue\"> |-number_of_neurons2_0: 857</span>"
      ],
      "text/plain": [
       "<IPython.core.display.HTML object>"
      ]
     },
     "metadata": {},
     "output_type": "display_data"
    },
    {
     "data": {
      "text/html": [
       "<span style=\"color:cyan\"> |-number_of_neurons2_1: 568</span>"
      ],
      "text/plain": [
       "<IPython.core.display.HTML object>"
      ]
     },
     "metadata": {},
     "output_type": "display_data"
    },
    {
     "data": {
      "text/html": [
       "<span style=\"color:blue\"> |-number_of_neurons2_2: 512</span>"
      ],
      "text/plain": [
       "<IPython.core.display.HTML object>"
      ]
     },
     "metadata": {},
     "output_type": "display_data"
    },
    {
     "data": {
      "text/html": [
       "<span style=\"color:cyan\"> |-number_of_neurons2_3: 512</span>"
      ],
      "text/plain": [
       "<IPython.core.display.HTML object>"
      ]
     },
     "metadata": {},
     "output_type": "display_data"
    },
    {
     "data": {
      "text/html": [
       "<span style=\"color:blue\"> |-number_of_neurons2_4: 512</span>"
      ],
      "text/plain": [
       "<IPython.core.display.HTML object>"
      ]
     },
     "metadata": {},
     "output_type": "display_data"
    },
    {
     "data": {
      "text/html": [
       "<span style=\"color:cyan\"> |-number_of_neurons2_5: 512</span>"
      ],
      "text/plain": [
       "<IPython.core.display.HTML object>"
      ]
     },
     "metadata": {},
     "output_type": "display_data"
    },
    {
     "name": "stdout",
     "output_type": "stream",
     "text": [
      "Epoch 1/150\n",
      "138/138 [==============================] - 3s 24ms/step - loss: 0.3368 - accuracy: 0.0206 - val_loss: 0.0244 - val_accuracy: 0.0444\n",
      "Epoch 2/150\n",
      "138/138 [==============================] - 3s 23ms/step - loss: 0.0268 - accuracy: 0.0517 - val_loss: 0.0208 - val_accuracy: 0.0984\n",
      "Epoch 3/150\n",
      "138/138 [==============================] - 3s 23ms/step - loss: 0.0228 - accuracy: 0.0731 - val_loss: 0.0199 - val_accuracy: 0.0795\n",
      "Epoch 4/150\n",
      "138/138 [==============================] - 3s 23ms/step - loss: 0.0216 - accuracy: 0.0859 - val_loss: 0.0192 - val_accuracy: 0.1062\n",
      "Epoch 5/150\n",
      "138/138 [==============================] - 3s 21ms/step - loss: 0.0208 - accuracy: 0.0948 - val_loss: 0.0188 - val_accuracy: 0.0957\n",
      "Epoch 6/150\n",
      "138/138 [==============================] - 3s 21ms/step - loss: 0.0204 - accuracy: 0.1019 - val_loss: 0.0184 - val_accuracy: 0.0989\n",
      "Epoch 7/150\n",
      "138/138 [==============================] - 3s 22ms/step - loss: 0.0197 - accuracy: 0.1090 - val_loss: 0.0180 - val_accuracy: 0.1068\n",
      "Epoch 8/150\n",
      "138/138 [==============================] - 3s 21ms/step - loss: 0.0192 - accuracy: 0.1133 - val_loss: 0.0178 - val_accuracy: 0.1121\n",
      "Epoch 9/150\n",
      "138/138 [==============================] - 3s 23ms/step - loss: 0.0188 - accuracy: 0.1197 - val_loss: 0.0176 - val_accuracy: 0.1178\n",
      "Epoch 10/150\n",
      "138/138 [==============================] - 3s 25ms/step - loss: 0.0185 - accuracy: 0.1220 - val_loss: 0.0173 - val_accuracy: 0.1178\n",
      "Epoch 11/150\n",
      "138/138 [==============================] - 3s 23ms/step - loss: 0.0181 - accuracy: 0.1271 - val_loss: 0.0172 - val_accuracy: 0.1230\n",
      "Epoch 12/150\n",
      "138/138 [==============================] - 3s 21ms/step - loss: 0.0177 - accuracy: 0.1317 - val_loss: 0.0170 - val_accuracy: 0.1246\n",
      "Epoch 13/150\n",
      "138/138 [==============================] - 3s 22ms/step - loss: 0.0175 - accuracy: 0.1342 - val_loss: 0.0170 - val_accuracy: 0.1308\n",
      "Epoch 14/150\n",
      "138/138 [==============================] - 3s 22ms/step - loss: 0.0173 - accuracy: 0.1377 - val_loss: 0.0168 - val_accuracy: 0.1351\n",
      "Epoch 15/150\n",
      "138/138 [==============================] - 3s 22ms/step - loss: 0.0169 - accuracy: 0.1437 - val_loss: 0.0167 - val_accuracy: 0.1326\n",
      "Epoch 16/150\n",
      "138/138 [==============================] - 3s 21ms/step - loss: 0.0167 - accuracy: 0.1490 - val_loss: 0.0167 - val_accuracy: 0.1364\n",
      "Epoch 17/150\n",
      "138/138 [==============================] - 3s 21ms/step - loss: 0.0165 - accuracy: 0.1510 - val_loss: 0.0165 - val_accuracy: 0.1394\n",
      "Epoch 18/150\n",
      "138/138 [==============================] - 3s 21ms/step - loss: 0.0162 - accuracy: 0.1595 - val_loss: 0.0165 - val_accuracy: 0.1399\n",
      "Epoch 19/150\n",
      "138/138 [==============================] - 3s 21ms/step - loss: 0.0160 - accuracy: 0.1628 - val_loss: 0.0165 - val_accuracy: 0.1408\n",
      "Epoch 20/150\n",
      "137/138 [============================>.] - ETA: 0s - loss: 0.0157 - accuracy: 0.1635\n",
      "Epoch 00020: ReduceLROnPlateau reducing learning rate to 0.00010000000474974513.\n",
      "138/138 [==============================] - 4s 26ms/step - loss: 0.0158 - accuracy: 0.1635 - val_loss: 0.0165 - val_accuracy: 0.1424\n",
      "Epoch 21/150\n",
      "138/138 [==============================] - 3s 22ms/step - loss: 0.0152 - accuracy: 0.1766 - val_loss: 0.0164 - val_accuracy: 0.1444\n",
      "Epoch 22/150\n",
      "138/138 [==============================] - 3s 22ms/step - loss: 0.0151 - accuracy: 0.1741 - val_loss: 0.0163 - val_accuracy: 0.1453\n",
      "Epoch 23/150\n",
      "138/138 [==============================] - 3s 21ms/step - loss: 0.0150 - accuracy: 0.1792 - val_loss: 0.0163 - val_accuracy: 0.1458\n",
      "Epoch 24/150\n",
      "136/138 [============================>.] - ETA: 0s - loss: 0.0150 - accuracy: 0.1796\n",
      "Epoch 00024: ReduceLROnPlateau reducing learning rate to 1.0000000474974514e-05.\n",
      "138/138 [==============================] - 3s 21ms/step - loss: 0.0150 - accuracy: 0.1799 - val_loss: 0.0163 - val_accuracy: 0.1460\n",
      "Epoch 25/150\n",
      "138/138 [==============================] - 3s 23ms/step - loss: 0.0149 - accuracy: 0.1825 - val_loss: 0.0163 - val_accuracy: 0.1460\n",
      "Epoch 26/150\n",
      "138/138 [==============================] - 3s 23ms/step - loss: 0.0149 - accuracy: 0.1808 - val_loss: 0.0163 - val_accuracy: 0.1458\n",
      "Epoch 27/150\n",
      "136/138 [============================>.] - ETA: 0s - loss: 0.0148 - accuracy: 0.1835\n",
      "Epoch 00027: ReduceLROnPlateau reducing learning rate to 1.0000000656873453e-06.\n",
      "138/138 [==============================] - 3s 23ms/step - loss: 0.0148 - accuracy: 0.1835 - val_loss: 0.0163 - val_accuracy: 0.1458\n",
      "Epoch 28/150\n",
      "138/138 [==============================] - 3s 23ms/step - loss: 0.0148 - accuracy: 0.1788 - val_loss: 0.0163 - val_accuracy: 0.1456\n",
      "Epoch 29/150\n",
      "138/138 [==============================] - 3s 22ms/step - loss: 0.0149 - accuracy: 0.1822 - val_loss: 0.0163 - val_accuracy: 0.1453\n",
      "Epoch 30/150\n",
      "137/138 [============================>.] - ETA: 0s - loss: 0.0148 - accuracy: 0.1816\n",
      "Epoch 00030: ReduceLROnPlateau reducing learning rate to 1.0000001111620805e-07.\n",
      "138/138 [==============================] - 3s 24ms/step - loss: 0.0148 - accuracy: 0.1816 - val_loss: 0.0163 - val_accuracy: 0.1458\n",
      "Epoch 31/150\n",
      "138/138 [==============================] - 3s 22ms/step - loss: 0.0149 - accuracy: 0.1797 - val_loss: 0.0163 - val_accuracy: 0.1456\n",
      "Epoch 32/150\n",
      "138/138 [==============================] - 3s 22ms/step - loss: 0.0148 - accuracy: 0.1839 - val_loss: 0.0163 - val_accuracy: 0.1460\n",
      "Epoch 33/150\n",
      "136/138 [============================>.] - ETA: 0s - loss: 0.0149 - accuracy: 0.1814\n",
      "Epoch 00033: ReduceLROnPlateau reducing learning rate to 1.000000082740371e-08.\n",
      "138/138 [==============================] - 3s 21ms/step - loss: 0.0149 - accuracy: 0.1813 - val_loss: 0.0163 - val_accuracy: 0.1460\n",
      "Epoch 34/150\n",
      "138/138 [==============================] - 3s 21ms/step - loss: 0.0149 - accuracy: 0.1815 - val_loss: 0.0163 - val_accuracy: 0.1456\n",
      "Epoch 35/150\n",
      "138/138 [==============================] - 3s 21ms/step - loss: 0.0148 - accuracy: 0.1818 - val_loss: 0.0163 - val_accuracy: 0.1458\n",
      "Epoch 36/150\n",
      "136/138 [============================>.] - ETA: 0s - loss: 0.0148 - accuracy: 0.1802\n",
      "Epoch 00036: ReduceLROnPlateau reducing learning rate to 1.000000082740371e-09.\n",
      "138/138 [==============================] - 3s 21ms/step - loss: 0.0148 - accuracy: 0.1807 - val_loss: 0.0163 - val_accuracy: 0.1453\n",
      "Epoch 37/150\n",
      "138/138 [==============================] - 3s 21ms/step - loss: 0.0149 - accuracy: 0.1818 - val_loss: 0.0163 - val_accuracy: 0.1456\n",
      "Epoch 38/150\n",
      "138/138 [==============================] - 3s 21ms/step - loss: 0.0148 - accuracy: 0.1847 - val_loss: 0.0163 - val_accuracy: 0.1456\n",
      "Epoch 39/150\n",
      "137/138 [============================>.] - ETA: 0s - loss: 0.0148 - accuracy: 0.1842\n",
      "Epoch 00039: ReduceLROnPlateau reducing learning rate to 1.000000082740371e-10.\n",
      "138/138 [==============================] - 3s 23ms/step - loss: 0.0148 - accuracy: 0.1841 - val_loss: 0.0163 - val_accuracy: 0.1460\n",
      "Epoch 40/150\n",
      "138/138 [==============================] - 3s 21ms/step - loss: 0.0148 - accuracy: 0.1821 - val_loss: 0.0163 - val_accuracy: 0.1456\n",
      "Epoch 41/150\n",
      "138/138 [==============================] - 3s 25ms/step - loss: 0.0148 - accuracy: 0.1825 - val_loss: 0.0163 - val_accuracy: 0.1451\n",
      "Epoch 42/150\n",
      "138/138 [==============================] - ETA: 0s - loss: 0.0149 - accuracy: 0.1829\n",
      "Epoch 00042: ReduceLROnPlateau reducing learning rate to 1.000000082740371e-11.\n",
      "Restoring model weights from the end of the best epoch.\n",
      "138/138 [==============================] - 3s 21ms/step - loss: 0.0149 - accuracy: 0.1829 - val_loss: 0.0163 - val_accuracy: 0.1460\n",
      "Epoch 00042: early stopping\n"
     ]
    },
    {
     "data": {
      "text/html": [
       "<span style=\"color:#4527A0\"><h1 style=\"font-size:18px\">Trial complete</h1></span>"
      ],
      "text/plain": [
       "<IPython.core.display.HTML object>"
      ]
     },
     "metadata": {},
     "output_type": "display_data"
    },
    {
     "data": {
      "text/html": [
       "<span style=\"color:#4527A0\"><h1 style=\"font-size:18px\">Trial summary</h1></span>"
      ],
      "text/plain": [
       "<IPython.core.display.HTML object>"
      ]
     },
     "metadata": {},
     "output_type": "display_data"
    },
    {
     "data": {
      "text/html": [
       "<span style=\"color:cyan\"> |-Trial ID: 220a988c5b821184ec1e7bd438437660</span>"
      ],
      "text/plain": [
       "<IPython.core.display.HTML object>"
      ]
     },
     "metadata": {},
     "output_type": "display_data"
    },
    {
     "data": {
      "text/html": [
       "<span style=\"color:cyan\"> |-Score: 0.016296233981847763</span>"
      ],
      "text/plain": [
       "<IPython.core.display.HTML object>"
      ]
     },
     "metadata": {},
     "output_type": "display_data"
    },
    {
     "data": {
      "text/html": [
       "<span style=\"color:cyan\"> |-Best step: 0</span>"
      ],
      "text/plain": [
       "<IPython.core.display.HTML object>"
      ]
     },
     "metadata": {},
     "output_type": "display_data"
    },
    {
     "data": {
      "text/html": [
       "<span style=\"color:#7E57C2\"><h2 style=\"font-size:16px\">Hyperparameters:</h2></span>"
      ],
      "text/plain": [
       "<IPython.core.display.HTML object>"
      ]
     },
     "metadata": {},
     "output_type": "display_data"
    },
    {
     "data": {
      "text/html": [
       "<span style=\"color:cyan\"> |-Dropout_0: 0.65</span>"
      ],
      "text/plain": [
       "<IPython.core.display.HTML object>"
      ]
     },
     "metadata": {},
     "output_type": "display_data"
    },
    {
     "data": {
      "text/html": [
       "<span style=\"color:blue\"> |-Dropout_1: 0.63</span>"
      ],
      "text/plain": [
       "<IPython.core.display.HTML object>"
      ]
     },
     "metadata": {},
     "output_type": "display_data"
    },
    {
     "data": {
      "text/html": [
       "<span style=\"color:cyan\"> |-Dropout_2: 0.64</span>"
      ],
      "text/plain": [
       "<IPython.core.display.HTML object>"
      ]
     },
     "metadata": {},
     "output_type": "display_data"
    },
    {
     "data": {
      "text/html": [
       "<span style=\"color:blue\"> |-Dropout_3: 0.52</span>"
      ],
      "text/plain": [
       "<IPython.core.display.HTML object>"
      ]
     },
     "metadata": {},
     "output_type": "display_data"
    },
    {
     "data": {
      "text/html": [
       "<span style=\"color:cyan\"> |-Dropout_4: 0.33</span>"
      ],
      "text/plain": [
       "<IPython.core.display.HTML object>"
      ]
     },
     "metadata": {},
     "output_type": "display_data"
    },
    {
     "data": {
      "text/html": [
       "<span style=\"color:blue\"> |-Dropout_5: 0.54</span>"
      ],
      "text/plain": [
       "<IPython.core.display.HTML object>"
      ]
     },
     "metadata": {},
     "output_type": "display_data"
    },
    {
     "data": {
      "text/html": [
       "<span style=\"color:cyan\"> |-N_Layers: 2</span>"
      ],
      "text/plain": [
       "<IPython.core.display.HTML object>"
      ]
     },
     "metadata": {},
     "output_type": "display_data"
    },
    {
     "data": {
      "text/html": [
       "<span style=\"color:blue\"> |-activation2_0: elu</span>"
      ],
      "text/plain": [
       "<IPython.core.display.HTML object>"
      ]
     },
     "metadata": {},
     "output_type": "display_data"
    },
    {
     "data": {
      "text/html": [
       "<span style=\"color:cyan\"> |-activation2_1: selu</span>"
      ],
      "text/plain": [
       "<IPython.core.display.HTML object>"
      ]
     },
     "metadata": {},
     "output_type": "display_data"
    },
    {
     "data": {
      "text/html": [
       "<span style=\"color:blue\"> |-activation2_2: elu</span>"
      ],
      "text/plain": [
       "<IPython.core.display.HTML object>"
      ]
     },
     "metadata": {},
     "output_type": "display_data"
    },
    {
     "data": {
      "text/html": [
       "<span style=\"color:cyan\"> |-activation2_3: elu</span>"
      ],
      "text/plain": [
       "<IPython.core.display.HTML object>"
      ]
     },
     "metadata": {},
     "output_type": "display_data"
    },
    {
     "data": {
      "text/html": [
       "<span style=\"color:blue\"> |-activation2_4: selu</span>"
      ],
      "text/plain": [
       "<IPython.core.display.HTML object>"
      ]
     },
     "metadata": {},
     "output_type": "display_data"
    },
    {
     "data": {
      "text/html": [
       "<span style=\"color:cyan\"> |-activation2_5: elu</span>"
      ],
      "text/plain": [
       "<IPython.core.display.HTML object>"
      ]
     },
     "metadata": {},
     "output_type": "display_data"
    },
    {
     "data": {
      "text/html": [
       "<span style=\"color:blue\"> |-number_of_neurons2_0: 520</span>"
      ],
      "text/plain": [
       "<IPython.core.display.HTML object>"
      ]
     },
     "metadata": {},
     "output_type": "display_data"
    },
    {
     "data": {
      "text/html": [
       "<span style=\"color:cyan\"> |-number_of_neurons2_1: 709</span>"
      ],
      "text/plain": [
       "<IPython.core.display.HTML object>"
      ]
     },
     "metadata": {},
     "output_type": "display_data"
    },
    {
     "data": {
      "text/html": [
       "<span style=\"color:blue\"> |-number_of_neurons2_2: 1884</span>"
      ],
      "text/plain": [
       "<IPython.core.display.HTML object>"
      ]
     },
     "metadata": {},
     "output_type": "display_data"
    },
    {
     "data": {
      "text/html": [
       "<span style=\"color:cyan\"> |-number_of_neurons2_3: 1693</span>"
      ],
      "text/plain": [
       "<IPython.core.display.HTML object>"
      ]
     },
     "metadata": {},
     "output_type": "display_data"
    },
    {
     "data": {
      "text/html": [
       "<span style=\"color:blue\"> |-number_of_neurons2_4: 1332</span>"
      ],
      "text/plain": [
       "<IPython.core.display.HTML object>"
      ]
     },
     "metadata": {},
     "output_type": "display_data"
    },
    {
     "data": {
      "text/html": [
       "<span style=\"color:cyan\"> |-number_of_neurons2_5: 1055</span>"
      ],
      "text/plain": [
       "<IPython.core.display.HTML object>"
      ]
     },
     "metadata": {},
     "output_type": "display_data"
    },
    {
     "name": "stdout",
     "output_type": "stream",
     "text": [
      "Epoch 1/150\n",
      "138/138 [==============================] - 4s 27ms/step - loss: 0.3190 - accuracy: 0.0275 - val_loss: 0.0248 - val_accuracy: 0.0779\n",
      "Epoch 2/150\n",
      "138/138 [==============================] - 4s 26ms/step - loss: 0.0255 - accuracy: 0.0594 - val_loss: 0.0206 - val_accuracy: 0.0736\n",
      "Epoch 3/150\n",
      "138/138 [==============================] - 4s 26ms/step - loss: 0.0221 - accuracy: 0.0799 - val_loss: 0.0196 - val_accuracy: 0.0854\n",
      "Epoch 4/150\n",
      "138/138 [==============================] - 4s 26ms/step - loss: 0.0211 - accuracy: 0.0918 - val_loss: 0.0189 - val_accuracy: 0.0993\n",
      "Epoch 5/150\n",
      "138/138 [==============================] - 4s 26ms/step - loss: 0.0201 - accuracy: 0.1060 - val_loss: 0.0185 - val_accuracy: 0.1335\n",
      "Epoch 6/150\n",
      "138/138 [==============================] - 4s 26ms/step - loss: 0.0194 - accuracy: 0.1133 - val_loss: 0.0179 - val_accuracy: 0.1055\n",
      "Epoch 7/150\n",
      "138/138 [==============================] - 4s 27ms/step - loss: 0.0189 - accuracy: 0.1221 - val_loss: 0.0176 - val_accuracy: 0.1171\n",
      "Epoch 8/150\n",
      "138/138 [==============================] - 3s 25ms/step - loss: 0.0187 - accuracy: 0.1256 - val_loss: 0.0175 - val_accuracy: 0.1472\n",
      "Epoch 9/150\n",
      "138/138 [==============================] - 4s 26ms/step - loss: 0.0181 - accuracy: 0.1299 - val_loss: 0.0172 - val_accuracy: 0.1260\n",
      "Epoch 10/150\n",
      "138/138 [==============================] - 4s 25ms/step - loss: 0.0176 - accuracy: 0.1376 - val_loss: 0.0170 - val_accuracy: 0.1292\n",
      "Epoch 11/150\n",
      "138/138 [==============================] - 3s 25ms/step - loss: 0.0173 - accuracy: 0.1445 - val_loss: 0.0170 - val_accuracy: 0.1339\n",
      "Epoch 12/150\n",
      "138/138 [==============================] - 4s 26ms/step - loss: 0.0169 - accuracy: 0.1501 - val_loss: 0.0168 - val_accuracy: 0.1376\n",
      "Epoch 13/150\n",
      "138/138 [==============================] - 4s 26ms/step - loss: 0.0166 - accuracy: 0.1515 - val_loss: 0.0167 - val_accuracy: 0.1360\n",
      "Epoch 14/150\n",
      "138/138 [==============================] - 4s 27ms/step - loss: 0.0164 - accuracy: 0.1590 - val_loss: 0.0166 - val_accuracy: 0.1622\n",
      "Epoch 15/150\n",
      "138/138 [==============================] - 4s 28ms/step - loss: 0.0160 - accuracy: 0.1677 - val_loss: 0.0165 - val_accuracy: 0.1456\n",
      "Epoch 16/150\n",
      "138/138 [==============================] - 4s 28ms/step - loss: 0.0157 - accuracy: 0.1708 - val_loss: 0.0165 - val_accuracy: 0.1435\n",
      "Epoch 17/150\n",
      "138/138 [==============================] - 3s 25ms/step - loss: 0.0155 - accuracy: 0.1753 - val_loss: 0.0168 - val_accuracy: 0.1444\n",
      "Epoch 18/150\n",
      "136/138 [============================>.] - ETA: 0s - loss: 0.0152 - accuracy: 0.1811\n",
      "Epoch 00018: ReduceLROnPlateau reducing learning rate to 0.00010000000474974513.\n",
      "138/138 [==============================] - 4s 26ms/step - loss: 0.0152 - accuracy: 0.1813 - val_loss: 0.0165 - val_accuracy: 0.1469\n",
      "Epoch 19/150\n",
      "138/138 [==============================] - 4s 26ms/step - loss: 0.0145 - accuracy: 0.1946 - val_loss: 0.0163 - val_accuracy: 0.1515\n",
      "Epoch 20/150\n",
      "138/138 [==============================] - 4s 26ms/step - loss: 0.0143 - accuracy: 0.1978 - val_loss: 0.0163 - val_accuracy: 0.1533\n",
      "Epoch 21/150\n",
      "138/138 [==============================] - 4s 26ms/step - loss: 0.0141 - accuracy: 0.1959 - val_loss: 0.0163 - val_accuracy: 0.1538\n",
      "Epoch 22/150\n",
      "138/138 [==============================] - ETA: 0s - loss: 0.0141 - accuracy: 0.1978\n",
      "Epoch 00022: ReduceLROnPlateau reducing learning rate to 1.0000000474974514e-05.\n",
      "138/138 [==============================] - 4s 25ms/step - loss: 0.0141 - accuracy: 0.1978 - val_loss: 0.0163 - val_accuracy: 0.1531\n",
      "Epoch 23/150\n",
      "138/138 [==============================] - 3s 25ms/step - loss: 0.0140 - accuracy: 0.2016 - val_loss: 0.0163 - val_accuracy: 0.1538\n",
      "Epoch 24/150\n",
      "138/138 [==============================] - 4s 26ms/step - loss: 0.0140 - accuracy: 0.2030 - val_loss: 0.0163 - val_accuracy: 0.1533\n",
      "Epoch 25/150\n",
      "137/138 [============================>.] - ETA: 0s - loss: 0.0140 - accuracy: 0.2017\n",
      "Epoch 00025: ReduceLROnPlateau reducing learning rate to 1.0000000656873453e-06.\n",
      "138/138 [==============================] - 4s 27ms/step - loss: 0.0140 - accuracy: 0.2017 - val_loss: 0.0163 - val_accuracy: 0.1538\n",
      "Epoch 26/150\n",
      "138/138 [==============================] - 3s 25ms/step - loss: 0.0139 - accuracy: 0.2012 - val_loss: 0.0163 - val_accuracy: 0.1538\n",
      "Epoch 27/150\n",
      "138/138 [==============================] - 4s 26ms/step - loss: 0.0140 - accuracy: 0.2040 - val_loss: 0.0163 - val_accuracy: 0.1531\n",
      "Epoch 28/150\n",
      "137/138 [============================>.] - ETA: 0s - loss: 0.0139 - accuracy: 0.2044\n",
      "Epoch 00028: ReduceLROnPlateau reducing learning rate to 1.0000001111620805e-07.\n",
      "138/138 [==============================] - 3s 25ms/step - loss: 0.0139 - accuracy: 0.2043 - val_loss: 0.0163 - val_accuracy: 0.1538\n",
      "Epoch 29/150\n",
      "138/138 [==============================] - 3s 25ms/step - loss: 0.0139 - accuracy: 0.2038 - val_loss: 0.0163 - val_accuracy: 0.1533\n",
      "Epoch 30/150\n",
      "138/138 [==============================] - 4s 27ms/step - loss: 0.0140 - accuracy: 0.2040 - val_loss: 0.0163 - val_accuracy: 0.1533\n",
      "Epoch 31/150\n",
      "137/138 [============================>.] - ETA: 0s - loss: 0.0139 - accuracy: 0.2046\n",
      "Epoch 00031: ReduceLROnPlateau reducing learning rate to 1.000000082740371e-08.\n",
      "138/138 [==============================] - 4s 27ms/step - loss: 0.0139 - accuracy: 0.2046 - val_loss: 0.0163 - val_accuracy: 0.1544\n",
      "Epoch 32/150\n",
      "137/138 [============================>.] - ETA: 0s - loss: 0.0139 - accuracy: 0.2042Restoring model weights from the end of the best epoch.\n",
      "138/138 [==============================] - 4s 26ms/step - loss: 0.0139 - accuracy: 0.2041 - val_loss: 0.0163 - val_accuracy: 0.1538\n",
      "Epoch 00032: early stopping\n"
     ]
    },
    {
     "data": {
      "text/html": [
       "<span style=\"color:#4527A0\"><h1 style=\"font-size:18px\">Trial complete</h1></span>"
      ],
      "text/plain": [
       "<IPython.core.display.HTML object>"
      ]
     },
     "metadata": {},
     "output_type": "display_data"
    },
    {
     "data": {
      "text/html": [
       "<span style=\"color:#4527A0\"><h1 style=\"font-size:18px\">Trial summary</h1></span>"
      ],
      "text/plain": [
       "<IPython.core.display.HTML object>"
      ]
     },
     "metadata": {},
     "output_type": "display_data"
    },
    {
     "data": {
      "text/html": [
       "<span style=\"color:cyan\"> |-Trial ID: fe166f6781371500d745c152bf9ae90b</span>"
      ],
      "text/plain": [
       "<IPython.core.display.HTML object>"
      ]
     },
     "metadata": {},
     "output_type": "display_data"
    },
    {
     "data": {
      "text/html": [
       "<span style=\"color:cyan\"> |-Score: 0.016298314556479454</span>"
      ],
      "text/plain": [
       "<IPython.core.display.HTML object>"
      ]
     },
     "metadata": {},
     "output_type": "display_data"
    },
    {
     "data": {
      "text/html": [
       "<span style=\"color:cyan\"> |-Best step: 0</span>"
      ],
      "text/plain": [
       "<IPython.core.display.HTML object>"
      ]
     },
     "metadata": {},
     "output_type": "display_data"
    },
    {
     "data": {
      "text/html": [
       "<span style=\"color:#7E57C2\"><h2 style=\"font-size:16px\">Hyperparameters:</h2></span>"
      ],
      "text/plain": [
       "<IPython.core.display.HTML object>"
      ]
     },
     "metadata": {},
     "output_type": "display_data"
    },
    {
     "data": {
      "text/html": [
       "<span style=\"color:cyan\"> |-Dropout_0: 0.7000000000000001</span>"
      ],
      "text/plain": [
       "<IPython.core.display.HTML object>"
      ]
     },
     "metadata": {},
     "output_type": "display_data"
    },
    {
     "data": {
      "text/html": [
       "<span style=\"color:blue\"> |-Dropout_1: 0.44</span>"
      ],
      "text/plain": [
       "<IPython.core.display.HTML object>"
      ]
     },
     "metadata": {},
     "output_type": "display_data"
    },
    {
     "data": {
      "text/html": [
       "<span style=\"color:cyan\"> |-Dropout_2: 0.5</span>"
      ],
      "text/plain": [
       "<IPython.core.display.HTML object>"
      ]
     },
     "metadata": {},
     "output_type": "display_data"
    },
    {
     "data": {
      "text/html": [
       "<span style=\"color:blue\"> |-Dropout_3: 0.56</span>"
      ],
      "text/plain": [
       "<IPython.core.display.HTML object>"
      ]
     },
     "metadata": {},
     "output_type": "display_data"
    },
    {
     "data": {
      "text/html": [
       "<span style=\"color:cyan\"> |-Dropout_4: 0.41000000000000003</span>"
      ],
      "text/plain": [
       "<IPython.core.display.HTML object>"
      ]
     },
     "metadata": {},
     "output_type": "display_data"
    },
    {
     "data": {
      "text/html": [
       "<span style=\"color:blue\"> |-Dropout_5: 0.43</span>"
      ],
      "text/plain": [
       "<IPython.core.display.HTML object>"
      ]
     },
     "metadata": {},
     "output_type": "display_data"
    },
    {
     "data": {
      "text/html": [
       "<span style=\"color:cyan\"> |-N_Layers: 2</span>"
      ],
      "text/plain": [
       "<IPython.core.display.HTML object>"
      ]
     },
     "metadata": {},
     "output_type": "display_data"
    },
    {
     "data": {
      "text/html": [
       "<span style=\"color:blue\"> |-activation2_0: elu</span>"
      ],
      "text/plain": [
       "<IPython.core.display.HTML object>"
      ]
     },
     "metadata": {},
     "output_type": "display_data"
    },
    {
     "data": {
      "text/html": [
       "<span style=\"color:cyan\"> |-activation2_1: selu</span>"
      ],
      "text/plain": [
       "<IPython.core.display.HTML object>"
      ]
     },
     "metadata": {},
     "output_type": "display_data"
    },
    {
     "data": {
      "text/html": [
       "<span style=\"color:blue\"> |-activation2_2: swish</span>"
      ],
      "text/plain": [
       "<IPython.core.display.HTML object>"
      ]
     },
     "metadata": {},
     "output_type": "display_data"
    },
    {
     "data": {
      "text/html": [
       "<span style=\"color:cyan\"> |-activation2_3: swish</span>"
      ],
      "text/plain": [
       "<IPython.core.display.HTML object>"
      ]
     },
     "metadata": {},
     "output_type": "display_data"
    },
    {
     "data": {
      "text/html": [
       "<span style=\"color:blue\"> |-activation2_4: selu</span>"
      ],
      "text/plain": [
       "<IPython.core.display.HTML object>"
      ]
     },
     "metadata": {},
     "output_type": "display_data"
    },
    {
     "data": {
      "text/html": [
       "<span style=\"color:cyan\"> |-activation2_5: elu</span>"
      ],
      "text/plain": [
       "<IPython.core.display.HTML object>"
      ]
     },
     "metadata": {},
     "output_type": "display_data"
    },
    {
     "data": {
      "text/html": [
       "<span style=\"color:blue\"> |-number_of_neurons2_0: 700</span>"
      ],
      "text/plain": [
       "<IPython.core.display.HTML object>"
      ]
     },
     "metadata": {},
     "output_type": "display_data"
    },
    {
     "data": {
      "text/html": [
       "<span style=\"color:cyan\"> |-number_of_neurons2_1: 778</span>"
      ],
      "text/plain": [
       "<IPython.core.display.HTML object>"
      ]
     },
     "metadata": {},
     "output_type": "display_data"
    },
    {
     "data": {
      "text/html": [
       "<span style=\"color:blue\"> |-number_of_neurons2_2: 1927</span>"
      ],
      "text/plain": [
       "<IPython.core.display.HTML object>"
      ]
     },
     "metadata": {},
     "output_type": "display_data"
    },
    {
     "data": {
      "text/html": [
       "<span style=\"color:cyan\"> |-number_of_neurons2_3: 1955</span>"
      ],
      "text/plain": [
       "<IPython.core.display.HTML object>"
      ]
     },
     "metadata": {},
     "output_type": "display_data"
    },
    {
     "data": {
      "text/html": [
       "<span style=\"color:blue\"> |-number_of_neurons2_4: 1195</span>"
      ],
      "text/plain": [
       "<IPython.core.display.HTML object>"
      ]
     },
     "metadata": {},
     "output_type": "display_data"
    },
    {
     "data": {
      "text/html": [
       "<span style=\"color:cyan\"> |-number_of_neurons2_5: 946</span>"
      ],
      "text/plain": [
       "<IPython.core.display.HTML object>"
      ]
     },
     "metadata": {},
     "output_type": "display_data"
    },
    {
     "name": "stdout",
     "output_type": "stream",
     "text": [
      "SEED:564 Fold:3\n",
      "Epoch 1/150\n",
      "138/138 [==============================] - 11s 81ms/step - loss: 0.2939 - accuracy: 0.0226 - val_loss: 0.0266 - val_accuracy: 0.0699\n",
      "Epoch 2/150\n",
      "138/138 [==============================] - 11s 77ms/step - loss: 0.0229 - accuracy: 0.0746 - val_loss: 0.0205 - val_accuracy: 0.1146\n",
      "Epoch 3/150\n",
      "138/138 [==============================] - 11s 77ms/step - loss: 0.0189 - accuracy: 0.1107 - val_loss: 0.0186 - val_accuracy: 0.1267\n",
      "Epoch 4/150\n",
      "138/138 [==============================] - 11s 79ms/step - loss: 0.0175 - accuracy: 0.1395 - val_loss: 0.0175 - val_accuracy: 0.1166\n",
      "Epoch 5/150\n",
      "138/138 [==============================] - 11s 81ms/step - loss: 0.0165 - accuracy: 0.1557 - val_loss: 0.0174 - val_accuracy: 0.1323\n",
      "Epoch 6/150\n",
      "138/138 [==============================] - 11s 78ms/step - loss: 0.0156 - accuracy: 0.1709 - val_loss: 0.0171 - val_accuracy: 0.1355\n",
      "Epoch 7/150\n",
      "138/138 [==============================] - 11s 78ms/step - loss: 0.0146 - accuracy: 0.2017 - val_loss: 0.0174 - val_accuracy: 0.1344\n",
      "Epoch 8/150\n",
      "138/138 [==============================] - 11s 78ms/step - loss: 0.0136 - accuracy: 0.2287 - val_loss: 0.0180 - val_accuracy: 0.1376\n",
      "Epoch 9/150\n",
      "137/138 [============================>.] - ETA: 0s - loss: 0.0122 - accuracy: 0.2621\n",
      "Epoch 00009: ReduceLROnPlateau reducing learning rate to 0.00010000000474974513.\n",
      "138/138 [==============================] - 11s 78ms/step - loss: 0.0122 - accuracy: 0.2622 - val_loss: 0.0183 - val_accuracy: 0.1349\n",
      "Epoch 10/150\n",
      "138/138 [==============================] - 11s 79ms/step - loss: 0.0094 - accuracy: 0.3509 - val_loss: 0.0176 - val_accuracy: 0.1456\n",
      "Epoch 11/150\n",
      "138/138 [==============================] - 11s 80ms/step - loss: 0.0084 - accuracy: 0.3926 - val_loss: 0.0178 - val_accuracy: 0.1469\n",
      "Epoch 12/150\n",
      "137/138 [============================>.] - ETA: 0s - loss: 0.0076 - accuracy: 0.4149\n",
      "Epoch 00012: ReduceLROnPlateau reducing learning rate to 1.0000000474974514e-05.\n",
      "138/138 [==============================] - 11s 78ms/step - loss: 0.0076 - accuracy: 0.4149 - val_loss: 0.0180 - val_accuracy: 0.1556\n",
      "Epoch 13/150\n",
      "138/138 [==============================] - 11s 77ms/step - loss: 0.0070 - accuracy: 0.4457 - val_loss: 0.0181 - val_accuracy: 0.1499\n",
      "Epoch 14/150\n",
      "138/138 [==============================] - 11s 80ms/step - loss: 0.0070 - accuracy: 0.4445 - val_loss: 0.0182 - val_accuracy: 0.1485\n",
      "Epoch 15/150\n",
      "137/138 [============================>.] - ETA: 0s - loss: 0.0069 - accuracy: 0.4495\n",
      "Epoch 00015: ReduceLROnPlateau reducing learning rate to 1.0000000656873453e-06.\n",
      "138/138 [==============================] - 11s 80ms/step - loss: 0.0069 - accuracy: 0.4494 - val_loss: 0.0182 - val_accuracy: 0.1492\n",
      "Epoch 16/150\n",
      "137/138 [============================>.] - ETA: 0s - loss: 0.0068 - accuracy: 0.4484Restoring model weights from the end of the best epoch.\n",
      "138/138 [==============================] - 11s 80ms/step - loss: 0.0068 - accuracy: 0.4483 - val_loss: 0.0182 - val_accuracy: 0.1481\n",
      "Epoch 00016: early stopping\n"
     ]
    },
    {
     "data": {
      "text/html": [
       "<span style=\"color:#4527A0\"><h1 style=\"font-size:18px\">Trial complete</h1></span>"
      ],
      "text/plain": [
       "<IPython.core.display.HTML object>"
      ]
     },
     "metadata": {},
     "output_type": "display_data"
    },
    {
     "data": {
      "text/html": [
       "<span style=\"color:#4527A0\"><h1 style=\"font-size:18px\">Trial summary</h1></span>"
      ],
      "text/plain": [
       "<IPython.core.display.HTML object>"
      ]
     },
     "metadata": {},
     "output_type": "display_data"
    },
    {
     "data": {
      "text/html": [
       "<span style=\"color:cyan\"> |-Trial ID: 0de827a46853f182e8e50998efcf85f4</span>"
      ],
      "text/plain": [
       "<IPython.core.display.HTML object>"
      ]
     },
     "metadata": {},
     "output_type": "display_data"
    },
    {
     "data": {
      "text/html": [
       "<span style=\"color:cyan\"> |-Score: 0.017134808003902435</span>"
      ],
      "text/plain": [
       "<IPython.core.display.HTML object>"
      ]
     },
     "metadata": {},
     "output_type": "display_data"
    },
    {
     "data": {
      "text/html": [
       "<span style=\"color:cyan\"> |-Best step: 0</span>"
      ],
      "text/plain": [
       "<IPython.core.display.HTML object>"
      ]
     },
     "metadata": {},
     "output_type": "display_data"
    },
    {
     "data": {
      "text/html": [
       "<span style=\"color:#7E57C2\"><h2 style=\"font-size:16px\">Hyperparameters:</h2></span>"
      ],
      "text/plain": [
       "<IPython.core.display.HTML object>"
      ]
     },
     "metadata": {},
     "output_type": "display_data"
    },
    {
     "data": {
      "text/html": [
       "<span style=\"color:cyan\"> |-Dropout_0: 0.35000000000000003</span>"
      ],
      "text/plain": [
       "<IPython.core.display.HTML object>"
      ]
     },
     "metadata": {},
     "output_type": "display_data"
    },
    {
     "data": {
      "text/html": [
       "<span style=\"color:blue\"> |-Dropout_1: 0.39</span>"
      ],
      "text/plain": [
       "<IPython.core.display.HTML object>"
      ]
     },
     "metadata": {},
     "output_type": "display_data"
    },
    {
     "data": {
      "text/html": [
       "<span style=\"color:cyan\"> |-Dropout_2: 0.0</span>"
      ],
      "text/plain": [
       "<IPython.core.display.HTML object>"
      ]
     },
     "metadata": {},
     "output_type": "display_data"
    },
    {
     "data": {
      "text/html": [
       "<span style=\"color:blue\"> |-Dropout_3: 0.0</span>"
      ],
      "text/plain": [
       "<IPython.core.display.HTML object>"
      ]
     },
     "metadata": {},
     "output_type": "display_data"
    },
    {
     "data": {
      "text/html": [
       "<span style=\"color:cyan\"> |-Dropout_4: 0.0</span>"
      ],
      "text/plain": [
       "<IPython.core.display.HTML object>"
      ]
     },
     "metadata": {},
     "output_type": "display_data"
    },
    {
     "data": {
      "text/html": [
       "<span style=\"color:blue\"> |-N_Layers: 5</span>"
      ],
      "text/plain": [
       "<IPython.core.display.HTML object>"
      ]
     },
     "metadata": {},
     "output_type": "display_data"
    },
    {
     "data": {
      "text/html": [
       "<span style=\"color:cyan\"> |-activation2_0: swish</span>"
      ],
      "text/plain": [
       "<IPython.core.display.HTML object>"
      ]
     },
     "metadata": {},
     "output_type": "display_data"
    },
    {
     "data": {
      "text/html": [
       "<span style=\"color:blue\"> |-activation2_1: swish</span>"
      ],
      "text/plain": [
       "<IPython.core.display.HTML object>"
      ]
     },
     "metadata": {},
     "output_type": "display_data"
    },
    {
     "data": {
      "text/html": [
       "<span style=\"color:cyan\"> |-activation2_2: elu</span>"
      ],
      "text/plain": [
       "<IPython.core.display.HTML object>"
      ]
     },
     "metadata": {},
     "output_type": "display_data"
    },
    {
     "data": {
      "text/html": [
       "<span style=\"color:blue\"> |-activation2_3: elu</span>"
      ],
      "text/plain": [
       "<IPython.core.display.HTML object>"
      ]
     },
     "metadata": {},
     "output_type": "display_data"
    },
    {
     "data": {
      "text/html": [
       "<span style=\"color:cyan\"> |-activation2_4: elu</span>"
      ],
      "text/plain": [
       "<IPython.core.display.HTML object>"
      ]
     },
     "metadata": {},
     "output_type": "display_data"
    },
    {
     "data": {
      "text/html": [
       "<span style=\"color:blue\"> |-number_of_neurons2_0: 1676</span>"
      ],
      "text/plain": [
       "<IPython.core.display.HTML object>"
      ]
     },
     "metadata": {},
     "output_type": "display_data"
    },
    {
     "data": {
      "text/html": [
       "<span style=\"color:cyan\"> |-number_of_neurons2_1: 1305</span>"
      ],
      "text/plain": [
       "<IPython.core.display.HTML object>"
      ]
     },
     "metadata": {},
     "output_type": "display_data"
    },
    {
     "data": {
      "text/html": [
       "<span style=\"color:blue\"> |-number_of_neurons2_2: 512</span>"
      ],
      "text/plain": [
       "<IPython.core.display.HTML object>"
      ]
     },
     "metadata": {},
     "output_type": "display_data"
    },
    {
     "data": {
      "text/html": [
       "<span style=\"color:cyan\"> |-number_of_neurons2_3: 512</span>"
      ],
      "text/plain": [
       "<IPython.core.display.HTML object>"
      ]
     },
     "metadata": {},
     "output_type": "display_data"
    },
    {
     "data": {
      "text/html": [
       "<span style=\"color:blue\"> |-number_of_neurons2_4: 512</span>"
      ],
      "text/plain": [
       "<IPython.core.display.HTML object>"
      ]
     },
     "metadata": {},
     "output_type": "display_data"
    },
    {
     "name": "stdout",
     "output_type": "stream",
     "text": [
      "Epoch 1/150\n",
      "138/138 [==============================] - 11s 77ms/step - loss: 0.2740 - accuracy: 0.0265 - val_loss: 0.0246 - val_accuracy: 0.0235\n",
      "Epoch 2/150\n",
      "138/138 [==============================] - 11s 77ms/step - loss: 0.0244 - accuracy: 0.0513 - val_loss: 0.0215 - val_accuracy: 0.0907\n",
      "Epoch 3/150\n",
      "138/138 [==============================] - 10s 75ms/step - loss: 0.0220 - accuracy: 0.0730 - val_loss: 0.0197 - val_accuracy: 0.0772\n",
      "Epoch 4/150\n",
      "138/138 [==============================] - 10s 75ms/step - loss: 0.0207 - accuracy: 0.0945 - val_loss: 0.0189 - val_accuracy: 0.1248\n",
      "Epoch 5/150\n",
      "138/138 [==============================] - 11s 79ms/step - loss: 0.0196 - accuracy: 0.1091 - val_loss: 0.0181 - val_accuracy: 0.1103\n",
      "Epoch 6/150\n",
      "138/138 [==============================] - 11s 78ms/step - loss: 0.0189 - accuracy: 0.1214 - val_loss: 0.0178 - val_accuracy: 0.1269\n",
      "Epoch 7/150\n",
      "138/138 [==============================] - 10s 75ms/step - loss: 0.0184 - accuracy: 0.1297 - val_loss: 0.0176 - val_accuracy: 0.1162\n",
      "Epoch 8/150\n",
      "138/138 [==============================] - 11s 76ms/step - loss: 0.0177 - accuracy: 0.1330 - val_loss: 0.0174 - val_accuracy: 0.1262\n",
      "Epoch 9/150\n",
      "138/138 [==============================] - 10s 76ms/step - loss: 0.0174 - accuracy: 0.1421 - val_loss: 0.0173 - val_accuracy: 0.1280\n",
      "Epoch 10/150\n",
      "138/138 [==============================] - 10s 75ms/step - loss: 0.0169 - accuracy: 0.1476 - val_loss: 0.0171 - val_accuracy: 0.1308\n",
      "Epoch 11/150\n",
      "138/138 [==============================] - 11s 81ms/step - loss: 0.0166 - accuracy: 0.1531 - val_loss: 0.0169 - val_accuracy: 0.1374\n",
      "Epoch 12/150\n",
      "138/138 [==============================] - 10s 75ms/step - loss: 0.0163 - accuracy: 0.1633 - val_loss: 0.0169 - val_accuracy: 0.1387\n",
      "Epoch 13/150\n",
      "138/138 [==============================] - 10s 75ms/step - loss: 0.0158 - accuracy: 0.1633 - val_loss: 0.0167 - val_accuracy: 0.1346\n",
      "Epoch 14/150\n",
      "138/138 [==============================] - 11s 77ms/step - loss: 0.0153 - accuracy: 0.1780 - val_loss: 0.0167 - val_accuracy: 0.1360\n",
      "Epoch 15/150\n",
      "138/138 [==============================] - 10s 75ms/step - loss: 0.0150 - accuracy: 0.1795 - val_loss: 0.0167 - val_accuracy: 0.1417\n",
      "Epoch 16/150\n",
      "137/138 [============================>.] - ETA: 0s - loss: 0.0147 - accuracy: 0.1920\n",
      "Epoch 00016: ReduceLROnPlateau reducing learning rate to 0.00010000000474974513.\n",
      "138/138 [==============================] - 10s 76ms/step - loss: 0.0147 - accuracy: 0.1919 - val_loss: 0.0168 - val_accuracy: 0.1424\n",
      "Epoch 17/150\n",
      "138/138 [==============================] - 11s 82ms/step - loss: 0.0138 - accuracy: 0.2065 - val_loss: 0.0165 - val_accuracy: 0.1501\n",
      "Epoch 18/150\n",
      "138/138 [==============================] - 10s 75ms/step - loss: 0.0135 - accuracy: 0.2156 - val_loss: 0.0165 - val_accuracy: 0.1474\n",
      "Epoch 19/150\n",
      "138/138 [==============================] - 10s 75ms/step - loss: 0.0133 - accuracy: 0.2195 - val_loss: 0.0165 - val_accuracy: 0.1483\n",
      "Epoch 20/150\n",
      "137/138 [============================>.] - ETA: 0s - loss: 0.0132 - accuracy: 0.2232\n",
      "Epoch 00020: ReduceLROnPlateau reducing learning rate to 1.0000000474974514e-05.\n",
      "138/138 [==============================] - 11s 81ms/step - loss: 0.0132 - accuracy: 0.2231 - val_loss: 0.0165 - val_accuracy: 0.1458\n",
      "Epoch 21/150\n",
      "138/138 [==============================] - 13s 92ms/step - loss: 0.0130 - accuracy: 0.2226 - val_loss: 0.0165 - val_accuracy: 0.1472\n",
      "Epoch 22/150\n",
      "138/138 [==============================] - 13s 96ms/step - loss: 0.0130 - accuracy: 0.2253 - val_loss: 0.0165 - val_accuracy: 0.1472\n",
      "Epoch 23/150\n",
      "137/138 [============================>.] - ETA: 0s - loss: 0.0130 - accuracy: 0.2249\n",
      "Epoch 00023: ReduceLROnPlateau reducing learning rate to 1.0000000656873453e-06.\n",
      "138/138 [==============================] - 13s 92ms/step - loss: 0.0130 - accuracy: 0.2247 - val_loss: 0.0165 - val_accuracy: 0.1465\n",
      "Epoch 24/150\n",
      "138/138 [==============================] - 12s 89ms/step - loss: 0.0130 - accuracy: 0.2262 - val_loss: 0.0165 - val_accuracy: 0.1465\n",
      "Epoch 25/150\n",
      "138/138 [==============================] - 13s 93ms/step - loss: 0.0129 - accuracy: 0.2270 - val_loss: 0.0165 - val_accuracy: 0.1465\n",
      "Epoch 26/150\n",
      "138/138 [==============================] - ETA: 0s - loss: 0.0130 - accuracy: 0.2216\n",
      "Epoch 00026: ReduceLROnPlateau reducing learning rate to 1.0000001111620805e-07.\n",
      "138/138 [==============================] - 13s 94ms/step - loss: 0.0130 - accuracy: 0.2216 - val_loss: 0.0165 - val_accuracy: 0.1469\n",
      "Epoch 27/150\n",
      "138/138 [==============================] - 13s 93ms/step - loss: 0.0130 - accuracy: 0.2224 - val_loss: 0.0165 - val_accuracy: 0.1472\n",
      "Epoch 28/150\n",
      "138/138 [==============================] - 13s 93ms/step - loss: 0.0130 - accuracy: 0.2233 - val_loss: 0.0165 - val_accuracy: 0.1469\n",
      "Epoch 29/150\n",
      "137/138 [============================>.] - ETA: 0s - loss: 0.0129 - accuracy: 0.2258\n",
      "Epoch 00029: ReduceLROnPlateau reducing learning rate to 1.000000082740371e-08.\n",
      "138/138 [==============================] - 12s 90ms/step - loss: 0.0129 - accuracy: 0.2255 - val_loss: 0.0165 - val_accuracy: 0.1467\n",
      "Epoch 30/150\n",
      "138/138 [==============================] - ETA: 0s - loss: 0.0129 - accuracy: 0.2251Restoring model weights from the end of the best epoch.\n",
      "138/138 [==============================] - 13s 94ms/step - loss: 0.0129 - accuracy: 0.2251 - val_loss: 0.0165 - val_accuracy: 0.1472\n",
      "Epoch 00030: early stopping\n"
     ]
    },
    {
     "data": {
      "text/html": [
       "<span style=\"color:#4527A0\"><h1 style=\"font-size:18px\">Trial complete</h1></span>"
      ],
      "text/plain": [
       "<IPython.core.display.HTML object>"
      ]
     },
     "metadata": {},
     "output_type": "display_data"
    },
    {
     "data": {
      "text/html": [
       "<span style=\"color:#4527A0\"><h1 style=\"font-size:18px\">Trial summary</h1></span>"
      ],
      "text/plain": [
       "<IPython.core.display.HTML object>"
      ]
     },
     "metadata": {},
     "output_type": "display_data"
    },
    {
     "data": {
      "text/html": [
       "<span style=\"color:cyan\"> |-Trial ID: edb120aebb8128d65c5aef990903b11d</span>"
      ],
      "text/plain": [
       "<IPython.core.display.HTML object>"
      ]
     },
     "metadata": {},
     "output_type": "display_data"
    },
    {
     "data": {
      "text/html": [
       "<span style=\"color:cyan\"> |-Score: 0.016490500420331955</span>"
      ],
      "text/plain": [
       "<IPython.core.display.HTML object>"
      ]
     },
     "metadata": {},
     "output_type": "display_data"
    },
    {
     "data": {
      "text/html": [
       "<span style=\"color:cyan\"> |-Best step: 0</span>"
      ],
      "text/plain": [
       "<IPython.core.display.HTML object>"
      ]
     },
     "metadata": {},
     "output_type": "display_data"
    },
    {
     "data": {
      "text/html": [
       "<span style=\"color:#7E57C2\"><h2 style=\"font-size:16px\">Hyperparameters:</h2></span>"
      ],
      "text/plain": [
       "<IPython.core.display.HTML object>"
      ]
     },
     "metadata": {},
     "output_type": "display_data"
    },
    {
     "data": {
      "text/html": [
       "<span style=\"color:cyan\"> |-Dropout_0: 0.32</span>"
      ],
      "text/plain": [
       "<IPython.core.display.HTML object>"
      ]
     },
     "metadata": {},
     "output_type": "display_data"
    },
    {
     "data": {
      "text/html": [
       "<span style=\"color:blue\"> |-Dropout_1: 0.6900000000000001</span>"
      ],
      "text/plain": [
       "<IPython.core.display.HTML object>"
      ]
     },
     "metadata": {},
     "output_type": "display_data"
    },
    {
     "data": {
      "text/html": [
       "<span style=\"color:cyan\"> |-Dropout_2: 0.51</span>"
      ],
      "text/plain": [
       "<IPython.core.display.HTML object>"
      ]
     },
     "metadata": {},
     "output_type": "display_data"
    },
    {
     "data": {
      "text/html": [
       "<span style=\"color:blue\"> |-Dropout_3: 0.05</span>"
      ],
      "text/plain": [
       "<IPython.core.display.HTML object>"
      ]
     },
     "metadata": {},
     "output_type": "display_data"
    },
    {
     "data": {
      "text/html": [
       "<span style=\"color:cyan\"> |-Dropout_4: 0.21</span>"
      ],
      "text/plain": [
       "<IPython.core.display.HTML object>"
      ]
     },
     "metadata": {},
     "output_type": "display_data"
    },
    {
     "data": {
      "text/html": [
       "<span style=\"color:blue\"> |-N_Layers: 3</span>"
      ],
      "text/plain": [
       "<IPython.core.display.HTML object>"
      ]
     },
     "metadata": {},
     "output_type": "display_data"
    },
    {
     "data": {
      "text/html": [
       "<span style=\"color:cyan\"> |-activation2_0: selu</span>"
      ],
      "text/plain": [
       "<IPython.core.display.HTML object>"
      ]
     },
     "metadata": {},
     "output_type": "display_data"
    },
    {
     "data": {
      "text/html": [
       "<span style=\"color:blue\"> |-activation2_1: swish</span>"
      ],
      "text/plain": [
       "<IPython.core.display.HTML object>"
      ]
     },
     "metadata": {},
     "output_type": "display_data"
    },
    {
     "data": {
      "text/html": [
       "<span style=\"color:cyan\"> |-activation2_2: selu</span>"
      ],
      "text/plain": [
       "<IPython.core.display.HTML object>"
      ]
     },
     "metadata": {},
     "output_type": "display_data"
    },
    {
     "data": {
      "text/html": [
       "<span style=\"color:blue\"> |-activation2_3: elu</span>"
      ],
      "text/plain": [
       "<IPython.core.display.HTML object>"
      ]
     },
     "metadata": {},
     "output_type": "display_data"
    },
    {
     "data": {
      "text/html": [
       "<span style=\"color:cyan\"> |-activation2_4: selu</span>"
      ],
      "text/plain": [
       "<IPython.core.display.HTML object>"
      ]
     },
     "metadata": {},
     "output_type": "display_data"
    },
    {
     "data": {
      "text/html": [
       "<span style=\"color:blue\"> |-number_of_neurons2_0: 563</span>"
      ],
      "text/plain": [
       "<IPython.core.display.HTML object>"
      ]
     },
     "metadata": {},
     "output_type": "display_data"
    },
    {
     "data": {
      "text/html": [
       "<span style=\"color:cyan\"> |-number_of_neurons2_1: 2012</span>"
      ],
      "text/plain": [
       "<IPython.core.display.HTML object>"
      ]
     },
     "metadata": {},
     "output_type": "display_data"
    },
    {
     "data": {
      "text/html": [
       "<span style=\"color:blue\"> |-number_of_neurons2_2: 1612</span>"
      ],
      "text/plain": [
       "<IPython.core.display.HTML object>"
      ]
     },
     "metadata": {},
     "output_type": "display_data"
    },
    {
     "data": {
      "text/html": [
       "<span style=\"color:cyan\"> |-number_of_neurons2_3: 1443</span>"
      ],
      "text/plain": [
       "<IPython.core.display.HTML object>"
      ]
     },
     "metadata": {},
     "output_type": "display_data"
    },
    {
     "data": {
      "text/html": [
       "<span style=\"color:blue\"> |-number_of_neurons2_4: 1406</span>"
      ],
      "text/plain": [
       "<IPython.core.display.HTML object>"
      ]
     },
     "metadata": {},
     "output_type": "display_data"
    },
    {
     "name": "stdout",
     "output_type": "stream",
     "text": [
      "Epoch 1/150\n",
      "138/138 [==============================] - 21s 152ms/step - loss: 0.2889 - accuracy: 0.0236 - val_loss: 0.0279 - val_accuracy: 0.0169\n",
      "Epoch 2/150\n",
      "138/138 [==============================] - 21s 149ms/step - loss: 0.0245 - accuracy: 0.0497 - val_loss: 0.0216 - val_accuracy: 0.0765\n",
      "Epoch 3/150\n",
      "138/138 [==============================] - 20s 148ms/step - loss: 0.0219 - accuracy: 0.0607 - val_loss: 0.0203 - val_accuracy: 0.0642\n",
      "Epoch 4/150\n",
      "138/138 [==============================] - 21s 150ms/step - loss: 0.0209 - accuracy: 0.0746 - val_loss: 0.0195 - val_accuracy: 0.0820\n",
      "Epoch 5/150\n",
      "138/138 [==============================] - 21s 149ms/step - loss: 0.0202 - accuracy: 0.0844 - val_loss: 0.0189 - val_accuracy: 0.0815\n",
      "Epoch 6/150\n",
      "138/138 [==============================] - 20s 145ms/step - loss: 0.0195 - accuracy: 0.0940 - val_loss: 0.0186 - val_accuracy: 0.0897\n",
      "Epoch 7/150\n",
      "138/138 [==============================] - 21s 154ms/step - loss: 0.0190 - accuracy: 0.1003 - val_loss: 0.0183 - val_accuracy: 0.0934\n",
      "Epoch 8/150\n",
      "138/138 [==============================] - 22s 159ms/step - loss: 0.0187 - accuracy: 0.1076 - val_loss: 0.0181 - val_accuracy: 0.0991\n",
      "Epoch 9/150\n",
      "138/138 [==============================] - 20s 147ms/step - loss: 0.0191 - accuracy: 0.1045 - val_loss: 0.0181 - val_accuracy: 0.1039\n",
      "Epoch 10/150\n",
      "138/138 [==============================] - 21s 151ms/step - loss: 0.0186 - accuracy: 0.1079 - val_loss: 0.0178 - val_accuracy: 0.1178\n",
      "Epoch 11/150\n",
      "138/138 [==============================] - 20s 148ms/step - loss: 0.0182 - accuracy: 0.1141 - val_loss: 0.0178 - val_accuracy: 0.1018\n",
      "Epoch 12/150\n",
      "138/138 [==============================] - 21s 150ms/step - loss: 0.0182 - accuracy: 0.1133 - val_loss: 0.0175 - val_accuracy: 0.1128\n",
      "Epoch 13/150\n",
      "138/138 [==============================] - 21s 152ms/step - loss: 0.0177 - accuracy: 0.1202 - val_loss: 0.0175 - val_accuracy: 0.1137\n",
      "Epoch 14/150\n",
      "138/138 [==============================] - 20s 147ms/step - loss: 0.0175 - accuracy: 0.1221 - val_loss: 0.0174 - val_accuracy: 0.1137\n",
      "Epoch 15/150\n",
      "138/138 [==============================] - 21s 150ms/step - loss: 0.0174 - accuracy: 0.1260 - val_loss: 0.0173 - val_accuracy: 0.1098\n",
      "Epoch 16/150\n",
      "138/138 [==============================] - 21s 149ms/step - loss: 0.0173 - accuracy: 0.1317 - val_loss: 0.0174 - val_accuracy: 0.1194\n",
      "Epoch 17/150\n",
      "138/138 [==============================] - 20s 143ms/step - loss: 0.0170 - accuracy: 0.1291 - val_loss: 0.0172 - val_accuracy: 0.1144\n",
      "Epoch 18/150\n",
      "138/138 [==============================] - 18s 132ms/step - loss: 0.0169 - accuracy: 0.1300 - val_loss: 0.0172 - val_accuracy: 0.1237\n",
      "Epoch 19/150\n",
      "138/138 [==============================] - 17s 122ms/step - loss: 0.0168 - accuracy: 0.1359 - val_loss: 0.0171 - val_accuracy: 0.1200\n",
      "Epoch 20/150\n",
      "138/138 [==============================] - 16s 119ms/step - loss: 0.0165 - accuracy: 0.1365 - val_loss: 0.0171 - val_accuracy: 0.1212\n",
      "Epoch 21/150\n",
      "138/138 [==============================] - 16s 119ms/step - loss: 0.0164 - accuracy: 0.1373 - val_loss: 0.0172 - val_accuracy: 0.1223\n",
      "Epoch 22/150\n",
      "138/138 [==============================] - ETA: 0s - loss: 0.0163 - accuracy: 0.1426\n",
      "Epoch 00022: ReduceLROnPlateau reducing learning rate to 0.00010000000474974513.\n",
      "138/138 [==============================] - 17s 124ms/step - loss: 0.0163 - accuracy: 0.1426 - val_loss: 0.0171 - val_accuracy: 0.1282\n",
      "Epoch 23/150\n",
      "138/138 [==============================] - 18s 128ms/step - loss: 0.0158 - accuracy: 0.1463 - val_loss: 0.0169 - val_accuracy: 0.1296\n",
      "Epoch 24/150\n",
      "138/138 [==============================] - 17s 120ms/step - loss: 0.0156 - accuracy: 0.1489 - val_loss: 0.0169 - val_accuracy: 0.1312\n",
      "Epoch 25/150\n",
      "138/138 [==============================] - 18s 128ms/step - loss: 0.0156 - accuracy: 0.1505 - val_loss: 0.0169 - val_accuracy: 0.1314\n",
      "Epoch 26/150\n",
      "138/138 [==============================] - ETA: 0s - loss: 0.0155 - accuracy: 0.1512\n",
      "Epoch 00026: ReduceLROnPlateau reducing learning rate to 1.0000000474974514e-05.\n",
      "138/138 [==============================] - 17s 122ms/step - loss: 0.0155 - accuracy: 0.1512 - val_loss: 0.0169 - val_accuracy: 0.1321\n",
      "Epoch 27/150\n",
      "138/138 [==============================] - 17s 123ms/step - loss: 0.0154 - accuracy: 0.1523 - val_loss: 0.0168 - val_accuracy: 0.1333\n",
      "Epoch 28/150\n",
      "138/138 [==============================] - 16s 118ms/step - loss: 0.0154 - accuracy: 0.1533 - val_loss: 0.0168 - val_accuracy: 0.1333\n",
      "Epoch 29/150\n",
      "138/138 [==============================] - ETA: 0s - loss: 0.0154 - accuracy: 0.1549\n",
      "Epoch 00029: ReduceLROnPlateau reducing learning rate to 1.0000000656873453e-06.\n",
      "138/138 [==============================] - 17s 126ms/step - loss: 0.0154 - accuracy: 0.1549 - val_loss: 0.0168 - val_accuracy: 0.1337\n",
      "Epoch 30/150\n",
      "138/138 [==============================] - 17s 122ms/step - loss: 0.0154 - accuracy: 0.1528 - val_loss: 0.0168 - val_accuracy: 0.1328\n",
      "Epoch 31/150\n",
      "138/138 [==============================] - 17s 121ms/step - loss: 0.0154 - accuracy: 0.1543 - val_loss: 0.0168 - val_accuracy: 0.1328\n",
      "Epoch 32/150\n",
      "138/138 [==============================] - ETA: 0s - loss: 0.0154 - accuracy: 0.1555\n",
      "Epoch 00032: ReduceLROnPlateau reducing learning rate to 1.0000001111620805e-07.\n",
      "138/138 [==============================] - 16s 118ms/step - loss: 0.0154 - accuracy: 0.1555 - val_loss: 0.0168 - val_accuracy: 0.1330\n",
      "Epoch 33/150\n",
      "138/138 [==============================] - 17s 122ms/step - loss: 0.0154 - accuracy: 0.1554 - val_loss: 0.0168 - val_accuracy: 0.1337\n",
      "Epoch 34/150\n",
      "138/138 [==============================] - 16s 116ms/step - loss: 0.0153 - accuracy: 0.1565 - val_loss: 0.0168 - val_accuracy: 0.1339\n",
      "Epoch 35/150\n",
      "137/138 [============================>.] - ETA: 0s - loss: 0.0154 - accuracy: 0.1525\n",
      "Epoch 00035: ReduceLROnPlateau reducing learning rate to 1.000000082740371e-08.\n",
      "138/138 [==============================] - 17s 121ms/step - loss: 0.0154 - accuracy: 0.1525 - val_loss: 0.0168 - val_accuracy: 0.1337\n",
      "Epoch 36/150\n",
      "138/138 [==============================] - 17s 122ms/step - loss: 0.0154 - accuracy: 0.1530 - val_loss: 0.0168 - val_accuracy: 0.1333\n",
      "Epoch 37/150\n",
      "138/138 [==============================] - 16s 115ms/step - loss: 0.0154 - accuracy: 0.1539 - val_loss: 0.0168 - val_accuracy: 0.1335\n",
      "Epoch 38/150\n",
      "138/138 [==============================] - ETA: 0s - loss: 0.0154 - accuracy: 0.1545\n",
      "Epoch 00038: ReduceLROnPlateau reducing learning rate to 1.000000082740371e-09.\n",
      "138/138 [==============================] - 16s 118ms/step - loss: 0.0154 - accuracy: 0.1545 - val_loss: 0.0168 - val_accuracy: 0.1328\n",
      "Epoch 39/150\n",
      "138/138 [==============================] - 16s 117ms/step - loss: 0.0153 - accuracy: 0.1552 - val_loss: 0.0168 - val_accuracy: 0.1337\n",
      "Epoch 40/150\n",
      "138/138 [==============================] - 17s 122ms/step - loss: 0.0154 - accuracy: 0.1554 - val_loss: 0.0168 - val_accuracy: 0.1333\n",
      "Epoch 41/150\n",
      "138/138 [==============================] - ETA: 0s - loss: 0.0154 - accuracy: 0.1550\n",
      "Epoch 00041: ReduceLROnPlateau reducing learning rate to 1.000000082740371e-10.\n",
      "138/138 [==============================] - 16s 116ms/step - loss: 0.0154 - accuracy: 0.1550 - val_loss: 0.0168 - val_accuracy: 0.1333\n",
      "Epoch 42/150\n",
      "138/138 [==============================] - 16s 119ms/step - loss: 0.0154 - accuracy: 0.1531 - val_loss: 0.0168 - val_accuracy: 0.1333\n",
      "Epoch 43/150\n",
      "138/138 [==============================] - 17s 121ms/step - loss: 0.0154 - accuracy: 0.1567 - val_loss: 0.0168 - val_accuracy: 0.1335\n",
      "Epoch 44/150\n",
      "138/138 [==============================] - ETA: 0s - loss: 0.0154 - accuracy: 0.1548\n",
      "Epoch 00044: ReduceLROnPlateau reducing learning rate to 1.000000082740371e-11.\n",
      "138/138 [==============================] - 17s 122ms/step - loss: 0.0154 - accuracy: 0.1548 - val_loss: 0.0168 - val_accuracy: 0.1335\n",
      "Epoch 45/150\n",
      "138/138 [==============================] - ETA: 0s - loss: 0.0154 - accuracy: 0.1556Restoring model weights from the end of the best epoch.\n",
      "138/138 [==============================] - 16s 116ms/step - loss: 0.0154 - accuracy: 0.1556 - val_loss: 0.0168 - val_accuracy: 0.1335\n",
      "Epoch 00045: early stopping\n"
     ]
    },
    {
     "data": {
      "text/html": [
       "<span style=\"color:#4527A0\"><h1 style=\"font-size:18px\">Trial complete</h1></span>"
      ],
      "text/plain": [
       "<IPython.core.display.HTML object>"
      ]
     },
     "metadata": {},
     "output_type": "display_data"
    },
    {
     "data": {
      "text/html": [
       "<span style=\"color:#4527A0\"><h1 style=\"font-size:18px\">Trial summary</h1></span>"
      ],
      "text/plain": [
       "<IPython.core.display.HTML object>"
      ]
     },
     "metadata": {},
     "output_type": "display_data"
    },
    {
     "data": {
      "text/html": [
       "<span style=\"color:cyan\"> |-Trial ID: 07373c33a6c6c792cdc58d2e00d50921</span>"
      ],
      "text/plain": [
       "<IPython.core.display.HTML object>"
      ]
     },
     "metadata": {},
     "output_type": "display_data"
    },
    {
     "data": {
      "text/html": [
       "<span style=\"color:cyan\"> |-Score: 0.01682988740503788</span>"
      ],
      "text/plain": [
       "<IPython.core.display.HTML object>"
      ]
     },
     "metadata": {},
     "output_type": "display_data"
    },
    {
     "data": {
      "text/html": [
       "<span style=\"color:cyan\"> |-Best step: 0</span>"
      ],
      "text/plain": [
       "<IPython.core.display.HTML object>"
      ]
     },
     "metadata": {},
     "output_type": "display_data"
    },
    {
     "data": {
      "text/html": [
       "<span style=\"color:#7E57C2\"><h2 style=\"font-size:16px\">Hyperparameters:</h2></span>"
      ],
      "text/plain": [
       "<IPython.core.display.HTML object>"
      ]
     },
     "metadata": {},
     "output_type": "display_data"
    },
    {
     "data": {
      "text/html": [
       "<span style=\"color:cyan\"> |-Dropout_0: 0.66</span>"
      ],
      "text/plain": [
       "<IPython.core.display.HTML object>"
      ]
     },
     "metadata": {},
     "output_type": "display_data"
    },
    {
     "data": {
      "text/html": [
       "<span style=\"color:blue\"> |-Dropout_1: 0.51</span>"
      ],
      "text/plain": [
       "<IPython.core.display.HTML object>"
      ]
     },
     "metadata": {},
     "output_type": "display_data"
    },
    {
     "data": {
      "text/html": [
       "<span style=\"color:cyan\"> |-Dropout_2: 0.55</span>"
      ],
      "text/plain": [
       "<IPython.core.display.HTML object>"
      ]
     },
     "metadata": {},
     "output_type": "display_data"
    },
    {
     "data": {
      "text/html": [
       "<span style=\"color:blue\"> |-Dropout_3: 0.37</span>"
      ],
      "text/plain": [
       "<IPython.core.display.HTML object>"
      ]
     },
     "metadata": {},
     "output_type": "display_data"
    },
    {
     "data": {
      "text/html": [
       "<span style=\"color:cyan\"> |-Dropout_4: 0.36</span>"
      ],
      "text/plain": [
       "<IPython.core.display.HTML object>"
      ]
     },
     "metadata": {},
     "output_type": "display_data"
    },
    {
     "data": {
      "text/html": [
       "<span style=\"color:blue\"> |-N_Layers: 4</span>"
      ],
      "text/plain": [
       "<IPython.core.display.HTML object>"
      ]
     },
     "metadata": {},
     "output_type": "display_data"
    },
    {
     "data": {
      "text/html": [
       "<span style=\"color:cyan\"> |-activation2_0: swish</span>"
      ],
      "text/plain": [
       "<IPython.core.display.HTML object>"
      ]
     },
     "metadata": {},
     "output_type": "display_data"
    },
    {
     "data": {
      "text/html": [
       "<span style=\"color:blue\"> |-activation2_1: swish</span>"
      ],
      "text/plain": [
       "<IPython.core.display.HTML object>"
      ]
     },
     "metadata": {},
     "output_type": "display_data"
    },
    {
     "data": {
      "text/html": [
       "<span style=\"color:cyan\"> |-activation2_2: swish</span>"
      ],
      "text/plain": [
       "<IPython.core.display.HTML object>"
      ]
     },
     "metadata": {},
     "output_type": "display_data"
    },
    {
     "data": {
      "text/html": [
       "<span style=\"color:blue\"> |-activation2_3: elu</span>"
      ],
      "text/plain": [
       "<IPython.core.display.HTML object>"
      ]
     },
     "metadata": {},
     "output_type": "display_data"
    },
    {
     "data": {
      "text/html": [
       "<span style=\"color:cyan\"> |-activation2_4: selu</span>"
      ],
      "text/plain": [
       "<IPython.core.display.HTML object>"
      ]
     },
     "metadata": {},
     "output_type": "display_data"
    },
    {
     "data": {
      "text/html": [
       "<span style=\"color:blue\"> |-number_of_neurons2_0: 730</span>"
      ],
      "text/plain": [
       "<IPython.core.display.HTML object>"
      ]
     },
     "metadata": {},
     "output_type": "display_data"
    },
    {
     "data": {
      "text/html": [
       "<span style=\"color:cyan\"> |-number_of_neurons2_1: 1943</span>"
      ],
      "text/plain": [
       "<IPython.core.display.HTML object>"
      ]
     },
     "metadata": {},
     "output_type": "display_data"
    },
    {
     "data": {
      "text/html": [
       "<span style=\"color:blue\"> |-number_of_neurons2_2: 2017</span>"
      ],
      "text/plain": [
       "<IPython.core.display.HTML object>"
      ]
     },
     "metadata": {},
     "output_type": "display_data"
    },
    {
     "data": {
      "text/html": [
       "<span style=\"color:cyan\"> |-number_of_neurons2_3: 1195</span>"
      ],
      "text/plain": [
       "<IPython.core.display.HTML object>"
      ]
     },
     "metadata": {},
     "output_type": "display_data"
    },
    {
     "data": {
      "text/html": [
       "<span style=\"color:blue\"> |-number_of_neurons2_4: 1850</span>"
      ],
      "text/plain": [
       "<IPython.core.display.HTML object>"
      ]
     },
     "metadata": {},
     "output_type": "display_data"
    },
    {
     "name": "stdout",
     "output_type": "stream",
     "text": [
      "Epoch 1/150\n",
      "138/138 [==============================] - 14s 103ms/step - loss: 0.2850 - accuracy: 0.0247 - val_loss: 0.0275 - val_accuracy: 0.0638\n",
      "Epoch 2/150\n",
      "138/138 [==============================] - 14s 105ms/step - loss: 0.0243 - accuracy: 0.0522 - val_loss: 0.0206 - val_accuracy: 0.0936\n",
      "Epoch 3/150\n",
      "138/138 [==============================] - 14s 101ms/step - loss: 0.0216 - accuracy: 0.0755 - val_loss: 0.0194 - val_accuracy: 0.0875\n",
      "Epoch 4/150\n",
      "138/138 [==============================] - 14s 101ms/step - loss: 0.0203 - accuracy: 0.0918 - val_loss: 0.0186 - val_accuracy: 0.1005\n",
      "Epoch 5/150\n",
      "138/138 [==============================] - 14s 103ms/step - loss: 0.0194 - accuracy: 0.1113 - val_loss: 0.0183 - val_accuracy: 0.1036\n",
      "Epoch 6/150\n",
      "138/138 [==============================] - 15s 106ms/step - loss: 0.0186 - accuracy: 0.1217 - val_loss: 0.0177 - val_accuracy: 0.1123\n",
      "Epoch 7/150\n",
      "138/138 [==============================] - 14s 99ms/step - loss: 0.0182 - accuracy: 0.1247 - val_loss: 0.0174 - val_accuracy: 0.1150\n",
      "Epoch 8/150\n",
      "138/138 [==============================] - 14s 103ms/step - loss: 0.0178 - accuracy: 0.1330 - val_loss: 0.0173 - val_accuracy: 0.1210\n",
      "Epoch 9/150\n",
      "138/138 [==============================] - 13s 98ms/step - loss: 0.0174 - accuracy: 0.1373 - val_loss: 0.0175 - val_accuracy: 0.1207\n",
      "Epoch 10/150\n",
      "138/138 [==============================] - 14s 104ms/step - loss: 0.0170 - accuracy: 0.1438 - val_loss: 0.0171 - val_accuracy: 0.1312\n",
      "Epoch 11/150\n",
      "138/138 [==============================] - 14s 101ms/step - loss: 0.0166 - accuracy: 0.1487 - val_loss: 0.0169 - val_accuracy: 0.1339\n",
      "Epoch 12/150\n",
      "138/138 [==============================] - 14s 98ms/step - loss: 0.0163 - accuracy: 0.1546 - val_loss: 0.0169 - val_accuracy: 0.1387\n",
      "Epoch 13/150\n",
      "138/138 [==============================] - 14s 100ms/step - loss: 0.0161 - accuracy: 0.1615 - val_loss: 0.0169 - val_accuracy: 0.1349\n",
      "Epoch 14/150\n",
      "137/138 [============================>.] - ETA: 0s - loss: 0.0157 - accuracy: 0.1667\n",
      "Epoch 00014: ReduceLROnPlateau reducing learning rate to 0.00010000000474974513.\n",
      "138/138 [==============================] - 14s 99ms/step - loss: 0.0157 - accuracy: 0.1666 - val_loss: 0.0168 - val_accuracy: 0.1358\n",
      "Epoch 15/150\n",
      "138/138 [==============================] - 15s 108ms/step - loss: 0.0150 - accuracy: 0.1739 - val_loss: 0.0165 - val_accuracy: 0.1390\n",
      "Epoch 16/150\n",
      "138/138 [==============================] - 14s 100ms/step - loss: 0.0147 - accuracy: 0.1799 - val_loss: 0.0165 - val_accuracy: 0.1415\n",
      "Epoch 17/150\n",
      "138/138 [==============================] - 14s 104ms/step - loss: 0.0146 - accuracy: 0.1866 - val_loss: 0.0165 - val_accuracy: 0.1417\n",
      "Epoch 18/150\n",
      "137/138 [============================>.] - ETA: 0s - loss: 0.0145 - accuracy: 0.1854\n",
      "Epoch 00018: ReduceLROnPlateau reducing learning rate to 1.0000000474974514e-05.\n",
      "138/138 [==============================] - 14s 102ms/step - loss: 0.0145 - accuracy: 0.1853 - val_loss: 0.0165 - val_accuracy: 0.1446\n",
      "Epoch 19/150\n",
      "138/138 [==============================] - 15s 108ms/step - loss: 0.0143 - accuracy: 0.1904 - val_loss: 0.0165 - val_accuracy: 0.1444\n",
      "Epoch 20/150\n",
      "138/138 [==============================] - 14s 102ms/step - loss: 0.0144 - accuracy: 0.1883 - val_loss: 0.0165 - val_accuracy: 0.1440\n",
      "Epoch 21/150\n",
      "137/138 [============================>.] - ETA: 0s - loss: 0.0143 - accuracy: 0.1894\n",
      "Epoch 00021: ReduceLROnPlateau reducing learning rate to 1.0000000656873453e-06.\n",
      "138/138 [==============================] - 14s 98ms/step - loss: 0.0143 - accuracy: 0.1896 - val_loss: 0.0165 - val_accuracy: 0.1440\n",
      "Epoch 22/150\n",
      "138/138 [==============================] - 14s 101ms/step - loss: 0.0143 - accuracy: 0.1911 - val_loss: 0.0165 - val_accuracy: 0.1444\n",
      "Epoch 23/150\n",
      "138/138 [==============================] - 14s 103ms/step - loss: 0.0143 - accuracy: 0.1920 - val_loss: 0.0165 - val_accuracy: 0.1444\n",
      "Epoch 24/150\n",
      "137/138 [============================>.] - ETA: 0s - loss: 0.0143 - accuracy: 0.1932\n",
      "Epoch 00024: ReduceLROnPlateau reducing learning rate to 1.0000001111620805e-07.\n",
      "138/138 [==============================] - 14s 101ms/step - loss: 0.0143 - accuracy: 0.1934 - val_loss: 0.0165 - val_accuracy: 0.1442\n",
      "Epoch 25/150\n",
      "138/138 [==============================] - 13s 98ms/step - loss: 0.0143 - accuracy: 0.1903 - val_loss: 0.0165 - val_accuracy: 0.1440\n",
      "Epoch 26/150\n",
      "138/138 [==============================] - 14s 101ms/step - loss: 0.0143 - accuracy: 0.1914 - val_loss: 0.0165 - val_accuracy: 0.1440\n",
      "Epoch 27/150\n",
      "137/138 [============================>.] - ETA: 0s - loss: 0.0143 - accuracy: 0.1870\n",
      "Epoch 00027: ReduceLROnPlateau reducing learning rate to 1.000000082740371e-08.\n",
      "138/138 [==============================] - 14s 103ms/step - loss: 0.0143 - accuracy: 0.1869 - val_loss: 0.0165 - val_accuracy: 0.1444\n",
      "Epoch 28/150\n",
      "138/138 [==============================] - 14s 101ms/step - loss: 0.0143 - accuracy: 0.1899 - val_loss: 0.0165 - val_accuracy: 0.1444\n",
      "Epoch 29/150\n",
      "137/138 [============================>.] - ETA: 0s - loss: 0.0142 - accuracy: 0.1926Restoring model weights from the end of the best epoch.\n",
      "138/138 [==============================] - 14s 100ms/step - loss: 0.0142 - accuracy: 0.1927 - val_loss: 0.0165 - val_accuracy: 0.1433\n",
      "Epoch 00029: early stopping\n"
     ]
    },
    {
     "data": {
      "text/html": [
       "<span style=\"color:#4527A0\"><h1 style=\"font-size:18px\">Trial complete</h1></span>"
      ],
      "text/plain": [
       "<IPython.core.display.HTML object>"
      ]
     },
     "metadata": {},
     "output_type": "display_data"
    },
    {
     "data": {
      "text/html": [
       "<span style=\"color:#4527A0\"><h1 style=\"font-size:18px\">Trial summary</h1></span>"
      ],
      "text/plain": [
       "<IPython.core.display.HTML object>"
      ]
     },
     "metadata": {},
     "output_type": "display_data"
    },
    {
     "data": {
      "text/html": [
       "<span style=\"color:cyan\"> |-Trial ID: 0db050765c6a99d6b6e404f79baac443</span>"
      ],
      "text/plain": [
       "<IPython.core.display.HTML object>"
      ]
     },
     "metadata": {},
     "output_type": "display_data"
    },
    {
     "data": {
      "text/html": [
       "<span style=\"color:cyan\"> |-Score: 0.016454173251986504</span>"
      ],
      "text/plain": [
       "<IPython.core.display.HTML object>"
      ]
     },
     "metadata": {},
     "output_type": "display_data"
    },
    {
     "data": {
      "text/html": [
       "<span style=\"color:cyan\"> |-Best step: 0</span>"
      ],
      "text/plain": [
       "<IPython.core.display.HTML object>"
      ]
     },
     "metadata": {},
     "output_type": "display_data"
    },
    {
     "data": {
      "text/html": [
       "<span style=\"color:#7E57C2\"><h2 style=\"font-size:16px\">Hyperparameters:</h2></span>"
      ],
      "text/plain": [
       "<IPython.core.display.HTML object>"
      ]
     },
     "metadata": {},
     "output_type": "display_data"
    },
    {
     "data": {
      "text/html": [
       "<span style=\"color:cyan\"> |-Dropout_0: 0.46</span>"
      ],
      "text/plain": [
       "<IPython.core.display.HTML object>"
      ]
     },
     "metadata": {},
     "output_type": "display_data"
    },
    {
     "data": {
      "text/html": [
       "<span style=\"color:blue\"> |-Dropout_1: 0.14</span>"
      ],
      "text/plain": [
       "<IPython.core.display.HTML object>"
      ]
     },
     "metadata": {},
     "output_type": "display_data"
    },
    {
     "data": {
      "text/html": [
       "<span style=\"color:cyan\"> |-Dropout_2: 0.6</span>"
      ],
      "text/plain": [
       "<IPython.core.display.HTML object>"
      ]
     },
     "metadata": {},
     "output_type": "display_data"
    },
    {
     "data": {
      "text/html": [
       "<span style=\"color:blue\"> |-Dropout_3: 0.48</span>"
      ],
      "text/plain": [
       "<IPython.core.display.HTML object>"
      ]
     },
     "metadata": {},
     "output_type": "display_data"
    },
    {
     "data": {
      "text/html": [
       "<span style=\"color:cyan\"> |-Dropout_4: 0.44</span>"
      ],
      "text/plain": [
       "<IPython.core.display.HTML object>"
      ]
     },
     "metadata": {},
     "output_type": "display_data"
    },
    {
     "data": {
      "text/html": [
       "<span style=\"color:blue\"> |-N_Layers: 4</span>"
      ],
      "text/plain": [
       "<IPython.core.display.HTML object>"
      ]
     },
     "metadata": {},
     "output_type": "display_data"
    },
    {
     "data": {
      "text/html": [
       "<span style=\"color:cyan\"> |-activation2_0: elu</span>"
      ],
      "text/plain": [
       "<IPython.core.display.HTML object>"
      ]
     },
     "metadata": {},
     "output_type": "display_data"
    },
    {
     "data": {
      "text/html": [
       "<span style=\"color:blue\"> |-activation2_1: selu</span>"
      ],
      "text/plain": [
       "<IPython.core.display.HTML object>"
      ]
     },
     "metadata": {},
     "output_type": "display_data"
    },
    {
     "data": {
      "text/html": [
       "<span style=\"color:cyan\"> |-activation2_2: swish</span>"
      ],
      "text/plain": [
       "<IPython.core.display.HTML object>"
      ]
     },
     "metadata": {},
     "output_type": "display_data"
    },
    {
     "data": {
      "text/html": [
       "<span style=\"color:blue\"> |-activation2_3: selu</span>"
      ],
      "text/plain": [
       "<IPython.core.display.HTML object>"
      ]
     },
     "metadata": {},
     "output_type": "display_data"
    },
    {
     "data": {
      "text/html": [
       "<span style=\"color:cyan\"> |-activation2_4: elu</span>"
      ],
      "text/plain": [
       "<IPython.core.display.HTML object>"
      ]
     },
     "metadata": {},
     "output_type": "display_data"
    },
    {
     "data": {
      "text/html": [
       "<span style=\"color:blue\"> |-number_of_neurons2_0: 670</span>"
      ],
      "text/plain": [
       "<IPython.core.display.HTML object>"
      ]
     },
     "metadata": {},
     "output_type": "display_data"
    },
    {
     "data": {
      "text/html": [
       "<span style=\"color:cyan\"> |-number_of_neurons2_1: 1570</span>"
      ],
      "text/plain": [
       "<IPython.core.display.HTML object>"
      ]
     },
     "metadata": {},
     "output_type": "display_data"
    },
    {
     "data": {
      "text/html": [
       "<span style=\"color:blue\"> |-number_of_neurons2_2: 1815</span>"
      ],
      "text/plain": [
       "<IPython.core.display.HTML object>"
      ]
     },
     "metadata": {},
     "output_type": "display_data"
    },
    {
     "data": {
      "text/html": [
       "<span style=\"color:cyan\"> |-number_of_neurons2_3: 1285</span>"
      ],
      "text/plain": [
       "<IPython.core.display.HTML object>"
      ]
     },
     "metadata": {},
     "output_type": "display_data"
    },
    {
     "data": {
      "text/html": [
       "<span style=\"color:blue\"> |-number_of_neurons2_4: 1684</span>"
      ],
      "text/plain": [
       "<IPython.core.display.HTML object>"
      ]
     },
     "metadata": {},
     "output_type": "display_data"
    },
    {
     "name": "stdout",
     "output_type": "stream",
     "text": [
      "SEED:564 Fold:4\n",
      "Epoch 1/150\n",
      "138/138 [==============================] - 8s 54ms/step - loss: 0.2955 - accuracy: 0.0334 - val_loss: 0.0308 - val_accuracy: 0.0342\n",
      "Epoch 2/150\n",
      "138/138 [==============================] - 7s 53ms/step - loss: 0.0228 - accuracy: 0.0834 - val_loss: 0.0206 - val_accuracy: 0.0952\n",
      "Epoch 3/150\n",
      "138/138 [==============================] - 8s 55ms/step - loss: 0.0188 - accuracy: 0.1196 - val_loss: 0.0181 - val_accuracy: 0.1426\n",
      "Epoch 4/150\n",
      "138/138 [==============================] - 8s 57ms/step - loss: 0.0174 - accuracy: 0.1376 - val_loss: 0.0173 - val_accuracy: 0.1285\n",
      "Epoch 5/150\n",
      "138/138 [==============================] - 7s 53ms/step - loss: 0.0162 - accuracy: 0.1650 - val_loss: 0.0170 - val_accuracy: 0.1372\n",
      "Epoch 6/150\n",
      "138/138 [==============================] - 7s 52ms/step - loss: 0.0150 - accuracy: 0.1960 - val_loss: 0.0173 - val_accuracy: 0.1394\n",
      "Epoch 7/150\n",
      "138/138 [==============================] - 7s 54ms/step - loss: 0.0137 - accuracy: 0.2282 - val_loss: 0.0175 - val_accuracy: 0.1399\n",
      "Epoch 8/150\n",
      "137/138 [============================>.] - ETA: 0s - loss: 0.0121 - accuracy: 0.2777\n",
      "Epoch 00008: ReduceLROnPlateau reducing learning rate to 0.00010000000474974513.\n",
      "138/138 [==============================] - 7s 51ms/step - loss: 0.0121 - accuracy: 0.2775 - val_loss: 0.0182 - val_accuracy: 0.1365\n",
      "Epoch 9/150\n",
      "138/138 [==============================] - 7s 54ms/step - loss: 0.0088 - accuracy: 0.3869 - val_loss: 0.0175 - val_accuracy: 0.1447\n",
      "Epoch 10/150\n",
      "138/138 [==============================] - 7s 52ms/step - loss: 0.0078 - accuracy: 0.4220 - val_loss: 0.0177 - val_accuracy: 0.1447\n",
      "Epoch 11/150\n",
      "137/138 [============================>.] - ETA: 0s - loss: 0.0071 - accuracy: 0.4511\n",
      "Epoch 00011: ReduceLROnPlateau reducing learning rate to 1.0000000474974514e-05.\n",
      "138/138 [==============================] - 7s 53ms/step - loss: 0.0071 - accuracy: 0.4511 - val_loss: 0.0180 - val_accuracy: 0.1410\n",
      "Epoch 12/150\n",
      "138/138 [==============================] - 8s 55ms/step - loss: 0.0065 - accuracy: 0.4698 - val_loss: 0.0181 - val_accuracy: 0.1406\n",
      "Epoch 13/150\n",
      "138/138 [==============================] - 8s 60ms/step - loss: 0.0064 - accuracy: 0.4716 - val_loss: 0.0182 - val_accuracy: 0.1410\n",
      "Epoch 14/150\n",
      "137/138 [============================>.] - ETA: 0s - loss: 0.0064 - accuracy: 0.4743\n",
      "Epoch 00014: ReduceLROnPlateau reducing learning rate to 1.0000000656873453e-06.\n",
      "138/138 [==============================] - 7s 52ms/step - loss: 0.0064 - accuracy: 0.4743 - val_loss: 0.0182 - val_accuracy: 0.1410\n",
      "Epoch 15/150\n",
      "138/138 [==============================] - ETA: 0s - loss: 0.0063 - accuracy: 0.4799Restoring model weights from the end of the best epoch.\n",
      "138/138 [==============================] - 7s 52ms/step - loss: 0.0063 - accuracy: 0.4799 - val_loss: 0.0182 - val_accuracy: 0.1415\n",
      "Epoch 00015: early stopping\n"
     ]
    },
    {
     "data": {
      "text/html": [
       "<span style=\"color:#4527A0\"><h1 style=\"font-size:18px\">Trial complete</h1></span>"
      ],
      "text/plain": [
       "<IPython.core.display.HTML object>"
      ]
     },
     "metadata": {},
     "output_type": "display_data"
    },
    {
     "data": {
      "text/html": [
       "<span style=\"color:#4527A0\"><h1 style=\"font-size:18px\">Trial summary</h1></span>"
      ],
      "text/plain": [
       "<IPython.core.display.HTML object>"
      ]
     },
     "metadata": {},
     "output_type": "display_data"
    },
    {
     "data": {
      "text/html": [
       "<span style=\"color:cyan\"> |-Trial ID: 13015ee3a24a4ed9f1b9d47e04b1633b</span>"
      ],
      "text/plain": [
       "<IPython.core.display.HTML object>"
      ]
     },
     "metadata": {},
     "output_type": "display_data"
    },
    {
     "data": {
      "text/html": [
       "<span style=\"color:cyan\"> |-Score: 0.01697705127298832</span>"
      ],
      "text/plain": [
       "<IPython.core.display.HTML object>"
      ]
     },
     "metadata": {},
     "output_type": "display_data"
    },
    {
     "data": {
      "text/html": [
       "<span style=\"color:cyan\"> |-Best step: 0</span>"
      ],
      "text/plain": [
       "<IPython.core.display.HTML object>"
      ]
     },
     "metadata": {},
     "output_type": "display_data"
    },
    {
     "data": {
      "text/html": [
       "<span style=\"color:#7E57C2\"><h2 style=\"font-size:16px\">Hyperparameters:</h2></span>"
      ],
      "text/plain": [
       "<IPython.core.display.HTML object>"
      ]
     },
     "metadata": {},
     "output_type": "display_data"
    },
    {
     "data": {
      "text/html": [
       "<span style=\"color:cyan\"> |-Dropout_0: 0.1</span>"
      ],
      "text/plain": [
       "<IPython.core.display.HTML object>"
      ]
     },
     "metadata": {},
     "output_type": "display_data"
    },
    {
     "data": {
      "text/html": [
       "<span style=\"color:blue\"> |-Dropout_1: 0.53</span>"
      ],
      "text/plain": [
       "<IPython.core.display.HTML object>"
      ]
     },
     "metadata": {},
     "output_type": "display_data"
    },
    {
     "data": {
      "text/html": [
       "<span style=\"color:cyan\"> |-Dropout_2: 0.0</span>"
      ],
      "text/plain": [
       "<IPython.core.display.HTML object>"
      ]
     },
     "metadata": {},
     "output_type": "display_data"
    },
    {
     "data": {
      "text/html": [
       "<span style=\"color:blue\"> |-Dropout_3: 0.0</span>"
      ],
      "text/plain": [
       "<IPython.core.display.HTML object>"
      ]
     },
     "metadata": {},
     "output_type": "display_data"
    },
    {
     "data": {
      "text/html": [
       "<span style=\"color:cyan\"> |-N_Layers: 4</span>"
      ],
      "text/plain": [
       "<IPython.core.display.HTML object>"
      ]
     },
     "metadata": {},
     "output_type": "display_data"
    },
    {
     "data": {
      "text/html": [
       "<span style=\"color:blue\"> |-activation2_0: swish</span>"
      ],
      "text/plain": [
       "<IPython.core.display.HTML object>"
      ]
     },
     "metadata": {},
     "output_type": "display_data"
    },
    {
     "data": {
      "text/html": [
       "<span style=\"color:cyan\"> |-activation2_1: elu</span>"
      ],
      "text/plain": [
       "<IPython.core.display.HTML object>"
      ]
     },
     "metadata": {},
     "output_type": "display_data"
    },
    {
     "data": {
      "text/html": [
       "<span style=\"color:blue\"> |-activation2_2: elu</span>"
      ],
      "text/plain": [
       "<IPython.core.display.HTML object>"
      ]
     },
     "metadata": {},
     "output_type": "display_data"
    },
    {
     "data": {
      "text/html": [
       "<span style=\"color:cyan\"> |-activation2_3: elu</span>"
      ],
      "text/plain": [
       "<IPython.core.display.HTML object>"
      ]
     },
     "metadata": {},
     "output_type": "display_data"
    },
    {
     "data": {
      "text/html": [
       "<span style=\"color:blue\"> |-number_of_neurons2_0: 672</span>"
      ],
      "text/plain": [
       "<IPython.core.display.HTML object>"
      ]
     },
     "metadata": {},
     "output_type": "display_data"
    },
    {
     "data": {
      "text/html": [
       "<span style=\"color:cyan\"> |-number_of_neurons2_1: 1795</span>"
      ],
      "text/plain": [
       "<IPython.core.display.HTML object>"
      ]
     },
     "metadata": {},
     "output_type": "display_data"
    },
    {
     "data": {
      "text/html": [
       "<span style=\"color:blue\"> |-number_of_neurons2_2: 512</span>"
      ],
      "text/plain": [
       "<IPython.core.display.HTML object>"
      ]
     },
     "metadata": {},
     "output_type": "display_data"
    },
    {
     "data": {
      "text/html": [
       "<span style=\"color:cyan\"> |-number_of_neurons2_3: 512</span>"
      ],
      "text/plain": [
       "<IPython.core.display.HTML object>"
      ]
     },
     "metadata": {},
     "output_type": "display_data"
    },
    {
     "name": "stdout",
     "output_type": "stream",
     "text": [
      "Epoch 1/150\n",
      "138/138 [==============================] - 12s 85ms/step - loss: 0.3025 - accuracy: 0.0223 - val_loss: 0.0337 - val_accuracy: 0.0226\n",
      "Epoch 2/150\n",
      "138/138 [==============================] - 12s 84ms/step - loss: 0.0235 - accuracy: 0.0552 - val_loss: 0.0209 - val_accuracy: 0.0638\n",
      "Epoch 3/150\n",
      "138/138 [==============================] - 12s 89ms/step - loss: 0.0199 - accuracy: 0.0851 - val_loss: 0.0190 - val_accuracy: 0.0930\n",
      "Epoch 4/150\n",
      "138/138 [==============================] - 12s 85ms/step - loss: 0.0186 - accuracy: 0.1091 - val_loss: 0.0180 - val_accuracy: 0.0987\n",
      "Epoch 5/150\n",
      "138/138 [==============================] - 12s 87ms/step - loss: 0.0177 - accuracy: 0.1187 - val_loss: 0.0175 - val_accuracy: 0.1130\n",
      "Epoch 6/150\n",
      "138/138 [==============================] - 12s 86ms/step - loss: 0.0171 - accuracy: 0.1396 - val_loss: 0.0173 - val_accuracy: 0.1310\n",
      "Epoch 7/150\n",
      "138/138 [==============================] - 12s 84ms/step - loss: 0.0165 - accuracy: 0.1477 - val_loss: 0.0171 - val_accuracy: 0.1317\n",
      "Epoch 8/150\n",
      "138/138 [==============================] - 12s 89ms/step - loss: 0.0160 - accuracy: 0.1537 - val_loss: 0.0180 - val_accuracy: 0.1358\n",
      "Epoch 9/150\n",
      "138/138 [==============================] - 11s 83ms/step - loss: 0.0156 - accuracy: 0.1759 - val_loss: 0.0172 - val_accuracy: 0.1369\n",
      "Epoch 10/150\n",
      "137/138 [============================>.] - ETA: 0s - loss: 0.0149 - accuracy: 0.1866\n",
      "Epoch 00010: ReduceLROnPlateau reducing learning rate to 0.00010000000474974513.\n",
      "138/138 [==============================] - 12s 84ms/step - loss: 0.0149 - accuracy: 0.1868 - val_loss: 0.0171 - val_accuracy: 0.1349\n",
      "Epoch 11/150\n",
      "138/138 [==============================] - 12s 86ms/step - loss: 0.0134 - accuracy: 0.2211 - val_loss: 0.0166 - val_accuracy: 0.1408\n",
      "Epoch 12/150\n",
      "138/138 [==============================] - 11s 83ms/step - loss: 0.0129 - accuracy: 0.2316 - val_loss: 0.0167 - val_accuracy: 0.1426\n",
      "Epoch 13/150\n",
      "138/138 [==============================] - 12s 88ms/step - loss: 0.0126 - accuracy: 0.2416 - val_loss: 0.0168 - val_accuracy: 0.1406\n",
      "Epoch 14/150\n",
      "137/138 [============================>.] - ETA: 0s - loss: 0.0124 - accuracy: 0.2464\n",
      "Epoch 00014: ReduceLROnPlateau reducing learning rate to 1.0000000474974514e-05.\n",
      "138/138 [==============================] - 12s 89ms/step - loss: 0.0124 - accuracy: 0.2463 - val_loss: 0.0168 - val_accuracy: 0.1419\n",
      "Epoch 15/150\n",
      "138/138 [==============================] - 11s 83ms/step - loss: 0.0121 - accuracy: 0.2565 - val_loss: 0.0169 - val_accuracy: 0.1417\n",
      "Epoch 16/150\n",
      "138/138 [==============================] - 11s 82ms/step - loss: 0.0120 - accuracy: 0.2564 - val_loss: 0.0169 - val_accuracy: 0.1415\n",
      "Epoch 17/150\n",
      "137/138 [============================>.] - ETA: 0s - loss: 0.0119 - accuracy: 0.2576\n",
      "Epoch 00017: ReduceLROnPlateau reducing learning rate to 1.0000000656873453e-06.\n",
      "138/138 [==============================] - 12s 84ms/step - loss: 0.0119 - accuracy: 0.2574 - val_loss: 0.0169 - val_accuracy: 0.1410\n",
      "Epoch 18/150\n",
      "138/138 [==============================] - 12s 84ms/step - loss: 0.0119 - accuracy: 0.2598 - val_loss: 0.0169 - val_accuracy: 0.1406\n",
      "Epoch 19/150\n",
      "138/138 [==============================] - 12s 85ms/step - loss: 0.0119 - accuracy: 0.2578 - val_loss: 0.0169 - val_accuracy: 0.1413\n",
      "Epoch 20/150\n",
      "137/138 [============================>.] - ETA: 0s - loss: 0.0119 - accuracy: 0.2639\n",
      "Epoch 00020: ReduceLROnPlateau reducing learning rate to 1.0000001111620805e-07.\n",
      "138/138 [==============================] - 11s 83ms/step - loss: 0.0119 - accuracy: 0.2639 - val_loss: 0.0169 - val_accuracy: 0.1410\n",
      "Epoch 21/150\n",
      "137/138 [============================>.] - ETA: 0s - loss: 0.0119 - accuracy: 0.2592Restoring model weights from the end of the best epoch.\n",
      "138/138 [==============================] - 11s 82ms/step - loss: 0.0119 - accuracy: 0.2594 - val_loss: 0.0169 - val_accuracy: 0.1406\n",
      "Epoch 00021: early stopping\n"
     ]
    },
    {
     "data": {
      "text/html": [
       "<span style=\"color:#4527A0\"><h1 style=\"font-size:18px\">Trial complete</h1></span>"
      ],
      "text/plain": [
       "<IPython.core.display.HTML object>"
      ]
     },
     "metadata": {},
     "output_type": "display_data"
    },
    {
     "data": {
      "text/html": [
       "<span style=\"color:#4527A0\"><h1 style=\"font-size:18px\">Trial summary</h1></span>"
      ],
      "text/plain": [
       "<IPython.core.display.HTML object>"
      ]
     },
     "metadata": {},
     "output_type": "display_data"
    },
    {
     "data": {
      "text/html": [
       "<span style=\"color:cyan\"> |-Trial ID: fffc220b0dc9f5e10af0fe956534ad56</span>"
      ],
      "text/plain": [
       "<IPython.core.display.HTML object>"
      ]
     },
     "metadata": {},
     "output_type": "display_data"
    },
    {
     "data": {
      "text/html": [
       "<span style=\"color:cyan\"> |-Score: 0.016646701842546463</span>"
      ],
      "text/plain": [
       "<IPython.core.display.HTML object>"
      ]
     },
     "metadata": {},
     "output_type": "display_data"
    },
    {
     "data": {
      "text/html": [
       "<span style=\"color:cyan\"> |-Best step: 0</span>"
      ],
      "text/plain": [
       "<IPython.core.display.HTML object>"
      ]
     },
     "metadata": {},
     "output_type": "display_data"
    },
    {
     "data": {
      "text/html": [
       "<span style=\"color:#7E57C2\"><h2 style=\"font-size:16px\">Hyperparameters:</h2></span>"
      ],
      "text/plain": [
       "<IPython.core.display.HTML object>"
      ]
     },
     "metadata": {},
     "output_type": "display_data"
    },
    {
     "data": {
      "text/html": [
       "<span style=\"color:cyan\"> |-Dropout_0: 0.38</span>"
      ],
      "text/plain": [
       "<IPython.core.display.HTML object>"
      ]
     },
     "metadata": {},
     "output_type": "display_data"
    },
    {
     "data": {
      "text/html": [
       "<span style=\"color:blue\"> |-Dropout_1: 0.01</span>"
      ],
      "text/plain": [
       "<IPython.core.display.HTML object>"
      ]
     },
     "metadata": {},
     "output_type": "display_data"
    },
    {
     "data": {
      "text/html": [
       "<span style=\"color:cyan\"> |-Dropout_2: 0.44</span>"
      ],
      "text/plain": [
       "<IPython.core.display.HTML object>"
      ]
     },
     "metadata": {},
     "output_type": "display_data"
    },
    {
     "data": {
      "text/html": [
       "<span style=\"color:blue\"> |-Dropout_3: 0.48</span>"
      ],
      "text/plain": [
       "<IPython.core.display.HTML object>"
      ]
     },
     "metadata": {},
     "output_type": "display_data"
    },
    {
     "data": {
      "text/html": [
       "<span style=\"color:cyan\"> |-Dropout_4: 0.0</span>"
      ],
      "text/plain": [
       "<IPython.core.display.HTML object>"
      ]
     },
     "metadata": {},
     "output_type": "display_data"
    },
    {
     "data": {
      "text/html": [
       "<span style=\"color:blue\"> |-N_Layers: 5</span>"
      ],
      "text/plain": [
       "<IPython.core.display.HTML object>"
      ]
     },
     "metadata": {},
     "output_type": "display_data"
    },
    {
     "data": {
      "text/html": [
       "<span style=\"color:cyan\"> |-activation2_0: swish</span>"
      ],
      "text/plain": [
       "<IPython.core.display.HTML object>"
      ]
     },
     "metadata": {},
     "output_type": "display_data"
    },
    {
     "data": {
      "text/html": [
       "<span style=\"color:blue\"> |-activation2_1: selu</span>"
      ],
      "text/plain": [
       "<IPython.core.display.HTML object>"
      ]
     },
     "metadata": {},
     "output_type": "display_data"
    },
    {
     "data": {
      "text/html": [
       "<span style=\"color:cyan\"> |-activation2_2: elu</span>"
      ],
      "text/plain": [
       "<IPython.core.display.HTML object>"
      ]
     },
     "metadata": {},
     "output_type": "display_data"
    },
    {
     "data": {
      "text/html": [
       "<span style=\"color:blue\"> |-activation2_3: elu</span>"
      ],
      "text/plain": [
       "<IPython.core.display.HTML object>"
      ]
     },
     "metadata": {},
     "output_type": "display_data"
    },
    {
     "data": {
      "text/html": [
       "<span style=\"color:cyan\"> |-activation2_4: elu</span>"
      ],
      "text/plain": [
       "<IPython.core.display.HTML object>"
      ]
     },
     "metadata": {},
     "output_type": "display_data"
    },
    {
     "data": {
      "text/html": [
       "<span style=\"color:blue\"> |-number_of_neurons2_0: 547</span>"
      ],
      "text/plain": [
       "<IPython.core.display.HTML object>"
      ]
     },
     "metadata": {},
     "output_type": "display_data"
    },
    {
     "data": {
      "text/html": [
       "<span style=\"color:cyan\"> |-number_of_neurons2_1: 1556</span>"
      ],
      "text/plain": [
       "<IPython.core.display.HTML object>"
      ]
     },
     "metadata": {},
     "output_type": "display_data"
    },
    {
     "data": {
      "text/html": [
       "<span style=\"color:blue\"> |-number_of_neurons2_2: 1247</span>"
      ],
      "text/plain": [
       "<IPython.core.display.HTML object>"
      ]
     },
     "metadata": {},
     "output_type": "display_data"
    },
    {
     "data": {
      "text/html": [
       "<span style=\"color:cyan\"> |-number_of_neurons2_3: 1242</span>"
      ],
      "text/plain": [
       "<IPython.core.display.HTML object>"
      ]
     },
     "metadata": {},
     "output_type": "display_data"
    },
    {
     "data": {
      "text/html": [
       "<span style=\"color:blue\"> |-number_of_neurons2_4: 512</span>"
      ],
      "text/plain": [
       "<IPython.core.display.HTML object>"
      ]
     },
     "metadata": {},
     "output_type": "display_data"
    },
    {
     "name": "stdout",
     "output_type": "stream",
     "text": [
      "Epoch 1/150\n",
      "138/138 [==============================] - 16s 115ms/step - loss: 0.2972 - accuracy: 0.0237 - val_loss: 0.0300 - val_accuracy: 0.0337\n",
      "Epoch 2/150\n",
      "138/138 [==============================] - 16s 117ms/step - loss: 0.0247 - accuracy: 0.0511 - val_loss: 0.0207 - val_accuracy: 0.0864\n",
      "Epoch 3/150\n",
      "138/138 [==============================] - 16s 114ms/step - loss: 0.0218 - accuracy: 0.0667 - val_loss: 0.0200 - val_accuracy: 0.1066\n",
      "Epoch 4/150\n",
      "138/138 [==============================] - 16s 114ms/step - loss: 0.0202 - accuracy: 0.0887 - val_loss: 0.0185 - val_accuracy: 0.1016\n",
      "Epoch 5/150\n",
      "138/138 [==============================] - 16s 116ms/step - loss: 0.0191 - accuracy: 0.1079 - val_loss: 0.0180 - val_accuracy: 0.1062\n",
      "Epoch 6/150\n",
      "138/138 [==============================] - 16s 117ms/step - loss: 0.0183 - accuracy: 0.1185 - val_loss: 0.0176 - val_accuracy: 0.1069\n",
      "Epoch 7/150\n",
      "138/138 [==============================] - 16s 118ms/step - loss: 0.0180 - accuracy: 0.1234 - val_loss: 0.0173 - val_accuracy: 0.1151\n",
      "Epoch 8/150\n",
      "138/138 [==============================] - 16s 113ms/step - loss: 0.0175 - accuracy: 0.1335 - val_loss: 0.0173 - val_accuracy: 0.1237\n",
      "Epoch 9/150\n",
      "138/138 [==============================] - 16s 118ms/step - loss: 0.0170 - accuracy: 0.1425 - val_loss: 0.0170 - val_accuracy: 0.1310\n",
      "Epoch 10/150\n",
      "138/138 [==============================] - 16s 113ms/step - loss: 0.0165 - accuracy: 0.1496 - val_loss: 0.0168 - val_accuracy: 0.1285\n",
      "Epoch 11/150\n",
      "138/138 [==============================] - 15s 112ms/step - loss: 0.0161 - accuracy: 0.1577 - val_loss: 0.0169 - val_accuracy: 0.1360\n",
      "Epoch 12/150\n",
      "138/138 [==============================] - 15s 112ms/step - loss: 0.0157 - accuracy: 0.1658 - val_loss: 0.0167 - val_accuracy: 0.1358\n",
      "Epoch 13/150\n",
      "138/138 [==============================] - 16s 117ms/step - loss: 0.0152 - accuracy: 0.1777 - val_loss: 0.0168 - val_accuracy: 0.1356\n",
      "Epoch 14/150\n",
      "138/138 [==============================] - 16s 116ms/step - loss: 0.0147 - accuracy: 0.1855 - val_loss: 0.0167 - val_accuracy: 0.1344\n",
      "Epoch 15/150\n",
      "138/138 [==============================] - ETA: 0s - loss: 0.0142 - accuracy: 0.2037\n",
      "Epoch 00015: ReduceLROnPlateau reducing learning rate to 0.00010000000474974513.\n",
      "138/138 [==============================] - 16s 115ms/step - loss: 0.0142 - accuracy: 0.2037 - val_loss: 0.0170 - val_accuracy: 0.1317\n",
      "Epoch 16/150\n",
      "138/138 [==============================] - 15s 112ms/step - loss: 0.0130 - accuracy: 0.2310 - val_loss: 0.0167 - val_accuracy: 0.1410\n",
      "Epoch 17/150\n",
      "138/138 [==============================] - 16s 117ms/step - loss: 0.0126 - accuracy: 0.2406 - val_loss: 0.0168 - val_accuracy: 0.1410\n",
      "Epoch 18/150\n",
      "137/138 [============================>.] - ETA: 0s - loss: 0.0123 - accuracy: 0.2497\n",
      "Epoch 00018: ReduceLROnPlateau reducing learning rate to 1.0000000474974514e-05.\n",
      "138/138 [==============================] - 15s 110ms/step - loss: 0.0123 - accuracy: 0.2495 - val_loss: 0.0168 - val_accuracy: 0.1383\n",
      "Epoch 19/150\n",
      "138/138 [==============================] - 16s 114ms/step - loss: 0.0120 - accuracy: 0.2539 - val_loss: 0.0168 - val_accuracy: 0.1404\n",
      "Epoch 20/150\n",
      "138/138 [==============================] - 15s 111ms/step - loss: 0.0120 - accuracy: 0.2574 - val_loss: 0.0169 - val_accuracy: 0.1410\n",
      "Epoch 21/150\n",
      "137/138 [============================>.] - ETA: 0s - loss: 0.0120 - accuracy: 0.2561\n",
      "Epoch 00021: ReduceLROnPlateau reducing learning rate to 1.0000000656873453e-06.\n",
      "138/138 [==============================] - 16s 116ms/step - loss: 0.0120 - accuracy: 0.2560 - val_loss: 0.0169 - val_accuracy: 0.1410\n",
      "Epoch 22/150\n",
      "138/138 [==============================] - 15s 110ms/step - loss: 0.0119 - accuracy: 0.2616 - val_loss: 0.0169 - val_accuracy: 0.1415\n",
      "Epoch 23/150\n",
      "138/138 [==============================] - 15s 111ms/step - loss: 0.0119 - accuracy: 0.2585 - val_loss: 0.0169 - val_accuracy: 0.1417\n",
      "Epoch 24/150\n",
      "137/138 [============================>.] - ETA: 0s - loss: 0.0120 - accuracy: 0.2599\n",
      "Epoch 00024: ReduceLROnPlateau reducing learning rate to 1.0000001111620805e-07.\n",
      "138/138 [==============================] - 16s 114ms/step - loss: 0.0120 - accuracy: 0.2598 - val_loss: 0.0169 - val_accuracy: 0.1415\n",
      "Epoch 25/150\n",
      "138/138 [==============================] - 16s 116ms/step - loss: 0.0119 - accuracy: 0.2551 - val_loss: 0.0169 - val_accuracy: 0.1410\n",
      "Epoch 26/150\n",
      "138/138 [==============================] - ETA: 0s - loss: 0.0119 - accuracy: 0.2582Restoring model weights from the end of the best epoch.\n",
      "138/138 [==============================] - 16s 113ms/step - loss: 0.0119 - accuracy: 0.2582 - val_loss: 0.0169 - val_accuracy: 0.1415\n",
      "Epoch 00026: early stopping\n"
     ]
    },
    {
     "data": {
      "text/html": [
       "<span style=\"color:#4527A0\"><h1 style=\"font-size:18px\">Trial complete</h1></span>"
      ],
      "text/plain": [
       "<IPython.core.display.HTML object>"
      ]
     },
     "metadata": {},
     "output_type": "display_data"
    },
    {
     "data": {
      "text/html": [
       "<span style=\"color:#4527A0\"><h1 style=\"font-size:18px\">Trial summary</h1></span>"
      ],
      "text/plain": [
       "<IPython.core.display.HTML object>"
      ]
     },
     "metadata": {},
     "output_type": "display_data"
    },
    {
     "data": {
      "text/html": [
       "<span style=\"color:cyan\"> |-Trial ID: 0321b85de65ca8aca8c88ab0a50b03c0</span>"
      ],
      "text/plain": [
       "<IPython.core.display.HTML object>"
      ]
     },
     "metadata": {},
     "output_type": "display_data"
    },
    {
     "data": {
      "text/html": [
       "<span style=\"color:cyan\"> |-Score: 0.016681326553225517</span>"
      ],
      "text/plain": [
       "<IPython.core.display.HTML object>"
      ]
     },
     "metadata": {},
     "output_type": "display_data"
    },
    {
     "data": {
      "text/html": [
       "<span style=\"color:cyan\"> |-Best step: 0</span>"
      ],
      "text/plain": [
       "<IPython.core.display.HTML object>"
      ]
     },
     "metadata": {},
     "output_type": "display_data"
    },
    {
     "data": {
      "text/html": [
       "<span style=\"color:#7E57C2\"><h2 style=\"font-size:16px\">Hyperparameters:</h2></span>"
      ],
      "text/plain": [
       "<IPython.core.display.HTML object>"
      ]
     },
     "metadata": {},
     "output_type": "display_data"
    },
    {
     "data": {
      "text/html": [
       "<span style=\"color:cyan\"> |-Dropout_0: 0.26</span>"
      ],
      "text/plain": [
       "<IPython.core.display.HTML object>"
      ]
     },
     "metadata": {},
     "output_type": "display_data"
    },
    {
     "data": {
      "text/html": [
       "<span style=\"color:blue\"> |-Dropout_1: 0.28</span>"
      ],
      "text/plain": [
       "<IPython.core.display.HTML object>"
      ]
     },
     "metadata": {},
     "output_type": "display_data"
    },
    {
     "data": {
      "text/html": [
       "<span style=\"color:cyan\"> |-Dropout_2: 0.25</span>"
      ],
      "text/plain": [
       "<IPython.core.display.HTML object>"
      ]
     },
     "metadata": {},
     "output_type": "display_data"
    },
    {
     "data": {
      "text/html": [
       "<span style=\"color:blue\"> |-Dropout_3: 0.54</span>"
      ],
      "text/plain": [
       "<IPython.core.display.HTML object>"
      ]
     },
     "metadata": {},
     "output_type": "display_data"
    },
    {
     "data": {
      "text/html": [
       "<span style=\"color:cyan\"> |-Dropout_4: 0.21</span>"
      ],
      "text/plain": [
       "<IPython.core.display.HTML object>"
      ]
     },
     "metadata": {},
     "output_type": "display_data"
    },
    {
     "data": {
      "text/html": [
       "<span style=\"color:blue\"> |-N_Layers: 4</span>"
      ],
      "text/plain": [
       "<IPython.core.display.HTML object>"
      ]
     },
     "metadata": {},
     "output_type": "display_data"
    },
    {
     "data": {
      "text/html": [
       "<span style=\"color:cyan\"> |-activation2_0: elu</span>"
      ],
      "text/plain": [
       "<IPython.core.display.HTML object>"
      ]
     },
     "metadata": {},
     "output_type": "display_data"
    },
    {
     "data": {
      "text/html": [
       "<span style=\"color:blue\"> |-activation2_1: elu</span>"
      ],
      "text/plain": [
       "<IPython.core.display.HTML object>"
      ]
     },
     "metadata": {},
     "output_type": "display_data"
    },
    {
     "data": {
      "text/html": [
       "<span style=\"color:cyan\"> |-activation2_2: selu</span>"
      ],
      "text/plain": [
       "<IPython.core.display.HTML object>"
      ]
     },
     "metadata": {},
     "output_type": "display_data"
    },
    {
     "data": {
      "text/html": [
       "<span style=\"color:blue\"> |-activation2_3: elu</span>"
      ],
      "text/plain": [
       "<IPython.core.display.HTML object>"
      ]
     },
     "metadata": {},
     "output_type": "display_data"
    },
    {
     "data": {
      "text/html": [
       "<span style=\"color:cyan\"> |-activation2_4: swish</span>"
      ],
      "text/plain": [
       "<IPython.core.display.HTML object>"
      ]
     },
     "metadata": {},
     "output_type": "display_data"
    },
    {
     "data": {
      "text/html": [
       "<span style=\"color:blue\"> |-number_of_neurons2_0: 907</span>"
      ],
      "text/plain": [
       "<IPython.core.display.HTML object>"
      ]
     },
     "metadata": {},
     "output_type": "display_data"
    },
    {
     "data": {
      "text/html": [
       "<span style=\"color:cyan\"> |-number_of_neurons2_1: 1997</span>"
      ],
      "text/plain": [
       "<IPython.core.display.HTML object>"
      ]
     },
     "metadata": {},
     "output_type": "display_data"
    },
    {
     "data": {
      "text/html": [
       "<span style=\"color:blue\"> |-number_of_neurons2_2: 1773</span>"
      ],
      "text/plain": [
       "<IPython.core.display.HTML object>"
      ]
     },
     "metadata": {},
     "output_type": "display_data"
    },
    {
     "data": {
      "text/html": [
       "<span style=\"color:cyan\"> |-number_of_neurons2_3: 1047</span>"
      ],
      "text/plain": [
       "<IPython.core.display.HTML object>"
      ]
     },
     "metadata": {},
     "output_type": "display_data"
    },
    {
     "data": {
      "text/html": [
       "<span style=\"color:blue\"> |-number_of_neurons2_4: 816</span>"
      ],
      "text/plain": [
       "<IPython.core.display.HTML object>"
      ]
     },
     "metadata": {},
     "output_type": "display_data"
    },
    {
     "name": "stdout",
     "output_type": "stream",
     "text": [
      "Epoch 1/150\n",
      "138/138 [==============================] - 19s 141ms/step - loss: 0.2658 - accuracy: 0.0300 - val_loss: 0.0272 - val_accuracy: 0.0560\n",
      "Epoch 2/150\n",
      "138/138 [==============================] - 20s 142ms/step - loss: 0.0225 - accuracy: 0.0592 - val_loss: 0.0203 - val_accuracy: 0.0695\n",
      "Epoch 3/150\n",
      "138/138 [==============================] - 19s 138ms/step - loss: 0.0198 - accuracy: 0.0938 - val_loss: 0.0185 - val_accuracy: 0.0957\n",
      "Epoch 4/150\n",
      "138/138 [==============================] - 19s 136ms/step - loss: 0.0184 - accuracy: 0.1128 - val_loss: 0.0177 - val_accuracy: 0.1064\n",
      "Epoch 5/150\n",
      "138/138 [==============================] - 20s 144ms/step - loss: 0.0177 - accuracy: 0.1297 - val_loss: 0.0175 - val_accuracy: 0.1212\n",
      "Epoch 6/150\n",
      "138/138 [==============================] - 19s 139ms/step - loss: 0.0169 - accuracy: 0.1400 - val_loss: 0.0173 - val_accuracy: 0.1169\n",
      "Epoch 7/150\n",
      "138/138 [==============================] - 19s 137ms/step - loss: 0.0165 - accuracy: 0.1531 - val_loss: 0.0185 - val_accuracy: 0.1299\n",
      "Epoch 8/150\n",
      "138/138 [==============================] - 20s 144ms/step - loss: 0.0159 - accuracy: 0.1617 - val_loss: 0.0172 - val_accuracy: 0.1374\n",
      "Epoch 9/150\n",
      "138/138 [==============================] - 19s 136ms/step - loss: 0.0150 - accuracy: 0.1809 - val_loss: 0.0173 - val_accuracy: 0.1290\n",
      "Epoch 10/150\n",
      "138/138 [==============================] - 19s 138ms/step - loss: 0.0140 - accuracy: 0.2023 - val_loss: 0.0174 - val_accuracy: 0.1255\n",
      "Epoch 11/150\n",
      "138/138 [==============================] - ETA: 0s - loss: 0.0129 - accuracy: 0.2336\n",
      "Epoch 00011: ReduceLROnPlateau reducing learning rate to 0.00010000000474974513.\n",
      "138/138 [==============================] - 19s 138ms/step - loss: 0.0129 - accuracy: 0.2336 - val_loss: 0.0183 - val_accuracy: 0.1276\n",
      "Epoch 12/150\n",
      "138/138 [==============================] - 22s 159ms/step - loss: 0.0106 - accuracy: 0.3031 - val_loss: 0.0179 - val_accuracy: 0.1317\n",
      "Epoch 13/150\n",
      "138/138 [==============================] - 23s 170ms/step - loss: 0.0096 - accuracy: 0.3414 - val_loss: 0.0182 - val_accuracy: 0.1301\n",
      "Epoch 14/150\n",
      "138/138 [==============================] - ETA: 0s - loss: 0.0090 - accuracy: 0.3627\n",
      "Epoch 00014: ReduceLROnPlateau reducing learning rate to 1.0000000474974514e-05.\n",
      "138/138 [==============================] - 24s 176ms/step - loss: 0.0090 - accuracy: 0.3627 - val_loss: 0.0185 - val_accuracy: 0.1326\n",
      "Epoch 15/150\n",
      "138/138 [==============================] - 23s 166ms/step - loss: 0.0084 - accuracy: 0.3810 - val_loss: 0.0186 - val_accuracy: 0.1315\n",
      "Epoch 16/150\n",
      "138/138 [==============================] - 24s 175ms/step - loss: 0.0083 - accuracy: 0.3844 - val_loss: 0.0186 - val_accuracy: 0.1317\n",
      "Epoch 17/150\n",
      "138/138 [==============================] - ETA: 0s - loss: 0.0082 - accuracy: 0.3922\n",
      "Epoch 00017: ReduceLROnPlateau reducing learning rate to 1.0000000656873453e-06.\n",
      "138/138 [==============================] - 23s 169ms/step - loss: 0.0082 - accuracy: 0.3922 - val_loss: 0.0187 - val_accuracy: 0.1308\n",
      "Epoch 18/150\n",
      "138/138 [==============================] - ETA: 0s - loss: 0.0082 - accuracy: 0.3893Restoring model weights from the end of the best epoch.\n",
      "138/138 [==============================] - 23s 165ms/step - loss: 0.0082 - accuracy: 0.3893 - val_loss: 0.0187 - val_accuracy: 0.1303\n",
      "Epoch 00018: early stopping\n"
     ]
    },
    {
     "data": {
      "text/html": [
       "<span style=\"color:#4527A0\"><h1 style=\"font-size:18px\">Trial complete</h1></span>"
      ],
      "text/plain": [
       "<IPython.core.display.HTML object>"
      ]
     },
     "metadata": {},
     "output_type": "display_data"
    },
    {
     "data": {
      "text/html": [
       "<span style=\"color:#4527A0\"><h1 style=\"font-size:18px\">Trial summary</h1></span>"
      ],
      "text/plain": [
       "<IPython.core.display.HTML object>"
      ]
     },
     "metadata": {},
     "output_type": "display_data"
    },
    {
     "data": {
      "text/html": [
       "<span style=\"color:cyan\"> |-Trial ID: 8d84442623a386562bbbf9b17a94ccb8</span>"
      ],
      "text/plain": [
       "<IPython.core.display.HTML object>"
      ]
     },
     "metadata": {},
     "output_type": "display_data"
    },
    {
     "data": {
      "text/html": [
       "<span style=\"color:cyan\"> |-Score: 0.017154181376099586</span>"
      ],
      "text/plain": [
       "<IPython.core.display.HTML object>"
      ]
     },
     "metadata": {},
     "output_type": "display_data"
    },
    {
     "data": {
      "text/html": [
       "<span style=\"color:cyan\"> |-Best step: 0</span>"
      ],
      "text/plain": [
       "<IPython.core.display.HTML object>"
      ]
     },
     "metadata": {},
     "output_type": "display_data"
    },
    {
     "data": {
      "text/html": [
       "<span style=\"color:#7E57C2\"><h2 style=\"font-size:16px\">Hyperparameters:</h2></span>"
      ],
      "text/plain": [
       "<IPython.core.display.HTML object>"
      ]
     },
     "metadata": {},
     "output_type": "display_data"
    },
    {
     "data": {
      "text/html": [
       "<span style=\"color:cyan\"> |-Dropout_0: 0.13</span>"
      ],
      "text/plain": [
       "<IPython.core.display.HTML object>"
      ]
     },
     "metadata": {},
     "output_type": "display_data"
    },
    {
     "data": {
      "text/html": [
       "<span style=\"color:blue\"> |-Dropout_1: 0.22</span>"
      ],
      "text/plain": [
       "<IPython.core.display.HTML object>"
      ]
     },
     "metadata": {},
     "output_type": "display_data"
    },
    {
     "data": {
      "text/html": [
       "<span style=\"color:cyan\"> |-Dropout_2: 0.51</span>"
      ],
      "text/plain": [
       "<IPython.core.display.HTML object>"
      ]
     },
     "metadata": {},
     "output_type": "display_data"
    },
    {
     "data": {
      "text/html": [
       "<span style=\"color:blue\"> |-Dropout_3: 0.22</span>"
      ],
      "text/plain": [
       "<IPython.core.display.HTML object>"
      ]
     },
     "metadata": {},
     "output_type": "display_data"
    },
    {
     "data": {
      "text/html": [
       "<span style=\"color:cyan\"> |-Dropout_4: 0.15</span>"
      ],
      "text/plain": [
       "<IPython.core.display.HTML object>"
      ]
     },
     "metadata": {},
     "output_type": "display_data"
    },
    {
     "data": {
      "text/html": [
       "<span style=\"color:blue\"> |-N_Layers: 5</span>"
      ],
      "text/plain": [
       "<IPython.core.display.HTML object>"
      ]
     },
     "metadata": {},
     "output_type": "display_data"
    },
    {
     "data": {
      "text/html": [
       "<span style=\"color:cyan\"> |-activation2_0: swish</span>"
      ],
      "text/plain": [
       "<IPython.core.display.HTML object>"
      ]
     },
     "metadata": {},
     "output_type": "display_data"
    },
    {
     "data": {
      "text/html": [
       "<span style=\"color:blue\"> |-activation2_1: swish</span>"
      ],
      "text/plain": [
       "<IPython.core.display.HTML object>"
      ]
     },
     "metadata": {},
     "output_type": "display_data"
    },
    {
     "data": {
      "text/html": [
       "<span style=\"color:cyan\"> |-activation2_2: selu</span>"
      ],
      "text/plain": [
       "<IPython.core.display.HTML object>"
      ]
     },
     "metadata": {},
     "output_type": "display_data"
    },
    {
     "data": {
      "text/html": [
       "<span style=\"color:blue\"> |-activation2_3: elu</span>"
      ],
      "text/plain": [
       "<IPython.core.display.HTML object>"
      ]
     },
     "metadata": {},
     "output_type": "display_data"
    },
    {
     "data": {
      "text/html": [
       "<span style=\"color:cyan\"> |-activation2_4: swish</span>"
      ],
      "text/plain": [
       "<IPython.core.display.HTML object>"
      ]
     },
     "metadata": {},
     "output_type": "display_data"
    },
    {
     "data": {
      "text/html": [
       "<span style=\"color:blue\"> |-number_of_neurons2_0: 1180</span>"
      ],
      "text/plain": [
       "<IPython.core.display.HTML object>"
      ]
     },
     "metadata": {},
     "output_type": "display_data"
    },
    {
     "data": {
      "text/html": [
       "<span style=\"color:cyan\"> |-number_of_neurons2_1: 1791</span>"
      ],
      "text/plain": [
       "<IPython.core.display.HTML object>"
      ]
     },
     "metadata": {},
     "output_type": "display_data"
    },
    {
     "data": {
      "text/html": [
       "<span style=\"color:blue\"> |-number_of_neurons2_2: 1635</span>"
      ],
      "text/plain": [
       "<IPython.core.display.HTML object>"
      ]
     },
     "metadata": {},
     "output_type": "display_data"
    },
    {
     "data": {
      "text/html": [
       "<span style=\"color:cyan\"> |-number_of_neurons2_3: 1307</span>"
      ],
      "text/plain": [
       "<IPython.core.display.HTML object>"
      ]
     },
     "metadata": {},
     "output_type": "display_data"
    },
    {
     "data": {
      "text/html": [
       "<span style=\"color:blue\"> |-number_of_neurons2_4: 1196</span>"
      ],
      "text/plain": [
       "<IPython.core.display.HTML object>"
      ]
     },
     "metadata": {},
     "output_type": "display_data"
    }
   ],
   "source": [
    "models=[]\n",
    "hps=[]\n",
    "\n",
    "for seed in [30,58,564]:\n",
    "    for n,(tr,te) in enumerate(MultilabelStratifiedKFold(n_splits=5, random_state=seed, shuffle=True).split(X_train,y_train)):\n",
    "        print(\"SEED:\"+str(seed)+\" Fold:\"+str(n))\n",
    "        \n",
    "        tuner=BayesianOptimization(get_model,\n",
    "                     kt.Objective(\"val_loss\", direction=\"min\"),\n",
    "                     max_trials = 4, overwrite=True) \n",
    "        \n",
    "        tuner.search(X_train.values[tr]\n",
    "                     ,final_y.values[tr]\n",
    "                     ,epochs=150\n",
    "                     ,batch_size=128\n",
    "                     ,validation_data=(X_train.values[te],final_y.values[te])\n",
    "                     ,verbose=1,callbacks=[\n",
    "              tf.keras.callbacks.ReduceLROnPlateau(\n",
    "                  monitor='val_loss', \n",
    "                  factor=0.1, \n",
    "                  patience=3,\n",
    "                  epsilon = 1e-4, \n",
    "                  mode = 'min',\n",
    "                  verbose=1\n",
    "              )\n",
    "              ,\n",
    "              \n",
    "              tf.keras.callbacks.EarlyStopping(\n",
    "                  monitor='val_loss',\n",
    "                  min_delta=0,\n",
    "                  patience=10,\n",
    "                  mode='auto',\n",
    "                  verbose=1,\n",
    "                  baseline=None,\n",
    "                  restore_best_weights=True\n",
    "              )\n",
    "          ])\n",
    "        \n",
    "        hps.append(tuner.get_best_hyperparameters(num_trials = 1)[0])\n",
    "        models.append(tuner.get_best_models(num_models=1)[0])\n",
    "\n",
    "\n",
    "# for seed in [30,58,564]:\n",
    "# # for seed in [30]:\n",
    "#     for n,(tr,te) in enumerate(MultilabelStratifiedKFold(n_splits=5, random_state=seed, shuffle=True).split(X_train,y_train)):\n",
    "#         print(\"SEED:\"+str(seed)+\" Fold:\"+str(n))\n",
    "        \n",
    "#         tuner=BayesianOptimization(get_model,\n",
    "#                      kt.Objective(\"val_loss\", direction=\"min\"),\n",
    "#                      max_trials = 4, overwrite=True) \n",
    "        \n",
    "#         tuner.search(X_train.values[tr]\n",
    "#                      ,y_train.values[tr]\n",
    "#                      ,epochs=150\n",
    "#                      ,batch_size=128\n",
    "#                      ,validation_data=(X_train.values[te],y_train.values[te])\n",
    "#                      ,verbose=1,callbacks=[\n",
    "#               tf.keras.callbacks.ReduceLROnPlateau(\n",
    "#                   monitor='val_loss', \n",
    "#                   factor=0.1, \n",
    "#                   patience=3,\n",
    "#                   epsilon = 1e-4, \n",
    "#                   mode = 'min',\n",
    "#                   verbose=1\n",
    "#               )\n",
    "#               ,\n",
    "              \n",
    "#               tf.keras.callbacks.EarlyStopping(\n",
    "#                   monitor='val_loss',\n",
    "#                   min_delta=0,\n",
    "#                   patience=10,\n",
    "#                   mode='auto',\n",
    "#                   verbose=1,\n",
    "#                   baseline=None,\n",
    "#                   restore_best_weights=True\n",
    "#               )\n",
    "#           ])\n",
    "        \n",
    "#         hps.append(tuner.get_best_hyperparameters(num_trials = 1)[0])\n",
    "#         models.append(tuner.get_best_models(num_models=1)[0])"
   ]
  },
  {
   "cell_type": "code",
   "execution_count": 25,
   "metadata": {
    "execution": {
     "iopub.execute_input": "2020-11-25T22:20:41.144648Z",
     "iopub.status.busy": "2020-11-25T22:20:41.143604Z",
     "iopub.status.idle": "2020-11-25T22:20:41.146918Z",
     "shell.execute_reply": "2020-11-25T22:20:41.146159Z"
    },
    "papermill": {
     "duration": 311.100842,
     "end_time": "2020-11-25T22:20:41.147049",
     "exception": false,
     "start_time": "2020-11-25T22:15:30.046207",
     "status": "completed"
    },
    "tags": []
   },
   "outputs": [],
   "source": [
    "# tuner.search(X_train,y_train,epochs=150,batch_size=128,validation_split=0.2,verbose=1,callbacks=[\n",
    "#               tf.keras.callbacks.ReduceLROnPlateau(\n",
    "#                   monitor='val_loss', \n",
    "#                   factor=0.1, \n",
    "#                   patience=3,\n",
    "#                   epsilon = 1e-4, \n",
    "#                   mode = 'min',\n",
    "#                   verbose=1\n",
    "#               )\n",
    "#               ,\n",
    "              \n",
    "#               tf.keras.callbacks.EarlyStopping(\n",
    "#                   monitor='val_loss',\n",
    "#                   min_delta=0,\n",
    "#                   patience=10,\n",
    "#                   mode='auto',\n",
    "#                   verbose=1,\n",
    "#                   baseline=None,\n",
    "#                   restore_best_weights=True\n",
    "#               )\n",
    "#           ])\n"
   ]
  },
  {
   "cell_type": "code",
   "execution_count": 26,
   "metadata": {
    "execution": {
     "iopub.execute_input": "2020-11-25T22:31:09.786558Z",
     "iopub.status.busy": "2020-11-25T22:31:09.785575Z",
     "iopub.status.idle": "2020-11-25T22:31:11.755852Z",
     "shell.execute_reply": "2020-11-25T22:31:11.469111Z"
    },
    "papermill": {
     "duration": 316.350286,
     "end_time": "2020-11-25T22:31:11.756001",
     "exception": false,
     "start_time": "2020-11-25T22:25:55.405715",
     "status": "completed"
    },
    "tags": []
   },
   "outputs": [
    {
     "name": "stdout",
     "output_type": "stream",
     "text": [
      "===================================================\n",
      "0:\n",
      "Number of Layers:3\n",
      "Dropout_0 : 0.63\n",
      "number_of_neurons2_0 : 881\n",
      "activation2_0 : elu\n",
      "\n",
      "Dropout_1 : 0.6\n",
      "number_of_neurons2_1 : 677\n",
      "activation2_1 : selu\n",
      "\n",
      "Dropout_2 : 0.28\n",
      "number_of_neurons2_2 : 2048\n",
      "activation2_2 : swish\n",
      "\n",
      "Model: \"sequential\"\n",
      "_________________________________________________________________\n",
      "Layer (type)                 Output Shape              Param #   \n",
      "=================================================================\n",
      "batch_normalization (BatchNo (None, 1015)              4060      \n",
      "_________________________________________________________________\n",
      "dense (Dense)                (None, 881)               895096    \n",
      "_________________________________________________________________\n",
      "dropout (Dropout)            (None, 881)               0         \n",
      "_________________________________________________________________\n",
      "batch_normalization_1 (Batch (None, 881)               3524      \n",
      "_________________________________________________________________\n",
      "dense_1 (Dense)              (None, 677)               597114    \n",
      "_________________________________________________________________\n",
      "dropout_1 (Dropout)          (None, 677)               0         \n",
      "_________________________________________________________________\n",
      "batch_normalization_2 (Batch (None, 677)               2708      \n",
      "_________________________________________________________________\n",
      "dense_2 (Dense)              (None, 2048)              1388544   \n",
      "_________________________________________________________________\n",
      "dropout_2 (Dropout)          (None, 2048)              0         \n",
      "_________________________________________________________________\n",
      "batch_normalization_3 (Batch (None, 2048)              8192      \n",
      "_________________________________________________________________\n",
      "dense_3 (Dense)              (None, 206)               422094    \n",
      "=================================================================\n",
      "Total params: 3,321,332\n",
      "Trainable params: 3,312,090\n",
      "Non-trainable params: 9,242\n",
      "_________________________________________________________________\n",
      "===================================================\n",
      "1:\n",
      "Number of Layers:3\n",
      "Dropout_0 : 0.65\n",
      "number_of_neurons2_0 : 927\n",
      "activation2_0 : swish\n",
      "\n",
      "Dropout_1 : 0.15\n",
      "number_of_neurons2_1 : 1252\n",
      "activation2_1 : selu\n",
      "\n",
      "Dropout_2 : 0.0\n",
      "number_of_neurons2_2 : 512\n",
      "activation2_2 : elu\n",
      "\n",
      "Model: \"sequential\"\n",
      "_________________________________________________________________\n",
      "Layer (type)                 Output Shape              Param #   \n",
      "=================================================================\n",
      "batch_normalization (BatchNo (None, 1015)              4060      \n",
      "_________________________________________________________________\n",
      "dense (Dense)                (None, 927)               941832    \n",
      "_________________________________________________________________\n",
      "dropout (Dropout)            (None, 927)               0         \n",
      "_________________________________________________________________\n",
      "batch_normalization_1 (Batch (None, 927)               3708      \n",
      "_________________________________________________________________\n",
      "dense_1 (Dense)              (None, 1252)              1161856   \n",
      "_________________________________________________________________\n",
      "dropout_1 (Dropout)          (None, 1252)              0         \n",
      "_________________________________________________________________\n",
      "batch_normalization_2 (Batch (None, 1252)              5008      \n",
      "_________________________________________________________________\n",
      "dense_2 (Dense)              (None, 512)               641536    \n",
      "_________________________________________________________________\n",
      "dropout_2 (Dropout)          (None, 512)               0         \n",
      "_________________________________________________________________\n",
      "batch_normalization_3 (Batch (None, 512)               2048      \n",
      "_________________________________________________________________\n",
      "dense_3 (Dense)              (None, 206)               105678    \n",
      "=================================================================\n",
      "Total params: 2,865,726\n",
      "Trainable params: 2,858,314\n",
      "Non-trainable params: 7,412\n",
      "_________________________________________________________________\n",
      "===================================================\n",
      "2:\n",
      "Number of Layers:6\n",
      "Dropout_0 : 0.43\n",
      "number_of_neurons2_0 : 1089\n",
      "activation2_0 : swish\n",
      "\n",
      "Dropout_1 : 0.61\n",
      "number_of_neurons2_1 : 975\n",
      "activation2_1 : elu\n",
      "\n",
      "Dropout_2 : 0.12\n",
      "number_of_neurons2_2 : 770\n",
      "activation2_2 : elu\n",
      "\n",
      "Dropout_3 : 0.48\n",
      "number_of_neurons2_3 : 904\n",
      "activation2_3 : selu\n",
      "\n",
      "Dropout_4 : 0.26\n",
      "number_of_neurons2_4 : 1012\n",
      "activation2_4 : elu\n",
      "\n",
      "Dropout_5 : 0.59\n",
      "number_of_neurons2_5 : 985\n",
      "activation2_5 : elu\n",
      "\n",
      "Model: \"sequential\"\n",
      "_________________________________________________________________\n",
      "Layer (type)                 Output Shape              Param #   \n",
      "=================================================================\n",
      "batch_normalization (BatchNo (None, 1015)              4060      \n",
      "_________________________________________________________________\n",
      "dense (Dense)                (None, 1089)              1106424   \n",
      "_________________________________________________________________\n",
      "dropout (Dropout)            (None, 1089)              0         \n",
      "_________________________________________________________________\n",
      "batch_normalization_1 (Batch (None, 1089)              4356      \n",
      "_________________________________________________________________\n",
      "dense_1 (Dense)              (None, 975)               1062750   \n",
      "_________________________________________________________________\n",
      "dropout_1 (Dropout)          (None, 975)               0         \n",
      "_________________________________________________________________\n",
      "batch_normalization_2 (Batch (None, 975)               3900      \n",
      "_________________________________________________________________\n",
      "dense_2 (Dense)              (None, 770)               751520    \n",
      "_________________________________________________________________\n",
      "dropout_2 (Dropout)          (None, 770)               0         \n",
      "_________________________________________________________________\n",
      "batch_normalization_3 (Batch (None, 770)               3080      \n",
      "_________________________________________________________________\n",
      "dense_3 (Dense)              (None, 904)               696984    \n",
      "_________________________________________________________________\n",
      "dropout_3 (Dropout)          (None, 904)               0         \n",
      "_________________________________________________________________\n",
      "batch_normalization_4 (Batch (None, 904)               3616      \n",
      "_________________________________________________________________\n",
      "dense_4 (Dense)              (None, 1012)              915860    \n",
      "_________________________________________________________________\n",
      "dropout_4 (Dropout)          (None, 1012)              0         \n",
      "_________________________________________________________________\n",
      "batch_normalization_5 (Batch (None, 1012)              4048      \n",
      "_________________________________________________________________\n",
      "dense_5 (Dense)              (None, 985)               997805    \n",
      "_________________________________________________________________\n",
      "dropout_5 (Dropout)          (None, 985)               0         \n",
      "_________________________________________________________________\n",
      "batch_normalization_6 (Batch (None, 985)               3940      \n",
      "_________________________________________________________________\n",
      "dense_6 (Dense)              (None, 206)               203116    \n",
      "=================================================================\n",
      "Total params: 5,761,459\n",
      "Trainable params: 5,747,959\n",
      "Non-trainable params: 13,500\n",
      "_________________________________________________________________\n",
      "===================================================\n",
      "3:\n",
      "Number of Layers:3\n",
      "Dropout_0 : 0.38\n",
      "number_of_neurons2_0 : 583\n",
      "activation2_0 : swish\n",
      "\n",
      "Dropout_1 : 0.51\n",
      "number_of_neurons2_1 : 1082\n",
      "activation2_1 : swish\n",
      "\n",
      "Dropout_2 : 0.49\n",
      "number_of_neurons2_2 : 1968\n",
      "activation2_2 : selu\n",
      "\n",
      "Model: \"sequential\"\n",
      "_________________________________________________________________\n",
      "Layer (type)                 Output Shape              Param #   \n",
      "=================================================================\n",
      "batch_normalization (BatchNo (None, 1015)              4060      \n",
      "_________________________________________________________________\n",
      "dense (Dense)                (None, 583)               592328    \n",
      "_________________________________________________________________\n",
      "dropout (Dropout)            (None, 583)               0         \n",
      "_________________________________________________________________\n",
      "batch_normalization_1 (Batch (None, 583)               2332      \n",
      "_________________________________________________________________\n",
      "dense_1 (Dense)              (None, 1082)              631888    \n",
      "_________________________________________________________________\n",
      "dropout_1 (Dropout)          (None, 1082)              0         \n",
      "_________________________________________________________________\n",
      "batch_normalization_2 (Batch (None, 1082)              4328      \n",
      "_________________________________________________________________\n",
      "dense_2 (Dense)              (None, 1968)              2131344   \n",
      "_________________________________________________________________\n",
      "dropout_2 (Dropout)          (None, 1968)              0         \n",
      "_________________________________________________________________\n",
      "batch_normalization_3 (Batch (None, 1968)              7872      \n",
      "_________________________________________________________________\n",
      "dense_3 (Dense)              (None, 206)               405614    \n",
      "=================================================================\n",
      "Total params: 3,779,766\n",
      "Trainable params: 3,770,470\n",
      "Non-trainable params: 9,296\n",
      "_________________________________________________________________\n",
      "===================================================\n",
      "4:\n",
      "Number of Layers:4\n",
      "Dropout_0 : 0.53\n",
      "number_of_neurons2_0 : 1116\n",
      "activation2_0 : selu\n",
      "\n",
      "Dropout_1 : 0.53\n",
      "number_of_neurons2_1 : 623\n",
      "activation2_1 : elu\n",
      "\n",
      "Dropout_2 : 0.0\n",
      "number_of_neurons2_2 : 512\n",
      "activation2_2 : elu\n",
      "\n",
      "Dropout_3 : 0.0\n",
      "number_of_neurons2_3 : 512\n",
      "activation2_3 : elu\n",
      "\n",
      "Model: \"sequential\"\n",
      "_________________________________________________________________\n",
      "Layer (type)                 Output Shape              Param #   \n",
      "=================================================================\n",
      "batch_normalization (BatchNo (None, 1015)              4060      \n",
      "_________________________________________________________________\n",
      "dense (Dense)                (None, 1116)              1133856   \n",
      "_________________________________________________________________\n",
      "dropout (Dropout)            (None, 1116)              0         \n",
      "_________________________________________________________________\n",
      "batch_normalization_1 (Batch (None, 1116)              4464      \n",
      "_________________________________________________________________\n",
      "dense_1 (Dense)              (None, 623)               695891    \n",
      "_________________________________________________________________\n",
      "dropout_1 (Dropout)          (None, 623)               0         \n",
      "_________________________________________________________________\n",
      "batch_normalization_2 (Batch (None, 623)               2492      \n",
      "_________________________________________________________________\n",
      "dense_2 (Dense)              (None, 512)               319488    \n",
      "_________________________________________________________________\n",
      "dropout_2 (Dropout)          (None, 512)               0         \n",
      "_________________________________________________________________\n",
      "batch_normalization_3 (Batch (None, 512)               2048      \n",
      "_________________________________________________________________\n",
      "dense_3 (Dense)              (None, 512)               262656    \n",
      "_________________________________________________________________\n",
      "dropout_3 (Dropout)          (None, 512)               0         \n",
      "_________________________________________________________________\n",
      "batch_normalization_4 (Batch (None, 512)               2048      \n",
      "_________________________________________________________________\n",
      "dense_4 (Dense)              (None, 206)               105678    \n",
      "=================================================================\n",
      "Total params: 2,532,681\n",
      "Trainable params: 2,525,125\n",
      "Non-trainable params: 7,556\n",
      "_________________________________________________________________\n",
      "===================================================\n",
      "5:\n",
      "Number of Layers:6\n",
      "Dropout_0 : 0.5700000000000001\n",
      "number_of_neurons2_0 : 1911\n",
      "activation2_0 : elu\n",
      "\n",
      "Dropout_1 : 0.13\n",
      "number_of_neurons2_1 : 1251\n",
      "activation2_1 : swish\n",
      "\n",
      "Dropout_2 : 0.37\n",
      "number_of_neurons2_2 : 625\n",
      "activation2_2 : selu\n",
      "\n",
      "Dropout_3 : 0.0\n",
      "number_of_neurons2_3 : 512\n",
      "activation2_3 : elu\n",
      "\n",
      "Dropout_4 : 0.0\n",
      "number_of_neurons2_4 : 512\n",
      "activation2_4 : elu\n",
      "\n",
      "Dropout_5 : 0.0\n",
      "number_of_neurons2_5 : 512\n",
      "activation2_5 : elu\n",
      "\n",
      "Model: \"sequential\"\n",
      "_________________________________________________________________\n",
      "Layer (type)                 Output Shape              Param #   \n",
      "=================================================================\n",
      "batch_normalization (BatchNo (None, 1015)              4060      \n",
      "_________________________________________________________________\n",
      "dense (Dense)                (None, 1911)              1941576   \n",
      "_________________________________________________________________\n",
      "dropout (Dropout)            (None, 1911)              0         \n",
      "_________________________________________________________________\n",
      "batch_normalization_1 (Batch (None, 1911)              7644      \n",
      "_________________________________________________________________\n",
      "dense_1 (Dense)              (None, 1251)              2391912   \n",
      "_________________________________________________________________\n",
      "dropout_1 (Dropout)          (None, 1251)              0         \n",
      "_________________________________________________________________\n",
      "batch_normalization_2 (Batch (None, 1251)              5004      \n",
      "_________________________________________________________________\n",
      "dense_2 (Dense)              (None, 625)               782500    \n",
      "_________________________________________________________________\n",
      "dropout_2 (Dropout)          (None, 625)               0         \n",
      "_________________________________________________________________\n",
      "batch_normalization_3 (Batch (None, 625)               2500      \n",
      "_________________________________________________________________\n",
      "dense_3 (Dense)              (None, 512)               320512    \n",
      "_________________________________________________________________\n",
      "dropout_3 (Dropout)          (None, 512)               0         \n",
      "_________________________________________________________________\n",
      "batch_normalization_4 (Batch (None, 512)               2048      \n",
      "_________________________________________________________________\n",
      "dense_4 (Dense)              (None, 512)               262656    \n",
      "_________________________________________________________________\n",
      "dropout_4 (Dropout)          (None, 512)               0         \n",
      "_________________________________________________________________\n",
      "batch_normalization_5 (Batch (None, 512)               2048      \n",
      "_________________________________________________________________\n",
      "dense_5 (Dense)              (None, 512)               262656    \n",
      "_________________________________________________________________\n",
      "dropout_5 (Dropout)          (None, 512)               0         \n",
      "_________________________________________________________________\n",
      "batch_normalization_6 (Batch (None, 512)               2048      \n",
      "_________________________________________________________________\n",
      "dense_6 (Dense)              (None, 206)               105678    \n",
      "=================================================================\n",
      "Total params: 6,092,842\n",
      "Trainable params: 6,080,166\n",
      "Non-trainable params: 12,676\n",
      "_________________________________________________________________\n",
      "===================================================\n",
      "6:\n",
      "Number of Layers:3\n",
      "Dropout_0 : 0.5700000000000001\n",
      "number_of_neurons2_0 : 1605\n",
      "activation2_0 : swish\n",
      "\n",
      "Dropout_1 : 0.51\n",
      "number_of_neurons2_1 : 998\n",
      "activation2_1 : selu\n",
      "\n",
      "Dropout_2 : 0.61\n",
      "number_of_neurons2_2 : 1176\n",
      "activation2_2 : elu\n",
      "\n",
      "Model: \"sequential\"\n",
      "_________________________________________________________________\n",
      "Layer (type)                 Output Shape              Param #   \n",
      "=================================================================\n",
      "batch_normalization (BatchNo (None, 1015)              4060      \n",
      "_________________________________________________________________\n",
      "dense (Dense)                (None, 1605)              1630680   \n",
      "_________________________________________________________________\n",
      "dropout (Dropout)            (None, 1605)              0         \n",
      "_________________________________________________________________\n",
      "batch_normalization_1 (Batch (None, 1605)              6420      \n",
      "_________________________________________________________________\n",
      "dense_1 (Dense)              (None, 998)               1602788   \n",
      "_________________________________________________________________\n",
      "dropout_1 (Dropout)          (None, 998)               0         \n",
      "_________________________________________________________________\n",
      "batch_normalization_2 (Batch (None, 998)               3992      \n",
      "_________________________________________________________________\n",
      "dense_2 (Dense)              (None, 1176)              1174824   \n",
      "_________________________________________________________________\n",
      "dropout_2 (Dropout)          (None, 1176)              0         \n",
      "_________________________________________________________________\n",
      "batch_normalization_3 (Batch (None, 1176)              4704      \n",
      "_________________________________________________________________\n",
      "dense_3 (Dense)              (None, 206)               242462    \n",
      "=================================================================\n",
      "Total params: 4,669,930\n",
      "Trainable params: 4,660,342\n",
      "Non-trainable params: 9,588\n",
      "_________________________________________________________________\n",
      "===================================================\n",
      "7:\n",
      "Number of Layers:3\n",
      "Dropout_0 : 0.4\n",
      "number_of_neurons2_0 : 1608\n",
      "activation2_0 : selu\n",
      "\n",
      "Dropout_1 : 0.28\n",
      "number_of_neurons2_1 : 512\n",
      "activation2_1 : swish\n",
      "\n",
      "Dropout_2 : 0.53\n",
      "number_of_neurons2_2 : 2045\n",
      "activation2_2 : elu\n",
      "\n",
      "Model: \"sequential\"\n",
      "_________________________________________________________________\n",
      "Layer (type)                 Output Shape              Param #   \n",
      "=================================================================\n",
      "batch_normalization (BatchNo (None, 1015)              4060      \n",
      "_________________________________________________________________\n",
      "dense (Dense)                (None, 1608)              1633728   \n",
      "_________________________________________________________________\n",
      "dropout (Dropout)            (None, 1608)              0         \n",
      "_________________________________________________________________\n",
      "batch_normalization_1 (Batch (None, 1608)              6432      \n",
      "_________________________________________________________________\n",
      "dense_1 (Dense)              (None, 512)               823808    \n",
      "_________________________________________________________________\n",
      "dropout_1 (Dropout)          (None, 512)               0         \n",
      "_________________________________________________________________\n",
      "batch_normalization_2 (Batch (None, 512)               2048      \n",
      "_________________________________________________________________\n",
      "dense_2 (Dense)              (None, 2045)              1049085   \n",
      "_________________________________________________________________\n",
      "dropout_2 (Dropout)          (None, 2045)              0         \n",
      "_________________________________________________________________\n",
      "batch_normalization_3 (Batch (None, 2045)              8180      \n",
      "_________________________________________________________________\n",
      "dense_3 (Dense)              (None, 206)               421476    \n",
      "=================================================================\n",
      "Total params: 3,948,817\n",
      "Trainable params: 3,938,457\n",
      "Non-trainable params: 10,360\n",
      "_________________________________________________________________\n",
      "===================================================\n",
      "8:\n",
      "Number of Layers:4\n",
      "Dropout_0 : 0.7000000000000001\n",
      "number_of_neurons2_0 : 579\n",
      "activation2_0 : selu\n",
      "\n",
      "Dropout_1 : 0.01\n",
      "number_of_neurons2_1 : 1252\n",
      "activation2_1 : swish\n",
      "\n",
      "Dropout_2 : 0.08\n",
      "number_of_neurons2_2 : 967\n",
      "activation2_2 : swish\n",
      "\n",
      "Dropout_3 : 0.52\n",
      "number_of_neurons2_3 : 1186\n",
      "activation2_3 : swish\n",
      "\n",
      "Model: \"sequential\"\n",
      "_________________________________________________________________\n",
      "Layer (type)                 Output Shape              Param #   \n",
      "=================================================================\n",
      "batch_normalization (BatchNo (None, 1015)              4060      \n",
      "_________________________________________________________________\n",
      "dense (Dense)                (None, 579)               588264    \n",
      "_________________________________________________________________\n",
      "dropout (Dropout)            (None, 579)               0         \n",
      "_________________________________________________________________\n",
      "batch_normalization_1 (Batch (None, 579)               2316      \n",
      "_________________________________________________________________\n",
      "dense_1 (Dense)              (None, 1252)              726160    \n",
      "_________________________________________________________________\n",
      "dropout_1 (Dropout)          (None, 1252)              0         \n",
      "_________________________________________________________________\n",
      "batch_normalization_2 (Batch (None, 1252)              5008      \n",
      "_________________________________________________________________\n",
      "dense_2 (Dense)              (None, 967)               1211651   \n",
      "_________________________________________________________________\n",
      "dropout_2 (Dropout)          (None, 967)               0         \n",
      "_________________________________________________________________\n",
      "batch_normalization_3 (Batch (None, 967)               3868      \n",
      "_________________________________________________________________\n",
      "dense_3 (Dense)              (None, 1186)              1148048   \n",
      "_________________________________________________________________\n",
      "dropout_3 (Dropout)          (None, 1186)              0         \n",
      "_________________________________________________________________\n",
      "batch_normalization_4 (Batch (None, 1186)              4744      \n",
      "_________________________________________________________________\n",
      "dense_4 (Dense)              (None, 206)               244522    \n",
      "=================================================================\n",
      "Total params: 3,938,641\n",
      "Trainable params: 3,928,643\n",
      "Non-trainable params: 9,998\n",
      "_________________________________________________________________\n",
      "===================================================\n",
      "9:\n",
      "Number of Layers:4\n",
      "Dropout_0 : 0.6900000000000001\n",
      "number_of_neurons2_0 : 1394\n",
      "activation2_0 : selu\n",
      "\n",
      "Dropout_1 : 0.44\n",
      "number_of_neurons2_1 : 813\n",
      "activation2_1 : selu\n",
      "\n",
      "Dropout_2 : 0.0\n",
      "number_of_neurons2_2 : 512\n",
      "activation2_2 : elu\n",
      "\n",
      "Dropout_3 : 0.0\n",
      "number_of_neurons2_3 : 512\n",
      "activation2_3 : elu\n",
      "\n",
      "Model: \"sequential\"\n",
      "_________________________________________________________________\n",
      "Layer (type)                 Output Shape              Param #   \n",
      "=================================================================\n",
      "batch_normalization (BatchNo (None, 1015)              4060      \n",
      "_________________________________________________________________\n",
      "dense (Dense)                (None, 1394)              1416304   \n",
      "_________________________________________________________________\n",
      "dropout (Dropout)            (None, 1394)              0         \n",
      "_________________________________________________________________\n",
      "batch_normalization_1 (Batch (None, 1394)              5576      \n",
      "_________________________________________________________________\n",
      "dense_1 (Dense)              (None, 813)               1134135   \n",
      "_________________________________________________________________\n",
      "dropout_1 (Dropout)          (None, 813)               0         \n",
      "_________________________________________________________________\n",
      "batch_normalization_2 (Batch (None, 813)               3252      \n",
      "_________________________________________________________________\n",
      "dense_2 (Dense)              (None, 512)               416768    \n",
      "_________________________________________________________________\n",
      "dropout_2 (Dropout)          (None, 512)               0         \n",
      "_________________________________________________________________\n",
      "batch_normalization_3 (Batch (None, 512)               2048      \n",
      "_________________________________________________________________\n",
      "dense_3 (Dense)              (None, 512)               262656    \n",
      "_________________________________________________________________\n",
      "dropout_3 (Dropout)          (None, 512)               0         \n",
      "_________________________________________________________________\n",
      "batch_normalization_4 (Batch (None, 512)               2048      \n",
      "_________________________________________________________________\n",
      "dense_4 (Dense)              (None, 206)               105678    \n",
      "=================================================================\n",
      "Total params: 3,352,525\n",
      "Trainable params: 3,344,033\n",
      "Non-trainable params: 8,492\n",
      "_________________________________________________________________\n",
      "===================================================\n",
      "10:\n",
      "Number of Layers:5\n",
      "Dropout_0 : 0.46\n",
      "number_of_neurons2_0 : 877\n",
      "activation2_0 : selu\n",
      "\n",
      "Dropout_1 : 0.03\n",
      "number_of_neurons2_1 : 2040\n",
      "activation2_1 : swish\n",
      "\n",
      "Dropout_2 : 0.46\n",
      "number_of_neurons2_2 : 1786\n",
      "activation2_2 : swish\n",
      "\n",
      "Dropout_3 : 0.15\n",
      "number_of_neurons2_3 : 1407\n",
      "activation2_3 : swish\n",
      "\n",
      "Dropout_4 : 0.21\n",
      "number_of_neurons2_4 : 1014\n",
      "activation2_4 : selu\n",
      "\n",
      "Model: \"sequential\"\n",
      "_________________________________________________________________\n",
      "Layer (type)                 Output Shape              Param #   \n",
      "=================================================================\n",
      "batch_normalization (BatchNo (None, 1015)              4060      \n",
      "_________________________________________________________________\n",
      "dense (Dense)                (None, 877)               891032    \n",
      "_________________________________________________________________\n",
      "dropout (Dropout)            (None, 877)               0         \n",
      "_________________________________________________________________\n",
      "batch_normalization_1 (Batch (None, 877)               3508      \n",
      "_________________________________________________________________\n",
      "dense_1 (Dense)              (None, 2040)              1791120   \n",
      "_________________________________________________________________\n",
      "dropout_1 (Dropout)          (None, 2040)              0         \n",
      "_________________________________________________________________\n",
      "batch_normalization_2 (Batch (None, 2040)              8160      \n",
      "_________________________________________________________________\n",
      "dense_2 (Dense)              (None, 1786)              3645226   \n",
      "_________________________________________________________________\n",
      "dropout_2 (Dropout)          (None, 1786)              0         \n",
      "_________________________________________________________________\n",
      "batch_normalization_3 (Batch (None, 1786)              7144      \n",
      "_________________________________________________________________\n",
      "dense_3 (Dense)              (None, 1407)              2514309   \n",
      "_________________________________________________________________\n",
      "dropout_3 (Dropout)          (None, 1407)              0         \n",
      "_________________________________________________________________\n",
      "batch_normalization_4 (Batch (None, 1407)              5628      \n",
      "_________________________________________________________________\n",
      "dense_4 (Dense)              (None, 1014)              1427712   \n",
      "_________________________________________________________________\n",
      "dropout_4 (Dropout)          (None, 1014)              0         \n",
      "_________________________________________________________________\n",
      "batch_normalization_5 (Batch (None, 1014)              4056      \n",
      "_________________________________________________________________\n",
      "dense_5 (Dense)              (None, 206)               209090    \n",
      "=================================================================\n",
      "Total params: 10,511,045\n",
      "Trainable params: 10,494,767\n",
      "Non-trainable params: 16,278\n",
      "_________________________________________________________________\n",
      "===================================================\n",
      "11:\n",
      "Number of Layers:3\n",
      "Dropout_0 : 0.65\n",
      "number_of_neurons2_0 : 993\n",
      "activation2_0 : elu\n",
      "\n",
      "Dropout_1 : 0.55\n",
      "number_of_neurons2_1 : 1794\n",
      "activation2_1 : swish\n",
      "\n",
      "Dropout_2 : 0.36\n",
      "number_of_neurons2_2 : 1031\n",
      "activation2_2 : selu\n",
      "\n",
      "Model: \"sequential\"\n",
      "_________________________________________________________________\n",
      "Layer (type)                 Output Shape              Param #   \n",
      "=================================================================\n",
      "batch_normalization (BatchNo (None, 1015)              4060      \n",
      "_________________________________________________________________\n",
      "dense (Dense)                (None, 993)               1008888   \n",
      "_________________________________________________________________\n",
      "dropout (Dropout)            (None, 993)               0         \n",
      "_________________________________________________________________\n",
      "batch_normalization_1 (Batch (None, 993)               3972      \n",
      "_________________________________________________________________\n",
      "dense_1 (Dense)              (None, 1794)              1783236   \n",
      "_________________________________________________________________\n",
      "dropout_1 (Dropout)          (None, 1794)              0         \n",
      "_________________________________________________________________\n",
      "batch_normalization_2 (Batch (None, 1794)              7176      \n",
      "_________________________________________________________________\n",
      "dense_2 (Dense)              (None, 1031)              1850645   \n",
      "_________________________________________________________________\n",
      "dropout_2 (Dropout)          (None, 1031)              0         \n",
      "_________________________________________________________________\n",
      "batch_normalization_3 (Batch (None, 1031)              4124      \n",
      "_________________________________________________________________\n",
      "dense_3 (Dense)              (None, 206)               212592    \n",
      "=================================================================\n",
      "Total params: 4,874,693\n",
      "Trainable params: 4,865,027\n",
      "Non-trainable params: 9,666\n",
      "_________________________________________________________________\n",
      "===================================================\n",
      "12:\n",
      "Number of Layers:2\n",
      "Dropout_0 : 0.65\n",
      "number_of_neurons2_0 : 520\n",
      "activation2_0 : elu\n",
      "\n",
      "Dropout_1 : 0.63\n",
      "number_of_neurons2_1 : 709\n",
      "activation2_1 : selu\n",
      "\n",
      "Model: \"sequential\"\n",
      "_________________________________________________________________\n",
      "Layer (type)                 Output Shape              Param #   \n",
      "=================================================================\n",
      "batch_normalization (BatchNo (None, 1015)              4060      \n",
      "_________________________________________________________________\n",
      "dense (Dense)                (None, 520)               528320    \n",
      "_________________________________________________________________\n",
      "dropout (Dropout)            (None, 520)               0         \n",
      "_________________________________________________________________\n",
      "batch_normalization_1 (Batch (None, 520)               2080      \n",
      "_________________________________________________________________\n",
      "dense_1 (Dense)              (None, 709)               369389    \n",
      "_________________________________________________________________\n",
      "dropout_1 (Dropout)          (None, 709)               0         \n",
      "_________________________________________________________________\n",
      "batch_normalization_2 (Batch (None, 709)               2836      \n",
      "_________________________________________________________________\n",
      "dense_2 (Dense)              (None, 206)               146260    \n",
      "=================================================================\n",
      "Total params: 1,052,945\n",
      "Trainable params: 1,048,457\n",
      "Non-trainable params: 4,488\n",
      "_________________________________________________________________\n",
      "===================================================\n",
      "13:\n",
      "Number of Layers:4\n",
      "Dropout_0 : 0.46\n",
      "number_of_neurons2_0 : 670\n",
      "activation2_0 : elu\n",
      "\n",
      "Dropout_1 : 0.14\n",
      "number_of_neurons2_1 : 1570\n",
      "activation2_1 : selu\n",
      "\n",
      "Dropout_2 : 0.6\n",
      "number_of_neurons2_2 : 1815\n",
      "activation2_2 : swish\n",
      "\n",
      "Dropout_3 : 0.48\n",
      "number_of_neurons2_3 : 1285\n",
      "activation2_3 : selu\n",
      "\n",
      "Model: \"sequential\"\n",
      "_________________________________________________________________\n",
      "Layer (type)                 Output Shape              Param #   \n",
      "=================================================================\n",
      "batch_normalization (BatchNo (None, 1015)              4060      \n",
      "_________________________________________________________________\n",
      "dense (Dense)                (None, 670)               680720    \n",
      "_________________________________________________________________\n",
      "dropout (Dropout)            (None, 670)               0         \n",
      "_________________________________________________________________\n",
      "batch_normalization_1 (Batch (None, 670)               2680      \n",
      "_________________________________________________________________\n",
      "dense_1 (Dense)              (None, 1570)              1053470   \n",
      "_________________________________________________________________\n",
      "dropout_1 (Dropout)          (None, 1570)              0         \n",
      "_________________________________________________________________\n",
      "batch_normalization_2 (Batch (None, 1570)              6280      \n",
      "_________________________________________________________________\n",
      "dense_2 (Dense)              (None, 1815)              2851365   \n",
      "_________________________________________________________________\n",
      "dropout_2 (Dropout)          (None, 1815)              0         \n",
      "_________________________________________________________________\n",
      "batch_normalization_3 (Batch (None, 1815)              7260      \n",
      "_________________________________________________________________\n",
      "dense_3 (Dense)              (None, 1285)              2333560   \n",
      "_________________________________________________________________\n",
      "dropout_3 (Dropout)          (None, 1285)              0         \n",
      "_________________________________________________________________\n",
      "batch_normalization_4 (Batch (None, 1285)              5140      \n",
      "_________________________________________________________________\n",
      "dense_4 (Dense)              (None, 206)               264916    \n",
      "=================================================================\n",
      "Total params: 7,209,451\n",
      "Trainable params: 7,196,741\n",
      "Non-trainable params: 12,710\n",
      "_________________________________________________________________\n",
      "===================================================\n",
      "14:\n",
      "Number of Layers:5\n",
      "Dropout_0 : 0.38\n",
      "number_of_neurons2_0 : 547\n",
      "activation2_0 : swish\n",
      "\n",
      "Dropout_1 : 0.01\n",
      "number_of_neurons2_1 : 1556\n",
      "activation2_1 : selu\n",
      "\n",
      "Dropout_2 : 0.44\n",
      "number_of_neurons2_2 : 1247\n",
      "activation2_2 : elu\n",
      "\n",
      "Dropout_3 : 0.48\n",
      "number_of_neurons2_3 : 1242\n",
      "activation2_3 : elu\n",
      "\n",
      "Dropout_4 : 0.0\n",
      "number_of_neurons2_4 : 512\n",
      "activation2_4 : elu\n",
      "\n",
      "Model: \"sequential\"\n",
      "_________________________________________________________________\n",
      "Layer (type)                 Output Shape              Param #   \n",
      "=================================================================\n",
      "batch_normalization (BatchNo (None, 1015)              4060      \n",
      "_________________________________________________________________\n",
      "dense (Dense)                (None, 547)               555752    \n",
      "_________________________________________________________________\n",
      "dropout (Dropout)            (None, 547)               0         \n",
      "_________________________________________________________________\n",
      "batch_normalization_1 (Batch (None, 547)               2188      \n",
      "_________________________________________________________________\n",
      "dense_1 (Dense)              (None, 1556)              852688    \n",
      "_________________________________________________________________\n",
      "dropout_1 (Dropout)          (None, 1556)              0         \n",
      "_________________________________________________________________\n",
      "batch_normalization_2 (Batch (None, 1556)              6224      \n",
      "_________________________________________________________________\n",
      "dense_2 (Dense)              (None, 1247)              1941579   \n",
      "_________________________________________________________________\n",
      "dropout_2 (Dropout)          (None, 1247)              0         \n",
      "_________________________________________________________________\n",
      "batch_normalization_3 (Batch (None, 1247)              4988      \n",
      "_________________________________________________________________\n",
      "dense_3 (Dense)              (None, 1242)              1550016   \n",
      "_________________________________________________________________\n",
      "dropout_3 (Dropout)          (None, 1242)              0         \n",
      "_________________________________________________________________\n",
      "batch_normalization_4 (Batch (None, 1242)              4968      \n",
      "_________________________________________________________________\n",
      "dense_4 (Dense)              (None, 512)               636416    \n",
      "_________________________________________________________________\n",
      "dropout_4 (Dropout)          (None, 512)               0         \n",
      "_________________________________________________________________\n",
      "batch_normalization_5 (Batch (None, 512)               2048      \n",
      "_________________________________________________________________\n",
      "dense_5 (Dense)              (None, 206)               105678    \n",
      "=================================================================\n",
      "Total params: 5,666,605\n",
      "Trainable params: 5,654,367\n",
      "Non-trainable params: 12,238\n",
      "_________________________________________________________________\n"
     ]
    }
   ],
   "source": [
    "# hps=tuner.get_best_hyperparameters(num_trials = 10)[:10]\n",
    "# models=tuner.get_best_models(num_models=10)[:10]\n",
    "\n",
    "for i,(best_hps,model) in enumerate(zip(hps,models)):\n",
    "    print(\"===================================================\")\n",
    "    print(f\"{i}:\")\n",
    "#     print(f\"Learning Rate: {best_hps.get('learning_rate')}\")\n",
    "#     print(f\"Weight Decay: {best_hps.get('weight_decay')}\")\n",
    "    print(f\"Number of Layers:{best_hps.get('N_Layers')}\")\n",
    "    for i in range(best_hps.get('N_Layers')):\n",
    "        print(f\"Dropout_{i} : \"+str(best_hps.get(f\"Dropout_{i}\")))\n",
    "#         print(f\"number_of_neurons1_{i} : \"+str(best_hps.get(f\"number_of_neurons1_{i}\")))\n",
    "        print(f\"number_of_neurons2_{i} : \"+str(best_hps.get(f\"number_of_neurons2_{i}\")))\n",
    "#         print(f\"activation1_{i} : \"+str(best_hps.get(f\"activation1_{i}\")))\n",
    "        print(f\"activation2_{i} : \"+str(best_hps.get(f\"activation2_{i}\")))\n",
    "        print()\n",
    "    model.summary()"
   ]
  },
  {
   "cell_type": "code",
   "execution_count": 27,
   "metadata": {
    "execution": {
     "iopub.execute_input": "2020-11-25T22:41:41.696665Z",
     "iopub.status.busy": "2020-11-25T22:41:41.695506Z",
     "iopub.status.idle": "2020-11-25T22:41:41.807321Z",
     "shell.execute_reply": "2020-11-25T22:41:41.772626Z"
    },
    "papermill": {
     "duration": 315.095453,
     "end_time": "2020-11-25T22:41:41.807525",
     "exception": false,
     "start_time": "2020-11-25T22:36:26.712072",
     "status": "completed"
    },
    "tags": []
   },
   "outputs": [
    {
     "name": "stdout",
     "output_type": "stream",
     "text": [
      "0 30 0\n",
      "1 30 1\n",
      "2 30 2\n",
      "3 30 3\n",
      "4 30 4\n",
      "5 58 0\n",
      "6 58 1\n",
      "7 58 2\n",
      "8 58 3\n",
      "9 58 4\n",
      "10 564 0\n",
      "11 564 1\n",
      "12 564 2\n",
      "13 564 3\n",
      "14 564 4\n"
     ]
    }
   ],
   "source": [
    "a=0\n",
    "params={}\n",
    "for i,seed in enumerate([30,58,564]):\n",
    "    seeddata=[]\n",
    "    for fold in range(5):\n",
    "        print(a,seed,fold)\n",
    "        model=models[a]\n",
    "        best_hps=hps[a]\n",
    "        \n",
    "        droupouts=[]\n",
    "        units=[]\n",
    "        activations=[]\n",
    "        for j in range(best_hps.get('N_Layers')):\n",
    "            droupouts.append(best_hps.get(f\"Dropout_{j}\"))\n",
    "            units.append(best_hps.get(f\"number_of_neurons2_{j}\"))\n",
    "            activations.append(best_hps.get(f\"activation2_{j}\"))\n",
    "        \n",
    "        seeddata.append({\n",
    "            \"units\":units,\n",
    "            \"activations\":activations,\n",
    "            \"dropouts\":droupouts\n",
    "        })\n",
    "        a+=1\n",
    "    params[seed]=seeddata"
   ]
  },
  {
   "cell_type": "code",
   "execution_count": 28,
   "metadata": {
    "execution": {
     "iopub.execute_input": "2020-11-25T22:52:05.560146Z",
     "iopub.status.busy": "2020-11-25T22:52:05.559125Z",
     "iopub.status.idle": "2020-11-25T22:52:05.563493Z",
     "shell.execute_reply": "2020-11-25T22:52:05.564164Z"
    },
    "papermill": {
     "duration": 310.071202,
     "end_time": "2020-11-25T22:52:05.564330",
     "exception": false,
     "start_time": "2020-11-25T22:46:55.493128",
     "status": "completed"
    },
    "tags": []
   },
   "outputs": [
    {
     "data": {
      "text/plain": [
       "{30: [{'units': [881, 677, 2048],\n",
       "   'activations': ['elu', 'selu', 'swish'],\n",
       "   'dropouts': [0.63, 0.6, 0.28]},\n",
       "  {'units': [927, 1252, 512],\n",
       "   'activations': ['swish', 'selu', 'elu'],\n",
       "   'dropouts': [0.65, 0.15, 0.0]},\n",
       "  {'units': [1089, 975, 770, 904, 1012, 985],\n",
       "   'activations': ['swish', 'elu', 'elu', 'selu', 'elu', 'elu'],\n",
       "   'dropouts': [0.43, 0.61, 0.12, 0.48, 0.26, 0.59]},\n",
       "  {'units': [583, 1082, 1968],\n",
       "   'activations': ['swish', 'swish', 'selu'],\n",
       "   'dropouts': [0.38, 0.51, 0.49]},\n",
       "  {'units': [1116, 623, 512, 512],\n",
       "   'activations': ['selu', 'elu', 'elu', 'elu'],\n",
       "   'dropouts': [0.53, 0.53, 0.0, 0.0]}],\n",
       " 58: [{'units': [1911, 1251, 625, 512, 512, 512],\n",
       "   'activations': ['elu', 'swish', 'selu', 'elu', 'elu', 'elu'],\n",
       "   'dropouts': [0.5700000000000001, 0.13, 0.37, 0.0, 0.0, 0.0]},\n",
       "  {'units': [1605, 998, 1176],\n",
       "   'activations': ['swish', 'selu', 'elu'],\n",
       "   'dropouts': [0.5700000000000001, 0.51, 0.61]},\n",
       "  {'units': [1608, 512, 2045],\n",
       "   'activations': ['selu', 'swish', 'elu'],\n",
       "   'dropouts': [0.4, 0.28, 0.53]},\n",
       "  {'units': [579, 1252, 967, 1186],\n",
       "   'activations': ['selu', 'swish', 'swish', 'swish'],\n",
       "   'dropouts': [0.7000000000000001, 0.01, 0.08, 0.52]},\n",
       "  {'units': [1394, 813, 512, 512],\n",
       "   'activations': ['selu', 'selu', 'elu', 'elu'],\n",
       "   'dropouts': [0.6900000000000001, 0.44, 0.0, 0.0]}],\n",
       " 564: [{'units': [877, 2040, 1786, 1407, 1014],\n",
       "   'activations': ['selu', 'swish', 'swish', 'swish', 'selu'],\n",
       "   'dropouts': [0.46, 0.03, 0.46, 0.15, 0.21]},\n",
       "  {'units': [993, 1794, 1031],\n",
       "   'activations': ['elu', 'swish', 'selu'],\n",
       "   'dropouts': [0.65, 0.55, 0.36]},\n",
       "  {'units': [520, 709],\n",
       "   'activations': ['elu', 'selu'],\n",
       "   'dropouts': [0.65, 0.63]},\n",
       "  {'units': [670, 1570, 1815, 1285],\n",
       "   'activations': ['elu', 'selu', 'swish', 'selu'],\n",
       "   'dropouts': [0.46, 0.14, 0.6, 0.48]},\n",
       "  {'units': [547, 1556, 1247, 1242, 512],\n",
       "   'activations': ['swish', 'selu', 'elu', 'elu', 'elu'],\n",
       "   'dropouts': [0.38, 0.01, 0.44, 0.48, 0.0]}]}"
      ]
     },
     "execution_count": 28,
     "metadata": {},
     "output_type": "execute_result"
    }
   ],
   "source": [
    "params"
   ]
  },
  {
   "cell_type": "code",
   "execution_count": null,
   "metadata": {
    "papermill": {
     "duration": 312.885506,
     "end_time": "2020-11-25T23:02:32.719535",
     "exception": false,
     "start_time": "2020-11-25T22:57:19.834029",
     "status": "completed"
    },
    "tags": []
   },
   "outputs": [],
   "source": []
  }
 ],
 "metadata": {
  "kernelspec": {
   "display_name": "Python 3",
   "language": "python",
   "name": "python3"
  },
  "language_info": {
   "codemirror_mode": {
    "name": "ipython",
    "version": 3
   },
   "file_extension": ".py",
   "mimetype": "text/x-python",
   "name": "python",
   "nbconvert_exporter": "python",
   "pygments_lexer": "ipython3",
   "version": "3.7.6"
  },
  "papermill": {
   "duration": 22069.564216,
   "end_time": "2020-11-25T23:07:46.772804",
   "environment_variables": {},
   "exception": null,
   "input_path": "__notebook__.ipynb",
   "output_path": "__notebook__.ipynb",
   "parameters": {},
   "start_time": "2020-11-25T16:59:57.208588",
   "version": "2.1.0"
  }
 },
 "nbformat": 4,
 "nbformat_minor": 4
}
